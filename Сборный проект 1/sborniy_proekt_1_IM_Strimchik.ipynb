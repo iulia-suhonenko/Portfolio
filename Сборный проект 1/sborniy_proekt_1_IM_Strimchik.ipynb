{
 "cells": [
  {
   "cell_type": "markdown",
   "metadata": {},
   "source": [
    "### Выявление закономерностей определяющих успешность игры"
   ]
  },
  {
   "cell_type": "markdown",
   "metadata": {},
   "source": [
    "**Интернет - магазин \"СТРИМЧИК\"** продаёт по всему миру компьютерные игры. Из открытых источников доступны исторические данные о продажах игр, оценки пользователей и экспертов, жанры и платформы: например, Xbox или PlayStation.\n",
    "\n",
    "**Задача** - нужно выявить определяющие успешность игры закономерности. Это позволит сделать ставку на потенциально популярный продукт и спланировать рекламные кампании.\n",
    "\n",
    "В нашем распоряжении данные до 2016 года. Представим, что сейчас декабрь 2016 г., и мы планируем кампанию на 2017-й. **Нужно отработать принцип работы с данными.** Не важно, прогнозируем ли мы продажи на 2017 год по данным 2016-го или же 2027-й — по данным 2026 года. \n",
    "\n",
    "**!** В наборе данных попадается аббревиатура **ESRB** (Entertainment Software Rating Board) — это ассоциация, определяющая возрастной рейтинг компьютерных игр. ESRB оценивает игровой контент и присваивает ему подходящую возрастную категорию, например, «Для взрослых», «Для детей младшего возраста» или «Для подростков»."
   ]
  },
  {
   "cell_type": "markdown",
   "metadata": {},
   "source": [
    "<span style=\"color:green\">**План проекта:**</span> \n",
    "1. **Шаг 1.** Ознакомление с общей информацией\n",
    "- Путь к файлу **/datasets/games.csv**\n",
    "- Оценить количество и природу пропусков\n",
    "- Посмотреть дубликаты\n",
    "2. **Шаг 2.** Предобработка данных\n",
    "- Замените названия столбцов (приведите к нижнему регистру);\n",
    "- Преобразуем данные в нужные типы. \n",
    "- Обработаем пропуски там, где это необходимо.\n",
    "     - Обратим внимание на аббревиатуру 'tbd' в столбцах с рейтингом. \n",
    "- Посчитаем суммарные продажи во всех регионах и запишем их в отдельный столбец.\n",
    "3. **Шаг 3.** Исследовательский анализ данных\n",
    "- Посмотрим, сколько игр выпускалось в разные годы. Определим, насколько нам важны данные за все периоды.\n",
    "- Посмотрим, как менялись продажи по платформам. Выберем платформы с наибольшими суммарными продажами и построим распределение по годам. За какой характерный срок появляются новые и исчезают старые платформы.\n",
    "- Возьмем данные за соответствующий актуальный период. Актуальный период определим самостоятельно в результате исследования предыдущих вопросов. Основной фактор — эти данные помогут построить прогноз на 2017 год. \n",
    "- Не будем учитывать в работе данные за предыдущие годы.\n",
    "- Определим, какие платформы лидируют по продажам. Выберем несколько потенциально прибыльных платформ.\n",
    "- Построим график «ящик с усами» по глобальным продажам игр в разбивке по платформам.\n",
    "- Посмотрим, как влияют на продажи внутри одной популярной платформы отзывы пользователей и критиков. Построим диаграмму рассеяния и посчитаем корреляцию между отзывами и продажами. \n",
    "- Соотнесем полученные выводы с продажами игр на других платформах.\n",
    "- Посмотрим на общее распределение игр по жанрам. \n",
    "4. **Шаг 4.** Составим портрет пользователя каждого региона\n",
    "- Определим для пользователя каждого региона (NA, EU, JP):\n",
    "     - Самые популярные платформы (топ-5). \n",
    "     - Самые популярные жанры (топ-5). \n",
    "     - Влияет ли рейтинг ESRB на продажи в отдельном регионе.\n",
    "5. **Шаг 5.** Проверим гипотезы\n",
    "- Средние пользовательские рейтинги платформ Xbox One и PC одинаковые\n",
    "- Средние пользовательские рейтинги жанров Action (англ. «действие», экшен-игры) и Sports (англ. «спортивные соревнования») разные.\n",
    "\n",
    "**Общий вывод**"
   ]
  },
  {
   "cell_type": "markdown",
   "metadata": {},
   "source": [
    "<span style=\"color:green\">**Описание данных**</span> \n",
    "\n",
    "- **Name** — название игры\n",
    "- **Platform** — платформа\n",
    "- **Year_of_Release** — год выпуска\n",
    "- **Genre** — жанр игры\n",
    "- **NA_sales** — продажи в Северной Америке (миллионы проданных копий)\n",
    "- **EU_sales** — продажи в Европе (миллионы проданных копий)\n",
    "- **JP_sales** — продажи в Японии (миллионы проданных копий)\n",
    "- **Other_sales** — продажи в других странах (миллионы проданных копий)\n",
    "- **Critic_Score** — оценка критиков (максимум 100)\n",
    "- **User_Score** — оценка пользователей (максимум 10)\n",
    "- **Rating** — рейтинг от организации ESRB (англ. Entertainment Software Rating Board). Эта ассоциация определяет рейтинг компьютерных игр и присваивает им подходящую возрастную категорию.\n",
    "\n",
    "**Примечание:** *Данные за 2016 год могут быть неполными.*"
   ]
  },
  {
   "cell_type": "markdown",
   "metadata": {},
   "source": [
    "<span style=\"color:brown\">**Импортируем все необходимые для работы библиотеки: для распаковки датафрейма, построения гистограмм, диаграмм и таблиц**</span> "
   ]
  },
  {
   "cell_type": "code",
   "execution_count": 1,
   "metadata": {},
   "outputs": [],
   "source": [
    "import pandas as pd\n",
    "import numpy as np\n",
    "import matplotlib.pyplot as plt\n",
    "from scipy.stats import ttest_ind\n",
    "from scipy import stats as st\n",
    "import seaborn as sns\n",
    "import math\n",
    "import warnings\n",
    "warnings.filterwarnings('ignore')"
   ]
  },
  {
   "cell_type": "markdown",
   "metadata": {},
   "source": [
    "### ШАГ 1. Ознакомление с общей информацией "
   ]
  },
  {
   "cell_type": "code",
   "execution_count": 2,
   "metadata": {},
   "outputs": [],
   "source": [
    "# Пропишем пути к датафрейму  \n",
    "try:\n",
    "    games= pd.read_csv('/datasets/games.csv')\n",
    "except:\n",
    "    games= pd.read_csv('games.csv')"
   ]
  },
  {
   "cell_type": "code",
   "execution_count": 3,
   "metadata": {},
   "outputs": [
    {
     "data": {
      "text/html": [
       "<div>\n",
       "<style scoped>\n",
       "    .dataframe tbody tr th:only-of-type {\n",
       "        vertical-align: middle;\n",
       "    }\n",
       "\n",
       "    .dataframe tbody tr th {\n",
       "        vertical-align: top;\n",
       "    }\n",
       "\n",
       "    .dataframe thead th {\n",
       "        text-align: right;\n",
       "    }\n",
       "</style>\n",
       "<table border=\"1\" class=\"dataframe\">\n",
       "  <thead>\n",
       "    <tr style=\"text-align: right;\">\n",
       "      <th></th>\n",
       "      <th>Name</th>\n",
       "      <th>Platform</th>\n",
       "      <th>Year_of_Release</th>\n",
       "      <th>Genre</th>\n",
       "      <th>NA_sales</th>\n",
       "      <th>EU_sales</th>\n",
       "      <th>JP_sales</th>\n",
       "      <th>Other_sales</th>\n",
       "      <th>Critic_Score</th>\n",
       "      <th>User_Score</th>\n",
       "      <th>Rating</th>\n",
       "    </tr>\n",
       "  </thead>\n",
       "  <tbody>\n",
       "    <tr>\n",
       "      <th>0</th>\n",
       "      <td>Wii Sports</td>\n",
       "      <td>Wii</td>\n",
       "      <td>2006.0</td>\n",
       "      <td>Sports</td>\n",
       "      <td>41.36</td>\n",
       "      <td>28.96</td>\n",
       "      <td>3.77</td>\n",
       "      <td>8.45</td>\n",
       "      <td>76.0</td>\n",
       "      <td>8</td>\n",
       "      <td>E</td>\n",
       "    </tr>\n",
       "    <tr>\n",
       "      <th>1</th>\n",
       "      <td>Super Mario Bros.</td>\n",
       "      <td>NES</td>\n",
       "      <td>1985.0</td>\n",
       "      <td>Platform</td>\n",
       "      <td>29.08</td>\n",
       "      <td>3.58</td>\n",
       "      <td>6.81</td>\n",
       "      <td>0.77</td>\n",
       "      <td>NaN</td>\n",
       "      <td>NaN</td>\n",
       "      <td>NaN</td>\n",
       "    </tr>\n",
       "    <tr>\n",
       "      <th>2</th>\n",
       "      <td>Mario Kart Wii</td>\n",
       "      <td>Wii</td>\n",
       "      <td>2008.0</td>\n",
       "      <td>Racing</td>\n",
       "      <td>15.68</td>\n",
       "      <td>12.76</td>\n",
       "      <td>3.79</td>\n",
       "      <td>3.29</td>\n",
       "      <td>82.0</td>\n",
       "      <td>8.3</td>\n",
       "      <td>E</td>\n",
       "    </tr>\n",
       "    <tr>\n",
       "      <th>3</th>\n",
       "      <td>Wii Sports Resort</td>\n",
       "      <td>Wii</td>\n",
       "      <td>2009.0</td>\n",
       "      <td>Sports</td>\n",
       "      <td>15.61</td>\n",
       "      <td>10.93</td>\n",
       "      <td>3.28</td>\n",
       "      <td>2.95</td>\n",
       "      <td>80.0</td>\n",
       "      <td>8</td>\n",
       "      <td>E</td>\n",
       "    </tr>\n",
       "    <tr>\n",
       "      <th>4</th>\n",
       "      <td>Pokemon Red/Pokemon Blue</td>\n",
       "      <td>GB</td>\n",
       "      <td>1996.0</td>\n",
       "      <td>Role-Playing</td>\n",
       "      <td>11.27</td>\n",
       "      <td>8.89</td>\n",
       "      <td>10.22</td>\n",
       "      <td>1.00</td>\n",
       "      <td>NaN</td>\n",
       "      <td>NaN</td>\n",
       "      <td>NaN</td>\n",
       "    </tr>\n",
       "    <tr>\n",
       "      <th>5</th>\n",
       "      <td>Tetris</td>\n",
       "      <td>GB</td>\n",
       "      <td>1989.0</td>\n",
       "      <td>Puzzle</td>\n",
       "      <td>23.20</td>\n",
       "      <td>2.26</td>\n",
       "      <td>4.22</td>\n",
       "      <td>0.58</td>\n",
       "      <td>NaN</td>\n",
       "      <td>NaN</td>\n",
       "      <td>NaN</td>\n",
       "    </tr>\n",
       "    <tr>\n",
       "      <th>6</th>\n",
       "      <td>New Super Mario Bros.</td>\n",
       "      <td>DS</td>\n",
       "      <td>2006.0</td>\n",
       "      <td>Platform</td>\n",
       "      <td>11.28</td>\n",
       "      <td>9.14</td>\n",
       "      <td>6.50</td>\n",
       "      <td>2.88</td>\n",
       "      <td>89.0</td>\n",
       "      <td>8.5</td>\n",
       "      <td>E</td>\n",
       "    </tr>\n",
       "    <tr>\n",
       "      <th>7</th>\n",
       "      <td>Wii Play</td>\n",
       "      <td>Wii</td>\n",
       "      <td>2006.0</td>\n",
       "      <td>Misc</td>\n",
       "      <td>13.96</td>\n",
       "      <td>9.18</td>\n",
       "      <td>2.93</td>\n",
       "      <td>2.84</td>\n",
       "      <td>58.0</td>\n",
       "      <td>6.6</td>\n",
       "      <td>E</td>\n",
       "    </tr>\n",
       "    <tr>\n",
       "      <th>8</th>\n",
       "      <td>New Super Mario Bros. Wii</td>\n",
       "      <td>Wii</td>\n",
       "      <td>2009.0</td>\n",
       "      <td>Platform</td>\n",
       "      <td>14.44</td>\n",
       "      <td>6.94</td>\n",
       "      <td>4.70</td>\n",
       "      <td>2.24</td>\n",
       "      <td>87.0</td>\n",
       "      <td>8.4</td>\n",
       "      <td>E</td>\n",
       "    </tr>\n",
       "    <tr>\n",
       "      <th>9</th>\n",
       "      <td>Duck Hunt</td>\n",
       "      <td>NES</td>\n",
       "      <td>1984.0</td>\n",
       "      <td>Shooter</td>\n",
       "      <td>26.93</td>\n",
       "      <td>0.63</td>\n",
       "      <td>0.28</td>\n",
       "      <td>0.47</td>\n",
       "      <td>NaN</td>\n",
       "      <td>NaN</td>\n",
       "      <td>NaN</td>\n",
       "    </tr>\n",
       "  </tbody>\n",
       "</table>\n",
       "</div>"
      ],
      "text/plain": [
       "                        Name Platform  Year_of_Release         Genre  \\\n",
       "0                 Wii Sports      Wii           2006.0        Sports   \n",
       "1          Super Mario Bros.      NES           1985.0      Platform   \n",
       "2             Mario Kart Wii      Wii           2008.0        Racing   \n",
       "3          Wii Sports Resort      Wii           2009.0        Sports   \n",
       "4   Pokemon Red/Pokemon Blue       GB           1996.0  Role-Playing   \n",
       "5                     Tetris       GB           1989.0        Puzzle   \n",
       "6      New Super Mario Bros.       DS           2006.0      Platform   \n",
       "7                   Wii Play      Wii           2006.0          Misc   \n",
       "8  New Super Mario Bros. Wii      Wii           2009.0      Platform   \n",
       "9                  Duck Hunt      NES           1984.0       Shooter   \n",
       "\n",
       "   NA_sales  EU_sales  JP_sales  Other_sales  Critic_Score User_Score Rating  \n",
       "0     41.36     28.96      3.77         8.45          76.0          8      E  \n",
       "1     29.08      3.58      6.81         0.77           NaN        NaN    NaN  \n",
       "2     15.68     12.76      3.79         3.29          82.0        8.3      E  \n",
       "3     15.61     10.93      3.28         2.95          80.0          8      E  \n",
       "4     11.27      8.89     10.22         1.00           NaN        NaN    NaN  \n",
       "5     23.20      2.26      4.22         0.58           NaN        NaN    NaN  \n",
       "6     11.28      9.14      6.50         2.88          89.0        8.5      E  \n",
       "7     13.96      9.18      2.93         2.84          58.0        6.6      E  \n",
       "8     14.44      6.94      4.70         2.24          87.0        8.4      E  \n",
       "9     26.93      0.63      0.28         0.47           NaN        NaN    NaN  "
      ]
     },
     "execution_count": 3,
     "metadata": {},
     "output_type": "execute_result"
    }
   ],
   "source": [
    "pd.set_option('display.max_columns', None) # максимальное количество отображающихся столбцов файла\n",
    "games.head(10)"
   ]
  },
  {
   "cell_type": "markdown",
   "metadata": {},
   "source": [
    "**Что сразу бросается в глаза:** Очень много NaN    \n",
    "<span style=\"color:brown\">Посмотрим сколько таких пропусков и в зависимости от количества будем принимать решение, что с ними делать</span>   "
   ]
  },
  {
   "cell_type": "code",
   "execution_count": 4,
   "metadata": {},
   "outputs": [
    {
     "name": "stdout",
     "output_type": "stream",
     "text": [
      "<class 'pandas.core.frame.DataFrame'>\n",
      "RangeIndex: 16715 entries, 0 to 16714\n",
      "Data columns (total 11 columns):\n",
      " #   Column           Non-Null Count  Dtype  \n",
      "---  ------           --------------  -----  \n",
      " 0   Name             16713 non-null  object \n",
      " 1   Platform         16715 non-null  object \n",
      " 2   Year_of_Release  16446 non-null  float64\n",
      " 3   Genre            16713 non-null  object \n",
      " 4   NA_sales         16715 non-null  float64\n",
      " 5   EU_sales         16715 non-null  float64\n",
      " 6   JP_sales         16715 non-null  float64\n",
      " 7   Other_sales      16715 non-null  float64\n",
      " 8   Critic_Score     8137 non-null   float64\n",
      " 9   User_Score       10014 non-null  object \n",
      " 10  Rating           9949 non-null   object \n",
      "dtypes: float64(6), object(5)\n",
      "memory usage: 1.4+ MB\n",
      "\n",
      "Число дубликатов: 0\n"
     ]
    }
   ],
   "source": [
    "# Выведем общую информацию о датафрейме\n",
    "games.info()\n",
    "print('\\nЧисло дубликатов:', games.duplicated().sum())"
   ]
  },
  {
   "cell_type": "markdown",
   "metadata": {},
   "source": [
    "**Вывод:** Итак, всего 16715 строк. В некоторых столбцах: **'Critic_Score', 'User_Score', 'Rating', 'Year_of_Release'**  есть пропущенные значения и некорректный тип данных в столбце **Year_of_Release**. Явные дубликаты отсутствуют."
   ]
  },
  {
   "cell_type": "markdown",
   "metadata": {},
   "source": [
    "### ШАГ 2. Предобработка данных "
   ]
  },
  {
   "cell_type": "markdown",
   "metadata": {},
   "source": [
    "<span style=\"color:brown\">**Находим и изучаем пропущенные значения** </span>"
   ]
  },
  {
   "cell_type": "code",
   "execution_count": 5,
   "metadata": {},
   "outputs": [
    {
     "data": {
      "text/plain": [
       "Name                  2\n",
       "Platform              0\n",
       "Year_of_Release     269\n",
       "Genre                 2\n",
       "NA_sales              0\n",
       "EU_sales              0\n",
       "JP_sales              0\n",
       "Other_sales           0\n",
       "Critic_Score       8578\n",
       "User_Score         6701\n",
       "Rating             6766\n",
       "dtype: int64"
      ]
     },
     "execution_count": 5,
     "metadata": {},
     "output_type": "execute_result"
    }
   ],
   "source": [
    "games.isna().sum()"
   ]
  },
  {
   "cell_type": "markdown",
   "metadata": {},
   "source": [
    "**По порядку:**\n",
    "1. **\"Name\"**(название игры). Пропущено всего 2 значения. Ровно столько же в столбце 'Genre'. \n",
    "2. **\"Year_of_Release\"**(год выпуска). Пропущено около 1,6% данных (269/16715*100 =1,6%). Цифра не критическая, но возьмем в обработку.\n",
    "3. **\"Critic_Score\"**(оценка критиков (максимум 100)). Пропущено около половины всех данных (8578/16715*100 =51,3%).Это важный критерий для анализа данных.\n",
    "4. **\"User_Score\"**(оценка пользователей (максимум 10)). Также, много пропусков, около 40%. Предположим, что их просто нет.\n",
    "5. **\"Rating\"**(рейтинг от организации ESRB). Пропущено наравне с оценкой пользователей. Также будем брать для анализа и обработаем."
   ]
  },
  {
   "cell_type": "markdown",
   "metadata": {},
   "source": [
    "<span style=\"color:brown\">**Подготовим данные** </span>\n",
    "- Названия столбцов не соответствуют snake_case, приведем их к нижнему регистру, выведем на экран"
   ]
  },
  {
   "cell_type": "code",
   "execution_count": 6,
   "metadata": {},
   "outputs": [
    {
     "data": {
      "text/plain": [
       "Index(['name', 'platform', 'year_of_release', 'genre', 'na_sales', 'eu_sales',\n",
       "       'jp_sales', 'other_sales', 'critic_score', 'user_score', 'rating'],\n",
       "      dtype='object')"
      ]
     },
     "execution_count": 6,
     "metadata": {},
     "output_type": "execute_result"
    }
   ],
   "source": [
    "games.columns= games.columns.str.lower()\n",
    "games.columns"
   ]
  },
  {
   "cell_type": "markdown",
   "metadata": {},
   "source": [
    "<span style=\"color:brown\">**Пропуски**</span>\n",
    "   - В столбце **'name'** отсутствуют два значения, причем, в этих же строчках отсутствуют данные в столбце **'genre'**. Мы не можем заменить эти данные ни на среднее, ни на медианное значение, или восстановить каим-тот образом. Удаление 2-ух строк в нашей выборке не повлияет на результат. Удалим их."
   ]
  },
  {
   "cell_type": "code",
   "execution_count": 7,
   "metadata": {},
   "outputs": [
    {
     "data": {
      "text/html": [
       "<div>\n",
       "<style scoped>\n",
       "    .dataframe tbody tr th:only-of-type {\n",
       "        vertical-align: middle;\n",
       "    }\n",
       "\n",
       "    .dataframe tbody tr th {\n",
       "        vertical-align: top;\n",
       "    }\n",
       "\n",
       "    .dataframe thead th {\n",
       "        text-align: right;\n",
       "    }\n",
       "</style>\n",
       "<table border=\"1\" class=\"dataframe\">\n",
       "  <thead>\n",
       "    <tr style=\"text-align: right;\">\n",
       "      <th></th>\n",
       "      <th>name</th>\n",
       "      <th>platform</th>\n",
       "      <th>year_of_release</th>\n",
       "      <th>genre</th>\n",
       "      <th>na_sales</th>\n",
       "      <th>eu_sales</th>\n",
       "      <th>jp_sales</th>\n",
       "      <th>other_sales</th>\n",
       "      <th>critic_score</th>\n",
       "      <th>user_score</th>\n",
       "      <th>rating</th>\n",
       "    </tr>\n",
       "  </thead>\n",
       "  <tbody>\n",
       "    <tr>\n",
       "      <th>659</th>\n",
       "      <td>NaN</td>\n",
       "      <td>GEN</td>\n",
       "      <td>1993.0</td>\n",
       "      <td>NaN</td>\n",
       "      <td>1.78</td>\n",
       "      <td>0.53</td>\n",
       "      <td>0.00</td>\n",
       "      <td>0.08</td>\n",
       "      <td>NaN</td>\n",
       "      <td>NaN</td>\n",
       "      <td>NaN</td>\n",
       "    </tr>\n",
       "    <tr>\n",
       "      <th>14244</th>\n",
       "      <td>NaN</td>\n",
       "      <td>GEN</td>\n",
       "      <td>1993.0</td>\n",
       "      <td>NaN</td>\n",
       "      <td>0.00</td>\n",
       "      <td>0.00</td>\n",
       "      <td>0.03</td>\n",
       "      <td>0.00</td>\n",
       "      <td>NaN</td>\n",
       "      <td>NaN</td>\n",
       "      <td>NaN</td>\n",
       "    </tr>\n",
       "  </tbody>\n",
       "</table>\n",
       "</div>"
      ],
      "text/plain": [
       "      name platform  year_of_release genre  na_sales  eu_sales  jp_sales  \\\n",
       "659    NaN      GEN           1993.0   NaN      1.78      0.53      0.00   \n",
       "14244  NaN      GEN           1993.0   NaN      0.00      0.00      0.03   \n",
       "\n",
       "       other_sales  critic_score user_score rating  \n",
       "659           0.08           NaN        NaN    NaN  \n",
       "14244         0.00           NaN        NaN    NaN  "
      ]
     },
     "execution_count": 7,
     "metadata": {},
     "output_type": "execute_result"
    }
   ],
   "source": [
    "games[games['name'].isna()]"
   ]
  },
  {
   "cell_type": "code",
   "execution_count": 8,
   "metadata": {},
   "outputs": [],
   "source": [
    "games= games.dropna(subset= ['name']).reset_index(drop= True)"
   ]
  },
  {
   "cell_type": "code",
   "execution_count": 9,
   "metadata": {},
   "outputs": [
    {
     "data": {
      "text/html": [
       "<div>\n",
       "<style scoped>\n",
       "    .dataframe tbody tr th:only-of-type {\n",
       "        vertical-align: middle;\n",
       "    }\n",
       "\n",
       "    .dataframe tbody tr th {\n",
       "        vertical-align: top;\n",
       "    }\n",
       "\n",
       "    .dataframe thead th {\n",
       "        text-align: right;\n",
       "    }\n",
       "</style>\n",
       "<table border=\"1\" class=\"dataframe\">\n",
       "  <thead>\n",
       "    <tr style=\"text-align: right;\">\n",
       "      <th></th>\n",
       "      <th>name</th>\n",
       "      <th>platform</th>\n",
       "      <th>year_of_release</th>\n",
       "      <th>genre</th>\n",
       "      <th>na_sales</th>\n",
       "      <th>eu_sales</th>\n",
       "      <th>jp_sales</th>\n",
       "      <th>other_sales</th>\n",
       "      <th>critic_score</th>\n",
       "      <th>user_score</th>\n",
       "      <th>rating</th>\n",
       "    </tr>\n",
       "  </thead>\n",
       "  <tbody>\n",
       "  </tbody>\n",
       "</table>\n",
       "</div>"
      ],
      "text/plain": [
       "Empty DataFrame\n",
       "Columns: [name, platform, year_of_release, genre, na_sales, eu_sales, jp_sales, other_sales, critic_score, user_score, rating]\n",
       "Index: []"
      ]
     },
     "execution_count": 9,
     "metadata": {},
     "output_type": "execute_result"
    }
   ],
   "source": [
    "games[games['name'].isna()]# Проверим, что этих данных больше нет"
   ]
  },
  {
   "cell_type": "markdown",
   "metadata": {},
   "source": [
    "   - В столбце **'year_of_release'** , как мы выяснили, 1.6 % данных отсутствуют. Это небольшое количество данных, которыми также можно пренебречь. Удалим их.  \n",
    "*Можно было бы восстановить год по названию  игры, так как много повторений. Но есть игры, в которых нет года ни в одном варианте. Например, Rock Band. Вообще, не понятно, когда была выпущена игра.*"
   ]
  },
  {
   "cell_type": "code",
   "execution_count": 10,
   "metadata": {},
   "outputs": [],
   "source": [
    "games= games.dropna(subset= ['year_of_release']).reset_index(drop= True)"
   ]
  },
  {
   "cell_type": "markdown",
   "metadata": {},
   "source": [
    "- В столбце **'user_score'** , как мы выяснили, 40 % данных отсутствуют. Для аналитики это один из ключевых факторов, будем заполнять. Оценку нельзя заменить медианой или средним значением, каждый пользователь индивидуально оценивает игру. Поэтому, логично будет заменить на NaN. Кроме того, в столбце есть и другие значения."
   ]
  },
  {
   "cell_type": "code",
   "execution_count": 11,
   "metadata": {},
   "outputs": [
    {
     "data": {
      "text/plain": [
       "array(['8', nan, '8.3', '8.5', '6.6', '8.4', '8.6', '7.7', '6.3', '7.4',\n",
       "       '8.2', '9', '7.9', '8.1', '8.7', '7.1', '3.4', '5.3', '4.8', '3.2',\n",
       "       '8.9', '6.4', '7.8', '7.5', '2.6', '7.2', '9.2', '7', '7.3', '4.3',\n",
       "       '7.6', '5.7', '5', '9.1', '6.5', 'tbd', '8.8', '6.9', '9.4', '6.8',\n",
       "       '6.1', '6.7', '5.4', '4', '4.9', '4.5', '9.3', '6.2', '4.2', '6',\n",
       "       '3.7', '4.1', '5.8', '5.6', '5.5', '4.4', '4.6', '5.9', '3.9',\n",
       "       '3.1', '2.9', '5.2', '3.3', '4.7', '5.1', '3.5', '2.5', '1.9', '3',\n",
       "       '2.7', '2.2', '2', '9.5', '2.1', '3.6', '2.8', '1.8', '3.8', '0',\n",
       "       '1.6', '9.6', '2.4', '1.7', '1.1', '0.3', '1.5', '0.7', '1.2',\n",
       "       '2.3', '0.5', '1.3', '0.2', '0.6', '1.4', '0.9', '1', '9.7'],\n",
       "      dtype=object)"
      ]
     },
     "execution_count": 11,
     "metadata": {},
     "output_type": "execute_result"
    }
   ],
   "source": [
    "games['user_score'].unique()"
   ]
  },
  {
   "cell_type": "markdown",
   "metadata": {},
   "source": [
    "**\"tbd\"** - аббревиатура от английского To Be Determined (будет определено) или To Be Decided (будет решено). Используется, если какая-то информация еще не определена или решение по вопросу не принято. Акроним служит для отметки неясностей или пропусков, которые надо заполнить, в информации требований. Мы будем заполнять такие пропуски на NaN. Очевидно, что это то же самое. "
   ]
  },
  {
   "cell_type": "code",
   "execution_count": 12,
   "metadata": {},
   "outputs": [
    {
     "data": {
      "text/html": [
       "<div>\n",
       "<style scoped>\n",
       "    .dataframe tbody tr th:only-of-type {\n",
       "        vertical-align: middle;\n",
       "    }\n",
       "\n",
       "    .dataframe tbody tr th {\n",
       "        vertical-align: top;\n",
       "    }\n",
       "\n",
       "    .dataframe thead th {\n",
       "        text-align: right;\n",
       "    }\n",
       "</style>\n",
       "<table border=\"1\" class=\"dataframe\">\n",
       "  <thead>\n",
       "    <tr style=\"text-align: right;\">\n",
       "      <th></th>\n",
       "      <th>name</th>\n",
       "      <th>platform</th>\n",
       "      <th>year_of_release</th>\n",
       "      <th>genre</th>\n",
       "      <th>na_sales</th>\n",
       "      <th>eu_sales</th>\n",
       "      <th>jp_sales</th>\n",
       "      <th>other_sales</th>\n",
       "      <th>critic_score</th>\n",
       "      <th>user_score</th>\n",
       "      <th>rating</th>\n",
       "    </tr>\n",
       "  </thead>\n",
       "  <tbody>\n",
       "    <tr>\n",
       "      <th>119</th>\n",
       "      <td>Zumba Fitness</td>\n",
       "      <td>Wii</td>\n",
       "      <td>2010.0</td>\n",
       "      <td>Sports</td>\n",
       "      <td>3.45</td>\n",
       "      <td>2.59</td>\n",
       "      <td>0.0</td>\n",
       "      <td>0.66</td>\n",
       "      <td>NaN</td>\n",
       "      <td>tbd</td>\n",
       "      <td>E</td>\n",
       "    </tr>\n",
       "    <tr>\n",
       "      <th>300</th>\n",
       "      <td>Namco Museum: 50th Anniversary</td>\n",
       "      <td>PS2</td>\n",
       "      <td>2005.0</td>\n",
       "      <td>Misc</td>\n",
       "      <td>2.08</td>\n",
       "      <td>1.35</td>\n",
       "      <td>0.0</td>\n",
       "      <td>0.54</td>\n",
       "      <td>61.0</td>\n",
       "      <td>tbd</td>\n",
       "      <td>E10+</td>\n",
       "    </tr>\n",
       "    <tr>\n",
       "      <th>516</th>\n",
       "      <td>Zumba Fitness 2</td>\n",
       "      <td>Wii</td>\n",
       "      <td>2011.0</td>\n",
       "      <td>Sports</td>\n",
       "      <td>1.51</td>\n",
       "      <td>1.03</td>\n",
       "      <td>0.0</td>\n",
       "      <td>0.27</td>\n",
       "      <td>NaN</td>\n",
       "      <td>tbd</td>\n",
       "      <td>T</td>\n",
       "    </tr>\n",
       "    <tr>\n",
       "      <th>639</th>\n",
       "      <td>uDraw Studio</td>\n",
       "      <td>Wii</td>\n",
       "      <td>2010.0</td>\n",
       "      <td>Misc</td>\n",
       "      <td>1.65</td>\n",
       "      <td>0.57</td>\n",
       "      <td>0.0</td>\n",
       "      <td>0.20</td>\n",
       "      <td>71.0</td>\n",
       "      <td>tbd</td>\n",
       "      <td>E</td>\n",
       "    </tr>\n",
       "    <tr>\n",
       "      <th>709</th>\n",
       "      <td>Just Dance Kids</td>\n",
       "      <td>Wii</td>\n",
       "      <td>2010.0</td>\n",
       "      <td>Misc</td>\n",
       "      <td>1.52</td>\n",
       "      <td>0.54</td>\n",
       "      <td>0.0</td>\n",
       "      <td>0.18</td>\n",
       "      <td>NaN</td>\n",
       "      <td>tbd</td>\n",
       "      <td>E</td>\n",
       "    </tr>\n",
       "    <tr>\n",
       "      <th>...</th>\n",
       "      <td>...</td>\n",
       "      <td>...</td>\n",
       "      <td>...</td>\n",
       "      <td>...</td>\n",
       "      <td>...</td>\n",
       "      <td>...</td>\n",
       "      <td>...</td>\n",
       "      <td>...</td>\n",
       "      <td>...</td>\n",
       "      <td>...</td>\n",
       "      <td>...</td>\n",
       "    </tr>\n",
       "    <tr>\n",
       "      <th>16424</th>\n",
       "      <td>Planet Monsters</td>\n",
       "      <td>GBA</td>\n",
       "      <td>2001.0</td>\n",
       "      <td>Action</td>\n",
       "      <td>0.01</td>\n",
       "      <td>0.00</td>\n",
       "      <td>0.0</td>\n",
       "      <td>0.00</td>\n",
       "      <td>67.0</td>\n",
       "      <td>tbd</td>\n",
       "      <td>E</td>\n",
       "    </tr>\n",
       "    <tr>\n",
       "      <th>16426</th>\n",
       "      <td>Bust-A-Move 3000</td>\n",
       "      <td>GC</td>\n",
       "      <td>2003.0</td>\n",
       "      <td>Puzzle</td>\n",
       "      <td>0.01</td>\n",
       "      <td>0.00</td>\n",
       "      <td>0.0</td>\n",
       "      <td>0.00</td>\n",
       "      <td>53.0</td>\n",
       "      <td>tbd</td>\n",
       "      <td>E</td>\n",
       "    </tr>\n",
       "    <tr>\n",
       "      <th>16427</th>\n",
       "      <td>Mega Brain Boost</td>\n",
       "      <td>DS</td>\n",
       "      <td>2008.0</td>\n",
       "      <td>Puzzle</td>\n",
       "      <td>0.01</td>\n",
       "      <td>0.00</td>\n",
       "      <td>0.0</td>\n",
       "      <td>0.00</td>\n",
       "      <td>48.0</td>\n",
       "      <td>tbd</td>\n",
       "      <td>E</td>\n",
       "    </tr>\n",
       "    <tr>\n",
       "      <th>16433</th>\n",
       "      <td>Plushees</td>\n",
       "      <td>DS</td>\n",
       "      <td>2008.0</td>\n",
       "      <td>Simulation</td>\n",
       "      <td>0.01</td>\n",
       "      <td>0.00</td>\n",
       "      <td>0.0</td>\n",
       "      <td>0.00</td>\n",
       "      <td>NaN</td>\n",
       "      <td>tbd</td>\n",
       "      <td>E</td>\n",
       "    </tr>\n",
       "    <tr>\n",
       "      <th>16435</th>\n",
       "      <td>Men in Black II: Alien Escape</td>\n",
       "      <td>GC</td>\n",
       "      <td>2003.0</td>\n",
       "      <td>Shooter</td>\n",
       "      <td>0.01</td>\n",
       "      <td>0.00</td>\n",
       "      <td>0.0</td>\n",
       "      <td>0.00</td>\n",
       "      <td>NaN</td>\n",
       "      <td>tbd</td>\n",
       "      <td>T</td>\n",
       "    </tr>\n",
       "  </tbody>\n",
       "</table>\n",
       "<p>2376 rows × 11 columns</p>\n",
       "</div>"
      ],
      "text/plain": [
       "                                 name platform  year_of_release       genre  \\\n",
       "119                     Zumba Fitness      Wii           2010.0      Sports   \n",
       "300    Namco Museum: 50th Anniversary      PS2           2005.0        Misc   \n",
       "516                   Zumba Fitness 2      Wii           2011.0      Sports   \n",
       "639                      uDraw Studio      Wii           2010.0        Misc   \n",
       "709                   Just Dance Kids      Wii           2010.0        Misc   \n",
       "...                               ...      ...              ...         ...   \n",
       "16424                 Planet Monsters      GBA           2001.0      Action   \n",
       "16426                Bust-A-Move 3000       GC           2003.0      Puzzle   \n",
       "16427                Mega Brain Boost       DS           2008.0      Puzzle   \n",
       "16433                        Plushees       DS           2008.0  Simulation   \n",
       "16435   Men in Black II: Alien Escape       GC           2003.0     Shooter   \n",
       "\n",
       "       na_sales  eu_sales  jp_sales  other_sales  critic_score user_score  \\\n",
       "119        3.45      2.59       0.0         0.66           NaN        tbd   \n",
       "300        2.08      1.35       0.0         0.54          61.0        tbd   \n",
       "516        1.51      1.03       0.0         0.27           NaN        tbd   \n",
       "639        1.65      0.57       0.0         0.20          71.0        tbd   \n",
       "709        1.52      0.54       0.0         0.18           NaN        tbd   \n",
       "...         ...       ...       ...          ...           ...        ...   \n",
       "16424      0.01      0.00       0.0         0.00          67.0        tbd   \n",
       "16426      0.01      0.00       0.0         0.00          53.0        tbd   \n",
       "16427      0.01      0.00       0.0         0.00          48.0        tbd   \n",
       "16433      0.01      0.00       0.0         0.00           NaN        tbd   \n",
       "16435      0.01      0.00       0.0         0.00           NaN        tbd   \n",
       "\n",
       "      rating  \n",
       "119        E  \n",
       "300     E10+  \n",
       "516        T  \n",
       "639        E  \n",
       "709        E  \n",
       "...      ...  \n",
       "16424      E  \n",
       "16426      E  \n",
       "16427      E  \n",
       "16433      E  \n",
       "16435      T  \n",
       "\n",
       "[2376 rows x 11 columns]"
      ]
     },
     "execution_count": 12,
     "metadata": {},
     "output_type": "execute_result"
    }
   ],
   "source": [
    "# Посмотрим, сколько у нас таких значений\n",
    "games[games['user_score']== 'tbd']"
   ]
  },
  {
   "cell_type": "markdown",
   "metadata": {},
   "source": [
    "2376 значений, удалять нельзя. Точно, делаем замену **'tbd' на NaN**. Применим метод **replace**\n",
    "- кроме того, данные имеют тип **object**, что не соответствует типу данных, это же числовое значение. Заменим на float."
   ]
  },
  {
   "cell_type": "code",
   "execution_count": 13,
   "metadata": {},
   "outputs": [],
   "source": [
    "games['user_score']= games['user_score'].replace('tbd', np.NaN)\n",
    "games['user_score']= games['user_score'].astype('float')"
   ]
  },
  {
   "cell_type": "code",
   "execution_count": 14,
   "metadata": {},
   "outputs": [
    {
     "data": {
      "text/html": [
       "<div>\n",
       "<style scoped>\n",
       "    .dataframe tbody tr th:only-of-type {\n",
       "        vertical-align: middle;\n",
       "    }\n",
       "\n",
       "    .dataframe tbody tr th {\n",
       "        vertical-align: top;\n",
       "    }\n",
       "\n",
       "    .dataframe thead th {\n",
       "        text-align: right;\n",
       "    }\n",
       "</style>\n",
       "<table border=\"1\" class=\"dataframe\">\n",
       "  <thead>\n",
       "    <tr style=\"text-align: right;\">\n",
       "      <th></th>\n",
       "      <th>name</th>\n",
       "      <th>platform</th>\n",
       "      <th>year_of_release</th>\n",
       "      <th>genre</th>\n",
       "      <th>na_sales</th>\n",
       "      <th>eu_sales</th>\n",
       "      <th>jp_sales</th>\n",
       "      <th>other_sales</th>\n",
       "      <th>critic_score</th>\n",
       "      <th>user_score</th>\n",
       "      <th>rating</th>\n",
       "    </tr>\n",
       "  </thead>\n",
       "  <tbody>\n",
       "  </tbody>\n",
       "</table>\n",
       "</div>"
      ],
      "text/plain": [
       "Empty DataFrame\n",
       "Columns: [name, platform, year_of_release, genre, na_sales, eu_sales, jp_sales, other_sales, critic_score, user_score, rating]\n",
       "Index: []"
      ]
     },
     "execution_count": 14,
     "metadata": {},
     "output_type": "execute_result"
    }
   ],
   "source": [
    "games[games['user_score']=='tbd']# Проверим, что замена произошла"
   ]
  },
  {
   "cell_type": "markdown",
   "metadata": {},
   "source": [
    "<span style=\"color:brown\">**Преобразуем данные в нужные типы.**</span>\n",
    "   - **'year_of_release'** приведем к целочисленному значению, год выпуска не может иметь тип float   "
   ]
  },
  {
   "cell_type": "code",
   "execution_count": 15,
   "metadata": {},
   "outputs": [],
   "source": [
    "games['year_of_release']= games['year_of_release'].astype('Int64')\n",
    "games['year_of_release']= games['year_of_release'].fillna(0)# меняем пропуски в столбце 'year_of_release' на 0"
   ]
  },
  {
   "cell_type": "code",
   "execution_count": 16,
   "metadata": {},
   "outputs": [
    {
     "data": {
      "text/html": [
       "<div>\n",
       "<style scoped>\n",
       "    .dataframe tbody tr th:only-of-type {\n",
       "        vertical-align: middle;\n",
       "    }\n",
       "\n",
       "    .dataframe tbody tr th {\n",
       "        vertical-align: top;\n",
       "    }\n",
       "\n",
       "    .dataframe thead th {\n",
       "        text-align: right;\n",
       "    }\n",
       "</style>\n",
       "<table border=\"1\" class=\"dataframe\">\n",
       "  <thead>\n",
       "    <tr style=\"text-align: right;\">\n",
       "      <th></th>\n",
       "      <th>name</th>\n",
       "      <th>platform</th>\n",
       "      <th>year_of_release</th>\n",
       "      <th>genre</th>\n",
       "      <th>na_sales</th>\n",
       "      <th>eu_sales</th>\n",
       "      <th>jp_sales</th>\n",
       "      <th>other_sales</th>\n",
       "      <th>critic_score</th>\n",
       "      <th>user_score</th>\n",
       "      <th>rating</th>\n",
       "    </tr>\n",
       "  </thead>\n",
       "  <tbody>\n",
       "    <tr>\n",
       "      <th>0</th>\n",
       "      <td>Wii Sports</td>\n",
       "      <td>Wii</td>\n",
       "      <td>2006</td>\n",
       "      <td>Sports</td>\n",
       "      <td>41.36</td>\n",
       "      <td>28.96</td>\n",
       "      <td>3.77</td>\n",
       "      <td>8.45</td>\n",
       "      <td>76.0</td>\n",
       "      <td>8.0</td>\n",
       "      <td>E</td>\n",
       "    </tr>\n",
       "    <tr>\n",
       "      <th>1</th>\n",
       "      <td>Super Mario Bros.</td>\n",
       "      <td>NES</td>\n",
       "      <td>1985</td>\n",
       "      <td>Platform</td>\n",
       "      <td>29.08</td>\n",
       "      <td>3.58</td>\n",
       "      <td>6.81</td>\n",
       "      <td>0.77</td>\n",
       "      <td>NaN</td>\n",
       "      <td>NaN</td>\n",
       "      <td>NaN</td>\n",
       "    </tr>\n",
       "    <tr>\n",
       "      <th>2</th>\n",
       "      <td>Mario Kart Wii</td>\n",
       "      <td>Wii</td>\n",
       "      <td>2008</td>\n",
       "      <td>Racing</td>\n",
       "      <td>15.68</td>\n",
       "      <td>12.76</td>\n",
       "      <td>3.79</td>\n",
       "      <td>3.29</td>\n",
       "      <td>82.0</td>\n",
       "      <td>8.3</td>\n",
       "      <td>E</td>\n",
       "    </tr>\n",
       "    <tr>\n",
       "      <th>3</th>\n",
       "      <td>Wii Sports Resort</td>\n",
       "      <td>Wii</td>\n",
       "      <td>2009</td>\n",
       "      <td>Sports</td>\n",
       "      <td>15.61</td>\n",
       "      <td>10.93</td>\n",
       "      <td>3.28</td>\n",
       "      <td>2.95</td>\n",
       "      <td>80.0</td>\n",
       "      <td>8.0</td>\n",
       "      <td>E</td>\n",
       "    </tr>\n",
       "    <tr>\n",
       "      <th>4</th>\n",
       "      <td>Pokemon Red/Pokemon Blue</td>\n",
       "      <td>GB</td>\n",
       "      <td>1996</td>\n",
       "      <td>Role-Playing</td>\n",
       "      <td>11.27</td>\n",
       "      <td>8.89</td>\n",
       "      <td>10.22</td>\n",
       "      <td>1.00</td>\n",
       "      <td>NaN</td>\n",
       "      <td>NaN</td>\n",
       "      <td>NaN</td>\n",
       "    </tr>\n",
       "  </tbody>\n",
       "</table>\n",
       "</div>"
      ],
      "text/plain": [
       "                       name platform  year_of_release         genre  na_sales  \\\n",
       "0                Wii Sports      Wii             2006        Sports     41.36   \n",
       "1         Super Mario Bros.      NES             1985      Platform     29.08   \n",
       "2            Mario Kart Wii      Wii             2008        Racing     15.68   \n",
       "3         Wii Sports Resort      Wii             2009        Sports     15.61   \n",
       "4  Pokemon Red/Pokemon Blue       GB             1996  Role-Playing     11.27   \n",
       "\n",
       "   eu_sales  jp_sales  other_sales  critic_score  user_score rating  \n",
       "0     28.96      3.77         8.45          76.0         8.0      E  \n",
       "1      3.58      6.81         0.77           NaN         NaN    NaN  \n",
       "2     12.76      3.79         3.29          82.0         8.3      E  \n",
       "3     10.93      3.28         2.95          80.0         8.0      E  \n",
       "4      8.89     10.22         1.00           NaN         NaN    NaN  "
      ]
     },
     "execution_count": 16,
     "metadata": {},
     "output_type": "execute_result"
    }
   ],
   "source": [
    "games.head()# Проверим, всё ли Ок"
   ]
  },
  {
   "cell_type": "markdown",
   "metadata": {},
   "source": [
    "Пропуски в столбце **rating** заменим на **ND**(no data). Пропуски в столбцах с оценками пользователей и критиков не будем заполнять, оставим как есть. Возможно, эти игры не были популярны, либо в это время не было возможности сбора информации о рейтингах, либо игра так и не вышла на мировой рынок.  "
   ]
  },
  {
   "cell_type": "code",
   "execution_count": 17,
   "metadata": {},
   "outputs": [],
   "source": [
    "games['rating']= games['rating'].fillna(value='ND')\n",
    "games['rating']= games['rating'].replace('K-A', 'E') # с 1998 года прошла замена K-A на E"
   ]
  },
  {
   "cell_type": "code",
   "execution_count": 18,
   "metadata": {},
   "outputs": [
    {
     "data": {
      "text/html": [
       "<div>\n",
       "<style scoped>\n",
       "    .dataframe tbody tr th:only-of-type {\n",
       "        vertical-align: middle;\n",
       "    }\n",
       "\n",
       "    .dataframe tbody tr th {\n",
       "        vertical-align: top;\n",
       "    }\n",
       "\n",
       "    .dataframe thead th {\n",
       "        text-align: right;\n",
       "    }\n",
       "</style>\n",
       "<table border=\"1\" class=\"dataframe\">\n",
       "  <thead>\n",
       "    <tr style=\"text-align: right;\">\n",
       "      <th></th>\n",
       "      <th>name</th>\n",
       "      <th>platform</th>\n",
       "      <th>year_of_release</th>\n",
       "      <th>genre</th>\n",
       "      <th>na_sales</th>\n",
       "      <th>eu_sales</th>\n",
       "      <th>jp_sales</th>\n",
       "      <th>other_sales</th>\n",
       "      <th>critic_score</th>\n",
       "      <th>user_score</th>\n",
       "      <th>rating</th>\n",
       "    </tr>\n",
       "  </thead>\n",
       "  <tbody>\n",
       "    <tr>\n",
       "      <th>0</th>\n",
       "      <td>Wii Sports</td>\n",
       "      <td>Wii</td>\n",
       "      <td>2006</td>\n",
       "      <td>Sports</td>\n",
       "      <td>41.36</td>\n",
       "      <td>28.96</td>\n",
       "      <td>3.77</td>\n",
       "      <td>8.45</td>\n",
       "      <td>76.0</td>\n",
       "      <td>8.0</td>\n",
       "      <td>E</td>\n",
       "    </tr>\n",
       "    <tr>\n",
       "      <th>1</th>\n",
       "      <td>Super Mario Bros.</td>\n",
       "      <td>NES</td>\n",
       "      <td>1985</td>\n",
       "      <td>Platform</td>\n",
       "      <td>29.08</td>\n",
       "      <td>3.58</td>\n",
       "      <td>6.81</td>\n",
       "      <td>0.77</td>\n",
       "      <td>NaN</td>\n",
       "      <td>NaN</td>\n",
       "      <td>ND</td>\n",
       "    </tr>\n",
       "    <tr>\n",
       "      <th>2</th>\n",
       "      <td>Mario Kart Wii</td>\n",
       "      <td>Wii</td>\n",
       "      <td>2008</td>\n",
       "      <td>Racing</td>\n",
       "      <td>15.68</td>\n",
       "      <td>12.76</td>\n",
       "      <td>3.79</td>\n",
       "      <td>3.29</td>\n",
       "      <td>82.0</td>\n",
       "      <td>8.3</td>\n",
       "      <td>E</td>\n",
       "    </tr>\n",
       "    <tr>\n",
       "      <th>3</th>\n",
       "      <td>Wii Sports Resort</td>\n",
       "      <td>Wii</td>\n",
       "      <td>2009</td>\n",
       "      <td>Sports</td>\n",
       "      <td>15.61</td>\n",
       "      <td>10.93</td>\n",
       "      <td>3.28</td>\n",
       "      <td>2.95</td>\n",
       "      <td>80.0</td>\n",
       "      <td>8.0</td>\n",
       "      <td>E</td>\n",
       "    </tr>\n",
       "    <tr>\n",
       "      <th>4</th>\n",
       "      <td>Pokemon Red/Pokemon Blue</td>\n",
       "      <td>GB</td>\n",
       "      <td>1996</td>\n",
       "      <td>Role-Playing</td>\n",
       "      <td>11.27</td>\n",
       "      <td>8.89</td>\n",
       "      <td>10.22</td>\n",
       "      <td>1.00</td>\n",
       "      <td>NaN</td>\n",
       "      <td>NaN</td>\n",
       "      <td>ND</td>\n",
       "    </tr>\n",
       "  </tbody>\n",
       "</table>\n",
       "</div>"
      ],
      "text/plain": [
       "                       name platform  year_of_release         genre  na_sales  \\\n",
       "0                Wii Sports      Wii             2006        Sports     41.36   \n",
       "1         Super Mario Bros.      NES             1985      Platform     29.08   \n",
       "2            Mario Kart Wii      Wii             2008        Racing     15.68   \n",
       "3         Wii Sports Resort      Wii             2009        Sports     15.61   \n",
       "4  Pokemon Red/Pokemon Blue       GB             1996  Role-Playing     11.27   \n",
       "\n",
       "   eu_sales  jp_sales  other_sales  critic_score  user_score rating  \n",
       "0     28.96      3.77         8.45          76.0         8.0      E  \n",
       "1      3.58      6.81         0.77           NaN         NaN     ND  \n",
       "2     12.76      3.79         3.29          82.0         8.3      E  \n",
       "3     10.93      3.28         2.95          80.0         8.0      E  \n",
       "4      8.89     10.22         1.00           NaN         NaN     ND  "
      ]
     },
     "execution_count": 18,
     "metadata": {},
     "output_type": "execute_result"
    }
   ],
   "source": [
    "games.head()# Проверим замену"
   ]
  },
  {
   "cell_type": "markdown",
   "metadata": {},
   "source": [
    "Посчитаем суммарные продажи во всех регионах и запишем их в отдельный столбец **'total_sales'**"
   ]
  },
  {
   "cell_type": "code",
   "execution_count": 19,
   "metadata": {},
   "outputs": [],
   "source": [
    "#games['total_sales']= games['na_sales'] + games['eu_sales'] + games['jp_sales'] + games['other_sales']\n",
    "games['total_sales']= games[['na_sales','eu_sales','jp_sales', 'other_sales']].sum(axis = 1)"
   ]
  },
  {
   "cell_type": "code",
   "execution_count": 20,
   "metadata": {},
   "outputs": [
    {
     "data": {
      "text/html": [
       "<div>\n",
       "<style scoped>\n",
       "    .dataframe tbody tr th:only-of-type {\n",
       "        vertical-align: middle;\n",
       "    }\n",
       "\n",
       "    .dataframe tbody tr th {\n",
       "        vertical-align: top;\n",
       "    }\n",
       "\n",
       "    .dataframe thead th {\n",
       "        text-align: right;\n",
       "    }\n",
       "</style>\n",
       "<table border=\"1\" class=\"dataframe\">\n",
       "  <thead>\n",
       "    <tr style=\"text-align: right;\">\n",
       "      <th></th>\n",
       "      <th>name</th>\n",
       "      <th>platform</th>\n",
       "      <th>year_of_release</th>\n",
       "      <th>genre</th>\n",
       "      <th>na_sales</th>\n",
       "      <th>eu_sales</th>\n",
       "      <th>jp_sales</th>\n",
       "      <th>other_sales</th>\n",
       "      <th>critic_score</th>\n",
       "      <th>user_score</th>\n",
       "      <th>rating</th>\n",
       "      <th>total_sales</th>\n",
       "    </tr>\n",
       "  </thead>\n",
       "  <tbody>\n",
       "    <tr>\n",
       "      <th>0</th>\n",
       "      <td>Wii Sports</td>\n",
       "      <td>Wii</td>\n",
       "      <td>2006</td>\n",
       "      <td>Sports</td>\n",
       "      <td>41.36</td>\n",
       "      <td>28.96</td>\n",
       "      <td>3.77</td>\n",
       "      <td>8.45</td>\n",
       "      <td>76.0</td>\n",
       "      <td>8.0</td>\n",
       "      <td>E</td>\n",
       "      <td>82.54</td>\n",
       "    </tr>\n",
       "    <tr>\n",
       "      <th>1</th>\n",
       "      <td>Super Mario Bros.</td>\n",
       "      <td>NES</td>\n",
       "      <td>1985</td>\n",
       "      <td>Platform</td>\n",
       "      <td>29.08</td>\n",
       "      <td>3.58</td>\n",
       "      <td>6.81</td>\n",
       "      <td>0.77</td>\n",
       "      <td>NaN</td>\n",
       "      <td>NaN</td>\n",
       "      <td>ND</td>\n",
       "      <td>40.24</td>\n",
       "    </tr>\n",
       "    <tr>\n",
       "      <th>2</th>\n",
       "      <td>Mario Kart Wii</td>\n",
       "      <td>Wii</td>\n",
       "      <td>2008</td>\n",
       "      <td>Racing</td>\n",
       "      <td>15.68</td>\n",
       "      <td>12.76</td>\n",
       "      <td>3.79</td>\n",
       "      <td>3.29</td>\n",
       "      <td>82.0</td>\n",
       "      <td>8.3</td>\n",
       "      <td>E</td>\n",
       "      <td>35.52</td>\n",
       "    </tr>\n",
       "    <tr>\n",
       "      <th>3</th>\n",
       "      <td>Wii Sports Resort</td>\n",
       "      <td>Wii</td>\n",
       "      <td>2009</td>\n",
       "      <td>Sports</td>\n",
       "      <td>15.61</td>\n",
       "      <td>10.93</td>\n",
       "      <td>3.28</td>\n",
       "      <td>2.95</td>\n",
       "      <td>80.0</td>\n",
       "      <td>8.0</td>\n",
       "      <td>E</td>\n",
       "      <td>32.77</td>\n",
       "    </tr>\n",
       "    <tr>\n",
       "      <th>4</th>\n",
       "      <td>Pokemon Red/Pokemon Blue</td>\n",
       "      <td>GB</td>\n",
       "      <td>1996</td>\n",
       "      <td>Role-Playing</td>\n",
       "      <td>11.27</td>\n",
       "      <td>8.89</td>\n",
       "      <td>10.22</td>\n",
       "      <td>1.00</td>\n",
       "      <td>NaN</td>\n",
       "      <td>NaN</td>\n",
       "      <td>ND</td>\n",
       "      <td>31.38</td>\n",
       "    </tr>\n",
       "  </tbody>\n",
       "</table>\n",
       "</div>"
      ],
      "text/plain": [
       "                       name platform  year_of_release         genre  na_sales  \\\n",
       "0                Wii Sports      Wii             2006        Sports     41.36   \n",
       "1         Super Mario Bros.      NES             1985      Platform     29.08   \n",
       "2            Mario Kart Wii      Wii             2008        Racing     15.68   \n",
       "3         Wii Sports Resort      Wii             2009        Sports     15.61   \n",
       "4  Pokemon Red/Pokemon Blue       GB             1996  Role-Playing     11.27   \n",
       "\n",
       "   eu_sales  jp_sales  other_sales  critic_score  user_score rating  \\\n",
       "0     28.96      3.77         8.45          76.0         8.0      E   \n",
       "1      3.58      6.81         0.77           NaN         NaN     ND   \n",
       "2     12.76      3.79         3.29          82.0         8.3      E   \n",
       "3     10.93      3.28         2.95          80.0         8.0      E   \n",
       "4      8.89     10.22         1.00           NaN         NaN     ND   \n",
       "\n",
       "   total_sales  \n",
       "0        82.54  \n",
       "1        40.24  \n",
       "2        35.52  \n",
       "3        32.77  \n",
       "4        31.38  "
      ]
     },
     "execution_count": 20,
     "metadata": {},
     "output_type": "execute_result"
    }
   ],
   "source": [
    "games.head()# Проверим"
   ]
  },
  {
   "cell_type": "code",
   "execution_count": 21,
   "metadata": {},
   "outputs": [
    {
     "name": "stdout",
     "output_type": "stream",
     "text": [
      "<class 'pandas.core.frame.DataFrame'>\n",
      "RangeIndex: 16444 entries, 0 to 16443\n",
      "Data columns (total 12 columns):\n",
      " #   Column           Non-Null Count  Dtype  \n",
      "---  ------           --------------  -----  \n",
      " 0   name             16444 non-null  object \n",
      " 1   platform         16444 non-null  object \n",
      " 2   year_of_release  16444 non-null  Int64  \n",
      " 3   genre            16444 non-null  object \n",
      " 4   na_sales         16444 non-null  float64\n",
      " 5   eu_sales         16444 non-null  float64\n",
      " 6   jp_sales         16444 non-null  float64\n",
      " 7   other_sales      16444 non-null  float64\n",
      " 8   critic_score     7983 non-null   float64\n",
      " 9   user_score       7463 non-null   float64\n",
      " 10  rating           16444 non-null  object \n",
      " 11  total_sales      16444 non-null  float64\n",
      "dtypes: Int64(1), float64(7), object(4)\n",
      "memory usage: 1.5+ MB\n"
     ]
    }
   ],
   "source": [
    "games.info()# Посмотрим теперь на общую информацию о нашем датафрейме"
   ]
  },
  {
   "cell_type": "markdown",
   "metadata": {},
   "source": [
    "**Вывод:** \n",
    "- Удалено из первоначальных данных 1,62% информации (небольшие потери, в пределах нормы), было 16715 строк, осталось 16444. \n",
    "- Заменили типы данных необходимых для дальнейшего исследования.\n",
    "- Встретились с аббревиатурой \"tbd\", выяснили ее природу (недостаточное количество оценок для выставления общей), и в соответствии с этим, провели замену на NaN.\n",
    "- Добавили дополнительные данные, столбец с суммарными продажами."
   ]
  },
  {
   "cell_type": "markdown",
   "metadata": {},
   "source": [
    "### Шаг 3. Исследовательский анализ данных"
   ]
  },
  {
   "cell_type": "markdown",
   "metadata": {},
   "source": [
    "<span style=\"color:brown\">**Посмотрим, сколько игр выпускалось в разные годы. Определим, насколько нам важны данные за все периоды**</span>"
   ]
  },
  {
   "cell_type": "code",
   "execution_count": 22,
   "metadata": {},
   "outputs": [
    {
     "data": {
      "image/png": "[encoded data removed]",
      "text/plain": [
       "<Figure size 576x288 with 1 Axes>"
      ]
     },
     "metadata": {
      "needs_background": "light"
     },
     "output_type": "display_data"
    }
   ],
   "source": [
    "games_years= games.pivot_table(index= 'year_of_release', values= 'name', aggfunc= 'count')\n",
    "plt.figure(figsize= (8,4))\n",
    "sns.lineplot(data= games_years)\n",
    "plt.title(\"Количество выпущенных игр по годам\")\n",
    "plt.xlabel(\"Год выпуска\")\n",
    "plt.ylabel(\"Количество игр\")\n",
    "plt.legend('')\n",
    "plt.show()"
   ]
  },
  {
   "cell_type": "markdown",
   "metadata": {},
   "source": [
    "**Вывод:**\n",
    "1. Начиная с 1980 по 1990 год игр, практически не производилось, и только с начала 90-ых, очень медленно, начался взлет игровой индустрии. Появились SEGA-игровые приставки, PS и компютеры, на которых уже можно было играть. Игры интересовали, практически, все возрастные группы, играли все. Поэтому, покупаемость их была велика. \n",
    "2. Самый пик продаж приходится на 2008 - 2009 годы. \n",
    "3. Спад продаж игр на консолях наблюдаем с 2008 по 2013, так как появились смартфоны с большим количеством мобильных игр и приложений. Предпочтение в эти годы стали отдавать пришедшим на замену игровым развлечениям соцсети (куда в дальнейшем перекочевали игры)."
   ]
  },
  {
   "cell_type": "markdown",
   "metadata": {},
   "source": [
    "<span style=\"color:brown\">**Посмотрим, как менялись продажи по платформам** </span>"
   ]
  },
  {
   "cell_type": "markdown",
   "metadata": {},
   "source": [
    "Сначала соберем общую информацию с суммой продаж по каждой платформе. Воспользуемся методом pivot, создадам сводную таблицу"
   ]
  },
  {
   "cell_type": "code",
   "execution_count": 23,
   "metadata": {},
   "outputs": [
    {
     "data": {
      "text/html": [
       "<div>\n",
       "<style scoped>\n",
       "    .dataframe tbody tr th:only-of-type {\n",
       "        vertical-align: middle;\n",
       "    }\n",
       "\n",
       "    .dataframe tbody tr th {\n",
       "        vertical-align: top;\n",
       "    }\n",
       "\n",
       "    .dataframe thead th {\n",
       "        text-align: right;\n",
       "    }\n",
       "</style>\n",
       "<table border=\"1\" class=\"dataframe\">\n",
       "  <thead>\n",
       "    <tr style=\"text-align: right;\">\n",
       "      <th></th>\n",
       "      <th>total_sales</th>\n",
       "    </tr>\n",
       "    <tr>\n",
       "      <th>platform</th>\n",
       "      <th></th>\n",
       "    </tr>\n",
       "  </thead>\n",
       "  <tbody>\n",
       "    <tr>\n",
       "      <th>PS2</th>\n",
       "      <td>1233.56</td>\n",
       "    </tr>\n",
       "    <tr>\n",
       "      <th>X360</th>\n",
       "      <td>961.24</td>\n",
       "    </tr>\n",
       "    <tr>\n",
       "      <th>PS3</th>\n",
       "      <td>931.34</td>\n",
       "    </tr>\n",
       "    <tr>\n",
       "      <th>Wii</th>\n",
       "      <td>891.18</td>\n",
       "    </tr>\n",
       "    <tr>\n",
       "      <th>DS</th>\n",
       "      <td>802.78</td>\n",
       "    </tr>\n",
       "    <tr>\n",
       "      <th>PS</th>\n",
       "      <td>727.58</td>\n",
       "    </tr>\n",
       "    <tr>\n",
       "      <th>PS4</th>\n",
       "      <td>314.14</td>\n",
       "    </tr>\n",
       "    <tr>\n",
       "      <th>GBA</th>\n",
       "      <td>312.88</td>\n",
       "    </tr>\n",
       "    <tr>\n",
       "      <th>PSP</th>\n",
       "      <td>289.53</td>\n",
       "    </tr>\n",
       "    <tr>\n",
       "      <th>3DS</th>\n",
       "      <td>257.81</td>\n",
       "    </tr>\n",
       "    <tr>\n",
       "      <th>PC</th>\n",
       "      <td>255.76</td>\n",
       "    </tr>\n",
       "    <tr>\n",
       "      <th>GB</th>\n",
       "      <td>254.43</td>\n",
       "    </tr>\n",
       "    <tr>\n",
       "      <th>XB</th>\n",
       "      <td>251.57</td>\n",
       "    </tr>\n",
       "    <tr>\n",
       "      <th>NES</th>\n",
       "      <td>251.05</td>\n",
       "    </tr>\n",
       "    <tr>\n",
       "      <th>N64</th>\n",
       "      <td>218.01</td>\n",
       "    </tr>\n",
       "    <tr>\n",
       "      <th>SNES</th>\n",
       "      <td>200.04</td>\n",
       "    </tr>\n",
       "    <tr>\n",
       "      <th>GC</th>\n",
       "      <td>196.73</td>\n",
       "    </tr>\n",
       "    <tr>\n",
       "      <th>XOne</th>\n",
       "      <td>159.32</td>\n",
       "    </tr>\n",
       "    <tr>\n",
       "      <th>2600</th>\n",
       "      <td>86.48</td>\n",
       "    </tr>\n",
       "    <tr>\n",
       "      <th>WiiU</th>\n",
       "      <td>82.19</td>\n",
       "    </tr>\n",
       "    <tr>\n",
       "      <th>PSV</th>\n",
       "      <td>53.81</td>\n",
       "    </tr>\n",
       "    <tr>\n",
       "      <th>SAT</th>\n",
       "      <td>33.59</td>\n",
       "    </tr>\n",
       "    <tr>\n",
       "      <th>GEN</th>\n",
       "      <td>28.35</td>\n",
       "    </tr>\n",
       "    <tr>\n",
       "      <th>DC</th>\n",
       "      <td>15.95</td>\n",
       "    </tr>\n",
       "    <tr>\n",
       "      <th>SCD</th>\n",
       "      <td>1.86</td>\n",
       "    </tr>\n",
       "    <tr>\n",
       "      <th>NG</th>\n",
       "      <td>1.44</td>\n",
       "    </tr>\n",
       "    <tr>\n",
       "      <th>WS</th>\n",
       "      <td>1.42</td>\n",
       "    </tr>\n",
       "    <tr>\n",
       "      <th>TG16</th>\n",
       "      <td>0.16</td>\n",
       "    </tr>\n",
       "    <tr>\n",
       "      <th>3DO</th>\n",
       "      <td>0.10</td>\n",
       "    </tr>\n",
       "    <tr>\n",
       "      <th>GG</th>\n",
       "      <td>0.04</td>\n",
       "    </tr>\n",
       "    <tr>\n",
       "      <th>PCFX</th>\n",
       "      <td>0.03</td>\n",
       "    </tr>\n",
       "  </tbody>\n",
       "</table>\n",
       "</div>"
      ],
      "text/plain": [
       "          total_sales\n",
       "platform             \n",
       "PS2           1233.56\n",
       "X360           961.24\n",
       "PS3            931.34\n",
       "Wii            891.18\n",
       "DS             802.78\n",
       "PS             727.58\n",
       "PS4            314.14\n",
       "GBA            312.88\n",
       "PSP            289.53\n",
       "3DS            257.81\n",
       "PC             255.76\n",
       "GB             254.43\n",
       "XB             251.57\n",
       "NES            251.05\n",
       "N64            218.01\n",
       "SNES           200.04\n",
       "GC             196.73\n",
       "XOne           159.32\n",
       "2600            86.48\n",
       "WiiU            82.19\n",
       "PSV             53.81\n",
       "SAT             33.59\n",
       "GEN             28.35\n",
       "DC              15.95\n",
       "SCD              1.86\n",
       "NG               1.44\n",
       "WS               1.42\n",
       "TG16             0.16\n",
       "3DO              0.10\n",
       "GG               0.04\n",
       "PCFX             0.03"
      ]
     },
     "execution_count": 23,
     "metadata": {},
     "output_type": "execute_result"
    }
   ],
   "source": [
    "platform_sales= games.pivot_table(\n",
    "    index= 'platform', values= 'total_sales', aggfunc= 'sum').sort_values(by= 'total_sales', ascending= False)\n",
    "platform_sales"
   ]
  },
  {
   "cell_type": "markdown",
   "metadata": {},
   "source": [
    " Сразу выделились лидеры платформ, их **6: PS2, X360, PS3, Wii, DS и PS**. Топ-10 не получится, так как большая разница в значениях суммарной выручки, не вариативно. Но еще момент, **PS4**, вышла на рынок только в 2013 году, поэтому не показала выручку наравне с другими платформами. Возьмем ее в ТОП.\n",
    " - построим диаграму"
   ]
  },
  {
   "cell_type": "code",
   "execution_count": 24,
   "metadata": {},
   "outputs": [
    {
     "data": {
      "image/png": "[encoded data removed]",
      "text/plain": [
       "<Figure size 1080x360 with 1 Axes>"
      ]
     },
     "metadata": {
      "needs_background": "light"
     },
     "output_type": "display_data"
    }
   ],
   "source": [
    "plt.figure(figsize=(15,5))\n",
    "plt.bar(platform_sales.index, platform_sales['total_sales'])\n",
    "plt.title('Рейтинг платформ')\n",
    "plt.xlabel(\"Платформа\");\n",
    "plt.ylabel(\"Количество игр,  млн.шт.\");"
   ]
  },
  {
   "cell_type": "markdown",
   "metadata": {},
   "source": [
    "<span style=\"color:brown\">**Построим график для наших лидеров с распределением по годам**</span>\n",
    "- За какой характерный срок появляются новые и исчезают старые платформы"
   ]
  },
  {
   "cell_type": "code",
   "execution_count": 25,
   "metadata": {},
   "outputs": [
    {
     "data": {
      "text/plain": [
       "['PS2', 'X360', 'PS3', 'Wii', 'DS', 'PS', 'PS4']"
      ]
     },
     "execution_count": 25,
     "metadata": {},
     "output_type": "execute_result"
    }
   ],
   "source": [
    "top_7_platforms= list(platform_sales.index[:7])# Создадим список ТОП-7 платформ, выведем его на экран\n",
    "top_7_platforms"
   ]
  },
  {
   "cell_type": "code",
   "execution_count": 26,
   "metadata": {
    "scrolled": false
   },
   "outputs": [
    {
     "data": {
      "image/png": "[encoded data removed]",
      "text/plain": [
       "<Figure size 432x288 with 1 Axes>"
      ]
     },
     "metadata": {
      "needs_background": "light"
     },
     "output_type": "display_data"
    },
    {
     "data": {
      "image/png": "[encoded data removed]",
      "text/plain": [
       "<Figure size 432x288 with 1 Axes>"
      ]
     },
     "metadata": {
      "needs_background": "light"
     },
     "output_type": "display_data"
    },
    {
     "data": {
      "image/png": "[encoded data removed]",
      "text/plain": [
       "<Figure size 432x288 with 1 Axes>"
      ]
     },
     "metadata": {
      "needs_background": "light"
     },
     "output_type": "display_data"
    },
    {
     "data": {
      "image/png": "[encoded data removed]",
      "text/plain": [
       "<Figure size 432x288 with 1 Axes>"
      ]
     },
     "metadata": {
      "needs_background": "light"
     },
     "output_type": "display_data"
    },
    {
     "data": {
      "image/png": "[encoded data removed]",
      "text/plain": [
       "<Figure size 432x288 with 1 Axes>"
      ]
     },
     "metadata": {
      "needs_background": "light"
     },
     "output_type": "display_data"
    },
    {
     "data": {
      "image/png": "[encoded data removed]",
      "text/plain": [
       "<Figure size 432x288 with 1 Axes>"
      ]
     },
     "metadata": {
      "needs_background": "light"
     },
     "output_type": "display_data"
    },
    {
     "data": {
      "image/png": "[encoded data removed]",
      "text/plain": [
       "<Figure size 432x288 with 1 Axes>"
      ]
     },
     "metadata": {
      "needs_background": "light"
     },
     "output_type": "display_data"
    }
   ],
   "source": [
    "# Построим графики для каждой платформы. Используем метод pivot_table и цикл, чтобы он нам последовательно обработал все графики.\n",
    "for platform in top_7_platforms:\n",
    "    platform_sales = pd.pivot_table(games.query('platform == @platform'), index=['year_of_release'], values='total_sales', aggfunc='sum')\n",
    "    platform_sales.plot();\n",
    "    plt.title(platform)\n",
    "    plt.show();"
   ]
  },
  {
   "cell_type": "markdown",
   "metadata": {},
   "source": [
    "**Вывод:**\n",
    "- Построив рейтинг платформ, определили ТОП-6: 'PS2', 'X360', 'PS3', 'Wii', 'DS', 'PS'. Самые продаваемые это Sony Play Station и XBOX.\n",
    "\n",
    "  - **PS2** Взлет продаж в первые два года, с 2000 по 2002 год, достигла своего апогея в 2004 году, и затем началось падение продаж. Так происходит, когда выходит более новая модель (PS3 в 2006 году), но разработчики продолжают поддерживать старую версию гаджета.\n",
    "  - **X360** После выхода в 2005 году, 3 года роста продаж, затем небольшой спад в 2009 и снова рост до 2010 и плавное снижение продаж до 2016 года.\n",
    "  - **PS3** Пришел на смену PS2 в 2006 году и по 2011 год увеличение объема продаж. Затем аналогичное с предыдущими графиками плавное падение, объясняемое всё теми же причинами.\n",
    "  - **Wii** Высокий старт продаж среди других платформ. Причина такого успеха была банальной, низкая цена, всего 200 долларов, в отличие от Sony Play Station и XBOX. И в кризис 2008 года Wii стала спасением для многих семей с детьми, особенно в Америке.\n",
    "  - **Nintendo DS** следующее поколение карманных игровых консолей компании Nintendo. Консоль была выпущена в 2004 году в Канаде, США и Японии, с чем и связан такой резкий старт продаж и их рост до 2008 года, после которого начался постепенный спад продаж.\n",
    "  - **PS**. С 1994 по 1998 наблюдается уверенный рост, затем в том же темпе спад до 2005 года.\n",
    "  - **PS4** С момента выхода  за пару лет дала уверенный прирост продаж, прошла свой пик в 2015 и плавно к сегодняшнему 2016-му пошла на снижение, но Продажи больше, чем на других платформах. \n",
    "  \n",
    "- Исходя из данных, которые мы увидели на графиках, можно сказать, что, в среднем, консоли живут от 8-ми до 10 лет. Каждую прдыдущую сменяют новые поколения гаджетов, следуя требованиям технического прогресса."
   ]
  },
  {
   "cell_type": "markdown",
   "metadata": {},
   "source": [
    " <span style=\"color:brown\">Возьмем данные за соответствующий актуальный период. **Актуальный период** определим на основании исследования предыдущих вопросов. Основной фактор — эти данные помогут построить прогноз на 2017 год.</span>"
   ]
  },
  {
   "cell_type": "markdown",
   "metadata": {},
   "source": [
    "- Определим период, последние 5 лет, т.е. с 2012 по 2016. Мы определили, что консоли \"живут\" 8-10 лет, поэтому в данный период попаду все интересующие виды консолей."
   ]
  },
  {
   "cell_type": "code",
   "execution_count": 27,
   "metadata": {},
   "outputs": [
    {
     "name": "stdout",
     "output_type": "stream",
     "text": [
      "<class 'pandas.core.frame.DataFrame'>\n",
      "Int64Index: 2886 entries, 16 to 16443\n",
      "Data columns (total 12 columns):\n",
      " #   Column           Non-Null Count  Dtype  \n",
      "---  ------           --------------  -----  \n",
      " 0   name             2886 non-null   object \n",
      " 1   platform         2886 non-null   object \n",
      " 2   year_of_release  2886 non-null   Int64  \n",
      " 3   genre            2886 non-null   object \n",
      " 4   na_sales         2886 non-null   float64\n",
      " 5   eu_sales         2886 non-null   float64\n",
      " 6   jp_sales         2886 non-null   float64\n",
      " 7   other_sales      2886 non-null   float64\n",
      " 8   critic_score     1312 non-null   float64\n",
      " 9   user_score       1531 non-null   float64\n",
      " 10  rating           2886 non-null   object \n",
      " 11  total_sales      2886 non-null   float64\n",
      "dtypes: Int64(1), float64(7), object(4)\n",
      "memory usage: 295.9+ KB\n"
     ]
    },
    {
     "data": {
      "text/html": [
       "<div>\n",
       "<style scoped>\n",
       "    .dataframe tbody tr th:only-of-type {\n",
       "        vertical-align: middle;\n",
       "    }\n",
       "\n",
       "    .dataframe tbody tr th {\n",
       "        vertical-align: top;\n",
       "    }\n",
       "\n",
       "    .dataframe thead th {\n",
       "        text-align: right;\n",
       "    }\n",
       "</style>\n",
       "<table border=\"1\" class=\"dataframe\">\n",
       "  <thead>\n",
       "    <tr style=\"text-align: right;\">\n",
       "      <th></th>\n",
       "      <th>name</th>\n",
       "      <th>platform</th>\n",
       "      <th>year_of_release</th>\n",
       "      <th>genre</th>\n",
       "      <th>na_sales</th>\n",
       "      <th>eu_sales</th>\n",
       "      <th>jp_sales</th>\n",
       "      <th>other_sales</th>\n",
       "      <th>critic_score</th>\n",
       "      <th>user_score</th>\n",
       "      <th>rating</th>\n",
       "      <th>total_sales</th>\n",
       "    </tr>\n",
       "  </thead>\n",
       "  <tbody>\n",
       "    <tr>\n",
       "      <th>16</th>\n",
       "      <td>Grand Theft Auto V</td>\n",
       "      <td>PS3</td>\n",
       "      <td>2013</td>\n",
       "      <td>Action</td>\n",
       "      <td>7.02</td>\n",
       "      <td>9.09</td>\n",
       "      <td>0.98</td>\n",
       "      <td>3.96</td>\n",
       "      <td>97.0</td>\n",
       "      <td>8.2</td>\n",
       "      <td>M</td>\n",
       "      <td>21.05</td>\n",
       "    </tr>\n",
       "    <tr>\n",
       "      <th>23</th>\n",
       "      <td>Grand Theft Auto V</td>\n",
       "      <td>X360</td>\n",
       "      <td>2013</td>\n",
       "      <td>Action</td>\n",
       "      <td>9.66</td>\n",
       "      <td>5.14</td>\n",
       "      <td>0.06</td>\n",
       "      <td>1.41</td>\n",
       "      <td>97.0</td>\n",
       "      <td>8.1</td>\n",
       "      <td>M</td>\n",
       "      <td>16.27</td>\n",
       "    </tr>\n",
       "    <tr>\n",
       "      <th>31</th>\n",
       "      <td>Call of Duty: Black Ops 3</td>\n",
       "      <td>PS4</td>\n",
       "      <td>2015</td>\n",
       "      <td>Shooter</td>\n",
       "      <td>6.03</td>\n",
       "      <td>5.86</td>\n",
       "      <td>0.36</td>\n",
       "      <td>2.38</td>\n",
       "      <td>NaN</td>\n",
       "      <td>NaN</td>\n",
       "      <td>ND</td>\n",
       "      <td>14.63</td>\n",
       "    </tr>\n",
       "    <tr>\n",
       "      <th>33</th>\n",
       "      <td>Pokemon X/Pokemon Y</td>\n",
       "      <td>3DS</td>\n",
       "      <td>2013</td>\n",
       "      <td>Role-Playing</td>\n",
       "      <td>5.28</td>\n",
       "      <td>4.19</td>\n",
       "      <td>4.35</td>\n",
       "      <td>0.78</td>\n",
       "      <td>NaN</td>\n",
       "      <td>NaN</td>\n",
       "      <td>ND</td>\n",
       "      <td>14.60</td>\n",
       "    </tr>\n",
       "    <tr>\n",
       "      <th>34</th>\n",
       "      <td>Call of Duty: Black Ops II</td>\n",
       "      <td>PS3</td>\n",
       "      <td>2012</td>\n",
       "      <td>Shooter</td>\n",
       "      <td>4.99</td>\n",
       "      <td>5.73</td>\n",
       "      <td>0.65</td>\n",
       "      <td>2.42</td>\n",
       "      <td>83.0</td>\n",
       "      <td>5.3</td>\n",
       "      <td>M</td>\n",
       "      <td>13.79</td>\n",
       "    </tr>\n",
       "  </tbody>\n",
       "</table>\n",
       "</div>"
      ],
      "text/plain": [
       "                          name platform  year_of_release         genre  \\\n",
       "16          Grand Theft Auto V      PS3             2013        Action   \n",
       "23          Grand Theft Auto V     X360             2013        Action   \n",
       "31   Call of Duty: Black Ops 3      PS4             2015       Shooter   \n",
       "33         Pokemon X/Pokemon Y      3DS             2013  Role-Playing   \n",
       "34  Call of Duty: Black Ops II      PS3             2012       Shooter   \n",
       "\n",
       "    na_sales  eu_sales  jp_sales  other_sales  critic_score  user_score  \\\n",
       "16      7.02      9.09      0.98         3.96          97.0         8.2   \n",
       "23      9.66      5.14      0.06         1.41          97.0         8.1   \n",
       "31      6.03      5.86      0.36         2.38           NaN         NaN   \n",
       "33      5.28      4.19      4.35         0.78           NaN         NaN   \n",
       "34      4.99      5.73      0.65         2.42          83.0         5.3   \n",
       "\n",
       "   rating  total_sales  \n",
       "16      M        21.05  \n",
       "23      M        16.27  \n",
       "31     ND        14.63  \n",
       "33     ND        14.60  \n",
       "34      M        13.79  "
      ]
     },
     "execution_count": 27,
     "metadata": {},
     "output_type": "execute_result"
    }
   ],
   "source": [
    "actual_period= games[games['year_of_release'] >= 2012]\n",
    "actual_period.info()\n",
    "actual_period.head()"
   ]
  },
  {
   "cell_type": "code",
   "execution_count": 28,
   "metadata": {},
   "outputs": [
    {
     "data": {
      "image/png": "[encoded data removed]",
      "text/plain": [
       "<Figure size 720x360 with 1 Axes>"
      ]
     },
     "metadata": {
      "needs_background": "light"
     },
     "output_type": "display_data"
    }
   ],
   "source": [
    "# Построим график по количеству выпущенных игр за актуальный период на разных платформах\n",
    "(\n",
    "    actual_period.query('platform in @top_7_platforms').\n",
    "    pivot_table(index= 'year_of_release', columns= 'platform', values= 'total_sales', aggfunc= 'sum').\n",
    "    plot(figsize= (10,5))\n",
    ");\n",
    "plt.title('Количество выпущенных игр 2012-2016')\n",
    "plt.xlabel('Год продажи')\n",
    "plt.ylabel('Количество игр')\n",
    "plt.show()"
   ]
  },
  {
   "cell_type": "markdown",
   "metadata": {},
   "source": [
    "- Кроме графика посмотрим еще и на цифры"
   ]
  },
  {
   "cell_type": "code",
   "execution_count": 29,
   "metadata": {},
   "outputs": [
    {
     "data": {
      "text/html": [
       "<div>\n",
       "<style scoped>\n",
       "    .dataframe tbody tr th:only-of-type {\n",
       "        vertical-align: middle;\n",
       "    }\n",
       "\n",
       "    .dataframe tbody tr th {\n",
       "        vertical-align: top;\n",
       "    }\n",
       "\n",
       "    .dataframe thead th {\n",
       "        text-align: right;\n",
       "    }\n",
       "</style>\n",
       "<table border=\"1\" class=\"dataframe\">\n",
       "  <thead>\n",
       "    <tr style=\"text-align: right;\">\n",
       "      <th></th>\n",
       "      <th></th>\n",
       "      <th>total_sales</th>\n",
       "    </tr>\n",
       "    <tr>\n",
       "      <th>platform</th>\n",
       "      <th>year_of_release</th>\n",
       "      <th></th>\n",
       "    </tr>\n",
       "  </thead>\n",
       "  <tbody>\n",
       "    <tr>\n",
       "      <th rowspan=\"5\" valign=\"top\">3DS</th>\n",
       "      <th>2012</th>\n",
       "      <td>51.36</td>\n",
       "    </tr>\n",
       "    <tr>\n",
       "      <th>2013</th>\n",
       "      <td>56.57</td>\n",
       "    </tr>\n",
       "    <tr>\n",
       "      <th>2014</th>\n",
       "      <td>43.76</td>\n",
       "    </tr>\n",
       "    <tr>\n",
       "      <th>2015</th>\n",
       "      <td>27.78</td>\n",
       "    </tr>\n",
       "    <tr>\n",
       "      <th>2016</th>\n",
       "      <td>15.14</td>\n",
       "    </tr>\n",
       "    <tr>\n",
       "      <th rowspan=\"2\" valign=\"top\">DS</th>\n",
       "      <th>2012</th>\n",
       "      <td>11.01</td>\n",
       "    </tr>\n",
       "    <tr>\n",
       "      <th>2013</th>\n",
       "      <td>1.54</td>\n",
       "    </tr>\n",
       "    <tr>\n",
       "      <th rowspan=\"5\" valign=\"top\">PC</th>\n",
       "      <th>2012</th>\n",
       "      <td>23.22</td>\n",
       "    </tr>\n",
       "    <tr>\n",
       "      <th>2013</th>\n",
       "      <td>12.38</td>\n",
       "    </tr>\n",
       "    <tr>\n",
       "      <th>2014</th>\n",
       "      <td>13.28</td>\n",
       "    </tr>\n",
       "    <tr>\n",
       "      <th>2015</th>\n",
       "      <td>8.52</td>\n",
       "    </tr>\n",
       "    <tr>\n",
       "      <th>2016</th>\n",
       "      <td>5.25</td>\n",
       "    </tr>\n",
       "    <tr>\n",
       "      <th rowspan=\"5\" valign=\"top\">PS3</th>\n",
       "      <th>2012</th>\n",
       "      <td>107.36</td>\n",
       "    </tr>\n",
       "    <tr>\n",
       "      <th>2013</th>\n",
       "      <td>113.25</td>\n",
       "    </tr>\n",
       "    <tr>\n",
       "      <th>2014</th>\n",
       "      <td>47.76</td>\n",
       "    </tr>\n",
       "    <tr>\n",
       "      <th>2015</th>\n",
       "      <td>16.82</td>\n",
       "    </tr>\n",
       "    <tr>\n",
       "      <th>2016</th>\n",
       "      <td>3.60</td>\n",
       "    </tr>\n",
       "    <tr>\n",
       "      <th rowspan=\"4\" valign=\"top\">PS4</th>\n",
       "      <th>2013</th>\n",
       "      <td>25.99</td>\n",
       "    </tr>\n",
       "    <tr>\n",
       "      <th>2014</th>\n",
       "      <td>100.00</td>\n",
       "    </tr>\n",
       "    <tr>\n",
       "      <th>2015</th>\n",
       "      <td>118.90</td>\n",
       "    </tr>\n",
       "    <tr>\n",
       "      <th>2016</th>\n",
       "      <td>69.25</td>\n",
       "    </tr>\n",
       "    <tr>\n",
       "      <th rowspan=\"4\" valign=\"top\">PSP</th>\n",
       "      <th>2012</th>\n",
       "      <td>7.69</td>\n",
       "    </tr>\n",
       "    <tr>\n",
       "      <th>2013</th>\n",
       "      <td>3.14</td>\n",
       "    </tr>\n",
       "    <tr>\n",
       "      <th>2014</th>\n",
       "      <td>0.24</td>\n",
       "    </tr>\n",
       "    <tr>\n",
       "      <th>2015</th>\n",
       "      <td>0.12</td>\n",
       "    </tr>\n",
       "    <tr>\n",
       "      <th rowspan=\"5\" valign=\"top\">PSV</th>\n",
       "      <th>2012</th>\n",
       "      <td>16.19</td>\n",
       "    </tr>\n",
       "    <tr>\n",
       "      <th>2013</th>\n",
       "      <td>10.59</td>\n",
       "    </tr>\n",
       "    <tr>\n",
       "      <th>2014</th>\n",
       "      <td>11.90</td>\n",
       "    </tr>\n",
       "    <tr>\n",
       "      <th>2015</th>\n",
       "      <td>6.25</td>\n",
       "    </tr>\n",
       "    <tr>\n",
       "      <th>2016</th>\n",
       "      <td>4.25</td>\n",
       "    </tr>\n",
       "    <tr>\n",
       "      <th rowspan=\"5\" valign=\"top\">Wii</th>\n",
       "      <th>2012</th>\n",
       "      <td>21.71</td>\n",
       "    </tr>\n",
       "    <tr>\n",
       "      <th>2013</th>\n",
       "      <td>8.59</td>\n",
       "    </tr>\n",
       "    <tr>\n",
       "      <th>2014</th>\n",
       "      <td>3.75</td>\n",
       "    </tr>\n",
       "    <tr>\n",
       "      <th>2015</th>\n",
       "      <td>1.14</td>\n",
       "    </tr>\n",
       "    <tr>\n",
       "      <th>2016</th>\n",
       "      <td>0.18</td>\n",
       "    </tr>\n",
       "    <tr>\n",
       "      <th rowspan=\"5\" valign=\"top\">WiiU</th>\n",
       "      <th>2012</th>\n",
       "      <td>17.56</td>\n",
       "    </tr>\n",
       "    <tr>\n",
       "      <th>2013</th>\n",
       "      <td>21.65</td>\n",
       "    </tr>\n",
       "    <tr>\n",
       "      <th>2014</th>\n",
       "      <td>22.03</td>\n",
       "    </tr>\n",
       "    <tr>\n",
       "      <th>2015</th>\n",
       "      <td>16.35</td>\n",
       "    </tr>\n",
       "    <tr>\n",
       "      <th>2016</th>\n",
       "      <td>4.60</td>\n",
       "    </tr>\n",
       "    <tr>\n",
       "      <th rowspan=\"5\" valign=\"top\">X360</th>\n",
       "      <th>2012</th>\n",
       "      <td>99.74</td>\n",
       "    </tr>\n",
       "    <tr>\n",
       "      <th>2013</th>\n",
       "      <td>88.58</td>\n",
       "    </tr>\n",
       "    <tr>\n",
       "      <th>2014</th>\n",
       "      <td>34.74</td>\n",
       "    </tr>\n",
       "    <tr>\n",
       "      <th>2015</th>\n",
       "      <td>11.96</td>\n",
       "    </tr>\n",
       "    <tr>\n",
       "      <th>2016</th>\n",
       "      <td>1.52</td>\n",
       "    </tr>\n",
       "    <tr>\n",
       "      <th rowspan=\"4\" valign=\"top\">XOne</th>\n",
       "      <th>2013</th>\n",
       "      <td>18.96</td>\n",
       "    </tr>\n",
       "    <tr>\n",
       "      <th>2014</th>\n",
       "      <td>54.07</td>\n",
       "    </tr>\n",
       "    <tr>\n",
       "      <th>2015</th>\n",
       "      <td>60.14</td>\n",
       "    </tr>\n",
       "    <tr>\n",
       "      <th>2016</th>\n",
       "      <td>26.15</td>\n",
       "    </tr>\n",
       "  </tbody>\n",
       "</table>\n",
       "</div>"
      ],
      "text/plain": [
       "                          total_sales\n",
       "platform year_of_release             \n",
       "3DS      2012                   51.36\n",
       "         2013                   56.57\n",
       "         2014                   43.76\n",
       "         2015                   27.78\n",
       "         2016                   15.14\n",
       "DS       2012                   11.01\n",
       "         2013                    1.54\n",
       "PC       2012                   23.22\n",
       "         2013                   12.38\n",
       "         2014                   13.28\n",
       "         2015                    8.52\n",
       "         2016                    5.25\n",
       "PS3      2012                  107.36\n",
       "         2013                  113.25\n",
       "         2014                   47.76\n",
       "         2015                   16.82\n",
       "         2016                    3.60\n",
       "PS4      2013                   25.99\n",
       "         2014                  100.00\n",
       "         2015                  118.90\n",
       "         2016                   69.25\n",
       "PSP      2012                    7.69\n",
       "         2013                    3.14\n",
       "         2014                    0.24\n",
       "         2015                    0.12\n",
       "PSV      2012                   16.19\n",
       "         2013                   10.59\n",
       "         2014                   11.90\n",
       "         2015                    6.25\n",
       "         2016                    4.25\n",
       "Wii      2012                   21.71\n",
       "         2013                    8.59\n",
       "         2014                    3.75\n",
       "         2015                    1.14\n",
       "         2016                    0.18\n",
       "WiiU     2012                   17.56\n",
       "         2013                   21.65\n",
       "         2014                   22.03\n",
       "         2015                   16.35\n",
       "         2016                    4.60\n",
       "X360     2012                   99.74\n",
       "         2013                   88.58\n",
       "         2014                   34.74\n",
       "         2015                   11.96\n",
       "         2016                    1.52\n",
       "XOne     2013                   18.96\n",
       "         2014                   54.07\n",
       "         2015                   60.14\n",
       "         2016                   26.15"
      ]
     },
     "execution_count": 29,
     "metadata": {},
     "output_type": "execute_result"
    }
   ],
   "source": [
    "# Суммарные продажи в выбранный период по годам на ТОП-6 платформах\n",
    "actual_period_sales= pd.pivot_table(actual_period, index= ['platform','year_of_release'], values= 'total_sales', aggfunc= 'sum')\n",
    "actual_period_sales "
   ]
  },
  {
   "cell_type": "code",
   "execution_count": 30,
   "metadata": {},
   "outputs": [
    {
     "data": {
      "text/html": [
       "<div>\n",
       "<style scoped>\n",
       "    .dataframe tbody tr th:only-of-type {\n",
       "        vertical-align: middle;\n",
       "    }\n",
       "\n",
       "    .dataframe tbody tr th {\n",
       "        vertical-align: top;\n",
       "    }\n",
       "\n",
       "    .dataframe thead th {\n",
       "        text-align: right;\n",
       "    }\n",
       "</style>\n",
       "<table border=\"1\" class=\"dataframe\">\n",
       "  <thead>\n",
       "    <tr style=\"text-align: right;\">\n",
       "      <th></th>\n",
       "      <th>total_sales</th>\n",
       "    </tr>\n",
       "    <tr>\n",
       "      <th>platform</th>\n",
       "      <th></th>\n",
       "    </tr>\n",
       "  </thead>\n",
       "  <tbody>\n",
       "    <tr>\n",
       "      <th>PS4</th>\n",
       "      <td>314.14</td>\n",
       "    </tr>\n",
       "    <tr>\n",
       "      <th>PS3</th>\n",
       "      <td>288.79</td>\n",
       "    </tr>\n",
       "    <tr>\n",
       "      <th>X360</th>\n",
       "      <td>236.54</td>\n",
       "    </tr>\n",
       "    <tr>\n",
       "      <th>3DS</th>\n",
       "      <td>194.61</td>\n",
       "    </tr>\n",
       "    <tr>\n",
       "      <th>XOne</th>\n",
       "      <td>159.32</td>\n",
       "    </tr>\n",
       "    <tr>\n",
       "      <th>WiiU</th>\n",
       "      <td>82.19</td>\n",
       "    </tr>\n",
       "    <tr>\n",
       "      <th>PC</th>\n",
       "      <td>62.65</td>\n",
       "    </tr>\n",
       "    <tr>\n",
       "      <th>PSV</th>\n",
       "      <td>49.18</td>\n",
       "    </tr>\n",
       "    <tr>\n",
       "      <th>Wii</th>\n",
       "      <td>35.37</td>\n",
       "    </tr>\n",
       "    <tr>\n",
       "      <th>DS</th>\n",
       "      <td>12.55</td>\n",
       "    </tr>\n",
       "    <tr>\n",
       "      <th>PSP</th>\n",
       "      <td>11.19</td>\n",
       "    </tr>\n",
       "  </tbody>\n",
       "</table>\n",
       "</div>"
      ],
      "text/plain": [
       "          total_sales\n",
       "platform             \n",
       "PS4            314.14\n",
       "PS3            288.79\n",
       "X360           236.54\n",
       "3DS            194.61\n",
       "XOne           159.32\n",
       "WiiU            82.19\n",
       "PC              62.65\n",
       "PSV             49.18\n",
       "Wii             35.37\n",
       "DS              12.55\n",
       "PSP             11.19"
      ]
     },
     "execution_count": 30,
     "metadata": {},
     "output_type": "execute_result"
    }
   ],
   "source": [
    "# Суммарные продажи на платформах\n",
    "actual_period_sales_platform= pd.pivot_table(actual_period_sales, index= 'platform', values= 'total_sales', aggfunc= 'sum')\n",
    "actual_period_sales_platform.sort_values('total_sales', ascending= False)"
   ]
  },
  {
   "cell_type": "markdown",
   "metadata": {},
   "source": [
    "**Вывод:**\n",
    "- Можно сказать, что расцвет продаж игр пришелся на 2008-2009 годы. Затем идет спад продаж всех консолей, рынок игр падает.\n",
    "- По выручке лидирует **PS4**, продажи падают, но всё равно платформа прибыльная. \n",
    "- **PS3** , практически, не остает от **PS4**, поэтому платформа также доходная.\n",
    "- Продажи на консолях **X360, 3DS и  XOne** заметно ниже. Хотя **PS4** вышел на рынок только в ноябре 2013 года, уже успел опередить предшественников.\n",
    "- **PC** будут актуальны всегда, особенно для реально увлеченных играми людей. \n",
    "\n",
    "**В сухом остатке** потенциально прибыльные:\n",
    "   - PS4\n",
    "   - X360\n",
    "   - PS3\n",
    "   - 3DS\n",
    "   - XOne\n",
    "- Берем еще PC.   "
   ]
  },
  {
   "cell_type": "markdown",
   "metadata": {},
   "source": [
    "<span style=\"color:brown\">**Построим график «ящик с усами» по глобальным продажам игр в разбивке по платформам**</span> "
   ]
  },
  {
   "cell_type": "code",
   "execution_count": 31,
   "metadata": {},
   "outputs": [
    {
     "data": {
      "image/png": "[encoded data removed]",
      "text/plain": [
       "<Figure size 432x288 with 1 Axes>"
      ]
     },
     "metadata": {
      "needs_background": "light"
     },
     "output_type": "display_data"
    }
   ],
   "source": [
    "(\n",
    "    actual_period.pivot_table(index= 'name', columns= 'platform', values= 'total_sales')\n",
    "    .plot(kind= 'box', ylim= (0,1.5))\n",
    ");"
   ]
  },
  {
   "cell_type": "code",
   "execution_count": 32,
   "metadata": {},
   "outputs": [
    {
     "data": {
      "image/png": "[encoded data removed]",
      "text/plain": [
       "<Figure size 720x720 with 1 Axes>"
      ]
     },
     "metadata": {
      "needs_background": "light"
     },
     "output_type": "display_data"
    }
   ],
   "source": [
    "plt.figure(figsize=(10,10))\n",
    "sns.boxplot(x= 'total_sales', y= 'platform', data= actual_period_sales.reset_index());"
   ]
  },
  {
   "cell_type": "markdown",
   "metadata": {},
   "source": [
    "**Вывод:**\n",
    " - Видим, что график подтверждает сделанные нами предположения о потенциально прибыльных консолях. **PS4** по объемам меньше **PS3**, зато медиана выше. Такое жн соотношение видно и у пары **X360 и XOne**. И у **3DS** медиана, практически, на уровне **PS3**.\n",
    " - Для дальнейшего анализа оставим наиболее перспективную 5-ку платформ - **PS4, 3DS, XOne, Х360 и PC3**, а также еще не лишенную потенциала **РС**. "
   ]
  },
  {
   "cell_type": "markdown",
   "metadata": {},
   "source": [
    "<span style=\"color:brown\">**Посмотрим, как влияют на продажи внутри одной популярной платформы отзывы пользователей и критиков. Построим диаграмму рассеяния и посчитаем корреляцию между отзывами и продажами**</span> "
   ]
  },
  {
   "cell_type": "markdown",
   "metadata": {},
   "source": [
    "**Начнем с корреляции отобранных нами платформ, по порядку:**"
   ]
  },
  {
   "cell_type": "markdown",
   "metadata": {},
   "source": [
    "**PS4**"
   ]
  },
  {
   "cell_type": "code",
   "execution_count": 33,
   "metadata": {},
   "outputs": [
    {
     "data": {
      "text/html": [
       "<div>\n",
       "<style scoped>\n",
       "    .dataframe tbody tr th:only-of-type {\n",
       "        vertical-align: middle;\n",
       "    }\n",
       "\n",
       "    .dataframe tbody tr th {\n",
       "        vertical-align: top;\n",
       "    }\n",
       "\n",
       "    .dataframe thead th {\n",
       "        text-align: right;\n",
       "    }\n",
       "</style>\n",
       "<table border=\"1\" class=\"dataframe\">\n",
       "  <thead>\n",
       "    <tr style=\"text-align: right;\">\n",
       "      <th></th>\n",
       "      <th>critic_score</th>\n",
       "      <th>user_score</th>\n",
       "      <th>total_sales</th>\n",
       "    </tr>\n",
       "  </thead>\n",
       "  <tbody>\n",
       "    <tr>\n",
       "      <th>critic_score</th>\n",
       "      <td>1.000000</td>\n",
       "      <td>0.557654</td>\n",
       "      <td>0.406568</td>\n",
       "    </tr>\n",
       "    <tr>\n",
       "      <th>user_score</th>\n",
       "      <td>0.557654</td>\n",
       "      <td>1.000000</td>\n",
       "      <td>-0.031957</td>\n",
       "    </tr>\n",
       "    <tr>\n",
       "      <th>total_sales</th>\n",
       "      <td>0.406568</td>\n",
       "      <td>-0.031957</td>\n",
       "      <td>1.000000</td>\n",
       "    </tr>\n",
       "  </tbody>\n",
       "</table>\n",
       "</div>"
      ],
      "text/plain": [
       "              critic_score  user_score  total_sales\n",
       "critic_score      1.000000    0.557654     0.406568\n",
       "user_score        0.557654    1.000000    -0.031957\n",
       "total_sales       0.406568   -0.031957     1.000000"
      ]
     },
     "execution_count": 33,
     "metadata": {},
     "output_type": "execute_result"
    }
   ],
   "source": [
    "PS4= actual_period[actual_period['platform'] == 'PS4']\n",
    "PS4_cor= PS4[['critic_score','user_score', 'total_sales']]\n",
    "PS4_cor.corr()"
   ]
  },
  {
   "cell_type": "code",
   "execution_count": 34,
   "metadata": {},
   "outputs": [
    {
     "data": {
      "image/png": "[encoded data removed]",
      "text/plain": [
       "<Figure size 540x540 with 12 Axes>"
      ]
     },
     "metadata": {
      "needs_background": "light"
     },
     "output_type": "display_data"
    }
   ],
   "source": [
    "PS4= PS4.loc[:,['total_sales', 'critic_score', 'user_score']]# Сгруппируем и пострим графики плотности\n",
    "sns.pairplot(PS4, diag_kind= 'kde', plot_kws= {'alpha': 0.7});"
   ]
  },
  {
   "cell_type": "markdown",
   "metadata": {},
   "source": [
    "**PS3**"
   ]
  },
  {
   "cell_type": "code",
   "execution_count": 35,
   "metadata": {},
   "outputs": [
    {
     "data": {
      "text/html": [
       "<div>\n",
       "<style scoped>\n",
       "    .dataframe tbody tr th:only-of-type {\n",
       "        vertical-align: middle;\n",
       "    }\n",
       "\n",
       "    .dataframe tbody tr th {\n",
       "        vertical-align: top;\n",
       "    }\n",
       "\n",
       "    .dataframe thead th {\n",
       "        text-align: right;\n",
       "    }\n",
       "</style>\n",
       "<table border=\"1\" class=\"dataframe\">\n",
       "  <thead>\n",
       "    <tr style=\"text-align: right;\">\n",
       "      <th></th>\n",
       "      <th>critic_score</th>\n",
       "      <th>user_score</th>\n",
       "      <th>total_sales</th>\n",
       "    </tr>\n",
       "  </thead>\n",
       "  <tbody>\n",
       "    <tr>\n",
       "      <th>critic_score</th>\n",
       "      <td>1.000000</td>\n",
       "      <td>0.539456</td>\n",
       "      <td>0.331497</td>\n",
       "    </tr>\n",
       "    <tr>\n",
       "      <th>user_score</th>\n",
       "      <td>0.539456</td>\n",
       "      <td>1.000000</td>\n",
       "      <td>-0.005144</td>\n",
       "    </tr>\n",
       "    <tr>\n",
       "      <th>total_sales</th>\n",
       "      <td>0.331497</td>\n",
       "      <td>-0.005144</td>\n",
       "      <td>1.000000</td>\n",
       "    </tr>\n",
       "  </tbody>\n",
       "</table>\n",
       "</div>"
      ],
      "text/plain": [
       "              critic_score  user_score  total_sales\n",
       "critic_score      1.000000    0.539456     0.331497\n",
       "user_score        0.539456    1.000000    -0.005144\n",
       "total_sales       0.331497   -0.005144     1.000000"
      ]
     },
     "execution_count": 35,
     "metadata": {},
     "output_type": "execute_result"
    }
   ],
   "source": [
    "PS3= actual_period[actual_period['platform'] == 'PS3']\n",
    "PS3_cor= PS3[['critic_score','user_score', 'total_sales']]\n",
    "PS3_cor.corr()"
   ]
  },
  {
   "cell_type": "code",
   "execution_count": 36,
   "metadata": {},
   "outputs": [
    {
     "data": {
      "image/png": "[encoded data removed]",
      "text/plain": [
       "<Figure size 540x540 with 12 Axes>"
      ]
     },
     "metadata": {
      "needs_background": "light"
     },
     "output_type": "display_data"
    }
   ],
   "source": [
    "PS3 = PS3.loc[:,['total_sales', 'critic_score', 'user_score']]\n",
    "sns.pairplot(PS3, diag_kind= 'kde', plot_kws= {'alpha': 0.7});"
   ]
  },
  {
   "cell_type": "markdown",
   "metadata": {},
   "source": [
    "Для остальных 3-ёх платформ ограничимся табличными данными."
   ]
  },
  {
   "cell_type": "markdown",
   "metadata": {},
   "source": [
    "**XOne**"
   ]
  },
  {
   "cell_type": "code",
   "execution_count": 37,
   "metadata": {},
   "outputs": [
    {
     "data": {
      "text/html": [
       "<div>\n",
       "<style scoped>\n",
       "    .dataframe tbody tr th:only-of-type {\n",
       "        vertical-align: middle;\n",
       "    }\n",
       "\n",
       "    .dataframe tbody tr th {\n",
       "        vertical-align: top;\n",
       "    }\n",
       "\n",
       "    .dataframe thead th {\n",
       "        text-align: right;\n",
       "    }\n",
       "</style>\n",
       "<table border=\"1\" class=\"dataframe\">\n",
       "  <thead>\n",
       "    <tr style=\"text-align: right;\">\n",
       "      <th></th>\n",
       "      <th>critic_score</th>\n",
       "      <th>user_score</th>\n",
       "      <th>total_sales</th>\n",
       "    </tr>\n",
       "  </thead>\n",
       "  <tbody>\n",
       "    <tr>\n",
       "      <th>critic_score</th>\n",
       "      <td>1.000000</td>\n",
       "      <td>0.472462</td>\n",
       "      <td>0.416998</td>\n",
       "    </tr>\n",
       "    <tr>\n",
       "      <th>user_score</th>\n",
       "      <td>0.472462</td>\n",
       "      <td>1.000000</td>\n",
       "      <td>-0.068925</td>\n",
       "    </tr>\n",
       "    <tr>\n",
       "      <th>total_sales</th>\n",
       "      <td>0.416998</td>\n",
       "      <td>-0.068925</td>\n",
       "      <td>1.000000</td>\n",
       "    </tr>\n",
       "  </tbody>\n",
       "</table>\n",
       "</div>"
      ],
      "text/plain": [
       "              critic_score  user_score  total_sales\n",
       "critic_score      1.000000    0.472462     0.416998\n",
       "user_score        0.472462    1.000000    -0.068925\n",
       "total_sales       0.416998   -0.068925     1.000000"
      ]
     },
     "execution_count": 37,
     "metadata": {},
     "output_type": "execute_result"
    }
   ],
   "source": [
    "XOne= actual_period[actual_period['platform'] == 'XOne']\n",
    "XOne_cor= XOne[['critic_score','user_score', 'total_sales']]\n",
    "XOne_cor.corr()"
   ]
  },
  {
   "cell_type": "markdown",
   "metadata": {},
   "source": [
    "**Х360**"
   ]
  },
  {
   "cell_type": "code",
   "execution_count": 38,
   "metadata": {},
   "outputs": [
    {
     "data": {
      "text/html": [
       "<div>\n",
       "<style scoped>\n",
       "    .dataframe tbody tr th:only-of-type {\n",
       "        vertical-align: middle;\n",
       "    }\n",
       "\n",
       "    .dataframe tbody tr th {\n",
       "        vertical-align: top;\n",
       "    }\n",
       "\n",
       "    .dataframe thead th {\n",
       "        text-align: right;\n",
       "    }\n",
       "</style>\n",
       "<table border=\"1\" class=\"dataframe\">\n",
       "  <thead>\n",
       "    <tr style=\"text-align: right;\">\n",
       "      <th></th>\n",
       "      <th>critic_score</th>\n",
       "      <th>user_score</th>\n",
       "      <th>total_sales</th>\n",
       "    </tr>\n",
       "  </thead>\n",
       "  <tbody>\n",
       "    <tr>\n",
       "      <th>critic_score</th>\n",
       "      <td>1.000000</td>\n",
       "      <td>0.557352</td>\n",
       "      <td>0.360573</td>\n",
       "    </tr>\n",
       "    <tr>\n",
       "      <th>user_score</th>\n",
       "      <td>0.557352</td>\n",
       "      <td>1.000000</td>\n",
       "      <td>0.006164</td>\n",
       "    </tr>\n",
       "    <tr>\n",
       "      <th>total_sales</th>\n",
       "      <td>0.360573</td>\n",
       "      <td>0.006164</td>\n",
       "      <td>1.000000</td>\n",
       "    </tr>\n",
       "  </tbody>\n",
       "</table>\n",
       "</div>"
      ],
      "text/plain": [
       "              critic_score  user_score  total_sales\n",
       "critic_score      1.000000    0.557352     0.360573\n",
       "user_score        0.557352    1.000000     0.006164\n",
       "total_sales       0.360573    0.006164     1.000000"
      ]
     },
     "execution_count": 38,
     "metadata": {},
     "output_type": "execute_result"
    }
   ],
   "source": [
    "X360= actual_period[actual_period['platform'] == 'X360']\n",
    "X360_cor= X360[['critic_score','user_score', 'total_sales']]\n",
    "X360_cor.corr()"
   ]
  },
  {
   "cell_type": "markdown",
   "metadata": {},
   "source": [
    "**3DS**"
   ]
  },
  {
   "cell_type": "code",
   "execution_count": 39,
   "metadata": {},
   "outputs": [
    {
     "data": {
      "text/html": [
       "<div>\n",
       "<style scoped>\n",
       "    .dataframe tbody tr th:only-of-type {\n",
       "        vertical-align: middle;\n",
       "    }\n",
       "\n",
       "    .dataframe tbody tr th {\n",
       "        vertical-align: top;\n",
       "    }\n",
       "\n",
       "    .dataframe thead th {\n",
       "        text-align: right;\n",
       "    }\n",
       "</style>\n",
       "<table border=\"1\" class=\"dataframe\">\n",
       "  <thead>\n",
       "    <tr style=\"text-align: right;\">\n",
       "      <th></th>\n",
       "      <th>critic_score</th>\n",
       "      <th>user_score</th>\n",
       "      <th>total_sales</th>\n",
       "    </tr>\n",
       "  </thead>\n",
       "  <tbody>\n",
       "    <tr>\n",
       "      <th>critic_score</th>\n",
       "      <td>1.000000</td>\n",
       "      <td>0.722762</td>\n",
       "      <td>0.320803</td>\n",
       "    </tr>\n",
       "    <tr>\n",
       "      <th>user_score</th>\n",
       "      <td>0.722762</td>\n",
       "      <td>1.000000</td>\n",
       "      <td>0.197583</td>\n",
       "    </tr>\n",
       "    <tr>\n",
       "      <th>total_sales</th>\n",
       "      <td>0.320803</td>\n",
       "      <td>0.197583</td>\n",
       "      <td>1.000000</td>\n",
       "    </tr>\n",
       "  </tbody>\n",
       "</table>\n",
       "</div>"
      ],
      "text/plain": [
       "              critic_score  user_score  total_sales\n",
       "critic_score      1.000000    0.722762     0.320803\n",
       "user_score        0.722762    1.000000     0.197583\n",
       "total_sales       0.320803    0.197583     1.000000"
      ]
     },
     "execution_count": 39,
     "metadata": {},
     "output_type": "execute_result"
    }
   ],
   "source": [
    "DS3= actual_period[actual_period['platform'] == '3DS']\n",
    "DS3_cor= DS3[['critic_score','user_score', 'total_sales']]\n",
    "DS3_cor.corr()"
   ]
  },
  {
   "cell_type": "markdown",
   "metadata": {},
   "source": [
    "**PC**"
   ]
  },
  {
   "cell_type": "code",
   "execution_count": 40,
   "metadata": {},
   "outputs": [
    {
     "data": {
      "text/html": [
       "<div>\n",
       "<style scoped>\n",
       "    .dataframe tbody tr th:only-of-type {\n",
       "        vertical-align: middle;\n",
       "    }\n",
       "\n",
       "    .dataframe tbody tr th {\n",
       "        vertical-align: top;\n",
       "    }\n",
       "\n",
       "    .dataframe thead th {\n",
       "        text-align: right;\n",
       "    }\n",
       "</style>\n",
       "<table border=\"1\" class=\"dataframe\">\n",
       "  <thead>\n",
       "    <tr style=\"text-align: right;\">\n",
       "      <th></th>\n",
       "      <th>critic_score</th>\n",
       "      <th>user_score</th>\n",
       "      <th>total_sales</th>\n",
       "    </tr>\n",
       "  </thead>\n",
       "  <tbody>\n",
       "    <tr>\n",
       "      <th>critic_score</th>\n",
       "      <td>1.000000</td>\n",
       "      <td>0.432587</td>\n",
       "      <td>0.237243</td>\n",
       "    </tr>\n",
       "    <tr>\n",
       "      <th>user_score</th>\n",
       "      <td>0.432587</td>\n",
       "      <td>1.000000</td>\n",
       "      <td>-0.121867</td>\n",
       "    </tr>\n",
       "    <tr>\n",
       "      <th>total_sales</th>\n",
       "      <td>0.237243</td>\n",
       "      <td>-0.121867</td>\n",
       "      <td>1.000000</td>\n",
       "    </tr>\n",
       "  </tbody>\n",
       "</table>\n",
       "</div>"
      ],
      "text/plain": [
       "              critic_score  user_score  total_sales\n",
       "critic_score      1.000000    0.432587     0.237243\n",
       "user_score        0.432587    1.000000    -0.121867\n",
       "total_sales       0.237243   -0.121867     1.000000"
      ]
     },
     "execution_count": 40,
     "metadata": {},
     "output_type": "execute_result"
    }
   ],
   "source": [
    "PC= actual_period[actual_period['platform'] == 'PC']\n",
    "PC_cor= PC[['critic_score','user_score', 'total_sales']]\n",
    "PC_cor.corr()"
   ]
  },
  {
   "cell_type": "markdown",
   "metadata": {},
   "source": [
    "**Вывод:**\n",
    "- Очевиден и схож с реальностью, чем выше оценка критиков и пользователей, тем более покупаем продукт, соответственно растет выручка. \n",
    "- На диаграммах хорошо заметно, что критики и пользователи ставят, в большинстве случаев, одни и те же оценки.\n",
    "- Еще заметен такой факт: сильнее коррелируют продажи с оценками критиков, чем с оценками пользователей. И это тоже ближе к жизни: критики независимые эксперты, игроки чаще субъективны, \"на вкус и цвет\", как говорится. \n",
    "- Кроме того, разные платформы вышли на рынок в разное время, одни уже успели набрать популярность и получить оценки от пользователей, а некоторые только от критиков."
   ]
  },
  {
   "cell_type": "markdown",
   "metadata": {},
   "source": [
    "<span style=\"color:brown\">**Соотнесем полученные выводы с продажами игр на других платформах**</span>\n",
    " - Возьмем те платформы, которые не такие популярны, но продолжают приносить хороший доход"
   ]
  },
  {
   "cell_type": "code",
   "execution_count": 41,
   "metadata": {},
   "outputs": [
    {
     "name": "stdout",
     "output_type": "stream",
     "text": [
      "Wii\n",
      "Корреляция между оценкой критиков и продажами: -0.42\n",
      "Корреляция между оценкой пользователей и продажами: 0.3\n",
      "Корреляция между оценками критиков и пользователей: 0.82\n",
      "************************************************************\n",
      "WiiU\n",
      "Корреляция между оценкой критиков и продажами: 0.35\n",
      "Корреляция между оценкой пользователей и продажами: 0.4\n",
      "Корреляция между оценками критиков и пользователей: 0.77\n",
      "************************************************************\n",
      "PSV\n",
      "Корреляция между оценкой критиков и продажами: 0.094\n",
      "Корреляция между оценкой пользователей и продажами: -0.0043\n",
      "Корреляция между оценками критиков и пользователей: 0.7\n",
      "************************************************************\n"
     ]
    }
   ],
   "source": [
    "for i in [\"Wii\", \"WiiU\", \"PSV\"]:\n",
    "    print(i)    \n",
    "    others_platform= actual_period.query('platform == @i')\n",
    "    print(f'Корреляция между оценкой критиков и продажами: {others_platform.critic_score.corr(others_platform.total_sales):.2}')\n",
    "    print(f'Корреляция между оценкой пользователей и продажами: {others_platform.user_score.corr(others_platform.total_sales):.2}')\n",
    "    print(f'Корреляция между оценками критиков и пользователей: {others_platform.critic_score.corr(others_platform.user_score):.2}')\n",
    "    print('*' * 60)     "
   ]
  },
  {
   "cell_type": "markdown",
   "metadata": {},
   "source": [
    "**Вывод:**\n",
    "- Очень хорошо видно, что на продажи этих консолей не влияют ни критики, ни пользователи, хотя корреляция с критиками сильнее. Продукт давно на рынке, и особо не нуждаются в принятии решения о покупке.\n",
    "- Сильная корреляция между оценками пользователей и критиков только 3DS, на остальных послабее. Но всё же, можно сказать, что и здесь оба сектора ставят одни и те же оценки. \n",
    "- Есть ещё и другие определяющие факторы, например, эксклюзивность игры только для одной платформы или в одной стране."
   ]
  },
  {
   "cell_type": "markdown",
   "metadata": {},
   "source": [
    "<span style=\"color:brown\">**Посмотрим на общее распределение игр по жанрам**</span>\n",
    "- Лучше всего это распределение можно увидеть на круговой диаграмме."
   ]
  },
  {
   "cell_type": "markdown",
   "metadata": {},
   "source": [
    "- Вот и определился \"локомотив\" из 5 популярных жанров: Action(\"К бою!\"), Shooter(\"стрелялки\"), Sports(спортивные соревнования), Role-Playing(ролевые) и Misc(разное). \n",
    "- Подтвердим это цифрами, сформируем сводную таблицу с продажами по жанрам."
   ]
  },
  {
   "cell_type": "code",
   "execution_count": 42,
   "metadata": {},
   "outputs": [
    {
     "data": {
      "text/html": [
       "<div>\n",
       "<style scoped>\n",
       "    .dataframe tbody tr th:only-of-type {\n",
       "        vertical-align: middle;\n",
       "    }\n",
       "\n",
       "    .dataframe tbody tr th {\n",
       "        vertical-align: top;\n",
       "    }\n",
       "\n",
       "    .dataframe thead th {\n",
       "        text-align: right;\n",
       "    }\n",
       "</style>\n",
       "<table border=\"1\" class=\"dataframe\">\n",
       "  <thead>\n",
       "    <tr style=\"text-align: right;\">\n",
       "      <th></th>\n",
       "      <th>total_sales</th>\n",
       "    </tr>\n",
       "    <tr>\n",
       "      <th>genre</th>\n",
       "      <th></th>\n",
       "    </tr>\n",
       "  </thead>\n",
       "  <tbody>\n",
       "    <tr>\n",
       "      <th>Action</th>\n",
       "      <td>441.12</td>\n",
       "    </tr>\n",
       "    <tr>\n",
       "      <th>Shooter</th>\n",
       "      <td>304.73</td>\n",
       "    </tr>\n",
       "    <tr>\n",
       "      <th>Role-Playing</th>\n",
       "      <td>192.80</td>\n",
       "    </tr>\n",
       "    <tr>\n",
       "      <th>Sports</th>\n",
       "      <td>181.07</td>\n",
       "    </tr>\n",
       "    <tr>\n",
       "      <th>Misc</th>\n",
       "      <td>85.04</td>\n",
       "    </tr>\n",
       "    <tr>\n",
       "      <th>Platform</th>\n",
       "      <td>61.00</td>\n",
       "    </tr>\n",
       "    <tr>\n",
       "      <th>Racing</th>\n",
       "      <td>53.50</td>\n",
       "    </tr>\n",
       "    <tr>\n",
       "      <th>Fighting</th>\n",
       "      <td>44.49</td>\n",
       "    </tr>\n",
       "    <tr>\n",
       "      <th>Simulation</th>\n",
       "      <td>35.12</td>\n",
       "    </tr>\n",
       "    <tr>\n",
       "      <th>Adventure</th>\n",
       "      <td>29.43</td>\n",
       "    </tr>\n",
       "    <tr>\n",
       "      <th>Strategy</th>\n",
       "      <td>13.34</td>\n",
       "    </tr>\n",
       "    <tr>\n",
       "      <th>Puzzle</th>\n",
       "      <td>4.89</td>\n",
       "    </tr>\n",
       "  </tbody>\n",
       "</table>\n",
       "</div>"
      ],
      "text/plain": [
       "              total_sales\n",
       "genre                    \n",
       "Action             441.12\n",
       "Shooter            304.73\n",
       "Role-Playing       192.80\n",
       "Sports             181.07\n",
       "Misc                85.04\n",
       "Platform            61.00\n",
       "Racing              53.50\n",
       "Fighting            44.49\n",
       "Simulation          35.12\n",
       "Adventure           29.43\n",
       "Strategy            13.34\n",
       "Puzzle               4.89"
      ]
     },
     "execution_count": 42,
     "metadata": {},
     "output_type": "execute_result"
    }
   ],
   "source": [
    "actual_genre = pd.pivot_table(actual_period, index='genre', values='total_sales',\n",
    "                                        aggfunc='sum').sort_values('total_sales', ascending=False)\n",
    "actual_genre"
   ]
  },
  {
   "cell_type": "code",
   "execution_count": 43,
   "metadata": {},
   "outputs": [
    {
     "data": {
      "image/png": "[encoded data removed]",
      "text/plain": [
       "<Figure size 720x504 with 1 Axes>"
      ]
     },
     "metadata": {},
     "output_type": "display_data"
    }
   ],
   "source": [
    "plt.figure(figsize=(10,7))\n",
    "actual_genre_rownd= actual_genre.reset_index()\n",
    "plt.pie(actual_genre_rownd['total_sales'],labels= actual_genre_rownd['genre'], autopct='%1.1f%%')\n",
    "plt.axis('equal')\n",
    "plt.title('Сегментация игр по жанрам')\n",
    "plt.show()"
   ]
  },
  {
   "cell_type": "markdown",
   "metadata": {},
   "source": [
    "**Вывод:**\n",
    "- Самый предпочтительный жанр это **Action**. Выручка от продаж как от **Sports, Misc и Role-Playing** вместе взятых. \n",
    "- На последнем месте **Puzzle и Strategy** (игры, где требуется внимание, логика и уситчивость)."
   ]
  },
  {
   "cell_type": "code",
   "execution_count": 44,
   "metadata": {},
   "outputs": [
    {
     "data": {
      "text/html": [
       "<div>\n",
       "<style scoped>\n",
       "    .dataframe tbody tr th:only-of-type {\n",
       "        vertical-align: middle;\n",
       "    }\n",
       "\n",
       "    .dataframe tbody tr th {\n",
       "        vertical-align: top;\n",
       "    }\n",
       "\n",
       "    .dataframe thead th {\n",
       "        text-align: right;\n",
       "    }\n",
       "</style>\n",
       "<table border=\"1\" class=\"dataframe\">\n",
       "  <thead>\n",
       "    <tr style=\"text-align: right;\">\n",
       "      <th></th>\n",
       "      <th>mean</th>\n",
       "      <th>median</th>\n",
       "    </tr>\n",
       "    <tr>\n",
       "      <th>genre</th>\n",
       "      <th></th>\n",
       "      <th></th>\n",
       "    </tr>\n",
       "  </thead>\n",
       "  <tbody>\n",
       "    <tr>\n",
       "      <th>Shooter</th>\n",
       "      <td>1.296723</td>\n",
       "      <td>0.440</td>\n",
       "    </tr>\n",
       "    <tr>\n",
       "      <th>Platform</th>\n",
       "      <td>0.717647</td>\n",
       "      <td>0.210</td>\n",
       "    </tr>\n",
       "    <tr>\n",
       "      <th>Sports</th>\n",
       "      <td>0.675634</td>\n",
       "      <td>0.240</td>\n",
       "    </tr>\n",
       "    <tr>\n",
       "      <th>Role-Playing</th>\n",
       "      <td>0.521081</td>\n",
       "      <td>0.140</td>\n",
       "    </tr>\n",
       "    <tr>\n",
       "      <th>Racing</th>\n",
       "      <td>0.465217</td>\n",
       "      <td>0.140</td>\n",
       "    </tr>\n",
       "    <tr>\n",
       "      <th>Misc</th>\n",
       "      <td>0.442917</td>\n",
       "      <td>0.120</td>\n",
       "    </tr>\n",
       "    <tr>\n",
       "      <th>Simulation</th>\n",
       "      <td>0.439000</td>\n",
       "      <td>0.120</td>\n",
       "    </tr>\n",
       "    <tr>\n",
       "      <th>Action</th>\n",
       "      <td>0.427856</td>\n",
       "      <td>0.120</td>\n",
       "    </tr>\n",
       "    <tr>\n",
       "      <th>Fighting</th>\n",
       "      <td>0.408165</td>\n",
       "      <td>0.130</td>\n",
       "    </tr>\n",
       "    <tr>\n",
       "      <th>Strategy</th>\n",
       "      <td>0.187887</td>\n",
       "      <td>0.080</td>\n",
       "    </tr>\n",
       "    <tr>\n",
       "      <th>Puzzle</th>\n",
       "      <td>0.174643</td>\n",
       "      <td>0.045</td>\n",
       "    </tr>\n",
       "    <tr>\n",
       "      <th>Adventure</th>\n",
       "      <td>0.097450</td>\n",
       "      <td>0.030</td>\n",
       "    </tr>\n",
       "  </tbody>\n",
       "</table>\n",
       "</div>"
      ],
      "text/plain": [
       "                  mean  median\n",
       "genre                         \n",
       "Shooter       1.296723   0.440\n",
       "Platform      0.717647   0.210\n",
       "Sports        0.675634   0.240\n",
       "Role-Playing  0.521081   0.140\n",
       "Racing        0.465217   0.140\n",
       "Misc          0.442917   0.120\n",
       "Simulation    0.439000   0.120\n",
       "Action        0.427856   0.120\n",
       "Fighting      0.408165   0.130\n",
       "Strategy      0.187887   0.080\n",
       "Puzzle        0.174643   0.045\n",
       "Adventure     0.097450   0.030"
      ]
     },
     "metadata": {},
     "output_type": "display_data"
    },
    {
     "data": {
      "text/html": [
       "<div>\n",
       "<style scoped>\n",
       "    .dataframe tbody tr th:only-of-type {\n",
       "        vertical-align: middle;\n",
       "    }\n",
       "\n",
       "    .dataframe tbody tr th {\n",
       "        vertical-align: top;\n",
       "    }\n",
       "\n",
       "    .dataframe thead th {\n",
       "        text-align: right;\n",
       "    }\n",
       "</style>\n",
       "<table border=\"1\" class=\"dataframe\">\n",
       "  <thead>\n",
       "    <tr style=\"text-align: right;\">\n",
       "      <th></th>\n",
       "      <th>mean</th>\n",
       "      <th>median</th>\n",
       "    </tr>\n",
       "    <tr>\n",
       "      <th>genre</th>\n",
       "      <th></th>\n",
       "      <th></th>\n",
       "    </tr>\n",
       "  </thead>\n",
       "  <tbody>\n",
       "    <tr>\n",
       "      <th>Shooter</th>\n",
       "      <td>1.296723</td>\n",
       "      <td>0.440</td>\n",
       "    </tr>\n",
       "    <tr>\n",
       "      <th>Sports</th>\n",
       "      <td>0.675634</td>\n",
       "      <td>0.240</td>\n",
       "    </tr>\n",
       "    <tr>\n",
       "      <th>Platform</th>\n",
       "      <td>0.717647</td>\n",
       "      <td>0.210</td>\n",
       "    </tr>\n",
       "    <tr>\n",
       "      <th>Role-Playing</th>\n",
       "      <td>0.521081</td>\n",
       "      <td>0.140</td>\n",
       "    </tr>\n",
       "    <tr>\n",
       "      <th>Racing</th>\n",
       "      <td>0.465217</td>\n",
       "      <td>0.140</td>\n",
       "    </tr>\n",
       "    <tr>\n",
       "      <th>Fighting</th>\n",
       "      <td>0.408165</td>\n",
       "      <td>0.130</td>\n",
       "    </tr>\n",
       "    <tr>\n",
       "      <th>Action</th>\n",
       "      <td>0.427856</td>\n",
       "      <td>0.120</td>\n",
       "    </tr>\n",
       "    <tr>\n",
       "      <th>Misc</th>\n",
       "      <td>0.442917</td>\n",
       "      <td>0.120</td>\n",
       "    </tr>\n",
       "    <tr>\n",
       "      <th>Simulation</th>\n",
       "      <td>0.439000</td>\n",
       "      <td>0.120</td>\n",
       "    </tr>\n",
       "    <tr>\n",
       "      <th>Strategy</th>\n",
       "      <td>0.187887</td>\n",
       "      <td>0.080</td>\n",
       "    </tr>\n",
       "    <tr>\n",
       "      <th>Puzzle</th>\n",
       "      <td>0.174643</td>\n",
       "      <td>0.045</td>\n",
       "    </tr>\n",
       "    <tr>\n",
       "      <th>Adventure</th>\n",
       "      <td>0.097450</td>\n",
       "      <td>0.030</td>\n",
       "    </tr>\n",
       "  </tbody>\n",
       "</table>\n",
       "</div>"
      ],
      "text/plain": [
       "                  mean  median\n",
       "genre                         \n",
       "Shooter       1.296723   0.440\n",
       "Sports        0.675634   0.240\n",
       "Platform      0.717647   0.210\n",
       "Role-Playing  0.521081   0.140\n",
       "Racing        0.465217   0.140\n",
       "Fighting      0.408165   0.130\n",
       "Action        0.427856   0.120\n",
       "Misc          0.442917   0.120\n",
       "Simulation    0.439000   0.120\n",
       "Strategy      0.187887   0.080\n",
       "Puzzle        0.174643   0.045\n",
       "Adventure     0.097450   0.030"
      ]
     },
     "metadata": {},
     "output_type": "display_data"
    }
   ],
   "source": [
    "actual_period_genre= pd.pivot_table(actual_period, index= 'genre', values= 'total_sales', aggfunc= {'total_sales': ['mean', 'median']})\n",
    "display(actual_period_genre.sort_values('mean', ascending= False))\n",
    "display(actual_period_genre.sort_values('median', ascending= False))"
   ]
  },
  {
   "cell_type": "code",
   "execution_count": 45,
   "metadata": {},
   "outputs": [
    {
     "data": {
      "image/png": "[encoded data removed]",
      "text/plain": [
       "<Figure size 1008x576 with 1 Axes>"
      ]
     },
     "metadata": {
      "needs_background": "light"
     },
     "output_type": "display_data"
    }
   ],
   "source": [
    "actual_period[['total_sales', 'genre']].boxplot(column='total_sales', by='genre', figsize=(14,8))\n",
    "\n",
    "plt.xlabel('Игровой жанр')\n",
    "plt.ylabel('Количество проданных игр, млн')\n",
    "plt.title('Диаграммы размаха по продажам в различных жанрах')\n",
    "plt.ylim(0,6)\n",
    "plt.show()"
   ]
  },
  {
   "cell_type": "markdown",
   "metadata": {},
   "source": [
    "**Вывод:** \n",
    "\n",
    "Картина поменялась, не всегда общие цифры такие однозначные.\n",
    "- Теперь у нас лидер продаж - игры в жанре **Shooter**. Это видно и по таблице и на диаграмме размаха.\n",
    "- По объемам продаж никакой жанр даже не приблизился к данному жанру. На втором месте это **Sport и Platform**, но есть сравнимые с ними по медиане продаж - **Platform**.\n",
    "- Далее **Role-Playing и Racing**.\n",
    "- **Action** по медианному значению только на 7-ом месте."
   ]
  },
  {
   "cell_type": "markdown",
   "metadata": {},
   "source": [
    "### Шаг 4. Составим портрет пользователя каждого региона"
   ]
  },
  {
   "cell_type": "markdown",
   "metadata": {},
   "source": [
    "<span style=\"color:brown\">**Определим для пользователя каждого региона (NA, EU, JP):**</span>\n",
    "    - Самые популярные платформы (топ-5)\n",
    "    "
   ]
  },
  {
   "cell_type": "markdown",
   "metadata": {},
   "source": [
    "**NA** Северная Америка"
   ]
  },
  {
   "cell_type": "code",
   "execution_count": 46,
   "metadata": {},
   "outputs": [
    {
     "data": {
      "image/png": "[encoded data removed]",
      "text/plain": [
       "<Figure size 720x360 with 1 Axes>"
      ]
     },
     "metadata": {
      "needs_background": "light"
     },
     "output_type": "display_data"
    }
   ],
   "source": [
    "#Построим столбчатые диаграммы, для визуализации нужной нам информации они подходят луше всего\n",
    "(\n",
    "    actual_period.pivot_table(index= 'platform', values= 'na_sales', aggfunc= 'sum').\n",
    "    sort_values(ascending= False, by= 'na_sales').plot(kind= 'bar', figsize= (10,5))\n",
    ");\n",
    "plt.title('Рейтинг платформ в Северной Америке')\n",
    "plt.xlabel('Платформа')\n",
    "plt.ylabel('Количество продаж')\n",
    "plt.show()"
   ]
  },
  {
   "cell_type": "markdown",
   "metadata": {},
   "source": [
    "На первом месте по популярности у геймеров Северной Америки конечно же **X360**, так как это их продукт. Платформы **Wii, PS3, PS4** японские, но тоже очень популярны, а по сумме продаж превышают продажи на америкаской платформе."
   ]
  },
  {
   "cell_type": "markdown",
   "metadata": {},
   "source": [
    "**EU** Европа"
   ]
  },
  {
   "cell_type": "code",
   "execution_count": 47,
   "metadata": {},
   "outputs": [
    {
     "data": {
      "image/png": "[encoded data removed]",
      "text/plain": [
       "<Figure size 720x360 with 1 Axes>"
      ]
     },
     "metadata": {
      "needs_background": "light"
     },
     "output_type": "display_data"
    }
   ],
   "source": [
    "(\n",
    "    actual_period.pivot_table(index= 'platform', values= 'eu_sales', aggfunc= 'sum').\n",
    "    sort_values(ascending= False, by= 'eu_sales').plot(kind= 'bar', figsize= (10,5))\n",
    ");\n",
    "plt.title('Рейтинг платформ в Европе')\n",
    "plt.xlabel('Платформа')\n",
    "plt.ylabel('Количество продаж')\n",
    "plt.show()"
   ]
  },
  {
   "cell_type": "markdown",
   "metadata": {},
   "source": [
    "В Европе, почти те же предпочтения, что и в NA, но первое место заняла всё же японская консоль **PS3**. Затем в рейтинге **X360, PS4, PC, Wii**.  "
   ]
  },
  {
   "cell_type": "markdown",
   "metadata": {},
   "source": [
    "**JP** Япония"
   ]
  },
  {
   "cell_type": "code",
   "execution_count": 48,
   "metadata": {},
   "outputs": [
    {
     "data": {
      "image/png": "[encoded data removed]",
      "text/plain": [
       "<Figure size 720x360 with 1 Axes>"
      ]
     },
     "metadata": {
      "needs_background": "light"
     },
     "output_type": "display_data"
    }
   ],
   "source": [
    "(\n",
    "    actual_period.pivot_table(index= 'platform', values= 'jp_sales', aggfunc= 'sum').\n",
    "    sort_values(ascending= False, by= 'jp_sales').plot(kind= 'bar', figsize= (10,5))\n",
    ");\n",
    "plt.title('Рейтинг платформ в Японии')\n",
    "plt.xlabel('Платформа')\n",
    "plt.ylabel('Количество продаж')\n",
    "plt.show()"
   ]
  },
  {
   "cell_type": "markdown",
   "metadata": {},
   "source": [
    "Японцы предпочитают свой продукт, играют на своих платформах, у них самая широкая линейка платформ. Первое место заняла **3DS** платформа. Затем **PS3, PSP и DS**. Замыкает 5-ку PSV, которая ни в Европе, ни в Америке вообще не популярна, но доходы от продаж сравнимы с продажами в Японии."
   ]
  },
  {
   "cell_type": "markdown",
   "metadata": {},
   "source": [
    "   - Самые популярные жанры (топ-5)"
   ]
  },
  {
   "cell_type": "markdown",
   "metadata": {},
   "source": [
    "**NA** Северная Америка"
   ]
  },
  {
   "cell_type": "code",
   "execution_count": 49,
   "metadata": {},
   "outputs": [
    {
     "data": {
      "text/html": [
       "<div>\n",
       "<style scoped>\n",
       "    .dataframe tbody tr th:only-of-type {\n",
       "        vertical-align: middle;\n",
       "    }\n",
       "\n",
       "    .dataframe tbody tr th {\n",
       "        vertical-align: top;\n",
       "    }\n",
       "\n",
       "    .dataframe thead th {\n",
       "        text-align: right;\n",
       "    }\n",
       "</style>\n",
       "<table border=\"1\" class=\"dataframe\">\n",
       "  <thead>\n",
       "    <tr style=\"text-align: right;\">\n",
       "      <th></th>\n",
       "      <th>na_sales</th>\n",
       "    </tr>\n",
       "    <tr>\n",
       "      <th>genre</th>\n",
       "      <th></th>\n",
       "    </tr>\n",
       "  </thead>\n",
       "  <tbody>\n",
       "    <tr>\n",
       "      <th>Action</th>\n",
       "      <td>177.84</td>\n",
       "    </tr>\n",
       "    <tr>\n",
       "      <th>Shooter</th>\n",
       "      <td>144.77</td>\n",
       "    </tr>\n",
       "    <tr>\n",
       "      <th>Sports</th>\n",
       "      <td>81.53</td>\n",
       "    </tr>\n",
       "    <tr>\n",
       "      <th>Role-Playing</th>\n",
       "      <td>64.00</td>\n",
       "    </tr>\n",
       "    <tr>\n",
       "      <th>Misc</th>\n",
       "      <td>38.19</td>\n",
       "    </tr>\n",
       "  </tbody>\n",
       "</table>\n",
       "</div>"
      ],
      "text/plain": [
       "              na_sales\n",
       "genre                 \n",
       "Action          177.84\n",
       "Shooter         144.77\n",
       "Sports           81.53\n",
       "Role-Playing     64.00\n",
       "Misc             38.19"
      ]
     },
     "execution_count": 49,
     "metadata": {},
     "output_type": "execute_result"
    }
   ],
   "source": [
    "(\n",
    "    actual_period.pivot_table(index= 'genre', values= 'na_sales', aggfunc= 'sum').\n",
    "    sort_values(ascending= False, by= 'na_sales').head()\n",
    ")"
   ]
  },
  {
   "cell_type": "markdown",
   "metadata": {},
   "source": [
    "**EU** Европа"
   ]
  },
  {
   "cell_type": "code",
   "execution_count": 50,
   "metadata": {},
   "outputs": [
    {
     "data": {
      "text/html": [
       "<div>\n",
       "<style scoped>\n",
       "    .dataframe tbody tr th:only-of-type {\n",
       "        vertical-align: middle;\n",
       "    }\n",
       "\n",
       "    .dataframe tbody tr th {\n",
       "        vertical-align: top;\n",
       "    }\n",
       "\n",
       "    .dataframe thead th {\n",
       "        text-align: right;\n",
       "    }\n",
       "</style>\n",
       "<table border=\"1\" class=\"dataframe\">\n",
       "  <thead>\n",
       "    <tr style=\"text-align: right;\">\n",
       "      <th></th>\n",
       "      <th>eu_sales</th>\n",
       "    </tr>\n",
       "    <tr>\n",
       "      <th>genre</th>\n",
       "      <th></th>\n",
       "    </tr>\n",
       "  </thead>\n",
       "  <tbody>\n",
       "    <tr>\n",
       "      <th>Action</th>\n",
       "      <td>159.34</td>\n",
       "    </tr>\n",
       "    <tr>\n",
       "      <th>Shooter</th>\n",
       "      <td>113.47</td>\n",
       "    </tr>\n",
       "    <tr>\n",
       "      <th>Sports</th>\n",
       "      <td>69.09</td>\n",
       "    </tr>\n",
       "    <tr>\n",
       "      <th>Role-Playing</th>\n",
       "      <td>48.53</td>\n",
       "    </tr>\n",
       "    <tr>\n",
       "      <th>Racing</th>\n",
       "      <td>27.29</td>\n",
       "    </tr>\n",
       "  </tbody>\n",
       "</table>\n",
       "</div>"
      ],
      "text/plain": [
       "              eu_sales\n",
       "genre                 \n",
       "Action          159.34\n",
       "Shooter         113.47\n",
       "Sports           69.09\n",
       "Role-Playing     48.53\n",
       "Racing           27.29"
      ]
     },
     "execution_count": 50,
     "metadata": {},
     "output_type": "execute_result"
    }
   ],
   "source": [
    "(\n",
    "    actual_period.pivot_table(index= 'genre', values= 'eu_sales', aggfunc= 'sum').\n",
    "    sort_values(ascending= False, by= 'eu_sales').head()\n",
    ")"
   ]
  },
  {
   "cell_type": "markdown",
   "metadata": {},
   "source": [
    "**JP** Япония"
   ]
  },
  {
   "cell_type": "code",
   "execution_count": 51,
   "metadata": {},
   "outputs": [
    {
     "data": {
      "text/html": [
       "<div>\n",
       "<style scoped>\n",
       "    .dataframe tbody tr th:only-of-type {\n",
       "        vertical-align: middle;\n",
       "    }\n",
       "\n",
       "    .dataframe tbody tr th {\n",
       "        vertical-align: top;\n",
       "    }\n",
       "\n",
       "    .dataframe thead th {\n",
       "        text-align: right;\n",
       "    }\n",
       "</style>\n",
       "<table border=\"1\" class=\"dataframe\">\n",
       "  <thead>\n",
       "    <tr style=\"text-align: right;\">\n",
       "      <th></th>\n",
       "      <th>jp_sales</th>\n",
       "    </tr>\n",
       "    <tr>\n",
       "      <th>genre</th>\n",
       "      <th></th>\n",
       "    </tr>\n",
       "  </thead>\n",
       "  <tbody>\n",
       "    <tr>\n",
       "      <th>Role-Playing</th>\n",
       "      <td>65.44</td>\n",
       "    </tr>\n",
       "    <tr>\n",
       "      <th>Action</th>\n",
       "      <td>52.80</td>\n",
       "    </tr>\n",
       "    <tr>\n",
       "      <th>Misc</th>\n",
       "      <td>12.86</td>\n",
       "    </tr>\n",
       "    <tr>\n",
       "      <th>Simulation</th>\n",
       "      <td>10.41</td>\n",
       "    </tr>\n",
       "    <tr>\n",
       "      <th>Fighting</th>\n",
       "      <td>9.44</td>\n",
       "    </tr>\n",
       "  </tbody>\n",
       "</table>\n",
       "</div>"
      ],
      "text/plain": [
       "              jp_sales\n",
       "genre                 \n",
       "Role-Playing     65.44\n",
       "Action           52.80\n",
       "Misc             12.86\n",
       "Simulation       10.41\n",
       "Fighting          9.44"
      ]
     },
     "execution_count": 51,
     "metadata": {},
     "output_type": "execute_result"
    }
   ],
   "source": [
    "(\n",
    "    actual_period.pivot_table(index= 'genre', values= 'jp_sales', aggfunc= 'sum').\n",
    "    sort_values(ascending= False, by= 'jp_sales').head()\n",
    ")"
   ]
  },
  {
   "cell_type": "markdown",
   "metadata": {},
   "source": [
    "<span style=\"color:blue\">Вывод:\n",
    "- Предпочтения в жанрах очень схожи у Америки с Европой: \n",
    "   - Action/Action \n",
    "   - Shooter/Shooter \n",
    "   - Sports/Sports \n",
    "   - Role-Playing/Role-Playing\n",
    "   - Misc/Racing\t\n",
    "- Европейцы предпочитают гонки.\n",
    "- А вот в Японии свой мир игровых жанров: \n",
    "   - Role-Playing\n",
    "   - Action\n",
    "   - Misc\n",
    "   - Simulation\n",
    "   - Fighting\n",
    "- Ни спорт, ни \"стрелялки\", ни гонки их не привлекают. У них больше интелектуальных игр. </span>"
   ]
  },
  {
   "cell_type": "markdown",
   "metadata": {},
   "source": [
    "<span style=\"color:brown\">**Влияет ли рейтинг ESRB на продажи в отдельном регионе**</span>"
   ]
  },
  {
   "cell_type": "code",
   "execution_count": 52,
   "metadata": {},
   "outputs": [
    {
     "data": {
      "text/html": [
       "<div>\n",
       "<style scoped>\n",
       "    .dataframe tbody tr th:only-of-type {\n",
       "        vertical-align: middle;\n",
       "    }\n",
       "\n",
       "    .dataframe tbody tr th {\n",
       "        vertical-align: top;\n",
       "    }\n",
       "\n",
       "    .dataframe thead th {\n",
       "        text-align: right;\n",
       "    }\n",
       "</style>\n",
       "<table border=\"1\" class=\"dataframe\">\n",
       "  <thead>\n",
       "    <tr style=\"text-align: right;\">\n",
       "      <th></th>\n",
       "      <th>eu_sales</th>\n",
       "      <th>jp_sales</th>\n",
       "      <th>na_sales</th>\n",
       "    </tr>\n",
       "    <tr>\n",
       "      <th>rating</th>\n",
       "      <th></th>\n",
       "      <th></th>\n",
       "      <th></th>\n",
       "    </tr>\n",
       "  </thead>\n",
       "  <tbody>\n",
       "    <tr>\n",
       "      <th>E</th>\n",
       "      <td>113.03</td>\n",
       "      <td>28.33</td>\n",
       "      <td>114.37</td>\n",
       "    </tr>\n",
       "    <tr>\n",
       "      <th>E10+</th>\n",
       "      <td>55.37</td>\n",
       "      <td>8.19</td>\n",
       "      <td>75.70</td>\n",
       "    </tr>\n",
       "    <tr>\n",
       "      <th>M</th>\n",
       "      <td>193.96</td>\n",
       "      <td>21.20</td>\n",
       "      <td>231.57</td>\n",
       "    </tr>\n",
       "    <tr>\n",
       "      <th>ND</th>\n",
       "      <td>91.50</td>\n",
       "      <td>108.84</td>\n",
       "      <td>103.31</td>\n",
       "    </tr>\n",
       "    <tr>\n",
       "      <th>T</th>\n",
       "      <td>52.96</td>\n",
       "      <td>26.02</td>\n",
       "      <td>66.02</td>\n",
       "    </tr>\n",
       "  </tbody>\n",
       "</table>\n",
       "</div>"
      ],
      "text/plain": [
       "        eu_sales  jp_sales  na_sales\n",
       "rating                              \n",
       "E         113.03     28.33    114.37\n",
       "E10+       55.37      8.19     75.70\n",
       "M         193.96     21.20    231.57\n",
       "ND         91.50    108.84    103.31\n",
       "T          52.96     26.02     66.02"
      ]
     },
     "execution_count": 52,
     "metadata": {},
     "output_type": "execute_result"
    }
   ],
   "source": [
    "ESRB= actual_period.pivot_table(index= 'rating', values= ['na_sales', 'eu_sales', 'jp_sales'], aggfunc= 'sum')\n",
    "ESRB"
   ]
  },
  {
   "cell_type": "code",
   "execution_count": 53,
   "metadata": {},
   "outputs": [
    {
     "data": {
      "image/png": "[encoded data removed]",
      "text/plain": [
       "<Figure size 720x360 with 1 Axes>"
      ]
     },
     "metadata": {
      "needs_background": "light"
     },
     "output_type": "display_data"
    }
   ],
   "source": [
    "(\n",
    "    actual_period.pivot_table(index= 'rating', values= ['na_sales', 'eu_sales', 'jp_sales'], aggfunc= 'mean').\n",
    "    sort_values(by= 'na_sales', ascending= False).\n",
    "    plot(kind= 'bar', figsize= (10, 5))\n",
    ");\n",
    "plt.xlabel('Аббревиатура рейтинга ESRB')\n",
    "plt.ylabel('Количество проданных игр, млн')\n",
    "plt.title('Зависимость продаж от рейтинга')\n",
    "plt.show()"
   ]
  },
  {
   "cell_type": "markdown",
   "metadata": {},
   "source": [
    "**Вывод:**\n",
    "\n",
    "- **Портрет пользователя Северной Америки:**\n",
    "  - На первом месте по популярности **X360.** Платформы **Wii, PS3, PS4** японские, но тоже очень популярны.\n",
    "  - Топ-5 предпочтительных жанров: **Action, Sports, Shooter** и уже потом **Misc, Role-Playing**.\n",
    "  - Больше всего продаж игр с рейтингом **М \"от 17 и выше\"**, на втором месте игры с рейтингом **Т \"от 13 и выше\"** и на третьем месте игры с рейтингом **Е10+ \"от 10 и выше\"**. \n",
    "- **Портрет пользователя Европы:**\n",
    "  - В Европе, почти те же предпочтения, что и в Америке, но первое место принадлежит **PS3**. Затем в рейтинге **X360, PS4, PC, Wii**\n",
    "  - Топ-5 предпочтительных жанров схожи с Америкой: **Action, Sports, Shooter, Misc и Role-Playing**. \n",
    "  - На продажи больше всего оказывают влияние рейтинги: **М, Е\"для всех\", Т**.\n",
    "- **Портрет пользователя Японии:**\n",
    "  - Японцы предпочитают свой продукт, играют на своих платформах. Лидирует **3DS** платформа. Затем **PS3, PSP и DS**. Замыкает 5-ку **PSV**. \n",
    "  - Топ-5 предпочтительных жанров: **Role-Playing** с большим отрывом, затем **Action, Misc, Platform и Adventure**. Японские геймеры не любят \"стрелялки\", но зато любят \"приключения\" и \"бродилки\".\n",
    "  - Больше всего продаж игр неоцененных международными критиками. Но в Японии есть своя некоммерческая организация, которая занимается присвоением рейтинга компьютерным играм, CERO. Следующие в рейтинге - **Е \"для всех\"**, затем  **Т \"от 13 и выше\"**.\n",
    "  \n",
    "- Кроме того, игры с рейтингом **ЕС \"от 3 лет и выше\"** продавались только в Америке, а вот с рейтингом **RP \"рейтинг ожидается\"** покупали только в Европе."
   ]
  },
  {
   "cell_type": "markdown",
   "metadata": {},
   "source": [
    "### **Шаг 5.** Проверим гипотезы"
   ]
  },
  {
   "cell_type": "markdown",
   "metadata": {},
   "source": [
    " 1. **Средние пользовательские рейтинги платформ Xbox One и PC одинаковые**\n",
    " 2. **Средние пользовательские рейтинги жанров Action (англ. «действие», экшен-игры) и Sports (англ. «спортивные соревнования») разные.**"
   ]
  },
  {
   "cell_type": "markdown",
   "metadata": {},
   "source": [
    "<span style=\"color:brown\">1. Сформулируем основную (нулевую) и альтернативную гипотезы. Они должны быть противоречащими, поэтому:</span>\n",
    "- H₀: Средние пользовательские рейтинги платформ Xbox One и PC одинаковые\n",
    "- H₁: Средние пользовательские рейтинги платформ Xbox One и PC разные"
   ]
  },
  {
   "cell_type": "code",
   "execution_count": 54,
   "metadata": {},
   "outputs": [
    {
     "name": "stdout",
     "output_type": "stream",
     "text": [
      "Средний пользовательский рейтинг платформы Xbox One: 6.521428571428572\n",
      "Средний пользовательский рейтинг платформы PC 6.4286407766990274\n"
     ]
    }
   ],
   "source": [
    "XOne= actual_period[(actual_period['platform'] == 'XOne') &  (actual_period['user_score'] > 0)]['user_score']\n",
    "PC= actual_period[(actual_period['platform'] == 'PC') &  (actual_period['user_score'] > 0)]['user_score']\n",
    "print('Средний пользовательский рейтинг платформы Xbox One:', XOne.mean())\n",
    "print('Средний пользовательский рейтинг платформы PC', PC.mean())"
   ]
  },
  {
   "cell_type": "code",
   "execution_count": 55,
   "metadata": {},
   "outputs": [
    {
     "name": "stdout",
     "output_type": "stream",
     "text": [
      "p-значение: 0.5489537965134912\n",
      "Не получилось отвергнуть нулевую гипотезу\n"
     ]
    }
   ],
   "source": [
    "# Зададим самостоятельно коэффициент alpha, применим тест Стюдента\n",
    "alpha= 0.05\n",
    "\n",
    "results= st.ttest_ind(XOne, PC, equal_var= False)\n",
    "\n",
    "print('p-значение:', results.pvalue)\n",
    "\n",
    "\n",
    "if (results.pvalue < alpha):\n",
    "    print(\"Отвергаем нулевую гипотезу\")\n",
    "else:\n",
    "    print(\"Не получилось отвергнуть нулевую гипотезу\")"
   ]
  },
  {
   "cell_type": "code",
   "execution_count": 56,
   "metadata": {},
   "outputs": [
    {
     "data": {
      "image/png": "[encoded data removed]",
      "text/plain": [
       "<Figure size 504x288 with 1 Axes>"
      ]
     },
     "metadata": {
      "needs_background": "light"
     },
     "output_type": "display_data"
    }
   ],
   "source": [
    "fig, ax= plt.subplots(figsize=(7, 4))\n",
    "ax.hist(actual_period[(actual_period.platform == \"XOne\") & (actual_period.user_score.notna())]['user_score'], bins= 10, density= True, alpha= 0.5)\n",
    "ax.hist(actual_period[(actual_period.platform == \"PC\") & (actual_period.user_score.notna())]['user_score'], bins= 10, density= True, alpha= 0.5)\n",
    "plt.show()"
   ]
  },
  {
   "cell_type": "markdown",
   "metadata": {},
   "source": [
    "Значение p-value 98%. То есть, с высокой степенью вероятности оценки пользователей на этих платформах совпадают."
   ]
  },
  {
   "cell_type": "markdown",
   "metadata": {},
   "source": [
    "Принимаем H₀ гипотезу: **Средние пользовательские рейтинги платформ Xbox One и PC одинаковые**"
   ]
  },
  {
   "cell_type": "markdown",
   "metadata": {},
   "source": [
    "<span style=\"color:brown\">2. Сформулируем основную (нулевую) и альтернативную гипотезы. Они должны быть противоречащими, поэтому:</span>\n",
    "- H₀: Средние пользовательские рейтинги жанров Action и Sports одинаковые\n",
    "- H₁: Средние пользовательские рейтинги жанров Action и Sports разные"
   ]
  },
  {
   "cell_type": "code",
   "execution_count": 57,
   "metadata": {},
   "outputs": [
    {
     "name": "stdout",
     "output_type": "stream",
     "text": [
      "Средний пользовательский рейтинг жанра Action: 6.825047801147227\n",
      "Средний пользовательский рейтинг жанра Sports 5.455897435897437\n"
     ]
    }
   ],
   "source": [
    "Action= actual_period[(actual_period['genre'] == 'Action') &  (actual_period['user_score'] > 0)]['user_score']\n",
    "Sports= actual_period[(actual_period['genre'] == 'Sports') &  (actual_period['user_score'] > 0)]['user_score']\n",
    "print('Средний пользовательский рейтинг жанра Action:', Action.mean())\n",
    "print('Средний пользовательский рейтинг жанра Sports', Sports.mean())"
   ]
  },
  {
   "cell_type": "code",
   "execution_count": 58,
   "metadata": {},
   "outputs": [
    {
     "name": "stdout",
     "output_type": "stream",
     "text": [
      "p-значение: 4.24307776572644e-20\n",
      "Отвергаем нулевую гипотезу\n"
     ]
    }
   ],
   "source": [
    "# Зададим самостоятельно коэффициент alpha, применим тест Стюдента\n",
    "alpha= 0.05\n",
    "\n",
    "results= st.ttest_ind(Action, Sports, equal_var= False)\n",
    "\n",
    "print('p-значение:', results.pvalue)\n",
    "\n",
    "\n",
    "if (results.pvalue < alpha):\n",
    "    print(\"Отвергаем нулевую гипотезу\")\n",
    "else:\n",
    "    print(\"Не получилось отвергнуть нулевую гипотезу\")"
   ]
  },
  {
   "cell_type": "code",
   "execution_count": 59,
   "metadata": {},
   "outputs": [
    {
     "data": {
      "image/png": "[encoded data removed]",
      "text/plain": [
       "<Figure size 504x288 with 1 Axes>"
      ]
     },
     "metadata": {
      "needs_background": "light"
     },
     "output_type": "display_data"
    }
   ],
   "source": [
    "fig, ax= plt.subplots(figsize=(7, 4))\n",
    "ax.hist(actual_period[(actual_period.genre == \"Action\") & (actual_period.user_score.notna())]['user_score'], bins=10, density=True, alpha=0.5)\n",
    "ax.hist(actual_period[(actual_period.genre == \"Sports\") & (actual_period.user_score.notna())]['user_score'], bins=10, density=True, alpha = 0.5)\n",
    "plt.show()"
   ]
  },
  {
   "cell_type": "markdown",
   "metadata": {},
   "source": [
    "Значение p-value очень мало. Мы приняли критический уровень вероятности 5%, вследствие этого гипотезу отвергаем, как маловероятную. Оценки пользователей на этих платформах отличаются. Это очевидно и визуально."
   ]
  },
  {
   "cell_type": "markdown",
   "metadata": {},
   "source": [
    "Отклоняем H₀ гипотезу, принмаем, что: **Средние пользовательские рейтинги жанров Action и Sports разные**"
   ]
  },
  {
   "cell_type": "markdown",
   "metadata": {},
   "source": [
    "### ОБЩИЙ ВЫВОД"
   ]
  },
  {
   "cell_type": "markdown",
   "metadata": {},
   "source": [
    "Нами было проведено исследование данных, задачей которого было выявить определяющие успешность игры закономерности. \n",
    "\n",
    "Входные данные -  Выборка  данными о видеоиграх, вышедших на рынок игровой индустрии с 1980 по 2016 годы на различных платформах: игровые приставки, консоли и ПК.\n",
    "\n",
    "Результаты исследования позволят нам сделать ставку на потенциально популярный продукт и спланировать рекламные кампании.\n",
    "\n",
    "Необходимо было определить:\n",
    "1. Срок жизни платформ, как менялись продажи по платформам. Определить ТОПовые.\n",
    "2. Акктуальный период  для более точного анализа-прогноза на 2017 год.\n",
    "3. Влияние оценок критиков и пользователей на продажи. \n",
    "4. Портрет пользователя для отдельно взятого региона в Северной Америке, Европе и Японии. \n",
    "5. Гипотезы:\n",
    "   - Средние пользовательские рейтинги платформ Xbox One и PC одинаковые\n",
    "   - Средние пользовательские рейтинги жанров Action и Sports разные.\n",
    "\n",
    "Проведя исследования по предоставленным данным, выявили следующее:\n",
    "\n",
    "**Задача №1:** \n",
    " \n",
    "   - В среднем платфрмы \"живут\" от 8-ми до 10 лет. Все хорошо стартуют, достигают своего апогея, и затем плавно снижаются. Падение продаж консоли начинаеи=тся в момент выхода консоли следующего поколения или в предверие, ожидание выхода.\n",
    "   \n",
    "**Задача №2:** \n",
    "   \n",
    "   - На основании полученных данных в певой задаче определили небольшой период, начиная с 2010 года, момент, когда в данный промежуток попадают, практически, все консоли и есть запас для платформ, вышедших за 8 лет до 2017.\n",
    "   \n",
    "**Задача №3:** \n",
    "   \n",
    "- Выявили, что оценки критиков и пользователей очень похожи.\n",
    "- Продажи больше коррелируют с оценками критиков, чем с оценками пользователей. \n",
    "\n",
    "**Задача №4:** \n",
    "\n",
    "- **Портрет пользователя Северной Америки:**\n",
    "  - На первом месте по популярности **X360.** Платформы **Wii, PS3, PS4** японские, но тоже очень популярны.\n",
    "  - Топ-5 предпочтительных жанров: **Action, Sports, Shooter** и уже потом **Misc, Role-Playing**.\n",
    "  - Больше всего продаж игр с рейтингом **М \"от 17 и выше\"**, на втором месте игры с рейтингом **Т \"от 13 и выше\"** и на третьем месте игры с рейтингом **Е10+ \"от 10 и выше\"**. \n",
    "- **Портрет пользователя Европы:**\n",
    "  - В Европе, почти те же предпочтения, что и в Америке, но первое место принадлежит **PS3**. Затем в рейтинге **X360, PS4, PC, Wii**\n",
    "  - Топ-5 предпочтительных жанров схожи с Америкой: **Action, Sports, Shooter, Misc и Role-Playing**. \n",
    "  - На продажи больше всего оказывают влияние рейтинги: **М, Е\"для всех\", Т**.\n",
    "- **Портрет пользователя Японии:**\n",
    "  - Японцы предпочитают свой продукт, играют на своих платформах. Лидирует **3DS** платформа. Затем **PS3, PSP и DS**. Замыкает 5-ку **PSV**. \n",
    "  - Топ-5 предпочтительных жанров: **Role-Playing** с большим отрывом, затем **Action, Misc, Platform и Adventure**. Японские геймеры не любят \"стрелялки\", но зато любят \"приключения\" и \"бродилки\".\n",
    "  - Больше всего продаж игр неоцененных международными критиками. Но в Японии есть своя некоммерческая организация, которая занимается присвоением рейтинга компьютерным играм, CERO. Следующие в рейтинге - **Е \"для всех\"**, затем  **Т \"от 13 и выше\"**.\n",
    "  \n",
    "**Задача №5:**  \n",
    " \n",
    "- **Гипотеза 1:** Принимаем H₀ гипотезу: Средние пользовательские рейтинги платформ Xbox One и PC одинаковые.\n",
    "- **Гипотеза 2:** Отклоняем H₀ гипотезу, принмаем, что: Средние пользовательские рейтинги жанров Action и Sports разные.\n",
    "  \n",
    "\n",
    "**ОБЩИЕ РЕКОМЕНДАЦИИ**\n",
    "1. Взять в продажу на 2017 год игры для приставок **PS4**, **X360**.\n",
    "2. Рекомендуемые жанры - **Action, Shooter** .\n",
    "3. Рекомендуемый рейтинг **М \"от 17 и выше\"**, он дает больше всего прибыли.\n",
    "\n",
    "*Дополнительно: С появлением игр всё более ресурснозатратных, похожих уже на реальные фильмы, для них возможно использование только высокотехнологичных консолей и ПК. Поэтому, в перспективе, весь игровой мир уйдет в интернет, на смартфонах игры только для того, чтобы отвлечься, скоротать время*. "
   ]
  }
 ],
 "metadata": {
  "ExecuteTimeLog": [
   {
    "duration": 498,
    "start_time": "2023-02-13T08:07:21.014Z"
   },
   {
    "duration": 46,
    "start_time": "2023-02-13T08:07:24.003Z"
   },
   {
    "duration": 67,
    "start_time": "2023-02-13T08:08:19.971Z"
   },
   {
    "duration": 44,
    "start_time": "2023-02-13T08:08:40.902Z"
   },
   {
    "duration": 441,
    "start_time": "2023-02-13T08:08:52.495Z"
   },
   {
    "duration": 32,
    "start_time": "2023-02-13T08:08:52.938Z"
   },
   {
    "duration": 1213,
    "start_time": "2023-02-16T11:01:44.741Z"
   },
   {
    "duration": 632,
    "start_time": "2023-02-16T11:01:45.956Z"
   },
   {
    "duration": 24,
    "start_time": "2023-02-16T11:01:46.590Z"
   },
   {
    "duration": 31,
    "start_time": "2023-02-16T11:01:46.617Z"
   },
   {
    "duration": 12,
    "start_time": "2023-02-16T11:01:46.650Z"
   },
   {
    "duration": 11,
    "start_time": "2023-02-16T11:01:46.664Z"
   },
   {
    "duration": 23,
    "start_time": "2023-02-16T11:01:46.676Z"
   },
   {
    "duration": 11,
    "start_time": "2023-02-16T11:01:46.700Z"
   },
   {
    "duration": 8,
    "start_time": "2023-02-16T11:01:46.713Z"
   },
   {
    "duration": 24,
    "start_time": "2023-02-16T11:01:46.724Z"
   },
   {
    "duration": 5,
    "start_time": "2023-02-16T11:01:46.750Z"
   },
   {
    "duration": 27,
    "start_time": "2023-02-16T11:01:46.757Z"
   },
   {
    "duration": 6,
    "start_time": "2023-02-16T11:01:46.785Z"
   },
   {
    "duration": 17,
    "start_time": "2023-02-16T11:01:46.792Z"
   },
   {
    "duration": 12,
    "start_time": "2023-02-16T11:01:46.811Z"
   },
   {
    "duration": 25,
    "start_time": "2023-02-16T11:01:46.824Z"
   },
   {
    "duration": 8,
    "start_time": "2023-02-16T11:01:46.851Z"
   },
   {
    "duration": 16,
    "start_time": "2023-02-16T11:01:46.860Z"
   },
   {
    "duration": 9,
    "start_time": "2023-02-16T11:01:46.877Z"
   },
   {
    "duration": 18,
    "start_time": "2023-02-16T11:01:46.887Z"
   },
   {
    "duration": 14,
    "start_time": "2023-02-16T11:01:46.907Z"
   },
   {
    "duration": 202,
    "start_time": "2023-02-16T11:01:46.923Z"
   },
   {
    "duration": 30,
    "start_time": "2023-02-16T11:01:47.127Z"
   },
   {
    "duration": 258,
    "start_time": "2023-02-16T11:01:47.158Z"
   },
   {
    "duration": 4,
    "start_time": "2023-02-16T11:01:47.418Z"
   },
   {
    "duration": 1072,
    "start_time": "2023-02-16T11:01:47.424Z"
   },
   {
    "duration": 25,
    "start_time": "2023-02-16T11:01:48.497Z"
   },
   {
    "duration": 237,
    "start_time": "2023-02-16T11:01:48.526Z"
   },
   {
    "duration": 18,
    "start_time": "2023-02-16T11:01:48.765Z"
   },
   {
    "duration": 12,
    "start_time": "2023-02-16T11:01:48.784Z"
   },
   {
    "duration": 265,
    "start_time": "2023-02-16T11:01:48.797Z"
   },
   {
    "duration": 10,
    "start_time": "2023-02-16T11:01:49.064Z"
   },
   {
    "duration": 1288,
    "start_time": "2023-02-16T11:01:49.076Z"
   },
   {
    "duration": 10,
    "start_time": "2023-02-16T11:01:50.366Z"
   },
   {
    "duration": 1339,
    "start_time": "2023-02-16T11:01:50.377Z"
   },
   {
    "duration": 11,
    "start_time": "2023-02-16T11:01:51.718Z"
   },
   {
    "duration": 25,
    "start_time": "2023-02-16T11:01:51.730Z"
   },
   {
    "duration": 11,
    "start_time": "2023-02-16T11:01:51.757Z"
   },
   {
    "duration": 14,
    "start_time": "2023-02-16T11:01:51.769Z"
   },
   {
    "duration": 22,
    "start_time": "2023-02-16T11:01:51.785Z"
   },
   {
    "duration": 342,
    "start_time": "2023-02-16T11:01:51.809Z"
   },
   {
    "duration": 13,
    "start_time": "2023-02-16T11:01:52.152Z"
   },
   {
    "duration": 199,
    "start_time": "2023-02-16T11:01:52.167Z"
   },
   {
    "duration": 186,
    "start_time": "2023-02-16T11:01:52.367Z"
   },
   {
    "duration": 202,
    "start_time": "2023-02-16T11:01:52.555Z"
   },
   {
    "duration": 14,
    "start_time": "2023-02-16T11:01:52.758Z"
   },
   {
    "duration": 16,
    "start_time": "2023-02-16T11:01:52.773Z"
   },
   {
    "duration": 12,
    "start_time": "2023-02-16T11:01:52.790Z"
   },
   {
    "duration": 23,
    "start_time": "2023-02-16T11:01:52.804Z"
   },
   {
    "duration": 203,
    "start_time": "2023-02-16T11:01:52.849Z"
   },
   {
    "duration": 9,
    "start_time": "2023-02-16T11:01:53.053Z"
   },
   {
    "duration": 13,
    "start_time": "2023-02-16T11:01:53.063Z"
   },
   {
    "duration": 152,
    "start_time": "2023-02-16T11:01:53.078Z"
   },
   {
    "duration": 8,
    "start_time": "2023-02-16T11:01:53.232Z"
   },
   {
    "duration": 13,
    "start_time": "2023-02-16T11:01:53.248Z"
   },
   {
    "duration": 154,
    "start_time": "2023-02-16T11:01:53.263Z"
   },
   {
    "duration": 53,
    "start_time": "2023-02-16T11:34:07.950Z"
   },
   {
    "duration": 1471,
    "start_time": "2023-02-16T11:35:14.755Z"
   },
   {
    "duration": 93,
    "start_time": "2023-02-16T11:35:16.227Z"
   },
   {
    "duration": 22,
    "start_time": "2023-02-16T11:35:16.321Z"
   },
   {
    "duration": 33,
    "start_time": "2023-02-16T11:35:16.345Z"
   },
   {
    "duration": 11,
    "start_time": "2023-02-16T11:35:16.381Z"
   },
   {
    "duration": 5,
    "start_time": "2023-02-16T11:35:16.394Z"
   },
   {
    "duration": 35,
    "start_time": "2023-02-16T11:35:16.401Z"
   },
   {
    "duration": 15,
    "start_time": "2023-02-16T11:35:16.438Z"
   },
   {
    "duration": 10,
    "start_time": "2023-02-16T11:35:16.455Z"
   },
   {
    "duration": 11,
    "start_time": "2023-02-16T11:35:16.467Z"
   },
   {
    "duration": 13,
    "start_time": "2023-02-16T11:35:16.480Z"
   },
   {
    "duration": 41,
    "start_time": "2023-02-16T11:35:16.494Z"
   },
   {
    "duration": 25,
    "start_time": "2023-02-16T11:35:16.536Z"
   },
   {
    "duration": 26,
    "start_time": "2023-02-16T11:35:16.566Z"
   },
   {
    "duration": 5,
    "start_time": "2023-02-16T11:35:16.594Z"
   },
   {
    "duration": 17,
    "start_time": "2023-02-16T11:35:16.601Z"
   },
   {
    "duration": 16,
    "start_time": "2023-02-16T11:35:16.620Z"
   },
   {
    "duration": 18,
    "start_time": "2023-02-16T11:35:16.638Z"
   },
   {
    "duration": 6,
    "start_time": "2023-02-16T11:35:16.658Z"
   },
   {
    "duration": 19,
    "start_time": "2023-02-16T11:35:16.665Z"
   },
   {
    "duration": 16,
    "start_time": "2023-02-16T11:35:16.685Z"
   },
   {
    "duration": 213,
    "start_time": "2023-02-16T11:35:16.702Z"
   },
   {
    "duration": 18,
    "start_time": "2023-02-16T11:35:16.916Z"
   },
   {
    "duration": 298,
    "start_time": "2023-02-16T11:35:16.936Z"
   },
   {
    "duration": 4,
    "start_time": "2023-02-16T11:35:17.236Z"
   },
   {
    "duration": 1080,
    "start_time": "2023-02-16T11:35:17.242Z"
   },
   {
    "duration": 40,
    "start_time": "2023-02-16T11:35:18.325Z"
   },
   {
    "duration": 235,
    "start_time": "2023-02-16T11:35:18.367Z"
   },
   {
    "duration": 18,
    "start_time": "2023-02-16T11:35:18.604Z"
   },
   {
    "duration": 30,
    "start_time": "2023-02-16T11:35:18.624Z"
   },
   {
    "duration": 218,
    "start_time": "2023-02-16T11:35:18.656Z"
   },
   {
    "duration": 10,
    "start_time": "2023-02-16T11:35:18.876Z"
   },
   {
    "duration": 1422,
    "start_time": "2023-02-16T11:35:18.888Z"
   },
   {
    "duration": 11,
    "start_time": "2023-02-16T11:35:20.312Z"
   },
   {
    "duration": 1374,
    "start_time": "2023-02-16T11:35:20.325Z"
   },
   {
    "duration": 10,
    "start_time": "2023-02-16T11:35:21.701Z"
   },
   {
    "duration": 17,
    "start_time": "2023-02-16T11:35:21.713Z"
   },
   {
    "duration": 24,
    "start_time": "2023-02-16T11:35:21.731Z"
   },
   {
    "duration": 12,
    "start_time": "2023-02-16T11:35:21.756Z"
   },
   {
    "duration": 21,
    "start_time": "2023-02-16T11:35:21.770Z"
   },
   {
    "duration": 335,
    "start_time": "2023-02-16T11:35:21.795Z"
   },
   {
    "duration": 21,
    "start_time": "2023-02-16T11:35:22.132Z"
   },
   {
    "duration": 195,
    "start_time": "2023-02-16T11:35:22.155Z"
   },
   {
    "duration": 187,
    "start_time": "2023-02-16T11:35:22.352Z"
   },
   {
    "duration": 171,
    "start_time": "2023-02-16T11:35:22.540Z"
   },
   {
    "duration": 14,
    "start_time": "2023-02-16T11:35:22.713Z"
   },
   {
    "duration": 27,
    "start_time": "2023-02-16T11:35:22.728Z"
   },
   {
    "duration": 21,
    "start_time": "2023-02-16T11:35:22.757Z"
   },
   {
    "duration": 21,
    "start_time": "2023-02-16T11:35:22.780Z"
   },
   {
    "duration": 177,
    "start_time": "2023-02-16T11:35:22.803Z"
   },
   {
    "duration": 8,
    "start_time": "2023-02-16T11:35:22.982Z"
   },
   {
    "duration": 21,
    "start_time": "2023-02-16T11:35:22.991Z"
   },
   {
    "duration": 146,
    "start_time": "2023-02-16T11:35:23.014Z"
   },
   {
    "duration": 8,
    "start_time": "2023-02-16T11:35:23.162Z"
   },
   {
    "duration": 8,
    "start_time": "2023-02-16T11:35:23.172Z"
   },
   {
    "duration": 152,
    "start_time": "2023-02-16T11:35:23.181Z"
   },
   {
    "duration": 25,
    "start_time": "2023-02-16T11:36:57.729Z"
   },
   {
    "duration": 224,
    "start_time": "2023-02-16T11:37:05.537Z"
   },
   {
    "duration": 25,
    "start_time": "2023-02-16T11:38:14.038Z"
   },
   {
    "duration": 25,
    "start_time": "2023-02-16T11:38:22.047Z"
   },
   {
    "duration": 22,
    "start_time": "2023-02-16T11:42:57.432Z"
   },
   {
    "duration": 15,
    "start_time": "2023-02-16T11:43:06.288Z"
   },
   {
    "duration": 304,
    "start_time": "2023-02-16T11:46:22.191Z"
   },
   {
    "duration": 200,
    "start_time": "2023-02-16T11:47:03.142Z"
   },
   {
    "duration": 12,
    "start_time": "2023-02-16T11:47:29.771Z"
   },
   {
    "duration": 216,
    "start_time": "2023-02-16T11:51:44.527Z"
   },
   {
    "duration": 122,
    "start_time": "2023-02-16T12:02:07.411Z"
   },
   {
    "duration": 232,
    "start_time": "2023-02-16T12:02:44.434Z"
   },
   {
    "duration": 17,
    "start_time": "2023-02-16T12:02:48.094Z"
   },
   {
    "duration": 407,
    "start_time": "2023-02-16T12:06:07.753Z"
   },
   {
    "duration": 267,
    "start_time": "2023-02-16T12:06:56.463Z"
   },
   {
    "duration": 15,
    "start_time": "2023-02-16T12:14:44.855Z"
   },
   {
    "duration": 262,
    "start_time": "2023-02-16T12:16:04.346Z"
   },
   {
    "duration": 230,
    "start_time": "2023-02-16T12:17:50.491Z"
   },
   {
    "duration": 262,
    "start_time": "2023-02-16T12:19:04.100Z"
   },
   {
    "duration": 46,
    "start_time": "2023-02-16T12:26:44.952Z"
   },
   {
    "duration": 10,
    "start_time": "2023-02-16T12:28:00.318Z"
   },
   {
    "duration": 10,
    "start_time": "2023-02-16T12:28:10.094Z"
   },
   {
    "duration": 14,
    "start_time": "2023-02-16T12:29:28.719Z"
   },
   {
    "duration": 1422,
    "start_time": "2023-02-16T12:29:31.265Z"
   },
   {
    "duration": 14,
    "start_time": "2023-02-16T12:29:37.767Z"
   },
   {
    "duration": 11,
    "start_time": "2023-02-16T12:29:41.121Z"
   },
   {
    "duration": 12,
    "start_time": "2023-02-16T12:29:50.380Z"
   },
   {
    "duration": 12,
    "start_time": "2023-02-16T12:30:02.477Z"
   },
   {
    "duration": 19,
    "start_time": "2023-02-16T12:30:42.253Z"
   },
   {
    "duration": 45,
    "start_time": "2023-02-16T12:36:25.919Z"
   },
   {
    "duration": 24,
    "start_time": "2023-02-16T12:36:45.698Z"
   },
   {
    "duration": 16,
    "start_time": "2023-02-16T12:37:24.618Z"
   },
   {
    "duration": 336,
    "start_time": "2023-02-16T12:38:29.880Z"
   },
   {
    "duration": 14,
    "start_time": "2023-02-16T12:39:15.059Z"
   },
   {
    "duration": 67,
    "start_time": "2023-02-16T12:48:00.016Z"
   },
   {
    "duration": 46,
    "start_time": "2023-02-16T12:48:23.184Z"
   },
   {
    "duration": 47,
    "start_time": "2023-02-16T12:49:21.375Z"
   },
   {
    "duration": 12,
    "start_time": "2023-02-16T12:49:46.641Z"
   },
   {
    "duration": 11,
    "start_time": "2023-02-16T12:49:54.524Z"
   },
   {
    "duration": 23,
    "start_time": "2023-02-16T12:51:06.386Z"
   },
   {
    "duration": 20,
    "start_time": "2023-02-16T12:52:19.799Z"
   },
   {
    "duration": 23,
    "start_time": "2023-02-16T12:53:45.487Z"
   },
   {
    "duration": 21,
    "start_time": "2023-02-16T12:54:05.550Z"
   },
   {
    "duration": 19,
    "start_time": "2023-02-16T12:54:21.133Z"
   },
   {
    "duration": 4,
    "start_time": "2023-02-16T12:54:41.413Z"
   },
   {
    "duration": 13,
    "start_time": "2023-02-16T13:02:13.418Z"
   },
   {
    "duration": 16,
    "start_time": "2023-02-16T13:02:17.035Z"
   },
   {
    "duration": 23,
    "start_time": "2023-02-16T13:03:13.067Z"
   },
   {
    "duration": 25,
    "start_time": "2023-02-16T13:04:43.992Z"
   },
   {
    "duration": 23,
    "start_time": "2023-02-16T13:06:19.619Z"
   },
   {
    "duration": 15,
    "start_time": "2023-02-16T13:13:14.329Z"
   },
   {
    "duration": 18,
    "start_time": "2023-02-16T13:14:11.809Z"
   },
   {
    "duration": 19,
    "start_time": "2023-02-16T13:15:57.755Z"
   },
   {
    "duration": 1227,
    "start_time": "2023-02-16T13:16:33.143Z"
   },
   {
    "duration": 51,
    "start_time": "2023-02-16T13:16:34.373Z"
   },
   {
    "duration": 20,
    "start_time": "2023-02-16T13:16:34.426Z"
   },
   {
    "duration": 28,
    "start_time": "2023-02-16T13:16:34.448Z"
   },
   {
    "duration": 11,
    "start_time": "2023-02-16T13:16:34.477Z"
   },
   {
    "duration": 9,
    "start_time": "2023-02-16T13:16:34.489Z"
   },
   {
    "duration": 28,
    "start_time": "2023-02-16T13:16:34.500Z"
   },
   {
    "duration": 29,
    "start_time": "2023-02-16T13:16:34.530Z"
   },
   {
    "duration": 21,
    "start_time": "2023-02-16T13:16:34.561Z"
   },
   {
    "duration": 11,
    "start_time": "2023-02-16T13:16:34.585Z"
   },
   {
    "duration": 5,
    "start_time": "2023-02-16T13:16:34.598Z"
   },
   {
    "duration": 30,
    "start_time": "2023-02-16T13:16:34.605Z"
   },
   {
    "duration": 16,
    "start_time": "2023-02-16T13:16:34.637Z"
   },
   {
    "duration": 20,
    "start_time": "2023-02-16T13:16:34.656Z"
   },
   {
    "duration": 6,
    "start_time": "2023-02-16T13:16:34.678Z"
   },
   {
    "duration": 18,
    "start_time": "2023-02-16T13:16:34.687Z"
   },
   {
    "duration": 11,
    "start_time": "2023-02-16T13:16:34.707Z"
   },
   {
    "duration": 36,
    "start_time": "2023-02-16T13:16:34.719Z"
   },
   {
    "duration": 9,
    "start_time": "2023-02-16T13:16:34.757Z"
   },
   {
    "duration": 20,
    "start_time": "2023-02-16T13:16:34.768Z"
   },
   {
    "duration": 19,
    "start_time": "2023-02-16T13:16:34.790Z"
   },
   {
    "duration": 207,
    "start_time": "2023-02-16T13:16:34.811Z"
   },
   {
    "duration": 17,
    "start_time": "2023-02-16T13:16:35.020Z"
   },
   {
    "duration": 306,
    "start_time": "2023-02-16T13:16:35.039Z"
   },
   {
    "duration": 7,
    "start_time": "2023-02-16T13:16:35.346Z"
   },
   {
    "duration": 1138,
    "start_time": "2023-02-16T13:16:35.355Z"
   },
   {
    "duration": 25,
    "start_time": "2023-02-16T13:16:36.495Z"
   },
   {
    "duration": 253,
    "start_time": "2023-02-16T13:16:36.523Z"
   },
   {
    "duration": 18,
    "start_time": "2023-02-16T13:16:36.777Z"
   },
   {
    "duration": 12,
    "start_time": "2023-02-16T13:16:36.797Z"
   },
   {
    "duration": 268,
    "start_time": "2023-02-16T13:16:36.811Z"
   },
   {
    "duration": 275,
    "start_time": "2023-02-16T13:16:37.080Z"
   },
   {
    "duration": 13,
    "start_time": "2023-02-16T13:16:37.356Z"
   },
   {
    "duration": 1552,
    "start_time": "2023-02-16T13:16:37.370Z"
   },
   {
    "duration": 10,
    "start_time": "2023-02-16T13:16:38.925Z"
   },
   {
    "duration": 1340,
    "start_time": "2023-02-16T13:16:38.937Z"
   },
   {
    "duration": 15,
    "start_time": "2023-02-16T13:16:40.279Z"
   },
   {
    "duration": 21,
    "start_time": "2023-02-16T13:16:40.296Z"
   },
   {
    "duration": 137,
    "start_time": "2023-02-16T13:16:40.319Z"
   },
   {
    "duration": 0,
    "start_time": "2023-02-16T13:16:40.458Z"
   },
   {
    "duration": 0,
    "start_time": "2023-02-16T13:16:40.459Z"
   },
   {
    "duration": 1,
    "start_time": "2023-02-16T13:16:40.460Z"
   },
   {
    "duration": 0,
    "start_time": "2023-02-16T13:16:40.461Z"
   },
   {
    "duration": 0,
    "start_time": "2023-02-16T13:16:40.462Z"
   },
   {
    "duration": 0,
    "start_time": "2023-02-16T13:16:40.464Z"
   },
   {
    "duration": 0,
    "start_time": "2023-02-16T13:16:40.465Z"
   },
   {
    "duration": 0,
    "start_time": "2023-02-16T13:16:40.466Z"
   },
   {
    "duration": 0,
    "start_time": "2023-02-16T13:16:40.467Z"
   },
   {
    "duration": 0,
    "start_time": "2023-02-16T13:16:40.468Z"
   },
   {
    "duration": 0,
    "start_time": "2023-02-16T13:16:40.469Z"
   },
   {
    "duration": 0,
    "start_time": "2023-02-16T13:16:40.470Z"
   },
   {
    "duration": 0,
    "start_time": "2023-02-16T13:16:40.472Z"
   },
   {
    "duration": 0,
    "start_time": "2023-02-16T13:16:40.473Z"
   },
   {
    "duration": 0,
    "start_time": "2023-02-16T13:16:40.474Z"
   },
   {
    "duration": 0,
    "start_time": "2023-02-16T13:16:40.476Z"
   },
   {
    "duration": 0,
    "start_time": "2023-02-16T13:16:40.477Z"
   },
   {
    "duration": 0,
    "start_time": "2023-02-16T13:16:40.478Z"
   },
   {
    "duration": 0,
    "start_time": "2023-02-16T13:16:40.479Z"
   },
   {
    "duration": 15,
    "start_time": "2023-02-16T13:16:57.450Z"
   },
   {
    "duration": 23,
    "start_time": "2023-02-16T13:17:01.479Z"
   },
   {
    "duration": 5,
    "start_time": "2023-02-16T13:19:04.420Z"
   },
   {
    "duration": 51,
    "start_time": "2023-02-16T13:19:09.749Z"
   },
   {
    "duration": 17,
    "start_time": "2023-02-16T13:19:13.613Z"
   },
   {
    "duration": 31,
    "start_time": "2023-02-16T13:19:17.324Z"
   },
   {
    "duration": 10,
    "start_time": "2023-02-16T13:19:21.777Z"
   },
   {
    "duration": 4,
    "start_time": "2023-02-16T13:19:36.107Z"
   },
   {
    "duration": 21,
    "start_time": "2023-02-16T13:19:43.538Z"
   },
   {
    "duration": 5,
    "start_time": "2023-02-16T13:19:48.756Z"
   },
   {
    "duration": 14,
    "start_time": "2023-02-16T13:19:53.915Z"
   },
   {
    "duration": 14,
    "start_time": "2023-02-16T13:20:10.262Z"
   },
   {
    "duration": 14,
    "start_time": "2023-02-16T13:20:13.233Z"
   },
   {
    "duration": 5,
    "start_time": "2023-02-16T13:20:17.523Z"
   },
   {
    "duration": 16,
    "start_time": "2023-02-16T13:20:20.716Z"
   },
   {
    "duration": 11,
    "start_time": "2023-02-16T13:20:48.501Z"
   },
   {
    "duration": 26,
    "start_time": "2023-02-16T13:20:57.400Z"
   },
   {
    "duration": 28,
    "start_time": "2023-02-16T13:21:03.262Z"
   },
   {
    "duration": 19,
    "start_time": "2023-02-16T13:21:27.978Z"
   },
   {
    "duration": 14,
    "start_time": "2023-02-16T13:23:18.788Z"
   },
   {
    "duration": 22,
    "start_time": "2023-02-16T13:25:33.177Z"
   },
   {
    "duration": 21,
    "start_time": "2023-02-16T13:26:38.649Z"
   },
   {
    "duration": 14,
    "start_time": "2023-02-16T13:28:23.269Z"
   },
   {
    "duration": 22,
    "start_time": "2023-02-16T13:29:12.801Z"
   },
   {
    "duration": 17,
    "start_time": "2023-02-16T13:34:51.781Z"
   },
   {
    "duration": 19,
    "start_time": "2023-02-16T13:35:38.903Z"
   },
   {
    "duration": 17,
    "start_time": "2023-02-16T13:36:13.604Z"
   },
   {
    "duration": 22,
    "start_time": "2023-02-16T13:37:39.004Z"
   },
   {
    "duration": 22,
    "start_time": "2023-02-16T13:37:57.273Z"
   },
   {
    "duration": 311,
    "start_time": "2023-02-16T13:45:01.146Z"
   },
   {
    "duration": 13,
    "start_time": "2023-02-16T13:45:23.055Z"
   },
   {
    "duration": 292,
    "start_time": "2023-02-16T13:45:32.391Z"
   },
   {
    "duration": 378,
    "start_time": "2023-02-16T13:46:18.405Z"
   },
   {
    "duration": 285,
    "start_time": "2023-02-16T13:46:24.507Z"
   },
   {
    "duration": 293,
    "start_time": "2023-02-16T13:46:32.896Z"
   },
   {
    "duration": 309,
    "start_time": "2023-02-16T13:46:43.250Z"
   },
   {
    "duration": 312,
    "start_time": "2023-02-16T13:46:55.880Z"
   },
   {
    "duration": 25,
    "start_time": "2023-02-16T13:51:00.011Z"
   },
   {
    "duration": 376,
    "start_time": "2023-02-16T13:51:12.343Z"
   },
   {
    "duration": 294,
    "start_time": "2023-02-16T13:52:09.580Z"
   },
   {
    "duration": 17,
    "start_time": "2023-02-16T13:55:15.691Z"
   },
   {
    "duration": 342,
    "start_time": "2023-02-16T13:55:27.365Z"
   },
   {
    "duration": 309,
    "start_time": "2023-02-16T13:56:08.887Z"
   },
   {
    "duration": 281,
    "start_time": "2023-02-16T13:56:24.378Z"
   },
   {
    "duration": 365,
    "start_time": "2023-02-16T13:56:32.722Z"
   },
   {
    "duration": 327,
    "start_time": "2023-02-16T14:14:14.808Z"
   },
   {
    "duration": 106,
    "start_time": "2023-02-16T14:21:32.210Z"
   },
   {
    "duration": 107,
    "start_time": "2023-02-16T14:22:06.701Z"
   },
   {
    "duration": 12,
    "start_time": "2023-02-16T14:35:15.085Z"
   },
   {
    "duration": 1164,
    "start_time": "2023-02-16T14:38:47.395Z"
   },
   {
    "duration": 47,
    "start_time": "2023-02-16T14:38:48.561Z"
   },
   {
    "duration": 19,
    "start_time": "2023-02-16T14:38:48.610Z"
   },
   {
    "duration": 30,
    "start_time": "2023-02-16T14:38:48.631Z"
   },
   {
    "duration": 9,
    "start_time": "2023-02-16T14:38:48.662Z"
   },
   {
    "duration": 7,
    "start_time": "2023-02-16T14:38:48.672Z"
   },
   {
    "duration": 15,
    "start_time": "2023-02-16T14:38:48.680Z"
   },
   {
    "duration": 9,
    "start_time": "2023-02-16T14:38:48.697Z"
   },
   {
    "duration": 9,
    "start_time": "2023-02-16T14:38:48.708Z"
   },
   {
    "duration": 7,
    "start_time": "2023-02-16T14:38:48.719Z"
   },
   {
    "duration": 30,
    "start_time": "2023-02-16T14:38:48.728Z"
   },
   {
    "duration": 24,
    "start_time": "2023-02-16T14:38:48.759Z"
   },
   {
    "duration": 7,
    "start_time": "2023-02-16T14:38:48.785Z"
   },
   {
    "duration": 25,
    "start_time": "2023-02-16T14:38:48.793Z"
   },
   {
    "duration": 8,
    "start_time": "2023-02-16T14:38:48.820Z"
   },
   {
    "duration": 25,
    "start_time": "2023-02-16T14:38:48.829Z"
   },
   {
    "duration": 8,
    "start_time": "2023-02-16T14:38:48.856Z"
   },
   {
    "duration": 15,
    "start_time": "2023-02-16T14:38:48.865Z"
   },
   {
    "duration": 6,
    "start_time": "2023-02-16T14:38:48.882Z"
   },
   {
    "duration": 20,
    "start_time": "2023-02-16T14:38:48.889Z"
   },
   {
    "duration": 21,
    "start_time": "2023-02-16T14:38:48.910Z"
   },
   {
    "duration": 208,
    "start_time": "2023-02-16T14:38:48.933Z"
   },
   {
    "duration": 20,
    "start_time": "2023-02-16T14:38:49.142Z"
   },
   {
    "duration": 262,
    "start_time": "2023-02-16T14:38:49.164Z"
   },
   {
    "duration": 4,
    "start_time": "2023-02-16T14:38:49.427Z"
   },
   {
    "duration": 1117,
    "start_time": "2023-02-16T14:38:49.433Z"
   },
   {
    "duration": 26,
    "start_time": "2023-02-16T14:38:50.553Z"
   },
   {
    "duration": 245,
    "start_time": "2023-02-16T14:38:50.584Z"
   },
   {
    "duration": 27,
    "start_time": "2023-02-16T14:38:50.831Z"
   },
   {
    "duration": 12,
    "start_time": "2023-02-16T14:38:50.859Z"
   },
   {
    "duration": 257,
    "start_time": "2023-02-16T14:38:50.873Z"
   },
   {
    "duration": 269,
    "start_time": "2023-02-16T14:38:51.132Z"
   },
   {
    "duration": 11,
    "start_time": "2023-02-16T14:38:51.403Z"
   },
   {
    "duration": 1394,
    "start_time": "2023-02-16T14:38:51.416Z"
   },
   {
    "duration": 12,
    "start_time": "2023-02-16T14:38:52.812Z"
   },
   {
    "duration": 1319,
    "start_time": "2023-02-16T14:38:52.826Z"
   },
   {
    "duration": 17,
    "start_time": "2023-02-16T14:38:54.146Z"
   },
   {
    "duration": 17,
    "start_time": "2023-02-16T14:38:54.165Z"
   },
   {
    "duration": 26,
    "start_time": "2023-02-16T14:38:54.184Z"
   },
   {
    "duration": 10,
    "start_time": "2023-02-16T14:38:54.211Z"
   },
   {
    "duration": 21,
    "start_time": "2023-02-16T14:38:54.223Z"
   },
   {
    "duration": 342,
    "start_time": "2023-02-16T14:38:54.254Z"
   },
   {
    "duration": 15,
    "start_time": "2023-02-16T14:39:33.858Z"
   },
   {
    "duration": 48,
    "start_time": "2023-02-16T14:39:33.875Z"
   },
   {
    "duration": 325,
    "start_time": "2023-02-16T14:39:33.924Z"
   },
   {
    "duration": 198,
    "start_time": "2023-02-16T14:39:34.251Z"
   },
   {
    "duration": 617,
    "start_time": "2023-02-16T14:39:34.453Z"
   },
   {
    "duration": 192,
    "start_time": "2023-02-16T14:39:35.075Z"
   },
   {
    "duration": 15,
    "start_time": "2023-02-16T14:39:35.269Z"
   },
   {
    "duration": 23,
    "start_time": "2023-02-16T14:39:35.286Z"
   },
   {
    "duration": 28,
    "start_time": "2023-02-16T14:39:35.310Z"
   },
   {
    "duration": 25,
    "start_time": "2023-02-16T14:39:35.340Z"
   },
   {
    "duration": 213,
    "start_time": "2023-02-16T14:39:35.367Z"
   },
   {
    "duration": 10,
    "start_time": "2023-02-16T14:39:35.582Z"
   },
   {
    "duration": 41,
    "start_time": "2023-02-16T14:39:35.595Z"
   },
   {
    "duration": 182,
    "start_time": "2023-02-16T14:39:35.638Z"
   },
   {
    "duration": 9,
    "start_time": "2023-02-16T14:39:35.821Z"
   },
   {
    "duration": 16,
    "start_time": "2023-02-16T14:39:35.832Z"
   },
   {
    "duration": 158,
    "start_time": "2023-02-16T14:39:35.854Z"
   },
   {
    "duration": 38895,
    "start_time": "2023-02-16T14:39:36.016Z"
   },
   {
    "duration": 112,
    "start_time": "2023-02-16T14:45:56.018Z"
   },
   {
    "duration": 19,
    "start_time": "2023-02-16T14:46:33.335Z"
   },
   {
    "duration": 16,
    "start_time": "2023-02-16T14:48:30.280Z"
   },
   {
    "duration": 25,
    "start_time": "2023-02-16T14:49:25.863Z"
   },
   {
    "duration": 13,
    "start_time": "2023-02-16T14:49:49.726Z"
   },
   {
    "duration": 23,
    "start_time": "2023-02-16T14:49:56.800Z"
   },
   {
    "duration": 21,
    "start_time": "2023-02-16T14:50:21.261Z"
   },
   {
    "duration": 21,
    "start_time": "2023-02-16T14:50:36.944Z"
   },
   {
    "duration": 23,
    "start_time": "2023-02-16T14:51:25.742Z"
   },
   {
    "duration": 20,
    "start_time": "2023-02-16T14:51:42.762Z"
   },
   {
    "duration": 12,
    "start_time": "2023-02-16T14:53:03.182Z"
   },
   {
    "duration": 13,
    "start_time": "2023-02-16T14:54:06.655Z"
   },
   {
    "duration": 1212,
    "start_time": "2023-02-16T14:54:24.817Z"
   },
   {
    "duration": 52,
    "start_time": "2023-02-16T14:54:26.032Z"
   },
   {
    "duration": 22,
    "start_time": "2023-02-16T14:54:26.086Z"
   },
   {
    "duration": 43,
    "start_time": "2023-02-16T14:54:26.110Z"
   },
   {
    "duration": 10,
    "start_time": "2023-02-16T14:54:26.155Z"
   },
   {
    "duration": 12,
    "start_time": "2023-02-16T14:54:26.167Z"
   },
   {
    "duration": 17,
    "start_time": "2023-02-16T14:54:26.181Z"
   },
   {
    "duration": 10,
    "start_time": "2023-02-16T14:54:26.199Z"
   },
   {
    "duration": 9,
    "start_time": "2023-02-16T14:54:26.210Z"
   },
   {
    "duration": 31,
    "start_time": "2023-02-16T14:54:26.222Z"
   },
   {
    "duration": 6,
    "start_time": "2023-02-16T14:54:26.255Z"
   },
   {
    "duration": 47,
    "start_time": "2023-02-16T14:54:26.263Z"
   },
   {
    "duration": 7,
    "start_time": "2023-02-16T14:54:26.311Z"
   },
   {
    "duration": 16,
    "start_time": "2023-02-16T14:54:26.320Z"
   },
   {
    "duration": 12,
    "start_time": "2023-02-16T14:54:26.338Z"
   },
   {
    "duration": 30,
    "start_time": "2023-02-16T14:54:26.352Z"
   },
   {
    "duration": 21,
    "start_time": "2023-02-16T14:54:26.384Z"
   },
   {
    "duration": 23,
    "start_time": "2023-02-16T14:54:26.407Z"
   },
   {
    "duration": 10,
    "start_time": "2023-02-16T14:54:26.432Z"
   },
   {
    "duration": 19,
    "start_time": "2023-02-16T14:54:26.443Z"
   },
   {
    "duration": 21,
    "start_time": "2023-02-16T14:54:26.464Z"
   },
   {
    "duration": 218,
    "start_time": "2023-02-16T14:54:26.486Z"
   },
   {
    "duration": 16,
    "start_time": "2023-02-16T14:54:26.706Z"
   },
   {
    "duration": 279,
    "start_time": "2023-02-16T14:54:26.723Z"
   },
   {
    "duration": 5,
    "start_time": "2023-02-16T14:54:27.004Z"
   },
   {
    "duration": 1184,
    "start_time": "2023-02-16T14:54:27.011Z"
   },
   {
    "duration": 23,
    "start_time": "2023-02-16T14:54:28.197Z"
   },
   {
    "duration": 231,
    "start_time": "2023-02-16T14:54:28.225Z"
   },
   {
    "duration": 17,
    "start_time": "2023-02-16T14:54:28.458Z"
   },
   {
    "duration": 22,
    "start_time": "2023-02-16T14:54:28.477Z"
   },
   {
    "duration": 230,
    "start_time": "2023-02-16T14:54:28.501Z"
   },
   {
    "duration": 270,
    "start_time": "2023-02-16T14:54:28.733Z"
   },
   {
    "duration": 11,
    "start_time": "2023-02-16T14:54:29.005Z"
   },
   {
    "duration": 1480,
    "start_time": "2023-02-16T14:54:29.018Z"
   },
   {
    "duration": 11,
    "start_time": "2023-02-16T14:54:30.500Z"
   },
   {
    "duration": 1350,
    "start_time": "2023-02-16T14:54:30.513Z"
   },
   {
    "duration": 10,
    "start_time": "2023-02-16T14:54:31.865Z"
   },
   {
    "duration": 25,
    "start_time": "2023-02-16T14:54:31.877Z"
   },
   {
    "duration": 19,
    "start_time": "2023-02-16T14:54:31.904Z"
   },
   {
    "duration": 12,
    "start_time": "2023-02-16T14:54:31.925Z"
   },
   {
    "duration": 24,
    "start_time": "2023-02-16T14:54:31.938Z"
   },
   {
    "duration": 338,
    "start_time": "2023-02-16T14:54:31.963Z"
   },
   {
    "duration": 15,
    "start_time": "2023-02-16T14:54:32.302Z"
   },
   {
    "duration": 123,
    "start_time": "2023-02-16T14:54:32.319Z"
   },
   {
    "duration": 0,
    "start_time": "2023-02-16T14:54:32.444Z"
   },
   {
    "duration": 0,
    "start_time": "2023-02-16T14:54:32.445Z"
   },
   {
    "duration": 0,
    "start_time": "2023-02-16T14:54:32.453Z"
   },
   {
    "duration": 0,
    "start_time": "2023-02-16T14:54:32.454Z"
   },
   {
    "duration": 0,
    "start_time": "2023-02-16T14:54:32.455Z"
   },
   {
    "duration": 0,
    "start_time": "2023-02-16T14:54:32.456Z"
   },
   {
    "duration": 0,
    "start_time": "2023-02-16T14:54:32.457Z"
   },
   {
    "duration": 0,
    "start_time": "2023-02-16T14:54:32.458Z"
   },
   {
    "duration": 0,
    "start_time": "2023-02-16T14:54:32.458Z"
   },
   {
    "duration": 0,
    "start_time": "2023-02-16T14:54:32.459Z"
   },
   {
    "duration": 0,
    "start_time": "2023-02-16T14:54:32.460Z"
   },
   {
    "duration": 0,
    "start_time": "2023-02-16T14:54:32.461Z"
   },
   {
    "duration": 0,
    "start_time": "2023-02-16T14:54:32.462Z"
   },
   {
    "duration": 0,
    "start_time": "2023-02-16T14:54:32.463Z"
   },
   {
    "duration": 0,
    "start_time": "2023-02-16T14:54:32.464Z"
   },
   {
    "duration": 0,
    "start_time": "2023-02-16T14:54:32.465Z"
   },
   {
    "duration": 0,
    "start_time": "2023-02-16T14:54:32.466Z"
   },
   {
    "duration": 12,
    "start_time": "2023-02-16T14:54:51.836Z"
   },
   {
    "duration": 169,
    "start_time": "2023-02-16T14:55:40.911Z"
   },
   {
    "duration": 162,
    "start_time": "2023-02-16T14:55:58.089Z"
   },
   {
    "duration": 284,
    "start_time": "2023-02-16T14:56:32.332Z"
   },
   {
    "duration": 22,
    "start_time": "2023-02-16T15:01:12.045Z"
   },
   {
    "duration": 298,
    "start_time": "2023-02-16T15:01:21.017Z"
   },
   {
    "duration": 185,
    "start_time": "2023-02-16T15:01:59.895Z"
   },
   {
    "duration": 208,
    "start_time": "2023-02-16T15:02:34.665Z"
   },
   {
    "duration": 237,
    "start_time": "2023-02-16T15:05:56.350Z"
   },
   {
    "duration": 216,
    "start_time": "2023-02-16T15:07:21.786Z"
   },
   {
    "duration": 15,
    "start_time": "2023-02-16T15:10:29.123Z"
   },
   {
    "duration": 219,
    "start_time": "2023-02-16T15:11:30.052Z"
   },
   {
    "duration": 296,
    "start_time": "2023-02-16T15:11:50.536Z"
   },
   {
    "duration": 171,
    "start_time": "2023-02-16T15:12:03.783Z"
   },
   {
    "duration": 272,
    "start_time": "2023-02-16T15:12:12.809Z"
   },
   {
    "duration": 227,
    "start_time": "2023-02-16T15:12:17.416Z"
   },
   {
    "duration": 14,
    "start_time": "2023-02-16T15:12:24.387Z"
   },
   {
    "duration": 14,
    "start_time": "2023-02-16T15:12:28.482Z"
   },
   {
    "duration": 16,
    "start_time": "2023-02-16T15:12:33.742Z"
   },
   {
    "duration": 207,
    "start_time": "2023-02-16T15:37:44.777Z"
   },
   {
    "duration": 15,
    "start_time": "2023-02-16T15:38:48.958Z"
   },
   {
    "duration": 210,
    "start_time": "2023-02-16T15:39:00.293Z"
   },
   {
    "duration": 192,
    "start_time": "2023-02-16T15:39:17.101Z"
   },
   {
    "duration": 235,
    "start_time": "2023-02-16T15:39:29.465Z"
   },
   {
    "duration": 1283,
    "start_time": "2023-02-16T18:25:48.543Z"
   },
   {
    "duration": 91,
    "start_time": "2023-02-16T18:25:49.829Z"
   },
   {
    "duration": 20,
    "start_time": "2023-02-16T18:25:49.921Z"
   },
   {
    "duration": 26,
    "start_time": "2023-02-16T18:25:49.943Z"
   },
   {
    "duration": 9,
    "start_time": "2023-02-16T18:25:49.970Z"
   },
   {
    "duration": 18,
    "start_time": "2023-02-16T18:25:49.981Z"
   },
   {
    "duration": 13,
    "start_time": "2023-02-16T18:25:50.001Z"
   },
   {
    "duration": 27,
    "start_time": "2023-02-16T18:25:50.016Z"
   },
   {
    "duration": 27,
    "start_time": "2023-02-16T18:25:50.044Z"
   },
   {
    "duration": 21,
    "start_time": "2023-02-16T18:25:50.074Z"
   },
   {
    "duration": 8,
    "start_time": "2023-02-16T18:25:50.096Z"
   },
   {
    "duration": 25,
    "start_time": "2023-02-16T18:25:50.105Z"
   },
   {
    "duration": 14,
    "start_time": "2023-02-16T18:25:50.132Z"
   },
   {
    "duration": 11,
    "start_time": "2023-02-16T18:25:50.147Z"
   },
   {
    "duration": 11,
    "start_time": "2023-02-16T18:25:50.159Z"
   },
   {
    "duration": 14,
    "start_time": "2023-02-16T18:25:50.172Z"
   },
   {
    "duration": 7,
    "start_time": "2023-02-16T18:25:50.198Z"
   },
   {
    "duration": 18,
    "start_time": "2023-02-16T18:25:50.206Z"
   },
   {
    "duration": 13,
    "start_time": "2023-02-16T18:25:50.226Z"
   },
   {
    "duration": 40,
    "start_time": "2023-02-16T18:25:50.240Z"
   },
   {
    "duration": 24,
    "start_time": "2023-02-16T18:25:50.282Z"
   },
   {
    "duration": 192,
    "start_time": "2023-02-16T18:25:50.308Z"
   },
   {
    "duration": 16,
    "start_time": "2023-02-16T18:25:50.502Z"
   },
   {
    "duration": 259,
    "start_time": "2023-02-16T18:25:50.520Z"
   },
   {
    "duration": 4,
    "start_time": "2023-02-16T18:25:50.781Z"
   },
   {
    "duration": 1061,
    "start_time": "2023-02-16T18:25:50.787Z"
   },
   {
    "duration": 25,
    "start_time": "2023-02-16T18:25:51.849Z"
   },
   {
    "duration": 253,
    "start_time": "2023-02-16T18:25:51.877Z"
   },
   {
    "duration": 20,
    "start_time": "2023-02-16T18:25:52.132Z"
   },
   {
    "duration": 18,
    "start_time": "2023-02-16T18:25:52.153Z"
   },
   {
    "duration": 262,
    "start_time": "2023-02-16T18:25:52.172Z"
   },
   {
    "duration": 271,
    "start_time": "2023-02-16T18:25:52.436Z"
   },
   {
    "duration": 11,
    "start_time": "2023-02-16T18:25:52.709Z"
   },
   {
    "duration": 1544,
    "start_time": "2023-02-16T18:25:52.721Z"
   },
   {
    "duration": 12,
    "start_time": "2023-02-16T18:25:54.267Z"
   },
   {
    "duration": 1310,
    "start_time": "2023-02-16T18:25:54.281Z"
   },
   {
    "duration": 10,
    "start_time": "2023-02-16T18:25:55.599Z"
   },
   {
    "duration": 14,
    "start_time": "2023-02-16T18:25:55.611Z"
   },
   {
    "duration": 10,
    "start_time": "2023-02-16T18:25:55.627Z"
   },
   {
    "duration": 14,
    "start_time": "2023-02-16T18:25:55.638Z"
   },
   {
    "duration": 17,
    "start_time": "2023-02-16T18:25:55.654Z"
   },
   {
    "duration": 37,
    "start_time": "2023-02-16T18:25:55.673Z"
   },
   {
    "duration": 108,
    "start_time": "2023-02-16T18:25:55.712Z"
   },
   {
    "duration": 0,
    "start_time": "2023-02-16T18:25:55.822Z"
   },
   {
    "duration": 0,
    "start_time": "2023-02-16T18:25:55.823Z"
   },
   {
    "duration": 0,
    "start_time": "2023-02-16T18:25:55.824Z"
   },
   {
    "duration": 0,
    "start_time": "2023-02-16T18:25:55.825Z"
   },
   {
    "duration": 1,
    "start_time": "2023-02-16T18:25:55.826Z"
   },
   {
    "duration": 0,
    "start_time": "2023-02-16T18:25:55.828Z"
   },
   {
    "duration": 0,
    "start_time": "2023-02-16T18:25:55.829Z"
   },
   {
    "duration": 1,
    "start_time": "2023-02-16T18:25:55.830Z"
   },
   {
    "duration": 0,
    "start_time": "2023-02-16T18:25:55.831Z"
   },
   {
    "duration": 0,
    "start_time": "2023-02-16T18:25:55.832Z"
   },
   {
    "duration": 0,
    "start_time": "2023-02-16T18:25:55.834Z"
   },
   {
    "duration": 0,
    "start_time": "2023-02-16T18:25:55.835Z"
   },
   {
    "duration": 0,
    "start_time": "2023-02-16T18:25:55.836Z"
   },
   {
    "duration": 0,
    "start_time": "2023-02-16T18:25:55.837Z"
   },
   {
    "duration": 0,
    "start_time": "2023-02-16T18:25:55.838Z"
   },
   {
    "duration": 0,
    "start_time": "2023-02-16T18:25:55.840Z"
   },
   {
    "duration": 268,
    "start_time": "2023-02-16T18:27:34.285Z"
   },
   {
    "duration": 79,
    "start_time": "2023-02-17T06:49:28.484Z"
   },
   {
    "duration": 1635,
    "start_time": "2023-02-17T06:49:43.746Z"
   },
   {
    "duration": 126,
    "start_time": "2023-02-17T06:49:45.383Z"
   },
   {
    "duration": 24,
    "start_time": "2023-02-17T06:49:45.521Z"
   },
   {
    "duration": 25,
    "start_time": "2023-02-17T06:49:45.547Z"
   },
   {
    "duration": 9,
    "start_time": "2023-02-17T06:49:45.574Z"
   },
   {
    "duration": 13,
    "start_time": "2023-02-17T06:49:45.584Z"
   },
   {
    "duration": 46,
    "start_time": "2023-02-17T06:49:45.602Z"
   },
   {
    "duration": 11,
    "start_time": "2023-02-17T06:49:45.650Z"
   },
   {
    "duration": 13,
    "start_time": "2023-02-17T06:49:45.663Z"
   },
   {
    "duration": 10,
    "start_time": "2023-02-17T06:49:45.679Z"
   },
   {
    "duration": 7,
    "start_time": "2023-02-17T06:49:45.691Z"
   },
   {
    "duration": 62,
    "start_time": "2023-02-17T06:49:45.705Z"
   },
   {
    "duration": 8,
    "start_time": "2023-02-17T06:49:45.769Z"
   },
   {
    "duration": 12,
    "start_time": "2023-02-17T06:49:45.779Z"
   },
   {
    "duration": 18,
    "start_time": "2023-02-17T06:49:45.793Z"
   },
   {
    "duration": 24,
    "start_time": "2023-02-17T06:49:45.826Z"
   },
   {
    "duration": 13,
    "start_time": "2023-02-17T06:49:45.852Z"
   },
   {
    "duration": 17,
    "start_time": "2023-02-17T06:49:45.867Z"
   },
   {
    "duration": 8,
    "start_time": "2023-02-17T06:49:45.886Z"
   },
   {
    "duration": 48,
    "start_time": "2023-02-17T06:49:45.895Z"
   },
   {
    "duration": 18,
    "start_time": "2023-02-17T06:49:45.945Z"
   },
   {
    "duration": 226,
    "start_time": "2023-02-17T06:49:45.964Z"
   },
   {
    "duration": 38,
    "start_time": "2023-02-17T06:49:46.192Z"
   },
   {
    "duration": 324,
    "start_time": "2023-02-17T06:49:46.232Z"
   },
   {
    "duration": 5,
    "start_time": "2023-02-17T06:49:46.558Z"
   },
   {
    "duration": 1367,
    "start_time": "2023-02-17T06:49:46.565Z"
   },
   {
    "duration": 26,
    "start_time": "2023-02-17T06:49:47.934Z"
   },
   {
    "duration": 271,
    "start_time": "2023-02-17T06:49:47.965Z"
   },
   {
    "duration": 23,
    "start_time": "2023-02-17T06:49:48.238Z"
   },
   {
    "duration": 14,
    "start_time": "2023-02-17T06:49:48.262Z"
   },
   {
    "duration": 312,
    "start_time": "2023-02-17T06:49:48.277Z"
   },
   {
    "duration": 314,
    "start_time": "2023-02-17T06:49:48.591Z"
   },
   {
    "duration": 13,
    "start_time": "2023-02-17T06:49:48.911Z"
   },
   {
    "duration": 1693,
    "start_time": "2023-02-17T06:49:48.926Z"
   },
   {
    "duration": 16,
    "start_time": "2023-02-17T06:49:50.622Z"
   },
   {
    "duration": 1483,
    "start_time": "2023-02-17T06:49:50.640Z"
   },
   {
    "duration": 15,
    "start_time": "2023-02-17T06:49:52.125Z"
   },
   {
    "duration": 19,
    "start_time": "2023-02-17T06:49:52.142Z"
   },
   {
    "duration": 11,
    "start_time": "2023-02-17T06:49:52.163Z"
   },
   {
    "duration": 51,
    "start_time": "2023-02-17T06:49:52.176Z"
   },
   {
    "duration": 21,
    "start_time": "2023-02-17T06:49:52.232Z"
   },
   {
    "duration": 24,
    "start_time": "2023-02-17T06:49:52.254Z"
   },
   {
    "duration": 152,
    "start_time": "2023-02-17T06:49:52.280Z"
   },
   {
    "duration": 0,
    "start_time": "2023-02-17T06:49:52.434Z"
   },
   {
    "duration": 0,
    "start_time": "2023-02-17T06:49:52.435Z"
   },
   {
    "duration": 0,
    "start_time": "2023-02-17T06:49:52.436Z"
   },
   {
    "duration": 0,
    "start_time": "2023-02-17T06:49:52.438Z"
   },
   {
    "duration": 0,
    "start_time": "2023-02-17T06:49:52.439Z"
   },
   {
    "duration": 0,
    "start_time": "2023-02-17T06:49:52.440Z"
   },
   {
    "duration": 0,
    "start_time": "2023-02-17T06:49:52.441Z"
   },
   {
    "duration": 0,
    "start_time": "2023-02-17T06:49:52.443Z"
   },
   {
    "duration": 0,
    "start_time": "2023-02-17T06:49:52.444Z"
   },
   {
    "duration": 0,
    "start_time": "2023-02-17T06:49:52.445Z"
   },
   {
    "duration": 0,
    "start_time": "2023-02-17T06:49:52.446Z"
   },
   {
    "duration": 0,
    "start_time": "2023-02-17T06:49:52.448Z"
   },
   {
    "duration": 0,
    "start_time": "2023-02-17T06:49:52.449Z"
   },
   {
    "duration": 0,
    "start_time": "2023-02-17T06:49:52.451Z"
   },
   {
    "duration": 0,
    "start_time": "2023-02-17T06:49:52.452Z"
   },
   {
    "duration": 0,
    "start_time": "2023-02-17T06:49:52.453Z"
   },
   {
    "duration": 14,
    "start_time": "2023-02-17T06:50:16.142Z"
   },
   {
    "duration": 4,
    "start_time": "2023-02-17T06:52:13.945Z"
   },
   {
    "duration": 58,
    "start_time": "2023-02-17T06:52:17.211Z"
   },
   {
    "duration": 18,
    "start_time": "2023-02-17T06:52:21.173Z"
   },
   {
    "duration": 28,
    "start_time": "2023-02-17T06:52:26.049Z"
   },
   {
    "duration": 10,
    "start_time": "2023-02-17T06:52:32.345Z"
   },
   {
    "duration": 6,
    "start_time": "2023-02-17T06:52:50.464Z"
   },
   {
    "duration": 15,
    "start_time": "2023-02-17T06:52:58.154Z"
   },
   {
    "duration": 14,
    "start_time": "2023-02-17T06:53:02.018Z"
   },
   {
    "duration": 5,
    "start_time": "2023-02-17T06:53:05.717Z"
   },
   {
    "duration": 25,
    "start_time": "2023-02-17T06:53:09.202Z"
   },
   {
    "duration": 24,
    "start_time": "2023-02-17T06:53:12.419Z"
   },
   {
    "duration": 26,
    "start_time": "2023-02-17T06:53:17.791Z"
   },
   {
    "duration": 11,
    "start_time": "2023-02-17T06:53:25.824Z"
   },
   {
    "duration": 5,
    "start_time": "2023-02-17T06:53:28.164Z"
   },
   {
    "duration": 22,
    "start_time": "2023-02-17T06:53:32.043Z"
   },
   {
    "duration": 7,
    "start_time": "2023-02-17T06:53:36.578Z"
   },
   {
    "duration": 10,
    "start_time": "2023-02-17T06:53:39.824Z"
   },
   {
    "duration": 5,
    "start_time": "2023-02-17T06:53:42.436Z"
   },
   {
    "duration": 6,
    "start_time": "2023-02-17T06:53:46.219Z"
   },
   {
    "duration": 22,
    "start_time": "2023-02-17T06:53:50.517Z"
   },
   {
    "duration": 5,
    "start_time": "2023-02-17T06:53:56.247Z"
   },
   {
    "duration": 23,
    "start_time": "2023-02-17T06:54:05.437Z"
   },
   {
    "duration": 20,
    "start_time": "2023-02-17T06:54:11.993Z"
   },
   {
    "duration": 197,
    "start_time": "2023-02-17T06:54:20.966Z"
   },
   {
    "duration": 18,
    "start_time": "2023-02-17T06:54:28.143Z"
   },
   {
    "duration": 271,
    "start_time": "2023-02-17T06:54:46.220Z"
   },
   {
    "duration": 288,
    "start_time": "2023-02-17T06:54:56.175Z"
   },
   {
    "duration": 5,
    "start_time": "2023-02-17T06:55:04.275Z"
   },
   {
    "duration": 1236,
    "start_time": "2023-02-17T06:55:25.216Z"
   },
   {
    "duration": 28,
    "start_time": "2023-02-17T06:55:39.652Z"
   },
   {
    "duration": 258,
    "start_time": "2023-02-17T06:56:01.467Z"
   },
   {
    "duration": 21,
    "start_time": "2023-02-17T06:56:11.834Z"
   },
   {
    "duration": 13,
    "start_time": "2023-02-17T06:56:19.512Z"
   },
   {
    "duration": 230,
    "start_time": "2023-02-17T06:56:36.725Z"
   },
   {
    "duration": 351,
    "start_time": "2023-02-17T06:56:48.473Z"
   },
   {
    "duration": 11,
    "start_time": "2023-02-17T06:56:55.324Z"
   },
   {
    "duration": 11,
    "start_time": "2023-02-17T06:56:59.449Z"
   },
   {
    "duration": 12,
    "start_time": "2023-02-17T06:57:03.237Z"
   },
   {
    "duration": 11,
    "start_time": "2023-02-17T06:57:06.265Z"
   },
   {
    "duration": 11,
    "start_time": "2023-02-17T06:57:09.327Z"
   },
   {
    "duration": 15,
    "start_time": "2023-02-17T06:57:13.166Z"
   },
   {
    "duration": 19,
    "start_time": "2023-02-17T06:57:19.321Z"
   },
   {
    "duration": 16,
    "start_time": "2023-02-17T06:57:24.678Z"
   },
   {
    "duration": 213,
    "start_time": "2023-02-17T06:57:55.493Z"
   },
   {
    "duration": 186,
    "start_time": "2023-02-17T06:58:17.836Z"
   },
   {
    "duration": 84,
    "start_time": "2023-02-17T06:59:33.876Z"
   },
   {
    "duration": 298,
    "start_time": "2023-02-17T06:59:52.778Z"
   },
   {
    "duration": 12,
    "start_time": "2023-02-17T07:02:06.262Z"
   },
   {
    "duration": 12,
    "start_time": "2023-02-17T07:02:18.263Z"
   },
   {
    "duration": 17,
    "start_time": "2023-02-17T07:03:04.227Z"
   },
   {
    "duration": 188,
    "start_time": "2023-02-17T07:03:08.171Z"
   },
   {
    "duration": 215,
    "start_time": "2023-02-17T07:04:00.923Z"
   },
   {
    "duration": 194,
    "start_time": "2023-02-17T07:04:19.257Z"
   },
   {
    "duration": 195,
    "start_time": "2023-02-17T07:04:24.934Z"
   },
   {
    "duration": 276,
    "start_time": "2023-02-17T07:04:29.384Z"
   },
   {
    "duration": 13,
    "start_time": "2023-02-17T07:04:39.170Z"
   },
   {
    "duration": 15,
    "start_time": "2023-02-17T07:04:42.992Z"
   },
   {
    "duration": 15,
    "start_time": "2023-02-17T07:04:46.322Z"
   },
   {
    "duration": 15,
    "start_time": "2023-02-17T07:05:03.734Z"
   },
   {
    "duration": 182,
    "start_time": "2023-02-17T07:05:06.742Z"
   },
   {
    "duration": 8,
    "start_time": "2023-02-17T07:05:13.260Z"
   },
   {
    "duration": 5,
    "start_time": "2023-02-17T07:05:19.356Z"
   },
   {
    "duration": 156,
    "start_time": "2023-02-17T07:05:29.604Z"
   },
   {
    "duration": 10,
    "start_time": "2023-02-17T07:05:33.823Z"
   },
   {
    "duration": 5,
    "start_time": "2023-02-17T07:05:41.559Z"
   },
   {
    "duration": 142,
    "start_time": "2023-02-17T07:05:46.462Z"
   },
   {
    "duration": 228,
    "start_time": "2023-02-17T07:09:07.310Z"
   },
   {
    "duration": 252,
    "start_time": "2023-02-17T07:09:24.185Z"
   },
   {
    "duration": 1262,
    "start_time": "2023-02-17T07:09:37.373Z"
   },
   {
    "duration": 53,
    "start_time": "2023-02-17T07:09:38.637Z"
   },
   {
    "duration": 21,
    "start_time": "2023-02-17T07:09:38.691Z"
   },
   {
    "duration": 31,
    "start_time": "2023-02-17T07:09:38.715Z"
   },
   {
    "duration": 9,
    "start_time": "2023-02-17T07:09:38.748Z"
   },
   {
    "duration": 7,
    "start_time": "2023-02-17T07:09:38.759Z"
   },
   {
    "duration": 43,
    "start_time": "2023-02-17T07:09:38.768Z"
   },
   {
    "duration": 10,
    "start_time": "2023-02-17T07:09:38.812Z"
   },
   {
    "duration": 11,
    "start_time": "2023-02-17T07:09:38.823Z"
   },
   {
    "duration": 11,
    "start_time": "2023-02-17T07:09:38.836Z"
   },
   {
    "duration": 9,
    "start_time": "2023-02-17T07:09:38.849Z"
   },
   {
    "duration": 51,
    "start_time": "2023-02-17T07:09:38.860Z"
   },
   {
    "duration": 8,
    "start_time": "2023-02-17T07:09:38.913Z"
   },
   {
    "duration": 22,
    "start_time": "2023-02-17T07:09:38.922Z"
   },
   {
    "duration": 11,
    "start_time": "2023-02-17T07:09:38.946Z"
   },
   {
    "duration": 24,
    "start_time": "2023-02-17T07:09:38.959Z"
   },
   {
    "duration": 18,
    "start_time": "2023-02-17T07:09:38.984Z"
   },
   {
    "duration": 17,
    "start_time": "2023-02-17T07:09:39.004Z"
   },
   {
    "duration": 14,
    "start_time": "2023-02-17T07:09:39.024Z"
   },
   {
    "duration": 25,
    "start_time": "2023-02-17T07:09:39.040Z"
   },
   {
    "duration": 18,
    "start_time": "2023-02-17T07:09:39.067Z"
   },
   {
    "duration": 195,
    "start_time": "2023-02-17T07:09:39.086Z"
   },
   {
    "duration": 25,
    "start_time": "2023-02-17T07:09:39.283Z"
   },
   {
    "duration": 269,
    "start_time": "2023-02-17T07:09:39.310Z"
   },
   {
    "duration": 4,
    "start_time": "2023-02-17T07:09:39.581Z"
   },
   {
    "duration": 1153,
    "start_time": "2023-02-17T07:09:39.587Z"
   },
   {
    "duration": 33,
    "start_time": "2023-02-17T07:09:40.742Z"
   },
   {
    "duration": 299,
    "start_time": "2023-02-17T07:09:40.778Z"
   },
   {
    "duration": 34,
    "start_time": "2023-02-17T07:09:41.079Z"
   },
   {
    "duration": 15,
    "start_time": "2023-02-17T07:09:41.115Z"
   },
   {
    "duration": 276,
    "start_time": "2023-02-17T07:09:41.132Z"
   },
   {
    "duration": 314,
    "start_time": "2023-02-17T07:09:41.410Z"
   },
   {
    "duration": 13,
    "start_time": "2023-02-17T07:09:41.727Z"
   },
   {
    "duration": 1843,
    "start_time": "2023-02-17T07:09:41.742Z"
   },
   {
    "duration": 14,
    "start_time": "2023-02-17T07:09:43.587Z"
   },
   {
    "duration": 1465,
    "start_time": "2023-02-17T07:09:43.603Z"
   },
   {
    "duration": 13,
    "start_time": "2023-02-17T07:09:45.070Z"
   },
   {
    "duration": 11,
    "start_time": "2023-02-17T07:09:45.100Z"
   },
   {
    "duration": 13,
    "start_time": "2023-02-17T07:09:45.113Z"
   },
   {
    "duration": 29,
    "start_time": "2023-02-17T07:09:45.128Z"
   },
   {
    "duration": 18,
    "start_time": "2023-02-17T07:09:45.159Z"
   },
   {
    "duration": 28,
    "start_time": "2023-02-17T07:09:45.178Z"
   },
   {
    "duration": 172,
    "start_time": "2023-02-17T07:09:45.207Z"
   },
   {
    "duration": 26,
    "start_time": "2023-02-17T07:09:45.381Z"
   },
   {
    "duration": 305,
    "start_time": "2023-02-17T07:09:45.408Z"
   },
   {
    "duration": 195,
    "start_time": "2023-02-17T07:09:45.714Z"
   },
   {
    "duration": 204,
    "start_time": "2023-02-17T07:09:45.912Z"
   },
   {
    "duration": 313,
    "start_time": "2023-02-17T07:09:46.117Z"
   },
   {
    "duration": 14,
    "start_time": "2023-02-17T07:09:46.432Z"
   },
   {
    "duration": 23,
    "start_time": "2023-02-17T07:09:46.448Z"
   },
   {
    "duration": 17,
    "start_time": "2023-02-17T07:09:46.473Z"
   },
   {
    "duration": 22,
    "start_time": "2023-02-17T07:09:46.499Z"
   },
   {
    "duration": 197,
    "start_time": "2023-02-17T07:09:46.523Z"
   },
   {
    "duration": 9,
    "start_time": "2023-02-17T07:09:46.722Z"
   },
   {
    "duration": 10,
    "start_time": "2023-02-17T07:09:46.733Z"
   },
   {
    "duration": 200,
    "start_time": "2023-02-17T07:09:46.745Z"
   },
   {
    "duration": 10,
    "start_time": "2023-02-17T07:09:46.947Z"
   },
   {
    "duration": 28,
    "start_time": "2023-02-17T07:09:46.959Z"
   },
   {
    "duration": 160,
    "start_time": "2023-02-17T07:09:46.989Z"
   },
   {
    "duration": 4,
    "start_time": "2023-02-17T07:10:10.658Z"
   },
   {
    "duration": 48,
    "start_time": "2023-02-17T07:10:15.550Z"
   },
   {
    "duration": 17,
    "start_time": "2023-02-17T07:10:18.958Z"
   },
   {
    "duration": 34,
    "start_time": "2023-02-17T07:10:25.678Z"
   },
   {
    "duration": 11,
    "start_time": "2023-02-17T07:10:37.148Z"
   },
   {
    "duration": 6,
    "start_time": "2023-02-17T07:10:43.556Z"
   },
   {
    "duration": 20,
    "start_time": "2023-02-17T07:10:48.119Z"
   },
   {
    "duration": 9,
    "start_time": "2023-02-17T07:10:56.624Z"
   },
   {
    "duration": 12,
    "start_time": "2023-02-17T07:10:59.697Z"
   },
   {
    "duration": 11,
    "start_time": "2023-02-17T07:11:04.352Z"
   },
   {
    "duration": 9,
    "start_time": "2023-02-17T07:11:08.001Z"
   },
   {
    "duration": 23,
    "start_time": "2023-02-17T07:11:13.005Z"
   },
   {
    "duration": 8,
    "start_time": "2023-02-17T07:11:18.640Z"
   },
   {
    "duration": 10,
    "start_time": "2023-02-17T07:11:22.234Z"
   },
   {
    "duration": 5,
    "start_time": "2023-02-17T07:11:26.008Z"
   },
   {
    "duration": 16,
    "start_time": "2023-02-17T07:11:28.713Z"
   },
   {
    "duration": 8,
    "start_time": "2023-02-17T07:11:38.900Z"
   },
   {
    "duration": 23,
    "start_time": "2023-02-17T07:11:42.116Z"
   },
   {
    "duration": 5,
    "start_time": "2023-02-17T07:11:48.841Z"
   },
   {
    "duration": 6,
    "start_time": "2023-02-17T07:13:13.708Z"
   },
   {
    "duration": 16,
    "start_time": "2023-02-17T07:13:17.988Z"
   },
   {
    "duration": 15,
    "start_time": "2023-02-17T07:13:26.645Z"
   },
   {
    "duration": 206,
    "start_time": "2023-02-17T07:13:41.139Z"
   },
   {
    "duration": 19,
    "start_time": "2023-02-17T07:13:46.572Z"
   },
   {
    "duration": 264,
    "start_time": "2023-02-17T07:13:51.958Z"
   },
   {
    "duration": 5,
    "start_time": "2023-02-17T07:13:57.269Z"
   },
   {
    "duration": 24,
    "start_time": "2023-02-17T07:14:05.703Z"
   },
   {
    "duration": 254,
    "start_time": "2023-02-17T07:16:40.851Z"
   },
   {
    "duration": 20,
    "start_time": "2023-02-17T07:16:45.622Z"
   },
   {
    "duration": 13,
    "start_time": "2023-02-17T07:16:49.857Z"
   },
   {
    "duration": 237,
    "start_time": "2023-02-17T07:16:56.235Z"
   },
   {
    "duration": 333,
    "start_time": "2023-02-17T07:17:12.929Z"
   },
   {
    "duration": 13,
    "start_time": "2023-02-17T07:17:19.026Z"
   },
   {
    "duration": 1369,
    "start_time": "2023-02-17T07:17:21.999Z"
   },
   {
    "duration": 11,
    "start_time": "2023-02-17T07:17:27.242Z"
   },
   {
    "duration": 11,
    "start_time": "2023-02-17T07:17:32.788Z"
   },
   {
    "duration": 11,
    "start_time": "2023-02-17T07:17:36.292Z"
   },
   {
    "duration": 11,
    "start_time": "2023-02-17T07:17:39.195Z"
   },
   {
    "duration": 21,
    "start_time": "2023-02-17T07:17:46.862Z"
   },
   {
    "duration": 14,
    "start_time": "2023-02-17T07:17:53.130Z"
   },
   {
    "duration": 182,
    "start_time": "2023-02-17T07:17:56.181Z"
   },
   {
    "duration": 25,
    "start_time": "2023-02-17T07:18:03.236Z"
   },
   {
    "duration": 327,
    "start_time": "2023-02-17T07:18:06.970Z"
   },
   {
    "duration": 1189,
    "start_time": "2023-02-17T10:14:18.844Z"
   },
   {
    "duration": 45,
    "start_time": "2023-02-17T10:14:20.035Z"
   },
   {
    "duration": 20,
    "start_time": "2023-02-17T10:14:20.082Z"
   },
   {
    "duration": 36,
    "start_time": "2023-02-17T10:14:20.104Z"
   },
   {
    "duration": 8,
    "start_time": "2023-02-17T10:14:20.142Z"
   },
   {
    "duration": 16,
    "start_time": "2023-02-17T10:14:20.152Z"
   },
   {
    "duration": 17,
    "start_time": "2023-02-17T10:14:20.169Z"
   },
   {
    "duration": 29,
    "start_time": "2023-02-17T10:14:20.187Z"
   },
   {
    "duration": 14,
    "start_time": "2023-02-17T10:14:20.218Z"
   },
   {
    "duration": 15,
    "start_time": "2023-02-17T10:14:20.235Z"
   },
   {
    "duration": 8,
    "start_time": "2023-02-17T10:14:20.252Z"
   },
   {
    "duration": 37,
    "start_time": "2023-02-17T10:14:20.261Z"
   },
   {
    "duration": 14,
    "start_time": "2023-02-17T10:14:20.300Z"
   },
   {
    "duration": 18,
    "start_time": "2023-02-17T10:14:20.316Z"
   },
   {
    "duration": 23,
    "start_time": "2023-02-17T10:14:20.336Z"
   },
   {
    "duration": 24,
    "start_time": "2023-02-17T10:14:20.361Z"
   },
   {
    "duration": 10,
    "start_time": "2023-02-17T10:14:20.387Z"
   },
   {
    "duration": 25,
    "start_time": "2023-02-17T10:14:20.399Z"
   },
   {
    "duration": 21,
    "start_time": "2023-02-17T10:14:20.425Z"
   },
   {
    "duration": 26,
    "start_time": "2023-02-17T10:14:20.448Z"
   },
   {
    "duration": 30,
    "start_time": "2023-02-17T10:14:20.476Z"
   },
   {
    "duration": 183,
    "start_time": "2023-02-17T10:14:20.507Z"
   },
   {
    "duration": 16,
    "start_time": "2023-02-17T10:14:20.692Z"
   },
   {
    "duration": 279,
    "start_time": "2023-02-17T10:14:20.710Z"
   },
   {
    "duration": 4,
    "start_time": "2023-02-17T10:14:20.991Z"
   },
   {
    "duration": 1102,
    "start_time": "2023-02-17T10:14:20.996Z"
   },
   {
    "duration": 41,
    "start_time": "2023-02-17T10:14:22.099Z"
   },
   {
    "duration": 262,
    "start_time": "2023-02-17T10:14:22.143Z"
   },
   {
    "duration": 34,
    "start_time": "2023-02-17T10:14:22.407Z"
   },
   {
    "duration": 33,
    "start_time": "2023-02-17T10:14:22.443Z"
   },
   {
    "duration": 326,
    "start_time": "2023-02-17T10:14:22.478Z"
   },
   {
    "duration": 281,
    "start_time": "2023-02-17T10:14:22.805Z"
   },
   {
    "duration": 14,
    "start_time": "2023-02-17T10:14:23.088Z"
   },
   {
    "duration": 1438,
    "start_time": "2023-02-17T10:14:23.104Z"
   },
   {
    "duration": 14,
    "start_time": "2023-02-17T10:14:24.544Z"
   },
   {
    "duration": 1415,
    "start_time": "2023-02-17T10:14:24.560Z"
   },
   {
    "duration": 13,
    "start_time": "2023-02-17T10:14:25.976Z"
   },
   {
    "duration": 19,
    "start_time": "2023-02-17T10:14:25.990Z"
   },
   {
    "duration": 29,
    "start_time": "2023-02-17T10:14:26.011Z"
   },
   {
    "duration": 14,
    "start_time": "2023-02-17T10:14:26.042Z"
   },
   {
    "duration": 22,
    "start_time": "2023-02-17T10:14:26.058Z"
   },
   {
    "duration": 17,
    "start_time": "2023-02-17T10:14:26.082Z"
   },
   {
    "duration": 225,
    "start_time": "2023-02-17T10:14:26.101Z"
   },
   {
    "duration": 33,
    "start_time": "2023-02-17T10:14:26.328Z"
   },
   {
    "duration": 295,
    "start_time": "2023-02-17T10:14:26.363Z"
   },
   {
    "duration": 200,
    "start_time": "2023-02-17T10:14:26.660Z"
   },
   {
    "duration": 211,
    "start_time": "2023-02-17T10:14:26.862Z"
   },
   {
    "duration": 287,
    "start_time": "2023-02-17T10:14:27.075Z"
   },
   {
    "duration": 14,
    "start_time": "2023-02-17T10:14:27.363Z"
   },
   {
    "duration": 16,
    "start_time": "2023-02-17T10:14:27.379Z"
   },
   {
    "duration": 14,
    "start_time": "2023-02-17T10:14:27.397Z"
   },
   {
    "duration": 39,
    "start_time": "2023-02-17T10:14:27.413Z"
   },
   {
    "duration": 192,
    "start_time": "2023-02-17T10:14:27.454Z"
   },
   {
    "duration": 11,
    "start_time": "2023-02-17T10:14:27.647Z"
   },
   {
    "duration": 10,
    "start_time": "2023-02-17T10:14:27.659Z"
   },
   {
    "duration": 160,
    "start_time": "2023-02-17T10:14:27.671Z"
   },
   {
    "duration": 11,
    "start_time": "2023-02-17T10:14:27.832Z"
   },
   {
    "duration": 11,
    "start_time": "2023-02-17T10:14:27.844Z"
   },
   {
    "duration": 145,
    "start_time": "2023-02-17T10:14:27.856Z"
   }
  ],
  "kernelspec": {
   "display_name": "Python 3 (ipykernel)",
   "language": "python",
   "name": "python3"
  },
  "language_info": {
   "codemirror_mode": {
    "name": "ipython",
    "version": 3
   },
   "file_extension": ".py",
   "mimetype": "text/x-python",
   "name": "python",
   "nbconvert_exporter": "python",
   "pygments_lexer": "ipython3",
   "version": "3.9.13"
  },
  "toc": {
   "base_numbering": 1,
   "nav_menu": {},
   "number_sections": true,
   "sideBar": true,
   "skip_h1_title": true,
   "title_cell": "Table of Contents",
   "title_sidebar": "Contents",
   "toc_cell": false,
   "toc_position": {},
   "toc_section_display": true,
   "toc_window_display": false
  }
 },
 "nbformat": 4,
 "nbformat_minor": 2
}
