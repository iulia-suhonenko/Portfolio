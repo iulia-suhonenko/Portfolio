{
 "cells": [
  {
   "cell_type": "markdown",
   "metadata": {},
   "source": [
    "### Исследование и приоритезация гипотез для увеличения выручки комапнии. А/В тест."
   ]
  },
  {
   "cell_type": "markdown",
   "metadata": {},
   "source": [
    "**ОПИСАНИЕ ПРОЕКТА**\n",
    "\n",
    "В нашем распоряжении данные о 9 гипотезах для увеличения выручки, подготовленных отделом маркетинга интернет-магазина.\n",
    "\n",
    "**Цель:**: Необходимо приоритизировать гипотезы, запустить A/B-тест и проанализировать результаты.\n",
    "  \n",
    "**Часть 1. Приоритизация гипотез**\n",
    "\n",
    "**Какие гипотезы наиболее важны для проверки, какие из них мы будем проверять в первую очередь?**\n",
    "\n",
    "В файле **/datasets/hypothesis.csv** 9 гипотез по увеличению выручки интернет-магазина спараметрами: **Reach, Impact, Confidence, Effort.**\n",
    "\n",
    "**Задача:**\n",
    "- Применить фреймворк ICE для приоритезации гипотез. Отсортировать их по убыванию приоритета.\n",
    "- Применить фреймворк RICE для приоритезации гипотез. Отсортировать их по убыванию приоритета.\n",
    "- Пояснить, как изменилась приоритезация гипотез при применении RICE вместо ICE. Дать пояснения, почему так произошло.\n",
    "\n",
    "**Часть 2. Анализ A/B-теста** \n",
    "\n",
    "**Есть ли отличия между группами A и B? Есть ли смысл продолжать тестирование?**\n",
    "\n",
    "Мы провели A/B-тест и получили результаты, которые описаны в файлах **/datasets/orders.csv и /datasets/visitors.csv.**\n",
    "\n",
    "**Задача: Проанализировать A/B-тест, сделать выводы и предположения:**\n",
    "- Построим график кумулятивной выручки по группам. \n",
    "- Построим график кумулятивного среднего чека по группам. \n",
    "- Построим график относительного изменения кумулятивного среднего чека группы B к группе A. \n",
    "- Построим график кумулятивного среднего количества заказов на посетителя по группам. \n",
    "- Построим график относительного изменения кумулятивного среднего количества заказов на посетителя группы B к группе A. \n",
    "- Построим точечный график количества заказов по пользователям. \n",
    "- Посчитаем 95-й и 99-й перцентили количества заказов на пользователя. Выберем границу для определения аномальных пользователей.\n",
    "- Построим точечный график стоимостей заказов.\n",
    "- Посчитаем 95-й и 99-й перцентили стоимости заказов. Выберем границу для определения аномальных заказов.\n",
    "- Посчитаем статистическую значимость различий в среднем количестве заказов на посетителя между группами по «сырым» данным. \n",
    "- Посчитаем статистическую значимость различий в среднем чеке заказа между группами по «сырым» данным. \n",
    "- Посчитаем статистическую значимость различий в среднем количестве заказов на посетителя между группами по «очищенным» данным. \n",
    "- Посчитаем статистическую значимость различий в среднем чеке заказа между группами по «очищенным» данным. \n",
    "\n",
    "**Примем решение по результатам теста и дадаим пояснения.** \n",
    "  \n",
    "  *Варианты решений:* \n",
    "1. Остановить тест, зафиксировать победу одной из групп. \n",
    "2. Остановить тест, зафиксировать отсутствие различий между группами. \n",
    "3. Продолжить тест."
   ]
  },
  {
   "cell_type": "markdown",
   "metadata": {},
   "source": [
    "<span style=\"color:green\">**Описание данных**</span> \n",
    "\n",
    "В нашем распоряжении три датасета: \n",
    "- Для 1-ой Части проекта:\n",
    "  - **'/datasets/hypothesis.csv'**\n",
    "- Для 2-ой Части проекта:  \n",
    "  - **'/datasets/orders.csv'**     \n",
    "  - **'/datasets/visitors.csv'** \n",
    "\n",
    "**Структура '/datasets/hypothesis.csv':**\n",
    "- **Hypothesis** — краткое описание гипотезы;\n",
    "- **Reach** — охват пользователей по 10-балльной шкале;\n",
    "- **Impact** — влияние на пользователей по 10-балльной шкале;\n",
    "- **Confidence** — уверенность в гипотезе по 10-балльной шкале;\n",
    "- **Efforts** — затраты ресурсов на проверку гипотезы по 10-балльной шкале. Чем больше значение Efforts, тем дороже проверка гипотезы.\n",
    "\n",
    "**Структура '/datasets/orders.csv':**\n",
    "- **transactionId** — идентификатор заказа;\n",
    "- **visitorId** — идентификатор пользователя, совершившего заказ;\n",
    "- **date** — дата, когда был совершён заказ;\n",
    "- **revenue** — выручка заказа;\n",
    "- **group** — группа A/B-теста, в которую попал заказ.\n",
    "\n",
    "**Структура '/datasets/visitors.csv':**\n",
    "- **date** — дата;\n",
    "- **group** — группа A/B-теста;\n",
    "- **visitors** — количество пользователей в указанную дату в указанной группе A/B-теста."
   ]
  },
  {
   "cell_type": "code",
   "execution_count": 1,
   "metadata": {},
   "outputs": [],
   "source": [
    "# импортируем все нужные для работы библиотеки \n",
    "import pandas as pd\n",
    "import numpy as np\n",
    "import matplotlib.pyplot as plt\n",
    "from datetime import datetime, timedelta\n",
    "import seaborn as sns\n",
    "from collections import Counter\n",
    "from scipy import stats as st\n",
    "import datetime as dt\n",
    "import warnings\n",
    "from IPython.display import display_html\n",
    "pd.set_option('display.max_columns', 30)\n",
    "pd.set_option(\"display.float_format\", \"{:.2f}\".format)\n",
    "pd.set_option('display.max_colwidth', 500)\n",
    "warnings.simplefilter('ignore')"
   ]
  },
  {
   "cell_type": "code",
   "execution_count": 2,
   "metadata": {},
   "outputs": [
    {
     "name": "stdout",
     "output_type": "stream",
     "text": [
      "Ошибка открытия\n"
     ]
    }
   ],
   "source": [
    "# пропишем пути к датафрейму \n",
    "try:\n",
    "    hypothesis= pd.read_csv('hypothesis.csv')\n",
    "    orders= pd.read_csv('orders.csv', sep= ',' )\n",
    "    visitors= pd.read_csv('visitors.csv', sep= ',')\n",
    "\n",
    "except FileNotFoundError:\n",
    "    hypothesis= pd.read_csv('/datasets/hypothesis.csv')\n",
    "    orders= pd.read_csv('/datasets/orders.csv', sep= ',' )\n",
    "    visitors= pd.read_csv('/datasets/visitors.csv', sep= ',')   \n",
    "    print(\"Ошибка открытия\")"
   ]
  },
  {
   "cell_type": "markdown",
   "metadata": {},
   "source": [
    "### Часть 1. Приоритизация гипотез."
   ]
  },
  {
   "cell_type": "code",
   "execution_count": 3,
   "metadata": {
    "scrolled": false
   },
   "outputs": [
    {
     "data": {
      "text/html": [
       "<div>\n",
       "<style scoped>\n",
       "    .dataframe tbody tr th:only-of-type {\n",
       "        vertical-align: middle;\n",
       "    }\n",
       "\n",
       "    .dataframe tbody tr th {\n",
       "        vertical-align: top;\n",
       "    }\n",
       "\n",
       "    .dataframe thead th {\n",
       "        text-align: right;\n",
       "    }\n",
       "</style>\n",
       "<table border=\"1\" class=\"dataframe\">\n",
       "  <thead>\n",
       "    <tr style=\"text-align: right;\">\n",
       "      <th></th>\n",
       "      <th>Hypothesis</th>\n",
       "      <th>Reach</th>\n",
       "      <th>Impact</th>\n",
       "      <th>Confidence</th>\n",
       "      <th>Efforts</th>\n",
       "    </tr>\n",
       "  </thead>\n",
       "  <tbody>\n",
       "    <tr>\n",
       "      <th>0</th>\n",
       "      <td>Добавить два новых канала привлечения трафика, что позволит привлекать на 30% больше пользователей</td>\n",
       "      <td>3</td>\n",
       "      <td>10</td>\n",
       "      <td>8</td>\n",
       "      <td>6</td>\n",
       "    </tr>\n",
       "    <tr>\n",
       "      <th>1</th>\n",
       "      <td>Запустить собственную службу доставки, что сократит срок доставки заказов</td>\n",
       "      <td>2</td>\n",
       "      <td>5</td>\n",
       "      <td>4</td>\n",
       "      <td>10</td>\n",
       "    </tr>\n",
       "    <tr>\n",
       "      <th>2</th>\n",
       "      <td>Добавить блоки рекомендаций товаров на сайт интернет магазина, чтобы повысить конверсию и средний чек заказа</td>\n",
       "      <td>8</td>\n",
       "      <td>3</td>\n",
       "      <td>7</td>\n",
       "      <td>3</td>\n",
       "    </tr>\n",
       "    <tr>\n",
       "      <th>3</th>\n",
       "      <td>Изменить структура категорий, что увеличит конверсию, т.к. пользователи быстрее найдут нужный товар</td>\n",
       "      <td>8</td>\n",
       "      <td>3</td>\n",
       "      <td>3</td>\n",
       "      <td>8</td>\n",
       "    </tr>\n",
       "    <tr>\n",
       "      <th>4</th>\n",
       "      <td>Изменить цвет фона главной страницы, чтобы увеличить вовлеченность пользователей</td>\n",
       "      <td>3</td>\n",
       "      <td>1</td>\n",
       "      <td>1</td>\n",
       "      <td>1</td>\n",
       "    </tr>\n",
       "    <tr>\n",
       "      <th>5</th>\n",
       "      <td>Добавить страницу отзывов клиентов о магазине, что позволит увеличить количество заказов</td>\n",
       "      <td>3</td>\n",
       "      <td>2</td>\n",
       "      <td>2</td>\n",
       "      <td>3</td>\n",
       "    </tr>\n",
       "    <tr>\n",
       "      <th>6</th>\n",
       "      <td>Показать на главной странице баннеры с актуальными акциями и распродажами, чтобы увеличить конверсию</td>\n",
       "      <td>5</td>\n",
       "      <td>3</td>\n",
       "      <td>8</td>\n",
       "      <td>3</td>\n",
       "    </tr>\n",
       "    <tr>\n",
       "      <th>7</th>\n",
       "      <td>Добавить форму подписки на все основные страницы, чтобы собрать базу клиентов для email-рассылок</td>\n",
       "      <td>10</td>\n",
       "      <td>7</td>\n",
       "      <td>8</td>\n",
       "      <td>5</td>\n",
       "    </tr>\n",
       "    <tr>\n",
       "      <th>8</th>\n",
       "      <td>Запустить акцию, дающую скидку на товар в день рождения</td>\n",
       "      <td>1</td>\n",
       "      <td>9</td>\n",
       "      <td>9</td>\n",
       "      <td>5</td>\n",
       "    </tr>\n",
       "  </tbody>\n",
       "</table>\n",
       "</div>"
      ],
      "text/plain": [
       "                                                                                                     Hypothesis  \\\n",
       "0            Добавить два новых канала привлечения трафика, что позволит привлекать на 30% больше пользователей   \n",
       "1                                     Запустить собственную службу доставки, что сократит срок доставки заказов   \n",
       "2  Добавить блоки рекомендаций товаров на сайт интернет магазина, чтобы повысить конверсию и средний чек заказа   \n",
       "3           Изменить структура категорий, что увеличит конверсию, т.к. пользователи быстрее найдут нужный товар   \n",
       "4                              Изменить цвет фона главной страницы, чтобы увеличить вовлеченность пользователей   \n",
       "5                      Добавить страницу отзывов клиентов о магазине, что позволит увеличить количество заказов   \n",
       "6          Показать на главной странице баннеры с актуальными акциями и распродажами, чтобы увеличить конверсию   \n",
       "7              Добавить форму подписки на все основные страницы, чтобы собрать базу клиентов для email-рассылок   \n",
       "8                                                       Запустить акцию, дающую скидку на товар в день рождения   \n",
       "\n",
       "   Reach  Impact  Confidence  Efforts  \n",
       "0      3      10           8        6  \n",
       "1      2       5           4       10  \n",
       "2      8       3           7        3  \n",
       "3      8       3           3        8  \n",
       "4      3       1           1        1  \n",
       "5      3       2           2        3  \n",
       "6      5       3           8        3  \n",
       "7     10       7           8        5  \n",
       "8      1       9           9        5  "
      ]
     },
     "metadata": {},
     "output_type": "display_data"
    },
    {
     "data": {
      "text/html": [
       "<div>\n",
       "<style scoped>\n",
       "    .dataframe tbody tr th:only-of-type {\n",
       "        vertical-align: middle;\n",
       "    }\n",
       "\n",
       "    .dataframe tbody tr th {\n",
       "        vertical-align: top;\n",
       "    }\n",
       "\n",
       "    .dataframe thead th {\n",
       "        text-align: right;\n",
       "    }\n",
       "</style>\n",
       "<table border=\"1\" class=\"dataframe\">\n",
       "  <thead>\n",
       "    <tr style=\"text-align: right;\">\n",
       "      <th></th>\n",
       "      <th>Reach</th>\n",
       "      <th>Impact</th>\n",
       "      <th>Confidence</th>\n",
       "      <th>Efforts</th>\n",
       "    </tr>\n",
       "  </thead>\n",
       "  <tbody>\n",
       "    <tr>\n",
       "      <th>count</th>\n",
       "      <td>9.00</td>\n",
       "      <td>9.00</td>\n",
       "      <td>9.00</td>\n",
       "      <td>9.00</td>\n",
       "    </tr>\n",
       "    <tr>\n",
       "      <th>mean</th>\n",
       "      <td>4.78</td>\n",
       "      <td>4.78</td>\n",
       "      <td>5.56</td>\n",
       "      <td>4.89</td>\n",
       "    </tr>\n",
       "    <tr>\n",
       "      <th>std</th>\n",
       "      <td>3.15</td>\n",
       "      <td>3.19</td>\n",
       "      <td>3.05</td>\n",
       "      <td>2.80</td>\n",
       "    </tr>\n",
       "    <tr>\n",
       "      <th>min</th>\n",
       "      <td>1.00</td>\n",
       "      <td>1.00</td>\n",
       "      <td>1.00</td>\n",
       "      <td>1.00</td>\n",
       "    </tr>\n",
       "    <tr>\n",
       "      <th>25%</th>\n",
       "      <td>3.00</td>\n",
       "      <td>3.00</td>\n",
       "      <td>3.00</td>\n",
       "      <td>3.00</td>\n",
       "    </tr>\n",
       "    <tr>\n",
       "      <th>50%</th>\n",
       "      <td>3.00</td>\n",
       "      <td>3.00</td>\n",
       "      <td>7.00</td>\n",
       "      <td>5.00</td>\n",
       "    </tr>\n",
       "    <tr>\n",
       "      <th>75%</th>\n",
       "      <td>8.00</td>\n",
       "      <td>7.00</td>\n",
       "      <td>8.00</td>\n",
       "      <td>6.00</td>\n",
       "    </tr>\n",
       "    <tr>\n",
       "      <th>max</th>\n",
       "      <td>10.00</td>\n",
       "      <td>10.00</td>\n",
       "      <td>9.00</td>\n",
       "      <td>10.00</td>\n",
       "    </tr>\n",
       "  </tbody>\n",
       "</table>\n",
       "</div>"
      ],
      "text/plain": [
       "       Reach  Impact  Confidence  Efforts\n",
       "count   9.00    9.00        9.00     9.00\n",
       "mean    4.78    4.78        5.56     4.89\n",
       "std     3.15    3.19        3.05     2.80\n",
       "min     1.00    1.00        1.00     1.00\n",
       "25%     3.00    3.00        3.00     3.00\n",
       "50%     3.00    3.00        7.00     5.00\n",
       "75%     8.00    7.00        8.00     6.00\n",
       "max    10.00   10.00        9.00    10.00"
      ]
     },
     "metadata": {},
     "output_type": "display_data"
    },
    {
     "name": "stdout",
     "output_type": "stream",
     "text": [
      "<class 'pandas.core.frame.DataFrame'>\n",
      "RangeIndex: 9 entries, 0 to 8\n",
      "Data columns (total 5 columns):\n",
      " #   Column      Non-Null Count  Dtype \n",
      "---  ------      --------------  ----- \n",
      " 0   Hypothesis  9 non-null      object\n",
      " 1   Reach       9 non-null      int64 \n",
      " 2   Impact      9 non-null      int64 \n",
      " 3   Confidence  9 non-null      int64 \n",
      " 4   Efforts     9 non-null      int64 \n",
      "dtypes: int64(4), object(1)\n",
      "memory usage: 488.0+ bytes\n"
     ]
    },
    {
     "data": {
      "text/plain": [
       "None"
      ]
     },
     "metadata": {},
     "output_type": "display_data"
    },
    {
     "name": "stdout",
     "output_type": "stream",
     "text": [
      "0\n"
     ]
    },
    {
     "data": {
      "text/html": [
       "<div>\n",
       "<style scoped>\n",
       "    .dataframe tbody tr th:only-of-type {\n",
       "        vertical-align: middle;\n",
       "    }\n",
       "\n",
       "    .dataframe tbody tr th {\n",
       "        vertical-align: top;\n",
       "    }\n",
       "\n",
       "    .dataframe thead th {\n",
       "        text-align: right;\n",
       "    }\n",
       "</style>\n",
       "<table border=\"1\" class=\"dataframe\">\n",
       "  <thead>\n",
       "    <tr style=\"text-align: right;\">\n",
       "      <th></th>\n",
       "      <th>transactionId</th>\n",
       "      <th>visitorId</th>\n",
       "      <th>date</th>\n",
       "      <th>revenue</th>\n",
       "      <th>group</th>\n",
       "    </tr>\n",
       "  </thead>\n",
       "  <tbody>\n",
       "    <tr>\n",
       "      <th>0</th>\n",
       "      <td>3667963787</td>\n",
       "      <td>3312258926</td>\n",
       "      <td>2019-08-15</td>\n",
       "      <td>1650</td>\n",
       "      <td>B</td>\n",
       "    </tr>\n",
       "    <tr>\n",
       "      <th>1</th>\n",
       "      <td>2804400009</td>\n",
       "      <td>3642806036</td>\n",
       "      <td>2019-08-15</td>\n",
       "      <td>730</td>\n",
       "      <td>B</td>\n",
       "    </tr>\n",
       "    <tr>\n",
       "      <th>2</th>\n",
       "      <td>2961555356</td>\n",
       "      <td>4069496402</td>\n",
       "      <td>2019-08-15</td>\n",
       "      <td>400</td>\n",
       "      <td>A</td>\n",
       "    </tr>\n",
       "    <tr>\n",
       "      <th>3</th>\n",
       "      <td>3797467345</td>\n",
       "      <td>1196621759</td>\n",
       "      <td>2019-08-15</td>\n",
       "      <td>9759</td>\n",
       "      <td>B</td>\n",
       "    </tr>\n",
       "    <tr>\n",
       "      <th>4</th>\n",
       "      <td>2282983706</td>\n",
       "      <td>2322279887</td>\n",
       "      <td>2019-08-15</td>\n",
       "      <td>2308</td>\n",
       "      <td>B</td>\n",
       "    </tr>\n",
       "    <tr>\n",
       "      <th>5</th>\n",
       "      <td>182168103</td>\n",
       "      <td>935554773</td>\n",
       "      <td>2019-08-15</td>\n",
       "      <td>2210</td>\n",
       "      <td>B</td>\n",
       "    </tr>\n",
       "    <tr>\n",
       "      <th>6</th>\n",
       "      <td>398296753</td>\n",
       "      <td>2900797465</td>\n",
       "      <td>2019-08-15</td>\n",
       "      <td>1860</td>\n",
       "      <td>B</td>\n",
       "    </tr>\n",
       "    <tr>\n",
       "      <th>7</th>\n",
       "      <td>2626614568</td>\n",
       "      <td>78758296</td>\n",
       "      <td>2019-08-15</td>\n",
       "      <td>1044</td>\n",
       "      <td>A</td>\n",
       "    </tr>\n",
       "    <tr>\n",
       "      <th>8</th>\n",
       "      <td>1576988021</td>\n",
       "      <td>295230930</td>\n",
       "      <td>2019-08-15</td>\n",
       "      <td>13710</td>\n",
       "      <td>A</td>\n",
       "    </tr>\n",
       "    <tr>\n",
       "      <th>9</th>\n",
       "      <td>1506739906</td>\n",
       "      <td>1882260405</td>\n",
       "      <td>2019-08-15</td>\n",
       "      <td>1855</td>\n",
       "      <td>B</td>\n",
       "    </tr>\n",
       "  </tbody>\n",
       "</table>\n",
       "</div>"
      ],
      "text/plain": [
       "   transactionId   visitorId        date  revenue group\n",
       "0     3667963787  3312258926  2019-08-15     1650     B\n",
       "1     2804400009  3642806036  2019-08-15      730     B\n",
       "2     2961555356  4069496402  2019-08-15      400     A\n",
       "3     3797467345  1196621759  2019-08-15     9759     B\n",
       "4     2282983706  2322279887  2019-08-15     2308     B\n",
       "5      182168103   935554773  2019-08-15     2210     B\n",
       "6      398296753  2900797465  2019-08-15     1860     B\n",
       "7     2626614568    78758296  2019-08-15     1044     A\n",
       "8     1576988021   295230930  2019-08-15    13710     A\n",
       "9     1506739906  1882260405  2019-08-15     1855     B"
      ]
     },
     "metadata": {},
     "output_type": "display_data"
    },
    {
     "data": {
      "text/html": [
       "<div>\n",
       "<style scoped>\n",
       "    .dataframe tbody tr th:only-of-type {\n",
       "        vertical-align: middle;\n",
       "    }\n",
       "\n",
       "    .dataframe tbody tr th {\n",
       "        vertical-align: top;\n",
       "    }\n",
       "\n",
       "    .dataframe thead th {\n",
       "        text-align: right;\n",
       "    }\n",
       "</style>\n",
       "<table border=\"1\" class=\"dataframe\">\n",
       "  <thead>\n",
       "    <tr style=\"text-align: right;\">\n",
       "      <th></th>\n",
       "      <th>transactionId</th>\n",
       "      <th>visitorId</th>\n",
       "      <th>revenue</th>\n",
       "    </tr>\n",
       "  </thead>\n",
       "  <tbody>\n",
       "    <tr>\n",
       "      <th>count</th>\n",
       "      <td>1197.00</td>\n",
       "      <td>1197.00</td>\n",
       "      <td>1197.00</td>\n",
       "    </tr>\n",
       "    <tr>\n",
       "      <th>mean</th>\n",
       "      <td>2155621385.53</td>\n",
       "      <td>2165960143.10</td>\n",
       "      <td>8348.01</td>\n",
       "    </tr>\n",
       "    <tr>\n",
       "      <th>std</th>\n",
       "      <td>1229084904.76</td>\n",
       "      <td>1236014192.15</td>\n",
       "      <td>39191.13</td>\n",
       "    </tr>\n",
       "    <tr>\n",
       "      <th>min</th>\n",
       "      <td>1062393.00</td>\n",
       "      <td>5114589.00</td>\n",
       "      <td>50.00</td>\n",
       "    </tr>\n",
       "    <tr>\n",
       "      <th>25%</th>\n",
       "      <td>1166775572.00</td>\n",
       "      <td>1111826046.00</td>\n",
       "      <td>1220.00</td>\n",
       "    </tr>\n",
       "    <tr>\n",
       "      <th>50%</th>\n",
       "      <td>2145193898.00</td>\n",
       "      <td>2217984702.00</td>\n",
       "      <td>2978.00</td>\n",
       "    </tr>\n",
       "    <tr>\n",
       "      <th>75%</th>\n",
       "      <td>3237740112.00</td>\n",
       "      <td>3177606451.00</td>\n",
       "      <td>8290.00</td>\n",
       "    </tr>\n",
       "    <tr>\n",
       "      <th>max</th>\n",
       "      <td>4293855558.00</td>\n",
       "      <td>4283872382.00</td>\n",
       "      <td>1294500.00</td>\n",
       "    </tr>\n",
       "  </tbody>\n",
       "</table>\n",
       "</div>"
      ],
      "text/plain": [
       "       transactionId     visitorId    revenue\n",
       "count        1197.00       1197.00    1197.00\n",
       "mean   2155621385.53 2165960143.10    8348.01\n",
       "std    1229084904.76 1236014192.15   39191.13\n",
       "min       1062393.00    5114589.00      50.00\n",
       "25%    1166775572.00 1111826046.00    1220.00\n",
       "50%    2145193898.00 2217984702.00    2978.00\n",
       "75%    3237740112.00 3177606451.00    8290.00\n",
       "max    4293855558.00 4283872382.00 1294500.00"
      ]
     },
     "metadata": {},
     "output_type": "display_data"
    },
    {
     "name": "stdout",
     "output_type": "stream",
     "text": [
      "<class 'pandas.core.frame.DataFrame'>\n",
      "RangeIndex: 1197 entries, 0 to 1196\n",
      "Data columns (total 5 columns):\n",
      " #   Column         Non-Null Count  Dtype \n",
      "---  ------         --------------  ----- \n",
      " 0   transactionId  1197 non-null   int64 \n",
      " 1   visitorId      1197 non-null   int64 \n",
      " 2   date           1197 non-null   object\n",
      " 3   revenue        1197 non-null   int64 \n",
      " 4   group          1197 non-null   object\n",
      "dtypes: int64(3), object(2)\n",
      "memory usage: 46.9+ KB\n"
     ]
    },
    {
     "data": {
      "text/plain": [
       "None"
      ]
     },
     "metadata": {},
     "output_type": "display_data"
    },
    {
     "name": "stdout",
     "output_type": "stream",
     "text": [
      "0\n"
     ]
    },
    {
     "data": {
      "text/html": [
       "<div>\n",
       "<style scoped>\n",
       "    .dataframe tbody tr th:only-of-type {\n",
       "        vertical-align: middle;\n",
       "    }\n",
       "\n",
       "    .dataframe tbody tr th {\n",
       "        vertical-align: top;\n",
       "    }\n",
       "\n",
       "    .dataframe thead th {\n",
       "        text-align: right;\n",
       "    }\n",
       "</style>\n",
       "<table border=\"1\" class=\"dataframe\">\n",
       "  <thead>\n",
       "    <tr style=\"text-align: right;\">\n",
       "      <th></th>\n",
       "      <th>date</th>\n",
       "      <th>group</th>\n",
       "      <th>visitors</th>\n",
       "    </tr>\n",
       "  </thead>\n",
       "  <tbody>\n",
       "    <tr>\n",
       "      <th>0</th>\n",
       "      <td>2019-08-01</td>\n",
       "      <td>A</td>\n",
       "      <td>719</td>\n",
       "    </tr>\n",
       "    <tr>\n",
       "      <th>1</th>\n",
       "      <td>2019-08-02</td>\n",
       "      <td>A</td>\n",
       "      <td>619</td>\n",
       "    </tr>\n",
       "    <tr>\n",
       "      <th>2</th>\n",
       "      <td>2019-08-03</td>\n",
       "      <td>A</td>\n",
       "      <td>507</td>\n",
       "    </tr>\n",
       "    <tr>\n",
       "      <th>3</th>\n",
       "      <td>2019-08-04</td>\n",
       "      <td>A</td>\n",
       "      <td>717</td>\n",
       "    </tr>\n",
       "    <tr>\n",
       "      <th>4</th>\n",
       "      <td>2019-08-05</td>\n",
       "      <td>A</td>\n",
       "      <td>756</td>\n",
       "    </tr>\n",
       "    <tr>\n",
       "      <th>5</th>\n",
       "      <td>2019-08-06</td>\n",
       "      <td>A</td>\n",
       "      <td>667</td>\n",
       "    </tr>\n",
       "    <tr>\n",
       "      <th>6</th>\n",
       "      <td>2019-08-07</td>\n",
       "      <td>A</td>\n",
       "      <td>644</td>\n",
       "    </tr>\n",
       "    <tr>\n",
       "      <th>7</th>\n",
       "      <td>2019-08-08</td>\n",
       "      <td>A</td>\n",
       "      <td>610</td>\n",
       "    </tr>\n",
       "    <tr>\n",
       "      <th>8</th>\n",
       "      <td>2019-08-09</td>\n",
       "      <td>A</td>\n",
       "      <td>617</td>\n",
       "    </tr>\n",
       "    <tr>\n",
       "      <th>9</th>\n",
       "      <td>2019-08-10</td>\n",
       "      <td>A</td>\n",
       "      <td>406</td>\n",
       "    </tr>\n",
       "  </tbody>\n",
       "</table>\n",
       "</div>"
      ],
      "text/plain": [
       "         date group  visitors\n",
       "0  2019-08-01     A       719\n",
       "1  2019-08-02     A       619\n",
       "2  2019-08-03     A       507\n",
       "3  2019-08-04     A       717\n",
       "4  2019-08-05     A       756\n",
       "5  2019-08-06     A       667\n",
       "6  2019-08-07     A       644\n",
       "7  2019-08-08     A       610\n",
       "8  2019-08-09     A       617\n",
       "9  2019-08-10     A       406"
      ]
     },
     "metadata": {},
     "output_type": "display_data"
    },
    {
     "data": {
      "text/html": [
       "<div>\n",
       "<style scoped>\n",
       "    .dataframe tbody tr th:only-of-type {\n",
       "        vertical-align: middle;\n",
       "    }\n",
       "\n",
       "    .dataframe tbody tr th {\n",
       "        vertical-align: top;\n",
       "    }\n",
       "\n",
       "    .dataframe thead th {\n",
       "        text-align: right;\n",
       "    }\n",
       "</style>\n",
       "<table border=\"1\" class=\"dataframe\">\n",
       "  <thead>\n",
       "    <tr style=\"text-align: right;\">\n",
       "      <th></th>\n",
       "      <th>visitors</th>\n",
       "    </tr>\n",
       "  </thead>\n",
       "  <tbody>\n",
       "    <tr>\n",
       "      <th>count</th>\n",
       "      <td>62.00</td>\n",
       "    </tr>\n",
       "    <tr>\n",
       "      <th>mean</th>\n",
       "      <td>607.29</td>\n",
       "    </tr>\n",
       "    <tr>\n",
       "      <th>std</th>\n",
       "      <td>114.40</td>\n",
       "    </tr>\n",
       "    <tr>\n",
       "      <th>min</th>\n",
       "      <td>361.00</td>\n",
       "    </tr>\n",
       "    <tr>\n",
       "      <th>25%</th>\n",
       "      <td>534.00</td>\n",
       "    </tr>\n",
       "    <tr>\n",
       "      <th>50%</th>\n",
       "      <td>624.50</td>\n",
       "    </tr>\n",
       "    <tr>\n",
       "      <th>75%</th>\n",
       "      <td>710.50</td>\n",
       "    </tr>\n",
       "    <tr>\n",
       "      <th>max</th>\n",
       "      <td>770.00</td>\n",
       "    </tr>\n",
       "  </tbody>\n",
       "</table>\n",
       "</div>"
      ],
      "text/plain": [
       "       visitors\n",
       "count     62.00\n",
       "mean     607.29\n",
       "std      114.40\n",
       "min      361.00\n",
       "25%      534.00\n",
       "50%      624.50\n",
       "75%      710.50\n",
       "max      770.00"
      ]
     },
     "metadata": {},
     "output_type": "display_data"
    },
    {
     "name": "stdout",
     "output_type": "stream",
     "text": [
      "<class 'pandas.core.frame.DataFrame'>\n",
      "RangeIndex: 62 entries, 0 to 61\n",
      "Data columns (total 3 columns):\n",
      " #   Column    Non-Null Count  Dtype \n",
      "---  ------    --------------  ----- \n",
      " 0   date      62 non-null     object\n",
      " 1   group     62 non-null     object\n",
      " 2   visitors  62 non-null     int64 \n",
      "dtypes: int64(1), object(2)\n",
      "memory usage: 1.6+ KB\n"
     ]
    },
    {
     "data": {
      "text/plain": [
       "None"
      ]
     },
     "metadata": {},
     "output_type": "display_data"
    },
    {
     "name": "stdout",
     "output_type": "stream",
     "text": [
      "0\n"
     ]
    }
   ],
   "source": [
    "# посмотрим на информацию в таблицах, оценим количество, природу пропусков, посмотрим, есть ли дубликаты\n",
    "for i in [hypothesis, orders, visitors]:\n",
    "    display(i.head(10))\n",
    "    display(i.describe())\n",
    "    display(i.info())\n",
    "    print(i.duplicated().sum())"
   ]
  },
  {
   "cell_type": "markdown",
   "metadata": {},
   "source": [
    "**Вывод:** Пропуски и дубликаты отсутствуют."
   ]
  },
  {
   "cell_type": "code",
   "execution_count": 4,
   "metadata": {},
   "outputs": [],
   "source": [
    "# заменим все названия столбцов на строчные, приведем к \"snake case\"\n",
    "hypothesis.columns= map(str.lower, hypothesis.columns)"
   ]
  },
  {
   "cell_type": "code",
   "execution_count": 5,
   "metadata": {},
   "outputs": [
    {
     "data": {
      "text/plain": [
       "['hypothesis', 'reach', 'impact', 'confidence', 'efforts']"
      ]
     },
     "execution_count": 5,
     "metadata": {},
     "output_type": "execute_result"
    }
   ],
   "source": [
    "# проверим \n",
    "hypothesis.columns.to_list()"
   ]
  },
  {
   "cell_type": "code",
   "execution_count": 6,
   "metadata": {},
   "outputs": [],
   "source": [
    "# сразу преобразуем данные о времени\n",
    "orders['date']= pd.to_datetime(orders['date']).dt.date\n",
    "visitors['date']= pd.to_datetime(visitors['date']).dt.date"
   ]
  },
  {
   "cell_type": "markdown",
   "metadata": {},
   "source": [
    "**Вывод:** \n",
    "- Привели названия столбцов в соответсвие с \"snake case\", \n",
    "- Преобразовали данные о времени, \n",
    "- Дубликаты и пропуски не выявлены.\n",
    "\n",
    "Данные к анализу подготовлены."
   ]
  },
  {
   "cell_type": "markdown",
   "metadata": {},
   "source": [
    "<span style=\"color:brown\">Применим фреймворк ICE для приоритезации гипотез. Отсортируем их по убыванию приоритета.</span>"
   ]
  },
  {
   "cell_type": "code",
   "execution_count": 7,
   "metadata": {},
   "outputs": [
    {
     "data": {
      "text/html": [
       "<div>\n",
       "<style scoped>\n",
       "    .dataframe tbody tr th:only-of-type {\n",
       "        vertical-align: middle;\n",
       "    }\n",
       "\n",
       "    .dataframe tbody tr th {\n",
       "        vertical-align: top;\n",
       "    }\n",
       "\n",
       "    .dataframe thead th {\n",
       "        text-align: right;\n",
       "    }\n",
       "</style>\n",
       "<table border=\"1\" class=\"dataframe\">\n",
       "  <thead>\n",
       "    <tr style=\"text-align: right;\">\n",
       "      <th></th>\n",
       "      <th>hypothesis</th>\n",
       "      <th>ICE</th>\n",
       "    </tr>\n",
       "  </thead>\n",
       "  <tbody>\n",
       "    <tr>\n",
       "      <th>8</th>\n",
       "      <td>Запустить акцию, дающую скидку на товар в день рождения</td>\n",
       "      <td>16.20</td>\n",
       "    </tr>\n",
       "    <tr>\n",
       "      <th>0</th>\n",
       "      <td>Добавить два новых канала привлечения трафика, что позволит привлекать на 30% больше пользователей</td>\n",
       "      <td>13.33</td>\n",
       "    </tr>\n",
       "    <tr>\n",
       "      <th>7</th>\n",
       "      <td>Добавить форму подписки на все основные страницы, чтобы собрать базу клиентов для email-рассылок</td>\n",
       "      <td>11.20</td>\n",
       "    </tr>\n",
       "    <tr>\n",
       "      <th>6</th>\n",
       "      <td>Показать на главной странице баннеры с актуальными акциями и распродажами, чтобы увеличить конверсию</td>\n",
       "      <td>8.00</td>\n",
       "    </tr>\n",
       "    <tr>\n",
       "      <th>2</th>\n",
       "      <td>Добавить блоки рекомендаций товаров на сайт интернет магазина, чтобы повысить конверсию и средний чек заказа</td>\n",
       "      <td>7.00</td>\n",
       "    </tr>\n",
       "    <tr>\n",
       "      <th>1</th>\n",
       "      <td>Запустить собственную службу доставки, что сократит срок доставки заказов</td>\n",
       "      <td>2.00</td>\n",
       "    </tr>\n",
       "    <tr>\n",
       "      <th>5</th>\n",
       "      <td>Добавить страницу отзывов клиентов о магазине, что позволит увеличить количество заказов</td>\n",
       "      <td>1.33</td>\n",
       "    </tr>\n",
       "    <tr>\n",
       "      <th>3</th>\n",
       "      <td>Изменить структура категорий, что увеличит конверсию, т.к. пользователи быстрее найдут нужный товар</td>\n",
       "      <td>1.12</td>\n",
       "    </tr>\n",
       "    <tr>\n",
       "      <th>4</th>\n",
       "      <td>Изменить цвет фона главной страницы, чтобы увеличить вовлеченность пользователей</td>\n",
       "      <td>1.00</td>\n",
       "    </tr>\n",
       "  </tbody>\n",
       "</table>\n",
       "</div>"
      ],
      "text/plain": [
       "                                                                                                     hypothesis  \\\n",
       "8                                                       Запустить акцию, дающую скидку на товар в день рождения   \n",
       "0            Добавить два новых канала привлечения трафика, что позволит привлекать на 30% больше пользователей   \n",
       "7              Добавить форму подписки на все основные страницы, чтобы собрать базу клиентов для email-рассылок   \n",
       "6          Показать на главной странице баннеры с актуальными акциями и распродажами, чтобы увеличить конверсию   \n",
       "2  Добавить блоки рекомендаций товаров на сайт интернет магазина, чтобы повысить конверсию и средний чек заказа   \n",
       "1                                     Запустить собственную службу доставки, что сократит срок доставки заказов   \n",
       "5                      Добавить страницу отзывов клиентов о магазине, что позволит увеличить количество заказов   \n",
       "3           Изменить структура категорий, что увеличит конверсию, т.к. пользователи быстрее найдут нужный товар   \n",
       "4                              Изменить цвет фона главной страницы, чтобы увеличить вовлеченность пользователей   \n",
       "\n",
       "    ICE  \n",
       "8 16.20  \n",
       "0 13.33  \n",
       "7 11.20  \n",
       "6  8.00  \n",
       "2  7.00  \n",
       "1  2.00  \n",
       "5  1.33  \n",
       "3  1.12  \n",
       "4  1.00  "
      ]
     },
     "execution_count": 7,
     "metadata": {},
     "output_type": "execute_result"
    }
   ],
   "source": [
    "# посчитаем ICE для гипотез\n",
    "hypothesis['ICE']= hypothesis['impact'] * hypothesis['confidence']/ hypothesis['efforts']\n",
    "hypothesis[['hypothesis', 'ICE']].sort_values(by='ICE', ascending=False).round(2)"
   ]
  },
  {
   "cell_type": "markdown",
   "metadata": {},
   "source": [
    "**Вывод:** Лидирующую позицию в рейтинге гипотез заняла гипотеза: \"Запустить акцию, дающую скидку на товар в день рождения\"."
   ]
  },
  {
   "cell_type": "markdown",
   "metadata": {},
   "source": [
    "<span style=\"color:brown\">Применим фреймворк ICE для приоритезации гипотез. Отсортируем их по убыванию приоритета.</span>"
   ]
  },
  {
   "cell_type": "code",
   "execution_count": 8,
   "metadata": {},
   "outputs": [
    {
     "data": {
      "text/html": [
       "<div>\n",
       "<style scoped>\n",
       "    .dataframe tbody tr th:only-of-type {\n",
       "        vertical-align: middle;\n",
       "    }\n",
       "\n",
       "    .dataframe tbody tr th {\n",
       "        vertical-align: top;\n",
       "    }\n",
       "\n",
       "    .dataframe thead th {\n",
       "        text-align: right;\n",
       "    }\n",
       "</style>\n",
       "<table border=\"1\" class=\"dataframe\">\n",
       "  <thead>\n",
       "    <tr style=\"text-align: right;\">\n",
       "      <th></th>\n",
       "      <th>hypothesis</th>\n",
       "      <th>RICE</th>\n",
       "    </tr>\n",
       "  </thead>\n",
       "  <tbody>\n",
       "    <tr>\n",
       "      <th>7</th>\n",
       "      <td>Добавить форму подписки на все основные страницы, чтобы собрать базу клиентов для email-рассылок</td>\n",
       "      <td>112.00</td>\n",
       "    </tr>\n",
       "    <tr>\n",
       "      <th>2</th>\n",
       "      <td>Добавить блоки рекомендаций товаров на сайт интернет магазина, чтобы повысить конверсию и средний чек заказа</td>\n",
       "      <td>56.00</td>\n",
       "    </tr>\n",
       "    <tr>\n",
       "      <th>0</th>\n",
       "      <td>Добавить два новых канала привлечения трафика, что позволит привлекать на 30% больше пользователей</td>\n",
       "      <td>40.00</td>\n",
       "    </tr>\n",
       "    <tr>\n",
       "      <th>6</th>\n",
       "      <td>Показать на главной странице баннеры с актуальными акциями и распродажами, чтобы увеличить конверсию</td>\n",
       "      <td>40.00</td>\n",
       "    </tr>\n",
       "    <tr>\n",
       "      <th>8</th>\n",
       "      <td>Запустить акцию, дающую скидку на товар в день рождения</td>\n",
       "      <td>16.20</td>\n",
       "    </tr>\n",
       "    <tr>\n",
       "      <th>3</th>\n",
       "      <td>Изменить структура категорий, что увеличит конверсию, т.к. пользователи быстрее найдут нужный товар</td>\n",
       "      <td>9.00</td>\n",
       "    </tr>\n",
       "    <tr>\n",
       "      <th>1</th>\n",
       "      <td>Запустить собственную службу доставки, что сократит срок доставки заказов</td>\n",
       "      <td>4.00</td>\n",
       "    </tr>\n",
       "    <tr>\n",
       "      <th>5</th>\n",
       "      <td>Добавить страницу отзывов клиентов о магазине, что позволит увеличить количество заказов</td>\n",
       "      <td>4.00</td>\n",
       "    </tr>\n",
       "    <tr>\n",
       "      <th>4</th>\n",
       "      <td>Изменить цвет фона главной страницы, чтобы увеличить вовлеченность пользователей</td>\n",
       "      <td>3.00</td>\n",
       "    </tr>\n",
       "  </tbody>\n",
       "</table>\n",
       "</div>"
      ],
      "text/plain": [
       "                                                                                                     hypothesis  \\\n",
       "7              Добавить форму подписки на все основные страницы, чтобы собрать базу клиентов для email-рассылок   \n",
       "2  Добавить блоки рекомендаций товаров на сайт интернет магазина, чтобы повысить конверсию и средний чек заказа   \n",
       "0            Добавить два новых канала привлечения трафика, что позволит привлекать на 30% больше пользователей   \n",
       "6          Показать на главной странице баннеры с актуальными акциями и распродажами, чтобы увеличить конверсию   \n",
       "8                                                       Запустить акцию, дающую скидку на товар в день рождения   \n",
       "3           Изменить структура категорий, что увеличит конверсию, т.к. пользователи быстрее найдут нужный товар   \n",
       "1                                     Запустить собственную службу доставки, что сократит срок доставки заказов   \n",
       "5                      Добавить страницу отзывов клиентов о магазине, что позволит увеличить количество заказов   \n",
       "4                              Изменить цвет фона главной страницы, чтобы увеличить вовлеченность пользователей   \n",
       "\n",
       "    RICE  \n",
       "7 112.00  \n",
       "2  56.00  \n",
       "0  40.00  \n",
       "6  40.00  \n",
       "8  16.20  \n",
       "3   9.00  \n",
       "1   4.00  \n",
       "5   4.00  \n",
       "4   3.00  "
      ]
     },
     "execution_count": 8,
     "metadata": {},
     "output_type": "execute_result"
    }
   ],
   "source": [
    "# посчитаем RICE для гипотез\n",
    "hypothesis['RICE']= hypothesis['reach']*hypothesis['impact']*hypothesis['confidence']/hypothesis['efforts']\n",
    "hypothesis[['hypothesis', 'RICE']].sort_values(by= 'RICE', ascending= False)"
   ]
  },
  {
   "cell_type": "markdown",
   "metadata": {},
   "source": [
    "**Вывод:** Лидирующую позицию в рейтинге гипотез заняла гипотеза: \"Добавить форму подписки на все основные страницы, чтобы собрать базу клиентов для email-рассылок\t\"."
   ]
  },
  {
   "cell_type": "markdown",
   "metadata": {},
   "source": [
    "<span style=\"color:brown\">Приоритезация гипотез при применении RICE вместо ICE изменилась. Почему так произошло?</span>"
   ]
  },
  {
   "cell_type": "code",
   "execution_count": 9,
   "metadata": {},
   "outputs": [],
   "source": [
    "# визуализируем изменение порядка гипотез\n",
    "t_ICE= hypothesis[['hypothesis', 'ICE']].sort_values(by= 'ICE').reset_index(drop= True).reset_index().drop('ICE', axis= 1)\n",
    "t_RICE= hypothesis[['hypothesis', 'RICE']].sort_values(by= 'RICE').reset_index(drop= True).reset_index().drop('RICE', axis= 1)\n",
    "t_all= t_ICE.merge(t_RICE, on= 'hypothesis')\n",
    "t_all= t_all.set_axis(['ICE', 'hypothesis', 'RICE'], axis= 1)"
   ]
  },
  {
   "cell_type": "code",
   "execution_count": 10,
   "metadata": {},
   "outputs": [
    {
     "data": {
      "image/png": "[encoded data removed]",
      "text/plain": [
       "<Figure size 1080x720 with 1 Axes>"
      ]
     },
     "metadata": {
      "needs_background": "light"
     },
     "output_type": "display_data"
    }
   ],
   "source": [
    "fig, ax= plt.subplots(figsize= (15, 10))\n",
    "\n",
    "for i in hypothesis.index:\n",
    "    ax.plot(t_all.iloc[i, [0, 2]], marker='o', label= f'{t_all.iloc[i, 1]}')\n",
    "plt.ylabel('Значимость гипотезы')\n",
    "plt.ylim(-1, 15)\n",
    "plt.xlim(-3, 4)\n",
    "plt.grid(linestyle='-', linewidth=0.5)\n",
    "plt.legend(loc='upper right', fontsize='large')\n",
    "plt.title('Изменение приоритета гипотез')\n",
    "plt.show()"
   ]
  },
  {
   "cell_type": "markdown",
   "metadata": {},
   "source": [
    "**Вывод:** \n",
    "\n",
    "Топ- 5 в обех рейтингах одинаков. Это Гипотезы 0,2,6,7 и 8. Изменилась приоритезация:\n",
    "- **По фреймворку ICE** наиболее приоритетными стали гипотезы:\n",
    "  - Запустить акцию, дающую скидку на товар в день рождения(**8**)\n",
    "  - Добавить два новых канала привлечения трафика, что позволит привлекать на 30% больше пользователей(**0**)\n",
    "  - Добавить форму подписки на все основные страницы, чтобы собрать базу клиентов для email-рассылок(**7**)\n",
    "  - Показать на главной странице баннеры с актуальными акциями и распродажами, чтобы увеличить конверсию(**6**)\n",
    "  - Добавить блоки рекомендаций товаров на сайт интернет магазина, чтобы повысить конверсию и средний чек заказа(**2**)\t\n",
    "- **По фреймворку RICE** наиболее приоритетные стали гипотезы:\n",
    "  - Добавить форму подписки на все основные страницы, чтобы собрать базу клиентов для email-рассылок(**7**)\n",
    "  - Добавить блоки рекомендаций товаров на сайт интернет магазина, чтобы повысить конверсию и средний чек заказа(**2**)\n",
    "  - Добавить два новых канала привлечения трафика, что позволит привлекать на 30% больше пользователей(**0**)\n",
    "  - Показать на главной странице баннеры с актуальными акциями и распродажами, чтобы увеличить конверсию(**6**)\t\n",
    "  - Запустить акцию, дающую скидку на товар в день рождения **(8)**\t\n",
    "  \n",
    "Причина изменения в том, что фреймворк **RICE** учитывает важный параметр **Reach:** (скольких пользователей затронет изменение, которое вы хотите внести). Поэтому лидерами стали гипотезы с наибольшим охватом пользователей. \n",
    "\n",
    "Решение: Надо предложить для тестирования **гипотезу №7**. А также можно рассмотреть и **2-ую гипотезу.**"
   ]
  },
  {
   "cell_type": "markdown",
   "metadata": {},
   "source": [
    "### **Часть 2. Анализ A/B-теста** "
   ]
  },
  {
   "cell_type": "markdown",
   "metadata": {},
   "source": [
    "Мы провели A/B-тест и получили результаты, которые описаны в файлах **/datasets/orders.csv и /datasets/visitors.csv.**"
   ]
  },
  {
   "cell_type": "code",
   "execution_count": 11,
   "metadata": {},
   "outputs": [
    {
     "data": {
      "text/html": [
       "<div>\n",
       "<style scoped>\n",
       "    .dataframe tbody tr th:only-of-type {\n",
       "        vertical-align: middle;\n",
       "    }\n",
       "\n",
       "    .dataframe tbody tr th {\n",
       "        vertical-align: top;\n",
       "    }\n",
       "\n",
       "    .dataframe thead th {\n",
       "        text-align: right;\n",
       "    }\n",
       "</style>\n",
       "<table border=\"1\" class=\"dataframe\">\n",
       "  <thead>\n",
       "    <tr style=\"text-align: right;\">\n",
       "      <th></th>\n",
       "      <th>transactionId</th>\n",
       "      <th>visitorId</th>\n",
       "      <th>date</th>\n",
       "      <th>revenue</th>\n",
       "      <th>group</th>\n",
       "    </tr>\n",
       "  </thead>\n",
       "  <tbody>\n",
       "    <tr>\n",
       "      <th>0</th>\n",
       "      <td>3667963787</td>\n",
       "      <td>3312258926</td>\n",
       "      <td>2019-08-15</td>\n",
       "      <td>1650</td>\n",
       "      <td>B</td>\n",
       "    </tr>\n",
       "    <tr>\n",
       "      <th>1</th>\n",
       "      <td>2804400009</td>\n",
       "      <td>3642806036</td>\n",
       "      <td>2019-08-15</td>\n",
       "      <td>730</td>\n",
       "      <td>B</td>\n",
       "    </tr>\n",
       "    <tr>\n",
       "      <th>2</th>\n",
       "      <td>2961555356</td>\n",
       "      <td>4069496402</td>\n",
       "      <td>2019-08-15</td>\n",
       "      <td>400</td>\n",
       "      <td>A</td>\n",
       "    </tr>\n",
       "    <tr>\n",
       "      <th>3</th>\n",
       "      <td>3797467345</td>\n",
       "      <td>1196621759</td>\n",
       "      <td>2019-08-15</td>\n",
       "      <td>9759</td>\n",
       "      <td>B</td>\n",
       "    </tr>\n",
       "    <tr>\n",
       "      <th>4</th>\n",
       "      <td>2282983706</td>\n",
       "      <td>2322279887</td>\n",
       "      <td>2019-08-15</td>\n",
       "      <td>2308</td>\n",
       "      <td>B</td>\n",
       "    </tr>\n",
       "  </tbody>\n",
       "</table>\n",
       "</div>"
      ],
      "text/plain": [
       "   transactionId   visitorId        date  revenue group\n",
       "0     3667963787  3312258926  2019-08-15     1650     B\n",
       "1     2804400009  3642806036  2019-08-15      730     B\n",
       "2     2961555356  4069496402  2019-08-15      400     A\n",
       "3     3797467345  1196621759  2019-08-15     9759     B\n",
       "4     2282983706  2322279887  2019-08-15     2308     B"
      ]
     },
     "execution_count": 11,
     "metadata": {},
     "output_type": "execute_result"
    }
   ],
   "source": [
    "orders.head()"
   ]
  },
  {
   "cell_type": "code",
   "execution_count": 12,
   "metadata": {},
   "outputs": [
    {
     "data": {
      "text/html": [
       "<div>\n",
       "<style scoped>\n",
       "    .dataframe tbody tr th:only-of-type {\n",
       "        vertical-align: middle;\n",
       "    }\n",
       "\n",
       "    .dataframe tbody tr th {\n",
       "        vertical-align: top;\n",
       "    }\n",
       "\n",
       "    .dataframe thead th {\n",
       "        text-align: right;\n",
       "    }\n",
       "</style>\n",
       "<table border=\"1\" class=\"dataframe\">\n",
       "  <thead>\n",
       "    <tr style=\"text-align: right;\">\n",
       "      <th></th>\n",
       "      <th>date</th>\n",
       "      <th>group</th>\n",
       "      <th>visitors</th>\n",
       "    </tr>\n",
       "  </thead>\n",
       "  <tbody>\n",
       "    <tr>\n",
       "      <th>0</th>\n",
       "      <td>2019-08-01</td>\n",
       "      <td>A</td>\n",
       "      <td>719</td>\n",
       "    </tr>\n",
       "    <tr>\n",
       "      <th>1</th>\n",
       "      <td>2019-08-02</td>\n",
       "      <td>A</td>\n",
       "      <td>619</td>\n",
       "    </tr>\n",
       "    <tr>\n",
       "      <th>2</th>\n",
       "      <td>2019-08-03</td>\n",
       "      <td>A</td>\n",
       "      <td>507</td>\n",
       "    </tr>\n",
       "    <tr>\n",
       "      <th>3</th>\n",
       "      <td>2019-08-04</td>\n",
       "      <td>A</td>\n",
       "      <td>717</td>\n",
       "    </tr>\n",
       "    <tr>\n",
       "      <th>4</th>\n",
       "      <td>2019-08-05</td>\n",
       "      <td>A</td>\n",
       "      <td>756</td>\n",
       "    </tr>\n",
       "  </tbody>\n",
       "</table>\n",
       "</div>"
      ],
      "text/plain": [
       "         date group  visitors\n",
       "0  2019-08-01     A       719\n",
       "1  2019-08-02     A       619\n",
       "2  2019-08-03     A       507\n",
       "3  2019-08-04     A       717\n",
       "4  2019-08-05     A       756"
      ]
     },
     "execution_count": 12,
     "metadata": {},
     "output_type": "execute_result"
    }
   ],
   "source": [
    "visitors.head()"
   ]
  },
  {
   "cell_type": "code",
   "execution_count": 13,
   "metadata": {},
   "outputs": [
    {
     "name": "stdout",
     "output_type": "stream",
     "text": [
      "Пользователей, попавших в обе группы: 58\n",
      "Сумма заказов этих пользователей 1558935\n",
      "Количество их заказов 181\n"
     ]
    }
   ],
   "source": [
    "# проверим, есть ли пользователи, которые попали в обе группы\n",
    "double= orders.groupby(['visitorId']).agg({'group' : 'nunique', 'transactionId' : 'count', 'revenue' : 'sum'}).reset_index()\n",
    "print(f'Пользователей, попавших в обе группы: {double[double.group != 1][\"visitorId\"].count()}')\n",
    "print(f\"Сумма заказов этих пользователей {double[double.group != 1]['revenue'].sum()}\")\n",
    "print(f\"Количество их заказов {double[double.group != 1]['transactionId'].sum()}\")"
   ]
  },
  {
   "cell_type": "markdown",
   "metadata": {},
   "source": [
    "58 пользователей от всей выборки - это 5%, можно было бы и удалить, но многовато. Если посчитать средний чек, то около 8600, и, вроде сумма адекватная. Но мы не знаем точно, нормальное ли распределение, мы имеем только пользователей, которые совершили хотя бы один платеж, а пользователти, котрые не платили, нам не известны. Может быть, как раз в этих группах есть интересные для нас маркеры. Оставим, не будем удалять. Поработаем с выбросами и аномалиями чуть позже, когда дойдем до перцентилей."
   ]
  },
  {
   "cell_type": "markdown",
   "metadata": {},
   "source": [
    "В датасэте **orders** мы можем посмотреть на таких \"двойников\", их там, как мы выяснили 58. Возьмем пользователя с Id 199603092, он сразу в двух группах: А и В."
   ]
  },
  {
   "cell_type": "code",
   "execution_count": 14,
   "metadata": {},
   "outputs": [
    {
     "data": {
      "text/html": [
       "<div>\n",
       "<style scoped>\n",
       "    .dataframe tbody tr th:only-of-type {\n",
       "        vertical-align: middle;\n",
       "    }\n",
       "\n",
       "    .dataframe tbody tr th {\n",
       "        vertical-align: top;\n",
       "    }\n",
       "\n",
       "    .dataframe thead th {\n",
       "        text-align: right;\n",
       "    }\n",
       "</style>\n",
       "<table border=\"1\" class=\"dataframe\">\n",
       "  <thead>\n",
       "    <tr style=\"text-align: right;\">\n",
       "      <th></th>\n",
       "      <th>transactionId</th>\n",
       "      <th>visitorId</th>\n",
       "      <th>date</th>\n",
       "      <th>revenue</th>\n",
       "      <th>group</th>\n",
       "    </tr>\n",
       "  </thead>\n",
       "  <tbody>\n",
       "    <tr>\n",
       "      <th>26</th>\n",
       "      <td>2223239646</td>\n",
       "      <td>199603092</td>\n",
       "      <td>2019-08-15</td>\n",
       "      <td>3488</td>\n",
       "      <td>A</td>\n",
       "    </tr>\n",
       "    <tr>\n",
       "      <th>134</th>\n",
       "      <td>62794304</td>\n",
       "      <td>199603092</td>\n",
       "      <td>2019-08-22</td>\n",
       "      <td>6976</td>\n",
       "      <td>A</td>\n",
       "    </tr>\n",
       "    <tr>\n",
       "      <th>246</th>\n",
       "      <td>437656952</td>\n",
       "      <td>199603092</td>\n",
       "      <td>2019-08-02</td>\n",
       "      <td>3488</td>\n",
       "      <td>B</td>\n",
       "    </tr>\n",
       "    <tr>\n",
       "      <th>823</th>\n",
       "      <td>2971973105</td>\n",
       "      <td>199603092</td>\n",
       "      <td>2019-08-27</td>\n",
       "      <td>2790</td>\n",
       "      <td>A</td>\n",
       "    </tr>\n",
       "    <tr>\n",
       "      <th>1102</th>\n",
       "      <td>1941707234</td>\n",
       "      <td>199603092</td>\n",
       "      <td>2019-08-12</td>\n",
       "      <td>6438</td>\n",
       "      <td>A</td>\n",
       "    </tr>\n",
       "  </tbody>\n",
       "</table>\n",
       "</div>"
      ],
      "text/plain": [
       "      transactionId  visitorId        date  revenue group\n",
       "26       2223239646  199603092  2019-08-15     3488     A\n",
       "134        62794304  199603092  2019-08-22     6976     A\n",
       "246       437656952  199603092  2019-08-02     3488     B\n",
       "823      2971973105  199603092  2019-08-27     2790     A\n",
       "1102     1941707234  199603092  2019-08-12     6438     A"
      ]
     },
     "execution_count": 14,
     "metadata": {},
     "output_type": "execute_result"
    }
   ],
   "source": [
    "orders[orders['visitorId'] == 199603092]"
   ]
  },
  {
   "cell_type": "code",
   "execution_count": 15,
   "metadata": {},
   "outputs": [
    {
     "data": {
      "text/plain": [
       "0"
      ]
     },
     "execution_count": 15,
     "metadata": {},
     "output_type": "execute_result"
    }
   ],
   "source": [
    "# проверим, есть ли пересечения в заказах\n",
    "len(np.intersect1d(orders[orders['group'] == 'A']['transactionId'], orders[orders['group'] == 'B']['transactionId']))"
   ]
  },
  {
   "cell_type": "markdown",
   "metadata": {},
   "source": [
    "**Вывод:** А вот в заказах пересечений нет."
   ]
  },
  {
   "cell_type": "markdown",
   "metadata": {},
   "source": [
    "<span style=\"color:brown\">Построим график кумулятивной выручки по группам.</span>"
   ]
  },
  {
   "cell_type": "code",
   "execution_count": 16,
   "metadata": {},
   "outputs": [
    {
     "data": {
      "text/html": [
       "<div>\n",
       "<style scoped>\n",
       "    .dataframe tbody tr th:only-of-type {\n",
       "        vertical-align: middle;\n",
       "    }\n",
       "\n",
       "    .dataframe tbody tr th {\n",
       "        vertical-align: top;\n",
       "    }\n",
       "\n",
       "    .dataframe thead th {\n",
       "        text-align: right;\n",
       "    }\n",
       "</style>\n",
       "<table border=\"1\" class=\"dataframe\">\n",
       "  <thead>\n",
       "    <tr style=\"text-align: right;\">\n",
       "      <th></th>\n",
       "      <th>date</th>\n",
       "      <th>group</th>\n",
       "      <th>orders</th>\n",
       "      <th>buyers</th>\n",
       "      <th>revenue</th>\n",
       "      <th>visitors</th>\n",
       "    </tr>\n",
       "  </thead>\n",
       "  <tbody>\n",
       "    <tr>\n",
       "      <th>0</th>\n",
       "      <td>2019-08-01</td>\n",
       "      <td>A</td>\n",
       "      <td>24</td>\n",
       "      <td>20</td>\n",
       "      <td>148579</td>\n",
       "      <td>719</td>\n",
       "    </tr>\n",
       "    <tr>\n",
       "      <th>1</th>\n",
       "      <td>2019-08-01</td>\n",
       "      <td>B</td>\n",
       "      <td>21</td>\n",
       "      <td>20</td>\n",
       "      <td>101217</td>\n",
       "      <td>713</td>\n",
       "    </tr>\n",
       "    <tr>\n",
       "      <th>2</th>\n",
       "      <td>2019-08-02</td>\n",
       "      <td>A</td>\n",
       "      <td>44</td>\n",
       "      <td>38</td>\n",
       "      <td>242401</td>\n",
       "      <td>1338</td>\n",
       "    </tr>\n",
       "    <tr>\n",
       "      <th>3</th>\n",
       "      <td>2019-08-02</td>\n",
       "      <td>B</td>\n",
       "      <td>45</td>\n",
       "      <td>43</td>\n",
       "      <td>266748</td>\n",
       "      <td>1294</td>\n",
       "    </tr>\n",
       "    <tr>\n",
       "      <th>4</th>\n",
       "      <td>2019-08-03</td>\n",
       "      <td>A</td>\n",
       "      <td>68</td>\n",
       "      <td>62</td>\n",
       "      <td>354874</td>\n",
       "      <td>1845</td>\n",
       "    </tr>\n",
       "  </tbody>\n",
       "</table>\n",
       "</div>"
      ],
      "text/plain": [
       "         date group  orders  buyers  revenue  visitors\n",
       "0  2019-08-01     A      24      20   148579       719\n",
       "1  2019-08-01     B      21      20   101217       713\n",
       "2  2019-08-02     A      44      38   242401      1338\n",
       "3  2019-08-02     B      45      43   266748      1294\n",
       "4  2019-08-03     A      68      62   354874      1845"
      ]
     },
     "execution_count": 16,
     "metadata": {},
     "output_type": "execute_result"
    }
   ],
   "source": [
    "# cоздадим массив уникальных пар значений дат и групп теста\n",
    "datesGroups= orders[['date','group']].drop_duplicates()\n",
    "\n",
    "# получим агрегированные кумулятивные по дням данные о заказах \n",
    "ordersAggregated= datesGroups.apply(lambda x: orders[np.logical_and(orders['date']<= x['date'], orders['group']== x['group'])]. \\\n",
    "                               agg({'date' : 'max', \n",
    "                                    'group' : 'max', \n",
    "                                    'transactionId' : pd.Series.nunique, \n",
    "                                    'visitorId' : pd.Series.nunique, \n",
    "                                    'revenue' : 'sum'}), axis= 1).sort_values(by= ['date','group'])\n",
    "\n",
    "# получим агрегированные кумулятивные по дням данные о посетителях интернет-магазина \n",
    "visitorsAggregated= datesGroups.apply(lambda x: visitors[np.logical_and(visitors['date']<= x['date'], visitors['group']== x['group'])]. \\\n",
    "                               agg({'date' : 'max', \n",
    "                                    'group' : 'max', \n",
    "                                    'visitors' : 'sum'}), axis=1).sort_values(by= ['date','group'])\n",
    "\n",
    "# объединим кумулятивные данные в одной таблице и присвоим ее столбцам понятные названия\n",
    "cumulativeData= ordersAggregated.merge(visitorsAggregated, left_on= ['date', 'group'], right_on= ['date', 'group'])\n",
    "\n",
    "# переименуем столбцы\n",
    "cumulativeData.columns= ['date', 'group', 'orders', 'buyers', 'revenue', 'visitors']\n",
    "\n",
    "cumulativeData.head(5)"
   ]
  },
  {
   "cell_type": "code",
   "execution_count": 17,
   "metadata": {},
   "outputs": [
    {
     "data": {
      "image/png": "[encoded data removed]",
      "text/plain": [
       "<Figure size 720x360 with 1 Axes>"
      ]
     },
     "metadata": {
      "needs_background": "light"
     },
     "output_type": "display_data"
    }
   ],
   "source": [
    "# датафрейм с кумулятивным количеством заказов и кумулятивной выручкой по дням в группе А\n",
    "cumulativeRevenueA= cumulativeData[cumulativeData['group']== 'A'][['date','revenue', 'orders']]\n",
    "\n",
    "# датафрейм с кумулятивным количеством заказов и кумулятивной выручкой по дням в группе B\n",
    "cumulativeRevenueB= cumulativeData[cumulativeData['group']== 'B'][['date','revenue', 'orders']]\n",
    "\n",
    "plt.figure(figsize= (10,5))\n",
    "\n",
    "# строим график выручки группы А\n",
    "plt.plot(cumulativeRevenueA['date'], cumulativeRevenueA['revenue'], label= 'Кумулятивная выручка гр.A')\n",
    "\n",
    "# строим график выручки группы B\n",
    "plt.plot(cumulativeRevenueB['date'], cumulativeRevenueB['revenue'], label= 'Кумулятивная выручка гр.B')\n",
    "plt.title('График кумулятивной выручки по группам\\n  ')\n",
    "plt.xlabel('\\nДата')\n",
    "plt.ylabel('Выручка\\n')\n",
    "plt.grid()\n",
    "plt.legend();"
   ]
  },
  {
   "cell_type": "markdown",
   "metadata": {},
   "source": [
    "**Вывод:** На графике видно, что выручка линейно растет на протяжении всего теста. Однако в группе В наблюдаем резкий скачок на 3-ей неделе. Возможно несколько причин: либо увеличилось количество заказов, либо аномальное значение суммы заказов или аномально высокий средний чек. Будем выяснять."
   ]
  },
  {
   "cell_type": "markdown",
   "metadata": {},
   "source": [
    "<span style=\"color:brown\">Построим график кумулятивного среднего чека по группам. </span>"
   ]
  },
  {
   "cell_type": "code",
   "execution_count": 18,
   "metadata": {},
   "outputs": [
    {
     "data": {
      "image/png": "[encoded data removed]",
      "text/plain": [
       "<Figure size 720x360 with 1 Axes>"
      ]
     },
     "metadata": {
      "needs_background": "light"
     },
     "output_type": "display_data"
    }
   ],
   "source": [
    "# построим графики, разделим кумулятивную выручку на кумулятивное число заказов\n",
    "plt.figure(figsize= (10,5))\n",
    "plt.grid()\n",
    "plt.plot(cumulativeRevenueA['date'], cumulativeRevenueA['revenue']/cumulativeRevenueA['orders'], label='A')\n",
    "plt.plot(cumulativeRevenueB['date'], cumulativeRevenueB['revenue']/cumulativeRevenueB['orders'], label='B')\n",
    "plt.title('График кумулятивного среднего чека по группам\\n  ')\n",
    "plt.xlabel('\\nДата')\n",
    "plt.ylabel('Сумма среднего чека\\n')\n",
    "plt.legend();"
   ]
  },
  {
   "cell_type": "markdown",
   "metadata": {},
   "source": [
    "**Вывод:** \n",
    "- В группе A средний чек к концу второй недели подрос и стабилизировался\n",
    "- В группе B средний чек к концу второй недели сравнялся со средним чеком группы А, затем 2019-08-19 наблюдается всплеск и плавное снижение к концу теста. Есть выбросы, судя по всему, которые дали такую картину."
   ]
  },
  {
   "cell_type": "markdown",
   "metadata": {},
   "source": [
    "<span style=\"color:brown\">Построим график относительного изменения кумулятивного среднего чека группы B к группе A.</span>"
   ]
  },
  {
   "cell_type": "code",
   "execution_count": 19,
   "metadata": {},
   "outputs": [
    {
     "data": {
      "image/png": "[encoded data removed]",
      "text/plain": [
       "<Figure size 720x360 with 1 Axes>"
      ]
     },
     "metadata": {
      "needs_background": "light"
     },
     "output_type": "display_data"
    }
   ],
   "source": [
    "# собираем данные в одном датафрейме\n",
    "mergedCumulativeRevenue= cumulativeRevenueA.merge(cumulativeRevenueB, left_on= 'date', right_on= 'date', how= 'left', suffixes= ['A', 'B'])\n",
    "\n",
    "# cтроим отношение средних чеков\n",
    "plt.figure(figsize=(10,5))\n",
    "plt.grid()\n",
    "plt.plot(mergedCumulativeRevenue['date'], (mergedCumulativeRevenue['revenueB']/mergedCumulativeRevenue['ordersB'])/(mergedCumulativeRevenue['revenueA']/mergedCumulativeRevenue['ordersA'])-1)\n",
    "plt.title('График относительного изменения кумулятивного среднего чека группы B к группе A\\n  ')\n",
    "plt.xlabel('\\nДата')\n",
    "plt.ylabel('Изменение среденего чека \\n')\n",
    "# добавляем ось X\n",
    "plt.axhline(y= 0, color= 'black', linestyle= '--');"
   ]
  },
  {
   "cell_type": "markdown",
   "metadata": {},
   "source": [
    "**Вывод:** И снова эта же дата 2019-08-19, здесь очень заметен скачок. Где-то уж точно спрятались крупные заказы и выбросы! Найдём их позже."
   ]
  },
  {
   "cell_type": "markdown",
   "metadata": {},
   "source": [
    "<span style=\"color:brown\">Построим график кумулятивного среднего количества заказов на посетителя по группам.</span>"
   ]
  },
  {
   "cell_type": "code",
   "execution_count": 20,
   "metadata": {},
   "outputs": [
    {
     "data": {
      "image/png": "[encoded data removed]",
      "text/plain": [
       "<Figure size 1080x360 with 1 Axes>"
      ]
     },
     "metadata": {
      "needs_background": "light"
     },
     "output_type": "display_data"
    }
   ],
   "source": [
    "# считаем кумулятивную конверсию\n",
    "cumulativeData['conversion']= cumulativeData['orders']/cumulativeData['visitors']\n",
    "\n",
    "# отделяем данные по группе A\n",
    "cumulativeDataA= cumulativeData[cumulativeData['group']== 'A']\n",
    "\n",
    "# отделяем данные по группе B\n",
    "cumulativeDataB = cumulativeData[cumulativeData['group']== 'B']\n",
    "\n",
    "# строим графики\n",
    "plt.figure(figsize= (15,5))\n",
    "plt.grid()\n",
    "plt.plot(cumulativeDataA['date'], cumulativeDataA['conversion'], label= 'A')\n",
    "plt.plot(cumulativeDataB['date'], cumulativeDataB['conversion'], label= 'B')\n",
    "plt.legend()\n",
    "plt.title('График кумулятивной конверсии по группам\\n  ')\n",
    "plt.xlabel('\\nДата')\n",
    "plt.ylabel('Конверсия\\n');"
   ]
  },
  {
   "cell_type": "markdown",
   "metadata": {},
   "source": [
    "**Вывод:** Визуально четко видно, что группы стартовали с разной конверсией, причем группа В на 8% по конверсии была меньше, но спустя неделю догнала группу А, и затем её конверсия стабилизировалась, и впоследствии опередила группу А почти на 5%. Конверсия группы А просела, и также стабилизировалась до конца теста."
   ]
  },
  {
   "cell_type": "markdown",
   "metadata": {},
   "source": [
    "<span style=\"color:brown\">Построим график относительного изменения кумулятивного среднего количества заказов на посетителя группы B к группе A.</span>"
   ]
  },
  {
   "cell_type": "code",
   "execution_count": 21,
   "metadata": {},
   "outputs": [
    {
     "data": {
      "image/png": "[encoded data removed]",
      "text/plain": [
       "<Figure size 720x360 with 1 Axes>"
      ]
     },
     "metadata": {
      "needs_background": "light"
     },
     "output_type": "display_data"
    }
   ],
   "source": [
    "# построим график относительного различия кумулятивных конверсий:\n",
    "mergedCumulativeConversions= cumulativeDataA[['date','conversion']].merge(cumulativeDataB[['date','conversion']], left_on= 'date', right_on= 'date', how= 'left', suffixes= ['A', 'B'])\n",
    "plt.figure(figsize= (10,5))\n",
    "plt.grid()\n",
    "plt.plot(mergedCumulativeConversions['date'], mergedCumulativeConversions['conversionB']/mergedCumulativeConversions['conversionA']-1, label= \"Относительный прирост конверсии группы B относительно группы A\")\n",
    "plt.legend()\n",
    "\n",
    "plt.axhline(y= 0, color= 'black', linestyle= '--')\n",
    "plt.axhline(y= 0.4, color= 'grey', linestyle= '--')\n",
    "plt.title('График относительного изменения кумулятивной конверсии группы B к группе A\\n  ')\n",
    "plt.xlabel('\\nДата')\n",
    "plt.ylabel('Относительне изменение конверсии\\n');"
   ]
  },
  {
   "cell_type": "markdown",
   "metadata": {},
   "source": [
    "**Вывод:**  К середине второй недели эксперимаента отношение конверсий стабилизировалось, но группа A проигрывает группе B, практически на протяжении всего времени."
   ]
  },
  {
   "cell_type": "markdown",
   "metadata": {},
   "source": [
    "<span style=\"color:brown\">Построим точечный график количества заказов по пользователям.</span> "
   ]
  },
  {
   "cell_type": "code",
   "execution_count": 22,
   "metadata": {},
   "outputs": [
    {
     "data": {
      "image/png": "[encoded data removed]",
      "text/plain": [
       "<Figure size 720x360 with 1 Axes>"
      ]
     },
     "metadata": {
      "needs_background": "light"
     },
     "output_type": "display_data"
    }
   ],
   "source": [
    "ordersByUsers= orders.drop(['group', 'revenue', 'date'], axis =1).groupby('visitorId', as_index= False). \\\n",
    "                       agg({'transactionId' : pd.Series.nunique})\n",
    "\n",
    "ordersByUsers.columns= ['user_id','orders']\n",
    "\n",
    "ordersByUsers.sort_values(by= 'orders',ascending= False).head(10)\n",
    "\n",
    "# серия из чисел от 0 до количества наблюдений в ordersByUsers\n",
    "plt.figure(figsize= (10,5))\n",
    "plt.grid()\n",
    "plt.title('График количества заказов по пользователям\\n  ')\n",
    "plt.xlabel('\\nКол-во пользователей')\n",
    "plt.ylabel('Кол-во заказов\\n')\n",
    "x_values= pd.Series(range(0, len(ordersByUsers)))\n",
    "plt.scatter(x_values, ordersByUsers['orders']);"
   ]
  },
  {
   "cell_type": "markdown",
   "metadata": {},
   "source": [
    "**Вывод:** Абсолютное большинство пользователей сделали по 1-ому заказу, совсем небольшая часть от 2-ух до 3-ёх заказов , и единичные заказы от 4-ёх до 11-ти. Это выбросы, с ними нужно поработать, поэтому посчитаем выборочные перцентили."
   ]
  },
  {
   "cell_type": "markdown",
   "metadata": {},
   "source": [
    "<span style=\"color:brown\">Посчитаем 95-й и 99-й перцентили количества заказов на пользователя. Выберем границу для определения аномальных пользователей.</span>"
   ]
  },
  {
   "cell_type": "code",
   "execution_count": 23,
   "metadata": {},
   "outputs": [
    {
     "name": "stdout",
     "output_type": "stream",
     "text": [
      "[1. 2. 2. 2. 3. 4.]\n"
     ]
    }
   ],
   "source": [
    "# найдем перцентили с помощью метода np.percentile('column', [percentile1, percentile2]) \n",
    "print(np.percentile(ordersByUsers['orders'], [90, 95, 96, 97, 98, 99])) "
   ]
  },
  {
   "cell_type": "markdown",
   "metadata": {},
   "source": [
    "**Вывод:** Теперь видно, что большинство (98%) пользователей делают 1 или 2 заказа. Всё что выше - это аномалии.\n"
   ]
  },
  {
   "cell_type": "markdown",
   "metadata": {},
   "source": [
    "<span style=\"color:brown\">Построим точечный график стоимостей заказов </span>"
   ]
  },
  {
   "cell_type": "code",
   "execution_count": 24,
   "metadata": {},
   "outputs": [
    {
     "data": {
      "image/png": "[encoded data removed]",
      "text/plain": [
       "<Figure size 720x360 with 1 Axes>"
      ]
     },
     "metadata": {
      "needs_background": "light"
     },
     "output_type": "display_data"
    }
   ],
   "source": [
    "x_values= pd.Series(range(0,len(orders['revenue'])))\n",
    "plt.figure(figsize= (10,5))\n",
    "plt.grid()\n",
    "plt.title('График стоимостей заказов\\n ')\n",
    "plt.xlabel('\\nКол-во пользователей')\n",
    "plt.ylabel('Стоимость заказа\\n')\n",
    "plt.scatter(x_values, orders['revenue'], alpha= 0.3);"
   ]
  },
  {
   "cell_type": "markdown",
   "metadata": {},
   "source": [
    "**Вывод:** График не информативен из-за двух больших аномалий. Исключим выбросы с 'revenue' большим 200000."
   ]
  },
  {
   "cell_type": "code",
   "execution_count": 25,
   "metadata": {},
   "outputs": [
    {
     "data": {
      "text/plain": [
       "744       86620\n",
       "1136      92550\n",
       "858       93940\n",
       "1196     202740\n",
       "425     1294500\n",
       "Name: revenue, dtype: int64"
      ]
     },
     "execution_count": 25,
     "metadata": {},
     "output_type": "execute_result"
    }
   ],
   "source": [
    "# посмотрим на точные суммы аномальных заказов\n",
    "orders['revenue'].sort_values().tail()"
   ]
  },
  {
   "cell_type": "markdown",
   "metadata": {},
   "source": [
    "Выявлено 2 аномально высоких заказа: 202 740 и 1 294 500. Уберем их."
   ]
  },
  {
   "cell_type": "code",
   "execution_count": 26,
   "metadata": {},
   "outputs": [
    {
     "data": {
      "image/png": "[encoded data removed]",
      "text/plain": [
       "<Figure size 720x360 with 1 Axes>"
      ]
     },
     "metadata": {
      "needs_background": "light"
     },
     "output_type": "display_data"
    }
   ],
   "source": [
    "normal_orders = orders[orders['revenue']<=200000]['revenue']\n",
    "xn_values = pd.Series(range(0,len(normal_orders)))\n",
    "plt.figure(figsize=(10,5))\n",
    "plt.grid()\n",
    "plt.title('График стоимостей заказов')\n",
    "plt.xlabel('\\nКол-во пользователей')\n",
    "plt.ylabel('Стоимость заказа\\n')\n",
    "plt.scatter(xn_values, normal_orders, alpha=0.5);"
   ]
  },
  {
   "cell_type": "markdown",
   "metadata": {},
   "source": [
    "**Вывод:** Из графика видно, что большинство заказов не дороже 20 000. Но все равно определить границы сложно. Поэтому, поступим как и в случае с аномальными заказами, рассчитаем перцентили."
   ]
  },
  {
   "cell_type": "markdown",
   "metadata": {},
   "source": [
    "<span style=\"color:brown\">Посчитаем 95-й и 99-й перцентили стоимости заказов. Выберем границу для определения аномальных заказов.</span>"
   ]
  },
  {
   "cell_type": "code",
   "execution_count": 27,
   "metadata": {},
   "outputs": [
    {
     "data": {
      "text/plain": [
       "array([28000. , 31382. , 35485. , 44133.2, 58233.2])"
      ]
     },
     "execution_count": 27,
     "metadata": {},
     "output_type": "execute_result"
    }
   ],
   "source": [
    "np.percentile(orders['revenue'], [95, 96, 97, 98, 99])"
   ]
  },
  {
   "cell_type": "markdown",
   "metadata": {},
   "source": [
    "**Вывод:** 99% заказов меньше суммы 58233.2 , установим её в качестве границы для аномалий."
   ]
  },
  {
   "cell_type": "markdown",
   "metadata": {},
   "source": [
    "<span style=\"color:brown\">Посчитаем статистическую значимость различий в среднем количестве заказов на посетителя между группами по «сырым» данным.</span>"
   ]
  },
  {
   "cell_type": "markdown",
   "metadata": {},
   "source": [
    "Соберем все данные по заказам и визитам, добавим кумулятивные показатели в одну таблицу. "
   ]
  },
  {
   "cell_type": "code",
   "execution_count": 28,
   "metadata": {},
   "outputs": [],
   "source": [
    "# сначала создадим несколько таблиц\n",
    "visitorsADaily= visitors[visitors['group']== 'A'][['date', 'visitors']]\n",
    "visitorsADaily.columns= ['date', 'visitorsPerDateA']\n",
    "\n",
    "visitorsACummulative= visitorsADaily.apply(lambda x: visitorsADaily[visitorsADaily['date']<= x['date']]. \\\n",
    "                                       agg({'date' : 'max', 'visitorsPerDateA' : 'sum'}), axis= 1)\n",
    "visitorsACummulative.columns= ['date', 'visitorsCummulativeA']\n",
    "\n",
    "visitorsBDaily= visitors[visitors['group']== 'B'][['date', 'visitors']]\n",
    "visitorsBDaily.columns= ['date', 'visitorsPerDateB']\n",
    "\n",
    "visitorsBCummulative= visitorsBDaily.apply(lambda x: visitorsBDaily[visitorsBDaily['date']<= x['date']]. \\\n",
    "                                       agg({'date' : 'max', 'visitorsPerDateB' : 'sum'}), axis= 1)\n",
    "visitorsBCummulative.columns= ['date', 'visitorsCummulativeB']"
   ]
  },
  {
   "cell_type": "code",
   "execution_count": 29,
   "metadata": {},
   "outputs": [],
   "source": [
    "ordersADaily= orders[orders['group']== 'A'][['date', 'transactionId', 'visitorId', 'revenue']]\\\n",
    "               .groupby('date', as_index= False)\\\n",
    "               .agg({'transactionId' : pd.Series.nunique, 'revenue' : 'sum'})\n",
    "ordersADaily.columns= ['date', 'ordersPerDateA', 'revenuePerDateA']\n",
    "\n",
    "ordersACummulative= ordersADaily.apply(\n",
    "    lambda x: \\\n",
    "                ordersADaily[ordersADaily['date']<= x['date']]\\\n",
    "                .agg({\n",
    "                'date' : 'max',\n",
    "                'ordersPerDateA' : 'sum',\n",
    "                'revenuePerDateA' : 'sum'}), axis= 1).sort_values(by= ['date'])\n",
    "ordersACummulative.columns= ['date', 'ordersCummulativeA', 'revenueCummulativeA']\n",
    "\n",
    "ordersBDaily= orders[orders['group']== 'B'][['date', 'transactionId', 'visitorId', 'revenue']]\\\n",
    "              .groupby('date', as_index= False)\\\n",
    "              .agg({'transactionId' : pd.Series.nunique, 'revenue' : 'sum'})\n",
    "ordersBDaily.columns= ['date', 'ordersPerDateB', 'revenuePerDateB']\n",
    "\n",
    "ordersBCummulative= ordersBDaily.apply(\n",
    "    lambda x: \\\n",
    "              ordersBDaily[ordersBDaily['date']<= x['date']]\\\n",
    "              .agg({\n",
    "                'date' : 'max',\n",
    "                'ordersPerDateB' : 'sum',\n",
    "                'revenuePerDateB' : 'sum'}), axis= 1).sort_values(by= ['date'])\n",
    "ordersBCummulative.columns= ['date', 'ordersCummulativeB', 'revenueCummulativeB']"
   ]
  },
  {
   "cell_type": "code",
   "execution_count": 30,
   "metadata": {},
   "outputs": [
    {
     "data": {
      "text/html": [
       "<div>\n",
       "<style scoped>\n",
       "    .dataframe tbody tr th:only-of-type {\n",
       "        vertical-align: middle;\n",
       "    }\n",
       "\n",
       "    .dataframe tbody tr th {\n",
       "        vertical-align: top;\n",
       "    }\n",
       "\n",
       "    .dataframe thead th {\n",
       "        text-align: right;\n",
       "    }\n",
       "</style>\n",
       "<table border=\"1\" class=\"dataframe\">\n",
       "  <thead>\n",
       "    <tr style=\"text-align: right;\">\n",
       "      <th></th>\n",
       "      <th>date</th>\n",
       "      <th>ordersPerDateA</th>\n",
       "      <th>revenuePerDateA</th>\n",
       "      <th>ordersPerDateB</th>\n",
       "      <th>revenuePerDateB</th>\n",
       "      <th>ordersCummulativeA</th>\n",
       "      <th>revenueCummulativeA</th>\n",
       "      <th>ordersCummulativeB</th>\n",
       "      <th>revenueCummulativeB</th>\n",
       "      <th>visitorsPerDateA</th>\n",
       "      <th>visitorsPerDateB</th>\n",
       "      <th>visitorsCummulativeA</th>\n",
       "      <th>visitorsCummulativeB</th>\n",
       "    </tr>\n",
       "  </thead>\n",
       "  <tbody>\n",
       "    <tr>\n",
       "      <th>0</th>\n",
       "      <td>2019-08-01</td>\n",
       "      <td>24</td>\n",
       "      <td>148579</td>\n",
       "      <td>21</td>\n",
       "      <td>101217</td>\n",
       "      <td>24</td>\n",
       "      <td>148579</td>\n",
       "      <td>21</td>\n",
       "      <td>101217</td>\n",
       "      <td>719</td>\n",
       "      <td>713</td>\n",
       "      <td>719</td>\n",
       "      <td>713</td>\n",
       "    </tr>\n",
       "    <tr>\n",
       "      <th>1</th>\n",
       "      <td>2019-08-02</td>\n",
       "      <td>20</td>\n",
       "      <td>93822</td>\n",
       "      <td>24</td>\n",
       "      <td>165531</td>\n",
       "      <td>44</td>\n",
       "      <td>242401</td>\n",
       "      <td>45</td>\n",
       "      <td>266748</td>\n",
       "      <td>619</td>\n",
       "      <td>581</td>\n",
       "      <td>1338</td>\n",
       "      <td>1294</td>\n",
       "    </tr>\n",
       "    <tr>\n",
       "      <th>2</th>\n",
       "      <td>2019-08-03</td>\n",
       "      <td>24</td>\n",
       "      <td>112473</td>\n",
       "      <td>16</td>\n",
       "      <td>114248</td>\n",
       "      <td>68</td>\n",
       "      <td>354874</td>\n",
       "      <td>61</td>\n",
       "      <td>380996</td>\n",
       "      <td>507</td>\n",
       "      <td>509</td>\n",
       "      <td>1845</td>\n",
       "      <td>1803</td>\n",
       "    </tr>\n",
       "  </tbody>\n",
       "</table>\n",
       "</div>"
      ],
      "text/plain": [
       "         date  ordersPerDateA  revenuePerDateA  ordersPerDateB  \\\n",
       "0  2019-08-01              24           148579              21   \n",
       "1  2019-08-02              20            93822              24   \n",
       "2  2019-08-03              24           112473              16   \n",
       "\n",
       "   revenuePerDateB  ordersCummulativeA  revenueCummulativeA  \\\n",
       "0           101217                  24               148579   \n",
       "1           165531                  44               242401   \n",
       "2           114248                  68               354874   \n",
       "\n",
       "   ordersCummulativeB  revenueCummulativeB  visitorsPerDateA  \\\n",
       "0                  21               101217               719   \n",
       "1                  45               266748               619   \n",
       "2                  61               380996               507   \n",
       "\n",
       "   visitorsPerDateB  visitorsCummulativeA  visitorsCummulativeB  \n",
       "0               713                   719                   713  \n",
       "1               581                  1338                  1294  \n",
       "2               509                  1845                  1803  "
      ]
     },
     "execution_count": 30,
     "metadata": {},
     "output_type": "execute_result"
    }
   ],
   "source": [
    "# теперь объединим всё в одну таблицу\n",
    "data= ordersADaily.merge(ordersBDaily, left_on='date', right_on='date', how='left')\\\n",
    "    .merge(ordersACummulative, left_on='date', right_on='date', how='left')\\\n",
    "    .merge(ordersBCummulative, left_on='date', right_on='date', how='left')\\\n",
    "    .merge(visitorsADaily, left_on='date', right_on='date', how='left')\\\n",
    "    .merge(visitorsBDaily, left_on='date', right_on='date', how='left')\\\n",
    "    .merge(visitorsACummulative, left_on='date', right_on='date', how='left')\\\n",
    "    .merge(visitorsBCummulative, left_on='date', right_on='date', how='left')\n",
    "data.head(3)"
   ]
  },
  {
   "cell_type": "markdown",
   "metadata": {},
   "source": [
    "Получилась новая таблица **data** со следующими данными:\n",
    "\n",
    "- **date** — дата;\n",
    "- **ordersPerDateA** — количество заказов в выбранную дату в группе A;\n",
    "- **revenuePerDateA** — суммарная выручка в выбранную дату в группе A;\n",
    "- **ordersPerDateB** — количество заказов в выбранную дату в группе B;\n",
    "- **revenuePerDateB** — суммарная выручка в выбранную дату в группе B;\n",
    "- **ordersCummulativeA** — суммарное число заказов до выбранной даты включительно в группе A;\n",
    "- **revenueCummulativeA** — суммарная выручка до выбранной даты включительно в группе A;\n",
    "- **ordersCummulativeB** — суммарное количество заказов до выбранной даты включительно в группе B;\n",
    "- **revenueCummulativeB** — суммарная выручка до выбранной даты включительно в группе B;\n",
    "- **visitorsPerDateA** — количество пользователей в выбранную дату в группе A;\n",
    "- **visitorsPerDateB** — количество пользователей в выбранную дату в группе B;\n",
    "- **visitorsCummulativeA** — количество пользователей до выбранной даты включительно в группе A;\n",
    "- **visitorsCummulativeB** — количество пользователей до выбранной даты включительно в группе B."
   ]
  },
  {
   "cell_type": "markdown",
   "metadata": {},
   "source": [
    "- Создадим переменные **ordersByUsersA** и **ordersByUsersB** со столбцами ['userId', 'orders']. В них для пользователей, которые заказывали хотя бы 1 раз, укажем число совершённых заказов. "
   ]
  },
  {
   "cell_type": "code",
   "execution_count": 31,
   "metadata": {},
   "outputs": [],
   "source": [
    "ordersByUsersA= orders[orders['group']== 'A'].groupby('visitorId', as_index= False).agg({'transactionId' : pd.Series.nunique})\n",
    "ordersByUsersA.columns = ['userId', 'orders']\n",
    "\n",
    "ordersByUsersB= orders[orders['group']== 'B'].groupby('visitorId', as_index= False).agg({'transactionId' : pd.Series.nunique})\n",
    "ordersByUsersB.columns= ['userId', 'orders']"
   ]
  },
  {
   "cell_type": "markdown",
   "metadata": {},
   "source": [
    "- Объявим переменные **sampleA** и **sampleB**, в которых пользователям из разных групп будет соответствовать количество заказов.\n",
    "Тем, кто ничего не заказал, будут соответствовать нули. Это нужно, чтобы подготовить выборки к проверке критерием Манна-Уитни"
   ]
  },
  {
   "cell_type": "code",
   "execution_count": 32,
   "metadata": {},
   "outputs": [],
   "source": [
    "sampleA= pd.concat(\n",
    "    [ordersByUsersA['orders'],pd.Series(0, index= np.arange(data['visitorsPerDateA'].sum() - len(ordersByUsersA['orders'])), \\\n",
    "                                        name= 'orders')], axis= 0)\n",
    "\n",
    "sampleB= pd.concat(\n",
    "    [ordersByUsersB['orders'],pd.Series(0, index= np.arange(data['visitorsPerDateB'].sum() - len(ordersByUsersB['orders'])), \\\n",
    "                                        name ='orders')], axis= 0)"
   ]
  },
  {
   "cell_type": "markdown",
   "metadata": {},
   "source": [
    "**Гипотеза H0:** Статистически значимых различий в среднем количестве заказов между группами А и В нет.\n",
    "\n",
    "**Гипотеза Н1:** Статистически значимые различия есть."
   ]
  },
  {
   "cell_type": "code",
   "execution_count": 33,
   "metadata": {},
   "outputs": [
    {
     "name": "stdout",
     "output_type": "stream",
     "text": [
      "p-значение:  0.017\n",
      "Отвергаем нулевую гипотезу: разница статистически значима\n",
      "Относительный показатель 'B' и 'A' = 0.138\n"
     ]
    }
   ],
   "source": [
    "# применим критерий и отформатируем p-value, округлив его до трёх знаков после запятой\n",
    "alpha= .05 # критический уровень статистической значимости\n",
    "\n",
    "results= st.mannwhitneyu(sampleA, sampleB)\n",
    "print('p-значение: ', \"{0:.3f}\".format(results.pvalue))\n",
    "\n",
    "if (results.pvalue< alpha):\n",
    "    print(\"Отвергаем нулевую гипотезу: разница статистически значима\")\n",
    "else:\n",
    "    print(\"Не получилось отвергнуть нулевую гипотезу, вывод о различии сделать нельзя\")\n",
    "\n",
    "print(\"Относительный показатель 'B' и 'A' = {0:.3f}\".format(sampleB.mean()/sampleA.mean()-1)) "
   ]
  },
  {
   "cell_type": "markdown",
   "metadata": {},
   "source": [
    "**Вывод:** P-value значительно меньше 0.05. Это означает, что по «сырым» данным в конверсии между группами A и B есть статистически значимое различие. Конверсия группы B относительно группы А выше на 14%."
   ]
  },
  {
   "cell_type": "markdown",
   "metadata": {},
   "source": [
    "<span style=\"color:brown\">Посчитаем статистическую значимость различий в среднем чеке заказа между группами по «сырым» данным.</span>"
   ]
  },
  {
   "cell_type": "markdown",
   "metadata": {},
   "source": [
    "**Гипотеза H0:** Статистически значимых различий в среднем чеке между группами нет.\n",
    "\n",
    "**Гипотеза Н1:** Статистически значимые различия есть."
   ]
  },
  {
   "cell_type": "code",
   "execution_count": 34,
   "metadata": {},
   "outputs": [
    {
     "name": "stdout",
     "output_type": "stream",
     "text": [
      "p-значение:  0.729\n",
      "Не получилось отвергнуть нулевую гипотезу, вывод о различии сделать нельзя\n",
      "Относительный прирост в среднем чеке группы B: 0.259\n"
     ]
    }
   ],
   "source": [
    "results= st.mannwhitneyu(orders[orders['group']== 'A']['revenue'], orders[orders['group']== 'B']['revenue'])\n",
    "\n",
    "print('p-значение: ', \"{0:.3f}\".format(results.pvalue))\n",
    "\n",
    "if (results.pvalue< alpha):\n",
    "    print(\"Отвергаем нулевую гипотезу: разница статистически значима\")\n",
    "else:\n",
    "    print(\"Не получилось отвергнуть нулевую гипотезу, вывод о различии сделать нельзя\")\n",
    "\n",
    "print(\"Относительный прирост в среднем чеке группы B: {0:.3f}\".format(orders[orders['group']== 'B']['revenue'].mean()/orders[orders['group']== 'A']['revenue'].mean()-1))"
   ]
  },
  {
   "cell_type": "markdown",
   "metadata": {},
   "source": [
    "**Вывод:** P-value значительно больше 0.05. Это означает, что по «сырым» данным различий в среднем чеке заказа между группами A и B нет. Средний чек группы B на 26% выше среднего чека группы A, что не является статистически значимым различием."
   ]
  },
  {
   "cell_type": "markdown",
   "metadata": {},
   "source": [
    "<span style=\"color:brown\">Посчитаем статистическую значимость различий в среднем количестве заказов на посетителя между группами по «очищенным» данным.</span>"
   ]
  },
  {
   "cell_type": "markdown",
   "metadata": {},
   "source": [
    "Мы ранее сделали все расчеты и определились с аномальными пользователями. Вот они:\n",
    "\n",
    "- совершили 3 и больше заказов\n",
    "- совершили заказ дороже 58233.2 (округлим до 59000) рублей\n",
    "\n",
    "Сделаем срезы пользователей:\n",
    "\n",
    "- с числом заказов больше 2 — **usersWithManyOrders**\n",
    "- сделавших заказы дороже 59000 — **usersWithExpensiveOrders**\n",
    "\n",
    "Объединим их в одну таблицу **abnormalUsers**"
   ]
  },
  {
   "cell_type": "code",
   "execution_count": 35,
   "metadata": {},
   "outputs": [
    {
     "name": "stdout",
     "output_type": "stream",
     "text": [
      "1099    148427295\n",
      "18      199603092\n",
      "23      237748145\n",
      "37      249864742\n",
      "68      457167155\n",
      "dtype: int64\n",
      "Всего аномальных пользователей: 30\n"
     ]
    }
   ],
   "source": [
    "# посчитаем статистическую значимость различия конверсии после удаления аномальных пользователей\n",
    "usersWithManyOrders= pd.concat([ordersByUsersA[ordersByUsersA['orders']> 2]['userId'], ordersByUsersB[ordersByUsersB['orders']> 2]['userId']], axis= 0)\n",
    "usersWithExpensiveOrders= orders[orders['revenue']> 59000]['visitorId']\n",
    "abnormalUsers= pd.concat([usersWithManyOrders, usersWithExpensiveOrders], axis= 0).drop_duplicates().sort_values()\n",
    "print(abnormalUsers.head(5))\n",
    "print(\"Всего аномальных пользователей:\" ,len(abnormalUsers)) "
   ]
  },
  {
   "cell_type": "markdown",
   "metadata": {},
   "source": [
    "**Вывод:** Всего 30 аномальных пользователей. Посчитаем статистическую значимость различий в конверсии между группами теста по «очищенным» данным. "
   ]
  },
  {
   "cell_type": "code",
   "execution_count": 36,
   "metadata": {},
   "outputs": [],
   "source": [
    "# подготовим выборки количества заказов по пользователям по группам теста\n",
    "sampleAFiltered= pd.concat([ordersByUsersA[np.logical_not(ordersByUsersA['userId'].isin(abnormalUsers))]['orders'], \n",
    "pd.Series(0, index= np.arange(data['visitorsPerDateA'].sum() - len(ordersByUsersA['orders'])), name= 'orders')],axis= 0)\n",
    "\n",
    "sampleBFiltered= pd.concat([ordersByUsersB[np.logical_not(ordersByUsersB['userId'].isin(abnormalUsers))]['orders'],\n",
    "pd.Series(0, index= np.arange(data['visitorsPerDateB'].sum() - len(ordersByUsersB['orders'])), name= 'orders')],axis= 0) "
   ]
  },
  {
   "cell_type": "markdown",
   "metadata": {},
   "source": [
    "**Гипотеза H0:** Статистически значимых различий в конверсиях между группами нет.\n",
    "\n",
    "**Гипотеза Н1:** Статистически значимые различия есть."
   ]
  },
  {
   "cell_type": "code",
   "execution_count": 37,
   "metadata": {},
   "outputs": [
    {
     "name": "stdout",
     "output_type": "stream",
     "text": [
      "p-значение: 0.009\n",
      "Отвергаем нулевую гипотезу: разница статистически значима\n",
      "Относительный показатель 'B' и 'A' = 0.176\n"
     ]
    }
   ],
   "source": [
    "# применим статистический критерий Манна-Уитни к полученным выборкам\n",
    "results= st.mannwhitneyu(sampleAFiltered, sampleBFiltered)\n",
    "\n",
    "print('p-значение:', \"{0:.3f}\".format(results.pvalue))\n",
    "\n",
    "if (results.pvalue< alpha):\n",
    "    print(\"Отвергаем нулевую гипотезу: разница статистически значима\")\n",
    "else:\n",
    "    print(\"Не получилось отвергнуть нулевую гипотезу, вывод о различии сделать нельзя\")\n",
    "\n",
    "print(\"Относительный показатель 'B' и 'A' = {0:.3f}\".format(sampleBFiltered.mean()/sampleAFiltered.mean()-1))"
   ]
  },
  {
   "cell_type": "markdown",
   "metadata": {},
   "source": [
    "**Вывод:** Р-value на порядок меньше 0.05. Это означает, что нулевую гипотезу отвергаем. По «очищенным» данным в конверсии групп A и B есть статистически значимые различия. В группе B, по-прежнему, результаты конверсии выше, чем в группе А, практически, на 18%."
   ]
  },
  {
   "cell_type": "markdown",
   "metadata": {},
   "source": [
    "<span style=\"color:brown\">Посчитаем статистическую значимость различий в среднем чеке заказа между группами по «очищенным» данным.</span>"
   ]
  },
  {
   "cell_type": "markdown",
   "metadata": {},
   "source": [
    "**Гипотеза H0:** Статистически значимых различий в среднем чеке между группами нет.\n",
    "\n",
    "**Гипотеза Н1:** Статистически значимые различия есть."
   ]
  },
  {
   "cell_type": "code",
   "execution_count": 38,
   "metadata": {},
   "outputs": [
    {
     "name": "stdout",
     "output_type": "stream",
     "text": [
      "p-значение:  0.835\n",
      "Не получилось отвергнуть нулевую гипотезу, вывод о различии сделать нельзя\n",
      "Относительный показатель 'B' и 'A' = -0.006\n"
     ]
    }
   ],
   "source": [
    "# выведем p-value для сравнения средних чеков между очищенными группами\n",
    "results= st.mannwhitneyu(\n",
    "         orders[np.logical_and(\n",
    "         orders['group']== 'A',\n",
    "         np.logical_not(orders['visitorId'].isin(abnormalUsers)))]['revenue'],\n",
    "         orders[np.logical_and(\n",
    "         orders['group']== 'B',\n",
    "         np.logical_not(orders['visitorId'].isin(abnormalUsers)))]['revenue'])\n",
    "\n",
    "print('p-значение: ', \"{0:.3f}\".format(results.pvalue))\n",
    "\n",
    "if (results.pvalue< alpha):\n",
    "    print(\"Отвергаем нулевую гипотезу: разница статистически значима\")\n",
    "else:\n",
    "    print(\"Не получилось отвергнуть нулевую гипотезу, вывод о различии сделать нельзя\")\n",
    "\n",
    "print(\"Относительный показатель 'B' и 'A' = {0:.3f}\".format(\n",
    "        orders[np.logical_and(orders['group']== 'B',np.logical_not(orders['visitorId'].isin(abnormalUsers)))]['revenue'].mean()/\n",
    "        orders[np.logical_and(\n",
    "        orders['group']== 'A',\n",
    "        np.logical_not(orders['visitorId'].isin(abnormalUsers)))]['revenue'].mean() - 1))"
   ]
  },
  {
   "cell_type": "markdown",
   "metadata": {},
   "source": [
    "**Вывод:** P-value значительно больше 0.05. Между сегментами сократилась дистанция, с 26% и, можно сказать, до нуля, средний чек в группе B стал незначительно, но ниже, чем в группе A. Но статистически значимого различия по среднему чеку между группами ни по «сырым» данным, ни по «очищенным» нет. "
   ]
  },
  {
   "cell_type": "markdown",
   "metadata": {},
   "source": [
    "### ПРИНЯТИЕ РЕШЕНИЯ"
   ]
  },
  {
   "cell_type": "markdown",
   "metadata": {},
   "source": [
    "Анализируя результаты **A/B-тестирования** мы пришли к следующим выводам:\n",
    "\n",
    "- Есть статистически значимое различие по конверсии между группами как по сырым данным, так и после фильтрации аномалий,   у группы \"В\" конверсия выше на 18% по \"очищенным\" данным и на 14% по \"сырым\" относительно группы \"А\".\n",
    " \n",
    "- По сырым и очищенным данным нет статистически значимого различия по среднему чеку между группами.\n",
    " \n",
    "- График различия конверсий между группами показал, что результаты группы \"B\" лучше группы \"A\": имеют тенденцию к росту, либо зафиксировались около среднего значения.\n",
    "\n",
    "- График различия среднего чека до избавления от аномалий колеблется: именно благодаря ему мы нашли выбросы. Сначала результаты группы \"B\" становятся лучше группы \"A\". Но после \"чистки\" данных, средний чек, практически, не изменился, а  стал немного меньше , чем в группе \"A\".\n",
    "\n",
    "**Рекомендация:** \n",
    "\n",
    "1. Тест остановить.\n",
    "2. Зафиксировать победу группы \"В\" по показателю конверсии. \n",
    "3. Отделу маркетинга продумать мероприятия по увеличению среднего чека."
   ]
  }
 ],
 "metadata": {
  "ExecuteTimeLog": [
   {
    "duration": 49,
    "start_time": "2023-04-12T06:57:31.319Z"
   },
   {
    "duration": 5,
    "start_time": "2023-04-12T06:58:15.575Z"
   },
   {
    "duration": 5,
    "start_time": "2023-04-12T06:59:01.386Z"
   },
   {
    "duration": 5,
    "start_time": "2023-04-12T06:59:06.787Z"
   },
   {
    "duration": 4,
    "start_time": "2023-04-12T07:00:57.819Z"
   },
   {
    "duration": 6,
    "start_time": "2023-04-12T07:01:44.118Z"
   },
   {
    "duration": 338,
    "start_time": "2023-04-12T07:02:39.819Z"
   },
   {
    "duration": 364,
    "start_time": "2023-04-12T07:02:49.885Z"
   },
   {
    "duration": 1382,
    "start_time": "2023-04-12T07:02:50.251Z"
   },
   {
    "duration": 1177,
    "start_time": "2023-04-12T07:02:55.631Z"
   },
   {
    "duration": 431,
    "start_time": "2023-04-12T07:03:00.919Z"
   },
   {
    "duration": 120,
    "start_time": "2023-04-12T07:03:50.006Z"
   },
   {
    "duration": 1368,
    "start_time": "2023-04-12T07:05:25.256Z"
   },
   {
    "duration": 59,
    "start_time": "2023-04-12T07:06:45.960Z"
   },
   {
    "duration": 201,
    "start_time": "2023-04-12T07:06:53.599Z"
   },
   {
    "duration": 78,
    "start_time": "2023-04-12T07:07:58.138Z"
   },
   {
    "duration": 1216,
    "start_time": "2023-04-15T11:25:09.570Z"
   },
   {
    "duration": 122,
    "start_time": "2023-04-15T11:25:10.788Z"
   },
   {
    "duration": 87,
    "start_time": "2023-04-15T11:25:10.911Z"
   },
   {
    "duration": 2,
    "start_time": "2023-04-15T11:25:11.000Z"
   },
   {
    "duration": 7,
    "start_time": "2023-04-15T11:25:11.004Z"
   },
   {
    "duration": 42,
    "start_time": "2023-04-15T11:25:11.012Z"
   },
   {
    "duration": 25,
    "start_time": "2023-04-15T11:25:11.056Z"
   },
   {
    "duration": 11,
    "start_time": "2023-04-15T11:25:11.083Z"
   },
   {
    "duration": 21,
    "start_time": "2023-04-15T11:25:11.095Z"
   },
   {
    "duration": 334,
    "start_time": "2023-04-15T11:25:11.119Z"
   },
   {
    "duration": 9,
    "start_time": "2023-04-15T11:25:11.454Z"
   },
   {
    "duration": 27,
    "start_time": "2023-04-15T11:25:11.464Z"
   },
   {
    "duration": 17,
    "start_time": "2023-04-15T11:25:11.493Z"
   },
   {
    "duration": 283,
    "start_time": "2023-04-15T11:25:11.512Z"
   },
   {
    "duration": 287,
    "start_time": "2023-04-15T11:25:11.797Z"
   },
   {
    "duration": 210,
    "start_time": "2023-04-15T11:25:12.085Z"
   },
   {
    "duration": 286,
    "start_time": "2023-04-15T11:25:12.296Z"
   },
   {
    "duration": 240,
    "start_time": "2023-04-15T11:25:12.584Z"
   },
   {
    "duration": 342,
    "start_time": "2023-04-15T11:25:12.826Z"
   },
   {
    "duration": 294,
    "start_time": "2023-04-15T11:25:13.170Z"
   },
   {
    "duration": 4,
    "start_time": "2023-04-15T11:25:13.466Z"
   },
   {
    "duration": 236,
    "start_time": "2023-04-15T11:25:13.471Z"
   },
   {
    "duration": 5,
    "start_time": "2023-04-15T11:25:13.709Z"
   },
   {
    "duration": 266,
    "start_time": "2023-04-15T11:25:13.715Z"
   },
   {
    "duration": 5,
    "start_time": "2023-04-15T11:25:13.982Z"
   },
   {
    "duration": 93,
    "start_time": "2023-04-15T11:25:13.988Z"
   },
   {
    "duration": 107,
    "start_time": "2023-04-15T11:25:14.083Z"
   },
   {
    "duration": 28,
    "start_time": "2023-04-15T11:25:14.192Z"
   },
   {
    "duration": 165,
    "start_time": "2023-04-15T11:25:14.222Z"
   },
   {
    "duration": 7,
    "start_time": "2023-04-15T11:25:14.388Z"
   },
   {
    "duration": 48,
    "start_time": "2023-04-15T11:25:14.397Z"
   },
   {
    "duration": 11,
    "start_time": "2023-04-15T11:25:14.447Z"
   },
   {
    "duration": 26,
    "start_time": "2023-04-15T11:25:14.460Z"
   },
   {
    "duration": 22,
    "start_time": "2023-04-15T11:25:14.487Z"
   },
   {
    "duration": 33,
    "start_time": "2023-04-15T11:25:14.511Z"
   },
   {
    "duration": 27,
    "start_time": "2023-04-15T11:25:14.546Z"
   },
   {
    "duration": 65,
    "start_time": "2023-04-16T09:02:21.956Z"
   },
   {
    "duration": 1461,
    "start_time": "2023-04-16T09:02:53.296Z"
   },
   {
    "duration": 191,
    "start_time": "2023-04-16T09:02:54.759Z"
   },
   {
    "duration": 91,
    "start_time": "2023-04-16T09:02:54.957Z"
   },
   {
    "duration": 3,
    "start_time": "2023-04-16T09:02:55.050Z"
   },
   {
    "duration": 13,
    "start_time": "2023-04-16T09:02:55.055Z"
   },
   {
    "duration": 11,
    "start_time": "2023-04-16T09:02:55.070Z"
   },
   {
    "duration": 26,
    "start_time": "2023-04-16T09:02:55.083Z"
   },
   {
    "duration": 30,
    "start_time": "2023-04-16T09:02:55.111Z"
   },
   {
    "duration": 14,
    "start_time": "2023-04-16T09:02:55.144Z"
   },
   {
    "duration": 362,
    "start_time": "2023-04-16T09:02:55.159Z"
   },
   {
    "duration": 8,
    "start_time": "2023-04-16T09:02:55.523Z"
   },
   {
    "duration": 11,
    "start_time": "2023-04-16T09:02:55.533Z"
   },
   {
    "duration": 17,
    "start_time": "2023-04-16T09:02:55.546Z"
   },
   {
    "duration": 9,
    "start_time": "2023-04-16T09:02:55.564Z"
   },
   {
    "duration": 306,
    "start_time": "2023-04-16T09:02:55.574Z"
   },
   {
    "duration": 303,
    "start_time": "2023-04-16T09:02:55.882Z"
   },
   {
    "duration": 216,
    "start_time": "2023-04-16T09:02:56.187Z"
   },
   {
    "duration": 390,
    "start_time": "2023-04-16T09:02:56.405Z"
   },
   {
    "duration": 326,
    "start_time": "2023-04-16T09:02:56.797Z"
   },
   {
    "duration": 365,
    "start_time": "2023-04-16T09:02:57.133Z"
   },
   {
    "duration": 276,
    "start_time": "2023-04-16T09:02:57.499Z"
   },
   {
    "duration": 5,
    "start_time": "2023-04-16T09:02:57.776Z"
   },
   {
    "duration": 248,
    "start_time": "2023-04-16T09:02:57.782Z"
   },
   {
    "duration": 6,
    "start_time": "2023-04-16T09:02:58.034Z"
   },
   {
    "duration": 182,
    "start_time": "2023-04-16T09:02:58.041Z"
   },
   {
    "duration": 12,
    "start_time": "2023-04-16T09:02:58.225Z"
   },
   {
    "duration": 96,
    "start_time": "2023-04-16T09:02:58.241Z"
   },
   {
    "duration": 124,
    "start_time": "2023-04-16T09:02:58.339Z"
   },
   {
    "duration": 31,
    "start_time": "2023-04-16T09:02:58.465Z"
   },
   {
    "duration": 147,
    "start_time": "2023-04-16T09:02:58.498Z"
   },
   {
    "duration": 7,
    "start_time": "2023-04-16T09:02:58.647Z"
   },
   {
    "duration": 32,
    "start_time": "2023-04-16T09:02:58.656Z"
   },
   {
    "duration": 12,
    "start_time": "2023-04-16T09:02:58.689Z"
   },
   {
    "duration": 32,
    "start_time": "2023-04-16T09:02:58.703Z"
   },
   {
    "duration": 23,
    "start_time": "2023-04-16T09:02:58.737Z"
   },
   {
    "duration": 27,
    "start_time": "2023-04-16T09:02:58.762Z"
   },
   {
    "duration": 15,
    "start_time": "2023-04-16T09:02:58.792Z"
   },
   {
    "duration": 8,
    "start_time": "2023-04-16T09:04:19.796Z"
   },
   {
    "duration": 252,
    "start_time": "2023-04-16T09:10:02.629Z"
   },
   {
    "duration": 260,
    "start_time": "2023-04-16T09:10:23.414Z"
   },
   {
    "duration": 251,
    "start_time": "2023-04-16T09:12:35.723Z"
   },
   {
    "duration": 5,
    "start_time": "2023-04-16T09:32:35.882Z"
   },
   {
    "duration": 4,
    "start_time": "2023-04-16T09:40:31.448Z"
   },
   {
    "duration": 5,
    "start_time": "2023-04-16T09:40:49.180Z"
   },
   {
    "duration": 1264,
    "start_time": "2023-04-16T15:04:42.455Z"
   },
   {
    "duration": 315,
    "start_time": "2023-04-16T15:04:43.721Z"
   },
   {
    "duration": 128,
    "start_time": "2023-04-16T15:04:44.038Z"
   },
   {
    "duration": 5,
    "start_time": "2023-04-16T15:04:44.169Z"
   },
   {
    "duration": 14,
    "start_time": "2023-04-16T15:04:44.177Z"
   },
   {
    "duration": 11,
    "start_time": "2023-04-16T15:04:44.195Z"
   },
   {
    "duration": 19,
    "start_time": "2023-04-16T15:04:44.211Z"
   },
   {
    "duration": 66,
    "start_time": "2023-04-16T15:04:44.233Z"
   },
   {
    "duration": 22,
    "start_time": "2023-04-16T15:04:44.301Z"
   },
   {
    "duration": 376,
    "start_time": "2023-04-16T15:04:44.326Z"
   },
   {
    "duration": 10,
    "start_time": "2023-04-16T15:04:44.705Z"
   },
   {
    "duration": 15,
    "start_time": "2023-04-16T15:04:44.717Z"
   },
   {
    "duration": 12,
    "start_time": "2023-04-16T15:04:44.734Z"
   },
   {
    "duration": 18,
    "start_time": "2023-04-16T15:04:44.748Z"
   },
   {
    "duration": 10,
    "start_time": "2023-04-16T15:04:44.767Z"
   },
   {
    "duration": 346,
    "start_time": "2023-04-16T15:04:44.779Z"
   },
   {
    "duration": 339,
    "start_time": "2023-04-16T15:04:45.127Z"
   },
   {
    "duration": 272,
    "start_time": "2023-04-16T15:04:45.468Z"
   },
   {
    "duration": 380,
    "start_time": "2023-04-16T15:04:45.742Z"
   },
   {
    "duration": 289,
    "start_time": "2023-04-16T15:04:46.123Z"
   },
   {
    "duration": 396,
    "start_time": "2023-04-16T15:04:46.414Z"
   },
   {
    "duration": 311,
    "start_time": "2023-04-16T15:04:46.811Z"
   },
   {
    "duration": 4,
    "start_time": "2023-04-16T15:04:47.123Z"
   },
   {
    "duration": 303,
    "start_time": "2023-04-16T15:04:47.129Z"
   },
   {
    "duration": 6,
    "start_time": "2023-04-16T15:04:47.434Z"
   },
   {
    "duration": 200,
    "start_time": "2023-04-16T15:04:47.442Z"
   },
   {
    "duration": 33,
    "start_time": "2023-04-16T15:04:47.644Z"
   },
   {
    "duration": 103,
    "start_time": "2023-04-16T15:04:47.700Z"
   },
   {
    "duration": 134,
    "start_time": "2023-04-16T15:04:47.814Z"
   },
   {
    "duration": 39,
    "start_time": "2023-04-16T15:04:47.950Z"
   },
   {
    "duration": 186,
    "start_time": "2023-04-16T15:04:47.991Z"
   },
   {
    "duration": 7,
    "start_time": "2023-04-16T15:04:48.179Z"
   },
   {
    "duration": 30,
    "start_time": "2023-04-16T15:04:48.188Z"
   },
   {
    "duration": 12,
    "start_time": "2023-04-16T15:04:48.220Z"
   },
   {
    "duration": 38,
    "start_time": "2023-04-16T15:04:48.234Z"
   },
   {
    "duration": 13,
    "start_time": "2023-04-16T15:04:48.287Z"
   },
   {
    "duration": 33,
    "start_time": "2023-04-16T15:04:48.304Z"
   },
   {
    "duration": 40,
    "start_time": "2023-04-16T15:04:48.339Z"
   }
  ],
  "kernelspec": {
   "display_name": "Python 3 (ipykernel)",
   "language": "python",
   "name": "python3"
  },
  "language_info": {
   "codemirror_mode": {
    "name": "ipython",
    "version": 3
   },
   "file_extension": ".py",
   "mimetype": "text/x-python",
   "name": "python",
   "nbconvert_exporter": "python",
   "pygments_lexer": "ipython3",
   "version": "3.9.13"
  },
  "toc": {
   "base_numbering": 1,
   "nav_menu": {},
   "number_sections": true,
   "sideBar": true,
   "skip_h1_title": true,
   "title_cell": "Table of Contents",
   "title_sidebar": "Contents",
   "toc_cell": false,
   "toc_position": {},
   "toc_section_display": true,
   "toc_window_display": false
  }
 },
 "nbformat": 4,
 "nbformat_minor": 2
}
