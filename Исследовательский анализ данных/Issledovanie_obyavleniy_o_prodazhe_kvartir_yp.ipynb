{
 "cells": [
  {
   "cell_type": "markdown",
   "metadata": {},
   "source": [
    "# Исследование объявлений о продаже квартир\n",
    "\n",
    "В нашем распоряжении данные сервиса **Яндекс.Недвижимость** — архив объявлений о продаже квартир в Санкт-Петербурге и соседних населённых пунктах за несколько лет.   \n",
    "**Задача** — установить параметры, определяющие рыночную стоимость объектов недвижимости. \n",
    "Это позволит построить автоматизированную систему: она отследит аномалии и мошенническую деятельность. \n",
    "\n",
    "По каждой квартире на продажу доступны два вида данных. Первые вписаны пользователем, вторые — получены автоматически на основе картографических данных. Например, расстояние до центра, аэропорта, ближайшего парка и водоёма. "
   ]
  },
  {
   "cell_type": "markdown",
   "metadata": {},
   "source": [
    "<span style=\"color:blue\">**Дополнительные задачи:** </span> \n",
    "1. Сколько обычно занимает продажа. Какие продажи можно считать быстрыми, а какие — долгими.\n",
    "2. Какие факторы больше всего влияют на общую (полную) стоимость объекта\n",
    "3. Какая самая высокая и низкая стоимость квадратного метра в  10 населённых пунктах с наибольшим числом объявлений. \n",
    "4. Как стоимость объектов зависит от расстояния до центра города в Санкт-Петербурге. "
   ]
  },
  {
   "cell_type": "markdown",
   "metadata": {},
   "source": [
    "<span style=\"color:green\">**План проекта:**</span> \n",
    "1. **Шаг 1.** Открыть файл с данными и ознакомиться с общей информацией\n",
    "- Оценить количество и природу пропусков\n",
    "- Посмотреть дубликаты\n",
    "2. **Шаг 2.** Предобработка данных\n",
    "- Найти и изучите пропущенные значения\n",
    "- Преобразовать типы данных  \n",
    "- Выявить и изучить уникальные значения, устранить дубликаты. \n",
    "3. **Шаг 3.** Добавить в таблицу новые недостающие данные:\n",
    "- цена одного квадратного метра;\n",
    "- день недели публикации объявления (0 — понедельник, 1 — вторник и так далее);\n",
    "- месяц публикации объявления;\n",
    "- год публикации объявления;\n",
    "- тип этажа квартиры (значения — «‎первый», «последний», «другой»);\n",
    "- расстояние до центра города в километрах (переведите из м в км и округлите до целых значений). \n",
    "- Выявить и устранить редкие и выбивающиеся значения. \n",
    "4.**Шаг 4.** Проведите исследовательский анализ данных:\n",
    "- Изучить параметры, влияющие на стоимость объекта недвижимости.\n",
    "- Проанализировать как быстро продавались квартиры\n",
    "- Сравнить среднюю цену одного кв.метра в ТОП-10 населённых пунктах.\n",
    "- Оценить зависимость стоимости объектов от удаленности до центра города.\n",
    "5.**Общий вывод**."
   ]
  },
  {
   "cell_type": "markdown",
   "metadata": {},
   "source": [
    "<span style=\"color:green\">**Описание данных**</span> \n",
    "\n",
    "- **airports_nearest** — расстояние до ближайшего аэропорта в метрах (м)\n",
    "- **balcony** - наличие балкона\n",
    "- **ceiling_height** — высота потолков (м)\n",
    "- **cityCenters_nearest** — расстояние до центра города (м)\n",
    "- **days_exposition** — сколько дней было размещено объявление (от публикации до снятия)\n",
    "- **first_day_exposition** — дата публикации\n",
    "- **floor** — этаж\n",
    "- **floors_total** — всего этажей в доме\n",
    "- **is_apartment** — апартаменты (булев тип)\n",
    "- **kitchen_area** — площадь кухни в квадратных метрах (м²)\n",
    "- **last_price** — цена на момент снятия с публикации\n",
    "- **living_area** — жилая площадь в квадратных метрах(м²)\n",
    "- **locality_name** — название населённого пункта\n",
    "- **open_plan** — свободная планировка (булев тип)\n",
    "- **parks_around3000**— число парков в радиусе 3 км\n",
    "- **parks_nearest** — расстояние до ближайшего парка (м)\n",
    "- **ponds_around3000** — число водоёмов в радиусе 3 км\n",
    "- **ponds_nearest** — расстояние до ближайшего водоёма (м)\n",
    "- **rooms** — число комнат\n",
    "- **studio** — квартира-студия (булев тип)\n",
    "- **total_area** — площадь квартиры в квадратных метрах (м²)\n",
    "- **total_images** — число фотографий квартиры в объявлении"
   ]
  },
  {
   "cell_type": "markdown",
   "metadata": {},
   "source": [
    "### ШАГ 1. Открыть файл с данными и изучить общую информацию. "
   ]
  },
  {
   "cell_type": "markdown",
   "metadata": {},
   "source": [
    "<span style=\"color:brown\">**Импортируем все необходимые для работы библиотеки: для распаковки датафрейма, построения гистограмм, диаграмм и таблиц.**</span> "
   ]
  },
  {
   "cell_type": "code",
   "execution_count": 1,
   "metadata": {},
   "outputs": [],
   "source": [
    "import pandas as pd\n",
    "import seaborn as sns\n",
    "import matplotlib.pyplot as plt\n",
    "import numpy as np"
   ]
  },
  {
   "cell_type": "code",
   "execution_count": 2,
   "metadata": {},
   "outputs": [],
   "source": [
    "try:\n",
    "    data= pd.read_csv('/datasets/real_estate_data.csv', sep='\\t')\n",
    "except:\n",
    "    data= pd.read_csv('real_estate_data.csv', sep='\\t')"
   ]
  },
  {
   "cell_type": "code",
   "execution_count": 3,
   "metadata": {},
   "outputs": [
    {
     "data": {
      "text/html": [
       "<div>\n",
       "<style scoped>\n",
       "    .dataframe tbody tr th:only-of-type {\n",
       "        vertical-align: middle;\n",
       "    }\n",
       "\n",
       "    .dataframe tbody tr th {\n",
       "        vertical-align: top;\n",
       "    }\n",
       "\n",
       "    .dataframe thead th {\n",
       "        text-align: right;\n",
       "    }\n",
       "</style>\n",
       "<table border=\"1\" class=\"dataframe\">\n",
       "  <thead>\n",
       "    <tr style=\"text-align: right;\">\n",
       "      <th></th>\n",
       "      <th>total_images</th>\n",
       "      <th>last_price</th>\n",
       "      <th>total_area</th>\n",
       "      <th>first_day_exposition</th>\n",
       "      <th>rooms</th>\n",
       "      <th>ceiling_height</th>\n",
       "      <th>floors_total</th>\n",
       "      <th>living_area</th>\n",
       "      <th>floor</th>\n",
       "      <th>is_apartment</th>\n",
       "      <th>studio</th>\n",
       "      <th>open_plan</th>\n",
       "      <th>kitchen_area</th>\n",
       "      <th>balcony</th>\n",
       "      <th>locality_name</th>\n",
       "      <th>airports_nearest</th>\n",
       "      <th>cityCenters_nearest</th>\n",
       "      <th>parks_around3000</th>\n",
       "      <th>parks_nearest</th>\n",
       "      <th>ponds_around3000</th>\n",
       "      <th>ponds_nearest</th>\n",
       "      <th>days_exposition</th>\n",
       "    </tr>\n",
       "  </thead>\n",
       "  <tbody>\n",
       "    <tr>\n",
       "      <th>0</th>\n",
       "      <td>20</td>\n",
       "      <td>13000000.0</td>\n",
       "      <td>108.00</td>\n",
       "      <td>2019-03-07T00:00:00</td>\n",
       "      <td>3</td>\n",
       "      <td>2.70</td>\n",
       "      <td>16.0</td>\n",
       "      <td>51.00</td>\n",
       "      <td>8</td>\n",
       "      <td>NaN</td>\n",
       "      <td>False</td>\n",
       "      <td>False</td>\n",
       "      <td>25.00</td>\n",
       "      <td>NaN</td>\n",
       "      <td>Санкт-Петербург</td>\n",
       "      <td>18863.0</td>\n",
       "      <td>16028.0</td>\n",
       "      <td>1.0</td>\n",
       "      <td>482.0</td>\n",
       "      <td>2.0</td>\n",
       "      <td>755.0</td>\n",
       "      <td>NaN</td>\n",
       "    </tr>\n",
       "    <tr>\n",
       "      <th>1</th>\n",
       "      <td>7</td>\n",
       "      <td>3350000.0</td>\n",
       "      <td>40.40</td>\n",
       "      <td>2018-12-04T00:00:00</td>\n",
       "      <td>1</td>\n",
       "      <td>NaN</td>\n",
       "      <td>11.0</td>\n",
       "      <td>18.60</td>\n",
       "      <td>1</td>\n",
       "      <td>NaN</td>\n",
       "      <td>False</td>\n",
       "      <td>False</td>\n",
       "      <td>11.00</td>\n",
       "      <td>2.0</td>\n",
       "      <td>посёлок Шушары</td>\n",
       "      <td>12817.0</td>\n",
       "      <td>18603.0</td>\n",
       "      <td>0.0</td>\n",
       "      <td>NaN</td>\n",
       "      <td>0.0</td>\n",
       "      <td>NaN</td>\n",
       "      <td>81.0</td>\n",
       "    </tr>\n",
       "    <tr>\n",
       "      <th>2</th>\n",
       "      <td>10</td>\n",
       "      <td>5196000.0</td>\n",
       "      <td>56.00</td>\n",
       "      <td>2015-08-20T00:00:00</td>\n",
       "      <td>2</td>\n",
       "      <td>NaN</td>\n",
       "      <td>5.0</td>\n",
       "      <td>34.30</td>\n",
       "      <td>4</td>\n",
       "      <td>NaN</td>\n",
       "      <td>False</td>\n",
       "      <td>False</td>\n",
       "      <td>8.30</td>\n",
       "      <td>0.0</td>\n",
       "      <td>Санкт-Петербург</td>\n",
       "      <td>21741.0</td>\n",
       "      <td>13933.0</td>\n",
       "      <td>1.0</td>\n",
       "      <td>90.0</td>\n",
       "      <td>2.0</td>\n",
       "      <td>574.0</td>\n",
       "      <td>558.0</td>\n",
       "    </tr>\n",
       "    <tr>\n",
       "      <th>3</th>\n",
       "      <td>0</td>\n",
       "      <td>64900000.0</td>\n",
       "      <td>159.00</td>\n",
       "      <td>2015-07-24T00:00:00</td>\n",
       "      <td>3</td>\n",
       "      <td>NaN</td>\n",
       "      <td>14.0</td>\n",
       "      <td>NaN</td>\n",
       "      <td>9</td>\n",
       "      <td>NaN</td>\n",
       "      <td>False</td>\n",
       "      <td>False</td>\n",
       "      <td>NaN</td>\n",
       "      <td>0.0</td>\n",
       "      <td>Санкт-Петербург</td>\n",
       "      <td>28098.0</td>\n",
       "      <td>6800.0</td>\n",
       "      <td>2.0</td>\n",
       "      <td>84.0</td>\n",
       "      <td>3.0</td>\n",
       "      <td>234.0</td>\n",
       "      <td>424.0</td>\n",
       "    </tr>\n",
       "    <tr>\n",
       "      <th>4</th>\n",
       "      <td>2</td>\n",
       "      <td>10000000.0</td>\n",
       "      <td>100.00</td>\n",
       "      <td>2018-06-19T00:00:00</td>\n",
       "      <td>2</td>\n",
       "      <td>3.03</td>\n",
       "      <td>14.0</td>\n",
       "      <td>32.00</td>\n",
       "      <td>13</td>\n",
       "      <td>NaN</td>\n",
       "      <td>False</td>\n",
       "      <td>False</td>\n",
       "      <td>41.00</td>\n",
       "      <td>NaN</td>\n",
       "      <td>Санкт-Петербург</td>\n",
       "      <td>31856.0</td>\n",
       "      <td>8098.0</td>\n",
       "      <td>2.0</td>\n",
       "      <td>112.0</td>\n",
       "      <td>1.0</td>\n",
       "      <td>48.0</td>\n",
       "      <td>121.0</td>\n",
       "    </tr>\n",
       "    <tr>\n",
       "      <th>5</th>\n",
       "      <td>10</td>\n",
       "      <td>2890000.0</td>\n",
       "      <td>30.40</td>\n",
       "      <td>2018-09-10T00:00:00</td>\n",
       "      <td>1</td>\n",
       "      <td>NaN</td>\n",
       "      <td>12.0</td>\n",
       "      <td>14.40</td>\n",
       "      <td>5</td>\n",
       "      <td>NaN</td>\n",
       "      <td>False</td>\n",
       "      <td>False</td>\n",
       "      <td>9.10</td>\n",
       "      <td>NaN</td>\n",
       "      <td>городской посёлок Янино-1</td>\n",
       "      <td>NaN</td>\n",
       "      <td>NaN</td>\n",
       "      <td>NaN</td>\n",
       "      <td>NaN</td>\n",
       "      <td>NaN</td>\n",
       "      <td>NaN</td>\n",
       "      <td>55.0</td>\n",
       "    </tr>\n",
       "    <tr>\n",
       "      <th>6</th>\n",
       "      <td>6</td>\n",
       "      <td>3700000.0</td>\n",
       "      <td>37.30</td>\n",
       "      <td>2017-11-02T00:00:00</td>\n",
       "      <td>1</td>\n",
       "      <td>NaN</td>\n",
       "      <td>26.0</td>\n",
       "      <td>10.60</td>\n",
       "      <td>6</td>\n",
       "      <td>NaN</td>\n",
       "      <td>False</td>\n",
       "      <td>False</td>\n",
       "      <td>14.40</td>\n",
       "      <td>1.0</td>\n",
       "      <td>посёлок Парголово</td>\n",
       "      <td>52996.0</td>\n",
       "      <td>19143.0</td>\n",
       "      <td>0.0</td>\n",
       "      <td>NaN</td>\n",
       "      <td>0.0</td>\n",
       "      <td>NaN</td>\n",
       "      <td>155.0</td>\n",
       "    </tr>\n",
       "    <tr>\n",
       "      <th>7</th>\n",
       "      <td>5</td>\n",
       "      <td>7915000.0</td>\n",
       "      <td>71.60</td>\n",
       "      <td>2019-04-18T00:00:00</td>\n",
       "      <td>2</td>\n",
       "      <td>NaN</td>\n",
       "      <td>24.0</td>\n",
       "      <td>NaN</td>\n",
       "      <td>22</td>\n",
       "      <td>NaN</td>\n",
       "      <td>False</td>\n",
       "      <td>False</td>\n",
       "      <td>18.90</td>\n",
       "      <td>2.0</td>\n",
       "      <td>Санкт-Петербург</td>\n",
       "      <td>23982.0</td>\n",
       "      <td>11634.0</td>\n",
       "      <td>0.0</td>\n",
       "      <td>NaN</td>\n",
       "      <td>0.0</td>\n",
       "      <td>NaN</td>\n",
       "      <td>NaN</td>\n",
       "    </tr>\n",
       "    <tr>\n",
       "      <th>8</th>\n",
       "      <td>20</td>\n",
       "      <td>2900000.0</td>\n",
       "      <td>33.16</td>\n",
       "      <td>2018-05-23T00:00:00</td>\n",
       "      <td>1</td>\n",
       "      <td>NaN</td>\n",
       "      <td>27.0</td>\n",
       "      <td>15.43</td>\n",
       "      <td>26</td>\n",
       "      <td>NaN</td>\n",
       "      <td>False</td>\n",
       "      <td>False</td>\n",
       "      <td>8.81</td>\n",
       "      <td>NaN</td>\n",
       "      <td>посёлок Мурино</td>\n",
       "      <td>NaN</td>\n",
       "      <td>NaN</td>\n",
       "      <td>NaN</td>\n",
       "      <td>NaN</td>\n",
       "      <td>NaN</td>\n",
       "      <td>NaN</td>\n",
       "      <td>189.0</td>\n",
       "    </tr>\n",
       "    <tr>\n",
       "      <th>9</th>\n",
       "      <td>18</td>\n",
       "      <td>5400000.0</td>\n",
       "      <td>61.00</td>\n",
       "      <td>2017-02-26T00:00:00</td>\n",
       "      <td>3</td>\n",
       "      <td>2.50</td>\n",
       "      <td>9.0</td>\n",
       "      <td>43.60</td>\n",
       "      <td>7</td>\n",
       "      <td>NaN</td>\n",
       "      <td>False</td>\n",
       "      <td>False</td>\n",
       "      <td>6.50</td>\n",
       "      <td>2.0</td>\n",
       "      <td>Санкт-Петербург</td>\n",
       "      <td>50898.0</td>\n",
       "      <td>15008.0</td>\n",
       "      <td>0.0</td>\n",
       "      <td>NaN</td>\n",
       "      <td>0.0</td>\n",
       "      <td>NaN</td>\n",
       "      <td>289.0</td>\n",
       "    </tr>\n",
       "  </tbody>\n",
       "</table>\n",
       "</div>"
      ],
      "text/plain": [
       "   total_images  last_price  total_area first_day_exposition  rooms  \\\n",
       "0            20  13000000.0      108.00  2019-03-07T00:00:00      3   \n",
       "1             7   3350000.0       40.40  2018-12-04T00:00:00      1   \n",
       "2            10   5196000.0       56.00  2015-08-20T00:00:00      2   \n",
       "3             0  64900000.0      159.00  2015-07-24T00:00:00      3   \n",
       "4             2  10000000.0      100.00  2018-06-19T00:00:00      2   \n",
       "5            10   2890000.0       30.40  2018-09-10T00:00:00      1   \n",
       "6             6   3700000.0       37.30  2017-11-02T00:00:00      1   \n",
       "7             5   7915000.0       71.60  2019-04-18T00:00:00      2   \n",
       "8            20   2900000.0       33.16  2018-05-23T00:00:00      1   \n",
       "9            18   5400000.0       61.00  2017-02-26T00:00:00      3   \n",
       "\n",
       "   ceiling_height  floors_total  living_area  floor is_apartment  studio  \\\n",
       "0            2.70          16.0        51.00      8          NaN   False   \n",
       "1             NaN          11.0        18.60      1          NaN   False   \n",
       "2             NaN           5.0        34.30      4          NaN   False   \n",
       "3             NaN          14.0          NaN      9          NaN   False   \n",
       "4            3.03          14.0        32.00     13          NaN   False   \n",
       "5             NaN          12.0        14.40      5          NaN   False   \n",
       "6             NaN          26.0        10.60      6          NaN   False   \n",
       "7             NaN          24.0          NaN     22          NaN   False   \n",
       "8             NaN          27.0        15.43     26          NaN   False   \n",
       "9            2.50           9.0        43.60      7          NaN   False   \n",
       "\n",
       "   open_plan  kitchen_area  balcony              locality_name  \\\n",
       "0      False         25.00      NaN            Санкт-Петербург   \n",
       "1      False         11.00      2.0             посёлок Шушары   \n",
       "2      False          8.30      0.0            Санкт-Петербург   \n",
       "3      False           NaN      0.0            Санкт-Петербург   \n",
       "4      False         41.00      NaN            Санкт-Петербург   \n",
       "5      False          9.10      NaN  городской посёлок Янино-1   \n",
       "6      False         14.40      1.0          посёлок Парголово   \n",
       "7      False         18.90      2.0            Санкт-Петербург   \n",
       "8      False          8.81      NaN             посёлок Мурино   \n",
       "9      False          6.50      2.0            Санкт-Петербург   \n",
       "\n",
       "   airports_nearest  cityCenters_nearest  parks_around3000  parks_nearest  \\\n",
       "0           18863.0              16028.0               1.0          482.0   \n",
       "1           12817.0              18603.0               0.0            NaN   \n",
       "2           21741.0              13933.0               1.0           90.0   \n",
       "3           28098.0               6800.0               2.0           84.0   \n",
       "4           31856.0               8098.0               2.0          112.0   \n",
       "5               NaN                  NaN               NaN            NaN   \n",
       "6           52996.0              19143.0               0.0            NaN   \n",
       "7           23982.0              11634.0               0.0            NaN   \n",
       "8               NaN                  NaN               NaN            NaN   \n",
       "9           50898.0              15008.0               0.0            NaN   \n",
       "\n",
       "   ponds_around3000  ponds_nearest  days_exposition  \n",
       "0               2.0          755.0              NaN  \n",
       "1               0.0            NaN             81.0  \n",
       "2               2.0          574.0            558.0  \n",
       "3               3.0          234.0            424.0  \n",
       "4               1.0           48.0            121.0  \n",
       "5               NaN            NaN             55.0  \n",
       "6               0.0            NaN            155.0  \n",
       "7               0.0            NaN              NaN  \n",
       "8               NaN            NaN            189.0  \n",
       "9               0.0            NaN            289.0  "
      ]
     },
     "execution_count": 3,
     "metadata": {},
     "output_type": "execute_result"
    }
   ],
   "source": [
    "pd.set_option('display.max_columns', None)\n",
    "data.head(10)"
   ]
  },
  {
   "cell_type": "markdown",
   "metadata": {},
   "source": [
    "**Вывод:** Что сразу бросается в глаза: \n",
    "1. Очень много NaN, и в булевых параметрах, и в числовых. \n",
    "2. Есть пропуски, которые понятны и объяснимы, например, в столбце \"balcony\", скорее всего балкона просто нет. А вот отсутствие данных в стобцах \"ceiling_height\" (высота потолка) или \"days_exposition\"(сколько дней было размещено объявление) имеют другой характер.\n",
    "3. Есть некорректные данные и аномалии.    \n",
    "- Посмотрим сколько таких пропусков и в зависимости от количества будем принимать решение, что с ними делать.    "
   ]
  },
  {
   "cell_type": "code",
   "execution_count": 4,
   "metadata": {},
   "outputs": [
    {
     "name": "stdout",
     "output_type": "stream",
     "text": [
      "<class 'pandas.core.frame.DataFrame'>\n",
      "RangeIndex: 23699 entries, 0 to 23698\n",
      "Data columns (total 22 columns):\n",
      " #   Column                Non-Null Count  Dtype  \n",
      "---  ------                --------------  -----  \n",
      " 0   total_images          23699 non-null  int64  \n",
      " 1   last_price            23699 non-null  float64\n",
      " 2   total_area            23699 non-null  float64\n",
      " 3   first_day_exposition  23699 non-null  object \n",
      " 4   rooms                 23699 non-null  int64  \n",
      " 5   ceiling_height        14504 non-null  float64\n",
      " 6   floors_total          23613 non-null  float64\n",
      " 7   living_area           21796 non-null  float64\n",
      " 8   floor                 23699 non-null  int64  \n",
      " 9   is_apartment          2775 non-null   object \n",
      " 10  studio                23699 non-null  bool   \n",
      " 11  open_plan             23699 non-null  bool   \n",
      " 12  kitchen_area          21421 non-null  float64\n",
      " 13  balcony               12180 non-null  float64\n",
      " 14  locality_name         23650 non-null  object \n",
      " 15  airports_nearest      18157 non-null  float64\n",
      " 16  cityCenters_nearest   18180 non-null  float64\n",
      " 17  parks_around3000      18181 non-null  float64\n",
      " 18  parks_nearest         8079 non-null   float64\n",
      " 19  ponds_around3000      18181 non-null  float64\n",
      " 20  ponds_nearest         9110 non-null   float64\n",
      " 21  days_exposition       20518 non-null  float64\n",
      "dtypes: bool(2), float64(14), int64(3), object(3)\n",
      "memory usage: 3.7+ MB\n",
      "\n",
      "Число дубликатов: 0\n"
     ]
    }
   ],
   "source": [
    "#Выведем общую информацию о датафрейме\n",
    "data.info()\n",
    "print('\\nЧисло дубликатов:', data.duplicated().sum())"
   ]
  },
  {
   "cell_type": "markdown",
   "metadata": {},
   "source": [
    "**Вывод:** Итак, всего 23699 объектов недвижимости. В некоторых столбцах есть пропущенные значения и некорректный тип данных. Явные дубликаты отсутствуют.*"
   ]
  },
  {
   "cell_type": "markdown",
   "metadata": {},
   "source": [
    "<span style=\"color:brown\">**Построим общую гистограмму для всех числовых столбцов таблицы.** </span>"
   ]
  },
  {
   "cell_type": "code",
   "execution_count": 5,
   "metadata": {},
   "outputs": [
    {
     "data": {
      "image/png": "[encoded data removed]",
      "text/plain": [
       "<Figure size 1080x1440 with 20 Axes>"
      ]
     },
     "metadata": {
      "needs_background": "light"
     },
     "output_type": "display_data"
    }
   ],
   "source": [
    "data.hist(figsize= (15, 20));"
   ]
  },
  {
   "cell_type": "markdown",
   "metadata": {},
   "source": [
    "Гистограмма показывает, с какой частотой в наборе данных встречается то или иное значение. Визуальное сопрвождение данных."
   ]
  },
  {
   "cell_type": "markdown",
   "metadata": {},
   "source": [
    "### ШАГ 2. Предобработка данных"
   ]
  },
  {
   "cell_type": "markdown",
   "metadata": {},
   "source": [
    "<span style=\"color:brown\">**Находим и изучаем пропущенные значения** </span>"
   ]
  },
  {
   "cell_type": "code",
   "execution_count": 6,
   "metadata": {},
   "outputs": [
    {
     "data": {
      "text/plain": [
       "total_images                0\n",
       "last_price                  0\n",
       "total_area                  0\n",
       "first_day_exposition        0\n",
       "rooms                       0\n",
       "ceiling_height           9195\n",
       "floors_total               86\n",
       "living_area              1903\n",
       "floor                       0\n",
       "is_apartment            20924\n",
       "studio                      0\n",
       "open_plan                   0\n",
       "kitchen_area             2278\n",
       "balcony                 11519\n",
       "locality_name              49\n",
       "airports_nearest         5542\n",
       "cityCenters_nearest      5519\n",
       "parks_around3000         5518\n",
       "parks_nearest           15620\n",
       "ponds_around3000         5518\n",
       "ponds_nearest           14589\n",
       "days_exposition          3181\n",
       "dtype: int64"
      ]
     },
     "execution_count": 6,
     "metadata": {},
     "output_type": "execute_result"
    }
   ],
   "source": [
    "data.isna().sum()"
   ]
  },
  {
   "cell_type": "markdown",
   "metadata": {},
   "source": [
    "**По порядку:**\n",
    "1. \"ceiling_height\"(высота потолков). Пропущено около 40% данных (9195/23699*100 =38,8%). Также встречаются аномалии (потолок 100м, 27м или 1м). Скорее всего, человеческий фактор, ошибка при вводе данных.\n",
    "2. \"floors_total\"(всего этажей в доме). Пропущено около 0,4% данных (86/23699*100 =0,36%). Это важный признак, который мы будем учитывать при анализе.   \n",
    "3. \"living_area\"(жилая площадь в квадратных метрах(м²)) и \"kitchen_area\"(площадь кухни в квадратных метрах (м²)). Однотипные параметры, их пропуски составляют 7,9%, 9,4% соответственно. Это также важный критерий для анализа данных.\n",
    "4. \"balcony\"(наличие балкона). Пропущено примерно половина значений, 48,6%. Предположим, что их просто нет.\n",
    "5. \"locality_name\"(название населённого пункта). Пропущено (49/23699*100 =0,2%). Также будем брать для анализа.\n",
    "6. \"cityCenters_nearest\"(расстояние до центра города (м)). Пропущено 23,3% значений. Этот критерий также важен для оценки, поэтому берем в обработку.\n",
    "7. \"days_exposition\"(сколько дней было размещено объявление (от публикации до снятия)). (3181/23699*100 =13,4%).Без этих данных тоже не обойтись, берем в обработку.\n",
    "\n",
    "Остались еще столбцы с пропусками: Апартаменты, расстояние до ближайшего аэропорта, число парков в радиусе 3 км, расстояние до ближайшего парка, число водоемов в радиусе 3 км, расстояние до ближайшего водоема. Эти признаки также будем использовать в расчетах и исследовании, берем в обработку."
   ]
  },
  {
   "cell_type": "markdown",
   "metadata": {},
   "source": [
    "<span style=\"color:brown\">**Обработаем пропуски там, где это возможно и нужно для дальнейшего исследования:** </span>"
   ]
  },
  {
   "cell_type": "markdown",
   "metadata": {},
   "source": [
    "- В столбце **\"is_apartment\"** всего 50 значений \"ИСТИНА\", всё остальное NaN, поменяем тип данных на \"нет\"(False)."
   ]
  },
  {
   "cell_type": "code",
   "execution_count": 7,
   "metadata": {
    "scrolled": true
   },
   "outputs": [
    {
     "data": {
      "text/html": [
       "<div>\n",
       "<style scoped>\n",
       "    .dataframe tbody tr th:only-of-type {\n",
       "        vertical-align: middle;\n",
       "    }\n",
       "\n",
       "    .dataframe tbody tr th {\n",
       "        vertical-align: top;\n",
       "    }\n",
       "\n",
       "    .dataframe thead th {\n",
       "        text-align: right;\n",
       "    }\n",
       "</style>\n",
       "<table border=\"1\" class=\"dataframe\">\n",
       "  <thead>\n",
       "    <tr style=\"text-align: right;\">\n",
       "      <th></th>\n",
       "      <th>total_images</th>\n",
       "      <th>last_price</th>\n",
       "      <th>total_area</th>\n",
       "      <th>first_day_exposition</th>\n",
       "      <th>rooms</th>\n",
       "      <th>ceiling_height</th>\n",
       "      <th>floors_total</th>\n",
       "      <th>living_area</th>\n",
       "      <th>floor</th>\n",
       "      <th>is_apartment</th>\n",
       "      <th>studio</th>\n",
       "      <th>open_plan</th>\n",
       "      <th>kitchen_area</th>\n",
       "      <th>balcony</th>\n",
       "      <th>locality_name</th>\n",
       "      <th>airports_nearest</th>\n",
       "      <th>cityCenters_nearest</th>\n",
       "      <th>parks_around3000</th>\n",
       "      <th>parks_nearest</th>\n",
       "      <th>ponds_around3000</th>\n",
       "      <th>ponds_nearest</th>\n",
       "      <th>days_exposition</th>\n",
       "    </tr>\n",
       "  </thead>\n",
       "  <tbody>\n",
       "    <tr>\n",
       "      <th>0</th>\n",
       "      <td>20</td>\n",
       "      <td>13000000.0</td>\n",
       "      <td>108.0</td>\n",
       "      <td>2019-03-07T00:00:00</td>\n",
       "      <td>3</td>\n",
       "      <td>2.70</td>\n",
       "      <td>16.0</td>\n",
       "      <td>51.0</td>\n",
       "      <td>8</td>\n",
       "      <td>False</td>\n",
       "      <td>False</td>\n",
       "      <td>False</td>\n",
       "      <td>25.0</td>\n",
       "      <td>NaN</td>\n",
       "      <td>Санкт-Петербург</td>\n",
       "      <td>18863.0</td>\n",
       "      <td>16028.0</td>\n",
       "      <td>1.0</td>\n",
       "      <td>482.0</td>\n",
       "      <td>2.0</td>\n",
       "      <td>755.0</td>\n",
       "      <td>NaN</td>\n",
       "    </tr>\n",
       "    <tr>\n",
       "      <th>1</th>\n",
       "      <td>7</td>\n",
       "      <td>3350000.0</td>\n",
       "      <td>40.4</td>\n",
       "      <td>2018-12-04T00:00:00</td>\n",
       "      <td>1</td>\n",
       "      <td>NaN</td>\n",
       "      <td>11.0</td>\n",
       "      <td>18.6</td>\n",
       "      <td>1</td>\n",
       "      <td>False</td>\n",
       "      <td>False</td>\n",
       "      <td>False</td>\n",
       "      <td>11.0</td>\n",
       "      <td>2.0</td>\n",
       "      <td>посёлок Шушары</td>\n",
       "      <td>12817.0</td>\n",
       "      <td>18603.0</td>\n",
       "      <td>0.0</td>\n",
       "      <td>NaN</td>\n",
       "      <td>0.0</td>\n",
       "      <td>NaN</td>\n",
       "      <td>81.0</td>\n",
       "    </tr>\n",
       "    <tr>\n",
       "      <th>2</th>\n",
       "      <td>10</td>\n",
       "      <td>5196000.0</td>\n",
       "      <td>56.0</td>\n",
       "      <td>2015-08-20T00:00:00</td>\n",
       "      <td>2</td>\n",
       "      <td>NaN</td>\n",
       "      <td>5.0</td>\n",
       "      <td>34.3</td>\n",
       "      <td>4</td>\n",
       "      <td>False</td>\n",
       "      <td>False</td>\n",
       "      <td>False</td>\n",
       "      <td>8.3</td>\n",
       "      <td>0.0</td>\n",
       "      <td>Санкт-Петербург</td>\n",
       "      <td>21741.0</td>\n",
       "      <td>13933.0</td>\n",
       "      <td>1.0</td>\n",
       "      <td>90.0</td>\n",
       "      <td>2.0</td>\n",
       "      <td>574.0</td>\n",
       "      <td>558.0</td>\n",
       "    </tr>\n",
       "    <tr>\n",
       "      <th>3</th>\n",
       "      <td>0</td>\n",
       "      <td>64900000.0</td>\n",
       "      <td>159.0</td>\n",
       "      <td>2015-07-24T00:00:00</td>\n",
       "      <td>3</td>\n",
       "      <td>NaN</td>\n",
       "      <td>14.0</td>\n",
       "      <td>NaN</td>\n",
       "      <td>9</td>\n",
       "      <td>False</td>\n",
       "      <td>False</td>\n",
       "      <td>False</td>\n",
       "      <td>NaN</td>\n",
       "      <td>0.0</td>\n",
       "      <td>Санкт-Петербург</td>\n",
       "      <td>28098.0</td>\n",
       "      <td>6800.0</td>\n",
       "      <td>2.0</td>\n",
       "      <td>84.0</td>\n",
       "      <td>3.0</td>\n",
       "      <td>234.0</td>\n",
       "      <td>424.0</td>\n",
       "    </tr>\n",
       "    <tr>\n",
       "      <th>4</th>\n",
       "      <td>2</td>\n",
       "      <td>10000000.0</td>\n",
       "      <td>100.0</td>\n",
       "      <td>2018-06-19T00:00:00</td>\n",
       "      <td>2</td>\n",
       "      <td>3.03</td>\n",
       "      <td>14.0</td>\n",
       "      <td>32.0</td>\n",
       "      <td>13</td>\n",
       "      <td>False</td>\n",
       "      <td>False</td>\n",
       "      <td>False</td>\n",
       "      <td>41.0</td>\n",
       "      <td>NaN</td>\n",
       "      <td>Санкт-Петербург</td>\n",
       "      <td>31856.0</td>\n",
       "      <td>8098.0</td>\n",
       "      <td>2.0</td>\n",
       "      <td>112.0</td>\n",
       "      <td>1.0</td>\n",
       "      <td>48.0</td>\n",
       "      <td>121.0</td>\n",
       "    </tr>\n",
       "  </tbody>\n",
       "</table>\n",
       "</div>"
      ],
      "text/plain": [
       "   total_images  last_price  total_area first_day_exposition  rooms  \\\n",
       "0            20  13000000.0       108.0  2019-03-07T00:00:00      3   \n",
       "1             7   3350000.0        40.4  2018-12-04T00:00:00      1   \n",
       "2            10   5196000.0        56.0  2015-08-20T00:00:00      2   \n",
       "3             0  64900000.0       159.0  2015-07-24T00:00:00      3   \n",
       "4             2  10000000.0       100.0  2018-06-19T00:00:00      2   \n",
       "\n",
       "   ceiling_height  floors_total  living_area  floor  is_apartment  studio  \\\n",
       "0            2.70          16.0         51.0      8         False   False   \n",
       "1             NaN          11.0         18.6      1         False   False   \n",
       "2             NaN           5.0         34.3      4         False   False   \n",
       "3             NaN          14.0          NaN      9         False   False   \n",
       "4            3.03          14.0         32.0     13         False   False   \n",
       "\n",
       "   open_plan  kitchen_area  balcony    locality_name  airports_nearest  \\\n",
       "0      False          25.0      NaN  Санкт-Петербург           18863.0   \n",
       "1      False          11.0      2.0   посёлок Шушары           12817.0   \n",
       "2      False           8.3      0.0  Санкт-Петербург           21741.0   \n",
       "3      False           NaN      0.0  Санкт-Петербург           28098.0   \n",
       "4      False          41.0      NaN  Санкт-Петербург           31856.0   \n",
       "\n",
       "   cityCenters_nearest  parks_around3000  parks_nearest  ponds_around3000  \\\n",
       "0              16028.0               1.0          482.0               2.0   \n",
       "1              18603.0               0.0            NaN               0.0   \n",
       "2              13933.0               1.0           90.0               2.0   \n",
       "3               6800.0               2.0           84.0               3.0   \n",
       "4               8098.0               2.0          112.0               1.0   \n",
       "\n",
       "   ponds_nearest  days_exposition  \n",
       "0          755.0              NaN  \n",
       "1            NaN             81.0  \n",
       "2          574.0            558.0  \n",
       "3          234.0            424.0  \n",
       "4           48.0            121.0  "
      ]
     },
     "execution_count": 7,
     "metadata": {},
     "output_type": "execute_result"
    }
   ],
   "source": [
    "data['is_apartment']= data['is_apartment'].fillna(value= False)\n",
    "data.head()"
   ]
  },
  {
   "cell_type": "markdown",
   "metadata": {},
   "source": [
    "- Поработаем с пропущенными значениями балконов, заменим NaN на ноль."
   ]
  },
  {
   "cell_type": "code",
   "execution_count": 8,
   "metadata": {},
   "outputs": [
    {
     "data": {
      "text/html": [
       "<div>\n",
       "<style scoped>\n",
       "    .dataframe tbody tr th:only-of-type {\n",
       "        vertical-align: middle;\n",
       "    }\n",
       "\n",
       "    .dataframe tbody tr th {\n",
       "        vertical-align: top;\n",
       "    }\n",
       "\n",
       "    .dataframe thead th {\n",
       "        text-align: right;\n",
       "    }\n",
       "</style>\n",
       "<table border=\"1\" class=\"dataframe\">\n",
       "  <thead>\n",
       "    <tr style=\"text-align: right;\">\n",
       "      <th></th>\n",
       "      <th>total_images</th>\n",
       "      <th>last_price</th>\n",
       "      <th>total_area</th>\n",
       "      <th>first_day_exposition</th>\n",
       "      <th>rooms</th>\n",
       "      <th>ceiling_height</th>\n",
       "      <th>floors_total</th>\n",
       "      <th>living_area</th>\n",
       "      <th>floor</th>\n",
       "      <th>is_apartment</th>\n",
       "      <th>studio</th>\n",
       "      <th>open_plan</th>\n",
       "      <th>kitchen_area</th>\n",
       "      <th>balcony</th>\n",
       "      <th>locality_name</th>\n",
       "      <th>airports_nearest</th>\n",
       "      <th>cityCenters_nearest</th>\n",
       "      <th>parks_around3000</th>\n",
       "      <th>parks_nearest</th>\n",
       "      <th>ponds_around3000</th>\n",
       "      <th>ponds_nearest</th>\n",
       "      <th>days_exposition</th>\n",
       "    </tr>\n",
       "  </thead>\n",
       "  <tbody>\n",
       "    <tr>\n",
       "      <th>0</th>\n",
       "      <td>20</td>\n",
       "      <td>13000000.0</td>\n",
       "      <td>108.0</td>\n",
       "      <td>2019-03-07T00:00:00</td>\n",
       "      <td>3</td>\n",
       "      <td>2.70</td>\n",
       "      <td>16.0</td>\n",
       "      <td>51.0</td>\n",
       "      <td>8</td>\n",
       "      <td>False</td>\n",
       "      <td>False</td>\n",
       "      <td>False</td>\n",
       "      <td>25.0</td>\n",
       "      <td>0.0</td>\n",
       "      <td>Санкт-Петербург</td>\n",
       "      <td>18863.0</td>\n",
       "      <td>16028.0</td>\n",
       "      <td>1.0</td>\n",
       "      <td>482.0</td>\n",
       "      <td>2.0</td>\n",
       "      <td>755.0</td>\n",
       "      <td>NaN</td>\n",
       "    </tr>\n",
       "    <tr>\n",
       "      <th>1</th>\n",
       "      <td>7</td>\n",
       "      <td>3350000.0</td>\n",
       "      <td>40.4</td>\n",
       "      <td>2018-12-04T00:00:00</td>\n",
       "      <td>1</td>\n",
       "      <td>NaN</td>\n",
       "      <td>11.0</td>\n",
       "      <td>18.6</td>\n",
       "      <td>1</td>\n",
       "      <td>False</td>\n",
       "      <td>False</td>\n",
       "      <td>False</td>\n",
       "      <td>11.0</td>\n",
       "      <td>2.0</td>\n",
       "      <td>посёлок Шушары</td>\n",
       "      <td>12817.0</td>\n",
       "      <td>18603.0</td>\n",
       "      <td>0.0</td>\n",
       "      <td>NaN</td>\n",
       "      <td>0.0</td>\n",
       "      <td>NaN</td>\n",
       "      <td>81.0</td>\n",
       "    </tr>\n",
       "    <tr>\n",
       "      <th>2</th>\n",
       "      <td>10</td>\n",
       "      <td>5196000.0</td>\n",
       "      <td>56.0</td>\n",
       "      <td>2015-08-20T00:00:00</td>\n",
       "      <td>2</td>\n",
       "      <td>NaN</td>\n",
       "      <td>5.0</td>\n",
       "      <td>34.3</td>\n",
       "      <td>4</td>\n",
       "      <td>False</td>\n",
       "      <td>False</td>\n",
       "      <td>False</td>\n",
       "      <td>8.3</td>\n",
       "      <td>0.0</td>\n",
       "      <td>Санкт-Петербург</td>\n",
       "      <td>21741.0</td>\n",
       "      <td>13933.0</td>\n",
       "      <td>1.0</td>\n",
       "      <td>90.0</td>\n",
       "      <td>2.0</td>\n",
       "      <td>574.0</td>\n",
       "      <td>558.0</td>\n",
       "    </tr>\n",
       "    <tr>\n",
       "      <th>3</th>\n",
       "      <td>0</td>\n",
       "      <td>64900000.0</td>\n",
       "      <td>159.0</td>\n",
       "      <td>2015-07-24T00:00:00</td>\n",
       "      <td>3</td>\n",
       "      <td>NaN</td>\n",
       "      <td>14.0</td>\n",
       "      <td>NaN</td>\n",
       "      <td>9</td>\n",
       "      <td>False</td>\n",
       "      <td>False</td>\n",
       "      <td>False</td>\n",
       "      <td>NaN</td>\n",
       "      <td>0.0</td>\n",
       "      <td>Санкт-Петербург</td>\n",
       "      <td>28098.0</td>\n",
       "      <td>6800.0</td>\n",
       "      <td>2.0</td>\n",
       "      <td>84.0</td>\n",
       "      <td>3.0</td>\n",
       "      <td>234.0</td>\n",
       "      <td>424.0</td>\n",
       "    </tr>\n",
       "    <tr>\n",
       "      <th>4</th>\n",
       "      <td>2</td>\n",
       "      <td>10000000.0</td>\n",
       "      <td>100.0</td>\n",
       "      <td>2018-06-19T00:00:00</td>\n",
       "      <td>2</td>\n",
       "      <td>3.03</td>\n",
       "      <td>14.0</td>\n",
       "      <td>32.0</td>\n",
       "      <td>13</td>\n",
       "      <td>False</td>\n",
       "      <td>False</td>\n",
       "      <td>False</td>\n",
       "      <td>41.0</td>\n",
       "      <td>0.0</td>\n",
       "      <td>Санкт-Петербург</td>\n",
       "      <td>31856.0</td>\n",
       "      <td>8098.0</td>\n",
       "      <td>2.0</td>\n",
       "      <td>112.0</td>\n",
       "      <td>1.0</td>\n",
       "      <td>48.0</td>\n",
       "      <td>121.0</td>\n",
       "    </tr>\n",
       "  </tbody>\n",
       "</table>\n",
       "</div>"
      ],
      "text/plain": [
       "   total_images  last_price  total_area first_day_exposition  rooms  \\\n",
       "0            20  13000000.0       108.0  2019-03-07T00:00:00      3   \n",
       "1             7   3350000.0        40.4  2018-12-04T00:00:00      1   \n",
       "2            10   5196000.0        56.0  2015-08-20T00:00:00      2   \n",
       "3             0  64900000.0       159.0  2015-07-24T00:00:00      3   \n",
       "4             2  10000000.0       100.0  2018-06-19T00:00:00      2   \n",
       "\n",
       "   ceiling_height  floors_total  living_area  floor  is_apartment  studio  \\\n",
       "0            2.70          16.0         51.0      8         False   False   \n",
       "1             NaN          11.0         18.6      1         False   False   \n",
       "2             NaN           5.0         34.3      4         False   False   \n",
       "3             NaN          14.0          NaN      9         False   False   \n",
       "4            3.03          14.0         32.0     13         False   False   \n",
       "\n",
       "   open_plan  kitchen_area  balcony    locality_name  airports_nearest  \\\n",
       "0      False          25.0      0.0  Санкт-Петербург           18863.0   \n",
       "1      False          11.0      2.0   посёлок Шушары           12817.0   \n",
       "2      False           8.3      0.0  Санкт-Петербург           21741.0   \n",
       "3      False           NaN      0.0  Санкт-Петербург           28098.0   \n",
       "4      False          41.0      0.0  Санкт-Петербург           31856.0   \n",
       "\n",
       "   cityCenters_nearest  parks_around3000  parks_nearest  ponds_around3000  \\\n",
       "0              16028.0               1.0          482.0               2.0   \n",
       "1              18603.0               0.0            NaN               0.0   \n",
       "2              13933.0               1.0           90.0               2.0   \n",
       "3               6800.0               2.0           84.0               3.0   \n",
       "4               8098.0               2.0          112.0               1.0   \n",
       "\n",
       "   ponds_nearest  days_exposition  \n",
       "0          755.0              NaN  \n",
       "1            NaN             81.0  \n",
       "2          574.0            558.0  \n",
       "3          234.0            424.0  \n",
       "4           48.0            121.0  "
      ]
     },
     "execution_count": 8,
     "metadata": {},
     "output_type": "execute_result"
    }
   ],
   "source": [
    "data['balcony']= data['balcony'].fillna(value= 0)\n",
    "data.head()"
   ]
  },
  {
   "cell_type": "markdown",
   "metadata": {},
   "source": [
    "- Теперь удалим пропуски в тех строках, где пропусков было меньше всего, это **'floors_total'**(всего этажей в доме), 0.4%. Этот параметр нельзя заменить средним, медианным или часто встречающимся числом, поэтому просто удалим его, также поступим и с **'locality_name'**(название населённого пункта): 0.2% от всех данных, на общий результат не повлияет. "
   ]
  },
  {
   "cell_type": "code",
   "execution_count": 9,
   "metadata": {},
   "outputs": [],
   "source": [
    "#используем метод \"dropna\"\n",
    "data['locality_name'].dropna(inplace=True)\n",
    "data['floors_total'].dropna(inplace=True)"
   ]
  },
  {
   "cell_type": "markdown",
   "metadata": {},
   "source": [
    "- Поработаем с высотой потолков. В Санкт-Петербурге есть \"сталинки\" и с 4-ёх, и с 5-ти метровыми потолками, есть и 2,5-2,8 м, в основном, в новостройках и \"хрущевках\". Это нормально, но вот значения 27 м, 100 м потолки - это, конечно же, ошибка. Поэтому, заменим пропущенные значения на медианное, а с аномалиями(\"выбросами\") разберемся чуть позже.*"
   ]
  },
  {
   "cell_type": "code",
   "execution_count": 10,
   "metadata": {},
   "outputs": [],
   "source": [
    "data['ceiling_height'].fillna(data['ceiling_height'].median(), inplace=True)"
   ]
  },
  {
   "cell_type": "markdown",
   "metadata": {},
   "source": [
    "<span style=\"color:brown\">**Обработаем некорректные типы данных** </span>"
   ]
  },
  {
   "cell_type": "code",
   "execution_count": 11,
   "metadata": {},
   "outputs": [
    {
     "name": "stdout",
     "output_type": "stream",
     "text": [
      "<class 'pandas.core.frame.DataFrame'>\n",
      "RangeIndex: 23699 entries, 0 to 23698\n",
      "Data columns (total 22 columns):\n",
      " #   Column                Non-Null Count  Dtype  \n",
      "---  ------                --------------  -----  \n",
      " 0   total_images          23699 non-null  int64  \n",
      " 1   last_price            23699 non-null  float64\n",
      " 2   total_area            23699 non-null  float64\n",
      " 3   first_day_exposition  23699 non-null  object \n",
      " 4   rooms                 23699 non-null  int64  \n",
      " 5   ceiling_height        23699 non-null  float64\n",
      " 6   floors_total          23613 non-null  float64\n",
      " 7   living_area           21796 non-null  float64\n",
      " 8   floor                 23699 non-null  int64  \n",
      " 9   is_apartment          23699 non-null  bool   \n",
      " 10  studio                23699 non-null  bool   \n",
      " 11  open_plan             23699 non-null  bool   \n",
      " 12  kitchen_area          21421 non-null  float64\n",
      " 13  balcony               23699 non-null  float64\n",
      " 14  locality_name         23650 non-null  object \n",
      " 15  airports_nearest      18157 non-null  float64\n",
      " 16  cityCenters_nearest   18180 non-null  float64\n",
      " 17  parks_around3000      18181 non-null  float64\n",
      " 18  parks_nearest         8079 non-null   float64\n",
      " 19  ponds_around3000      18181 non-null  float64\n",
      " 20  ponds_nearest         9110 non-null   float64\n",
      " 21  days_exposition       20518 non-null  float64\n",
      "dtypes: bool(3), float64(14), int64(3), object(2)\n",
      "memory usage: 3.5+ MB\n"
     ]
    }
   ],
   "source": [
    "data.info()"
   ]
  },
  {
   "cell_type": "markdown",
   "metadata": {},
   "source": [
    "**Вывод:** Датасэт содержит данные по 22 признакам: 17 количественных, 4 категориальных и 1 временной. Изменим тип данных на корректный, необходимый для дальнейшего исследования.*"
   ]
  },
  {
   "cell_type": "code",
   "execution_count": 12,
   "metadata": {},
   "outputs": [
    {
     "name": "stdout",
     "output_type": "stream",
     "text": [
      "<class 'pandas.core.frame.DataFrame'>\n",
      "RangeIndex: 23699 entries, 0 to 23698\n",
      "Data columns (total 22 columns):\n",
      " #   Column                Non-Null Count  Dtype         \n",
      "---  ------                --------------  -----         \n",
      " 0   total_images          23699 non-null  int64         \n",
      " 1   last_price            23699 non-null  int64         \n",
      " 2   total_area            23699 non-null  float64       \n",
      " 3   first_day_exposition  23699 non-null  datetime64[ns]\n",
      " 4   rooms                 23699 non-null  int64         \n",
      " 5   ceiling_height        23699 non-null  float64       \n",
      " 6   floors_total          23699 non-null  int64         \n",
      " 7   living_area           21796 non-null  float64       \n",
      " 8   floor                 23699 non-null  int64         \n",
      " 9   is_apartment          23699 non-null  bool          \n",
      " 10  studio                23699 non-null  bool          \n",
      " 11  open_plan             23699 non-null  bool          \n",
      " 12  kitchen_area          21421 non-null  float64       \n",
      " 13  balcony               23699 non-null  int64         \n",
      " 14  locality_name         23650 non-null  object        \n",
      " 15  airports_nearest      18157 non-null  float64       \n",
      " 16  cityCenters_nearest   18180 non-null  float64       \n",
      " 17  parks_around3000      23699 non-null  int64         \n",
      " 18  parks_nearest         8079 non-null   float64       \n",
      " 19  ponds_around3000      23699 non-null  int64         \n",
      " 20  ponds_nearest         9110 non-null   float64       \n",
      " 21  days_exposition       20518 non-null  float64       \n",
      "dtypes: bool(3), datetime64[ns](1), float64(9), int64(8), object(1)\n",
      "memory usage: 3.5+ MB\n"
     ]
    }
   ],
   "source": [
    "data['last_price'] = data['last_price'].astype('int')\n",
    "data['first_day_exposition'] = pd.to_datetime(data['first_day_exposition'], format='%Y-%m-%dT%H:%M:%S')\n",
    "data['balcony'] = data['balcony'].astype('int')\n",
    "\n",
    "#data['days_exposition'] = data['days_exposition'].fillna(value=0).astype('int')\n",
    "data['floors_total']= data['floors_total'].fillna(value=0).astype('int')\n",
    "\n",
    "# преобразуем еще в целочисленные значения количество парков и прудов, возможно понадобятся, хотя пока не знаю, как их использовать\n",
    "data['parks_around3000']= data['parks_around3000'].fillna(value=0).astype('int')\n",
    "data['ponds_around3000']= data['ponds_around3000'].fillna(value=0).astype('int')\n",
    "data.info()"
   ]
  },
  {
   "cell_type": "markdown",
   "metadata": {},
   "source": [
    "**Вывод:** Теперь все типы данных подготовлены для проведения исследования."
   ]
  },
  {
   "cell_type": "markdown",
   "metadata": {},
   "source": [
    "<span style=\"color:brown\">**Поищем неявные дубликаты** </span>\n",
    "- явных дубликатов нет, это мы выяснили ранее\n",
    "- неявные чаще встречаются в тексте, где присутствует \"ручной\" ввод, ошибка, \"человеческий фактор\". Поэтому исследуем названия населенных пунктов."
   ]
  },
  {
   "cell_type": "code",
   "execution_count": 13,
   "metadata": {},
   "outputs": [
    {
     "data": {
      "text/plain": [
       "('Количество населенных пунктов:', 365)"
      ]
     },
     "execution_count": 13,
     "metadata": {},
     "output_type": "execute_result"
    }
   ],
   "source": [
    "('Количество населенных пунктов:', data['locality_name'].unique().shape[0])"
   ]
  },
  {
   "cell_type": "markdown",
   "metadata": {},
   "source": [
    "**Что видим:**\n",
    "- в данных есть название одного и того же населенного пункта, но прописанного разными способами. Например: \"поселок Возрождение\" и \"посёлок Возрождение\". Для нас это будет два разных пункта, это неверно.\n",
    "- \"поселок городского типа\" и \"городской поселок\".\n",
    "- можно было привести всё к нижнему регистру, чтобы исключить дубликаты и здесь, но визуально не обнаружили. Чтобы названия населенных пунктов выглядели корректно, оставим как есть."
   ]
  },
  {
   "cell_type": "code",
   "execution_count": 14,
   "metadata": {},
   "outputs": [
    {
     "data": {
      "text/plain": [
       "('Количество населенных пунктов:', 324)"
      ]
     },
     "execution_count": 14,
     "metadata": {},
     "output_type": "execute_result"
    }
   ],
   "source": [
    "data['locality_name'] = data['locality_name'].str.replace('ё', 'е')# заменим все \"ё\" на \"е\"\n",
    "data['locality_name'] = data['locality_name'].str.replace('городской поселок','поселок городского типа')# заменим \"городской поселок\" на \"поселок городского типа\"\n",
    "('Количество населенных пунктов:', data['locality_name'].unique().shape[0])"
   ]
  },
  {
   "cell_type": "code",
   "execution_count": 15,
   "metadata": {
    "scrolled": false
   },
   "outputs": [
    {
     "data": {
      "text/plain": [
       "array(['Санкт-Петербург', 'поселок Шушары',\n",
       "       'поселок городского типа Янино-1', 'поселок Парголово',\n",
       "       'поселок Мурино', 'Ломоносов', 'Сертолово', 'Петергоф', 'Пушкин',\n",
       "       'деревня Кудрово', 'Коммунар', 'Колпино',\n",
       "       'поселок городского типа Красный Бор', 'Гатчина',\n",
       "       'деревня Федоровское', 'Выборг', 'Кронштадт', 'Кировск',\n",
       "       'деревня Новое Девяткино', 'поселок Металлострой',\n",
       "       'поселок городского типа Лебяжье',\n",
       "       'поселок городского типа Сиверский', 'поселок Молодцово',\n",
       "       'поселок городского типа Кузьмоловский',\n",
       "       'садовое товарищество Новая Ропша', 'Павловск',\n",
       "       'деревня Пикколово', 'Всеволожск', 'Волхов', 'Кингисепп',\n",
       "       'Приозерск', 'Сестрорецк', 'деревня Куттузи', 'поселок Аннино',\n",
       "       'поселок городского типа Ефимовский', 'поселок Плодовое',\n",
       "       'деревня Заклинье', 'поселок Торковичи', 'поселок Первомайское',\n",
       "       'Красное Село', 'поселок Понтонный', 'Сясьстрой', 'деревня Старая',\n",
       "       'деревня Лесколово', 'поселок Новый Свет', 'Сланцы',\n",
       "       'село Путилово', 'Ивангород', 'Мурино', 'Шлиссельбург',\n",
       "       'Никольское', 'Зеленогорск', 'Сосновый Бор', 'деревня Оржицы',\n",
       "       'деревня Кальтино', 'Кудрово', 'поселок Романовка',\n",
       "       'поселок Бугры', 'поселок городского типа Рощино', 'Кириши',\n",
       "       'Луга', 'Волосово', 'Отрадное', 'село Павлово', 'поселок Оредеж',\n",
       "       'село Копорье', 'поселок Молодежное', 'Тихвин', 'поселок Победа',\n",
       "       'деревня Нурма', 'поселок городского типа Синявино', 'Тосно',\n",
       "       'поселок Стрельна', 'Бокситогорск', 'поселок Александровская',\n",
       "       'деревня Лопухинка', 'Пикалево', 'поселок Терволово',\n",
       "       'поселок городского типа Советский', 'Подпорожье',\n",
       "       'поселок Петровское', 'поселок городского типа Токсово',\n",
       "       'поселок Сельцо', 'поселок городского типа Вырица',\n",
       "       'деревня Кипень', 'деревня Келози', 'деревня Вартемяги',\n",
       "       'поселок Тельмана', 'поселок Севастьяново',\n",
       "       'поселок городского типа Большая Ижора', nan,\n",
       "       'поселок городского типа Павлово', 'деревня Агалатово',\n",
       "       'поселок Новогорелово', 'поселок городского типа Лесогорский',\n",
       "       'деревня Лаголово', 'поселок Цвелодубово',\n",
       "       'поселок городского типа Рахья', 'деревня Белогорка',\n",
       "       'поселок Заводской', 'поселок городского типа Новоселье',\n",
       "       'деревня Большие Колпаны', 'деревня Горбунки', 'деревня Батово',\n",
       "       'деревня Заневка', 'деревня Иссад', 'Приморск',\n",
       "       'поселок городского типа Федоровское', 'деревня Мистолово',\n",
       "       'Новая Ладога', 'поселок Зимитицы', 'поселок Барышево',\n",
       "       'деревня Разметелево', 'поселок городского типа имени Свердлова',\n",
       "       'деревня Пеники', 'поселок Рябово', 'деревня Пудомяги',\n",
       "       'поселок станции Корнево', 'деревня Низино', 'деревня Бегуницы',\n",
       "       'поселок Поляны', 'поселок городского типа Мга',\n",
       "       'поселок Елизаветино', 'поселок городского типа Кузнечное',\n",
       "       'деревня Колтуши', 'поселок Запорожское', 'деревня Гостилицы',\n",
       "       'деревня Малое Карлино', 'поселок Мичуринское',\n",
       "       'поселок городского типа имени Морозова', 'поселок Песочный',\n",
       "       'поселок Сосново', 'деревня Аро', 'поселок Ильичево',\n",
       "       'поселок городского типа Тайцы', 'деревня Малое Верево',\n",
       "       'деревня Извара', 'поселок станции Вещево', 'село Паша',\n",
       "       'деревня Калитино', 'поселок городского типа Ульяновка',\n",
       "       'деревня Чудской Бор', 'поселок городского типа Дубровка',\n",
       "       'деревня Мины', 'поселок Войсковицы', 'деревня Коркино',\n",
       "       'поселок Ропша', 'поселок городского типа Приладожский',\n",
       "       'поселок Щеглово', 'поселок Гаврилово', 'Лодейное Поле',\n",
       "       'деревня Рабитицы', 'поселок городского типа Никольский',\n",
       "       'деревня Кузьмолово', 'деревня Малые Колпаны',\n",
       "       'поселок Петро-Славянка', 'поселок городского типа Назия',\n",
       "       'поселок Репино', 'поселок Углово', 'поселок Старая Малукса',\n",
       "       'садовое товарищество Рахья', 'деревня Меньково',\n",
       "       'деревня Старые Бегуницы', 'поселок Саперный', 'поселок Семрино',\n",
       "       'поселок Глажево', 'поселок Кобринское', 'деревня Гарболово',\n",
       "       'деревня Юкки', 'поселок станции Приветнинское',\n",
       "       'деревня Мануйлово', 'деревня Пчева', 'поселок Цвылево',\n",
       "       'поселок Мельниково', 'поселок Пудость', 'поселок Усть-Луга',\n",
       "       'Светогорск', 'Любань', 'поселок Селезнево',\n",
       "       'поселок городского типа Рябово', 'Каменногорск', 'деревня Кривко',\n",
       "       'поселок Глебычево', 'деревня Парицы', 'поселок Жилпоселок',\n",
       "       'поселок Войскорово', 'село Никольское', 'поселок Стеклянный',\n",
       "       'поселок городского типа Важины', 'поселок Мыза-Ивановка',\n",
       "       'село Русско-Высоцкое', 'поселок городского типа Форносово',\n",
       "       'село Старая Ладога', 'поселок Житково',\n",
       "       'поселок городского типа Виллози', 'деревня Лампово',\n",
       "       'деревня Шпаньково', 'деревня Лаврики', 'поселок Сумино',\n",
       "       'поселок Возрождение', 'деревня Старосиверская',\n",
       "       'поселок Кикерино', 'деревня Старое Хинколово',\n",
       "       'поселок Пригородный', 'поселок Торфяное',\n",
       "       'поселок городского типа Будогощь', 'поселок Суходолье',\n",
       "       'поселок Красная Долина', 'деревня Хапо-Ое',\n",
       "       'поселок городского типа Дружная Горка', 'поселок Лисий Нос',\n",
       "       'деревня Яльгелево', 'село Рождествено', 'деревня Старополье',\n",
       "       'поселок Левашово', 'деревня Сяськелево', 'деревня Камышовка',\n",
       "       'садоводческое некоммерческое товарищество Лесная Поляна',\n",
       "       'деревня Хязельки', 'поселок Жилгородок', 'деревня Ялгино',\n",
       "       'поселок Новый Учхоз', 'поселок Гончарово', 'поселок Почап',\n",
       "       'поселок Саперное', 'поселок Платформа 69-й километр',\n",
       "       'поселок Каложицы', 'деревня Фалилеево', 'деревня Пельгора',\n",
       "       'деревня Торошковичи', 'поселок Белоостров', 'поселок Алексеевка',\n",
       "       'поселок Серебрянский', 'поселок Лукаши', 'деревня Щеглово',\n",
       "       'деревня Тарасово', 'поселок Кингисеппский',\n",
       "       'поселок при железнодорожной станции Вещево', 'поселок Ушаки',\n",
       "       'деревня Котлы', 'деревня Сижно', 'деревня Торосово',\n",
       "       'поселок Форт Красная Горка', 'деревня Новолисино',\n",
       "       'поселок станции Громово', 'деревня Глинка',\n",
       "       'деревня Старая Пустошь', 'поселок Коммунары', 'поселок Починок',\n",
       "       'поселок городского типа Вознесенье', 'деревня Разбегаево',\n",
       "       'поселок Гладкое',\n",
       "       'поселок при железнодорожной станции Приветнинское',\n",
       "       'поселок Тесово-4', 'деревня Бор', 'поселок Коробицыно',\n",
       "       'деревня Большая Вруда', 'деревня Курковицы', 'поселок Кобралово',\n",
       "       'деревня Суоранда', 'поселок городского типа Кондратьево',\n",
       "       'коттеджный поселок Счастье', 'поселок Любань', 'деревня Реброво',\n",
       "       'деревня Зимитицы', 'деревня Тойворово', 'поселок Семиозерье',\n",
       "       'поселок Лесное', 'поселок Совхозный', 'поселок Ленинское',\n",
       "       'поселок Суйда', 'деревня Нижние Осельки', 'поселок станции Свирь',\n",
       "       'поселок Перово', 'Высоцк', 'поселок Гарболово', 'село Шум',\n",
       "       'поселок Котельский', 'поселок станции Лужайка',\n",
       "       'деревня Большая Пустомержа', 'поселок Красносельское',\n",
       "       'деревня Вахнова Кара', 'деревня Пижма',\n",
       "       'коттеджный поселок Кивеннапа Север', 'поселок Ромашки',\n",
       "       'деревня Каськово', 'деревня Куровицы', 'поселок Плоское',\n",
       "       'поселок Кирпичное', 'деревня Ям-Тесово', 'деревня Раздолье',\n",
       "       'деревня Терпилицы', 'поселок Шугозеро', 'деревня Ваганово',\n",
       "       'поселок Пушное', 'садовое товарищество Садко',\n",
       "       'поселок Усть-Ижора', 'деревня Выскатка',\n",
       "       'поселок городского типа Свирьстрой', 'поселок Громово',\n",
       "       'деревня Кисельня', 'деревня Трубников Бор', 'поселок Калитино',\n",
       "       'поселок Высокоключевой', 'садовое товарищество Приладожский',\n",
       "       'поселок Пансионат Зеленый Бор', 'деревня Ненимяки',\n",
       "       'деревня Снегиревка', 'деревня Рапполово', 'деревня Пустынка',\n",
       "       'поселок Рабитицы', 'деревня Большой Сабск', 'деревня Русско',\n",
       "       'деревня Лупполово', 'деревня Большое Рейзино',\n",
       "       'деревня Малая Романовка', 'поселок Дружноселье', 'поселок Пчевжа',\n",
       "       'поселок Володарское', 'деревня Нижняя',\n",
       "       'коттеджный поселок Лесное', 'деревня Тихковицы',\n",
       "       'деревня Борисова Грива', 'поселок Дзержинского'], dtype=object)"
      ]
     },
     "execution_count": 15,
     "metadata": {},
     "output_type": "execute_result"
    }
   ],
   "source": [
    "data['locality_name'].unique()# проверим что получилось"
   ]
  },
  {
   "cell_type": "markdown",
   "metadata": {},
   "source": [
    "**Вывод:** Теперь и здесь порядок. Неявных дубликатов было 41. Двигаемся дальше."
   ]
  },
  {
   "cell_type": "markdown",
   "metadata": {},
   "source": [
    " <span style=\"color:brown\">**Как правило, в данных всегда присутствуют аномальные значения, их обязательно нужно устранить, для этого посмтрим как распределены значения в датасэте.**</span>"
   ]
  },
  {
   "cell_type": "code",
   "execution_count": 16,
   "metadata": {},
   "outputs": [
    {
     "data": {
      "text/html": [
       "<div>\n",
       "<style scoped>\n",
       "    .dataframe tbody tr th:only-of-type {\n",
       "        vertical-align: middle;\n",
       "    }\n",
       "\n",
       "    .dataframe tbody tr th {\n",
       "        vertical-align: top;\n",
       "    }\n",
       "\n",
       "    .dataframe thead th {\n",
       "        text-align: right;\n",
       "    }\n",
       "</style>\n",
       "<table border=\"1\" class=\"dataframe\">\n",
       "  <thead>\n",
       "    <tr style=\"text-align: right;\">\n",
       "      <th></th>\n",
       "      <th>total_images</th>\n",
       "      <th>last_price</th>\n",
       "      <th>total_area</th>\n",
       "      <th>rooms</th>\n",
       "      <th>ceiling_height</th>\n",
       "      <th>floors_total</th>\n",
       "      <th>living_area</th>\n",
       "      <th>floor</th>\n",
       "      <th>kitchen_area</th>\n",
       "      <th>balcony</th>\n",
       "      <th>airports_nearest</th>\n",
       "      <th>cityCenters_nearest</th>\n",
       "      <th>parks_around3000</th>\n",
       "      <th>parks_nearest</th>\n",
       "      <th>ponds_around3000</th>\n",
       "      <th>ponds_nearest</th>\n",
       "      <th>days_exposition</th>\n",
       "    </tr>\n",
       "  </thead>\n",
       "  <tbody>\n",
       "    <tr>\n",
       "      <th>count</th>\n",
       "      <td>23699.000000</td>\n",
       "      <td>2.369900e+04</td>\n",
       "      <td>23699.000000</td>\n",
       "      <td>23699.000000</td>\n",
       "      <td>23699.000000</td>\n",
       "      <td>23699.000000</td>\n",
       "      <td>21796.000000</td>\n",
       "      <td>23699.000000</td>\n",
       "      <td>21421.000000</td>\n",
       "      <td>23699.000000</td>\n",
       "      <td>18157.000000</td>\n",
       "      <td>18180.000000</td>\n",
       "      <td>23699.000000</td>\n",
       "      <td>8079.000000</td>\n",
       "      <td>23699.000000</td>\n",
       "      <td>9110.000000</td>\n",
       "      <td>20518.000000</td>\n",
       "    </tr>\n",
       "    <tr>\n",
       "      <th>mean</th>\n",
       "      <td>9.858475</td>\n",
       "      <td>6.541549e+06</td>\n",
       "      <td>60.348651</td>\n",
       "      <td>2.070636</td>\n",
       "      <td>2.724358</td>\n",
       "      <td>10.635090</td>\n",
       "      <td>34.457852</td>\n",
       "      <td>5.892358</td>\n",
       "      <td>10.569807</td>\n",
       "      <td>0.591080</td>\n",
       "      <td>28793.672193</td>\n",
       "      <td>14191.277833</td>\n",
       "      <td>0.469049</td>\n",
       "      <td>490.804555</td>\n",
       "      <td>0.590911</td>\n",
       "      <td>517.980900</td>\n",
       "      <td>180.888634</td>\n",
       "    </tr>\n",
       "    <tr>\n",
       "      <th>std</th>\n",
       "      <td>5.682529</td>\n",
       "      <td>1.088701e+07</td>\n",
       "      <td>35.654083</td>\n",
       "      <td>1.078405</td>\n",
       "      <td>0.988298</td>\n",
       "      <td>6.616396</td>\n",
       "      <td>22.030445</td>\n",
       "      <td>4.885249</td>\n",
       "      <td>5.905438</td>\n",
       "      <td>0.959298</td>\n",
       "      <td>12630.880622</td>\n",
       "      <td>8608.386210</td>\n",
       "      <td>0.748534</td>\n",
       "      <td>342.317995</td>\n",
       "      <td>0.883999</td>\n",
       "      <td>277.720643</td>\n",
       "      <td>219.727988</td>\n",
       "    </tr>\n",
       "    <tr>\n",
       "      <th>min</th>\n",
       "      <td>0.000000</td>\n",
       "      <td>1.219000e+04</td>\n",
       "      <td>12.000000</td>\n",
       "      <td>0.000000</td>\n",
       "      <td>1.000000</td>\n",
       "      <td>0.000000</td>\n",
       "      <td>2.000000</td>\n",
       "      <td>1.000000</td>\n",
       "      <td>1.300000</td>\n",
       "      <td>0.000000</td>\n",
       "      <td>0.000000</td>\n",
       "      <td>181.000000</td>\n",
       "      <td>0.000000</td>\n",
       "      <td>1.000000</td>\n",
       "      <td>0.000000</td>\n",
       "      <td>13.000000</td>\n",
       "      <td>1.000000</td>\n",
       "    </tr>\n",
       "    <tr>\n",
       "      <th>25%</th>\n",
       "      <td>6.000000</td>\n",
       "      <td>3.400000e+06</td>\n",
       "      <td>40.000000</td>\n",
       "      <td>1.000000</td>\n",
       "      <td>2.600000</td>\n",
       "      <td>5.000000</td>\n",
       "      <td>18.600000</td>\n",
       "      <td>2.000000</td>\n",
       "      <td>7.000000</td>\n",
       "      <td>0.000000</td>\n",
       "      <td>18585.000000</td>\n",
       "      <td>9238.000000</td>\n",
       "      <td>0.000000</td>\n",
       "      <td>288.000000</td>\n",
       "      <td>0.000000</td>\n",
       "      <td>294.000000</td>\n",
       "      <td>45.000000</td>\n",
       "    </tr>\n",
       "    <tr>\n",
       "      <th>50%</th>\n",
       "      <td>9.000000</td>\n",
       "      <td>4.650000e+06</td>\n",
       "      <td>52.000000</td>\n",
       "      <td>2.000000</td>\n",
       "      <td>2.650000</td>\n",
       "      <td>9.000000</td>\n",
       "      <td>30.000000</td>\n",
       "      <td>4.000000</td>\n",
       "      <td>9.100000</td>\n",
       "      <td>0.000000</td>\n",
       "      <td>26726.000000</td>\n",
       "      <td>13098.500000</td>\n",
       "      <td>0.000000</td>\n",
       "      <td>455.000000</td>\n",
       "      <td>0.000000</td>\n",
       "      <td>502.000000</td>\n",
       "      <td>95.000000</td>\n",
       "    </tr>\n",
       "    <tr>\n",
       "      <th>75%</th>\n",
       "      <td>14.000000</td>\n",
       "      <td>6.800000e+06</td>\n",
       "      <td>69.900000</td>\n",
       "      <td>3.000000</td>\n",
       "      <td>2.700000</td>\n",
       "      <td>16.000000</td>\n",
       "      <td>42.300000</td>\n",
       "      <td>8.000000</td>\n",
       "      <td>12.000000</td>\n",
       "      <td>1.000000</td>\n",
       "      <td>37273.000000</td>\n",
       "      <td>16293.000000</td>\n",
       "      <td>1.000000</td>\n",
       "      <td>612.000000</td>\n",
       "      <td>1.000000</td>\n",
       "      <td>729.000000</td>\n",
       "      <td>232.000000</td>\n",
       "    </tr>\n",
       "    <tr>\n",
       "      <th>max</th>\n",
       "      <td>50.000000</td>\n",
       "      <td>7.630000e+08</td>\n",
       "      <td>900.000000</td>\n",
       "      <td>19.000000</td>\n",
       "      <td>100.000000</td>\n",
       "      <td>60.000000</td>\n",
       "      <td>409.700000</td>\n",
       "      <td>33.000000</td>\n",
       "      <td>112.000000</td>\n",
       "      <td>5.000000</td>\n",
       "      <td>84869.000000</td>\n",
       "      <td>65968.000000</td>\n",
       "      <td>3.000000</td>\n",
       "      <td>3190.000000</td>\n",
       "      <td>3.000000</td>\n",
       "      <td>1344.000000</td>\n",
       "      <td>1580.000000</td>\n",
       "    </tr>\n",
       "  </tbody>\n",
       "</table>\n",
       "</div>"
      ],
      "text/plain": [
       "       total_images    last_price    total_area         rooms  ceiling_height  \\\n",
       "count  23699.000000  2.369900e+04  23699.000000  23699.000000    23699.000000   \n",
       "mean       9.858475  6.541549e+06     60.348651      2.070636        2.724358   \n",
       "std        5.682529  1.088701e+07     35.654083      1.078405        0.988298   \n",
       "min        0.000000  1.219000e+04     12.000000      0.000000        1.000000   \n",
       "25%        6.000000  3.400000e+06     40.000000      1.000000        2.600000   \n",
       "50%        9.000000  4.650000e+06     52.000000      2.000000        2.650000   \n",
       "75%       14.000000  6.800000e+06     69.900000      3.000000        2.700000   \n",
       "max       50.000000  7.630000e+08    900.000000     19.000000      100.000000   \n",
       "\n",
       "       floors_total   living_area         floor  kitchen_area       balcony  \\\n",
       "count  23699.000000  21796.000000  23699.000000  21421.000000  23699.000000   \n",
       "mean      10.635090     34.457852      5.892358     10.569807      0.591080   \n",
       "std        6.616396     22.030445      4.885249      5.905438      0.959298   \n",
       "min        0.000000      2.000000      1.000000      1.300000      0.000000   \n",
       "25%        5.000000     18.600000      2.000000      7.000000      0.000000   \n",
       "50%        9.000000     30.000000      4.000000      9.100000      0.000000   \n",
       "75%       16.000000     42.300000      8.000000     12.000000      1.000000   \n",
       "max       60.000000    409.700000     33.000000    112.000000      5.000000   \n",
       "\n",
       "       airports_nearest  cityCenters_nearest  parks_around3000  parks_nearest  \\\n",
       "count      18157.000000         18180.000000      23699.000000    8079.000000   \n",
       "mean       28793.672193         14191.277833          0.469049     490.804555   \n",
       "std        12630.880622          8608.386210          0.748534     342.317995   \n",
       "min            0.000000           181.000000          0.000000       1.000000   \n",
       "25%        18585.000000          9238.000000          0.000000     288.000000   \n",
       "50%        26726.000000         13098.500000          0.000000     455.000000   \n",
       "75%        37273.000000         16293.000000          1.000000     612.000000   \n",
       "max        84869.000000         65968.000000          3.000000    3190.000000   \n",
       "\n",
       "       ponds_around3000  ponds_nearest  days_exposition  \n",
       "count      23699.000000    9110.000000     20518.000000  \n",
       "mean           0.590911     517.980900       180.888634  \n",
       "std            0.883999     277.720643       219.727988  \n",
       "min            0.000000      13.000000         1.000000  \n",
       "25%            0.000000     294.000000        45.000000  \n",
       "50%            0.000000     502.000000        95.000000  \n",
       "75%            1.000000     729.000000       232.000000  \n",
       "max            3.000000    1344.000000      1580.000000  "
      ]
     },
     "execution_count": 16,
     "metadata": {},
     "output_type": "execute_result"
    }
   ],
   "source": [
    "data.describe()"
   ]
  },
  {
   "cell_type": "markdown",
   "metadata": {},
   "source": [
    "<span style=\"color:brown\">**Что сразу бросается на первый взгляд, по-порядку:**</span>\n",
    "- Аномальные значения есть в нескольких столбцах:\n",
    "   - **'last_price'**: есть жилье стоимостью и 12 190, и 763 000 000.\n",
    "   - **'total_area'**: общая площадь от 12 кв.м до 900 кв.м.\n",
    "   - **'kitchen_area'**: разбег значений площади кухни от 1,3 кв.м до 112 кв.м\n",
    "   - **'living_area'**: жилая площадь соответственно имеет \"выбросы\" 2 кв.м. и 409 кв.м\n",
    "   - **'days_exposition'**: объявления также \"висят\" более 4 лет.\n",
    "   - **'ceiling_height'**: высота потолков варьируется от 1м до 100м.\n",
    "   - **'rooms'**: 19 комнат и их отсутствие тоже аномально.\n",
    "\n",
    "*Поработаем с аномалиями, но чуть позже, сначала добавим недостающие столбцы(данные), так, чтобы они корректно коррелировали со всеми текущими значениями.*"
   ]
  },
  {
   "cell_type": "markdown",
   "metadata": {},
   "source": [
    "### ШАГ 3. Посчитайте и добавьте в таблицу новые столбцы"
   ]
  },
  {
   "cell_type": "markdown",
   "metadata": {},
   "source": [
    "<span style=\"color:brown\">Рассчитаем и добавим в таблицу столбец **['square_meter_price']** цена одного квадратного метра. Для этого разделим стоимость жилья на общую площадь жилья</span>"
   ]
  },
  {
   "cell_type": "code",
   "execution_count": 17,
   "metadata": {},
   "outputs": [],
   "source": [
    "data['square_meter_price']= data['last_price']/ data['total_area']\n",
    "data['square_meter_price']= data['square_meter_price'].fillna(value= 0).astype('int')"
   ]
  },
  {
   "cell_type": "markdown",
   "metadata": {},
   "source": [
    "<span style=\"color:brown\">Добавим день публикации объявления **['weekday']** (0 - понедельник, 1 - вторник и т.д.). Используем метод DatetimeIndex</span>"
   ]
  },
  {
   "cell_type": "code",
   "execution_count": 18,
   "metadata": {},
   "outputs": [],
   "source": [
    "data['weekday']= data['first_day_exposition'].dt.weekday"
   ]
  },
  {
   "cell_type": "markdown",
   "metadata": {},
   "source": [
    "<span style=\"color:brown\">Добавим месяц публикации объявления **['month']**. Используем метод DatetimeIndex.</span>"
   ]
  },
  {
   "cell_type": "code",
   "execution_count": 19,
   "metadata": {},
   "outputs": [],
   "source": [
    "data['month']= data['first_day_exposition'].dt.month"
   ]
  },
  {
   "cell_type": "markdown",
   "metadata": {},
   "source": [
    "<span style=\"color:brown\">Добавим год публикации объявления **['year']**. Используем метод DatetimeIndex</span>"
   ]
  },
  {
   "cell_type": "code",
   "execution_count": 20,
   "metadata": {},
   "outputs": [],
   "source": [
    "data['year']= data['first_day_exposition'].dt.year"
   ]
  },
  {
   "cell_type": "markdown",
   "metadata": {},
   "source": [
    "<span style=\"color:brown\">Добавим тип этажа квартиры **['floor_type']**(значения — «первый», «последний», «другой»)*. Здесь воспользуемся функцией, назначим категории.</span>"
   ]
  },
  {
   "cell_type": "code",
   "execution_count": 21,
   "metadata": {},
   "outputs": [],
   "source": [
    "def floor_number(row):\n",
    "    if row['floor']== 1:\n",
    "        return 'первый'\n",
    "    elif row['floor']== row['floors_total']:\n",
    "        return 'последний'\n",
    "    else:\n",
    "        return 'другой'\n",
    "data['floor_type']= data.apply(floor_number, axis=1)"
   ]
  },
  {
   "cell_type": "markdown",
   "metadata": {},
   "source": [
    "<span style=\"color:brown\">Добавим расстояние в км до центра города **['distance_to_center']**.</span>"
   ]
  },
  {
   "cell_type": "code",
   "execution_count": 22,
   "metadata": {},
   "outputs": [],
   "source": [
    "data.rename(columns= {'cityCenters_nearest' : 'city_centers_nearest'}, inplace= True)# приведем название к единому формату\n",
    "data['distance_to_center']= data['city_centers_nearest']/ 1000 # метры переводим в км и округляем до целого\n",
    "data['distance_to_center']= data['distance_to_center'].fillna(value= 0).astype(int)"
   ]
  },
  {
   "cell_type": "code",
   "execution_count": 23,
   "metadata": {},
   "outputs": [
    {
     "data": {
      "text/html": [
       "<div>\n",
       "<style scoped>\n",
       "    .dataframe tbody tr th:only-of-type {\n",
       "        vertical-align: middle;\n",
       "    }\n",
       "\n",
       "    .dataframe tbody tr th {\n",
       "        vertical-align: top;\n",
       "    }\n",
       "\n",
       "    .dataframe thead th {\n",
       "        text-align: right;\n",
       "    }\n",
       "</style>\n",
       "<table border=\"1\" class=\"dataframe\">\n",
       "  <thead>\n",
       "    <tr style=\"text-align: right;\">\n",
       "      <th></th>\n",
       "      <th>total_images</th>\n",
       "      <th>last_price</th>\n",
       "      <th>total_area</th>\n",
       "      <th>first_day_exposition</th>\n",
       "      <th>rooms</th>\n",
       "      <th>ceiling_height</th>\n",
       "      <th>floors_total</th>\n",
       "      <th>living_area</th>\n",
       "      <th>floor</th>\n",
       "      <th>is_apartment</th>\n",
       "      <th>studio</th>\n",
       "      <th>open_plan</th>\n",
       "      <th>kitchen_area</th>\n",
       "      <th>balcony</th>\n",
       "      <th>locality_name</th>\n",
       "      <th>airports_nearest</th>\n",
       "      <th>city_centers_nearest</th>\n",
       "      <th>parks_around3000</th>\n",
       "      <th>parks_nearest</th>\n",
       "      <th>ponds_around3000</th>\n",
       "      <th>ponds_nearest</th>\n",
       "      <th>days_exposition</th>\n",
       "      <th>square_meter_price</th>\n",
       "      <th>weekday</th>\n",
       "      <th>month</th>\n",
       "      <th>year</th>\n",
       "      <th>floor_type</th>\n",
       "      <th>distance_to_center</th>\n",
       "    </tr>\n",
       "  </thead>\n",
       "  <tbody>\n",
       "    <tr>\n",
       "      <th>0</th>\n",
       "      <td>20</td>\n",
       "      <td>13000000</td>\n",
       "      <td>108.0</td>\n",
       "      <td>2019-03-07</td>\n",
       "      <td>3</td>\n",
       "      <td>2.70</td>\n",
       "      <td>16</td>\n",
       "      <td>51.0</td>\n",
       "      <td>8</td>\n",
       "      <td>False</td>\n",
       "      <td>False</td>\n",
       "      <td>False</td>\n",
       "      <td>25.0</td>\n",
       "      <td>0</td>\n",
       "      <td>Санкт-Петербург</td>\n",
       "      <td>18863.0</td>\n",
       "      <td>16028.0</td>\n",
       "      <td>1</td>\n",
       "      <td>482.0</td>\n",
       "      <td>2</td>\n",
       "      <td>755.0</td>\n",
       "      <td>NaN</td>\n",
       "      <td>120370</td>\n",
       "      <td>3</td>\n",
       "      <td>3</td>\n",
       "      <td>2019</td>\n",
       "      <td>другой</td>\n",
       "      <td>16</td>\n",
       "    </tr>\n",
       "    <tr>\n",
       "      <th>1</th>\n",
       "      <td>7</td>\n",
       "      <td>3350000</td>\n",
       "      <td>40.4</td>\n",
       "      <td>2018-12-04</td>\n",
       "      <td>1</td>\n",
       "      <td>2.65</td>\n",
       "      <td>11</td>\n",
       "      <td>18.6</td>\n",
       "      <td>1</td>\n",
       "      <td>False</td>\n",
       "      <td>False</td>\n",
       "      <td>False</td>\n",
       "      <td>11.0</td>\n",
       "      <td>2</td>\n",
       "      <td>поселок Шушары</td>\n",
       "      <td>12817.0</td>\n",
       "      <td>18603.0</td>\n",
       "      <td>0</td>\n",
       "      <td>NaN</td>\n",
       "      <td>0</td>\n",
       "      <td>NaN</td>\n",
       "      <td>81.0</td>\n",
       "      <td>82920</td>\n",
       "      <td>1</td>\n",
       "      <td>12</td>\n",
       "      <td>2018</td>\n",
       "      <td>первый</td>\n",
       "      <td>18</td>\n",
       "    </tr>\n",
       "    <tr>\n",
       "      <th>2</th>\n",
       "      <td>10</td>\n",
       "      <td>5196000</td>\n",
       "      <td>56.0</td>\n",
       "      <td>2015-08-20</td>\n",
       "      <td>2</td>\n",
       "      <td>2.65</td>\n",
       "      <td>5</td>\n",
       "      <td>34.3</td>\n",
       "      <td>4</td>\n",
       "      <td>False</td>\n",
       "      <td>False</td>\n",
       "      <td>False</td>\n",
       "      <td>8.3</td>\n",
       "      <td>0</td>\n",
       "      <td>Санкт-Петербург</td>\n",
       "      <td>21741.0</td>\n",
       "      <td>13933.0</td>\n",
       "      <td>1</td>\n",
       "      <td>90.0</td>\n",
       "      <td>2</td>\n",
       "      <td>574.0</td>\n",
       "      <td>558.0</td>\n",
       "      <td>92785</td>\n",
       "      <td>3</td>\n",
       "      <td>8</td>\n",
       "      <td>2015</td>\n",
       "      <td>другой</td>\n",
       "      <td>13</td>\n",
       "    </tr>\n",
       "    <tr>\n",
       "      <th>3</th>\n",
       "      <td>0</td>\n",
       "      <td>64900000</td>\n",
       "      <td>159.0</td>\n",
       "      <td>2015-07-24</td>\n",
       "      <td>3</td>\n",
       "      <td>2.65</td>\n",
       "      <td>14</td>\n",
       "      <td>NaN</td>\n",
       "      <td>9</td>\n",
       "      <td>False</td>\n",
       "      <td>False</td>\n",
       "      <td>False</td>\n",
       "      <td>NaN</td>\n",
       "      <td>0</td>\n",
       "      <td>Санкт-Петербург</td>\n",
       "      <td>28098.0</td>\n",
       "      <td>6800.0</td>\n",
       "      <td>2</td>\n",
       "      <td>84.0</td>\n",
       "      <td>3</td>\n",
       "      <td>234.0</td>\n",
       "      <td>424.0</td>\n",
       "      <td>408176</td>\n",
       "      <td>4</td>\n",
       "      <td>7</td>\n",
       "      <td>2015</td>\n",
       "      <td>другой</td>\n",
       "      <td>6</td>\n",
       "    </tr>\n",
       "    <tr>\n",
       "      <th>4</th>\n",
       "      <td>2</td>\n",
       "      <td>10000000</td>\n",
       "      <td>100.0</td>\n",
       "      <td>2018-06-19</td>\n",
       "      <td>2</td>\n",
       "      <td>3.03</td>\n",
       "      <td>14</td>\n",
       "      <td>32.0</td>\n",
       "      <td>13</td>\n",
       "      <td>False</td>\n",
       "      <td>False</td>\n",
       "      <td>False</td>\n",
       "      <td>41.0</td>\n",
       "      <td>0</td>\n",
       "      <td>Санкт-Петербург</td>\n",
       "      <td>31856.0</td>\n",
       "      <td>8098.0</td>\n",
       "      <td>2</td>\n",
       "      <td>112.0</td>\n",
       "      <td>1</td>\n",
       "      <td>48.0</td>\n",
       "      <td>121.0</td>\n",
       "      <td>100000</td>\n",
       "      <td>1</td>\n",
       "      <td>6</td>\n",
       "      <td>2018</td>\n",
       "      <td>другой</td>\n",
       "      <td>8</td>\n",
       "    </tr>\n",
       "  </tbody>\n",
       "</table>\n",
       "</div>"
      ],
      "text/plain": [
       "   total_images  last_price  total_area first_day_exposition  rooms  \\\n",
       "0            20    13000000       108.0           2019-03-07      3   \n",
       "1             7     3350000        40.4           2018-12-04      1   \n",
       "2            10     5196000        56.0           2015-08-20      2   \n",
       "3             0    64900000       159.0           2015-07-24      3   \n",
       "4             2    10000000       100.0           2018-06-19      2   \n",
       "\n",
       "   ceiling_height  floors_total  living_area  floor  is_apartment  studio  \\\n",
       "0            2.70            16         51.0      8         False   False   \n",
       "1            2.65            11         18.6      1         False   False   \n",
       "2            2.65             5         34.3      4         False   False   \n",
       "3            2.65            14          NaN      9         False   False   \n",
       "4            3.03            14         32.0     13         False   False   \n",
       "\n",
       "   open_plan  kitchen_area  balcony    locality_name  airports_nearest  \\\n",
       "0      False          25.0        0  Санкт-Петербург           18863.0   \n",
       "1      False          11.0        2   поселок Шушары           12817.0   \n",
       "2      False           8.3        0  Санкт-Петербург           21741.0   \n",
       "3      False           NaN        0  Санкт-Петербург           28098.0   \n",
       "4      False          41.0        0  Санкт-Петербург           31856.0   \n",
       "\n",
       "   city_centers_nearest  parks_around3000  parks_nearest  ponds_around3000  \\\n",
       "0               16028.0                 1          482.0                 2   \n",
       "1               18603.0                 0            NaN                 0   \n",
       "2               13933.0                 1           90.0                 2   \n",
       "3                6800.0                 2           84.0                 3   \n",
       "4                8098.0                 2          112.0                 1   \n",
       "\n",
       "   ponds_nearest  days_exposition  square_meter_price  weekday  month  year  \\\n",
       "0          755.0              NaN              120370        3      3  2019   \n",
       "1            NaN             81.0               82920        1     12  2018   \n",
       "2          574.0            558.0               92785        3      8  2015   \n",
       "3          234.0            424.0              408176        4      7  2015   \n",
       "4           48.0            121.0              100000        1      6  2018   \n",
       "\n",
       "  floor_type  distance_to_center  \n",
       "0     другой                  16  \n",
       "1     первый                  18  \n",
       "2     другой                  13  \n",
       "3     другой                   6  \n",
       "4     другой                   8  "
      ]
     },
     "execution_count": 23,
     "metadata": {},
     "output_type": "execute_result"
    }
   ],
   "source": [
    "data.head()# проверяем, все ли столбцы добавлены"
   ]
  },
  {
   "cell_type": "markdown",
   "metadata": {},
   "source": [
    "**Вывод:** Все столбцы в нужном нам формате добавлены в таблицу."
   ]
  },
  {
   "cell_type": "markdown",
   "metadata": {},
   "source": [
    "<span style=\"color:brown\">**Вот теперь разберемся с аномалиями.**\n",
    "  Чтобы не перебирать все столбцы с аномалиями отдельно, воспользуемся функцией, которая на вход получит сам признак(коллонки с аномалиями), а на выходе вернет границы \"усов\" с 1,5 размахом. Затем прогоним ее по циклу списком **'anomaly_list'** из столбцов</span>"
   ]
  },
  {
   "cell_type": "code",
   "execution_count": 24,
   "metadata": {},
   "outputs": [
    {
     "data": {
      "text/html": [
       "<div>\n",
       "<style scoped>\n",
       "    .dataframe tbody tr th:only-of-type {\n",
       "        vertical-align: middle;\n",
       "    }\n",
       "\n",
       "    .dataframe tbody tr th {\n",
       "        vertical-align: top;\n",
       "    }\n",
       "\n",
       "    .dataframe thead th {\n",
       "        text-align: right;\n",
       "    }\n",
       "</style>\n",
       "<table border=\"1\" class=\"dataframe\">\n",
       "  <thead>\n",
       "    <tr style=\"text-align: right;\">\n",
       "      <th></th>\n",
       "      <th>total_images</th>\n",
       "      <th>last_price</th>\n",
       "      <th>total_area</th>\n",
       "      <th>rooms</th>\n",
       "      <th>ceiling_height</th>\n",
       "      <th>floors_total</th>\n",
       "      <th>living_area</th>\n",
       "      <th>floor</th>\n",
       "      <th>kitchen_area</th>\n",
       "      <th>balcony</th>\n",
       "      <th>airports_nearest</th>\n",
       "      <th>city_centers_nearest</th>\n",
       "      <th>parks_around3000</th>\n",
       "      <th>parks_nearest</th>\n",
       "      <th>ponds_around3000</th>\n",
       "      <th>ponds_nearest</th>\n",
       "      <th>days_exposition</th>\n",
       "      <th>square_meter_price</th>\n",
       "      <th>weekday</th>\n",
       "      <th>month</th>\n",
       "      <th>year</th>\n",
       "      <th>distance_to_center</th>\n",
       "    </tr>\n",
       "  </thead>\n",
       "  <tbody>\n",
       "    <tr>\n",
       "      <th>count</th>\n",
       "      <td>23699.000000</td>\n",
       "      <td>2.163800e+04</td>\n",
       "      <td>22459.000000</td>\n",
       "      <td>23699.000000</td>\n",
       "      <td>20727.000000</td>\n",
       "      <td>23699.000000</td>\n",
       "      <td>21023.000000</td>\n",
       "      <td>23699.000000</td>\n",
       "      <td>20219.000000</td>\n",
       "      <td>23699.000000</td>\n",
       "      <td>18157.000000</td>\n",
       "      <td>18180.000000</td>\n",
       "      <td>23699.000000</td>\n",
       "      <td>8079.000000</td>\n",
       "      <td>23699.000000</td>\n",
       "      <td>9110.000000</td>\n",
       "      <td>18849.000000</td>\n",
       "      <td>2.369900e+04</td>\n",
       "      <td>23699.000000</td>\n",
       "      <td>23699.000000</td>\n",
       "      <td>23699.000000</td>\n",
       "      <td>23699.000000</td>\n",
       "    </tr>\n",
       "    <tr>\n",
       "      <th>mean</th>\n",
       "      <td>9.858475</td>\n",
       "      <td>4.839970e+06</td>\n",
       "      <td>54.364907</td>\n",
       "      <td>2.013545</td>\n",
       "      <td>2.631264</td>\n",
       "      <td>10.635090</td>\n",
       "      <td>31.552247</td>\n",
       "      <td>5.892358</td>\n",
       "      <td>9.504662</td>\n",
       "      <td>0.591080</td>\n",
       "      <td>28793.672193</td>\n",
       "      <td>14191.277833</td>\n",
       "      <td>0.469049</td>\n",
       "      <td>490.804555</td>\n",
       "      <td>0.590911</td>\n",
       "      <td>517.980900</td>\n",
       "      <td>128.753886</td>\n",
       "      <td>9.942121e+04</td>\n",
       "      <td>2.569307</td>\n",
       "      <td>6.400101</td>\n",
       "      <td>2017.367146</td>\n",
       "      <td>10.505633</td>\n",
       "    </tr>\n",
       "    <tr>\n",
       "      <th>std</th>\n",
       "      <td>5.682529</td>\n",
       "      <td>2.217341e+06</td>\n",
       "      <td>19.385325</td>\n",
       "      <td>0.986846</td>\n",
       "      <td>0.081300</td>\n",
       "      <td>6.616396</td>\n",
       "      <td>13.941065</td>\n",
       "      <td>4.885249</td>\n",
       "      <td>3.125573</td>\n",
       "      <td>0.959298</td>\n",
       "      <td>12630.880622</td>\n",
       "      <td>8608.386210</td>\n",
       "      <td>0.748534</td>\n",
       "      <td>342.317995</td>\n",
       "      <td>0.883999</td>\n",
       "      <td>277.720643</td>\n",
       "      <td>121.531193</td>\n",
       "      <td>5.030681e+04</td>\n",
       "      <td>1.789082</td>\n",
       "      <td>3.491561</td>\n",
       "      <td>1.039771</td>\n",
       "      <td>9.507281</td>\n",
       "    </tr>\n",
       "    <tr>\n",
       "      <th>min</th>\n",
       "      <td>0.000000</td>\n",
       "      <td>1.219000e+04</td>\n",
       "      <td>12.000000</td>\n",
       "      <td>0.000000</td>\n",
       "      <td>2.460000</td>\n",
       "      <td>0.000000</td>\n",
       "      <td>2.000000</td>\n",
       "      <td>1.000000</td>\n",
       "      <td>1.300000</td>\n",
       "      <td>0.000000</td>\n",
       "      <td>0.000000</td>\n",
       "      <td>181.000000</td>\n",
       "      <td>0.000000</td>\n",
       "      <td>1.000000</td>\n",
       "      <td>0.000000</td>\n",
       "      <td>13.000000</td>\n",
       "      <td>1.000000</td>\n",
       "      <td>1.110000e+02</td>\n",
       "      <td>0.000000</td>\n",
       "      <td>1.000000</td>\n",
       "      <td>2014.000000</td>\n",
       "      <td>0.000000</td>\n",
       "    </tr>\n",
       "    <tr>\n",
       "      <th>25%</th>\n",
       "      <td>6.000000</td>\n",
       "      <td>3.300000e+06</td>\n",
       "      <td>39.400000</td>\n",
       "      <td>1.000000</td>\n",
       "      <td>2.600000</td>\n",
       "      <td>5.000000</td>\n",
       "      <td>18.400000</td>\n",
       "      <td>2.000000</td>\n",
       "      <td>7.000000</td>\n",
       "      <td>0.000000</td>\n",
       "      <td>18585.000000</td>\n",
       "      <td>9238.000000</td>\n",
       "      <td>0.000000</td>\n",
       "      <td>288.000000</td>\n",
       "      <td>0.000000</td>\n",
       "      <td>294.000000</td>\n",
       "      <td>41.000000</td>\n",
       "      <td>7.658500e+04</td>\n",
       "      <td>1.000000</td>\n",
       "      <td>3.000000</td>\n",
       "      <td>2017.000000</td>\n",
       "      <td>2.000000</td>\n",
       "    </tr>\n",
       "    <tr>\n",
       "      <th>50%</th>\n",
       "      <td>9.000000</td>\n",
       "      <td>4.400000e+06</td>\n",
       "      <td>50.100000</td>\n",
       "      <td>2.000000</td>\n",
       "      <td>2.650000</td>\n",
       "      <td>9.000000</td>\n",
       "      <td>30.000000</td>\n",
       "      <td>4.000000</td>\n",
       "      <td>9.000000</td>\n",
       "      <td>0.000000</td>\n",
       "      <td>26726.000000</td>\n",
       "      <td>13098.500000</td>\n",
       "      <td>0.000000</td>\n",
       "      <td>455.000000</td>\n",
       "      <td>0.000000</td>\n",
       "      <td>502.000000</td>\n",
       "      <td>85.000000</td>\n",
       "      <td>9.500000e+04</td>\n",
       "      <td>3.000000</td>\n",
       "      <td>6.000000</td>\n",
       "      <td>2017.000000</td>\n",
       "      <td>11.000000</td>\n",
       "    </tr>\n",
       "    <tr>\n",
       "      <th>75%</th>\n",
       "      <td>14.000000</td>\n",
       "      <td>6.000000e+06</td>\n",
       "      <td>65.600000</td>\n",
       "      <td>3.000000</td>\n",
       "      <td>2.650000</td>\n",
       "      <td>16.000000</td>\n",
       "      <td>41.000000</td>\n",
       "      <td>8.000000</td>\n",
       "      <td>11.100000</td>\n",
       "      <td>1.000000</td>\n",
       "      <td>37273.000000</td>\n",
       "      <td>16293.000000</td>\n",
       "      <td>1.000000</td>\n",
       "      <td>612.000000</td>\n",
       "      <td>1.000000</td>\n",
       "      <td>729.000000</td>\n",
       "      <td>183.000000</td>\n",
       "      <td>1.142560e+05</td>\n",
       "      <td>4.000000</td>\n",
       "      <td>10.000000</td>\n",
       "      <td>2018.000000</td>\n",
       "      <td>15.000000</td>\n",
       "    </tr>\n",
       "    <tr>\n",
       "      <th>max</th>\n",
       "      <td>50.000000</td>\n",
       "      <td>1.189440e+07</td>\n",
       "      <td>114.600000</td>\n",
       "      <td>5.000000</td>\n",
       "      <td>2.850000</td>\n",
       "      <td>60.000000</td>\n",
       "      <td>77.800000</td>\n",
       "      <td>33.000000</td>\n",
       "      <td>19.450000</td>\n",
       "      <td>5.000000</td>\n",
       "      <td>84869.000000</td>\n",
       "      <td>65968.000000</td>\n",
       "      <td>3.000000</td>\n",
       "      <td>3190.000000</td>\n",
       "      <td>3.000000</td>\n",
       "      <td>1344.000000</td>\n",
       "      <td>512.000000</td>\n",
       "      <td>1.907500e+06</td>\n",
       "      <td>6.000000</td>\n",
       "      <td>12.000000</td>\n",
       "      <td>2019.000000</td>\n",
       "      <td>65.000000</td>\n",
       "    </tr>\n",
       "  </tbody>\n",
       "</table>\n",
       "</div>"
      ],
      "text/plain": [
       "       total_images    last_price    total_area         rooms  ceiling_height  \\\n",
       "count  23699.000000  2.163800e+04  22459.000000  23699.000000    20727.000000   \n",
       "mean       9.858475  4.839970e+06     54.364907      2.013545        2.631264   \n",
       "std        5.682529  2.217341e+06     19.385325      0.986846        0.081300   \n",
       "min        0.000000  1.219000e+04     12.000000      0.000000        2.460000   \n",
       "25%        6.000000  3.300000e+06     39.400000      1.000000        2.600000   \n",
       "50%        9.000000  4.400000e+06     50.100000      2.000000        2.650000   \n",
       "75%       14.000000  6.000000e+06     65.600000      3.000000        2.650000   \n",
       "max       50.000000  1.189440e+07    114.600000      5.000000        2.850000   \n",
       "\n",
       "       floors_total   living_area         floor  kitchen_area       balcony  \\\n",
       "count  23699.000000  21023.000000  23699.000000  20219.000000  23699.000000   \n",
       "mean      10.635090     31.552247      5.892358      9.504662      0.591080   \n",
       "std        6.616396     13.941065      4.885249      3.125573      0.959298   \n",
       "min        0.000000      2.000000      1.000000      1.300000      0.000000   \n",
       "25%        5.000000     18.400000      2.000000      7.000000      0.000000   \n",
       "50%        9.000000     30.000000      4.000000      9.000000      0.000000   \n",
       "75%       16.000000     41.000000      8.000000     11.100000      1.000000   \n",
       "max       60.000000     77.800000     33.000000     19.450000      5.000000   \n",
       "\n",
       "       airports_nearest  city_centers_nearest  parks_around3000  \\\n",
       "count      18157.000000          18180.000000      23699.000000   \n",
       "mean       28793.672193          14191.277833          0.469049   \n",
       "std        12630.880622           8608.386210          0.748534   \n",
       "min            0.000000            181.000000          0.000000   \n",
       "25%        18585.000000           9238.000000          0.000000   \n",
       "50%        26726.000000          13098.500000          0.000000   \n",
       "75%        37273.000000          16293.000000          1.000000   \n",
       "max        84869.000000          65968.000000          3.000000   \n",
       "\n",
       "       parks_nearest  ponds_around3000  ponds_nearest  days_exposition  \\\n",
       "count    8079.000000      23699.000000    9110.000000     18849.000000   \n",
       "mean      490.804555          0.590911     517.980900       128.753886   \n",
       "std       342.317995          0.883999     277.720643       121.531193   \n",
       "min         1.000000          0.000000      13.000000         1.000000   \n",
       "25%       288.000000          0.000000     294.000000        41.000000   \n",
       "50%       455.000000          0.000000     502.000000        85.000000   \n",
       "75%       612.000000          1.000000     729.000000       183.000000   \n",
       "max      3190.000000          3.000000    1344.000000       512.000000   \n",
       "\n",
       "       square_meter_price       weekday         month          year  \\\n",
       "count        2.369900e+04  23699.000000  23699.000000  23699.000000   \n",
       "mean         9.942121e+04      2.569307      6.400101   2017.367146   \n",
       "std          5.030681e+04      1.789082      3.491561      1.039771   \n",
       "min          1.110000e+02      0.000000      1.000000   2014.000000   \n",
       "25%          7.658500e+04      1.000000      3.000000   2017.000000   \n",
       "50%          9.500000e+04      3.000000      6.000000   2017.000000   \n",
       "75%          1.142560e+05      4.000000     10.000000   2018.000000   \n",
       "max          1.907500e+06      6.000000     12.000000   2019.000000   \n",
       "\n",
       "       distance_to_center  \n",
       "count        23699.000000  \n",
       "mean            10.505633  \n",
       "std              9.507281  \n",
       "min              0.000000  \n",
       "25%              2.000000  \n",
       "50%             11.000000  \n",
       "75%             15.000000  \n",
       "max             65.000000  "
      ]
     },
     "execution_count": 24,
     "metadata": {},
     "output_type": "execute_result"
    }
   ],
   "source": [
    "def function_q(data, column):\n",
    "    q1= data[column].quantile(0.25)\n",
    "    q3= data[column].quantile(0.75)\n",
    "    iqr= q3 - q1# межквартильный размах\n",
    "    data_ig= data.loc[(data[column]< q3 + 1.5*iqr) & (data[column]> q1- 1.5*iqr), column]# границы \"усов\"\n",
    "    return data_ig\n",
    "# составим список столбцов, где выявили \"аномалии\"\n",
    "anomaly_list= ['last_price', 'total_area', 'kitchen_area', 'living_area', 'days_exposition', 'ceiling_height', 'rooms']\n",
    "for x in anomaly_list:# каждое значение из каждой колонки пропускаем циклом через функцию\n",
    "    data[x]= function_q(data, x)\n",
    "\n",
    "# rooms должно быть целым числом\n",
    "data['rooms']= data['rooms'].fillna(value= 0).astype('int')\n",
    "data.describe() "
   ]
  },
  {
   "cell_type": "markdown",
   "metadata": {},
   "source": [
    "**Вывод:** Теперь всё выглядит иначе, все значения корректны, имеют адекватные границы. Немного смутило здание в 60 этажей), но оказалось, что есть и 88- миэтажное строение."
   ]
  },
  {
   "cell_type": "markdown",
   "metadata": {},
   "source": [
    "### ШАГ 4.Проведите исследовательский анализ данных"
   ]
  },
  {
   "cell_type": "markdown",
   "metadata": {},
   "source": [
    "<span style=\"color:brown\">**Изучим основные параметры по порядку, для этого воспользукмся визуализацией, пострим гистограммы. Начнем с общей площади.**</span>"
   ]
  },
  {
   "cell_type": "code",
   "execution_count": 25,
   "metadata": {},
   "outputs": [
    {
     "data": {
      "image/png": "[encoded data removed]",
      "text/plain": [
       "<Figure size 432x288 with 1 Axes>"
      ]
     },
     "metadata": {
      "needs_background": "light"
     },
     "output_type": "display_data"
    }
   ],
   "source": [
    "data['total_area'].hist(bins=25, range=(10,110))\n",
    "plt.title('Общая площадь жилья')\n",
    "plt.xlabel('Квадратные метры')\n",
    "plt.ylabel('Количество объектов')\n",
    "plt.show()"
   ]
  },
  {
   "cell_type": "markdown",
   "metadata": {},
   "source": [
    "**Вывод:** Больше всего квартир с площадью от 30-ти до 60 кв.м. Это, как правило, \"студии\", однокомнатное и 2-ух комнатное жилье.*"
   ]
  },
  {
   "cell_type": "markdown",
   "metadata": {},
   "source": [
    "<span style=\"color:brown\">**Изучим жилую площадь**</span>"
   ]
  },
  {
   "cell_type": "code",
   "execution_count": 26,
   "metadata": {},
   "outputs": [
    {
     "data": {
      "image/png": "[encoded data removed]",
      "text/plain": [
       "<Figure size 432x288 with 1 Axes>"
      ]
     },
     "metadata": {
      "needs_background": "light"
     },
     "output_type": "display_data"
    }
   ],
   "source": [
    "data['living_area'].hist(bins= 15, range= (0,90))\n",
    "plt.title('Жилая площадь')\n",
    "plt.xlabel('Квадратные метры')\n",
    "plt.ylabel('Количество объектов')\n",
    "plt.show()"
   ]
  },
  {
   "cell_type": "markdown",
   "metadata": {},
   "source": [
    "**Вывод:** Жилая площадь от 10 до 38-40 кв.м.*, что ориентировочно, соответствует однокомнатному и 2-ух комнатному жилью. "
   ]
  },
  {
   "cell_type": "markdown",
   "metadata": {},
   "source": [
    "<span style=\"color:brown\">**Изучим площадь кухни**</span>"
   ]
  },
  {
   "cell_type": "code",
   "execution_count": 27,
   "metadata": {},
   "outputs": [
    {
     "data": {
      "image/png": "[encoded data removed]",
      "text/plain": [
       "<Figure size 432x288 with 1 Axes>"
      ]
     },
     "metadata": {
      "needs_background": "light"
     },
     "output_type": "display_data"
    }
   ],
   "source": [
    "data['kitchen_area'].hist(bins= 10, range= (0,25))\n",
    "plt.title('Площадь кухни')\n",
    "plt.xlabel('Квадратные метры')\n",
    "plt.ylabel('Количество объектов')\n",
    "plt.show()"
   ]
  },
  {
   "cell_type": "markdown",
   "metadata": {},
   "source": [
    "**Вывод:** Кухни, в основном, с площадью от 5-ти до 12 кв.м."
   ]
  },
  {
   "cell_type": "markdown",
   "metadata": {},
   "source": [
    "<span style=\"color:brown\">**Изучим цену объекта недвижимости**</span>"
   ]
  },
  {
   "cell_type": "code",
   "execution_count": 28,
   "metadata": {},
   "outputs": [
    {
     "data": {
      "image/png": "[encoded data removed]",
      "text/plain": [
       "<Figure size 432x288 with 1 Axes>"
      ]
     },
     "metadata": {
      "needs_background": "light"
     },
     "output_type": "display_data"
    }
   ],
   "source": [
    "#data['last_price'] = data['last_price']/1000000\n",
    "#data['last_price'].fillna(value=0).astype('int')#разделим на 1000000, чтобы привести значения в понятный вид\n",
    "data['last_price'].hist(bins =20, range =(0,1.189440e+07))\n",
    "plt.title('Стоимость жилья')\n",
    "plt.xlabel('Цена')\n",
    "plt.ylabel('Количество объектов')\n",
    "plt.show()"
   ]
  },
  {
   "cell_type": "markdown",
   "metadata": {},
   "source": [
    "**Вывод:** В основном, стоимость квартир находится в пределах до 6 млн."
   ]
  },
  {
   "cell_type": "markdown",
   "metadata": {},
   "source": [
    "<span style=\"color:brown\">**Изучим количество комнат**</span>"
   ]
  },
  {
   "cell_type": "code",
   "execution_count": 29,
   "metadata": {},
   "outputs": [
    {
     "data": {
      "image/png": "[encoded data removed]",
      "text/plain": [
       "<Figure size 432x288 with 1 Axes>"
      ]
     },
     "metadata": {
      "needs_background": "light"
     },
     "output_type": "display_data"
    }
   ],
   "source": [
    "data['rooms'].hist(bins= 7, range= (0,7))\n",
    "plt.title('Комнаты')\n",
    "plt.xlabel('Количество комнат')\n",
    "plt.ylabel('Количество объектов')\n",
    "plt.show()"
   ]
  },
  {
   "cell_type": "markdown",
   "metadata": {},
   "source": [
    "**Вывод:** Ноль комнат - это скорее всего, \"квартиры-студии\", 6 комнат тоже возможно, это старые \"коммуналки\". И тех и других, примерно, равное количество, примерно, 1,7% каждого сегмента от всего количества объектов выборки."
   ]
  },
  {
   "cell_type": "markdown",
   "metadata": {},
   "source": [
    "<span style=\"color:brown\">**Изучим высоту потолков**</span>"
   ]
  },
  {
   "cell_type": "code",
   "execution_count": 30,
   "metadata": {},
   "outputs": [
    {
     "data": {
      "image/png": "[encoded data removed]",
      "text/plain": [
       "<Figure size 432x288 with 1 Axes>"
      ]
     },
     "metadata": {
      "needs_background": "light"
     },
     "output_type": "display_data"
    }
   ],
   "source": [
    "data['ceiling_height'].hist(bins= 10)\n",
    "plt.title('Высота потолков')\n",
    "plt.xlabel('Метры')\n",
    "plt.ylabel('Количество объектов')\n",
    "plt.show()"
   ]
  },
  {
   "cell_type": "markdown",
   "metadata": {},
   "source": [
    "**Вывод:** Высота потолков для нашей выборки не более 3,14. Есть совсем немного жилья с потолками около 2,3 м. С большей частотой встречаются потолки 2,5 метра. "
   ]
  },
  {
   "cell_type": "markdown",
   "metadata": {},
   "source": [
    "<span style=\"color:brown\">**Изучим этаж объекта**</span>"
   ]
  },
  {
   "cell_type": "code",
   "execution_count": 31,
   "metadata": {},
   "outputs": [
    {
     "data": {
      "image/png": "[encoded data removed]",
      "text/plain": [
       "<Figure size 432x288 with 1 Axes>"
      ]
     },
     "metadata": {
      "needs_background": "light"
     },
     "output_type": "display_data"
    }
   ],
   "source": [
    "data['floor'].hist(bins= 20)\n",
    "plt.title('Этажи объекта')\n",
    "plt.xlabel('Этажи')\n",
    "plt.ylabel('Количество объектов')\n",
    "plt.show()"
   ]
  },
  {
   "cell_type": "markdown",
   "metadata": {},
   "source": [
    "**Вывод:** Чаще всего встречается жилье на от 1-ого до 4-ого этажа."
   ]
  },
  {
   "cell_type": "markdown",
   "metadata": {},
   "source": [
    "<span style=\"color:brown\">**Изучим тип этажа квартиры («первый», «последний», «другой»)**</span>"
   ]
  },
  {
   "cell_type": "code",
   "execution_count": 32,
   "metadata": {},
   "outputs": [
    {
     "data": {
      "image/png": "[encoded data removed]",
      "text/plain": [
       "<Figure size 432x288 with 1 Axes>"
      ]
     },
     "metadata": {
      "needs_background": "light"
     },
     "output_type": "display_data"
    }
   ],
   "source": [
    "data['floor_type'].hist(bins= 5)\n",
    "plt.title('Тип этажа')\n",
    "plt.xlabel('Этажи')\n",
    "plt.ylabel('Количество объектов')\n",
    "plt.show()"
   ]
  },
  {
   "cell_type": "markdown",
   "metadata": {},
   "source": [
    "**Вывод:** Чаще всего - это не первый и не последний этажи. Квартиры с такой этажностью очень трудно сдать/продать через сайт, обращаются в агенство."
   ]
  },
  {
   "cell_type": "markdown",
   "metadata": {},
   "source": [
    "<span style=\"color:brown\">**Изучим общее количество этажей в доме**</span>"
   ]
  },
  {
   "cell_type": "code",
   "execution_count": 33,
   "metadata": {},
   "outputs": [
    {
     "data": {
      "image/png": "[encoded data removed]",
      "text/plain": [
       "<Figure size 432x288 with 1 Axes>"
      ]
     },
     "metadata": {
      "needs_background": "light"
     },
     "output_type": "display_data"
    }
   ],
   "source": [
    "data['floors_total'].hist(bins=10, range=(0,40))\n",
    "plt.title('Количество этажей в доме')\n",
    "plt.xlabel('Этажи')\n",
    "plt.ylabel('Количество объектов')\n",
    "plt.show()"
   ]
  },
  {
   "cell_type": "markdown",
   "metadata": {},
   "source": [
    "**Вывод:** Больше всего жилья сдают/продают в 5-тиэтажных домах, чуть меньше в новостройках."
   ]
  },
  {
   "cell_type": "markdown",
   "metadata": {},
   "source": [
    "<span style=\"color:brown\">**Изучим расстояние до центра города в метрах**</span>"
   ]
  },
  {
   "cell_type": "code",
   "execution_count": 34,
   "metadata": {},
   "outputs": [
    {
     "data": {
      "image/png": "[encoded data removed]",
      "text/plain": [
       "<Figure size 432x288 with 1 Axes>"
      ]
     },
     "metadata": {
      "needs_background": "light"
     },
     "output_type": "display_data"
    }
   ],
   "source": [
    "data['city_centers_nearest'].hist(bins= 20)\n",
    "plt.title('Расстояние до центра города')\n",
    "plt.xlabel('Метры')\n",
    "plt.ylabel('Количество объектов')\n",
    "plt.show()"
   ]
  },
  {
   "cell_type": "markdown",
   "metadata": {},
   "source": [
    "**Вывод:** Жилье в центре и на окраине реже встречается в объявлении, чаще это удаленность от центра до 15 км. Для такого города как СПб, это не расстояние."
   ]
  },
  {
   "cell_type": "markdown",
   "metadata": {},
   "source": [
    "<span style=\"color:brown\">**Изучим расстояние до до ближайшего аэропорта**</span>"
   ]
  },
  {
   "cell_type": "code",
   "execution_count": 35,
   "metadata": {},
   "outputs": [
    {
     "data": {
      "image/png": "[encoded data removed]",
      "text/plain": [
       "<Figure size 432x288 with 1 Axes>"
      ]
     },
     "metadata": {
      "needs_background": "light"
     },
     "output_type": "display_data"
    }
   ],
   "source": [
    "data['airports_nearest'].hist(bins= 20)\n",
    "plt.title('Расстояние до аэропорта')\n",
    "plt.xlabel('Метры')\n",
    "plt.ylabel('Количество объектов')\n",
    "plt.show()"
   ]
  },
  {
   "cell_type": "markdown",
   "metadata": {},
   "source": [
    "**Вывод:** Ближе к аэропорту количество квартир становится меньше."
   ]
  },
  {
   "cell_type": "markdown",
   "metadata": {},
   "source": [
    "<span style=\"color:brown\">**Изучим расстояние до до ближайшего парка**</span>"
   ]
  },
  {
   "cell_type": "code",
   "execution_count": 36,
   "metadata": {},
   "outputs": [
    {
     "data": {
      "image/png": "[encoded data removed]",
      "text/plain": [
       "<Figure size 432x288 with 1 Axes>"
      ]
     },
     "metadata": {
      "needs_background": "light"
     },
     "output_type": "display_data"
    }
   ],
   "source": [
    "data['parks_nearest'].hist(bins= 20)\n",
    "plt.title('Расстояние до парка')\n",
    "plt.xlabel('Метры')\n",
    "plt.ylabel('Количество объектов')\n",
    "plt.show()"
   ]
  },
  {
   "cell_type": "markdown",
   "metadata": {},
   "source": [
    "**Вывод:** В СПб действительно много мест для отдыха, в том числе, парков. Практичски все жилье находится на расстоянии не более полукилометра. Самое большое - 3 км, но это единичные случаи."
   ]
  },
  {
   "cell_type": "markdown",
   "metadata": {},
   "source": [
    "<span style=\"color:brown\">**Изучим день и месяц публикации объявления**</span>"
   ]
  },
  {
   "cell_type": "code",
   "execution_count": 37,
   "metadata": {},
   "outputs": [
    {
     "data": {
      "image/png": "[encoded data removed]",
      "text/plain": [
       "<Figure size 432x288 with 1 Axes>"
      ]
     },
     "metadata": {
      "needs_background": "light"
     },
     "output_type": "display_data"
    },
    {
     "data": {
      "image/png": "[encoded data removed]",
      "text/plain": [
       "<Figure size 432x288 with 1 Axes>"
      ]
     },
     "metadata": {
      "needs_background": "light"
     },
     "output_type": "display_data"
    }
   ],
   "source": [
    "data['weekday'].hist(bins= 7)#день недели\n",
    "plt.title('День размещения объявления')\n",
    "plt.xlabel('День')\n",
    "plt.ylabel('Количество объектов')\n",
    "plt.show()\n",
    "\n",
    "data['month'].hist(bins= 12)#месяц\n",
    "plt.title('Месяц размещения объявления')\n",
    "plt.xlabel('Месяц')\n",
    "plt.ylabel('Количество объектов')\n",
    "plt.show()"
   ]
  },
  {
   "cell_type": "markdown",
   "metadata": {},
   "source": [
    "**Вывод:** Объявления размещаются в рабочие дни, точнее, со вторника по пятницу (на выходных занимаются просмотром объектов), что логично. Что касается сезонности, то это весенне-осенний период."
   ]
  },
  {
   "cell_type": "markdown",
   "metadata": {},
   "source": [
    "<span style=\"color:blue\">**Задание №1: Сколько обычно занимает продажа. Какие продажи можно считать быстрыми, а какие — долгими.**</span> \n",
    "- Построим гистограмму\n",
    "- Посчитаем среднее и медиану"
   ]
  },
  {
   "cell_type": "code",
   "execution_count": 38,
   "metadata": {},
   "outputs": [
    {
     "data": {
      "image/png": "[encoded data removed]",
      "text/plain": [
       "<Figure size 432x288 with 1 Axes>"
      ]
     },
     "metadata": {
      "needs_background": "light"
     },
     "output_type": "display_data"
    }
   ],
   "source": [
    "data.hist('days_exposition', bins= 20);\n",
    "plt.title('Время продажи')\n",
    "plt.xlabel('Дни')\n",
    "plt.ylabel('Количество объектов')\n",
    "plt.show()"
   ]
  },
  {
   "cell_type": "code",
   "execution_count": 39,
   "metadata": {},
   "outputs": [
    {
     "name": "stdout",
     "output_type": "stream",
     "text": [
      "Среднее время продажи: 128\n",
      "Медианное время продажи: 85\n"
     ]
    }
   ],
   "source": [
    "print('Среднее время продажи:', int(data['days_exposition'].mean()))\n",
    "print('Медианное время продажи:', int(data['days_exposition'].median()))"
   ]
  },
  {
   "cell_type": "markdown",
   "metadata": {},
   "source": [
    "**Вывод:** Итак, в среднем, объявление \"висит\" на сайте до 128 дней. Есть недвижимость, которая продается быстро, буквально в первые дни. Но есть объекты, продажа которых длится несколько месяцев."
   ]
  },
  {
   "cell_type": "markdown",
   "metadata": {},
   "source": [
    "<span style=\"color:blue\">**Задание №2: Какие факторы больше всего влияют на общую (полную) стоимость объекта**</span>\n",
    "- Для того, чтобы увидеть зависимость цены от факторов, воспользуемся построением графиков. Для подготовки данных перед визуализацией будем использовать сводные таблицы\n",
    "- Рассчитаем корреляцию"
   ]
  },
  {
   "cell_type": "markdown",
   "metadata": {},
   "source": [
    "<span style=\"color:brown\">**Зависимость цены от общей площади жилья**</span> "
   ]
  },
  {
   "cell_type": "code",
   "execution_count": 40,
   "metadata": {},
   "outputs": [
    {
     "data": {
      "image/png": "[encoded data removed]",
      "text/plain": [
       "<Figure size 504x360 with 1 Axes>"
      ]
     },
     "metadata": {
      "needs_background": "light"
     },
     "output_type": "display_data"
    },
    {
     "name": "stdout",
     "output_type": "stream",
     "text": [
      "Корреляция: 0.69\n"
     ]
    }
   ],
   "source": [
    "data.pivot_table(index= 'total_area', values= 'last_price').plot(grid= True, style= 'o', figsize= (7, 5))\n",
    "plt.title('Зависимость цены от общей площади жилья')\n",
    "plt.xlabel('кв.м')\n",
    "plt.ylabel('Стоимость')\n",
    "plt.show()\n",
    "print('Корреляция:', data['last_price'].corr(data['total_area']).round(2))"
   ]
  },
  {
   "cell_type": "markdown",
   "metadata": {},
   "source": [
    "<span style=\"color:brown\">**Зависимость цены от жилой площади**</span> "
   ]
  },
  {
   "cell_type": "code",
   "execution_count": 41,
   "metadata": {},
   "outputs": [
    {
     "data": {
      "image/png": "[encoded data removed]",
      "text/plain": [
       "<Figure size 504x360 with 1 Axes>"
      ]
     },
     "metadata": {
      "needs_background": "light"
     },
     "output_type": "display_data"
    },
    {
     "name": "stdout",
     "output_type": "stream",
     "text": [
      "Корреляция: 0.57\n"
     ]
    }
   ],
   "source": [
    "data.pivot_table(index='living_area', values='last_price').plot(grid=True, style='o', figsize=(7, 5))\n",
    "plt.title('Зависимость цены от жилой площади')\n",
    "plt.xlabel('кв.м')\n",
    "plt.ylabel('Стоимость')\n",
    "plt.show()\n",
    "print('Корреляция:', data['last_price'].corr(data['living_area']).round(2))"
   ]
  },
  {
   "cell_type": "markdown",
   "metadata": {},
   "source": [
    "<span style=\"color:brown\">**Зависимость цены от площади кухни**</span> "
   ]
  },
  {
   "cell_type": "code",
   "execution_count": 42,
   "metadata": {},
   "outputs": [
    {
     "data": {
      "image/png": "[encoded data removed]",
      "text/plain": [
       "<Figure size 504x360 with 1 Axes>"
      ]
     },
     "metadata": {
      "needs_background": "light"
     },
     "output_type": "display_data"
    },
    {
     "name": "stdout",
     "output_type": "stream",
     "text": [
      "Корреляция: 0.48\n"
     ]
    }
   ],
   "source": [
    "data.pivot_table(index= 'kitchen_area', values= 'last_price').plot(grid= True, style= 'o', figsize= (7, 5))\n",
    "plt.title('Зависимость цены от площади кухни')\n",
    "plt.xlabel('кв.м')\n",
    "plt.ylabel('Стоимость')\n",
    "plt.show()\n",
    "print('Корреляция:', data['last_price'].corr(data['kitchen_area']).round(2))"
   ]
  },
  {
   "cell_type": "markdown",
   "metadata": {},
   "source": [
    "<span style=\"color:brown\">**Зависимость цены от количества комнат**</span>"
   ]
  },
  {
   "cell_type": "code",
   "execution_count": 43,
   "metadata": {},
   "outputs": [
    {
     "data": {
      "image/png": "[encoded data removed]",
      "text/plain": [
       "<Figure size 504x360 with 1 Axes>"
      ]
     },
     "metadata": {
      "needs_background": "light"
     },
     "output_type": "display_data"
    },
    {
     "name": "stdout",
     "output_type": "stream",
     "text": [
      "Корреляция: 0.44\n"
     ]
    }
   ],
   "source": [
    "data.pivot_table(index= 'rooms', values='last_price').plot(grid= True, style= 'o-', figsize= (7, 5))\n",
    "plt.title('Зависимость цены от количества комнат')\n",
    "plt.xlabel('Количество комнат')\n",
    "plt.ylabel('Стоимость')\n",
    "plt.show()\n",
    "print('Корреляция:', data['last_price'].corr(data['rooms']).round(2))"
   ]
  },
  {
   "cell_type": "markdown",
   "metadata": {},
   "source": [
    "<span style=\"color:brown\">**Зависимость цены от типа этажа, на котором расположена квартира (первый, последний, другой)**</span>"
   ]
  },
  {
   "cell_type": "code",
   "execution_count": 44,
   "metadata": {},
   "outputs": [
    {
     "data": {
      "image/png": "[encoded data removed]",
      "text/plain": [
       "<Figure size 504x360 with 1 Axes>"
      ]
     },
     "metadata": {
      "needs_background": "light"
     },
     "output_type": "display_data"
    }
   ],
   "source": [
    "data.pivot_table(index= 'floor_type', values= 'last_price').plot(grid= True, style= 'o-', figsize= (7, 5))\n",
    "plt.title('Зависимость цены от типа этажа')\n",
    "plt.xlabel('Этаж')\n",
    "plt.ylabel('Стоимость')\n",
    "plt.show()"
   ]
  },
  {
   "cell_type": "markdown",
   "metadata": {},
   "source": [
    "<span style=\"color:brown\">**Зависимость цены от даты размещения объявления**</span>"
   ]
  },
  {
   "cell_type": "code",
   "execution_count": 45,
   "metadata": {},
   "outputs": [
    {
     "data": {
      "image/png": "[encoded data removed]",
      "text/plain": [
       "<Figure size 504x360 with 1 Axes>"
      ]
     },
     "metadata": {
      "needs_background": "light"
     },
     "output_type": "display_data"
    }
   ],
   "source": [
    "data.pivot_table(index= 'weekday', values= 'last_price').plot(grid= True, style= 'o-', figsize= (7, 5))\n",
    "plt.title('Зависимость цены от дня недели')\n",
    "plt.xlabel('День недели')\n",
    "plt.ylabel('Стоимость')\n",
    "plt.show()"
   ]
  },
  {
   "cell_type": "code",
   "execution_count": 46,
   "metadata": {},
   "outputs": [
    {
     "data": {
      "image/png": "[encoded data removed]",
      "text/plain": [
       "<Figure size 504x360 with 1 Axes>"
      ]
     },
     "metadata": {
      "needs_background": "light"
     },
     "output_type": "display_data"
    }
   ],
   "source": [
    "data.pivot_table(index= 'month', values= 'last_price').plot(grid= True, style= 'o-', figsize= (7, 5))\n",
    "plt.title('Зависимость цены от месяца')\n",
    "plt.xlabel('Месяц')\n",
    "plt.ylabel('Стоимость')\n",
    "plt.show()"
   ]
  },
  {
   "cell_type": "code",
   "execution_count": 47,
   "metadata": {},
   "outputs": [
    {
     "data": {
      "image/png": "[encoded data removed]",
      "text/plain": [
       "<Figure size 504x360 with 1 Axes>"
      ]
     },
     "metadata": {
      "needs_background": "light"
     },
     "output_type": "display_data"
    }
   ],
   "source": [
    "data.pivot_table(index= 'year', values= 'last_price').plot(grid= True, style= 'o-', figsize= (7, 5))\n",
    "plt.title('Зависимость цены от года')\n",
    "plt.xlabel('Год')\n",
    "plt.ylabel('Стоимость')\n",
    "plt.show()"
   ]
  },
  {
   "cell_type": "markdown",
   "metadata": {},
   "source": [
    "- Необходимо посмотреть на влияние цены объекта от такого параметра, как \"удаленность от центра\". Ранее в исследовании, на гистограмме было видно, что большая часть жилья расположена именно в локации ближе к центру. Посмотрим ее вляние на стоимость.*"
   ]
  },
  {
   "cell_type": "code",
   "execution_count": 48,
   "metadata": {},
   "outputs": [
    {
     "data": {
      "image/png": "[encoded data removed]",
      "text/plain": [
       "<Figure size 504x360 with 1 Axes>"
      ]
     },
     "metadata": {
      "needs_background": "light"
     },
     "output_type": "display_data"
    },
    {
     "name": "stdout",
     "output_type": "stream",
     "text": [
      "Корреляция: -0.35\n"
     ]
    }
   ],
   "source": [
    "data.pivot_table(index='city_centers_nearest', values='last_price').plot(grid=True, style='o', figsize=(7, 5))\n",
    "plt.title('Зависимость цены от удаленности до центра')\n",
    "plt.xlabel('Метры')\n",
    "plt.ylabel('Стоимость')\n",
    "plt.show()\n",
    "print('Корреляция:', data['last_price'].corr(data['city_centers_nearest']).round(2))"
   ]
  },
  {
   "cell_type": "markdown",
   "metadata": {},
   "source": [
    "**Вывод общий:**\n",
    "1. **Площадь:** Общая и жилая площади напрямую влияют на цену объекта недвижимости: чем больше площадь, тем выше стоимость. Коэффициент корреляции этих параметров находится в диапазоне 0,50-0,74 - это положительная высокая связь факторов. Площадь кухни влияет уже слабее, корреляция 0,48. \n",
    "2. **Число комнат** тоже влияет на стоимость жилья: больше комнат - выше цена. Но корреляция всего 0,44. Тут тоже понятно, комнаты по площади разные, бывают и очень маленькие и достаточно большими. Раздельные комнаты важны для определенного спроса. Поэтому такая и зависимость слабее. \n",
    "3. **Этаж.** Объекты недвижимости, расположенный на 1-ом этаже гораздо ниже в цене, так было всегда. На последнем этаже - немного дороже первого. Прямо пропорционально растет цена на недвижимость, расположенной не на первом и не на последнем этажах.\n",
    "4. Зависимости цены от **Времени размещения объявления**. \n",
    "5. **В центре города** есть и очень дорогое жилье и варианты подешевле. Корреляция средняя отрицательная, -0,35.    "
   ]
  },
  {
   "cell_type": "markdown",
   "metadata": {},
   "source": [
    "<span style=\"color:blue\">**Задание №3.Какая самая высокая и низкая стоимость квадратного метра в  10 населённых пунктах с наибольшим числом объявлений.**</span>\n"
   ]
  },
  {
   "cell_type": "code",
   "execution_count": 49,
   "metadata": {},
   "outputs": [
    {
     "data": {
      "text/html": [
       "<div>\n",
       "<style scoped>\n",
       "    .dataframe tbody tr th:only-of-type {\n",
       "        vertical-align: middle;\n",
       "    }\n",
       "\n",
       "    .dataframe tbody tr th {\n",
       "        vertical-align: top;\n",
       "    }\n",
       "\n",
       "    .dataframe thead th {\n",
       "        text-align: right;\n",
       "    }\n",
       "</style>\n",
       "<table border=\"1\" class=\"dataframe\">\n",
       "  <thead>\n",
       "    <tr style=\"text-align: right;\">\n",
       "      <th></th>\n",
       "      <th>square_meter_price</th>\n",
       "    </tr>\n",
       "    <tr>\n",
       "      <th>locality_name</th>\n",
       "      <th></th>\n",
       "    </tr>\n",
       "  </thead>\n",
       "  <tbody>\n",
       "    <tr>\n",
       "      <th>Санкт-Петербург</th>\n",
       "      <td>114848</td>\n",
       "    </tr>\n",
       "    <tr>\n",
       "      <th>Пушкин</th>\n",
       "      <td>103125</td>\n",
       "    </tr>\n",
       "    <tr>\n",
       "      <th>деревня Кудрово</th>\n",
       "      <td>92473</td>\n",
       "    </tr>\n",
       "    <tr>\n",
       "      <th>поселок Парголово</th>\n",
       "      <td>90175</td>\n",
       "    </tr>\n",
       "    <tr>\n",
       "      <th>поселок Мурино</th>\n",
       "      <td>85681</td>\n",
       "    </tr>\n",
       "    <tr>\n",
       "      <th>поселок Шушары</th>\n",
       "      <td>78676</td>\n",
       "    </tr>\n",
       "    <tr>\n",
       "      <th>Колпино</th>\n",
       "      <td>75424</td>\n",
       "    </tr>\n",
       "    <tr>\n",
       "      <th>Гатчина</th>\n",
       "      <td>68745</td>\n",
       "    </tr>\n",
       "    <tr>\n",
       "      <th>Всеволожск</th>\n",
       "      <td>68654</td>\n",
       "    </tr>\n",
       "    <tr>\n",
       "      <th>Выборг</th>\n",
       "      <td>58141</td>\n",
       "    </tr>\n",
       "  </tbody>\n",
       "</table>\n",
       "</div>"
      ],
      "text/plain": [
       "                   square_meter_price\n",
       "locality_name                        \n",
       "Санкт-Петербург                114848\n",
       "Пушкин                         103125\n",
       "деревня Кудрово                 92473\n",
       "поселок Парголово               90175\n",
       "поселок Мурино                  85681\n",
       "поселок Шушары                  78676\n",
       "Колпино                         75424\n",
       "Гатчина                         68745\n",
       "Всеволожск                      68654\n",
       "Выборг                          58141"
      ]
     },
     "execution_count": 49,
     "metadata": {},
     "output_type": "execute_result"
    }
   ],
   "source": [
    "town_10_group = data['locality_name'].value_counts().head(10)# создадим список ТОП 10 городов \n",
    "town_meter_price = data.query('locality_name in (@town_10_group.index)').pivot_table(index='locality_name', values='square_meter_price')\n",
    "town_meter_price = town_meter_price.astype(int)# в целочисленное значение\n",
    "town_meter_price.sort_values('square_meter_price', ascending=False)# осортируем по убыванию"
   ]
  },
  {
   "cell_type": "markdown",
   "metadata": {},
   "source": [
    "**Вывод:** \n",
    "1. Самая высокая средняя стоимость квадратного метра в Санкт-Петербурге, 114 848 за кв.м., и это не удивительно.\n",
    "2. В г. Пушкин жилье чуть дешевле, но ненамного, 103 125 за кв.м.. Пушкин - крупный туристический, научный, учебный и военно-промышленный центр. Включён в список памятников, охраняемых ЮНЕСКО. Этим и обусловлена цена на жилье.\n",
    "3. Далее, по мере убывания в рейтинге, населенные пункты, которые расположены от СПб на расстоянии до 20 км. Это, фактически, сам город. Цена снижается до 75 424 за кв.м.\n",
    "3. Наименьшая стоимостьз в Гатчине; 68 745 за кв.м., Всеволожске; 68 654 за кв.м., и Выборге: 58 141 за кв.м.. Это районы, из которых нужно добираться до Санкт-Петербурга не менее 40- 60 минут, из Выборга до 2 часов на машине. "
   ]
  },
  {
   "cell_type": "code",
   "execution_count": 50,
   "metadata": {},
   "outputs": [
    {
     "data": {
      "image/png": "[encoded data removed]",
      "text/plain": [
       "<Figure size 936x360 with 1 Axes>"
      ]
     },
     "metadata": {
      "needs_background": "light"
     },
     "output_type": "display_data"
    }
   ],
   "source": [
    "(\n",
    "    data.query('locality_name in (@town_10_group.index)').\n",
    "    pivot_table(index='locality_name', values='square_meter_price').\n",
    "    plot(kind='bar', xlim=(0,10), figsize=(13, 5), )\n",
    ")\n",
    "plt.title('ТОП 10 городов')\n",
    "plt.xlabel('Населенный пункт')\n",
    "plt.ylabel('цена за кв.м')\n",
    "plt.show()"
   ]
  },
  {
   "cell_type": "code",
   "execution_count": 51,
   "metadata": {},
   "outputs": [
    {
     "data": {
      "image/png": "[encoded data removed]",
      "text/plain": [
       "<Figure size 936x360 with 1 Axes>"
      ]
     },
     "metadata": {
      "needs_background": "light"
     },
     "output_type": "display_data"
    }
   ],
   "source": [
    "#сортируем по возрастанию\n",
    "(\n",
    "    data.query('locality_name in (@town_10_group.index)').\n",
    "    pivot_table(index='locality_name', values='square_meter_price').\n",
    "    sort_values(by='square_meter_price').\n",
    "    plot(kind='bar', xlim=(0,10), figsize=(13, 5), )\n",
    ");\n"
   ]
  },
  {
   "cell_type": "markdown",
   "metadata": {},
   "source": [
    "<span style=\"color:blue\">**Задание №4: Как стоимость объектов зависит от расстояния до центра города в Санкт-Петербурге.**</span>"
   ]
  },
  {
   "cell_type": "markdown",
   "metadata": {},
   "source": [
    "- **'distance_to_center'** - расстояние до центра, км. Воспользуемся \"Бритвой Оккама\". Посторим столбчатую диаграмму."
   ]
  },
  {
   "cell_type": "code",
   "execution_count": 52,
   "metadata": {},
   "outputs": [
    {
     "data": {
      "image/png": "[encoded data removed]",
      "text/plain": [
       "<Figure size 936x360 with 1 Axes>"
      ]
     },
     "metadata": {
      "needs_background": "light"
     },
     "output_type": "display_data"
    }
   ],
   "source": [
    "(\n",
    "    data.query('locality_name == \"Санкт-Петербург\"').\n",
    "    pivot_table(index='distance_to_center',values='last_price',aggfunc='mean')\n",
    "    .plot(kind='bar', xlim=(0,5), figsize=(13, 5))\n",
    ")\n",
    "plt.title('Удаленность от центра Санкт-Петербург')\n",
    "plt.xlabel('Расстояние')\n",
    "plt.ylabel('Количество объектов')\n",
    "plt.show()"
   ]
  },
  {
   "cell_type": "markdown",
   "metadata": {},
   "source": [
    "**Вывод:**\n",
    "1. Самая высокая цена на недвижимость в центре города.\n",
    "2. По мере увеличения расстояния  от ценра цена снижается, но остается высокой, ориентировочно, до 8 км.\n",
    "3. Далее цены заметно ниже средней стоимости жилья, 6 млн., падают до 4 млн.\n",
    "4. Есть некоторые районы на удалении 20-22км (там будут сроить КАД-2), и 28 км. - это жилье с видом на Неву."
   ]
  },
  {
   "cell_type": "markdown",
   "metadata": {},
   "source": [
    "**ОБЩИЙ ВЫВОД:**"
   ]
  },
  {
   "cell_type": "markdown",
   "metadata": {},
   "source": [
    "Нами было проведено исследование, задачей которого было установить параметры, определяющие рыночную стоимость объектов недвижимости. \n",
    "\n",
    "Входные данные от сервиса **Яндекс.Недвижимость** — архив объявлений о продаже квартир в Санкт-Петербурге и соседних населённых пунктах за несколько лет.\n",
    "\n",
    "Результаты исследования позволят построить автоматизированную систему: она отследит аномалии и мошенническую деятельность.\n",
    "\n",
    "Необходимо было определить:\n",
    "1. Сколько времени обычно занимает продажа недвижимости. Какие сделки можно считать быстрыми, а какие — долгими.\n",
    "2. Какие факторы больше всего влияют на общую (полную) стоимость объекта\n",
    "3. Какая самая высокая и низкая стоимость квадратного метра в ТОП-10 населённых пунктах с наибольшим числом объявлений. \n",
    "4. Как стоимость объектов зависит от расстояния до центра города в Санкт-Петербурге. \n",
    "\n",
    "Проведя исследования по предоставленным данным, выявили следующее:\n",
    "\n",
    "**Задача №1:** \n",
    " \n",
    "   - В среднем продажа объекта занимает до 128 дней.\n",
    "   - Медианное значение -85 дней.\n",
    "   - Сделки менее 30 дней можно считать быстрыми.\n",
    "   - Долгие продажи - от нескольких месяцев, в нашем случае от полугода.\n",
    "\n",
    "**Задача №2:** \n",
    "   \n",
    "   - Общая и жилая площади напрямую влияют на цену объекта недвижимости: чем больше площадь, тем выше стоимость. \n",
    "   - Число комнат тоже влияет на стоимость жилья: больше комнат - выше цена. \n",
    "   - Объекты недвижимости, расположенный на 1-ом этаже гораздо ниже в цене. Далее по возрастанию жилье на последнем этаже. Прямо пропорционально растет цена на недвижимость, расположенной не на первом и не на последнем этажах.\n",
    "   - Цена не зависит от времени размещения объявления нет. \n",
    "   - В центре города есть и очень дорогое жилье и варианты подешевле.    \n",
    "\n",
    "**Задача №3:** \n",
    "   \n",
    "- Самая высокая средняя стоимость квадратного метра в Санкт-Петербурге, 114 848 за кв.м.\n",
    "- Наименьшая стоимостьз в Гатчине; 68 745 за кв.м., Всеволожске; 68 654 за кв.м., и Выборге: 58 141 за кв.м.. \n",
    "\n",
    "**Задача №4:** \n",
    "\n",
    "- Самая высокая цена на недвижимость в центре города.\n",
    "- Цены заметно ниже после 8 км удаленности отцентра.\n",
    "- Есть некоторые районы на удалении 20-22км (там будут сроить КАД-2), и 28 км. по цене близкой к центру города.\n",
    "\n",
    "**ОБЩИЕ РЕКОМЕНДАЦИИ**\n",
    "1. Прежде, чем провести исследование, много времени ушло на обработку данных: много некорректных значений. Поэтому, в дальнейшем, лучше скорректировать файл насколько возможно: заполнить пропуски, или просмотреть значения на разрядность.\n",
    "2. Для неявных дубликатов: изначально сформировать словарь с названиями населенных пунктов.\n",
    "3. Добавить для исследования такой параметр, как \"удаленность от станции метро\"."
   ]
  },
  {
   "cell_type": "markdown",
   "metadata": {},
   "source": [
    "**Чек-лист готовности проекта**\n",
    "\n",
    "Поставьте 'x' в выполненных пунктах. Далее нажмите Shift+Enter."
   ]
  },
  {
   "cell_type": "markdown",
   "metadata": {},
   "source": [
    "- [x]  открыт файл\n",
    "- [x]  файлы изучены (выведены первые строки, метод `info()`, гистограммы и т.д.)\n",
    "- [x]  определены пропущенные значения\n",
    "- [x]  заполнены пропущенные значения там, где это возможно\n",
    "- [x]  есть пояснение, какие пропущенные значения обнаружены\n",
    "- [x]  изменены типы данных\n",
    "- [x]  есть пояснение, в каких столбцах изменены типы и почему\n",
    "- [x]  устранены неявные дубликаты в названиях населённых пунктов\n",
    "- [x]  устранены редкие и выбивающиеся значения (аномалии) во всех столбцах\n",
    "- [x]  посчитано и добавлено в таблицу: цена одного квадратного метра\n",
    "- [x]  посчитано и добавлено в таблицу: день публикации объявления (0 - понедельник, 1 - вторник и т.д.)\n",
    "- [x]  посчитано и добавлено в таблицу: месяц публикации объявления\n",
    "- [x]  посчитано и добавлено в таблицу: год публикации объявления\n",
    "- [x]  посчитано и добавлено в таблицу: тип этажа квартиры (значения — «первый», «последний», «другой»)\n",
    "- [x]  посчитано и добавлено в таблицу: расстояние в км до центра города\n",
    "- [x]  изучены и описаны следующие параметры:\n",
    "        - общая площадь;\n",
    "        - жилая площадь;\n",
    "        - площадь кухни;\n",
    "        - цена объекта;\n",
    "        - количество комнат;\n",
    "        - высота потолков;\n",
    "        - этаж квартиры;\n",
    "        - тип этажа квартиры («первый», «последний», «другой»);\n",
    "        - общее количество этажей в доме;\n",
    "        - расстояние до центра города в метрах;\n",
    "        - расстояние до ближайшего аэропорта;\n",
    "        - расстояние до ближайшего парка;\n",
    "        - день и месяц публикации объявления\n",
    "- [x]  построены гистограммы для каждого параметра\n",
    "- [x]  выполнено задание: \"Изучите, как быстро продавались квартиры (столбец days_exposition). Этот параметр показывает, сколько дней «висело» каждое объявление.\n",
    "    - Постройте гистограмму.\n",
    "    - Посчитайте среднее и медиану.\n",
    "    - В ячейке типа markdown опишите, сколько обычно занимает продажа. Какие продажи можно считать быстрыми, а какие — необычно долгими?\"\n",
    "- [x]  выполнено задание: \"Какие факторы больше всего влияют на общую (полную) стоимость объекта? Постройте графики, которые покажут зависимость цены от указанных ниже параметров. Для подготовки данных перед визуализацией вы можете использовать сводные таблицы.\"\n",
    "        - общей площади;\n",
    "        - жилой площади;\n",
    "        - площади кухни;\n",
    "        - количество комнат;\n",
    "        - типа этажа, на котором расположена квартира (первый, последний, другой);\n",
    "        - даты размещения (день недели, месяц, год);\n",
    "- [x]  выполнено задание: \"Посчитайте среднюю цену одного квадратного метра в 10 населённых пунктах с наибольшим числом объявлений. Выделите населённые пункты с самой высокой и низкой стоимостью квадратного метра. Эти данные можно найти по имени в столбце `locality_name`.\"\n",
    "- [x]  выполнено задание: \"Ранее вы посчитали расстояние до центра в километрах. Теперь выделите квартиры в Санкт-Петербурге с помощью столбца `locality_name` и вычислите среднюю цену каждого километра. Опишите, как стоимость объектов зависит от расстояния до центра города.\"\n",
    "- [x]  в каждом этапе есть промежуточные выводы\n",
    "- [x]  есть общий вывод"
   ]
  }
 ],
 "metadata": {
  "ExecuteTimeLog": [
   {
    "duration": 57,
    "start_time": "2023-01-20T17:22:02.385Z"
   },
   {
    "duration": 7,
    "start_time": "2023-01-20T17:23:13.126Z"
   },
   {
    "duration": 429,
    "start_time": "2023-01-20T17:24:00.635Z"
   },
   {
    "duration": 163,
    "start_time": "2023-01-20T17:24:03.674Z"
   },
   {
    "duration": 98,
    "start_time": "2023-01-20T17:24:06.767Z"
   },
   {
    "duration": 3,
    "start_time": "2023-01-20T17:24:12.120Z"
   },
   {
    "duration": 100,
    "start_time": "2023-01-20T17:24:14.830Z"
   },
   {
    "duration": 93,
    "start_time": "2023-01-20T17:24:40.537Z"
   },
   {
    "duration": 2762,
    "start_time": "2023-01-20T17:30:47.698Z"
   },
   {
    "duration": 100,
    "start_time": "2023-01-20T17:31:27.536Z"
   },
   {
    "duration": 46,
    "start_time": "2023-01-20T17:36:23.050Z"
   },
   {
    "duration": 36,
    "start_time": "2023-01-20T17:36:35.950Z"
   },
   {
    "duration": 38,
    "start_time": "2023-01-20T17:37:10.763Z"
   },
   {
    "duration": 1512,
    "start_time": "2023-01-27T13:01:45.696Z"
   },
   {
    "duration": 13,
    "start_time": "2023-01-27T13:01:47.211Z"
   },
   {
    "duration": 67,
    "start_time": "2023-01-27T13:01:47.225Z"
   },
   {
    "duration": 158,
    "start_time": "2023-01-27T13:01:47.295Z"
   },
   {
    "duration": 0,
    "start_time": "2023-01-27T13:01:47.456Z"
   },
   {
    "duration": 0,
    "start_time": "2023-01-27T13:01:47.458Z"
   },
   {
    "duration": 0,
    "start_time": "2023-01-27T13:01:47.459Z"
   },
   {
    "duration": 0,
    "start_time": "2023-01-27T13:01:47.460Z"
   },
   {
    "duration": 0,
    "start_time": "2023-01-27T13:01:47.462Z"
   },
   {
    "duration": 0,
    "start_time": "2023-01-27T13:01:47.463Z"
   },
   {
    "duration": 0,
    "start_time": "2023-01-27T13:01:47.464Z"
   },
   {
    "duration": 0,
    "start_time": "2023-01-27T13:01:47.465Z"
   },
   {
    "duration": 0,
    "start_time": "2023-01-27T13:01:47.467Z"
   },
   {
    "duration": 0,
    "start_time": "2023-01-27T13:01:47.468Z"
   },
   {
    "duration": 0,
    "start_time": "2023-01-27T13:01:47.469Z"
   },
   {
    "duration": 0,
    "start_time": "2023-01-27T13:01:47.470Z"
   },
   {
    "duration": 0,
    "start_time": "2023-01-27T13:01:47.472Z"
   },
   {
    "duration": 0,
    "start_time": "2023-01-27T13:01:47.503Z"
   },
   {
    "duration": 0,
    "start_time": "2023-01-27T13:01:47.505Z"
   },
   {
    "duration": 0,
    "start_time": "2023-01-27T13:01:47.506Z"
   },
   {
    "duration": 0,
    "start_time": "2023-01-27T13:01:47.508Z"
   },
   {
    "duration": 0,
    "start_time": "2023-01-27T13:01:47.509Z"
   },
   {
    "duration": 0,
    "start_time": "2023-01-27T13:01:47.510Z"
   },
   {
    "duration": 0,
    "start_time": "2023-01-27T13:01:47.511Z"
   },
   {
    "duration": 0,
    "start_time": "2023-01-27T13:01:47.512Z"
   },
   {
    "duration": 0,
    "start_time": "2023-01-27T13:01:47.513Z"
   },
   {
    "duration": 0,
    "start_time": "2023-01-27T13:01:47.514Z"
   },
   {
    "duration": 0,
    "start_time": "2023-01-27T13:01:47.516Z"
   },
   {
    "duration": 0,
    "start_time": "2023-01-27T13:01:47.517Z"
   },
   {
    "duration": 0,
    "start_time": "2023-01-27T13:01:47.518Z"
   },
   {
    "duration": 0,
    "start_time": "2023-01-27T13:01:47.519Z"
   },
   {
    "duration": 0,
    "start_time": "2023-01-27T13:01:47.520Z"
   },
   {
    "duration": 0,
    "start_time": "2023-01-27T13:01:47.521Z"
   },
   {
    "duration": 0,
    "start_time": "2023-01-27T13:01:47.522Z"
   },
   {
    "duration": 0,
    "start_time": "2023-01-27T13:01:47.523Z"
   },
   {
    "duration": 0,
    "start_time": "2023-01-27T13:01:47.524Z"
   },
   {
    "duration": 0,
    "start_time": "2023-01-27T13:01:47.525Z"
   },
   {
    "duration": 0,
    "start_time": "2023-01-27T13:01:47.526Z"
   },
   {
    "duration": 0,
    "start_time": "2023-01-27T13:01:47.527Z"
   },
   {
    "duration": 0,
    "start_time": "2023-01-27T13:01:47.528Z"
   },
   {
    "duration": 0,
    "start_time": "2023-01-27T13:01:47.529Z"
   },
   {
    "duration": 0,
    "start_time": "2023-01-27T13:01:47.530Z"
   },
   {
    "duration": 0,
    "start_time": "2023-01-27T13:01:47.532Z"
   },
   {
    "duration": 0,
    "start_time": "2023-01-27T13:01:47.532Z"
   },
   {
    "duration": 0,
    "start_time": "2023-01-27T13:01:47.534Z"
   },
   {
    "duration": 0,
    "start_time": "2023-01-27T13:01:47.534Z"
   },
   {
    "duration": 0,
    "start_time": "2023-01-27T13:01:47.536Z"
   },
   {
    "duration": 0,
    "start_time": "2023-01-27T13:01:47.537Z"
   },
   {
    "duration": 0,
    "start_time": "2023-01-27T13:01:47.538Z"
   },
   {
    "duration": 1830,
    "start_time": "2023-01-27T20:18:35.167Z"
   },
   {
    "duration": 17,
    "start_time": "2023-01-27T20:18:37.049Z"
   },
   {
    "duration": 106,
    "start_time": "2023-01-27T20:18:37.067Z"
   },
   {
    "duration": 119,
    "start_time": "2023-01-27T20:18:37.175Z"
   },
   {
    "duration": 0,
    "start_time": "2023-01-27T20:18:37.297Z"
   },
   {
    "duration": 0,
    "start_time": "2023-01-27T20:18:37.299Z"
   },
   {
    "duration": 0,
    "start_time": "2023-01-27T20:18:37.300Z"
   },
   {
    "duration": 0,
    "start_time": "2023-01-27T20:18:37.302Z"
   },
   {
    "duration": 0,
    "start_time": "2023-01-27T20:18:37.303Z"
   },
   {
    "duration": 0,
    "start_time": "2023-01-27T20:18:37.304Z"
   },
   {
    "duration": 0,
    "start_time": "2023-01-27T20:18:37.305Z"
   },
   {
    "duration": 0,
    "start_time": "2023-01-27T20:18:37.306Z"
   },
   {
    "duration": 0,
    "start_time": "2023-01-27T20:18:37.307Z"
   },
   {
    "duration": 0,
    "start_time": "2023-01-27T20:18:37.309Z"
   },
   {
    "duration": 0,
    "start_time": "2023-01-27T20:18:37.310Z"
   },
   {
    "duration": 0,
    "start_time": "2023-01-27T20:18:37.311Z"
   },
   {
    "duration": 0,
    "start_time": "2023-01-27T20:18:37.313Z"
   },
   {
    "duration": 0,
    "start_time": "2023-01-27T20:18:37.314Z"
   },
   {
    "duration": 0,
    "start_time": "2023-01-27T20:18:37.353Z"
   },
   {
    "duration": 0,
    "start_time": "2023-01-27T20:18:37.355Z"
   },
   {
    "duration": 0,
    "start_time": "2023-01-27T20:18:37.356Z"
   },
   {
    "duration": 0,
    "start_time": "2023-01-27T20:18:37.356Z"
   },
   {
    "duration": 0,
    "start_time": "2023-01-27T20:18:37.357Z"
   },
   {
    "duration": 0,
    "start_time": "2023-01-27T20:18:37.358Z"
   },
   {
    "duration": 0,
    "start_time": "2023-01-27T20:18:37.361Z"
   },
   {
    "duration": 0,
    "start_time": "2023-01-27T20:18:37.362Z"
   },
   {
    "duration": 0,
    "start_time": "2023-01-27T20:18:37.363Z"
   },
   {
    "duration": 0,
    "start_time": "2023-01-27T20:18:37.364Z"
   },
   {
    "duration": 0,
    "start_time": "2023-01-27T20:18:37.364Z"
   },
   {
    "duration": 0,
    "start_time": "2023-01-27T20:18:37.367Z"
   },
   {
    "duration": 0,
    "start_time": "2023-01-27T20:18:37.368Z"
   },
   {
    "duration": 0,
    "start_time": "2023-01-27T20:18:37.368Z"
   },
   {
    "duration": 0,
    "start_time": "2023-01-27T20:18:37.369Z"
   },
   {
    "duration": 0,
    "start_time": "2023-01-27T20:18:37.370Z"
   },
   {
    "duration": 0,
    "start_time": "2023-01-27T20:18:37.371Z"
   },
   {
    "duration": 0,
    "start_time": "2023-01-27T20:18:37.371Z"
   },
   {
    "duration": 0,
    "start_time": "2023-01-27T20:18:37.375Z"
   },
   {
    "duration": 0,
    "start_time": "2023-01-27T20:18:37.377Z"
   },
   {
    "duration": 0,
    "start_time": "2023-01-27T20:18:37.378Z"
   },
   {
    "duration": 0,
    "start_time": "2023-01-27T20:18:37.379Z"
   },
   {
    "duration": 0,
    "start_time": "2023-01-27T20:18:37.380Z"
   },
   {
    "duration": 0,
    "start_time": "2023-01-27T20:18:37.381Z"
   },
   {
    "duration": 0,
    "start_time": "2023-01-27T20:18:37.381Z"
   },
   {
    "duration": 0,
    "start_time": "2023-01-27T20:18:37.382Z"
   },
   {
    "duration": 0,
    "start_time": "2023-01-27T20:18:37.385Z"
   },
   {
    "duration": 0,
    "start_time": "2023-01-27T20:18:37.386Z"
   },
   {
    "duration": 0,
    "start_time": "2023-01-27T20:18:37.386Z"
   },
   {
    "duration": 0,
    "start_time": "2023-01-27T20:18:37.395Z"
   },
   {
    "duration": 0,
    "start_time": "2023-01-27T20:18:37.396Z"
   },
   {
    "duration": 50,
    "start_time": "2023-01-28T05:34:55.912Z"
   },
   {
    "duration": 1472,
    "start_time": "2023-01-28T05:34:59.827Z"
   },
   {
    "duration": 157,
    "start_time": "2023-01-28T05:35:49.380Z"
   },
   {
    "duration": 139,
    "start_time": "2023-01-28T05:35:52.976Z"
   },
   {
    "duration": 38,
    "start_time": "2023-01-28T05:35:55.682Z"
   },
   {
    "duration": 35,
    "start_time": "2023-01-28T05:36:31.841Z"
   },
   {
    "duration": 2078,
    "start_time": "2023-01-28T05:36:39.608Z"
   },
   {
    "duration": 10,
    "start_time": "2023-01-28T05:36:56.672Z"
   },
   {
    "duration": 30,
    "start_time": "2023-01-28T05:37:03.494Z"
   },
   {
    "duration": 29,
    "start_time": "2023-01-28T05:37:11.358Z"
   },
   {
    "duration": 5,
    "start_time": "2023-01-28T05:37:18.351Z"
   },
   {
    "duration": 6,
    "start_time": "2023-01-28T05:37:22.074Z"
   },
   {
    "duration": 18,
    "start_time": "2023-01-28T05:37:26.904Z"
   },
   {
    "duration": 121,
    "start_time": "2023-01-28T05:37:32.191Z"
   },
   {
    "duration": 6,
    "start_time": "2023-01-28T05:37:39.377Z"
   },
   {
    "duration": 29,
    "start_time": "2023-01-28T05:37:43.880Z"
   },
   {
    "duration": 7,
    "start_time": "2023-01-28T05:37:47.675Z"
   },
   {
    "duration": 74,
    "start_time": "2023-01-28T05:37:52.960Z"
   },
   {
    "duration": 9,
    "start_time": "2023-01-28T05:38:02.718Z"
   },
   {
    "duration": 6,
    "start_time": "2023-01-28T05:38:06.548Z"
   },
   {
    "duration": 7,
    "start_time": "2023-01-28T05:38:09.283Z"
   },
   {
    "duration": 6,
    "start_time": "2023-01-28T05:38:11.858Z"
   },
   {
    "duration": 325,
    "start_time": "2023-01-28T05:38:16.271Z"
   },
   {
    "duration": 7,
    "start_time": "2023-01-28T05:38:19.328Z"
   },
   {
    "duration": 25,
    "start_time": "2023-01-28T05:38:26.196Z"
   },
   {
    "duration": 125,
    "start_time": "2023-01-28T05:38:38.028Z"
   },
   {
    "duration": 157,
    "start_time": "2023-01-28T05:38:47.074Z"
   },
   {
    "duration": 165,
    "start_time": "2023-01-28T05:38:53.230Z"
   },
   {
    "duration": 155,
    "start_time": "2023-01-28T05:38:59.065Z"
   },
   {
    "duration": 167,
    "start_time": "2023-01-28T05:39:16.990Z"
   },
   {
    "duration": 162,
    "start_time": "2023-01-28T05:39:25.785Z"
   },
   {
    "duration": 182,
    "start_time": "2023-01-28T05:39:30.491Z"
   },
   {
    "duration": 162,
    "start_time": "2023-01-28T05:39:35.671Z"
   },
   {
    "duration": 125,
    "start_time": "2023-01-28T05:39:39.335Z"
   },
   {
    "duration": 269,
    "start_time": "2023-01-28T05:39:44.603Z"
   },
   {
    "duration": 168,
    "start_time": "2023-01-28T05:39:48.896Z"
   },
   {
    "duration": 154,
    "start_time": "2023-01-28T05:39:53.273Z"
   },
   {
    "duration": 180,
    "start_time": "2023-01-28T05:39:57.337Z"
   },
   {
    "duration": 306,
    "start_time": "2023-01-28T05:40:15.053Z"
   },
   {
    "duration": 160,
    "start_time": "2023-01-28T05:40:20.827Z"
   },
   {
    "duration": 8,
    "start_time": "2023-01-28T05:40:24.907Z"
   },
   {
    "duration": 169,
    "start_time": "2023-01-28T05:40:30.908Z"
   },
   {
    "duration": 187,
    "start_time": "2023-01-28T05:40:36.733Z"
   },
   {
    "duration": 186,
    "start_time": "2023-01-28T05:40:41.889Z"
   },
   {
    "duration": 157,
    "start_time": "2023-01-28T05:40:50.823Z"
   },
   {
    "duration": 253,
    "start_time": "2023-01-28T05:40:54.513Z"
   },
   {
    "duration": 177,
    "start_time": "2023-01-28T05:40:58.392Z"
   },
   {
    "duration": 177,
    "start_time": "2023-01-28T05:41:01.863Z"
   },
   {
    "duration": 170,
    "start_time": "2023-01-28T05:41:05.937Z"
   },
   {
    "duration": 197,
    "start_time": "2023-01-28T05:41:17.606Z"
   },
   {
    "duration": 26,
    "start_time": "2023-01-28T05:41:24.591Z"
   },
   {
    "duration": 362,
    "start_time": "2023-01-28T05:41:31.823Z"
   },
   {
    "duration": 1199,
    "start_time": "2023-01-28T17:59:34.814Z"
   },
   {
    "duration": 33,
    "start_time": "2023-01-28T17:59:36.015Z"
   },
   {
    "duration": 41,
    "start_time": "2023-01-28T17:59:36.049Z"
   },
   {
    "duration": 1915,
    "start_time": "2023-01-28T17:59:36.092Z"
   },
   {
    "duration": 10,
    "start_time": "2023-01-28T17:59:38.009Z"
   },
   {
    "duration": 29,
    "start_time": "2023-01-28T17:59:38.021Z"
   },
   {
    "duration": 49,
    "start_time": "2023-01-28T17:59:38.051Z"
   },
   {
    "duration": 5,
    "start_time": "2023-01-28T17:59:38.102Z"
   },
   {
    "duration": 7,
    "start_time": "2023-01-28T17:59:38.109Z"
   },
   {
    "duration": 117,
    "start_time": "2023-01-28T17:59:38.119Z"
   },
   {
    "duration": 43,
    "start_time": "2023-01-28T17:59:38.238Z"
   },
   {
    "duration": 5,
    "start_time": "2023-01-28T17:59:38.283Z"
   },
   {
    "duration": 27,
    "start_time": "2023-01-28T17:59:38.290Z"
   },
   {
    "duration": 7,
    "start_time": "2023-01-28T17:59:38.319Z"
   },
   {
    "duration": 95,
    "start_time": "2023-01-28T17:59:38.328Z"
   },
   {
    "duration": 6,
    "start_time": "2023-01-28T17:59:38.424Z"
   },
   {
    "duration": 9,
    "start_time": "2023-01-28T17:59:38.432Z"
   },
   {
    "duration": 5,
    "start_time": "2023-01-28T17:59:38.443Z"
   },
   {
    "duration": 6,
    "start_time": "2023-01-28T17:59:38.449Z"
   },
   {
    "duration": 368,
    "start_time": "2023-01-28T17:59:38.456Z"
   },
   {
    "duration": 6,
    "start_time": "2023-01-28T17:59:38.826Z"
   },
   {
    "duration": 28,
    "start_time": "2023-01-28T17:59:38.833Z"
   },
   {
    "duration": 125,
    "start_time": "2023-01-28T17:59:38.863Z"
   },
   {
    "duration": 143,
    "start_time": "2023-01-28T17:59:38.989Z"
   },
   {
    "duration": 151,
    "start_time": "2023-01-28T17:59:39.134Z"
   },
   {
    "duration": 128,
    "start_time": "2023-01-28T17:59:39.287Z"
   },
   {
    "duration": 151,
    "start_time": "2023-01-28T17:59:39.417Z"
   },
   {
    "duration": 138,
    "start_time": "2023-01-28T17:59:39.572Z"
   },
   {
    "duration": 142,
    "start_time": "2023-01-28T17:59:39.712Z"
   },
   {
    "duration": 148,
    "start_time": "2023-01-28T17:59:39.856Z"
   },
   {
    "duration": 121,
    "start_time": "2023-01-28T17:59:40.006Z"
   },
   {
    "duration": 256,
    "start_time": "2023-01-28T17:59:40.128Z"
   },
   {
    "duration": 153,
    "start_time": "2023-01-28T17:59:40.386Z"
   },
   {
    "duration": 155,
    "start_time": "2023-01-28T17:59:40.540Z"
   },
   {
    "duration": 161,
    "start_time": "2023-01-28T17:59:40.697Z"
   },
   {
    "duration": 257,
    "start_time": "2023-01-28T17:59:40.860Z"
   },
   {
    "duration": 145,
    "start_time": "2023-01-28T17:59:41.118Z"
   },
   {
    "duration": 5,
    "start_time": "2023-01-28T17:59:41.265Z"
   },
   {
    "duration": 161,
    "start_time": "2023-01-28T17:59:41.281Z"
   },
   {
    "duration": 183,
    "start_time": "2023-01-28T17:59:41.444Z"
   },
   {
    "duration": 171,
    "start_time": "2023-01-28T17:59:41.629Z"
   },
   {
    "duration": 148,
    "start_time": "2023-01-28T17:59:41.802Z"
   },
   {
    "duration": 232,
    "start_time": "2023-01-28T17:59:41.952Z"
   },
   {
    "duration": 167,
    "start_time": "2023-01-28T17:59:42.186Z"
   },
   {
    "duration": 167,
    "start_time": "2023-01-28T17:59:42.355Z"
   },
   {
    "duration": 162,
    "start_time": "2023-01-28T17:59:42.524Z"
   },
   {
    "duration": 194,
    "start_time": "2023-01-28T17:59:42.688Z"
   },
   {
    "duration": 22,
    "start_time": "2023-01-28T17:59:42.884Z"
   },
   {
    "duration": 289,
    "start_time": "2023-01-28T17:59:42.908Z"
   },
   {
    "duration": 15,
    "start_time": "2023-01-28T18:01:31.579Z"
   },
   {
    "duration": 81,
    "start_time": "2023-01-28T18:01:37.074Z"
   },
   {
    "duration": 7,
    "start_time": "2023-01-28T18:02:13.482Z"
   },
   {
    "duration": 78,
    "start_time": "2023-01-28T18:03:19.651Z"
   },
   {
    "duration": 6,
    "start_time": "2023-01-28T18:03:37.457Z"
   },
   {
    "duration": 56,
    "start_time": "2023-01-29T07:16:35.853Z"
   },
   {
    "duration": 1367,
    "start_time": "2023-01-29T07:16:42.363Z"
   },
   {
    "duration": 310,
    "start_time": "2023-01-29T07:17:32.991Z"
   },
   {
    "duration": 95,
    "start_time": "2023-01-29T07:17:36.176Z"
   },
   {
    "duration": 33,
    "start_time": "2023-01-29T07:17:39.723Z"
   },
   {
    "duration": 3,
    "start_time": "2023-01-29T07:22:00.369Z"
   },
   {
    "duration": 3,
    "start_time": "2023-01-29T07:22:11.162Z"
   },
   {
    "duration": 2,
    "start_time": "2023-01-29T07:23:00.227Z"
   },
   {
    "duration": 26,
    "start_time": "2023-01-29T07:23:29.037Z"
   },
   {
    "duration": 27,
    "start_time": "2023-01-29T07:23:58.167Z"
   },
   {
    "duration": 2,
    "start_time": "2023-01-29T07:24:10.576Z"
   },
   {
    "duration": 3,
    "start_time": "2023-01-29T07:24:13.798Z"
   },
   {
    "duration": 24,
    "start_time": "2023-01-29T07:24:28.362Z"
   },
   {
    "duration": 70,
    "start_time": "2023-01-29T07:25:44.767Z"
   },
   {
    "duration": 38,
    "start_time": "2023-01-29T07:26:40.666Z"
   },
   {
    "duration": 28,
    "start_time": "2023-01-29T07:36:09.174Z"
   },
   {
    "duration": 1976,
    "start_time": "2023-01-29T07:36:23.353Z"
   },
   {
    "duration": 9,
    "start_time": "2023-01-29T07:36:33.707Z"
   },
   {
    "duration": 23,
    "start_time": "2023-01-29T07:36:44.838Z"
   },
   {
    "duration": 23,
    "start_time": "2023-01-29T07:37:21.533Z"
   },
   {
    "duration": 5,
    "start_time": "2023-01-29T07:37:50.396Z"
   },
   {
    "duration": 5,
    "start_time": "2023-01-29T07:38:14.813Z"
   },
   {
    "duration": 14,
    "start_time": "2023-01-29T07:38:26.546Z"
   },
   {
    "duration": 114,
    "start_time": "2023-01-29T07:38:34.188Z"
   },
   {
    "duration": 27,
    "start_time": "2023-01-29T07:38:58.574Z"
   },
   {
    "duration": 5,
    "start_time": "2023-01-29T07:47:05.842Z"
   },
   {
    "duration": 26,
    "start_time": "2023-01-29T07:47:14.291Z"
   },
   {
    "duration": 68,
    "start_time": "2023-01-29T07:47:31.315Z"
   },
   {
    "duration": 7,
    "start_time": "2023-01-29T07:47:38.360Z"
   },
   {
    "duration": 6,
    "start_time": "2023-01-29T07:47:41.016Z"
   },
   {
    "duration": 6,
    "start_time": "2023-01-29T07:47:43.562Z"
   },
   {
    "duration": 6,
    "start_time": "2023-01-29T07:47:45.833Z"
   },
   {
    "duration": 334,
    "start_time": "2023-01-29T07:47:50.644Z"
   },
   {
    "duration": 7,
    "start_time": "2023-01-29T07:47:54.842Z"
   },
   {
    "duration": 24,
    "start_time": "2023-01-29T07:48:01.119Z"
   },
   {
    "duration": 131,
    "start_time": "2023-01-29T07:48:16.356Z"
   },
   {
    "duration": 63,
    "start_time": "2023-01-29T07:48:57.390Z"
   },
   {
    "duration": 1261,
    "start_time": "2023-01-29T07:58:02.471Z"
   },
   {
    "duration": 1135,
    "start_time": "2023-01-29T07:58:18.885Z"
   },
   {
    "duration": 163,
    "start_time": "2023-01-29T08:01:22.452Z"
   },
   {
    "duration": 169,
    "start_time": "2023-01-29T08:01:30.864Z"
   },
   {
    "duration": 169,
    "start_time": "2023-01-29T08:01:57.469Z"
   },
   {
    "duration": 137,
    "start_time": "2023-01-29T08:02:17.428Z"
   },
   {
    "duration": 158,
    "start_time": "2023-01-29T08:02:30.366Z"
   },
   {
    "duration": 181,
    "start_time": "2023-01-29T08:03:09.811Z"
   },
   {
    "duration": 155,
    "start_time": "2023-01-29T08:03:33.262Z"
   },
   {
    "duration": 216,
    "start_time": "2023-01-29T08:05:03.228Z"
   },
   {
    "duration": 151,
    "start_time": "2023-01-29T08:05:20.043Z"
   },
   {
    "duration": 147,
    "start_time": "2023-01-29T08:06:24.400Z"
   },
   {
    "duration": 155,
    "start_time": "2023-01-29T08:06:41.759Z"
   },
   {
    "duration": 141,
    "start_time": "2023-01-29T08:06:49.485Z"
   },
   {
    "duration": 132,
    "start_time": "2023-01-29T08:07:16.553Z"
   },
   {
    "duration": 149,
    "start_time": "2023-01-29T08:07:19.891Z"
   },
   {
    "duration": 152,
    "start_time": "2023-01-29T08:07:38.294Z"
   },
   {
    "duration": 144,
    "start_time": "2023-01-29T08:08:58.305Z"
   },
   {
    "duration": 153,
    "start_time": "2023-01-29T08:09:07.341Z"
   },
   {
    "duration": 164,
    "start_time": "2023-01-29T08:09:25.186Z"
   },
   {
    "duration": 3,
    "start_time": "2023-01-29T08:09:54.621Z"
   },
   {
    "duration": 94,
    "start_time": "2023-01-29T08:09:54.629Z"
   },
   {
    "duration": 26,
    "start_time": "2023-01-29T08:09:54.725Z"
   },
   {
    "duration": 49,
    "start_time": "2023-01-29T08:09:54.753Z"
   },
   {
    "duration": 2173,
    "start_time": "2023-01-29T08:09:54.804Z"
   },
   {
    "duration": 22,
    "start_time": "2023-01-29T08:09:56.980Z"
   },
   {
    "duration": 36,
    "start_time": "2023-01-29T08:09:57.004Z"
   },
   {
    "duration": 22,
    "start_time": "2023-01-29T08:09:57.042Z"
   },
   {
    "duration": 5,
    "start_time": "2023-01-29T08:09:57.065Z"
   },
   {
    "duration": 21,
    "start_time": "2023-01-29T08:09:57.071Z"
   },
   {
    "duration": 18,
    "start_time": "2023-01-29T08:09:57.095Z"
   },
   {
    "duration": 38,
    "start_time": "2023-01-29T08:09:57.115Z"
   },
   {
    "duration": 9,
    "start_time": "2023-01-29T08:09:57.155Z"
   },
   {
    "duration": 56,
    "start_time": "2023-01-29T08:09:57.166Z"
   },
   {
    "duration": 7,
    "start_time": "2023-01-29T08:09:57.224Z"
   },
   {
    "duration": 90,
    "start_time": "2023-01-29T08:09:57.233Z"
   },
   {
    "duration": 6,
    "start_time": "2023-01-29T08:09:57.325Z"
   },
   {
    "duration": 8,
    "start_time": "2023-01-29T08:09:57.333Z"
   },
   {
    "duration": 7,
    "start_time": "2023-01-29T08:09:57.342Z"
   },
   {
    "duration": 6,
    "start_time": "2023-01-29T08:09:57.350Z"
   },
   {
    "duration": 512,
    "start_time": "2023-01-29T08:09:57.357Z"
   },
   {
    "duration": 7,
    "start_time": "2023-01-29T08:09:57.872Z"
   },
   {
    "duration": 41,
    "start_time": "2023-01-29T08:09:57.882Z"
   },
   {
    "duration": 142,
    "start_time": "2023-01-29T08:09:57.925Z"
   },
   {
    "duration": 193,
    "start_time": "2023-01-29T08:09:58.069Z"
   },
   {
    "duration": 175,
    "start_time": "2023-01-29T08:09:58.264Z"
   },
   {
    "duration": 191,
    "start_time": "2023-01-29T08:09:58.441Z"
   },
   {
    "duration": 172,
    "start_time": "2023-01-29T08:09:58.634Z"
   },
   {
    "duration": 164,
    "start_time": "2023-01-29T08:09:58.810Z"
   },
   {
    "duration": 170,
    "start_time": "2023-01-29T08:09:58.976Z"
   },
   {
    "duration": 258,
    "start_time": "2023-01-29T08:09:59.149Z"
   },
   {
    "duration": 169,
    "start_time": "2023-01-29T08:09:59.409Z"
   },
   {
    "duration": 187,
    "start_time": "2023-01-29T08:09:59.580Z"
   },
   {
    "duration": 161,
    "start_time": "2023-01-29T08:09:59.769Z"
   },
   {
    "duration": 255,
    "start_time": "2023-01-29T08:09:59.932Z"
   },
   {
    "duration": 183,
    "start_time": "2023-01-29T08:10:00.192Z"
   },
   {
    "duration": 298,
    "start_time": "2023-01-29T08:10:00.377Z"
   },
   {
    "duration": 181,
    "start_time": "2023-01-29T08:10:00.677Z"
   },
   {
    "duration": 5,
    "start_time": "2023-01-29T08:10:00.860Z"
   },
   {
    "duration": 201,
    "start_time": "2023-01-29T08:10:00.867Z"
   },
   {
    "duration": 212,
    "start_time": "2023-01-29T08:10:01.069Z"
   },
   {
    "duration": 211,
    "start_time": "2023-01-29T08:10:01.292Z"
   },
   {
    "duration": 241,
    "start_time": "2023-01-29T08:10:01.505Z"
   },
   {
    "duration": 174,
    "start_time": "2023-01-29T08:10:01.748Z"
   },
   {
    "duration": 186,
    "start_time": "2023-01-29T08:10:01.925Z"
   },
   {
    "duration": 264,
    "start_time": "2023-01-29T08:10:02.113Z"
   },
   {
    "duration": 184,
    "start_time": "2023-01-29T08:10:02.378Z"
   },
   {
    "duration": 204,
    "start_time": "2023-01-29T08:10:02.564Z"
   },
   {
    "duration": 32,
    "start_time": "2023-01-29T08:10:02.769Z"
   },
   {
    "duration": 336,
    "start_time": "2023-01-29T08:10:02.803Z"
   },
   {
    "duration": 166,
    "start_time": "2023-01-29T08:10:17.381Z"
   },
   {
    "duration": 155,
    "start_time": "2023-01-29T08:14:33.052Z"
   },
   {
    "duration": 149,
    "start_time": "2023-01-29T08:15:18.672Z"
   },
   {
    "duration": 160,
    "start_time": "2023-01-29T08:15:29.670Z"
   },
   {
    "duration": 99,
    "start_time": "2023-01-29T08:16:03.641Z"
   },
   {
    "duration": 187,
    "start_time": "2023-01-29T08:16:08.873Z"
   },
   {
    "duration": 157,
    "start_time": "2023-01-29T08:16:23.982Z"
   },
   {
    "duration": 306,
    "start_time": "2023-01-29T08:16:30.838Z"
   },
   {
    "duration": 175,
    "start_time": "2023-01-29T08:16:50.096Z"
   },
   {
    "duration": 3,
    "start_time": "2023-01-29T08:17:07.849Z"
   },
   {
    "duration": 95,
    "start_time": "2023-01-29T08:17:07.855Z"
   },
   {
    "duration": 41,
    "start_time": "2023-01-29T08:17:07.951Z"
   },
   {
    "duration": 30,
    "start_time": "2023-01-29T08:17:07.994Z"
   },
   {
    "duration": 1894,
    "start_time": "2023-01-29T08:17:08.026Z"
   },
   {
    "duration": 9,
    "start_time": "2023-01-29T08:17:09.921Z"
   },
   {
    "duration": 24,
    "start_time": "2023-01-29T08:17:09.932Z"
   },
   {
    "duration": 52,
    "start_time": "2023-01-29T08:17:09.958Z"
   },
   {
    "duration": 5,
    "start_time": "2023-01-29T08:17:10.012Z"
   },
   {
    "duration": 9,
    "start_time": "2023-01-29T08:17:10.018Z"
   },
   {
    "duration": 15,
    "start_time": "2023-01-29T08:17:10.028Z"
   },
   {
    "duration": 128,
    "start_time": "2023-01-29T08:17:10.045Z"
   },
   {
    "duration": 18,
    "start_time": "2023-01-29T08:17:10.175Z"
   },
   {
    "duration": 43,
    "start_time": "2023-01-29T08:17:10.195Z"
   },
   {
    "duration": 6,
    "start_time": "2023-01-29T08:17:10.239Z"
   },
   {
    "duration": 80,
    "start_time": "2023-01-29T08:17:10.247Z"
   },
   {
    "duration": 5,
    "start_time": "2023-01-29T08:17:10.329Z"
   },
   {
    "duration": 10,
    "start_time": "2023-01-29T08:17:10.336Z"
   },
   {
    "duration": 5,
    "start_time": "2023-01-29T08:17:10.348Z"
   },
   {
    "duration": 6,
    "start_time": "2023-01-29T08:17:10.355Z"
   },
   {
    "duration": 342,
    "start_time": "2023-01-29T08:17:10.363Z"
   },
   {
    "duration": 6,
    "start_time": "2023-01-29T08:17:10.707Z"
   },
   {
    "duration": 23,
    "start_time": "2023-01-29T08:17:10.715Z"
   },
   {
    "duration": 128,
    "start_time": "2023-01-29T08:17:10.740Z"
   },
   {
    "duration": 162,
    "start_time": "2023-01-29T08:17:10.870Z"
   },
   {
    "duration": 185,
    "start_time": "2023-01-29T08:17:11.034Z"
   },
   {
    "duration": 170,
    "start_time": "2023-01-29T08:17:11.222Z"
   },
   {
    "duration": 156,
    "start_time": "2023-01-29T08:17:11.394Z"
   },
   {
    "duration": 175,
    "start_time": "2023-01-29T08:17:11.552Z"
   },
   {
    "duration": 158,
    "start_time": "2023-01-29T08:17:11.729Z"
   },
   {
    "duration": 153,
    "start_time": "2023-01-29T08:17:11.891Z"
   },
   {
    "duration": 127,
    "start_time": "2023-01-29T08:17:12.046Z"
   },
   {
    "duration": 250,
    "start_time": "2023-01-29T08:17:12.174Z"
   },
   {
    "duration": 159,
    "start_time": "2023-01-29T08:17:12.427Z"
   },
   {
    "duration": 160,
    "start_time": "2023-01-29T08:17:12.591Z"
   },
   {
    "duration": 165,
    "start_time": "2023-01-29T08:17:12.752Z"
   },
   {
    "duration": 272,
    "start_time": "2023-01-29T08:17:12.920Z"
   },
   {
    "duration": 157,
    "start_time": "2023-01-29T08:17:13.194Z"
   },
   {
    "duration": 6,
    "start_time": "2023-01-29T08:17:13.353Z"
   },
   {
    "duration": 198,
    "start_time": "2023-01-29T08:17:13.361Z"
   },
   {
    "duration": 215,
    "start_time": "2023-01-29T08:17:13.562Z"
   },
   {
    "duration": 178,
    "start_time": "2023-01-29T08:17:13.778Z"
   },
   {
    "duration": 175,
    "start_time": "2023-01-29T08:17:13.958Z"
   },
   {
    "duration": 250,
    "start_time": "2023-01-29T08:17:14.135Z"
   },
   {
    "duration": 173,
    "start_time": "2023-01-29T08:17:14.386Z"
   },
   {
    "duration": 165,
    "start_time": "2023-01-29T08:17:14.561Z"
   },
   {
    "duration": 188,
    "start_time": "2023-01-29T08:17:14.728Z"
   },
   {
    "duration": 203,
    "start_time": "2023-01-29T08:17:14.917Z"
   },
   {
    "duration": 25,
    "start_time": "2023-01-29T08:17:15.121Z"
   },
   {
    "duration": 336,
    "start_time": "2023-01-29T08:17:15.148Z"
   },
   {
    "duration": 118,
    "start_time": "2023-01-29T08:18:42.026Z"
   },
   {
    "duration": 136,
    "start_time": "2023-01-29T08:19:04.053Z"
   },
   {
    "duration": 3,
    "start_time": "2023-01-29T08:19:15.865Z"
   },
   {
    "duration": 105,
    "start_time": "2023-01-29T08:19:15.870Z"
   },
   {
    "duration": 37,
    "start_time": "2023-01-29T08:19:15.977Z"
   },
   {
    "duration": 37,
    "start_time": "2023-01-29T08:19:16.017Z"
   },
   {
    "duration": 2073,
    "start_time": "2023-01-29T08:19:16.056Z"
   },
   {
    "duration": 9,
    "start_time": "2023-01-29T08:19:18.130Z"
   },
   {
    "duration": 31,
    "start_time": "2023-01-29T08:19:18.141Z"
   },
   {
    "duration": 33,
    "start_time": "2023-01-29T08:19:18.173Z"
   },
   {
    "duration": 5,
    "start_time": "2023-01-29T08:19:18.209Z"
   },
   {
    "duration": 10,
    "start_time": "2023-01-29T08:19:18.216Z"
   },
   {
    "duration": 21,
    "start_time": "2023-01-29T08:19:18.227Z"
   },
   {
    "duration": 23,
    "start_time": "2023-01-29T08:19:18.249Z"
   },
   {
    "duration": 22,
    "start_time": "2023-01-29T08:19:18.273Z"
   },
   {
    "duration": 35,
    "start_time": "2023-01-29T08:19:18.296Z"
   },
   {
    "duration": 6,
    "start_time": "2023-01-29T08:19:18.333Z"
   },
   {
    "duration": 81,
    "start_time": "2023-01-29T08:19:18.340Z"
   },
   {
    "duration": 5,
    "start_time": "2023-01-29T08:19:18.422Z"
   },
   {
    "duration": 9,
    "start_time": "2023-01-29T08:19:18.429Z"
   },
   {
    "duration": 5,
    "start_time": "2023-01-29T08:19:18.439Z"
   },
   {
    "duration": 9,
    "start_time": "2023-01-29T08:19:18.446Z"
   },
   {
    "duration": 334,
    "start_time": "2023-01-29T08:19:18.457Z"
   },
   {
    "duration": 6,
    "start_time": "2023-01-29T08:19:18.794Z"
   },
   {
    "duration": 32,
    "start_time": "2023-01-29T08:19:18.802Z"
   },
   {
    "duration": 114,
    "start_time": "2023-01-29T08:19:18.837Z"
   },
   {
    "duration": 157,
    "start_time": "2023-01-29T08:19:18.952Z"
   },
   {
    "duration": 263,
    "start_time": "2023-01-29T08:19:19.110Z"
   },
   {
    "duration": 161,
    "start_time": "2023-01-29T08:19:19.375Z"
   },
   {
    "duration": 140,
    "start_time": "2023-01-29T08:19:19.538Z"
   },
   {
    "duration": 170,
    "start_time": "2023-01-29T08:19:19.680Z"
   },
   {
    "duration": 161,
    "start_time": "2023-01-29T08:19:19.851Z"
   },
   {
    "duration": 172,
    "start_time": "2023-01-29T08:19:20.013Z"
   },
   {
    "duration": 144,
    "start_time": "2023-01-29T08:19:20.186Z"
   },
   {
    "duration": 186,
    "start_time": "2023-01-29T08:19:20.332Z"
   },
   {
    "duration": 155,
    "start_time": "2023-01-29T08:19:20.524Z"
   },
   {
    "duration": 175,
    "start_time": "2023-01-29T08:19:20.680Z"
   },
   {
    "duration": 183,
    "start_time": "2023-01-29T08:19:20.857Z"
   },
   {
    "duration": 387,
    "start_time": "2023-01-29T08:19:21.042Z"
   },
   {
    "duration": 171,
    "start_time": "2023-01-29T08:19:21.431Z"
   },
   {
    "duration": 6,
    "start_time": "2023-01-29T08:19:21.604Z"
   },
   {
    "duration": 199,
    "start_time": "2023-01-29T08:19:21.611Z"
   },
   {
    "duration": 189,
    "start_time": "2023-01-29T08:19:21.812Z"
   },
   {
    "duration": 174,
    "start_time": "2023-01-29T08:19:22.004Z"
   },
   {
    "duration": 173,
    "start_time": "2023-01-29T08:19:22.180Z"
   },
   {
    "duration": 174,
    "start_time": "2023-01-29T08:19:22.354Z"
   },
   {
    "duration": 178,
    "start_time": "2023-01-29T08:19:22.530Z"
   },
   {
    "duration": 174,
    "start_time": "2023-01-29T08:19:22.711Z"
   },
   {
    "duration": 176,
    "start_time": "2023-01-29T08:19:22.887Z"
   },
   {
    "duration": 276,
    "start_time": "2023-01-29T08:19:23.065Z"
   },
   {
    "duration": 22,
    "start_time": "2023-01-29T08:19:23.343Z"
   },
   {
    "duration": 320,
    "start_time": "2023-01-29T08:19:23.367Z"
   },
   {
    "duration": 139,
    "start_time": "2023-01-29T08:19:35.512Z"
   },
   {
    "duration": 89,
    "start_time": "2023-01-29T08:20:34.632Z"
   },
   {
    "duration": 76,
    "start_time": "2023-01-29T08:20:45.265Z"
   },
   {
    "duration": 88,
    "start_time": "2023-01-29T08:21:19.779Z"
   },
   {
    "duration": 1206,
    "start_time": "2023-01-29T08:22:32.542Z"
   },
   {
    "duration": 98,
    "start_time": "2023-01-29T08:22:33.749Z"
   },
   {
    "duration": 31,
    "start_time": "2023-01-29T08:22:33.848Z"
   },
   {
    "duration": 50,
    "start_time": "2023-01-29T08:22:33.881Z"
   },
   {
    "duration": 2124,
    "start_time": "2023-01-29T08:22:33.933Z"
   },
   {
    "duration": 12,
    "start_time": "2023-01-29T08:22:36.059Z"
   },
   {
    "duration": 73,
    "start_time": "2023-01-29T08:22:36.073Z"
   },
   {
    "duration": 87,
    "start_time": "2023-01-29T08:22:36.148Z"
   },
   {
    "duration": 6,
    "start_time": "2023-01-29T08:22:36.237Z"
   },
   {
    "duration": 27,
    "start_time": "2023-01-29T08:22:36.246Z"
   },
   {
    "duration": 180,
    "start_time": "2023-01-29T08:22:36.275Z"
   },
   {
    "duration": 27,
    "start_time": "2023-01-29T08:22:36.456Z"
   },
   {
    "duration": 31,
    "start_time": "2023-01-29T08:22:36.485Z"
   },
   {
    "duration": 29,
    "start_time": "2023-01-29T08:22:36.519Z"
   },
   {
    "duration": 6,
    "start_time": "2023-01-29T08:22:36.549Z"
   },
   {
    "duration": 81,
    "start_time": "2023-01-29T08:22:36.556Z"
   },
   {
    "duration": 6,
    "start_time": "2023-01-29T08:22:36.638Z"
   },
   {
    "duration": 9,
    "start_time": "2023-01-29T08:22:36.645Z"
   },
   {
    "duration": 8,
    "start_time": "2023-01-29T08:22:36.656Z"
   },
   {
    "duration": 7,
    "start_time": "2023-01-29T08:22:36.666Z"
   },
   {
    "duration": 375,
    "start_time": "2023-01-29T08:22:36.674Z"
   },
   {
    "duration": 6,
    "start_time": "2023-01-29T08:22:37.051Z"
   },
   {
    "duration": 26,
    "start_time": "2023-01-29T08:22:37.059Z"
   },
   {
    "duration": 143,
    "start_time": "2023-01-29T08:22:37.101Z"
   },
   {
    "duration": 167,
    "start_time": "2023-01-29T08:22:37.247Z"
   },
   {
    "duration": 161,
    "start_time": "2023-01-29T08:22:37.416Z"
   },
   {
    "duration": 161,
    "start_time": "2023-01-29T08:22:37.579Z"
   },
   {
    "duration": 101,
    "start_time": "2023-01-29T08:22:37.743Z"
   },
   {
    "duration": 0,
    "start_time": "2023-01-29T08:22:37.846Z"
   },
   {
    "duration": 0,
    "start_time": "2023-01-29T08:22:37.848Z"
   },
   {
    "duration": 0,
    "start_time": "2023-01-29T08:22:37.849Z"
   },
   {
    "duration": 0,
    "start_time": "2023-01-29T08:22:37.851Z"
   },
   {
    "duration": 0,
    "start_time": "2023-01-29T08:22:37.853Z"
   },
   {
    "duration": 0,
    "start_time": "2023-01-29T08:22:37.854Z"
   },
   {
    "duration": 0,
    "start_time": "2023-01-29T08:22:37.855Z"
   },
   {
    "duration": 0,
    "start_time": "2023-01-29T08:22:37.857Z"
   },
   {
    "duration": 0,
    "start_time": "2023-01-29T08:22:37.858Z"
   },
   {
    "duration": 0,
    "start_time": "2023-01-29T08:22:37.859Z"
   },
   {
    "duration": 0,
    "start_time": "2023-01-29T08:22:37.861Z"
   },
   {
    "duration": 0,
    "start_time": "2023-01-29T08:22:37.862Z"
   },
   {
    "duration": 0,
    "start_time": "2023-01-29T08:22:37.863Z"
   },
   {
    "duration": 0,
    "start_time": "2023-01-29T08:22:37.864Z"
   },
   {
    "duration": 0,
    "start_time": "2023-01-29T08:22:37.866Z"
   },
   {
    "duration": 0,
    "start_time": "2023-01-29T08:22:37.867Z"
   },
   {
    "duration": 0,
    "start_time": "2023-01-29T08:22:37.868Z"
   },
   {
    "duration": 0,
    "start_time": "2023-01-29T08:22:37.870Z"
   },
   {
    "duration": 0,
    "start_time": "2023-01-29T08:22:37.871Z"
   },
   {
    "duration": 1,
    "start_time": "2023-01-29T08:22:37.872Z"
   },
   {
    "duration": 0,
    "start_time": "2023-01-29T08:22:37.874Z"
   },
   {
    "duration": 0,
    "start_time": "2023-01-29T08:22:37.876Z"
   },
   {
    "duration": 89,
    "start_time": "2023-01-29T08:23:15.538Z"
   },
   {
    "duration": 142,
    "start_time": "2023-01-29T08:23:52.076Z"
   },
   {
    "duration": 121,
    "start_time": "2023-01-29T08:24:12.858Z"
   },
   {
    "duration": 122,
    "start_time": "2023-01-29T08:24:20.045Z"
   },
   {
    "duration": 120,
    "start_time": "2023-01-29T08:24:24.357Z"
   },
   {
    "duration": 120,
    "start_time": "2023-01-29T08:25:38.181Z"
   },
   {
    "duration": 199,
    "start_time": "2023-01-29T08:25:42.010Z"
   },
   {
    "duration": 138,
    "start_time": "2023-01-29T08:25:47.801Z"
   },
   {
    "duration": 69,
    "start_time": "2023-01-29T08:26:11.189Z"
   },
   {
    "duration": 76,
    "start_time": "2023-01-29T08:26:20.798Z"
   },
   {
    "duration": 67,
    "start_time": "2023-01-29T08:26:53.104Z"
   },
   {
    "duration": 71,
    "start_time": "2023-01-29T08:27:01.036Z"
   },
   {
    "duration": 70,
    "start_time": "2023-01-29T08:27:23.723Z"
   },
   {
    "duration": 88,
    "start_time": "2023-01-29T08:27:54.175Z"
   },
   {
    "duration": 139,
    "start_time": "2023-01-29T08:28:34.839Z"
   },
   {
    "duration": 142,
    "start_time": "2023-01-29T08:28:52.993Z"
   },
   {
    "duration": 124,
    "start_time": "2023-01-29T08:28:57.560Z"
   },
   {
    "duration": 161,
    "start_time": "2023-01-29T08:30:24.421Z"
   },
   {
    "duration": 161,
    "start_time": "2023-01-29T08:30:28.600Z"
   },
   {
    "duration": 3,
    "start_time": "2023-01-29T08:30:33.930Z"
   },
   {
    "duration": 101,
    "start_time": "2023-01-29T08:30:33.935Z"
   },
   {
    "duration": 27,
    "start_time": "2023-01-29T08:30:34.038Z"
   },
   {
    "duration": 49,
    "start_time": "2023-01-29T08:30:34.067Z"
   },
   {
    "duration": 1937,
    "start_time": "2023-01-29T08:30:34.118Z"
   },
   {
    "duration": 11,
    "start_time": "2023-01-29T08:30:36.057Z"
   },
   {
    "duration": 44,
    "start_time": "2023-01-29T08:30:36.070Z"
   },
   {
    "duration": 21,
    "start_time": "2023-01-29T08:30:36.116Z"
   },
   {
    "duration": 5,
    "start_time": "2023-01-29T08:30:36.138Z"
   },
   {
    "duration": 6,
    "start_time": "2023-01-29T08:30:36.144Z"
   },
   {
    "duration": 15,
    "start_time": "2023-01-29T08:30:36.152Z"
   },
   {
    "duration": 44,
    "start_time": "2023-01-29T08:30:36.168Z"
   },
   {
    "duration": 5,
    "start_time": "2023-01-29T08:30:36.215Z"
   },
   {
    "duration": 37,
    "start_time": "2023-01-29T08:30:36.221Z"
   },
   {
    "duration": 7,
    "start_time": "2023-01-29T08:30:36.259Z"
   },
   {
    "duration": 83,
    "start_time": "2023-01-29T08:30:36.268Z"
   },
   {
    "duration": 6,
    "start_time": "2023-01-29T08:30:36.353Z"
   },
   {
    "duration": 9,
    "start_time": "2023-01-29T08:30:36.361Z"
   },
   {
    "duration": 23,
    "start_time": "2023-01-29T08:30:36.371Z"
   },
   {
    "duration": 6,
    "start_time": "2023-01-29T08:30:36.395Z"
   },
   {
    "duration": 346,
    "start_time": "2023-01-29T08:30:36.403Z"
   },
   {
    "duration": 7,
    "start_time": "2023-01-29T08:30:36.751Z"
   },
   {
    "duration": 33,
    "start_time": "2023-01-29T08:30:36.759Z"
   },
   {
    "duration": 115,
    "start_time": "2023-01-29T08:30:36.794Z"
   },
   {
    "duration": 157,
    "start_time": "2023-01-29T08:30:36.911Z"
   },
   {
    "duration": 152,
    "start_time": "2023-01-29T08:30:37.070Z"
   },
   {
    "duration": 155,
    "start_time": "2023-01-29T08:30:37.224Z"
   },
   {
    "duration": 290,
    "start_time": "2023-01-29T08:30:37.382Z"
   },
   {
    "duration": 160,
    "start_time": "2023-01-29T08:30:37.675Z"
   },
   {
    "duration": 175,
    "start_time": "2023-01-29T08:30:37.837Z"
   },
   {
    "duration": 171,
    "start_time": "2023-01-29T08:30:38.014Z"
   },
   {
    "duration": 136,
    "start_time": "2023-01-29T08:30:38.187Z"
   },
   {
    "duration": 175,
    "start_time": "2023-01-29T08:30:38.326Z"
   },
   {
    "duration": 159,
    "start_time": "2023-01-29T08:30:38.503Z"
   },
   {
    "duration": 154,
    "start_time": "2023-01-29T08:30:38.664Z"
   },
   {
    "duration": 178,
    "start_time": "2023-01-29T08:30:38.820Z"
   },
   {
    "duration": 309,
    "start_time": "2023-01-29T08:30:39.002Z"
   },
   {
    "duration": 260,
    "start_time": "2023-01-29T08:30:39.315Z"
   },
   {
    "duration": 15,
    "start_time": "2023-01-29T08:30:39.577Z"
   },
   {
    "duration": 167,
    "start_time": "2023-01-29T08:30:39.594Z"
   },
   {
    "duration": 191,
    "start_time": "2023-01-29T08:30:39.762Z"
   },
   {
    "duration": 208,
    "start_time": "2023-01-29T08:30:39.955Z"
   },
   {
    "duration": 173,
    "start_time": "2023-01-29T08:30:40.164Z"
   },
   {
    "duration": 164,
    "start_time": "2023-01-29T08:30:40.339Z"
   },
   {
    "duration": 183,
    "start_time": "2023-01-29T08:30:40.505Z"
   },
   {
    "duration": 189,
    "start_time": "2023-01-29T08:30:40.692Z"
   },
   {
    "duration": 210,
    "start_time": "2023-01-29T08:30:40.891Z"
   },
   {
    "duration": 275,
    "start_time": "2023-01-29T08:30:41.103Z"
   },
   {
    "duration": 33,
    "start_time": "2023-01-29T08:30:41.381Z"
   },
   {
    "duration": 457,
    "start_time": "2023-01-29T08:30:41.416Z"
   },
   {
    "duration": 138,
    "start_time": "2023-01-29T08:33:25.056Z"
   },
   {
    "duration": 153,
    "start_time": "2023-01-29T08:33:30.662Z"
   },
   {
    "duration": 154,
    "start_time": "2023-01-29T08:33:36.375Z"
   },
   {
    "duration": 155,
    "start_time": "2023-01-29T08:33:40.481Z"
   },
   {
    "duration": 133,
    "start_time": "2023-01-29T08:33:44.132Z"
   },
   {
    "duration": 153,
    "start_time": "2023-01-29T08:33:48.522Z"
   },
   {
    "duration": 284,
    "start_time": "2023-01-29T08:33:52.232Z"
   },
   {
    "duration": 6,
    "start_time": "2023-01-29T08:34:06.287Z"
   },
   {
    "duration": 165,
    "start_time": "2023-01-29T08:48:18.603Z"
   },
   {
    "duration": 163,
    "start_time": "2023-01-29T08:48:34.270Z"
   },
   {
    "duration": 231,
    "start_time": "2023-01-29T08:48:38.302Z"
   },
   {
    "duration": 172,
    "start_time": "2023-01-29T08:48:46.253Z"
   },
   {
    "duration": 151,
    "start_time": "2023-01-29T08:48:50.977Z"
   },
   {
    "duration": 137,
    "start_time": "2023-01-29T08:48:54.453Z"
   },
   {
    "duration": 153,
    "start_time": "2023-01-29T08:48:58.032Z"
   },
   {
    "duration": 160,
    "start_time": "2023-01-29T08:49:01.136Z"
   },
   {
    "duration": 155,
    "start_time": "2023-01-29T08:49:05.072Z"
   },
   {
    "duration": 161,
    "start_time": "2023-01-29T08:49:33.989Z"
   },
   {
    "duration": 148,
    "start_time": "2023-01-29T08:49:37.931Z"
   },
   {
    "duration": 157,
    "start_time": "2023-01-29T08:49:49.889Z"
   },
   {
    "duration": 161,
    "start_time": "2023-01-29T08:50:06.737Z"
   },
   {
    "duration": 98,
    "start_time": "2023-01-29T08:54:32.046Z"
   },
   {
    "duration": 230,
    "start_time": "2023-01-29T08:55:51.083Z"
   },
   {
    "duration": 154,
    "start_time": "2023-01-29T08:57:45.332Z"
   },
   {
    "duration": 175,
    "start_time": "2023-01-29T09:00:10.977Z"
   },
   {
    "duration": 286,
    "start_time": "2023-01-29T09:00:38.444Z"
   },
   {
    "duration": 24,
    "start_time": "2023-01-29T09:01:03.426Z"
   },
   {
    "duration": 22,
    "start_time": "2023-01-29T09:02:43.131Z"
   },
   {
    "duration": 12,
    "start_time": "2023-01-29T09:04:28.328Z"
   },
   {
    "duration": 55,
    "start_time": "2023-01-29T09:11:35.526Z"
   },
   {
    "duration": 1168,
    "start_time": "2023-01-29T09:12:23.024Z"
   },
   {
    "duration": 310,
    "start_time": "2023-01-29T09:12:24.194Z"
   },
   {
    "duration": 32,
    "start_time": "2023-01-29T09:12:24.506Z"
   },
   {
    "duration": 34,
    "start_time": "2023-01-29T09:12:24.540Z"
   },
   {
    "duration": 1981,
    "start_time": "2023-01-29T09:12:24.576Z"
   },
   {
    "duration": 9,
    "start_time": "2023-01-29T09:12:26.558Z"
   },
   {
    "duration": 26,
    "start_time": "2023-01-29T09:12:26.569Z"
   },
   {
    "duration": 20,
    "start_time": "2023-01-29T09:12:26.597Z"
   },
   {
    "duration": 4,
    "start_time": "2023-01-29T09:12:26.619Z"
   },
   {
    "duration": 7,
    "start_time": "2023-01-29T09:12:26.625Z"
   },
   {
    "duration": 124,
    "start_time": "2023-01-29T09:12:26.633Z"
   },
   {
    "duration": 33,
    "start_time": "2023-01-29T09:12:26.759Z"
   },
   {
    "duration": 5,
    "start_time": "2023-01-29T09:12:26.794Z"
   },
   {
    "duration": 31,
    "start_time": "2023-01-29T09:12:26.802Z"
   },
   {
    "duration": 7,
    "start_time": "2023-01-29T09:12:26.835Z"
   },
   {
    "duration": 94,
    "start_time": "2023-01-29T09:12:26.843Z"
   },
   {
    "duration": 5,
    "start_time": "2023-01-29T09:12:26.939Z"
   },
   {
    "duration": 9,
    "start_time": "2023-01-29T09:12:26.946Z"
   },
   {
    "duration": 10,
    "start_time": "2023-01-29T09:12:26.957Z"
   },
   {
    "duration": 9,
    "start_time": "2023-01-29T09:12:26.969Z"
   },
   {
    "duration": 338,
    "start_time": "2023-01-29T09:12:26.980Z"
   },
   {
    "duration": 7,
    "start_time": "2023-01-29T09:12:27.319Z"
   },
   {
    "duration": 25,
    "start_time": "2023-01-29T09:12:27.327Z"
   },
   {
    "duration": 130,
    "start_time": "2023-01-29T09:12:27.353Z"
   },
   {
    "duration": 148,
    "start_time": "2023-01-29T09:12:27.485Z"
   },
   {
    "duration": 159,
    "start_time": "2023-01-29T09:12:27.634Z"
   },
   {
    "duration": 153,
    "start_time": "2023-01-29T09:12:27.795Z"
   },
   {
    "duration": 172,
    "start_time": "2023-01-29T09:12:27.949Z"
   },
   {
    "duration": 159,
    "start_time": "2023-01-29T09:12:28.123Z"
   },
   {
    "duration": 150,
    "start_time": "2023-01-29T09:12:28.284Z"
   },
   {
    "duration": 157,
    "start_time": "2023-01-29T09:12:28.436Z"
   },
   {
    "duration": 132,
    "start_time": "2023-01-29T09:12:28.595Z"
   },
   {
    "duration": 253,
    "start_time": "2023-01-29T09:12:28.729Z"
   },
   {
    "duration": 156,
    "start_time": "2023-01-29T09:12:28.984Z"
   },
   {
    "duration": 160,
    "start_time": "2023-01-29T09:12:29.142Z"
   },
   {
    "duration": 177,
    "start_time": "2023-01-29T09:12:29.304Z"
   },
   {
    "duration": 274,
    "start_time": "2023-01-29T09:12:29.483Z"
   },
   {
    "duration": 158,
    "start_time": "2023-01-29T09:12:29.758Z"
   },
   {
    "duration": 6,
    "start_time": "2023-01-29T09:12:29.917Z"
   },
   {
    "duration": 178,
    "start_time": "2023-01-29T09:12:29.925Z"
   },
   {
    "duration": 174,
    "start_time": "2023-01-29T09:12:30.106Z"
   },
   {
    "duration": 165,
    "start_time": "2023-01-29T09:12:30.292Z"
   },
   {
    "duration": 160,
    "start_time": "2023-01-29T09:12:30.458Z"
   },
   {
    "duration": 239,
    "start_time": "2023-01-29T09:12:30.620Z"
   },
   {
    "duration": 170,
    "start_time": "2023-01-29T09:12:30.860Z"
   },
   {
    "duration": 167,
    "start_time": "2023-01-29T09:12:31.032Z"
   },
   {
    "duration": 176,
    "start_time": "2023-01-29T09:12:31.201Z"
   },
   {
    "duration": 189,
    "start_time": "2023-01-29T09:12:31.379Z"
   },
   {
    "duration": 1123,
    "start_time": "2023-01-29T09:16:05.431Z"
   },
   {
    "duration": 95,
    "start_time": "2023-01-29T09:16:06.556Z"
   },
   {
    "duration": 28,
    "start_time": "2023-01-29T09:16:06.652Z"
   },
   {
    "duration": 44,
    "start_time": "2023-01-29T09:16:06.682Z"
   },
   {
    "duration": 1938,
    "start_time": "2023-01-29T09:16:06.727Z"
   },
   {
    "duration": 10,
    "start_time": "2023-01-29T09:16:08.667Z"
   },
   {
    "duration": 24,
    "start_time": "2023-01-29T09:16:08.678Z"
   },
   {
    "duration": 22,
    "start_time": "2023-01-29T09:16:08.703Z"
   },
   {
    "duration": 5,
    "start_time": "2023-01-29T09:16:08.726Z"
   },
   {
    "duration": 9,
    "start_time": "2023-01-29T09:16:08.735Z"
   },
   {
    "duration": 115,
    "start_time": "2023-01-29T09:16:08.747Z"
   },
   {
    "duration": 34,
    "start_time": "2023-01-29T09:16:08.864Z"
   },
   {
    "duration": 124,
    "start_time": "2023-01-29T09:16:08.900Z"
   },
   {
    "duration": 28,
    "start_time": "2023-01-29T09:16:09.025Z"
   },
   {
    "duration": 8,
    "start_time": "2023-01-29T09:16:09.054Z"
   },
   {
    "duration": 76,
    "start_time": "2023-01-29T09:16:09.064Z"
   },
   {
    "duration": 5,
    "start_time": "2023-01-29T09:16:09.142Z"
   },
   {
    "duration": 20,
    "start_time": "2023-01-29T09:16:09.148Z"
   },
   {
    "duration": 6,
    "start_time": "2023-01-29T09:16:09.170Z"
   },
   {
    "duration": 13,
    "start_time": "2023-01-29T09:16:09.178Z"
   },
   {
    "duration": 337,
    "start_time": "2023-01-29T09:16:09.193Z"
   },
   {
    "duration": 5,
    "start_time": "2023-01-29T09:16:09.532Z"
   },
   {
    "duration": 30,
    "start_time": "2023-01-29T09:16:09.538Z"
   },
   {
    "duration": 124,
    "start_time": "2023-01-29T09:16:09.569Z"
   },
   {
    "duration": 147,
    "start_time": "2023-01-29T09:16:09.694Z"
   },
   {
    "duration": 155,
    "start_time": "2023-01-29T09:16:09.842Z"
   },
   {
    "duration": 143,
    "start_time": "2023-01-29T09:16:09.999Z"
   },
   {
    "duration": 161,
    "start_time": "2023-01-29T09:16:10.145Z"
   },
   {
    "duration": 152,
    "start_time": "2023-01-29T09:16:10.308Z"
   },
   {
    "duration": 148,
    "start_time": "2023-01-29T09:16:10.462Z"
   },
   {
    "duration": 148,
    "start_time": "2023-01-29T09:16:10.611Z"
   },
   {
    "duration": 130,
    "start_time": "2023-01-29T09:16:10.761Z"
   },
   {
    "duration": 231,
    "start_time": "2023-01-29T09:16:10.893Z"
   },
   {
    "duration": 150,
    "start_time": "2023-01-29T09:16:11.126Z"
   },
   {
    "duration": 142,
    "start_time": "2023-01-29T09:16:11.278Z"
   },
   {
    "duration": 166,
    "start_time": "2023-01-29T09:16:11.421Z"
   },
   {
    "duration": 257,
    "start_time": "2023-01-29T09:16:11.591Z"
   },
   {
    "duration": 156,
    "start_time": "2023-01-29T09:16:11.849Z"
   },
   {
    "duration": 6,
    "start_time": "2023-01-29T09:16:12.007Z"
   },
   {
    "duration": 161,
    "start_time": "2023-01-29T09:16:12.014Z"
   },
   {
    "duration": 182,
    "start_time": "2023-01-29T09:16:12.177Z"
   },
   {
    "duration": 168,
    "start_time": "2023-01-29T09:16:12.361Z"
   },
   {
    "duration": 154,
    "start_time": "2023-01-29T09:16:12.531Z"
   },
   {
    "duration": 238,
    "start_time": "2023-01-29T09:16:12.687Z"
   },
   {
    "duration": 172,
    "start_time": "2023-01-29T09:16:12.927Z"
   },
   {
    "duration": 163,
    "start_time": "2023-01-29T09:16:13.100Z"
   },
   {
    "duration": 156,
    "start_time": "2023-01-29T09:16:13.265Z"
   },
   {
    "duration": 214,
    "start_time": "2023-01-29T09:16:13.423Z"
   },
   {
    "duration": 27,
    "start_time": "2023-01-29T09:16:13.639Z"
   },
   {
    "duration": 311,
    "start_time": "2023-01-29T09:16:13.668Z"
   },
   {
    "duration": 122,
    "start_time": "2023-01-29T09:20:09.529Z"
   },
   {
    "duration": 71,
    "start_time": "2023-01-29T09:22:50.637Z"
   },
   {
    "duration": 232,
    "start_time": "2023-01-29T09:23:24.952Z"
   },
   {
    "duration": 217,
    "start_time": "2023-01-29T09:29:17.293Z"
   },
   {
    "duration": 139,
    "start_time": "2023-01-29T09:29:37.747Z"
   },
   {
    "duration": 197,
    "start_time": "2023-01-29T09:29:52.439Z"
   },
   {
    "duration": 296,
    "start_time": "2023-01-29T09:32:01.089Z"
   },
   {
    "duration": 73,
    "start_time": "2023-01-29T09:36:13.161Z"
   },
   {
    "duration": 209,
    "start_time": "2023-01-29T09:36:27.074Z"
   },
   {
    "duration": 211,
    "start_time": "2023-01-29T09:38:39.134Z"
   },
   {
    "duration": 199,
    "start_time": "2023-01-29T09:38:53.024Z"
   },
   {
    "duration": 205,
    "start_time": "2023-01-29T09:38:59.974Z"
   },
   {
    "duration": 199,
    "start_time": "2023-01-29T09:41:38.536Z"
   },
   {
    "duration": 236,
    "start_time": "2023-01-29T09:44:26.077Z"
   },
   {
    "duration": 10,
    "start_time": "2023-01-29T09:44:47.962Z"
   },
   {
    "duration": 207,
    "start_time": "2023-01-29T09:45:00.056Z"
   },
   {
    "duration": 295,
    "start_time": "2023-01-29T09:45:16.568Z"
   },
   {
    "duration": 201,
    "start_time": "2023-01-29T09:46:29.186Z"
   },
   {
    "duration": 385,
    "start_time": "2023-01-29T09:46:36.368Z"
   },
   {
    "duration": 200,
    "start_time": "2023-01-29T09:59:21.945Z"
   },
   {
    "duration": 215,
    "start_time": "2023-01-29T10:01:02.972Z"
   },
   {
    "duration": 306,
    "start_time": "2023-01-29T10:01:50.373Z"
   },
   {
    "duration": 1116,
    "start_time": "2023-01-29T10:04:06.126Z"
   },
   {
    "duration": 91,
    "start_time": "2023-01-29T10:04:07.244Z"
   },
   {
    "duration": 31,
    "start_time": "2023-01-29T10:04:07.337Z"
   },
   {
    "duration": 45,
    "start_time": "2023-01-29T10:04:07.369Z"
   },
   {
    "duration": 1925,
    "start_time": "2023-01-29T10:04:07.416Z"
   },
   {
    "duration": 11,
    "start_time": "2023-01-29T10:04:09.343Z"
   },
   {
    "duration": 25,
    "start_time": "2023-01-29T10:04:09.356Z"
   },
   {
    "duration": 29,
    "start_time": "2023-01-29T10:04:09.383Z"
   },
   {
    "duration": 4,
    "start_time": "2023-01-29T10:04:09.414Z"
   },
   {
    "duration": 8,
    "start_time": "2023-01-29T10:04:09.420Z"
   },
   {
    "duration": 121,
    "start_time": "2023-01-29T10:04:09.430Z"
   },
   {
    "duration": 41,
    "start_time": "2023-01-29T10:04:09.552Z"
   },
   {
    "duration": 6,
    "start_time": "2023-01-29T10:04:09.595Z"
   },
   {
    "duration": 31,
    "start_time": "2023-01-29T10:04:09.604Z"
   },
   {
    "duration": 7,
    "start_time": "2023-01-29T10:04:09.637Z"
   },
   {
    "duration": 99,
    "start_time": "2023-01-29T10:04:09.646Z"
   },
   {
    "duration": 7,
    "start_time": "2023-01-29T10:04:09.748Z"
   },
   {
    "duration": 20,
    "start_time": "2023-01-29T10:04:09.757Z"
   },
   {
    "duration": 14,
    "start_time": "2023-01-29T10:04:09.779Z"
   },
   {
    "duration": 7,
    "start_time": "2023-01-29T10:04:09.795Z"
   },
   {
    "duration": 345,
    "start_time": "2023-01-29T10:04:09.804Z"
   },
   {
    "duration": 6,
    "start_time": "2023-01-29T10:04:10.152Z"
   },
   {
    "duration": 35,
    "start_time": "2023-01-29T10:04:10.161Z"
   },
   {
    "duration": 136,
    "start_time": "2023-01-29T10:04:10.198Z"
   },
   {
    "duration": 161,
    "start_time": "2023-01-29T10:04:10.336Z"
   },
   {
    "duration": 162,
    "start_time": "2023-01-29T10:04:10.499Z"
   },
   {
    "duration": 152,
    "start_time": "2023-01-29T10:04:10.663Z"
   },
   {
    "duration": 166,
    "start_time": "2023-01-29T10:04:10.817Z"
   },
   {
    "duration": 163,
    "start_time": "2023-01-29T10:04:10.985Z"
   },
   {
    "duration": 175,
    "start_time": "2023-01-29T10:04:11.150Z"
   },
   {
    "duration": 158,
    "start_time": "2023-01-29T10:04:11.327Z"
   },
   {
    "duration": 133,
    "start_time": "2023-01-29T10:04:11.486Z"
   },
   {
    "duration": 264,
    "start_time": "2023-01-29T10:04:11.621Z"
   },
   {
    "duration": 159,
    "start_time": "2023-01-29T10:04:11.886Z"
   },
   {
    "duration": 152,
    "start_time": "2023-01-29T10:04:12.047Z"
   },
   {
    "duration": 175,
    "start_time": "2023-01-29T10:04:12.201Z"
   },
   {
    "duration": 280,
    "start_time": "2023-01-29T10:04:12.377Z"
   },
   {
    "duration": 160,
    "start_time": "2023-01-29T10:04:12.659Z"
   },
   {
    "duration": 5,
    "start_time": "2023-01-29T10:04:12.821Z"
   },
   {
    "duration": 169,
    "start_time": "2023-01-29T10:04:12.828Z"
   },
   {
    "duration": 186,
    "start_time": "2023-01-29T10:04:13.000Z"
   },
   {
    "duration": 192,
    "start_time": "2023-01-29T10:04:13.193Z"
   },
   {
    "duration": 164,
    "start_time": "2023-01-29T10:04:13.391Z"
   },
   {
    "duration": 255,
    "start_time": "2023-01-29T10:04:13.557Z"
   },
   {
    "duration": 171,
    "start_time": "2023-01-29T10:04:13.814Z"
   },
   {
    "duration": 178,
    "start_time": "2023-01-29T10:04:13.987Z"
   },
   {
    "duration": 159,
    "start_time": "2023-01-29T10:04:14.166Z"
   },
   {
    "duration": 182,
    "start_time": "2023-01-29T10:04:14.327Z"
   },
   {
    "duration": 24,
    "start_time": "2023-01-29T10:04:14.511Z"
   },
   {
    "duration": 234,
    "start_time": "2023-01-29T10:04:14.537Z"
   },
   {
    "duration": 309,
    "start_time": "2023-01-29T10:04:14.773Z"
   },
   {
    "duration": 27,
    "start_time": "2023-01-29T10:04:39.288Z"
   },
   {
    "duration": 33,
    "start_time": "2023-01-29T10:05:39.584Z"
   },
   {
    "duration": 126,
    "start_time": "2023-01-29T19:11:56.477Z"
   },
   {
    "duration": 102,
    "start_time": "2023-01-29T19:12:01.847Z"
   },
   {
    "duration": 94,
    "start_time": "2023-01-29T19:12:04.374Z"
   },
   {
    "duration": 41,
    "start_time": "2023-01-29T19:12:08.081Z"
   },
   {
    "duration": 1189,
    "start_time": "2023-01-29T19:12:14.876Z"
   },
   {
    "duration": 88,
    "start_time": "2023-01-29T19:12:16.067Z"
   },
   {
    "duration": 29,
    "start_time": "2023-01-29T19:12:16.157Z"
   },
   {
    "duration": 44,
    "start_time": "2023-01-29T19:12:16.188Z"
   },
   {
    "duration": 1911,
    "start_time": "2023-01-29T19:12:16.234Z"
   },
   {
    "duration": 10,
    "start_time": "2023-01-29T19:12:18.147Z"
   },
   {
    "duration": 29,
    "start_time": "2023-01-29T19:12:18.159Z"
   },
   {
    "duration": 42,
    "start_time": "2023-01-29T19:12:18.190Z"
   },
   {
    "duration": 5,
    "start_time": "2023-01-29T19:12:18.234Z"
   },
   {
    "duration": 12,
    "start_time": "2023-01-29T19:12:18.241Z"
   },
   {
    "duration": 119,
    "start_time": "2023-01-29T19:12:18.254Z"
   },
   {
    "duration": 28,
    "start_time": "2023-01-29T19:12:18.374Z"
   },
   {
    "duration": 5,
    "start_time": "2023-01-29T19:12:18.404Z"
   },
   {
    "duration": 28,
    "start_time": "2023-01-29T19:12:18.426Z"
   },
   {
    "duration": 7,
    "start_time": "2023-01-29T19:12:18.455Z"
   },
   {
    "duration": 93,
    "start_time": "2023-01-29T19:12:18.464Z"
   },
   {
    "duration": 6,
    "start_time": "2023-01-29T19:12:18.558Z"
   },
   {
    "duration": 19,
    "start_time": "2023-01-29T19:12:18.565Z"
   },
   {
    "duration": 11,
    "start_time": "2023-01-29T19:12:18.585Z"
   },
   {
    "duration": 13,
    "start_time": "2023-01-29T19:12:18.597Z"
   },
   {
    "duration": 325,
    "start_time": "2023-01-29T19:12:18.611Z"
   },
   {
    "duration": 7,
    "start_time": "2023-01-29T19:12:18.938Z"
   },
   {
    "duration": 34,
    "start_time": "2023-01-29T19:12:18.946Z"
   },
   {
    "duration": 118,
    "start_time": "2023-01-29T19:12:18.982Z"
   },
   {
    "duration": 158,
    "start_time": "2023-01-29T19:12:19.102Z"
   },
   {
    "duration": 152,
    "start_time": "2023-01-29T19:12:19.262Z"
   },
   {
    "duration": 149,
    "start_time": "2023-01-29T19:12:19.416Z"
   },
   {
    "duration": 163,
    "start_time": "2023-01-29T19:12:19.567Z"
   },
   {
    "duration": 161,
    "start_time": "2023-01-29T19:12:19.732Z"
   },
   {
    "duration": 163,
    "start_time": "2023-01-29T19:12:19.895Z"
   },
   {
    "duration": 171,
    "start_time": "2023-01-29T19:12:20.059Z"
   },
   {
    "duration": 157,
    "start_time": "2023-01-29T19:12:20.232Z"
   },
   {
    "duration": 260,
    "start_time": "2023-01-29T19:12:20.391Z"
   },
   {
    "duration": 167,
    "start_time": "2023-01-29T19:12:20.653Z"
   },
   {
    "duration": 149,
    "start_time": "2023-01-29T19:12:20.821Z"
   },
   {
    "duration": 172,
    "start_time": "2023-01-29T19:12:20.972Z"
   },
   {
    "duration": 275,
    "start_time": "2023-01-29T19:12:21.146Z"
   },
   {
    "duration": 161,
    "start_time": "2023-01-29T19:12:21.427Z"
   },
   {
    "duration": 5,
    "start_time": "2023-01-29T19:12:21.590Z"
   },
   {
    "duration": 184,
    "start_time": "2023-01-29T19:12:21.597Z"
   },
   {
    "duration": 186,
    "start_time": "2023-01-29T19:12:21.785Z"
   },
   {
    "duration": 175,
    "start_time": "2023-01-29T19:12:21.973Z"
   },
   {
    "duration": 165,
    "start_time": "2023-01-29T19:12:22.151Z"
   },
   {
    "duration": 229,
    "start_time": "2023-01-29T19:12:22.317Z"
   },
   {
    "duration": 181,
    "start_time": "2023-01-29T19:12:22.548Z"
   },
   {
    "duration": 165,
    "start_time": "2023-01-29T19:12:22.730Z"
   },
   {
    "duration": 171,
    "start_time": "2023-01-29T19:12:22.897Z"
   },
   {
    "duration": 191,
    "start_time": "2023-01-29T19:12:23.070Z"
   },
   {
    "duration": 25,
    "start_time": "2023-01-29T19:12:23.263Z"
   },
   {
    "duration": 238,
    "start_time": "2023-01-29T19:12:23.289Z"
   },
   {
    "duration": 20,
    "start_time": "2023-01-29T19:12:23.529Z"
   },
   {
    "duration": 307,
    "start_time": "2023-01-29T19:12:23.551Z"
   },
   {
    "duration": 137,
    "start_time": "2023-01-29T19:17:31.002Z"
   },
   {
    "duration": 26,
    "start_time": "2023-01-29T19:18:02.249Z"
   },
   {
    "duration": 29,
    "start_time": "2023-01-29T19:18:13.518Z"
   },
   {
    "duration": 24,
    "start_time": "2023-01-29T19:18:21.447Z"
   },
   {
    "duration": 25,
    "start_time": "2023-01-29T19:18:23.469Z"
   },
   {
    "duration": 20,
    "start_time": "2023-01-29T19:18:55.339Z"
   },
   {
    "duration": 22,
    "start_time": "2023-01-29T19:19:15.501Z"
   },
   {
    "duration": 26,
    "start_time": "2023-01-29T19:19:38.819Z"
   },
   {
    "duration": 20,
    "start_time": "2023-01-29T19:19:43.952Z"
   },
   {
    "duration": 23,
    "start_time": "2023-01-29T19:20:06.782Z"
   },
   {
    "duration": 22,
    "start_time": "2023-01-29T19:20:15.109Z"
   },
   {
    "duration": 109,
    "start_time": "2023-01-29T19:20:33.992Z"
   },
   {
    "duration": 104,
    "start_time": "2023-01-29T19:20:39.134Z"
   },
   {
    "duration": 96,
    "start_time": "2023-01-29T19:20:55.017Z"
   },
   {
    "duration": 23,
    "start_time": "2023-01-29T19:21:07.500Z"
   },
   {
    "duration": 97,
    "start_time": "2023-01-29T19:21:37.528Z"
   },
   {
    "duration": 19,
    "start_time": "2023-01-29T19:21:42.687Z"
   },
   {
    "duration": 20,
    "start_time": "2023-01-29T19:21:50.601Z"
   },
   {
    "duration": 25,
    "start_time": "2023-01-29T19:22:52.283Z"
   },
   {
    "duration": 20,
    "start_time": "2023-01-29T19:22:56.692Z"
   },
   {
    "duration": 26,
    "start_time": "2023-01-29T19:23:24.774Z"
   },
   {
    "duration": 21,
    "start_time": "2023-01-29T19:23:32.577Z"
   },
   {
    "duration": 34,
    "start_time": "2023-01-29T19:24:48.810Z"
   },
   {
    "duration": 23,
    "start_time": "2023-01-29T19:24:57.176Z"
   },
   {
    "duration": 23,
    "start_time": "2023-01-29T19:25:03.918Z"
   },
   {
    "duration": 20,
    "start_time": "2023-01-29T19:25:11.852Z"
   },
   {
    "duration": 120,
    "start_time": "2023-01-29T19:25:44.940Z"
   },
   {
    "duration": 203,
    "start_time": "2023-01-29T19:25:47.907Z"
   },
   {
    "duration": 100,
    "start_time": "2023-01-29T19:25:59.428Z"
   },
   {
    "duration": 118,
    "start_time": "2023-01-29T19:26:03.578Z"
   },
   {
    "duration": 102,
    "start_time": "2023-01-29T19:26:21.616Z"
   },
   {
    "duration": 203,
    "start_time": "2023-01-29T19:26:31.407Z"
   },
   {
    "duration": 192,
    "start_time": "2023-01-29T19:26:38.144Z"
   },
   {
    "duration": 1350,
    "start_time": "2023-01-29T19:27:29.502Z"
   },
   {
    "duration": 96,
    "start_time": "2023-01-29T19:27:30.854Z"
   },
   {
    "duration": 30,
    "start_time": "2023-01-29T19:27:30.951Z"
   },
   {
    "duration": 57,
    "start_time": "2023-01-29T19:27:30.983Z"
   },
   {
    "duration": 1932,
    "start_time": "2023-01-29T19:27:31.042Z"
   },
   {
    "duration": 9,
    "start_time": "2023-01-29T19:27:32.975Z"
   },
   {
    "duration": 24,
    "start_time": "2023-01-29T19:27:32.986Z"
   },
   {
    "duration": 23,
    "start_time": "2023-01-29T19:27:33.028Z"
   },
   {
    "duration": 4,
    "start_time": "2023-01-29T19:27:33.053Z"
   },
   {
    "duration": 8,
    "start_time": "2023-01-29T19:27:33.059Z"
   },
   {
    "duration": 132,
    "start_time": "2023-01-29T19:27:33.069Z"
   },
   {
    "duration": 38,
    "start_time": "2023-01-29T19:27:33.202Z"
   },
   {
    "duration": 5,
    "start_time": "2023-01-29T19:27:33.241Z"
   },
   {
    "duration": 28,
    "start_time": "2023-01-29T19:27:33.248Z"
   },
   {
    "duration": 7,
    "start_time": "2023-01-29T19:27:33.277Z"
   },
   {
    "duration": 99,
    "start_time": "2023-01-29T19:27:33.285Z"
   },
   {
    "duration": 7,
    "start_time": "2023-01-29T19:27:33.386Z"
   },
   {
    "duration": 15,
    "start_time": "2023-01-29T19:27:33.394Z"
   },
   {
    "duration": 26,
    "start_time": "2023-01-29T19:27:33.411Z"
   },
   {
    "duration": 23,
    "start_time": "2023-01-29T19:27:33.439Z"
   },
   {
    "duration": 350,
    "start_time": "2023-01-29T19:27:33.464Z"
   },
   {
    "duration": 5,
    "start_time": "2023-01-29T19:27:33.816Z"
   },
   {
    "duration": 48,
    "start_time": "2023-01-29T19:27:33.827Z"
   },
   {
    "duration": 133,
    "start_time": "2023-01-29T19:27:33.877Z"
   },
   {
    "duration": 159,
    "start_time": "2023-01-29T19:27:34.012Z"
   },
   {
    "duration": 158,
    "start_time": "2023-01-29T19:27:34.172Z"
   },
   {
    "duration": 148,
    "start_time": "2023-01-29T19:27:34.331Z"
   },
   {
    "duration": 177,
    "start_time": "2023-01-29T19:27:34.481Z"
   },
   {
    "duration": 176,
    "start_time": "2023-01-29T19:27:34.660Z"
   },
   {
    "duration": 162,
    "start_time": "2023-01-29T19:27:34.837Z"
   },
   {
    "duration": 168,
    "start_time": "2023-01-29T19:27:35.001Z"
   },
   {
    "duration": 137,
    "start_time": "2023-01-29T19:27:35.171Z"
   },
   {
    "duration": 251,
    "start_time": "2023-01-29T19:27:35.310Z"
   },
   {
    "duration": 165,
    "start_time": "2023-01-29T19:27:35.562Z"
   },
   {
    "duration": 153,
    "start_time": "2023-01-29T19:27:35.728Z"
   },
   {
    "duration": 162,
    "start_time": "2023-01-29T19:27:35.883Z"
   },
   {
    "duration": 274,
    "start_time": "2023-01-29T19:27:36.047Z"
   },
   {
    "duration": 178,
    "start_time": "2023-01-29T19:27:36.323Z"
   },
   {
    "duration": 5,
    "start_time": "2023-01-29T19:27:36.504Z"
   },
   {
    "duration": 187,
    "start_time": "2023-01-29T19:27:36.511Z"
   },
   {
    "duration": 181,
    "start_time": "2023-01-29T19:27:36.702Z"
   },
   {
    "duration": 181,
    "start_time": "2023-01-29T19:27:36.885Z"
   },
   {
    "duration": 166,
    "start_time": "2023-01-29T19:27:37.067Z"
   },
   {
    "duration": 243,
    "start_time": "2023-01-29T19:27:37.235Z"
   },
   {
    "duration": 175,
    "start_time": "2023-01-29T19:27:37.480Z"
   },
   {
    "duration": 172,
    "start_time": "2023-01-29T19:27:37.656Z"
   },
   {
    "duration": 154,
    "start_time": "2023-01-29T19:27:37.830Z"
   },
   {
    "duration": 178,
    "start_time": "2023-01-29T19:27:37.985Z"
   },
   {
    "duration": 26,
    "start_time": "2023-01-29T19:27:38.165Z"
   },
   {
    "duration": 226,
    "start_time": "2023-01-29T19:27:38.193Z"
   },
   {
    "duration": 210,
    "start_time": "2023-01-29T19:27:38.421Z"
   },
   {
    "duration": 303,
    "start_time": "2023-01-29T19:27:38.633Z"
   }
  ],
  "kernelspec": {
   "display_name": "Python 3 (ipykernel)",
   "language": "python",
   "name": "python3"
  },
  "language_info": {
   "codemirror_mode": {
    "name": "ipython",
    "version": 3
   },
   "file_extension": ".py",
   "mimetype": "text/x-python",
   "name": "python",
   "nbconvert_exporter": "python",
   "pygments_lexer": "ipython3",
   "version": "3.9.13"
  },
  "toc": {
   "base_numbering": 1,
   "nav_menu": {},
   "number_sections": true,
   "sideBar": true,
   "skip_h1_title": true,
   "title_cell": "Table of Contents",
   "title_sidebar": "Contents",
   "toc_cell": false,
   "toc_position": {},
   "toc_section_display": true,
   "toc_window_display": false
  }
 },
 "nbformat": 4,
 "nbformat_minor": 2
}
