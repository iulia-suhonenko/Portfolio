{
 "cells": [
  {
   "cell_type": "markdown",
   "id": "e7356b72",
   "metadata": {
    "deletable": false,
    "editable": false,
    "id": "c81daeeb"
   },
   "source": [
    "# Исследование надежности заемщиков\n"
   ]
  },
  {
   "cell_type": "markdown",
   "id": "8d467950",
   "metadata": {
    "deletable": false,
    "editable": false,
    "id": "827c20bf"
   },
   "source": [
    "Во второй части проекта вы выполните шаги 3 и 4. Их вручную проверит ревьюер.\n",
    "Чтобы вам не пришлось писать код заново для шагов 1 и 2, мы добавили авторские решения в ячейки с кодом. \n",
    "\n"
   ]
  },
  {
   "cell_type": "markdown",
   "id": "fa859513",
   "metadata": {
    "deletable": false,
    "editable": false,
    "id": "744d7639"
   },
   "source": [
    "## Откройте таблицу и изучите общую информацию о данных"
   ]
  },
  {
   "cell_type": "markdown",
   "id": "b1c99d4b",
   "metadata": {
    "deletable": false,
    "editable": false,
    "id": "e7a14c31"
   },
   "source": [
    "**Задание 1. Импортируйте библиотеку pandas. Считайте данные из csv-файла в датафрейм и сохраните в переменную `data`. Путь к файлу:**\n",
    "\n",
    "`/datasets/data.csv`"
   ]
  },
  {
   "cell_type": "code",
   "execution_count": 1,
   "id": "138e1685",
   "metadata": {
    "deletable": false,
    "id": "7bcf75c9"
   },
   "outputs": [],
   "source": [
    "import pandas as pd\n",
    "\n",
    "try:\n",
    "    data= pd.read_csv('/datasets/data.csv')\n",
    "except:\n",
    "    data= pd.read_csv('https://code.s3.yandex.net/datasets/data.csv')"
   ]
  },
  {
   "cell_type": "markdown",
   "id": "047919be",
   "metadata": {
    "deletable": false,
    "editable": false,
    "id": "b8038fe3"
   },
   "source": [
    "**Задание 2. Выведите первые 20 строчек датафрейма `data` на экран.**"
   ]
  },
  {
   "cell_type": "code",
   "execution_count": 2,
   "id": "92b59224",
   "metadata": {
    "deletable": false,
    "id": "2a7cab99",
    "outputId": "1a8f3ef2-d323-4ec2-ddf7-89670b5944c4"
   },
   "outputs": [
    {
     "data": {
      "text/html": [
       "<div>\n",
       "<style scoped>\n",
       "    .dataframe tbody tr th:only-of-type {\n",
       "        vertical-align: middle;\n",
       "    }\n",
       "\n",
       "    .dataframe tbody tr th {\n",
       "        vertical-align: top;\n",
       "    }\n",
       "\n",
       "    .dataframe thead th {\n",
       "        text-align: right;\n",
       "    }\n",
       "</style>\n",
       "<table border=\"1\" class=\"dataframe\">\n",
       "  <thead>\n",
       "    <tr style=\"text-align: right;\">\n",
       "      <th></th>\n",
       "      <th>children</th>\n",
       "      <th>days_employed</th>\n",
       "      <th>dob_years</th>\n",
       "      <th>education</th>\n",
       "      <th>education_id</th>\n",
       "      <th>family_status</th>\n",
       "      <th>family_status_id</th>\n",
       "      <th>gender</th>\n",
       "      <th>income_type</th>\n",
       "      <th>debt</th>\n",
       "      <th>total_income</th>\n",
       "      <th>purpose</th>\n",
       "    </tr>\n",
       "  </thead>\n",
       "  <tbody>\n",
       "    <tr>\n",
       "      <th>0</th>\n",
       "      <td>1</td>\n",
       "      <td>-8437.673028</td>\n",
       "      <td>42</td>\n",
       "      <td>высшее</td>\n",
       "      <td>0</td>\n",
       "      <td>женат / замужем</td>\n",
       "      <td>0</td>\n",
       "      <td>F</td>\n",
       "      <td>сотрудник</td>\n",
       "      <td>0</td>\n",
       "      <td>253875.639453</td>\n",
       "      <td>покупка жилья</td>\n",
       "    </tr>\n",
       "    <tr>\n",
       "      <th>1</th>\n",
       "      <td>1</td>\n",
       "      <td>-4024.803754</td>\n",
       "      <td>36</td>\n",
       "      <td>среднее</td>\n",
       "      <td>1</td>\n",
       "      <td>женат / замужем</td>\n",
       "      <td>0</td>\n",
       "      <td>F</td>\n",
       "      <td>сотрудник</td>\n",
       "      <td>0</td>\n",
       "      <td>112080.014102</td>\n",
       "      <td>приобретение автомобиля</td>\n",
       "    </tr>\n",
       "    <tr>\n",
       "      <th>2</th>\n",
       "      <td>0</td>\n",
       "      <td>-5623.422610</td>\n",
       "      <td>33</td>\n",
       "      <td>Среднее</td>\n",
       "      <td>1</td>\n",
       "      <td>женат / замужем</td>\n",
       "      <td>0</td>\n",
       "      <td>M</td>\n",
       "      <td>сотрудник</td>\n",
       "      <td>0</td>\n",
       "      <td>145885.952297</td>\n",
       "      <td>покупка жилья</td>\n",
       "    </tr>\n",
       "    <tr>\n",
       "      <th>3</th>\n",
       "      <td>3</td>\n",
       "      <td>-4124.747207</td>\n",
       "      <td>32</td>\n",
       "      <td>среднее</td>\n",
       "      <td>1</td>\n",
       "      <td>женат / замужем</td>\n",
       "      <td>0</td>\n",
       "      <td>M</td>\n",
       "      <td>сотрудник</td>\n",
       "      <td>0</td>\n",
       "      <td>267628.550329</td>\n",
       "      <td>дополнительное образование</td>\n",
       "    </tr>\n",
       "    <tr>\n",
       "      <th>4</th>\n",
       "      <td>0</td>\n",
       "      <td>340266.072047</td>\n",
       "      <td>53</td>\n",
       "      <td>среднее</td>\n",
       "      <td>1</td>\n",
       "      <td>гражданский брак</td>\n",
       "      <td>1</td>\n",
       "      <td>F</td>\n",
       "      <td>пенсионер</td>\n",
       "      <td>0</td>\n",
       "      <td>158616.077870</td>\n",
       "      <td>сыграть свадьбу</td>\n",
       "    </tr>\n",
       "    <tr>\n",
       "      <th>5</th>\n",
       "      <td>0</td>\n",
       "      <td>-926.185831</td>\n",
       "      <td>27</td>\n",
       "      <td>высшее</td>\n",
       "      <td>0</td>\n",
       "      <td>гражданский брак</td>\n",
       "      <td>1</td>\n",
       "      <td>M</td>\n",
       "      <td>компаньон</td>\n",
       "      <td>0</td>\n",
       "      <td>255763.565419</td>\n",
       "      <td>покупка жилья</td>\n",
       "    </tr>\n",
       "    <tr>\n",
       "      <th>6</th>\n",
       "      <td>0</td>\n",
       "      <td>-2879.202052</td>\n",
       "      <td>43</td>\n",
       "      <td>высшее</td>\n",
       "      <td>0</td>\n",
       "      <td>женат / замужем</td>\n",
       "      <td>0</td>\n",
       "      <td>F</td>\n",
       "      <td>компаньон</td>\n",
       "      <td>0</td>\n",
       "      <td>240525.971920</td>\n",
       "      <td>операции с жильем</td>\n",
       "    </tr>\n",
       "    <tr>\n",
       "      <th>7</th>\n",
       "      <td>0</td>\n",
       "      <td>-152.779569</td>\n",
       "      <td>50</td>\n",
       "      <td>СРЕДНЕЕ</td>\n",
       "      <td>1</td>\n",
       "      <td>женат / замужем</td>\n",
       "      <td>0</td>\n",
       "      <td>M</td>\n",
       "      <td>сотрудник</td>\n",
       "      <td>0</td>\n",
       "      <td>135823.934197</td>\n",
       "      <td>образование</td>\n",
       "    </tr>\n",
       "    <tr>\n",
       "      <th>8</th>\n",
       "      <td>2</td>\n",
       "      <td>-6929.865299</td>\n",
       "      <td>35</td>\n",
       "      <td>ВЫСШЕЕ</td>\n",
       "      <td>0</td>\n",
       "      <td>гражданский брак</td>\n",
       "      <td>1</td>\n",
       "      <td>F</td>\n",
       "      <td>сотрудник</td>\n",
       "      <td>0</td>\n",
       "      <td>95856.832424</td>\n",
       "      <td>на проведение свадьбы</td>\n",
       "    </tr>\n",
       "    <tr>\n",
       "      <th>9</th>\n",
       "      <td>0</td>\n",
       "      <td>-2188.756445</td>\n",
       "      <td>41</td>\n",
       "      <td>среднее</td>\n",
       "      <td>1</td>\n",
       "      <td>женат / замужем</td>\n",
       "      <td>0</td>\n",
       "      <td>M</td>\n",
       "      <td>сотрудник</td>\n",
       "      <td>0</td>\n",
       "      <td>144425.938277</td>\n",
       "      <td>покупка жилья для семьи</td>\n",
       "    </tr>\n",
       "    <tr>\n",
       "      <th>10</th>\n",
       "      <td>2</td>\n",
       "      <td>-4171.483647</td>\n",
       "      <td>36</td>\n",
       "      <td>высшее</td>\n",
       "      <td>0</td>\n",
       "      <td>женат / замужем</td>\n",
       "      <td>0</td>\n",
       "      <td>M</td>\n",
       "      <td>компаньон</td>\n",
       "      <td>0</td>\n",
       "      <td>113943.491460</td>\n",
       "      <td>покупка недвижимости</td>\n",
       "    </tr>\n",
       "    <tr>\n",
       "      <th>11</th>\n",
       "      <td>0</td>\n",
       "      <td>-792.701887</td>\n",
       "      <td>40</td>\n",
       "      <td>среднее</td>\n",
       "      <td>1</td>\n",
       "      <td>женат / замужем</td>\n",
       "      <td>0</td>\n",
       "      <td>F</td>\n",
       "      <td>сотрудник</td>\n",
       "      <td>0</td>\n",
       "      <td>77069.234271</td>\n",
       "      <td>покупка коммерческой недвижимости</td>\n",
       "    </tr>\n",
       "    <tr>\n",
       "      <th>12</th>\n",
       "      <td>0</td>\n",
       "      <td>NaN</td>\n",
       "      <td>65</td>\n",
       "      <td>среднее</td>\n",
       "      <td>1</td>\n",
       "      <td>гражданский брак</td>\n",
       "      <td>1</td>\n",
       "      <td>M</td>\n",
       "      <td>пенсионер</td>\n",
       "      <td>0</td>\n",
       "      <td>NaN</td>\n",
       "      <td>сыграть свадьбу</td>\n",
       "    </tr>\n",
       "    <tr>\n",
       "      <th>13</th>\n",
       "      <td>0</td>\n",
       "      <td>-1846.641941</td>\n",
       "      <td>54</td>\n",
       "      <td>неоконченное высшее</td>\n",
       "      <td>2</td>\n",
       "      <td>женат / замужем</td>\n",
       "      <td>0</td>\n",
       "      <td>F</td>\n",
       "      <td>сотрудник</td>\n",
       "      <td>0</td>\n",
       "      <td>130458.228857</td>\n",
       "      <td>приобретение автомобиля</td>\n",
       "    </tr>\n",
       "    <tr>\n",
       "      <th>14</th>\n",
       "      <td>0</td>\n",
       "      <td>-1844.956182</td>\n",
       "      <td>56</td>\n",
       "      <td>высшее</td>\n",
       "      <td>0</td>\n",
       "      <td>гражданский брак</td>\n",
       "      <td>1</td>\n",
       "      <td>F</td>\n",
       "      <td>компаньон</td>\n",
       "      <td>1</td>\n",
       "      <td>165127.911772</td>\n",
       "      <td>покупка жилой недвижимости</td>\n",
       "    </tr>\n",
       "    <tr>\n",
       "      <th>15</th>\n",
       "      <td>1</td>\n",
       "      <td>-972.364419</td>\n",
       "      <td>26</td>\n",
       "      <td>среднее</td>\n",
       "      <td>1</td>\n",
       "      <td>женат / замужем</td>\n",
       "      <td>0</td>\n",
       "      <td>F</td>\n",
       "      <td>сотрудник</td>\n",
       "      <td>0</td>\n",
       "      <td>116820.904450</td>\n",
       "      <td>строительство собственной недвижимости</td>\n",
       "    </tr>\n",
       "    <tr>\n",
       "      <th>16</th>\n",
       "      <td>0</td>\n",
       "      <td>-1719.934226</td>\n",
       "      <td>35</td>\n",
       "      <td>среднее</td>\n",
       "      <td>1</td>\n",
       "      <td>женат / замужем</td>\n",
       "      <td>0</td>\n",
       "      <td>F</td>\n",
       "      <td>сотрудник</td>\n",
       "      <td>0</td>\n",
       "      <td>289202.704229</td>\n",
       "      <td>недвижимость</td>\n",
       "    </tr>\n",
       "    <tr>\n",
       "      <th>17</th>\n",
       "      <td>0</td>\n",
       "      <td>-2369.999720</td>\n",
       "      <td>33</td>\n",
       "      <td>высшее</td>\n",
       "      <td>0</td>\n",
       "      <td>гражданский брак</td>\n",
       "      <td>1</td>\n",
       "      <td>M</td>\n",
       "      <td>сотрудник</td>\n",
       "      <td>0</td>\n",
       "      <td>90410.586745</td>\n",
       "      <td>строительство недвижимости</td>\n",
       "    </tr>\n",
       "    <tr>\n",
       "      <th>18</th>\n",
       "      <td>0</td>\n",
       "      <td>400281.136913</td>\n",
       "      <td>53</td>\n",
       "      <td>среднее</td>\n",
       "      <td>1</td>\n",
       "      <td>вдовец / вдова</td>\n",
       "      <td>2</td>\n",
       "      <td>F</td>\n",
       "      <td>пенсионер</td>\n",
       "      <td>0</td>\n",
       "      <td>56823.777243</td>\n",
       "      <td>на покупку подержанного автомобиля</td>\n",
       "    </tr>\n",
       "    <tr>\n",
       "      <th>19</th>\n",
       "      <td>0</td>\n",
       "      <td>-10038.818549</td>\n",
       "      <td>48</td>\n",
       "      <td>СРЕДНЕЕ</td>\n",
       "      <td>1</td>\n",
       "      <td>в разводе</td>\n",
       "      <td>3</td>\n",
       "      <td>F</td>\n",
       "      <td>сотрудник</td>\n",
       "      <td>0</td>\n",
       "      <td>242831.107982</td>\n",
       "      <td>на покупку своего автомобиля</td>\n",
       "    </tr>\n",
       "  </tbody>\n",
       "</table>\n",
       "</div>"
      ],
      "text/plain": [
       "    children  days_employed  dob_years            education  education_id  \\\n",
       "0          1   -8437.673028         42               высшее             0   \n",
       "1          1   -4024.803754         36              среднее             1   \n",
       "2          0   -5623.422610         33              Среднее             1   \n",
       "3          3   -4124.747207         32              среднее             1   \n",
       "4          0  340266.072047         53              среднее             1   \n",
       "5          0    -926.185831         27               высшее             0   \n",
       "6          0   -2879.202052         43               высшее             0   \n",
       "7          0    -152.779569         50              СРЕДНЕЕ             1   \n",
       "8          2   -6929.865299         35               ВЫСШЕЕ             0   \n",
       "9          0   -2188.756445         41              среднее             1   \n",
       "10         2   -4171.483647         36               высшее             0   \n",
       "11         0    -792.701887         40              среднее             1   \n",
       "12         0            NaN         65              среднее             1   \n",
       "13         0   -1846.641941         54  неоконченное высшее             2   \n",
       "14         0   -1844.956182         56               высшее             0   \n",
       "15         1    -972.364419         26              среднее             1   \n",
       "16         0   -1719.934226         35              среднее             1   \n",
       "17         0   -2369.999720         33               высшее             0   \n",
       "18         0  400281.136913         53              среднее             1   \n",
       "19         0  -10038.818549         48              СРЕДНЕЕ             1   \n",
       "\n",
       "       family_status  family_status_id gender income_type  debt  \\\n",
       "0    женат / замужем                 0      F   сотрудник     0   \n",
       "1    женат / замужем                 0      F   сотрудник     0   \n",
       "2    женат / замужем                 0      M   сотрудник     0   \n",
       "3    женат / замужем                 0      M   сотрудник     0   \n",
       "4   гражданский брак                 1      F   пенсионер     0   \n",
       "5   гражданский брак                 1      M   компаньон     0   \n",
       "6    женат / замужем                 0      F   компаньон     0   \n",
       "7    женат / замужем                 0      M   сотрудник     0   \n",
       "8   гражданский брак                 1      F   сотрудник     0   \n",
       "9    женат / замужем                 0      M   сотрудник     0   \n",
       "10   женат / замужем                 0      M   компаньон     0   \n",
       "11   женат / замужем                 0      F   сотрудник     0   \n",
       "12  гражданский брак                 1      M   пенсионер     0   \n",
       "13   женат / замужем                 0      F   сотрудник     0   \n",
       "14  гражданский брак                 1      F   компаньон     1   \n",
       "15   женат / замужем                 0      F   сотрудник     0   \n",
       "16   женат / замужем                 0      F   сотрудник     0   \n",
       "17  гражданский брак                 1      M   сотрудник     0   \n",
       "18    вдовец / вдова                 2      F   пенсионер     0   \n",
       "19         в разводе                 3      F   сотрудник     0   \n",
       "\n",
       "     total_income                                 purpose  \n",
       "0   253875.639453                           покупка жилья  \n",
       "1   112080.014102                 приобретение автомобиля  \n",
       "2   145885.952297                           покупка жилья  \n",
       "3   267628.550329              дополнительное образование  \n",
       "4   158616.077870                         сыграть свадьбу  \n",
       "5   255763.565419                           покупка жилья  \n",
       "6   240525.971920                       операции с жильем  \n",
       "7   135823.934197                             образование  \n",
       "8    95856.832424                   на проведение свадьбы  \n",
       "9   144425.938277                 покупка жилья для семьи  \n",
       "10  113943.491460                    покупка недвижимости  \n",
       "11   77069.234271       покупка коммерческой недвижимости  \n",
       "12            NaN                         сыграть свадьбу  \n",
       "13  130458.228857                 приобретение автомобиля  \n",
       "14  165127.911772              покупка жилой недвижимости  \n",
       "15  116820.904450  строительство собственной недвижимости  \n",
       "16  289202.704229                            недвижимость  \n",
       "17   90410.586745              строительство недвижимости  \n",
       "18   56823.777243      на покупку подержанного автомобиля  \n",
       "19  242831.107982            на покупку своего автомобиля  "
      ]
     },
     "execution_count": 2,
     "metadata": {},
     "output_type": "execute_result"
    }
   ],
   "source": [
    "data.head(20)"
   ]
  },
  {
   "cell_type": "markdown",
   "id": "a857b9a3",
   "metadata": {
    "deletable": false,
    "editable": false,
    "id": "1c12e233"
   },
   "source": [
    "**Задание 3. Выведите основную информацию о датафрейме с помощью метода `info()`.**"
   ]
  },
  {
   "cell_type": "code",
   "execution_count": 3,
   "id": "fb841376",
   "metadata": {
    "deletable": false,
    "id": "2b757bca",
    "outputId": "15376089-8dad-46c9-b520-c05248d43158"
   },
   "outputs": [
    {
     "name": "stdout",
     "output_type": "stream",
     "text": [
      "<class 'pandas.core.frame.DataFrame'>\n",
      "RangeIndex: 21525 entries, 0 to 21524\n",
      "Data columns (total 12 columns):\n",
      " #   Column            Non-Null Count  Dtype  \n",
      "---  ------            --------------  -----  \n",
      " 0   children          21525 non-null  int64  \n",
      " 1   days_employed     19351 non-null  float64\n",
      " 2   dob_years         21525 non-null  int64  \n",
      " 3   education         21525 non-null  object \n",
      " 4   education_id      21525 non-null  int64  \n",
      " 5   family_status     21525 non-null  object \n",
      " 6   family_status_id  21525 non-null  int64  \n",
      " 7   gender            21525 non-null  object \n",
      " 8   income_type       21525 non-null  object \n",
      " 9   debt              21525 non-null  int64  \n",
      " 10  total_income      19351 non-null  float64\n",
      " 11  purpose           21525 non-null  object \n",
      "dtypes: float64(2), int64(5), object(5)\n",
      "memory usage: 2.0+ MB\n"
     ]
    }
   ],
   "source": [
    "data.info()"
   ]
  },
  {
   "cell_type": "markdown",
   "id": "5afc81e9",
   "metadata": {
    "deletable": false,
    "editable": false,
    "id": "333ec665"
   },
   "source": [
    "## Предобработка данных"
   ]
  },
  {
   "cell_type": "markdown",
   "id": "ef180dee",
   "metadata": {
    "deletable": false,
    "editable": false,
    "id": "02d92d53"
   },
   "source": [
    "### Удаление пропусков"
   ]
  },
  {
   "cell_type": "markdown",
   "id": "198b153f",
   "metadata": {
    "deletable": false,
    "editable": false,
    "id": "cd84967c"
   },
   "source": [
    "**Задание 4. Выведите количество пропущенных значений для каждого столбца. Используйте комбинацию двух методов.**"
   ]
  },
  {
   "cell_type": "code",
   "execution_count": 4,
   "id": "a4b584ff",
   "metadata": {
    "deletable": false,
    "id": "7f9b2309",
    "outputId": "81f4d817-781c-465c-ed15-91ce4446810d"
   },
   "outputs": [
    {
     "data": {
      "text/plain": [
       "children               0\n",
       "days_employed       2174\n",
       "dob_years              0\n",
       "education              0\n",
       "education_id           0\n",
       "family_status          0\n",
       "family_status_id       0\n",
       "gender                 0\n",
       "income_type            0\n",
       "debt                   0\n",
       "total_income        2174\n",
       "purpose                0\n",
       "dtype: int64"
      ]
     },
     "execution_count": 4,
     "metadata": {},
     "output_type": "execute_result"
    }
   ],
   "source": [
    "data.isna().sum()"
   ]
  },
  {
   "cell_type": "markdown",
   "id": "8ef62122",
   "metadata": {
    "deletable": false,
    "editable": false,
    "id": "db86e27b"
   },
   "source": [
    "**Задание 5. В двух столбцах есть пропущенные значения. Один из них — `days_employed`. Пропуски в этом столбце вы обработаете на следующем этапе. Другой столбец с пропущенными значениями — `total_income` — хранит данные о доходах. На сумму дохода сильнее всего влияет тип занятости, поэтому заполнить пропуски в этом столбце нужно медианным значением по каждому типу из столбца `income_type`. Например, у человека с типом занятости `сотрудник` пропуск в столбце `total_income` должен быть заполнен медианным доходом среди всех записей с тем же типом.**"
   ]
  },
  {
   "cell_type": "code",
   "execution_count": 5,
   "id": "f96130ce",
   "metadata": {
    "deletable": false,
    "id": "42006a93"
   },
   "outputs": [],
   "source": [
    "for t in data['income_type'].unique():\n",
    "    data.loc[(data['income_type'] == t) & (data['total_income'].isna()), 'total_income'] = \\\n",
    "    data.loc[(data['income_type'] == t), 'total_income'].median()"
   ]
  },
  {
   "cell_type": "markdown",
   "id": "e7370cad",
   "metadata": {
    "deletable": false,
    "editable": false,
    "id": "89da5ece"
   },
   "source": [
    "### Обработка аномальных значений"
   ]
  },
  {
   "cell_type": "markdown",
   "id": "5a286600",
   "metadata": {
    "deletable": false,
    "editable": false,
    "id": "57964554"
   },
   "source": [
    "**Задание 6. В данных могут встречаться артефакты (аномалии) — значения, которые не отражают действительность и появились по какой-то ошибке. таким артефактом будет отрицательное количество дней трудового стажа в столбце `days_employed`. Для реальных данных это нормально. Обработайте значения в этом столбце: замените все отрицательные значения положительными с помощью метода `abs()`.**"
   ]
  },
  {
   "cell_type": "code",
   "execution_count": 6,
   "id": "05168bda",
   "metadata": {
    "deletable": false,
    "id": "f6f055bf"
   },
   "outputs": [],
   "source": [
    "data['days_employed']= data['days_employed'].abs()"
   ]
  },
  {
   "cell_type": "markdown",
   "id": "324cd250",
   "metadata": {
    "deletable": false,
    "editable": false,
    "id": "6107dd2f"
   },
   "source": [
    "**Задание 7. Для каждого типа занятости выведите медианное значение трудового стажа `days_employed` в днях.**"
   ]
  },
  {
   "cell_type": "code",
   "execution_count": 7,
   "id": "da43e5c5",
   "metadata": {
    "deletable": false,
    "id": "85a5faf6",
    "outputId": "801ef80e-522b-4668-f34e-565af7432bcf"
   },
   "outputs": [
    {
     "data": {
      "text/plain": [
       "income_type\n",
       "безработный        366413.652744\n",
       "в декрете            3296.759962\n",
       "госслужащий          2689.368353\n",
       "компаньон            1547.382223\n",
       "пенсионер          365213.306266\n",
       "предприниматель       520.848083\n",
       "сотрудник            1574.202821\n",
       "студент               578.751554\n",
       "Name: days_employed, dtype: float64"
      ]
     },
     "execution_count": 7,
     "metadata": {},
     "output_type": "execute_result"
    }
   ],
   "source": [
    "data.groupby('income_type')['days_employed'].agg('median')"
   ]
  },
  {
   "cell_type": "markdown",
   "id": "af55f95c",
   "metadata": {
    "deletable": false,
    "editable": false,
    "id": "38d1a030"
   },
   "source": [
    "У двух типов (безработные и пенсионеры) получатся аномально большие значения. Исправить такие значения сложно, поэтому оставьте их как есть. Тем более этот столбец не понадобится вам для исследования."
   ]
  },
  {
   "cell_type": "markdown",
   "id": "f1ac0a26",
   "metadata": {
    "deletable": false,
    "editable": false,
    "id": "d8a9f147"
   },
   "source": [
    "**Задание 8. Выведите перечень уникальных значений столбца `children`.**"
   ]
  },
  {
   "cell_type": "code",
   "execution_count": 8,
   "id": "dc035219",
   "metadata": {
    "deletable": false,
    "id": "ef5056eb",
    "outputId": "6975b15c-7f95-4697-d16d-a0c79b657b03"
   },
   "outputs": [
    {
     "data": {
      "text/plain": [
       "array([ 1,  0,  3,  2, -1,  4, 20,  5])"
      ]
     },
     "execution_count": 8,
     "metadata": {},
     "output_type": "execute_result"
    }
   ],
   "source": [
    "data['children'].unique()"
   ]
  },
  {
   "cell_type": "markdown",
   "id": "0f9803cb",
   "metadata": {
    "deletable": false,
    "editable": false,
    "id": "40b9ebf2"
   },
   "source": [
    "**Задание 9. В столбце `children` есть два аномальных значения. Удалите строки, в которых встречаются такие аномальные значения из датафрейма `data`.**"
   ]
  },
  {
   "cell_type": "code",
   "execution_count": 9,
   "id": "30ec1712",
   "metadata": {
    "deletable": false,
    "id": "3ff9801d"
   },
   "outputs": [],
   "source": [
    "data = data[(data['children']!= -1) & (data['children']!= 20)]"
   ]
  },
  {
   "cell_type": "markdown",
   "id": "48d9312a",
   "metadata": {
    "deletable": false,
    "editable": false,
    "id": "bbc4d0ce"
   },
   "source": [
    "**Задание 10. Ещё раз выведите перечень уникальных значений столбца `children`, чтобы убедиться, что артефакты удалены.**"
   ]
  },
  {
   "cell_type": "code",
   "execution_count": 10,
   "id": "368f921c",
   "metadata": {
    "deletable": false,
    "id": "ad4fa8b7",
    "outputId": "b2097101-d49d-44d9-901b-32a65c9463d1"
   },
   "outputs": [
    {
     "data": {
      "text/plain": [
       "array([1, 0, 3, 2, 4, 5])"
      ]
     },
     "execution_count": 10,
     "metadata": {},
     "output_type": "execute_result"
    }
   ],
   "source": [
    "data['children'].unique()"
   ]
  },
  {
   "cell_type": "markdown",
   "id": "a61f62cb",
   "metadata": {
    "deletable": false,
    "editable": false,
    "id": "75440b63"
   },
   "source": [
    "### Удаление пропусков (продолжение)"
   ]
  },
  {
   "cell_type": "markdown",
   "id": "48c4ed3e",
   "metadata": {
    "deletable": false,
    "editable": false,
    "id": "f4ea573f"
   },
   "source": [
    "**Задание 11. Заполните пропуски в столбце `days_employed` медианными значениями по каждого типа занятости `income_type`.**"
   ]
  },
  {
   "cell_type": "code",
   "execution_count": 11,
   "id": "0a426d69",
   "metadata": {
    "deletable": false,
    "id": "af6b1a7e"
   },
   "outputs": [],
   "source": [
    "for t in data['income_type'].unique():\n",
    "    data.loc[(data['income_type']== t) & (data['days_employed'].isna()), 'days_employed']= \\\n",
    "    data.loc[(data['income_type']== t), 'days_employed'].median()"
   ]
  },
  {
   "cell_type": "markdown",
   "id": "3fba1476",
   "metadata": {
    "deletable": false,
    "editable": false,
    "id": "2753f40d"
   },
   "source": [
    "**Задание 12. Убедитесь, что все пропуски заполнены. Проверьте себя и ещё раз выведите количество пропущенных значений для каждого столбца с помощью двух методов.**"
   ]
  },
  {
   "cell_type": "code",
   "execution_count": 12,
   "id": "5238c0de",
   "metadata": {
    "deletable": false,
    "id": "55f78bc2",
    "outputId": "8da1e4e1-358e-4e87-98c9-f261bce0a7b2"
   },
   "outputs": [
    {
     "data": {
      "text/plain": [
       "children            0\n",
       "days_employed       0\n",
       "dob_years           0\n",
       "education           0\n",
       "education_id        0\n",
       "family_status       0\n",
       "family_status_id    0\n",
       "gender              0\n",
       "income_type         0\n",
       "debt                0\n",
       "total_income        0\n",
       "purpose             0\n",
       "dtype: int64"
      ]
     },
     "execution_count": 12,
     "metadata": {},
     "output_type": "execute_result"
    }
   ],
   "source": [
    "data.isna().sum()"
   ]
  },
  {
   "cell_type": "markdown",
   "id": "1edf0274",
   "metadata": {
    "deletable": false,
    "editable": false,
    "id": "ddc81e43"
   },
   "source": [
    "### Изменение типов данных"
   ]
  },
  {
   "cell_type": "markdown",
   "id": "c9fc1373",
   "metadata": {
    "deletable": false,
    "editable": false,
    "id": "42d19d24"
   },
   "source": [
    "**Задание 13. Замените вещественный тип данных в столбце `total_income` на целочисленный с помощью метода `astype()`.**"
   ]
  },
  {
   "cell_type": "code",
   "execution_count": 13,
   "id": "cabe409a",
   "metadata": {
    "deletable": false,
    "id": "920b65ad"
   },
   "outputs": [],
   "source": [
    "data['total_income']= data['total_income'].astype(int)"
   ]
  },
  {
   "cell_type": "markdown",
   "id": "bb59ad64",
   "metadata": {
    "deletable": false,
    "editable": false,
    "id": "80c420ba"
   },
   "source": [
    "### Обработка дубликатов"
   ]
  },
  {
   "cell_type": "markdown",
   "id": "46d3e383",
   "metadata": {
    "deletable": false,
    "editable": false
   },
   "source": [
    "**Задание 14. Обработайте неявные дубликаты в столбце `education`. В этом столбце есть одни и те же значения, но записанные по-разному: с использованием заглавных и строчных букв. Приведите их к нижнему регистру.**"
   ]
  },
  {
   "cell_type": "code",
   "execution_count": 14,
   "id": "c414c5d9",
   "metadata": {
    "deletable": false
   },
   "outputs": [],
   "source": [
    "data['education']= data['education'].str.lower()"
   ]
  },
  {
   "cell_type": "markdown",
   "id": "cff055da",
   "metadata": {
    "deletable": false,
    "editable": false,
    "id": "dc587695"
   },
   "source": [
    "**Задание 15. Выведите на экран количество строк-дубликатов в данных. Если такие строки присутствуют, удалите их.**"
   ]
  },
  {
   "cell_type": "code",
   "execution_count": 15,
   "id": "b98af170",
   "metadata": {
    "deletable": false,
    "id": "3ee445e4",
    "outputId": "9684deba-1934-42d1-99e1-cda61740f822"
   },
   "outputs": [
    {
     "data": {
      "text/plain": [
       "71"
      ]
     },
     "execution_count": 15,
     "metadata": {},
     "output_type": "execute_result"
    }
   ],
   "source": [
    "data.duplicated().sum()"
   ]
  },
  {
   "cell_type": "code",
   "execution_count": 16,
   "id": "bd5bf16b",
   "metadata": {
    "deletable": false,
    "id": "8575fe05"
   },
   "outputs": [],
   "source": [
    "data= data.drop_duplicates()"
   ]
  },
  {
   "cell_type": "markdown",
   "id": "fe6893e5",
   "metadata": {
    "deletable": false,
    "editable": false,
    "id": "9904cf55"
   },
   "source": [
    "### Категоризация данных"
   ]
  },
  {
   "cell_type": "markdown",
   "id": "6a373ffd",
   "metadata": {
    "deletable": false,
    "editable": false,
    "id": "72fcc8a2"
   },
   "source": [
    "**Задание 16. На основании диапазонов, указанных ниже, создайте в датафрейме `data` столбец `total_income_category` с категориями:**\n",
    "\n",
    "- 0–30000 — `'E'`;\n",
    "- 30001–50000 — `'D'`;\n",
    "- 50001–200000 — `'C'`;\n",
    "- 200001–1000000 — `'B'`;\n",
    "- 1000001 и выше — `'A'`.\n",
    "\n",
    "\n",
    "**Например, кредитополучателю с доходом 25000 нужно назначить категорию `'E'`, а клиенту, получающему 235000, — `'B'`. Используйте собственную функцию с именем `categorize_income()` и метод `apply()`.**"
   ]
  },
  {
   "cell_type": "code",
   "execution_count": 17,
   "id": "7f3faa01",
   "metadata": {
    "deletable": false,
    "id": "e1771346"
   },
   "outputs": [],
   "source": [
    "def categorize_income(total_income):\n",
    "    try:\n",
    "        if 0<= total_income <= 30000:\n",
    "            return 'E'\n",
    "        elif 30001<= total_income <= 50000:\n",
    "            return 'D'\n",
    "        elif 50001<= total_income <= 200000:\n",
    "            return 'C'\n",
    "        elif 200001<= total_income <= 1000000:\n",
    "            return 'B'\n",
    "        elif total_income>= 1000001:\n",
    "            return 'A'\n",
    "    except:\n",
    "        pass"
   ]
  },
  {
   "cell_type": "code",
   "execution_count": 18,
   "id": "151bd09b",
   "metadata": {
    "deletable": false,
    "id": "d5f3586d"
   },
   "outputs": [],
   "source": [
    "data['total_income_category'] = data['total_income'].apply(categorize_income)"
   ]
  },
  {
   "cell_type": "markdown",
   "id": "791c5188",
   "metadata": {
    "deletable": false,
    "editable": false,
    "id": "dde49b5c"
   },
   "source": [
    "**Задание 17. Выведите на экран перечень уникальных целей взятия кредита из столбца `purpose`.**"
   ]
  },
  {
   "cell_type": "code",
   "execution_count": 19,
   "id": "3da49ed7",
   "metadata": {
    "deletable": false,
    "id": "f67ce9b3",
    "outputId": "673c12d9-7d7e-4ae0-9812-c622c89dd244"
   },
   "outputs": [
    {
     "data": {
      "text/plain": [
       "array(['покупка жилья', 'приобретение автомобиля',\n",
       "       'дополнительное образование', 'сыграть свадьбу',\n",
       "       'операции с жильем', 'образование', 'на проведение свадьбы',\n",
       "       'покупка жилья для семьи', 'покупка недвижимости',\n",
       "       'покупка коммерческой недвижимости', 'покупка жилой недвижимости',\n",
       "       'строительство собственной недвижимости', 'недвижимость',\n",
       "       'строительство недвижимости', 'на покупку подержанного автомобиля',\n",
       "       'на покупку своего автомобиля',\n",
       "       'операции с коммерческой недвижимостью',\n",
       "       'строительство жилой недвижимости', 'жилье',\n",
       "       'операции со своей недвижимостью', 'автомобили',\n",
       "       'заняться образованием', 'сделка с подержанным автомобилем',\n",
       "       'получение образования', 'автомобиль', 'свадьба',\n",
       "       'получение дополнительного образования', 'покупка своего жилья',\n",
       "       'операции с недвижимостью', 'получение высшего образования',\n",
       "       'свой автомобиль', 'сделка с автомобилем',\n",
       "       'профильное образование', 'высшее образование',\n",
       "       'покупка жилья для сдачи', 'на покупку автомобиля', 'ремонт жилью',\n",
       "       'заняться высшим образованием'], dtype=object)"
      ]
     },
     "execution_count": 19,
     "metadata": {},
     "output_type": "execute_result"
    }
   ],
   "source": [
    "data['purpose'].unique()"
   ]
  },
  {
   "cell_type": "markdown",
   "id": "2464614c",
   "metadata": {
    "deletable": false,
    "editable": false,
    "id": "85d0aef0"
   },
   "source": [
    "**Задание 18. Создайте функцию, которая на основании данных из столбца `purpose` сформирует новый столбец `purpose_category`, в который войдут следующие категории:**\n",
    "\n",
    "- `'операции с автомобилем'`,\n",
    "- `'операции с недвижимостью'`,\n",
    "- `'проведение свадьбы'`,\n",
    "- `'получение образования'`.\n",
    "\n",
    "**Например, если в столбце `purpose` находится подстрока `'на покупку автомобиля'`, то в столбце `purpose_category` должна появиться строка `'операции с автомобилем'`.**\n",
    "\n",
    "**Используйте собственную функцию с именем `categorize_purpose()` и метод `apply()`. Изучите данные в столбце `purpose` и определите, какие подстроки помогут вам правильно определить категорию.**"
   ]
  },
  {
   "cell_type": "code",
   "execution_count": 20,
   "id": "9754a6a8",
   "metadata": {
    "deletable": false,
    "id": "e149fab4"
   },
   "outputs": [],
   "source": [
    "def categorize_purpose(row):\n",
    "    try:\n",
    "        if 'автом' in row:\n",
    "            return 'операции с автомобилем'\n",
    "        elif 'жил' in row or 'недвиж' in row:\n",
    "            return 'операции с недвижимостью'\n",
    "        elif 'свад' in row:\n",
    "            return 'проведение свадьбы'\n",
    "        elif 'образов' in row:\n",
    "            return 'получение образования'\n",
    "    except:\n",
    "        return 'нет категории'"
   ]
  },
  {
   "cell_type": "code",
   "execution_count": 21,
   "id": "1468b417",
   "metadata": {
    "deletable": false,
    "id": "bf36e69b"
   },
   "outputs": [],
   "source": [
    "data['purpose_category']= data['purpose'].apply(categorize_purpose)"
   ]
  },
  {
   "cell_type": "markdown",
   "id": "68be0ac3",
   "metadata": {
    "deletable": false,
    "editable": false,
    "id": "09b242bf"
   },
   "source": [
    "### Шаг 3. Исследуйте данные и ответьте на вопросы"
   ]
  },
  {
   "cell_type": "markdown",
   "id": "dbd5f3fb",
   "metadata": {
    "deletable": false,
    "editable": false,
    "id": "c5d66278"
   },
   "source": [
    "#### 3.1 Есть ли зависимость между количеством детей и возвратом кредита в срок?"
   ]
  },
  {
   "cell_type": "code",
   "execution_count": 22,
   "id": "8ac1e2f1",
   "metadata": {
    "deletable": false,
    "id": "2cacfc4a"
   },
   "outputs": [
    {
     "data": {
      "text/html": [
       "<div>\n",
       "<style scoped>\n",
       "    .dataframe tbody tr th:only-of-type {\n",
       "        vertical-align: middle;\n",
       "    }\n",
       "\n",
       "    .dataframe tbody tr th {\n",
       "        vertical-align: top;\n",
       "    }\n",
       "\n",
       "    .dataframe thead tr th {\n",
       "        text-align: left;\n",
       "    }\n",
       "\n",
       "    .dataframe thead tr:last-of-type th {\n",
       "        text-align: right;\n",
       "    }\n",
       "</style>\n",
       "<table border=\"1\" class=\"dataframe\">\n",
       "  <thead>\n",
       "    <tr>\n",
       "      <th></th>\n",
       "      <th colspan=\"2\" halign=\"left\">debt</th>\n",
       "      <th>conversion</th>\n",
       "    </tr>\n",
       "    <tr>\n",
       "      <th></th>\n",
       "      <th>count</th>\n",
       "      <th>sum</th>\n",
       "      <th></th>\n",
       "    </tr>\n",
       "    <tr>\n",
       "      <th>children</th>\n",
       "      <th></th>\n",
       "      <th></th>\n",
       "      <th></th>\n",
       "    </tr>\n",
       "  </thead>\n",
       "  <tbody>\n",
       "    <tr>\n",
       "      <th>0</th>\n",
       "      <td>14091</td>\n",
       "      <td>1063</td>\n",
       "      <td>7.543822</td>\n",
       "    </tr>\n",
       "    <tr>\n",
       "      <th>1</th>\n",
       "      <td>4808</td>\n",
       "      <td>444</td>\n",
       "      <td>9.234609</td>\n",
       "    </tr>\n",
       "    <tr>\n",
       "      <th>2</th>\n",
       "      <td>2052</td>\n",
       "      <td>194</td>\n",
       "      <td>9.454191</td>\n",
       "    </tr>\n",
       "    <tr>\n",
       "      <th>3</th>\n",
       "      <td>330</td>\n",
       "      <td>27</td>\n",
       "      <td>8.181818</td>\n",
       "    </tr>\n",
       "    <tr>\n",
       "      <th>4</th>\n",
       "      <td>41</td>\n",
       "      <td>4</td>\n",
       "      <td>9.756098</td>\n",
       "    </tr>\n",
       "    <tr>\n",
       "      <th>5</th>\n",
       "      <td>9</td>\n",
       "      <td>0</td>\n",
       "      <td>0.000000</td>\n",
       "    </tr>\n",
       "  </tbody>\n",
       "</table>\n",
       "</div>"
      ],
      "text/plain": [
       "           debt       conversion\n",
       "          count   sum           \n",
       "children                        \n",
       "0         14091  1063   7.543822\n",
       "1          4808   444   9.234609\n",
       "2          2052   194   9.454191\n",
       "3           330    27   8.181818\n",
       "4            41     4   9.756098\n",
       "5             9     0   0.000000"
      ]
     },
     "execution_count": 22,
     "metadata": {},
     "output_type": "execute_result"
    }
   ],
   "source": [
    "data_grouped_children= data.groupby('children').agg({'debt': ['count', 'sum']})\n",
    "data_grouped_children['conversion']= data_grouped_children['debt']['sum']/data_grouped_children['debt']['count']*100\n",
    "data_grouped_children # Ваш код будет здесь. Вы можете создавать новые ячейки."
   ]
  },
  {
   "cell_type": "code",
   "execution_count": 23,
   "id": "c03564f7",
   "metadata": {},
   "outputs": [
    {
     "data": {
      "text/html": [
       "<div>\n",
       "<style scoped>\n",
       "    .dataframe tbody tr th:only-of-type {\n",
       "        vertical-align: middle;\n",
       "    }\n",
       "\n",
       "    .dataframe tbody tr th {\n",
       "        vertical-align: top;\n",
       "    }\n",
       "\n",
       "    .dataframe thead tr th {\n",
       "        text-align: left;\n",
       "    }\n",
       "\n",
       "    .dataframe thead tr:last-of-type th {\n",
       "        text-align: right;\n",
       "    }\n",
       "</style>\n",
       "<table border=\"1\" class=\"dataframe\">\n",
       "  <thead>\n",
       "    <tr>\n",
       "      <th></th>\n",
       "      <th colspan=\"2\" halign=\"left\">debt</th>\n",
       "      <th>conversion</th>\n",
       "    </tr>\n",
       "    <tr>\n",
       "      <th></th>\n",
       "      <th>count</th>\n",
       "      <th>sum</th>\n",
       "      <th></th>\n",
       "    </tr>\n",
       "    <tr>\n",
       "      <th>children</th>\n",
       "      <th></th>\n",
       "      <th></th>\n",
       "      <th></th>\n",
       "    </tr>\n",
       "  </thead>\n",
       "  <tbody>\n",
       "    <tr>\n",
       "      <th>0</th>\n",
       "      <td>14091</td>\n",
       "      <td>1063</td>\n",
       "      <td>7.543822</td>\n",
       "    </tr>\n",
       "    <tr>\n",
       "      <th>1</th>\n",
       "      <td>4808</td>\n",
       "      <td>444</td>\n",
       "      <td>9.234609</td>\n",
       "    </tr>\n",
       "    <tr>\n",
       "      <th>2</th>\n",
       "      <td>2052</td>\n",
       "      <td>194</td>\n",
       "      <td>9.454191</td>\n",
       "    </tr>\n",
       "    <tr>\n",
       "      <th>3</th>\n",
       "      <td>330</td>\n",
       "      <td>27</td>\n",
       "      <td>8.181818</td>\n",
       "    </tr>\n",
       "    <tr>\n",
       "      <th>4</th>\n",
       "      <td>41</td>\n",
       "      <td>4</td>\n",
       "      <td>9.756098</td>\n",
       "    </tr>\n",
       "    <tr>\n",
       "      <th>5</th>\n",
       "      <td>9</td>\n",
       "      <td>0</td>\n",
       "      <td>0.000000</td>\n",
       "    </tr>\n",
       "  </tbody>\n",
       "</table>\n",
       "</div>"
      ],
      "text/plain": [
       "           debt       conversion\n",
       "          count   sum           \n",
       "children                        \n",
       "0         14091  1063   7.543822\n",
       "1          4808   444   9.234609\n",
       "2          2052   194   9.454191\n",
       "3           330    27   8.181818\n",
       "4            41     4   9.756098\n",
       "5             9     0   0.000000"
      ]
     },
     "execution_count": 23,
     "metadata": {},
     "output_type": "execute_result"
    }
   ],
   "source": [
    "data_grouped_children= data.groupby('children').agg({'debt': ['count', 'sum']})\n",
    "data_grouped_children['conversion']= data.groupby('children')['debt'].mean()*100\n",
    "data_grouped_children"
   ]
  },
  {
   "cell_type": "markdown",
   "id": "d0ec2a52",
   "metadata": {
    "deletable": false,
    "id": "3a6b99ec"
   },
   "source": [
    "**Вывод:** \n",
    "1. Бездетные Клиенты кредиты отдают лучше, в этой группе самый низкий процент просрочки 7,54%.\n",
    "2. В семьях с детьми вероятность возврата кредита, практически, на одном уровне, в среднем 9,15%. Поэтому, можно сказать, что семьи с детьми менее надежные заемщики. В таблице есть данные по семьям с 5-ю детьми, но выборка по ним не репрезентативна, поэтому данными можно пренебречь . Судя по тому, что наблюдается четкая зависимость между долей просрочки и наличием детей, 5 детей не станут исключением. \n",
    "3. Данные по семьям с детьми немного разнятся, поэтому хочется посмотреть ещё на зависимость от занятости замщиков."
   ]
  },
  {
   "cell_type": "code",
   "execution_count": 24,
   "id": "a4c67ad4",
   "metadata": {},
   "outputs": [
    {
     "data": {
      "text/html": [
       "<div>\n",
       "<style scoped>\n",
       "    .dataframe tbody tr th:only-of-type {\n",
       "        vertical-align: middle;\n",
       "    }\n",
       "\n",
       "    .dataframe tbody tr th {\n",
       "        vertical-align: top;\n",
       "    }\n",
       "\n",
       "    .dataframe thead tr th {\n",
       "        text-align: left;\n",
       "    }\n",
       "\n",
       "    .dataframe thead tr:last-of-type th {\n",
       "        text-align: right;\n",
       "    }\n",
       "</style>\n",
       "<table border=\"1\" class=\"dataframe\">\n",
       "  <thead>\n",
       "    <tr>\n",
       "      <th></th>\n",
       "      <th colspan=\"2\" halign=\"left\">debt</th>\n",
       "      <th>conversion</th>\n",
       "    </tr>\n",
       "    <tr>\n",
       "      <th></th>\n",
       "      <th>count</th>\n",
       "      <th>sum</th>\n",
       "      <th></th>\n",
       "    </tr>\n",
       "    <tr>\n",
       "      <th>income_type</th>\n",
       "      <th></th>\n",
       "      <th></th>\n",
       "      <th></th>\n",
       "    </tr>\n",
       "  </thead>\n",
       "  <tbody>\n",
       "    <tr>\n",
       "      <th>безработный</th>\n",
       "      <td>2</td>\n",
       "      <td>1</td>\n",
       "      <td>50.000000</td>\n",
       "    </tr>\n",
       "    <tr>\n",
       "      <th>в декрете</th>\n",
       "      <td>1</td>\n",
       "      <td>1</td>\n",
       "      <td>100.000000</td>\n",
       "    </tr>\n",
       "    <tr>\n",
       "      <th>госслужащий</th>\n",
       "      <td>1451</td>\n",
       "      <td>86</td>\n",
       "      <td>5.926947</td>\n",
       "    </tr>\n",
       "    <tr>\n",
       "      <th>компаньон</th>\n",
       "      <td>5047</td>\n",
       "      <td>374</td>\n",
       "      <td>7.410343</td>\n",
       "    </tr>\n",
       "    <tr>\n",
       "      <th>пенсионер</th>\n",
       "      <td>3812</td>\n",
       "      <td>216</td>\n",
       "      <td>5.666317</td>\n",
       "    </tr>\n",
       "    <tr>\n",
       "      <th>предприниматель</th>\n",
       "      <td>2</td>\n",
       "      <td>0</td>\n",
       "      <td>0.000000</td>\n",
       "    </tr>\n",
       "    <tr>\n",
       "      <th>сотрудник</th>\n",
       "      <td>11015</td>\n",
       "      <td>1054</td>\n",
       "      <td>9.568770</td>\n",
       "    </tr>\n",
       "    <tr>\n",
       "      <th>студент</th>\n",
       "      <td>1</td>\n",
       "      <td>0</td>\n",
       "      <td>0.000000</td>\n",
       "    </tr>\n",
       "  </tbody>\n",
       "</table>\n",
       "</div>"
      ],
      "text/plain": [
       "                  debt        conversion\n",
       "                 count   sum            \n",
       "income_type                             \n",
       "безработный          2     1   50.000000\n",
       "в декрете            1     1  100.000000\n",
       "госслужащий       1451    86    5.926947\n",
       "компаньон         5047   374    7.410343\n",
       "пенсионер         3812   216    5.666317\n",
       "предприниматель      2     0    0.000000\n",
       "сотрудник        11015  1054    9.568770\n",
       "студент              1     0    0.000000"
      ]
     },
     "execution_count": 24,
     "metadata": {},
     "output_type": "execute_result"
    }
   ],
   "source": [
    "data_grouped_income_type= data.groupby('income_type').agg({'debt': ['count', 'sum']})\n",
    "data_grouped_income_type['conversion']= data_grouped_income_type['debt']['sum']/ data_grouped_income_type['debt']['count']*100\n",
    "data_grouped_income_type"
   ]
  },
  {
   "cell_type": "markdown",
   "id": "28dcd9e0",
   "metadata": {},
   "source": [
    "**Вывод** \n",
    "1. Есть категории, в которых выборка не репрезентативна, и в целом не отражает реальной картины:\n",
    "- безработный\n",
    "- в декрете\n",
    "- предприниматель\n",
    "- студент\n",
    "2. Среди остальных, сравнимых показателей, можно сказать, сотрудники, которые составляют 50% от всей выборки замщиков, имеют самый высокий процент невозвратов или просрочки кредита.\n",
    "3. В категорию надежных заемщиков попали песионеры и госслужащие, доля невозвратов 5,66% и 5,92% соответственно. Хотя доходы их невысоки, но зато стабильные.\n",
    "4. Компаньоны заняли среднюю позицию, доля 7,41%. Можно сказать, что кредиты возвращают на уровне бездетных семей."
   ]
  },
  {
   "cell_type": "markdown",
   "id": "f98c44fb",
   "metadata": {
    "deletable": false,
    "editable": false,
    "id": "97be82ca"
   },
   "source": [
    "#### 3.2 Есть ли зависимость между семейным положением и возвратом кредита в срок?"
   ]
  },
  {
   "cell_type": "code",
   "execution_count": 25,
   "id": "6d6426ef",
   "metadata": {
    "deletable": false,
    "id": "dc3f7ee8"
   },
   "outputs": [
    {
     "data": {
      "text/html": [
       "<div>\n",
       "<style scoped>\n",
       "    .dataframe tbody tr th:only-of-type {\n",
       "        vertical-align: middle;\n",
       "    }\n",
       "\n",
       "    .dataframe tbody tr th {\n",
       "        vertical-align: top;\n",
       "    }\n",
       "\n",
       "    .dataframe thead tr th {\n",
       "        text-align: left;\n",
       "    }\n",
       "\n",
       "    .dataframe thead tr:last-of-type th {\n",
       "        text-align: right;\n",
       "    }\n",
       "</style>\n",
       "<table border=\"1\" class=\"dataframe\">\n",
       "  <thead>\n",
       "    <tr>\n",
       "      <th></th>\n",
       "      <th colspan=\"2\" halign=\"left\">debt</th>\n",
       "      <th>conversion</th>\n",
       "    </tr>\n",
       "    <tr>\n",
       "      <th></th>\n",
       "      <th>count</th>\n",
       "      <th>sum</th>\n",
       "      <th></th>\n",
       "    </tr>\n",
       "    <tr>\n",
       "      <th>family_status</th>\n",
       "      <th></th>\n",
       "      <th></th>\n",
       "      <th></th>\n",
       "    </tr>\n",
       "  </thead>\n",
       "  <tbody>\n",
       "    <tr>\n",
       "      <th>Не женат / не замужем</th>\n",
       "      <td>2796</td>\n",
       "      <td>273</td>\n",
       "      <td>9.763948</td>\n",
       "    </tr>\n",
       "    <tr>\n",
       "      <th>в разводе</th>\n",
       "      <td>1189</td>\n",
       "      <td>84</td>\n",
       "      <td>7.064760</td>\n",
       "    </tr>\n",
       "    <tr>\n",
       "      <th>вдовец / вдова</th>\n",
       "      <td>951</td>\n",
       "      <td>63</td>\n",
       "      <td>6.624606</td>\n",
       "    </tr>\n",
       "    <tr>\n",
       "      <th>гражданский брак</th>\n",
       "      <td>4134</td>\n",
       "      <td>385</td>\n",
       "      <td>9.313014</td>\n",
       "    </tr>\n",
       "    <tr>\n",
       "      <th>женат / замужем</th>\n",
       "      <td>12261</td>\n",
       "      <td>927</td>\n",
       "      <td>7.560558</td>\n",
       "    </tr>\n",
       "  </tbody>\n",
       "</table>\n",
       "</div>"
      ],
      "text/plain": [
       "                        debt      conversion\n",
       "                       count  sum           \n",
       "family_status                               \n",
       "Не женат / не замужем   2796  273   9.763948\n",
       "в разводе               1189   84   7.064760\n",
       "вдовец / вдова           951   63   6.624606\n",
       "гражданский брак        4134  385   9.313014\n",
       "женат / замужем        12261  927   7.560558"
      ]
     },
     "execution_count": 25,
     "metadata": {},
     "output_type": "execute_result"
    }
   ],
   "source": [
    "data_grouped_family_status= data.groupby('family_status').agg({'debt': ['count', 'sum']})\n",
    "data_grouped_family_status['conversion']= data_grouped_family_status['debt']['sum']/ data_grouped_family_status['debt']['count']*100\n",
    "data_grouped_family_status # Ваш код будет здесь. Вы можете создавать новые ячейки."
   ]
  },
  {
   "cell_type": "markdown",
   "id": "424eba61",
   "metadata": {
    "deletable": false,
    "id": "1cef7837"
   },
   "source": [
    "**Вывод:** \n",
    "1. Платежеспособность кредиторов зависит от семейного положения. \n",
    "- Семейные хорошо отдают кредиты, доля просрочки всего 7,56%.\n",
    "- А вот самые низкие показатели у категорий \"не женат / не замужем\" и \"гражданский брак\", 9,76% и 9,31% соответственно. \n",
    "\n",
    "*Хотя выше, мы сделали вывод о том, что бездетные семьи более дисциплинированы в выплате кредитов. Значит, что бездетные и в браке - самые надежные заемщики.*  \n",
    "2. Высокие показатели в категориях \"вдовец/вдова\" 6,62% и \"в разводе\"7,06%. Получается, что даже при отсутствии поддержки второй половины эти категории заемщиков более надежные. \n"
   ]
  },
  {
   "cell_type": "markdown",
   "id": "bf4c7331",
   "metadata": {
    "deletable": false,
    "editable": false,
    "id": "1e8b2fca"
   },
   "source": [
    "#### 3.3 Есть ли зависимость между уровнем дохода и возвратом кредита в срок?"
   ]
  },
  {
   "cell_type": "code",
   "execution_count": 26,
   "id": "84461b91",
   "metadata": {
    "deletable": false,
    "id": "cd7e3720"
   },
   "outputs": [
    {
     "data": {
      "text/html": [
       "<div>\n",
       "<style scoped>\n",
       "    .dataframe tbody tr th:only-of-type {\n",
       "        vertical-align: middle;\n",
       "    }\n",
       "\n",
       "    .dataframe tbody tr th {\n",
       "        vertical-align: top;\n",
       "    }\n",
       "\n",
       "    .dataframe thead tr th {\n",
       "        text-align: left;\n",
       "    }\n",
       "\n",
       "    .dataframe thead tr:last-of-type th {\n",
       "        text-align: right;\n",
       "    }\n",
       "</style>\n",
       "<table border=\"1\" class=\"dataframe\">\n",
       "  <thead>\n",
       "    <tr>\n",
       "      <th></th>\n",
       "      <th colspan=\"2\" halign=\"left\">debt</th>\n",
       "      <th>conversion</th>\n",
       "    </tr>\n",
       "    <tr>\n",
       "      <th></th>\n",
       "      <th>count</th>\n",
       "      <th>sum</th>\n",
       "      <th></th>\n",
       "    </tr>\n",
       "    <tr>\n",
       "      <th>total_income_category</th>\n",
       "      <th></th>\n",
       "      <th></th>\n",
       "      <th></th>\n",
       "    </tr>\n",
       "  </thead>\n",
       "  <tbody>\n",
       "    <tr>\n",
       "      <th>A</th>\n",
       "      <td>25</td>\n",
       "      <td>2</td>\n",
       "      <td>8.000000</td>\n",
       "    </tr>\n",
       "    <tr>\n",
       "      <th>B</th>\n",
       "      <td>5014</td>\n",
       "      <td>354</td>\n",
       "      <td>7.060231</td>\n",
       "    </tr>\n",
       "    <tr>\n",
       "      <th>C</th>\n",
       "      <td>15921</td>\n",
       "      <td>1353</td>\n",
       "      <td>8.498210</td>\n",
       "    </tr>\n",
       "    <tr>\n",
       "      <th>D</th>\n",
       "      <td>349</td>\n",
       "      <td>21</td>\n",
       "      <td>6.017192</td>\n",
       "    </tr>\n",
       "    <tr>\n",
       "      <th>E</th>\n",
       "      <td>22</td>\n",
       "      <td>2</td>\n",
       "      <td>9.090909</td>\n",
       "    </tr>\n",
       "  </tbody>\n",
       "</table>\n",
       "</div>"
      ],
      "text/plain": [
       "                        debt       conversion\n",
       "                       count   sum           \n",
       "total_income_category                        \n",
       "A                         25     2   8.000000\n",
       "B                       5014   354   7.060231\n",
       "C                      15921  1353   8.498210\n",
       "D                        349    21   6.017192\n",
       "E                         22     2   9.090909"
      ]
     },
     "execution_count": 26,
     "metadata": {},
     "output_type": "execute_result"
    }
   ],
   "source": [
    "data_grouped_total_income= data.groupby('total_income_category').agg({'debt': ['count', 'sum']})\n",
    "data_grouped_total_income['conversion']= data_grouped_total_income['debt']['sum']/ data_grouped_total_income['debt']['count']*100\n",
    "data_grouped_total_income  # Ваш код будет здесь. Вы можете создавать новые ячейки"
   ]
  },
  {
   "cell_type": "markdown",
   "id": "a491b1fa",
   "metadata": {
    "deletable": false,
    "id": "e8593def"
   },
   "source": [
    "Исходя из диапазонов доходов, определили категории:\n",
    "- 30000 — 'E';\n",
    "- 30001–50000 — 'D';\n",
    "- 50001–200000 — 'C';\n",
    "- 200001–1000000 — 'B';\n",
    "- 1000001 и выше — 'A'.\n",
    "\n",
    "**Выводы:**\n",
    "1. Кредитополучатели от 30000-50000 (категория \"D\") самые надежные, доля просрочек 6,02%. Показатель заметно выбивается из всех остальных, новыборка по ним мала.\n",
    "2. Самый высокий процент невозвратов в срок, у заемщиков с доходом менее 30000 руб. (категория \"Е\"), 9,09%. Но выборка по ним очень мала и сравнима с заемщиками с самым высоким уровнем дохода, свыше 1 млн.руб.(категория \"А\"), где доля просрочки 8%.\n",
    "3. Очень большую долю, 74,5%, составляют заемщики с доходом 50000-200000 руб.(категория \"С\"), а доля просрочек 8,5%, то есть, практически, на уровне самых ненадежных заемщиков."
   ]
  },
  {
   "cell_type": "markdown",
   "id": "5ee835f5",
   "metadata": {
    "deletable": false,
    "editable": false,
    "id": "99ecbd1f"
   },
   "source": [
    "#### 3.4 Как разные цели кредита влияют на его возврат в срок?"
   ]
  },
  {
   "cell_type": "code",
   "execution_count": 27,
   "id": "684e2689",
   "metadata": {
    "deletable": false,
    "id": "2b687290"
   },
   "outputs": [
    {
     "data": {
      "text/html": [
       "<div>\n",
       "<style scoped>\n",
       "    .dataframe tbody tr th:only-of-type {\n",
       "        vertical-align: middle;\n",
       "    }\n",
       "\n",
       "    .dataframe tbody tr th {\n",
       "        vertical-align: top;\n",
       "    }\n",
       "\n",
       "    .dataframe thead tr th {\n",
       "        text-align: left;\n",
       "    }\n",
       "\n",
       "    .dataframe thead tr:last-of-type th {\n",
       "        text-align: right;\n",
       "    }\n",
       "</style>\n",
       "<table border=\"1\" class=\"dataframe\">\n",
       "  <thead>\n",
       "    <tr>\n",
       "      <th></th>\n",
       "      <th colspan=\"2\" halign=\"left\">debt</th>\n",
       "      <th>conversion</th>\n",
       "    </tr>\n",
       "    <tr>\n",
       "      <th></th>\n",
       "      <th>count</th>\n",
       "      <th>sum</th>\n",
       "      <th></th>\n",
       "    </tr>\n",
       "    <tr>\n",
       "      <th>purpose_category</th>\n",
       "      <th></th>\n",
       "      <th></th>\n",
       "      <th></th>\n",
       "    </tr>\n",
       "  </thead>\n",
       "  <tbody>\n",
       "    <tr>\n",
       "      <th>операции с автомобилем</th>\n",
       "      <td>4279</td>\n",
       "      <td>400</td>\n",
       "      <td>9.347978</td>\n",
       "    </tr>\n",
       "    <tr>\n",
       "      <th>операции с недвижимостью</th>\n",
       "      <td>10751</td>\n",
       "      <td>780</td>\n",
       "      <td>7.255139</td>\n",
       "    </tr>\n",
       "    <tr>\n",
       "      <th>получение образования</th>\n",
       "      <td>3988</td>\n",
       "      <td>369</td>\n",
       "      <td>9.252758</td>\n",
       "    </tr>\n",
       "    <tr>\n",
       "      <th>проведение свадьбы</th>\n",
       "      <td>2313</td>\n",
       "      <td>183</td>\n",
       "      <td>7.911803</td>\n",
       "    </tr>\n",
       "  </tbody>\n",
       "</table>\n",
       "</div>"
      ],
      "text/plain": [
       "                           debt      conversion\n",
       "                          count  sum           \n",
       "purpose_category                               \n",
       "операции с автомобилем     4279  400   9.347978\n",
       "операции с недвижимостью  10751  780   7.255139\n",
       "получение образования      3988  369   9.252758\n",
       "проведение свадьбы         2313  183   7.911803"
      ]
     },
     "execution_count": 27,
     "metadata": {},
     "output_type": "execute_result"
    }
   ],
   "source": [
    "data_grouped_purpose= data.groupby('purpose_category').agg({'debt': ['count', 'sum']})\n",
    "data_grouped_purpose['conversion']= data_grouped_purpose['debt']['sum']/ data_grouped_purpose['debt']['count']*100\n",
    "data_grouped_purpose  # Ваш код будет здесь. Вы можете создавать новые ячейки."
   ]
  },
  {
   "cell_type": "markdown",
   "id": "f39adeeb",
   "metadata": {
    "deletable": false,
    "id": "b4bb2ce6"
   },
   "source": [
    "**Вывод:** \n",
    "1. Показатель возвращаемости кредитов на проведение свадьбы 7,9% и приобретение жилья 7,25% намного лучше, чем на остальные цели. Кстати, среди всех заемщиков, те, кто взял кредит под операции с недвижимостью составляют почти 50%, и они же самые надежные.  \n",
    "2. Клиенты, взявшие кредит на покупку автомобиля или получение образования отдают кредиты хуже, доля просрочек 9,35% и 9,25% соответственно."
   ]
  },
  {
   "cell_type": "markdown",
   "id": "d9bd832c",
   "metadata": {
    "deletable": false,
    "editable": false,
    "id": "09c3ac4c"
   },
   "source": [
    "#### 3.5 Приведите возможные причины появления пропусков в исходных данных."
   ]
  },
  {
   "cell_type": "markdown",
   "id": "791f67f7",
   "metadata": {
    "deletable": false,
    "id": "9da2ceda"
   },
   "source": [
    "*Ответ:* \n",
    "\n",
    "В исходных данных в двух столбцах: `days_employed` -общий трудовой стаж в днях и `total_income`  - ежемесячный доход, есть пропущенные значения, и они одинаковы, 2174, что составляет 10% от всех 21525 строк с данными. Допустимое значение,около 1%. Между двумя этими показателями есть прямая зависимость: нет стажа, нет дохода.\n",
    "\n",
    "Пропуски имеются в категориях занятости: \"Сотрудник\", \"Пенсионер\", \"Компаньон\" и \"Госслужащий\".\n",
    "\n",
    "Возможные причины появления пропусков в данных:\n",
    "1. Все эти заемщики, как правило, с невысоким доходом, и речь идет о небольших суммах кредита, получить которые можно без справок и доходах.\n",
    "2. У каждого банка есть продукты (кредитные карты, например), с помощью которых можно получить ссуду без официального трудоустройства, но на определенных условиях.\n",
    "Именно потому, что такие данные не обязательны в указанных случаях, поэтому они отсутствуют в выборке."
   ]
  },
  {
   "cell_type": "markdown",
   "id": "9c86a06f",
   "metadata": {
    "deletable": false,
    "editable": false,
    "id": "7b0487d6"
   },
   "source": [
    "#### 3.6 Объясните, почему заполнить пропуски медианным значением — лучшее решение для количественных переменных."
   ]
  },
  {
   "cell_type": "markdown",
   "id": "345e346c",
   "metadata": {
    "deletable": false,
    "id": "7ecf2b8e"
   },
   "source": [
    "*Ответ:* \n",
    "- Медианное значение наиболее точно отражает статистику в случае, когда в вариативном ряду есть отклонения от средних величин в большую и меньшую стороны. Медианное значение дает представление о типичном значении в определенной выборке.\n",
    "В нашем исследовании мы применяли медиану к значениям:\n",
    "- days_employed — общий трудовой стаж в днях и \n",
    "- total_income — ежемесячный доход.\n",
    "Понятно, что именно эти две величины содержат данные, в которых большой разброс. Стаж может быть, как 3 месяца, так и 30 лет. Заработная плата от 0 до 1 млн. или более. Поэтому брать среднюю величину для расчета данных показателей не верно, оно сильно тсказит реальную картину. Именно медиана даст представление о самой типичной величине в каждой из выборок.\n"
   ]
  },
  {
   "cell_type": "markdown",
   "id": "c465ccd1",
   "metadata": {
    "deletable": false,
    "editable": false,
    "id": "6db5255a"
   },
   "source": [
    "### Шаг 4: общий вывод."
   ]
  },
  {
   "cell_type": "markdown",
   "id": "b1838a26",
   "metadata": {
    "deletable": false,
    "id": "bad65432"
   },
   "source": [
    "Нами было проведено исследование, заказчиком которого выступил кредитный отдел банка, с целью выявить влияние различных факторов на факт погашения кредита в срок. \n",
    "\n",
    "Входные данные от банка — статистика о платёжеспособности клиентов.\n",
    "\n",
    "Результаты исследования будут учтены при построении модели кредитного скоринга — специальной системы, которая оценивает способность потенциального заёмщика вернуть кредит банку.\n",
    "\n",
    "В начале исследования было выдвинуто несколько гипотез:\n",
    "- Гипотеза 1: Количество детей влияет на возврат кредита в срок\n",
    "- Гипотеза 2: Семейное положение влияет на возврат кредита в срок\n",
    "- Гипотеза 3: Уровень дохода влияет на возврат кредита в срок\n",
    "- Гипотеза 4: Цель кредита влияет на возврат кредита в срок\n",
    "\n",
    "Проведя исследования по предоставленным от банка данным, выявили следующее:\n",
    "\n",
    "**Гипотеза 1 частично подтверждена:** Выборка по клиентам с 3-мя, 4-мя и 5-ю детьми мала, поэтому данных нужно больше.\n",
    " \n",
    "   - 7,54% - доля просроченных кредитов у бездетных заёмщиков\n",
    "   - 9,23% - доля просроченных кредитов у Клиентов с 1-им ребенком\n",
    "   - 9,45% - доля просроченных кредитов у Клиентов с 2-мя детьми\n",
    "\n",
    "*Рекомендация:* Провести дополнительные исследования на большей выборке данных.\n",
    "\n",
    "**Гипотеза 2 подтверждена:** \n",
    "   \n",
    "   - 9,76% и 9,31%  - доли соответственно в категориях \"не женат / не замужем\" и \"гражданский брак\", являются более рисковыми заемщиками\n",
    "   - 7,56% - доля просрочки у семейных клиентов, \"вдовец/вдова\" 6,62% и \"в разводе\"7,06%. В этих группах Клиентов риски стать должниками ниже\n",
    "\n",
    "*Рекомендация:* Доля клиентов, не состоящих в браке, состаявляет почти 50% от заёмщиков, находящихся в законном браке. Кроме того, разница между 2-мя выводами невелика, 3%, поэтому не стоит придавать весомое значение этой зависимости при принятии решения о кредитоспособности.\n",
    "\n",
    "**Гипотеза 3 частично подтверждена:** Требуется больше данных по клиентам категорий A(более 1000000), D(30000-50000), E(0-30000) для более точных выводов.\n",
    "   \n",
    "   - 8,5% - доля просроченных кредитов у заемщиков с доходом 50000-200000 руб.(категория \"С\")\n",
    "   - 7,06% - доля просроченных кредитов у заеьщиков с доходом 200001-1000000 руб.(категория В).\n",
    "\n",
    "*Рекомендация:* \n",
    "- Для более точных выводов необходимо провести дополнительное исследование на бОльшей выборке. \n",
    "- Кроме того, предлагаем разбить категорию \"С\", и выделить в ней 2 группы: 50000-100000 и 100001-200000, так как средняя зарплата по России по данным Росстата за 2021 составляет 57 244 руб. Вторая группа будет \"очищена\" от среднестатиститческих данных, и показатели статнут более реалистичными.\n",
    "\n",
    "**Гипотеза 4 подтверждена:** \n",
    "\n",
    "   - 9,35% - доля просроченных кредитов под покупку автомобиля \n",
    "   - 7,26% - доля просроченных кредитов под операции с недвижимостью\n",
    "   - 9,25% - доля просроченных кредитов под получение образования\n",
    "   - 7,91% - доля просроченных кредитов под проведение свадьбы \n",
    "\n",
    "*Рекомендация:* Клиенты, взявшие кредит на покупку автомобиля или получение образования отдают кредиты хуже, но при этом, они составляют больше половины (8267) от доли заемщиков (14739) с лучшим показателем возврата кредита, и разница в процентном соотношении между этими группами невелика, 2%. Поэтому не стоит уделять весомое значение этой зависимости при принятии решения о кредитоспособности.\n",
    "\n",
    "**ОБЩИЕ РЕКОМЕНДАЦИИ**\n",
    "1. Специалистам кредитного отдела при построении модели кредитного скоринга можно использовать выводы, полученные из 2-ой и 4-ой гипотез: зависмость от семейного положения и целей кредита.\n",
    "2. Для проверки 1-ой и 3-ей гипотез, зависимость от количества детей и дохода заемщика, провести дополнительные исследования на большем количестве данных.\n",
    "*Из дополнительного исследования: наблюдается зависимость возвратов кредита от занятости Клиента. Обратить внимание на категорию \"Сотрудники\", которые составляют 50% от всей выборки заемщиков, но при этом имеют самый высокий процент невозвратов 9,57%. В качестве рекомендации - провести дополнительное исследвание надежности от стажа работы.*\n"
   ]
  }
 ],
 "metadata": {
  "ExecuteTimeLog": [
   {
    "duration": 494,
    "start_time": "2023-01-04T08:58:30.580Z"
   },
   {
    "duration": 71,
    "start_time": "2023-01-04T08:58:54.149Z"
   },
   {
    "duration": 69,
    "start_time": "2023-01-04T08:58:59.999Z"
   },
   {
    "duration": 17,
    "start_time": "2023-01-04T08:59:26.539Z"
   },
   {
    "duration": 15,
    "start_time": "2023-01-04T08:59:31.769Z"
   },
   {
    "duration": 16,
    "start_time": "2023-01-04T08:59:56.987Z"
   },
   {
    "duration": 37,
    "start_time": "2023-01-04T09:00:14.377Z"
   },
   {
    "duration": 4,
    "start_time": "2023-01-04T09:00:23.783Z"
   },
   {
    "duration": 11,
    "start_time": "2023-01-04T09:00:28.397Z"
   },
   {
    "duration": 8,
    "start_time": "2023-01-04T09:00:33.401Z"
   },
   {
    "duration": 5,
    "start_time": "2023-01-04T09:00:44.950Z"
   },
   {
    "duration": 8,
    "start_time": "2023-01-04T09:00:56.167Z"
   },
   {
    "duration": 6,
    "start_time": "2023-01-04T09:00:57.740Z"
   },
   {
    "duration": 7,
    "start_time": "2023-01-04T09:00:59.299Z"
   },
   {
    "duration": 509,
    "start_time": "2023-01-04T09:01:42.267Z"
   },
   {
    "duration": 25,
    "start_time": "2023-01-04T09:01:42.778Z"
   },
   {
    "duration": 23,
    "start_time": "2023-01-04T09:01:42.804Z"
   },
   {
    "duration": 10,
    "start_time": "2023-01-04T09:01:42.829Z"
   },
   {
    "duration": 57,
    "start_time": "2023-01-04T09:01:42.841Z"
   },
   {
    "duration": 4,
    "start_time": "2023-01-04T09:01:42.900Z"
   },
   {
    "duration": 15,
    "start_time": "2023-01-04T09:01:42.906Z"
   },
   {
    "duration": 5,
    "start_time": "2023-01-04T09:01:42.923Z"
   },
   {
    "duration": 11,
    "start_time": "2023-01-04T09:01:42.930Z"
   },
   {
    "duration": 9,
    "start_time": "2023-01-04T09:01:42.944Z"
   },
   {
    "duration": 59,
    "start_time": "2023-01-04T09:01:42.954Z"
   },
   {
    "duration": 10,
    "start_time": "2023-01-04T09:01:43.015Z"
   },
   {
    "duration": 12,
    "start_time": "2023-01-04T09:01:43.026Z"
   },
   {
    "duration": 13,
    "start_time": "2023-01-04T09:01:43.040Z"
   },
   {
    "duration": 35,
    "start_time": "2023-01-04T09:01:43.055Z"
   },
   {
    "duration": 19,
    "start_time": "2023-01-04T09:01:43.091Z"
   },
   {
    "duration": 4,
    "start_time": "2023-01-04T09:01:43.113Z"
   },
   {
    "duration": 13,
    "start_time": "2023-01-04T09:01:43.119Z"
   },
   {
    "duration": 7,
    "start_time": "2023-01-04T09:01:43.134Z"
   },
   {
    "duration": 41,
    "start_time": "2023-01-04T09:01:43.142Z"
   },
   {
    "duration": 10,
    "start_time": "2023-01-04T09:01:43.186Z"
   },
   {
    "duration": 6,
    "start_time": "2023-01-04T09:01:43.198Z"
   },
   {
    "duration": 11,
    "start_time": "2023-01-04T09:01:43.205Z"
   },
   {
    "duration": 5,
    "start_time": "2023-01-04T09:01:43.218Z"
   },
   {
    "duration": 10,
    "start_time": "2023-01-04T09:01:43.225Z"
   },
   {
    "duration": 19,
    "start_time": "2023-01-04T09:31:39.477Z"
   },
   {
    "duration": 15,
    "start_time": "2023-01-04T09:31:48.731Z"
   },
   {
    "duration": 14,
    "start_time": "2023-01-04T09:31:54.144Z"
   },
   {
    "duration": 14,
    "start_time": "2023-01-04T09:32:06.578Z"
   },
   {
    "duration": 15,
    "start_time": "2023-01-04T09:32:09.053Z"
   },
   {
    "duration": 462,
    "start_time": "2023-01-04T09:32:25.787Z"
   },
   {
    "duration": 22,
    "start_time": "2023-01-04T09:32:26.251Z"
   },
   {
    "duration": 14,
    "start_time": "2023-01-04T09:32:26.274Z"
   },
   {
    "duration": 9,
    "start_time": "2023-01-04T09:32:26.289Z"
   },
   {
    "duration": 37,
    "start_time": "2023-01-04T09:32:26.299Z"
   },
   {
    "duration": 3,
    "start_time": "2023-01-04T09:32:26.337Z"
   },
   {
    "duration": 11,
    "start_time": "2023-01-04T09:32:26.342Z"
   },
   {
    "duration": 22,
    "start_time": "2023-01-04T09:32:26.355Z"
   },
   {
    "duration": 7,
    "start_time": "2023-01-04T09:32:26.379Z"
   },
   {
    "duration": 5,
    "start_time": "2023-01-04T09:32:26.388Z"
   },
   {
    "duration": 38,
    "start_time": "2023-01-04T09:32:26.394Z"
   },
   {
    "duration": 9,
    "start_time": "2023-01-04T09:32:26.434Z"
   },
   {
    "duration": 6,
    "start_time": "2023-01-04T09:32:26.444Z"
   },
   {
    "duration": 34,
    "start_time": "2023-01-04T09:32:26.451Z"
   },
   {
    "duration": 19,
    "start_time": "2023-01-04T09:32:26.486Z"
   },
   {
    "duration": 17,
    "start_time": "2023-01-04T09:32:26.506Z"
   },
   {
    "duration": 3,
    "start_time": "2023-01-04T09:32:26.525Z"
   },
   {
    "duration": 13,
    "start_time": "2023-01-04T09:32:26.529Z"
   },
   {
    "duration": 6,
    "start_time": "2023-01-04T09:32:26.544Z"
   },
   {
    "duration": 4,
    "start_time": "2023-01-04T09:32:26.552Z"
   },
   {
    "duration": 7,
    "start_time": "2023-01-04T09:32:26.578Z"
   },
   {
    "duration": 20,
    "start_time": "2023-01-04T09:32:26.587Z"
   },
   {
    "duration": 2,
    "start_time": "2023-01-04T09:32:26.608Z"
   },
   {
    "duration": 8,
    "start_time": "2023-01-04T09:32:26.611Z"
   },
   {
    "duration": 7,
    "start_time": "2023-01-04T09:32:26.620Z"
   },
   {
    "duration": 421,
    "start_time": "2023-01-04T09:37:28.624Z"
   },
   {
    "duration": 22,
    "start_time": "2023-01-04T09:37:29.047Z"
   },
   {
    "duration": 31,
    "start_time": "2023-01-04T09:37:29.071Z"
   },
   {
    "duration": 28,
    "start_time": "2023-01-04T09:37:29.104Z"
   },
   {
    "duration": 43,
    "start_time": "2023-01-04T09:37:29.134Z"
   },
   {
    "duration": 3,
    "start_time": "2023-01-04T09:37:29.179Z"
   },
   {
    "duration": 51,
    "start_time": "2023-01-04T09:37:29.184Z"
   },
   {
    "duration": 17,
    "start_time": "2023-01-04T09:37:29.237Z"
   },
   {
    "duration": 34,
    "start_time": "2023-01-04T09:37:29.255Z"
   },
   {
    "duration": 22,
    "start_time": "2023-01-04T09:37:29.293Z"
   },
   {
    "duration": 45,
    "start_time": "2023-01-04T09:37:29.317Z"
   },
   {
    "duration": 9,
    "start_time": "2023-01-04T09:37:29.364Z"
   },
   {
    "duration": 20,
    "start_time": "2023-01-04T09:37:29.375Z"
   },
   {
    "duration": 38,
    "start_time": "2023-01-04T09:37:29.397Z"
   },
   {
    "duration": 31,
    "start_time": "2023-01-04T09:37:29.437Z"
   },
   {
    "duration": 18,
    "start_time": "2023-01-04T09:37:29.469Z"
   },
   {
    "duration": 3,
    "start_time": "2023-01-04T09:37:29.489Z"
   },
   {
    "duration": 24,
    "start_time": "2023-01-04T09:37:29.494Z"
   },
   {
    "duration": 29,
    "start_time": "2023-01-04T09:37:29.519Z"
   },
   {
    "duration": 24,
    "start_time": "2023-01-04T09:37:29.550Z"
   },
   {
    "duration": 24,
    "start_time": "2023-01-04T09:37:29.576Z"
   },
   {
    "duration": 31,
    "start_time": "2023-01-04T09:37:29.601Z"
   },
   {
    "duration": 4,
    "start_time": "2023-01-04T09:37:29.634Z"
   },
   {
    "duration": 28,
    "start_time": "2023-01-04T09:37:29.640Z"
   },
   {
    "duration": 20,
    "start_time": "2023-01-04T09:37:29.670Z"
   },
   {
    "duration": 68,
    "start_time": "2023-01-04T09:37:42.730Z"
   },
   {
    "duration": 18,
    "start_time": "2023-01-04T09:37:51.346Z"
   },
   {
    "duration": 15,
    "start_time": "2023-01-04T09:37:59.338Z"
   },
   {
    "duration": 9,
    "start_time": "2023-01-04T09:38:07.546Z"
   },
   {
    "duration": 34,
    "start_time": "2023-01-04T09:38:11.961Z"
   },
   {
    "duration": 4,
    "start_time": "2023-01-04T09:38:17.261Z"
   },
   {
    "duration": 9,
    "start_time": "2023-01-04T09:38:21.549Z"
   },
   {
    "duration": 4,
    "start_time": "2023-01-04T09:38:27.140Z"
   },
   {
    "duration": 5,
    "start_time": "2023-01-04T09:38:30.258Z"
   },
   {
    "duration": 6,
    "start_time": "2023-01-04T09:38:36.941Z"
   },
   {
    "duration": 31,
    "start_time": "2023-01-04T09:38:41.902Z"
   },
   {
    "duration": 9,
    "start_time": "2023-01-04T09:38:46.722Z"
   },
   {
    "duration": 4,
    "start_time": "2023-01-04T09:38:51.356Z"
   },
   {
    "duration": 9,
    "start_time": "2023-01-04T09:38:54.269Z"
   },
   {
    "duration": 20,
    "start_time": "2023-01-04T09:38:58.005Z"
   },
   {
    "duration": 19,
    "start_time": "2023-01-04T09:39:00.870Z"
   },
   {
    "duration": 3,
    "start_time": "2023-01-04T09:39:26.731Z"
   },
   {
    "duration": 11,
    "start_time": "2023-01-04T09:39:30.463Z"
   },
   {
    "duration": 7,
    "start_time": "2023-01-04T09:39:35.825Z"
   },
   {
    "duration": 3,
    "start_time": "2023-01-04T09:39:46.083Z"
   },
   {
    "duration": 9,
    "start_time": "2023-01-04T09:39:50.428Z"
   },
   {
    "duration": 18,
    "start_time": "2023-01-04T09:39:55.583Z"
   },
   {
    "duration": 89,
    "start_time": "2023-01-04T09:40:18.736Z"
   },
   {
    "duration": 81,
    "start_time": "2023-01-04T09:42:19.686Z"
   },
   {
    "duration": 97,
    "start_time": "2023-01-04T09:42:23.836Z"
   },
   {
    "duration": 15,
    "start_time": "2023-01-04T09:45:46.047Z"
   },
   {
    "duration": 13,
    "start_time": "2023-01-04T09:45:54.278Z"
   },
   {
    "duration": 14,
    "start_time": "2023-01-04T09:45:56.527Z"
   },
   {
    "duration": 15,
    "start_time": "2023-01-04T09:46:20.209Z"
   },
   {
    "duration": 75,
    "start_time": "2023-01-04T09:53:41.367Z"
   },
   {
    "duration": 17,
    "start_time": "2023-01-04T09:53:41.445Z"
   },
   {
    "duration": 29,
    "start_time": "2023-01-04T09:53:41.464Z"
   },
   {
    "duration": 37,
    "start_time": "2023-01-04T09:53:41.496Z"
   },
   {
    "duration": 40,
    "start_time": "2023-01-04T09:53:41.536Z"
   },
   {
    "duration": 18,
    "start_time": "2023-01-04T09:53:41.578Z"
   },
   {
    "duration": 17,
    "start_time": "2023-01-04T09:53:41.600Z"
   },
   {
    "duration": 26,
    "start_time": "2023-01-04T09:53:41.618Z"
   },
   {
    "duration": 23,
    "start_time": "2023-01-04T09:53:41.646Z"
   },
   {
    "duration": 30,
    "start_time": "2023-01-04T09:53:41.671Z"
   },
   {
    "duration": 51,
    "start_time": "2023-01-04T09:53:41.703Z"
   },
   {
    "duration": 9,
    "start_time": "2023-01-04T09:53:41.756Z"
   },
   {
    "duration": 24,
    "start_time": "2023-01-04T09:53:41.766Z"
   },
   {
    "duration": 22,
    "start_time": "2023-01-04T09:53:41.795Z"
   },
   {
    "duration": 46,
    "start_time": "2023-01-04T09:53:41.818Z"
   },
   {
    "duration": 35,
    "start_time": "2023-01-04T09:53:41.866Z"
   },
   {
    "duration": 3,
    "start_time": "2023-01-04T09:53:41.903Z"
   },
   {
    "duration": 27,
    "start_time": "2023-01-04T09:53:41.907Z"
   },
   {
    "duration": 24,
    "start_time": "2023-01-04T09:53:41.936Z"
   },
   {
    "duration": 20,
    "start_time": "2023-01-04T09:53:41.962Z"
   },
   {
    "duration": 29,
    "start_time": "2023-01-04T09:53:41.984Z"
   },
   {
    "duration": 17,
    "start_time": "2023-01-04T09:53:42.015Z"
   },
   {
    "duration": 2,
    "start_time": "2023-01-04T09:53:42.033Z"
   },
   {
    "duration": 5,
    "start_time": "2023-01-04T09:53:42.037Z"
   },
   {
    "duration": 10,
    "start_time": "2023-01-04T09:53:42.043Z"
   },
   {
    "duration": 35,
    "start_time": "2023-01-04T09:53:54.972Z"
   },
   {
    "duration": 15,
    "start_time": "2023-01-04T09:54:09.378Z"
   },
   {
    "duration": 14,
    "start_time": "2023-01-04T09:54:12.760Z"
   },
   {
    "duration": 14,
    "start_time": "2023-01-04T09:54:24.683Z"
   },
   {
    "duration": 71,
    "start_time": "2023-01-04T09:54:34.739Z"
   },
   {
    "duration": 16,
    "start_time": "2023-01-04T09:54:34.812Z"
   },
   {
    "duration": 17,
    "start_time": "2023-01-04T09:54:34.829Z"
   },
   {
    "duration": 30,
    "start_time": "2023-01-04T09:54:34.849Z"
   },
   {
    "duration": 34,
    "start_time": "2023-01-04T09:54:34.881Z"
   },
   {
    "duration": 4,
    "start_time": "2023-01-04T09:54:34.917Z"
   },
   {
    "duration": 15,
    "start_time": "2023-01-04T09:54:34.923Z"
   },
   {
    "duration": 7,
    "start_time": "2023-01-04T09:54:34.940Z"
   },
   {
    "duration": 32,
    "start_time": "2023-01-04T09:54:34.949Z"
   },
   {
    "duration": 5,
    "start_time": "2023-01-04T09:54:34.985Z"
   },
   {
    "duration": 55,
    "start_time": "2023-01-04T09:54:34.992Z"
   },
   {
    "duration": 24,
    "start_time": "2023-01-04T09:54:35.049Z"
   },
   {
    "duration": 32,
    "start_time": "2023-01-04T09:54:35.075Z"
   },
   {
    "duration": 11,
    "start_time": "2023-01-04T09:54:35.109Z"
   },
   {
    "duration": 18,
    "start_time": "2023-01-04T09:54:35.122Z"
   },
   {
    "duration": 18,
    "start_time": "2023-01-04T09:54:35.142Z"
   },
   {
    "duration": 3,
    "start_time": "2023-01-04T09:54:35.162Z"
   },
   {
    "duration": 15,
    "start_time": "2023-01-04T09:54:35.167Z"
   },
   {
    "duration": 8,
    "start_time": "2023-01-04T09:54:35.183Z"
   },
   {
    "duration": 6,
    "start_time": "2023-01-04T09:54:35.193Z"
   },
   {
    "duration": 13,
    "start_time": "2023-01-04T09:54:35.200Z"
   },
   {
    "duration": 19,
    "start_time": "2023-01-04T09:54:35.215Z"
   },
   {
    "duration": 2,
    "start_time": "2023-01-04T09:54:35.236Z"
   },
   {
    "duration": 5,
    "start_time": "2023-01-04T09:54:35.240Z"
   },
   {
    "duration": 12,
    "start_time": "2023-01-04T09:54:35.246Z"
   },
   {
    "duration": 15,
    "start_time": "2023-01-04T09:54:47.339Z"
   },
   {
    "duration": 14,
    "start_time": "2023-01-04T09:55:45.965Z"
   },
   {
    "duration": 9,
    "start_time": "2023-01-04T10:00:09.771Z"
   },
   {
    "duration": 8,
    "start_time": "2023-01-04T10:00:57.754Z"
   },
   {
    "duration": 8,
    "start_time": "2023-01-04T10:00:59.733Z"
   },
   {
    "duration": 75,
    "start_time": "2023-01-04T10:01:10.469Z"
   },
   {
    "duration": 16,
    "start_time": "2023-01-04T10:01:10.546Z"
   },
   {
    "duration": 21,
    "start_time": "2023-01-04T10:01:10.564Z"
   },
   {
    "duration": 9,
    "start_time": "2023-01-04T10:01:10.588Z"
   },
   {
    "duration": 35,
    "start_time": "2023-01-04T10:01:10.599Z"
   },
   {
    "duration": 3,
    "start_time": "2023-01-04T10:01:10.636Z"
   },
   {
    "duration": 13,
    "start_time": "2023-01-04T10:01:10.641Z"
   },
   {
    "duration": 6,
    "start_time": "2023-01-04T10:01:10.678Z"
   },
   {
    "duration": 8,
    "start_time": "2023-01-04T10:01:10.685Z"
   },
   {
    "duration": 6,
    "start_time": "2023-01-04T10:01:10.695Z"
   },
   {
    "duration": 37,
    "start_time": "2023-01-04T10:01:10.702Z"
   },
   {
    "duration": 37,
    "start_time": "2023-01-04T10:01:10.741Z"
   },
   {
    "duration": 3,
    "start_time": "2023-01-04T10:01:10.780Z"
   },
   {
    "duration": 14,
    "start_time": "2023-01-04T10:01:10.785Z"
   },
   {
    "duration": 23,
    "start_time": "2023-01-04T10:01:10.801Z"
   },
   {
    "duration": 30,
    "start_time": "2023-01-04T10:01:10.826Z"
   },
   {
    "duration": 20,
    "start_time": "2023-01-04T10:01:10.858Z"
   },
   {
    "duration": 23,
    "start_time": "2023-01-04T10:01:10.880Z"
   },
   {
    "duration": 43,
    "start_time": "2023-01-04T10:01:10.905Z"
   },
   {
    "duration": 6,
    "start_time": "2023-01-04T10:01:10.950Z"
   },
   {
    "duration": 15,
    "start_time": "2023-01-04T10:01:10.958Z"
   },
   {
    "duration": 40,
    "start_time": "2023-01-04T10:01:10.975Z"
   },
   {
    "duration": 3,
    "start_time": "2023-01-04T10:01:11.017Z"
   },
   {
    "duration": 26,
    "start_time": "2023-01-04T10:01:11.022Z"
   },
   {
    "duration": 17,
    "start_time": "2023-01-04T10:01:11.050Z"
   },
   {
    "duration": 15,
    "start_time": "2023-01-04T10:01:29.147Z"
   },
   {
    "duration": 18,
    "start_time": "2023-01-04T10:02:52.111Z"
   },
   {
    "duration": 13,
    "start_time": "2023-01-04T10:04:16.148Z"
   },
   {
    "duration": 46,
    "start_time": "2023-01-04T10:06:34.139Z"
   },
   {
    "duration": 16,
    "start_time": "2023-01-04T10:06:54.731Z"
   },
   {
    "duration": 172,
    "start_time": "2023-01-04T10:15:26.409Z"
   },
   {
    "duration": 17,
    "start_time": "2023-01-04T10:16:37.251Z"
   },
   {
    "duration": 24,
    "start_time": "2023-01-04T10:18:01.002Z"
   },
   {
    "duration": 20,
    "start_time": "2023-01-04T10:19:36.514Z"
   },
   {
    "duration": 31,
    "start_time": "2023-01-04T10:22:17.988Z"
   },
   {
    "duration": 28,
    "start_time": "2023-01-04T10:24:31.448Z"
   },
   {
    "duration": 27,
    "start_time": "2023-01-04T10:25:10.421Z"
   },
   {
    "duration": 185,
    "start_time": "2023-01-04T10:26:18.722Z"
   },
   {
    "duration": 26,
    "start_time": "2023-01-04T10:26:38.502Z"
   },
   {
    "duration": 878,
    "start_time": "2023-01-04T10:34:59.646Z"
   },
   {
    "duration": 21,
    "start_time": "2023-01-04T10:36:22.801Z"
   },
   {
    "duration": 754,
    "start_time": "2023-01-04T10:37:36.176Z"
   },
   {
    "duration": 32,
    "start_time": "2023-01-04T10:38:10.159Z"
   },
   {
    "duration": 44,
    "start_time": "2023-01-04T10:45:22.357Z"
   },
   {
    "duration": 39,
    "start_time": "2023-01-04T10:45:42.843Z"
   },
   {
    "duration": 27,
    "start_time": "2023-01-04T10:48:45.170Z"
   },
   {
    "duration": 34,
    "start_time": "2023-01-04T11:07:50.999Z"
   },
   {
    "duration": 18,
    "start_time": "2023-01-04T11:23:28.077Z"
   },
   {
    "duration": 16,
    "start_time": "2023-01-04T11:44:03.537Z"
   },
   {
    "duration": 22,
    "start_time": "2023-01-04T11:46:57.405Z"
   },
   {
    "duration": 414,
    "start_time": "2023-01-04T11:47:25.933Z"
   },
   {
    "duration": 22,
    "start_time": "2023-01-04T11:47:26.349Z"
   },
   {
    "duration": 16,
    "start_time": "2023-01-04T11:47:26.372Z"
   },
   {
    "duration": 8,
    "start_time": "2023-01-04T11:47:26.390Z"
   },
   {
    "duration": 33,
    "start_time": "2023-01-04T11:47:26.400Z"
   },
   {
    "duration": 4,
    "start_time": "2023-01-04T11:47:26.435Z"
   },
   {
    "duration": 36,
    "start_time": "2023-01-04T11:47:26.441Z"
   },
   {
    "duration": 12,
    "start_time": "2023-01-04T11:47:26.479Z"
   },
   {
    "duration": 41,
    "start_time": "2023-01-04T11:47:26.493Z"
   },
   {
    "duration": 0,
    "start_time": "2023-01-04T11:47:26.538Z"
   },
   {
    "duration": 0,
    "start_time": "2023-01-04T11:47:26.539Z"
   },
   {
    "duration": 0,
    "start_time": "2023-01-04T11:47:26.540Z"
   },
   {
    "duration": 0,
    "start_time": "2023-01-04T11:47:26.541Z"
   },
   {
    "duration": 0,
    "start_time": "2023-01-04T11:47:26.542Z"
   },
   {
    "duration": 0,
    "start_time": "2023-01-04T11:47:26.542Z"
   },
   {
    "duration": 0,
    "start_time": "2023-01-04T11:47:26.543Z"
   },
   {
    "duration": 0,
    "start_time": "2023-01-04T11:47:26.544Z"
   },
   {
    "duration": 0,
    "start_time": "2023-01-04T11:47:26.545Z"
   },
   {
    "duration": 0,
    "start_time": "2023-01-04T11:47:26.545Z"
   },
   {
    "duration": 0,
    "start_time": "2023-01-04T11:47:26.546Z"
   },
   {
    "duration": 0,
    "start_time": "2023-01-04T11:47:26.547Z"
   },
   {
    "duration": 0,
    "start_time": "2023-01-04T11:47:26.548Z"
   },
   {
    "duration": 0,
    "start_time": "2023-01-04T11:47:26.549Z"
   },
   {
    "duration": 0,
    "start_time": "2023-01-04T11:47:26.550Z"
   },
   {
    "duration": 0,
    "start_time": "2023-01-04T11:47:26.551Z"
   },
   {
    "duration": 0,
    "start_time": "2023-01-04T11:47:26.552Z"
   },
   {
    "duration": 83,
    "start_time": "2023-01-04T11:50:03.835Z"
   },
   {
    "duration": 77,
    "start_time": "2023-01-04T11:52:23.486Z"
   },
   {
    "duration": 16,
    "start_time": "2023-01-04T11:52:23.564Z"
   },
   {
    "duration": 16,
    "start_time": "2023-01-04T11:52:23.582Z"
   },
   {
    "duration": 10,
    "start_time": "2023-01-04T11:52:23.600Z"
   },
   {
    "duration": 33,
    "start_time": "2023-01-04T11:52:23.612Z"
   },
   {
    "duration": 3,
    "start_time": "2023-01-04T11:52:23.647Z"
   },
   {
    "duration": 9,
    "start_time": "2023-01-04T11:52:23.678Z"
   },
   {
    "duration": 8,
    "start_time": "2023-01-04T11:52:23.689Z"
   },
   {
    "duration": 40,
    "start_time": "2023-01-04T11:52:23.698Z"
   },
   {
    "duration": 0,
    "start_time": "2023-01-04T11:52:23.741Z"
   },
   {
    "duration": 0,
    "start_time": "2023-01-04T11:52:23.742Z"
   },
   {
    "duration": 0,
    "start_time": "2023-01-04T11:52:23.744Z"
   },
   {
    "duration": 0,
    "start_time": "2023-01-04T11:52:23.745Z"
   },
   {
    "duration": 0,
    "start_time": "2023-01-04T11:52:23.746Z"
   },
   {
    "duration": 0,
    "start_time": "2023-01-04T11:52:23.747Z"
   },
   {
    "duration": 0,
    "start_time": "2023-01-04T11:52:23.748Z"
   },
   {
    "duration": 0,
    "start_time": "2023-01-04T11:52:23.749Z"
   },
   {
    "duration": 0,
    "start_time": "2023-01-04T11:52:23.750Z"
   },
   {
    "duration": 0,
    "start_time": "2023-01-04T11:52:23.751Z"
   },
   {
    "duration": 0,
    "start_time": "2023-01-04T11:52:23.752Z"
   },
   {
    "duration": 0,
    "start_time": "2023-01-04T11:52:23.753Z"
   },
   {
    "duration": 0,
    "start_time": "2023-01-04T11:52:23.754Z"
   },
   {
    "duration": 0,
    "start_time": "2023-01-04T11:52:23.755Z"
   },
   {
    "duration": 0,
    "start_time": "2023-01-04T11:52:23.756Z"
   },
   {
    "duration": 0,
    "start_time": "2023-01-04T11:52:23.757Z"
   },
   {
    "duration": 23,
    "start_time": "2023-01-04T11:52:34.437Z"
   },
   {
    "duration": 25,
    "start_time": "2023-01-04T11:52:56.737Z"
   },
   {
    "duration": 20,
    "start_time": "2023-01-04T11:53:19.836Z"
   },
   {
    "duration": 23,
    "start_time": "2023-01-04T11:53:41.873Z"
   },
   {
    "duration": 499,
    "start_time": "2023-01-04T11:54:45.891Z"
   },
   {
    "duration": 21,
    "start_time": "2023-01-04T11:54:46.392Z"
   },
   {
    "duration": 39,
    "start_time": "2023-01-04T11:54:46.415Z"
   },
   {
    "duration": 29,
    "start_time": "2023-01-04T11:54:46.456Z"
   },
   {
    "duration": 57,
    "start_time": "2023-01-04T11:54:46.487Z"
   },
   {
    "duration": 15,
    "start_time": "2023-01-04T11:54:46.546Z"
   },
   {
    "duration": 33,
    "start_time": "2023-01-04T11:54:46.563Z"
   },
   {
    "duration": 35,
    "start_time": "2023-01-04T11:54:46.597Z"
   },
   {
    "duration": 40,
    "start_time": "2023-01-04T11:54:46.633Z"
   },
   {
    "duration": 0,
    "start_time": "2023-01-04T11:54:46.677Z"
   },
   {
    "duration": 0,
    "start_time": "2023-01-04T11:54:46.678Z"
   },
   {
    "duration": 0,
    "start_time": "2023-01-04T11:54:46.679Z"
   },
   {
    "duration": 0,
    "start_time": "2023-01-04T11:54:46.680Z"
   },
   {
    "duration": 0,
    "start_time": "2023-01-04T11:54:46.681Z"
   },
   {
    "duration": 0,
    "start_time": "2023-01-04T11:54:46.682Z"
   },
   {
    "duration": 0,
    "start_time": "2023-01-04T11:54:46.683Z"
   },
   {
    "duration": 0,
    "start_time": "2023-01-04T11:54:46.684Z"
   },
   {
    "duration": 0,
    "start_time": "2023-01-04T11:54:46.685Z"
   },
   {
    "duration": 0,
    "start_time": "2023-01-04T11:54:46.686Z"
   },
   {
    "duration": 0,
    "start_time": "2023-01-04T11:54:46.687Z"
   },
   {
    "duration": 0,
    "start_time": "2023-01-04T11:54:46.688Z"
   },
   {
    "duration": 0,
    "start_time": "2023-01-04T11:54:46.689Z"
   },
   {
    "duration": 0,
    "start_time": "2023-01-04T11:54:46.691Z"
   },
   {
    "duration": 0,
    "start_time": "2023-01-04T11:54:46.692Z"
   },
   {
    "duration": 0,
    "start_time": "2023-01-04T11:54:46.693Z"
   },
   {
    "duration": 23,
    "start_time": "2023-01-04T11:54:53.856Z"
   },
   {
    "duration": 44,
    "start_time": "2023-01-04T11:57:10.672Z"
   },
   {
    "duration": 7,
    "start_time": "2023-01-04T11:57:21.032Z"
   },
   {
    "duration": 21,
    "start_time": "2023-01-04T11:57:31.168Z"
   },
   {
    "duration": 29,
    "start_time": "2023-01-04T11:57:39.004Z"
   },
   {
    "duration": 19,
    "start_time": "2023-01-04T11:57:45.557Z"
   },
   {
    "duration": 21,
    "start_time": "2023-01-04T11:58:17.689Z"
   },
   {
    "duration": 72,
    "start_time": "2023-01-04T11:59:31.621Z"
   },
   {
    "duration": 9,
    "start_time": "2023-01-04T12:00:14.480Z"
   },
   {
    "duration": 15,
    "start_time": "2023-01-04T12:00:47.237Z"
   },
   {
    "duration": 20,
    "start_time": "2023-01-04T12:00:52.690Z"
   },
   {
    "duration": 10,
    "start_time": "2023-01-04T12:00:56.898Z"
   },
   {
    "duration": 37,
    "start_time": "2023-01-04T12:01:01.103Z"
   },
   {
    "duration": 3,
    "start_time": "2023-01-04T12:01:05.694Z"
   },
   {
    "duration": 12,
    "start_time": "2023-01-04T12:01:09.160Z"
   },
   {
    "duration": 5,
    "start_time": "2023-01-04T12:01:14.592Z"
   },
   {
    "duration": 8,
    "start_time": "2023-01-04T12:01:18.230Z"
   },
   {
    "duration": 6,
    "start_time": "2023-01-04T12:01:21.071Z"
   },
   {
    "duration": 33,
    "start_time": "2023-01-04T12:01:24.657Z"
   },
   {
    "duration": 10,
    "start_time": "2023-01-04T12:01:29.748Z"
   },
   {
    "duration": 4,
    "start_time": "2023-01-04T12:01:38.101Z"
   },
   {
    "duration": 12,
    "start_time": "2023-01-04T12:01:41.026Z"
   },
   {
    "duration": 24,
    "start_time": "2023-01-04T12:01:44.694Z"
   },
   {
    "duration": 19,
    "start_time": "2023-01-04T12:01:46.845Z"
   },
   {
    "duration": 11,
    "start_time": "2023-01-04T12:01:54.048Z"
   },
   {
    "duration": 6,
    "start_time": "2023-01-04T12:02:24.534Z"
   },
   {
    "duration": 11,
    "start_time": "2023-01-04T12:02:35.001Z"
   },
   {
    "duration": 21,
    "start_time": "2023-01-04T12:02:42.639Z"
   },
   {
    "duration": 27,
    "start_time": "2023-01-04T12:02:48.585Z"
   },
   {
    "duration": 20,
    "start_time": "2023-01-04T12:02:55.744Z"
   },
   {
    "duration": 22,
    "start_time": "2023-01-04T12:03:14.104Z"
   },
   {
    "duration": 8,
    "start_time": "2023-01-04T12:05:09.180Z"
   },
   {
    "duration": 4,
    "start_time": "2023-01-04T12:06:18.695Z"
   },
   {
    "duration": 14,
    "start_time": "2023-01-04T12:06:21.855Z"
   },
   {
    "duration": 6,
    "start_time": "2023-01-04T12:06:29.041Z"
   },
   {
    "duration": 6,
    "start_time": "2023-01-04T12:06:48.415Z"
   },
   {
    "duration": 10,
    "start_time": "2023-01-04T12:06:51.115Z"
   },
   {
    "duration": 21,
    "start_time": "2023-01-04T12:07:22.719Z"
   },
   {
    "duration": 26,
    "start_time": "2023-01-04T12:16:57.822Z"
   },
   {
    "duration": 19,
    "start_time": "2023-01-04T12:17:59.369Z"
   },
   {
    "duration": 25,
    "start_time": "2023-01-04T12:18:39.558Z"
   },
   {
    "duration": 27,
    "start_time": "2023-01-04T12:29:19.734Z"
   },
   {
    "duration": 14,
    "start_time": "2023-01-04T12:31:47.992Z"
   },
   {
    "duration": 43,
    "start_time": "2023-01-04T12:32:38.379Z"
   },
   {
    "duration": 22,
    "start_time": "2023-01-04T12:36:23.795Z"
   },
   {
    "duration": 38,
    "start_time": "2023-01-04T12:38:47.608Z"
   },
   {
    "duration": 17,
    "start_time": "2023-01-04T12:39:52.990Z"
   },
   {
    "duration": 749,
    "start_time": "2023-01-04T12:45:45.412Z"
   },
   {
    "duration": 733,
    "start_time": "2023-01-04T12:46:23.874Z"
   },
   {
    "duration": 706,
    "start_time": "2023-01-04T12:46:42.505Z"
   },
   {
    "duration": 20,
    "start_time": "2023-01-04T12:47:42.076Z"
   },
   {
    "duration": 44,
    "start_time": "2023-01-04T15:41:46.219Z"
   },
   {
    "duration": 6,
    "start_time": "2023-01-04T15:42:22.251Z"
   },
   {
    "duration": 698,
    "start_time": "2023-01-04T15:42:34.178Z"
   },
   {
    "duration": 21,
    "start_time": "2023-01-04T15:42:34.878Z"
   },
   {
    "duration": 13,
    "start_time": "2023-01-04T15:42:34.901Z"
   },
   {
    "duration": 9,
    "start_time": "2023-01-04T15:42:34.916Z"
   },
   {
    "duration": 45,
    "start_time": "2023-01-04T15:42:34.927Z"
   },
   {
    "duration": 3,
    "start_time": "2023-01-04T15:42:34.974Z"
   },
   {
    "duration": 12,
    "start_time": "2023-01-04T15:42:34.979Z"
   },
   {
    "duration": 20,
    "start_time": "2023-01-04T15:42:34.993Z"
   },
   {
    "duration": 12,
    "start_time": "2023-01-04T15:42:35.015Z"
   },
   {
    "duration": 6,
    "start_time": "2023-01-04T15:42:35.031Z"
   },
   {
    "duration": 34,
    "start_time": "2023-01-04T15:42:35.039Z"
   },
   {
    "duration": 8,
    "start_time": "2023-01-04T15:42:35.075Z"
   },
   {
    "duration": 28,
    "start_time": "2023-01-04T15:42:35.085Z"
   },
   {
    "duration": 12,
    "start_time": "2023-01-04T15:42:35.116Z"
   },
   {
    "duration": 17,
    "start_time": "2023-01-04T15:42:35.129Z"
   },
   {
    "duration": 25,
    "start_time": "2023-01-04T15:42:35.148Z"
   },
   {
    "duration": 4,
    "start_time": "2023-01-04T15:42:35.176Z"
   },
   {
    "duration": 38,
    "start_time": "2023-01-04T15:42:35.182Z"
   },
   {
    "duration": 7,
    "start_time": "2023-01-04T15:42:35.222Z"
   },
   {
    "duration": 4,
    "start_time": "2023-01-04T15:42:35.231Z"
   },
   {
    "duration": 16,
    "start_time": "2023-01-04T15:42:35.236Z"
   },
   {
    "duration": 753,
    "start_time": "2023-01-04T15:42:35.253Z"
   },
   {
    "duration": 0,
    "start_time": "2023-01-04T15:42:36.009Z"
   },
   {
    "duration": 0,
    "start_time": "2023-01-04T15:42:36.010Z"
   },
   {
    "duration": 0,
    "start_time": "2023-01-04T15:42:36.011Z"
   },
   {
    "duration": 0,
    "start_time": "2023-01-04T15:42:36.013Z"
   },
   {
    "duration": 17,
    "start_time": "2023-01-04T15:43:18.341Z"
   },
   {
    "duration": 756,
    "start_time": "2023-01-04T15:49:23.692Z"
   },
   {
    "duration": 946,
    "start_time": "2023-01-04T15:50:11.527Z"
   },
   {
    "duration": 18,
    "start_time": "2023-01-04T15:50:43.695Z"
   },
   {
    "duration": 982,
    "start_time": "2023-01-04T15:56:16.649Z"
   },
   {
    "duration": 12,
    "start_time": "2023-01-04T15:56:35.349Z"
   },
   {
    "duration": 13,
    "start_time": "2023-01-04T15:56:56.457Z"
   },
   {
    "duration": 9,
    "start_time": "2023-01-04T15:57:31.072Z"
   },
   {
    "duration": 28,
    "start_time": "2023-01-04T16:27:46.923Z"
   },
   {
    "duration": 29,
    "start_time": "2023-01-04T16:30:14.984Z"
   },
   {
    "duration": 24,
    "start_time": "2023-01-04T16:35:25.141Z"
   },
   {
    "duration": 15,
    "start_time": "2023-01-04T16:38:13.675Z"
   },
   {
    "duration": 19,
    "start_time": "2023-01-04T17:29:00.483Z"
   },
   {
    "duration": 705,
    "start_time": "2023-01-04T17:29:54.585Z"
   },
   {
    "duration": 780,
    "start_time": "2023-01-04T17:30:20.017Z"
   },
   {
    "duration": 0,
    "start_time": "2023-01-04T17:31:13.915Z"
   },
   {
    "duration": 743,
    "start_time": "2023-01-04T17:31:30.618Z"
   },
   {
    "duration": 26,
    "start_time": "2023-01-04T17:32:01.072Z"
   },
   {
    "duration": 40,
    "start_time": "2023-01-04T17:35:51.675Z"
   },
   {
    "duration": 18,
    "start_time": "2023-01-04T17:36:42.253Z"
   },
   {
    "duration": 163,
    "start_time": "2023-01-04T17:37:29.972Z"
   },
   {
    "duration": 18,
    "start_time": "2023-01-04T17:37:44.611Z"
   },
   {
    "duration": 45,
    "start_time": "2023-01-05T07:55:07.078Z"
   },
   {
    "duration": 543,
    "start_time": "2023-01-05T07:55:16.046Z"
   },
   {
    "duration": 22,
    "start_time": "2023-01-05T07:55:16.591Z"
   },
   {
    "duration": 13,
    "start_time": "2023-01-05T07:55:16.615Z"
   },
   {
    "duration": 9,
    "start_time": "2023-01-05T07:55:16.630Z"
   },
   {
    "duration": 32,
    "start_time": "2023-01-05T07:55:16.641Z"
   },
   {
    "duration": 3,
    "start_time": "2023-01-05T07:55:16.675Z"
   },
   {
    "duration": 16,
    "start_time": "2023-01-05T07:55:16.680Z"
   },
   {
    "duration": 25,
    "start_time": "2023-01-05T07:55:16.698Z"
   },
   {
    "duration": 12,
    "start_time": "2023-01-05T07:55:16.725Z"
   },
   {
    "duration": 4,
    "start_time": "2023-01-05T07:55:16.739Z"
   },
   {
    "duration": 34,
    "start_time": "2023-01-05T07:55:16.745Z"
   },
   {
    "duration": 8,
    "start_time": "2023-01-05T07:55:16.781Z"
   },
   {
    "duration": 6,
    "start_time": "2023-01-05T07:55:16.791Z"
   },
   {
    "duration": 32,
    "start_time": "2023-01-05T07:55:16.799Z"
   },
   {
    "duration": 22,
    "start_time": "2023-01-05T07:55:16.832Z"
   },
   {
    "duration": 16,
    "start_time": "2023-01-05T07:55:16.855Z"
   },
   {
    "duration": 4,
    "start_time": "2023-01-05T07:55:16.872Z"
   },
   {
    "duration": 17,
    "start_time": "2023-01-05T07:55:16.877Z"
   },
   {
    "duration": 25,
    "start_time": "2023-01-05T07:55:16.896Z"
   },
   {
    "duration": 3,
    "start_time": "2023-01-05T07:55:16.923Z"
   },
   {
    "duration": 16,
    "start_time": "2023-01-05T07:55:16.928Z"
   },
   {
    "duration": 22,
    "start_time": "2023-01-05T07:55:16.945Z"
   },
   {
    "duration": 229,
    "start_time": "2023-01-05T07:55:16.968Z"
   },
   {
    "duration": 31,
    "start_time": "2023-01-05T07:55:17.199Z"
   },
   {
    "duration": 18,
    "start_time": "2023-01-05T07:55:17.232Z"
   },
   {
    "duration": 17,
    "start_time": "2023-01-05T07:55:17.251Z"
   },
   {
    "duration": 24,
    "start_time": "2023-01-05T07:55:17.269Z"
   },
   {
    "duration": 11,
    "start_time": "2023-01-05T07:56:04.451Z"
   },
   {
    "duration": 10,
    "start_time": "2023-01-05T07:56:29.758Z"
   },
   {
    "duration": 13,
    "start_time": "2023-01-05T07:57:14.131Z"
   },
   {
    "duration": 29,
    "start_time": "2023-01-05T07:59:42.805Z"
   },
   {
    "duration": 16,
    "start_time": "2023-01-05T07:59:57.704Z"
   },
   {
    "duration": 15,
    "start_time": "2023-01-05T08:00:07.837Z"
   },
   {
    "duration": 15,
    "start_time": "2023-01-05T08:02:16.758Z"
   },
   {
    "duration": 14,
    "start_time": "2023-01-05T08:03:29.914Z"
   },
   {
    "duration": 15,
    "start_time": "2023-01-05T08:03:38.609Z"
   },
   {
    "duration": 15,
    "start_time": "2023-01-05T08:04:28.807Z"
   },
   {
    "duration": 16,
    "start_time": "2023-01-05T08:08:11.837Z"
   },
   {
    "duration": 30,
    "start_time": "2023-01-05T08:10:19.910Z"
   },
   {
    "duration": 13,
    "start_time": "2023-01-05T08:12:43.290Z"
   },
   {
    "duration": 19,
    "start_time": "2023-01-05T08:17:35.504Z"
   },
   {
    "duration": 1139,
    "start_time": "2023-01-05T08:18:08.703Z"
   },
   {
    "duration": 20,
    "start_time": "2023-01-05T08:18:27.568Z"
   },
   {
    "duration": 14,
    "start_time": "2023-01-05T08:20:34.309Z"
   },
   {
    "duration": 20,
    "start_time": "2023-01-05T08:22:54.027Z"
   },
   {
    "duration": 13,
    "start_time": "2023-01-05T08:23:56.034Z"
   },
   {
    "duration": 15,
    "start_time": "2023-01-05T08:24:14.974Z"
   },
   {
    "duration": 471,
    "start_time": "2023-01-05T10:01:25.019Z"
   },
   {
    "duration": 27,
    "start_time": "2023-01-05T10:01:25.492Z"
   },
   {
    "duration": 19,
    "start_time": "2023-01-05T10:01:25.521Z"
   },
   {
    "duration": 10,
    "start_time": "2023-01-05T10:01:25.541Z"
   },
   {
    "duration": 65,
    "start_time": "2023-01-05T10:01:25.553Z"
   },
   {
    "duration": 3,
    "start_time": "2023-01-05T10:01:25.620Z"
   },
   {
    "duration": 21,
    "start_time": "2023-01-05T10:01:25.625Z"
   },
   {
    "duration": 27,
    "start_time": "2023-01-05T10:01:25.647Z"
   },
   {
    "duration": 8,
    "start_time": "2023-01-05T10:01:25.677Z"
   },
   {
    "duration": 4,
    "start_time": "2023-01-05T10:01:25.687Z"
   },
   {
    "duration": 34,
    "start_time": "2023-01-05T10:01:25.693Z"
   },
   {
    "duration": 15,
    "start_time": "2023-01-05T10:01:25.728Z"
   },
   {
    "duration": 4,
    "start_time": "2023-01-05T10:01:25.745Z"
   },
   {
    "duration": 19,
    "start_time": "2023-01-05T10:01:25.752Z"
   },
   {
    "duration": 47,
    "start_time": "2023-01-05T10:01:25.773Z"
   },
   {
    "duration": 23,
    "start_time": "2023-01-05T10:01:25.822Z"
   },
   {
    "duration": 3,
    "start_time": "2023-01-05T10:01:25.847Z"
   },
   {
    "duration": 21,
    "start_time": "2023-01-05T10:01:25.852Z"
   },
   {
    "duration": 7,
    "start_time": "2023-01-05T10:01:25.874Z"
   },
   {
    "duration": 4,
    "start_time": "2023-01-05T10:01:25.883Z"
   },
   {
    "duration": 30,
    "start_time": "2023-01-05T10:01:25.888Z"
   },
   {
    "duration": 18,
    "start_time": "2023-01-05T10:01:25.920Z"
   },
   {
    "duration": 26,
    "start_time": "2023-01-05T10:01:25.939Z"
   },
   {
    "duration": 13,
    "start_time": "2023-01-05T10:01:25.967Z"
   },
   {
    "duration": 43,
    "start_time": "2023-01-05T10:01:25.981Z"
   },
   {
    "duration": 14,
    "start_time": "2023-01-05T10:01:26.026Z"
   },
   {
    "duration": 49,
    "start_time": "2023-01-05T14:07:13.472Z"
   },
   {
    "duration": 7,
    "start_time": "2023-01-05T14:07:45.013Z"
   },
   {
    "duration": 6,
    "start_time": "2023-01-05T14:07:53.494Z"
   },
   {
    "duration": 480,
    "start_time": "2023-01-05T14:09:36.203Z"
   },
   {
    "duration": 23,
    "start_time": "2023-01-05T14:09:36.685Z"
   },
   {
    "duration": 15,
    "start_time": "2023-01-05T14:09:36.710Z"
   },
   {
    "duration": 26,
    "start_time": "2023-01-05T14:09:36.727Z"
   },
   {
    "duration": 34,
    "start_time": "2023-01-05T14:09:36.754Z"
   },
   {
    "duration": 4,
    "start_time": "2023-01-05T14:09:36.790Z"
   },
   {
    "duration": 12,
    "start_time": "2023-01-05T14:09:36.795Z"
   },
   {
    "duration": 11,
    "start_time": "2023-01-05T14:09:36.808Z"
   },
   {
    "duration": 34,
    "start_time": "2023-01-05T14:09:36.821Z"
   },
   {
    "duration": 4,
    "start_time": "2023-01-05T14:09:36.858Z"
   },
   {
    "duration": 37,
    "start_time": "2023-01-05T14:09:36.864Z"
   },
   {
    "duration": 10,
    "start_time": "2023-01-05T14:09:36.903Z"
   },
   {
    "duration": 7,
    "start_time": "2023-01-05T14:09:36.914Z"
   },
   {
    "duration": 38,
    "start_time": "2023-01-05T14:09:36.922Z"
   },
   {
    "duration": 22,
    "start_time": "2023-01-05T14:09:36.962Z"
   },
   {
    "duration": 18,
    "start_time": "2023-01-05T14:09:36.985Z"
   },
   {
    "duration": 4,
    "start_time": "2023-01-05T14:09:37.004Z"
   },
   {
    "duration": 16,
    "start_time": "2023-01-05T14:09:37.010Z"
   },
   {
    "duration": 6,
    "start_time": "2023-01-05T14:09:37.051Z"
   },
   {
    "duration": 9,
    "start_time": "2023-01-05T14:09:37.059Z"
   },
   {
    "duration": 30,
    "start_time": "2023-01-05T14:09:37.070Z"
   },
   {
    "duration": 19,
    "start_time": "2023-01-05T14:09:37.102Z"
   },
   {
    "duration": 7,
    "start_time": "2023-01-05T14:09:37.123Z"
   },
   {
    "duration": 42,
    "start_time": "2023-01-05T14:09:37.131Z"
   },
   {
    "duration": 16,
    "start_time": "2023-01-05T14:09:37.175Z"
   },
   {
    "duration": 14,
    "start_time": "2023-01-05T14:09:37.193Z"
   },
   {
    "duration": 51,
    "start_time": "2023-01-05T14:09:37.209Z"
   },
   {
    "duration": 9,
    "start_time": "2023-01-05T14:10:03.875Z"
   },
   {
    "duration": 11,
    "start_time": "2023-01-05T14:12:29.098Z"
   },
   {
    "duration": 15,
    "start_time": "2023-01-05T14:13:04.798Z"
   },
   {
    "duration": 72,
    "start_time": "2023-01-05T15:09:02.924Z"
   },
   {
    "duration": 16,
    "start_time": "2023-01-05T15:09:02.999Z"
   },
   {
    "duration": 40,
    "start_time": "2023-01-05T15:09:03.016Z"
   },
   {
    "duration": 11,
    "start_time": "2023-01-05T15:09:03.058Z"
   },
   {
    "duration": 43,
    "start_time": "2023-01-05T15:09:03.071Z"
   },
   {
    "duration": 4,
    "start_time": "2023-01-05T15:09:03.115Z"
   },
   {
    "duration": 34,
    "start_time": "2023-01-05T15:09:03.120Z"
   },
   {
    "duration": 4,
    "start_time": "2023-01-05T15:09:03.156Z"
   },
   {
    "duration": 9,
    "start_time": "2023-01-05T15:09:03.162Z"
   },
   {
    "duration": 11,
    "start_time": "2023-01-05T15:09:03.174Z"
   },
   {
    "duration": 46,
    "start_time": "2023-01-05T15:09:03.187Z"
   },
   {
    "duration": 22,
    "start_time": "2023-01-05T15:09:03.235Z"
   },
   {
    "duration": 9,
    "start_time": "2023-01-05T15:09:03.259Z"
   },
   {
    "duration": 16,
    "start_time": "2023-01-05T15:09:03.269Z"
   },
   {
    "duration": 30,
    "start_time": "2023-01-05T15:09:03.287Z"
   },
   {
    "duration": 33,
    "start_time": "2023-01-05T15:09:03.319Z"
   },
   {
    "duration": 4,
    "start_time": "2023-01-05T15:09:03.354Z"
   },
   {
    "duration": 27,
    "start_time": "2023-01-05T15:09:03.359Z"
   },
   {
    "duration": 10,
    "start_time": "2023-01-05T15:09:03.388Z"
   },
   {
    "duration": 9,
    "start_time": "2023-01-05T15:09:03.400Z"
   },
   {
    "duration": 21,
    "start_time": "2023-01-05T15:09:03.410Z"
   },
   {
    "duration": 22,
    "start_time": "2023-01-05T15:09:03.433Z"
   },
   {
    "duration": 15,
    "start_time": "2023-01-05T15:09:03.457Z"
   },
   {
    "duration": 33,
    "start_time": "2023-01-05T15:09:03.474Z"
   },
   {
    "duration": 42,
    "start_time": "2023-01-05T15:09:03.509Z"
   },
   {
    "duration": 16,
    "start_time": "2023-01-05T15:09:03.552Z"
   },
   {
    "duration": 15,
    "start_time": "2023-01-05T15:09:03.570Z"
   },
   {
    "duration": 33,
    "start_time": "2023-01-05T15:32:01.641Z"
   },
   {
    "duration": 36,
    "start_time": "2023-01-05T15:33:00.634Z"
   },
   {
    "duration": 2748,
    "start_time": "2023-01-05T15:35:13.737Z"
   },
   {
    "duration": 1130,
    "start_time": "2023-01-05T15:38:33.601Z"
   },
   {
    "duration": 15,
    "start_time": "2023-01-05T15:39:04.718Z"
   },
   {
    "duration": 1131,
    "start_time": "2023-01-05T15:39:17.908Z"
   },
   {
    "duration": 1233,
    "start_time": "2023-01-05T15:40:24.101Z"
   },
   {
    "duration": 1169,
    "start_time": "2023-01-05T15:41:55.403Z"
   },
   {
    "duration": 27,
    "start_time": "2023-01-05T15:42:05.595Z"
   },
   {
    "duration": 18,
    "start_time": "2023-01-05T15:46:52.860Z"
   },
   {
    "duration": 19,
    "start_time": "2023-01-05T16:05:31.860Z"
   },
   {
    "duration": 65,
    "start_time": "2023-01-05T17:57:29.890Z"
   },
   {
    "duration": 51,
    "start_time": "2023-01-05T17:57:34.494Z"
   },
   {
    "duration": 45,
    "start_time": "2023-01-05T17:57:42.284Z"
   },
   {
    "duration": 55,
    "start_time": "2023-01-05T17:59:02.959Z"
   },
   {
    "duration": 75,
    "start_time": "2023-01-07T08:58:59.237Z"
   },
   {
    "duration": 84,
    "start_time": "2023-01-07T12:53:44.975Z"
   },
   {
    "duration": 511,
    "start_time": "2023-01-07T12:55:13.639Z"
   },
   {
    "duration": 22,
    "start_time": "2023-01-07T12:55:16.886Z"
   },
   {
    "duration": 14,
    "start_time": "2023-01-07T12:55:23.625Z"
   },
   {
    "duration": 9,
    "start_time": "2023-01-07T12:55:28.826Z"
   },
   {
    "duration": 32,
    "start_time": "2023-01-07T12:55:52.533Z"
   },
   {
    "duration": 5,
    "start_time": "2023-01-07T12:55:55.829Z"
   },
   {
    "duration": 9,
    "start_time": "2023-01-07T12:55:58.583Z"
   },
   {
    "duration": 4,
    "start_time": "2023-01-07T12:56:07.226Z"
   },
   {
    "duration": 6,
    "start_time": "2023-01-07T12:56:10.381Z"
   },
   {
    "duration": 4,
    "start_time": "2023-01-07T12:56:13.505Z"
   },
   {
    "duration": 32,
    "start_time": "2023-01-07T12:56:19.363Z"
   },
   {
    "duration": 9,
    "start_time": "2023-01-07T12:56:21.783Z"
   },
   {
    "duration": 4,
    "start_time": "2023-01-07T12:56:25.864Z"
   },
   {
    "duration": 10,
    "start_time": "2023-01-07T12:56:28.583Z"
   },
   {
    "duration": 18,
    "start_time": "2023-01-07T12:56:31.521Z"
   },
   {
    "duration": 17,
    "start_time": "2023-01-07T12:56:34.018Z"
   },
   {
    "duration": 3,
    "start_time": "2023-01-07T12:56:41.702Z"
   },
   {
    "duration": 11,
    "start_time": "2023-01-07T12:56:43.828Z"
   },
   {
    "duration": 6,
    "start_time": "2023-01-07T12:56:46.220Z"
   },
   {
    "duration": 3,
    "start_time": "2023-01-07T12:56:51.077Z"
   },
   {
    "duration": 8,
    "start_time": "2023-01-07T12:56:53.301Z"
   },
   {
    "duration": 16,
    "start_time": "2023-01-07T12:56:59.537Z"
   },
   {
    "duration": 16,
    "start_time": "2023-01-07T12:57:13.213Z"
   },
   {
    "duration": 15,
    "start_time": "2023-01-07T12:57:32.156Z"
   },
   {
    "duration": 19,
    "start_time": "2023-01-07T12:57:47.432Z"
   },
   {
    "duration": 15,
    "start_time": "2023-01-07T12:58:26.860Z"
   },
   {
    "duration": 17,
    "start_time": "2023-01-07T12:58:36.776Z"
   },
   {
    "duration": 613,
    "start_time": "2023-01-07T13:07:19.519Z"
   },
   {
    "duration": 35,
    "start_time": "2023-01-07T13:07:20.134Z"
   },
   {
    "duration": 30,
    "start_time": "2023-01-07T13:07:20.171Z"
   },
   {
    "duration": 19,
    "start_time": "2023-01-07T13:07:20.205Z"
   },
   {
    "duration": 59,
    "start_time": "2023-01-07T13:07:20.227Z"
   },
   {
    "duration": 4,
    "start_time": "2023-01-07T13:07:20.288Z"
   },
   {
    "duration": 17,
    "start_time": "2023-01-07T13:07:20.294Z"
   },
   {
    "duration": 7,
    "start_time": "2023-01-07T13:07:20.313Z"
   },
   {
    "duration": 42,
    "start_time": "2023-01-07T13:07:20.322Z"
   },
   {
    "duration": 8,
    "start_time": "2023-01-07T13:07:20.370Z"
   },
   {
    "duration": 80,
    "start_time": "2023-01-07T13:07:20.380Z"
   },
   {
    "duration": 19,
    "start_time": "2023-01-07T13:07:20.463Z"
   },
   {
    "duration": 5,
    "start_time": "2023-01-07T13:07:20.484Z"
   },
   {
    "duration": 22,
    "start_time": "2023-01-07T13:07:20.491Z"
   },
   {
    "duration": 67,
    "start_time": "2023-01-07T13:07:20.515Z"
   },
   {
    "duration": 25,
    "start_time": "2023-01-07T13:07:20.585Z"
   },
   {
    "duration": 8,
    "start_time": "2023-01-07T13:07:20.612Z"
   },
   {
    "duration": 29,
    "start_time": "2023-01-07T13:07:20.623Z"
   },
   {
    "duration": 31,
    "start_time": "2023-01-07T13:07:20.654Z"
   },
   {
    "duration": 13,
    "start_time": "2023-01-07T13:07:20.688Z"
   },
   {
    "duration": 36,
    "start_time": "2023-01-07T13:07:20.704Z"
   },
   {
    "duration": 27,
    "start_time": "2023-01-07T13:07:20.744Z"
   },
   {
    "duration": 17,
    "start_time": "2023-01-07T13:07:20.774Z"
   },
   {
    "duration": 21,
    "start_time": "2023-01-07T13:07:20.794Z"
   },
   {
    "duration": 42,
    "start_time": "2023-01-07T13:07:20.817Z"
   },
   {
    "duration": 18,
    "start_time": "2023-01-07T13:07:20.861Z"
   },
   {
    "duration": 18,
    "start_time": "2023-01-07T13:07:20.881Z"
   },
   {
    "duration": 1257,
    "start_time": "2023-01-07T13:07:20.904Z"
   },
   {
    "duration": 36,
    "start_time": "2023-01-07T13:07:38.062Z"
   },
   {
    "duration": 23,
    "start_time": "2023-01-07T13:08:43.018Z"
   },
   {
    "duration": 586,
    "start_time": "2023-01-07T13:08:55.888Z"
   },
   {
    "duration": 13,
    "start_time": "2023-01-07T13:09:25.007Z"
   },
   {
    "duration": 1324,
    "start_time": "2023-01-07T13:09:42.122Z"
   },
   {
    "duration": 15,
    "start_time": "2023-01-07T13:10:21.921Z"
   }
  ],
  "colab": {
   "name": "dpp_template_part2.ipynb",
   "provenance": []
  },
  "kernelspec": {
   "display_name": "Python 3 (ipykernel)",
   "language": "python",
   "name": "python3"
  },
  "language_info": {
   "codemirror_mode": {
    "name": "ipython",
    "version": 3
   },
   "file_extension": ".py",
   "mimetype": "text/x-python",
   "name": "python",
   "nbconvert_exporter": "python",
   "pygments_lexer": "ipython3",
   "version": "3.9.13"
  },
  "toc": {
   "base_numbering": 1,
   "nav_menu": {},
   "number_sections": true,
   "sideBar": true,
   "skip_h1_title": true,
   "title_cell": "Table of Contents",
   "title_sidebar": "Contents",
   "toc_cell": false,
   "toc_position": {},
   "toc_section_display": true,
   "toc_window_display": true
  }
 },
 "nbformat": 4,
 "nbformat_minor": 5
}
