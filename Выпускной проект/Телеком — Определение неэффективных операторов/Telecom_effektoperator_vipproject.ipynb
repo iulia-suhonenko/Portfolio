{
 "cells": [
  {
   "cell_type": "markdown",
   "metadata": {},
   "source": [
    "# Телеком — Определение неэффективных операторов"
   ]
  },
  {
   "cell_type": "markdown",
   "metadata": {},
   "source": [
    "## Материалы:\n",
    "- Дашборд: https://public.tableau.com/app/profile/.10864499/viz/Telecomoperator_16869100616920/Dashboard1?publish=yes\n",
    "- Ссылка на презентацию: https://disk.yandex.ru/i/aWzm1Zeq8JqO1g"
   ]
  },
  {
   "cell_type": "markdown",
   "metadata": {},
   "source": [
    "**ОПИСАНИЕ ПРОЕКТА**\n",
    "\n",
    "Компания **\"Нупозвони\"** хочет проверить эффективность операторов и выявить самых неэффективных с целью дальнейшего внедрения в систему дополнительного функционала. \n",
    "\n",
    "Клиенты провайдера — колл-центры, которые:\n",
    "\n",
    "- распределяют входящие вызовы на операторов\n",
    "- совершают исходящие вызовы силами операторов\n",
    "\n",
    "Также операторы могут делать внутренние вызовы — вызовы друг между другом внутри сети виртуальной телефонии. \n",
    "\n",
    "**Задача:**: Необходимо определить самых неэффективных операторов по следующим признакам низкой эффективности:\n",
    "- много пропущенных входящих вызовов,\n",
    "- долгое ожидания ответа при входящих внешних вызовах,\n",
    "- мало исходящих вывозов — в случае тех колл-центров, что специализируются на обзвонах, а не обработке входящих звонков.\n",
    "  \n",
    "**В нашем распоряжении: датасеты, описывающие использование услуг «Нупозвони» — провайдера виртуальный телефонии**\n",
    "- `telecom_clients.csv`\n",
    "- `telecom_dataset.csv`\n"
   ]
  },
  {
   "cell_type": "markdown",
   "metadata": {},
   "source": [
    "<span style=\"color:green\">**Описание данных**</span> \n",
    "\n",
    "В нашем распоряжении два датасета: \n",
    "- **telecom_clients.csv** хранит информацию о тарифных планах клиентов\n",
    "- **telecom_dataset.csv**  хранит информацию о совершенных звонках клиентов\n",
    "\n",
    "\n",
    "**Структура telecom_dataset.csv:**\n",
    "- **user_id** — Идентификатор клиентского аккаунта в сервисе\n",
    "- **date** — Дата статистики\n",
    "- **direction** — Направление вызовов (out - исходящий вызов, in — входящий вызов)\n",
    "- **internal** — Является ли звонок внутренним звонком между операторами клиента\n",
    "- **operator_id** — Идентификатор оператора\n",
    "- **is_missed_call** — Является ли звонок пропущенным\n",
    "- **calls_count** — Количество звонков\n",
    "- **call_duration** — Длительность звонка (без учета времени ожидания)\n",
    "- **total_call_duration** — Длительность звонка (с учетом времени ожидания)\n",
    "\n",
    "**Структура telecom_clients.csv:**\n",
    "- **user_id** — Идентификатор клиентского аккаунта в сервисе\n",
    "- **tariff_plan** — Текущий тарифный план клиента\n",
    "- **date_start** — Дата регистрации клиентв в сервисе"
   ]
  },
  {
   "cell_type": "markdown",
   "metadata": {},
   "source": [
    "<span style=\"color:green\">**План проекта:**</span> \n",
    "\n",
    "1. **Шаг 1.** Ознакомление с общей информацией\n",
    "\n",
    "2. **Шаг 2.** Предобработка данных\n",
    "- 2.1 Оценить количество и природу пропусков\n",
    "- 2.2 Посмотреть на соответсвие типа данных\n",
    "- 2.3 Посмотреть дубликаты\n",
    "\n",
    "3. **Шаг 3.** Исследовательский анализ данных\n",
    "- 3.1 Определим общее количество клиентов и период анализа: минимальную и максимальную даты наблюдения\n",
    "- 3.2 Показатели эффективности работы контактного центра могут быть количественными и качественными. Количественные могут рассчитываться как для центра в целом, так и для отдельных операторов. А вот качественными, в основном, оценивается эффективность работы оператора\n",
    "  - 3.2.1 количественные показатели(количество звонков и их длительность, как с учетом так и без учета времени ожидания)\n",
    "  - 3.2.2 качественные показатели(направление звонка, внутренний или внешний, пропущенный вызов)\n",
    "   \n",
    "- 3.3 Проведем категоризацию операторов: на операторов исходящих и входящих вызовов\n",
    "- 3.4 Для каждой категории операторов определим их эффективность по 3 признакам:\n",
    "  - 3.4.1 много пропущенных входящих вызовов. Построим гистограмму разброса и установим границы эффективности\n",
    "  - 3.4.2 долгое ожидания ответа при входящих внешних вызовах. Построим гисторграмму разброса и установим границы эффективности\n",
    "  - 3.4.3 мало исходящих вывозов. Для Колл-центров, которые специализируются на исходящих вызовах построим гистограмму разброса и установим рамки эффективности.\n",
    "- Определим границы эфективности:\n",
    "  - Для операторов **исходящих** звоноков:\n",
    "     - средняя продолжительность разговора не менее 25 секунд\n",
    "     - количество звонков не менее 20 на оператора в день\n",
    "  - Для операторов **входящих** звоноков:\n",
    "     - время ожидания ответа внешних звонков не более 20 секунд\n",
    "     - время ожидания ответа при внутренних звонках не более 20 секунд\n",
    "     - Доля пропущенных вызовов(внешних) до 5%\n",
    "     - Доля пропущенных(внутренние) до 5%\n",
    "- 3.5 Определить операторов, у которых больше всего доля пропущенных звонков и превышена норма ожидания вызова неэффективными.\n",
    "- 3.6 Выводы об эффективности операторов в соответствии с категоризацией вызовов. \n",
    "\n",
    "4. **Шаг 4.** Статистический анализ, проверка гипотез.\n",
    "- 4.1 Средняя доля пропущенных внутренних и внешних вызовов одинакова\n",
    "- 4.2 Средняя длительность исходящих и входящих вызовов одинакова\n",
    "\n",
    "5. **Шаг 5.** Общиий Вывод\n",
    "- Определить общие проблемы неэффективности в соответствии с категорией  операторов\n",
    "- Дать рекомендации к повышению эффективности на системной основе.\n",
    "- Мотивационная составляющая, как инструмент повышения качества сервиса.\n",
    "\n",
    "**Шаг 6.** Подготовка презентации и дашборда:\n",
    "- Презентация (ссылка, формат pdf)\n",
    "- дашборд (набор № 2)\n"
   ]
  },
  {
   "cell_type": "markdown",
   "metadata": {},
   "source": [
    "<a id=\"1\"></a>\n",
    "### Ознакомление с общей информацией "
   ]
  },
  {
   "cell_type": "markdown",
   "metadata": {},
   "source": [
    "<span style=\"color:brown\">**Загрузим данные и подготовим их к анализу**</span> "
   ]
  },
  {
   "cell_type": "code",
   "execution_count": 1,
   "metadata": {},
   "outputs": [],
   "source": [
    "# импортируем все необходимые для работы библиотеки\n",
    "import pandas as pd\n",
    "import scipy.stats as st\n",
    "import datetime as dt\n",
    "import numpy as np\n",
    "import matplotlib.pyplot as plt \n",
    "import seaborn as sns \n",
    "import warnings\n",
    "\n",
    "import plotly.express as px\n",
    "from plotly import graph_objects as go\n",
    "import plotly.express as px\n",
    "import math as mth\n",
    "import datetime\n",
    "\n",
    "warnings.filterwarnings('ignore')"
   ]
  },
  {
   "cell_type": "code",
   "execution_count": 2,
   "metadata": {},
   "outputs": [],
   "source": [
    "# работать с данными g по тарифным планам Клиентов мы не будем, поэтому закомментируем их\n",
    "#clients= pd.read_csv('https://code.s3.yandex.net/datasets/telecom_clients.csv')"
   ]
  },
  {
   "cell_type": "code",
   "execution_count": 3,
   "metadata": {},
   "outputs": [],
   "source": [
    "#telecom= pd.read_csv('telecom_dataset.csv')\n",
    "dataset= pd.read_csv('https://code.s3.yandex.net/datasets/telecom_dataset.csv')"
   ]
  },
  {
   "cell_type": "code",
   "execution_count": 4,
   "metadata": {},
   "outputs": [
    {
     "name": "stdout",
     "output_type": "stream",
     "text": [
      "<class 'pandas.core.frame.DataFrame'>\n",
      "RangeIndex: 53902 entries, 0 to 53901\n",
      "Data columns (total 9 columns):\n",
      " #   Column               Non-Null Count  Dtype  \n",
      "---  ------               --------------  -----  \n",
      " 0   user_id              53902 non-null  int64  \n",
      " 1   date                 53902 non-null  object \n",
      " 2   direction            53902 non-null  object \n",
      " 3   internal             53785 non-null  object \n",
      " 4   operator_id          45730 non-null  float64\n",
      " 5   is_missed_call       53902 non-null  bool   \n",
      " 6   calls_count          53902 non-null  int64  \n",
      " 7   call_duration        53902 non-null  int64  \n",
      " 8   total_call_duration  53902 non-null  int64  \n",
      "dtypes: bool(1), float64(1), int64(4), object(3)\n",
      "memory usage: 3.3+ MB\n"
     ]
    },
    {
     "data": {
      "text/plain": [
       "(53902, 9)"
      ]
     },
     "execution_count": 4,
     "metadata": {},
     "output_type": "execute_result"
    }
   ],
   "source": [
    "# будем работать с информацией о совершенных звонках клиентов из таблицы 'dataset'\n",
    "# посмотрим на общую информацию и количество строк до того, как проведем предобработку\n",
    "dataset.info()\n",
    "dataset.shape"
   ]
  },
  {
   "cell_type": "markdown",
   "metadata": {},
   "source": [
    "**Вывод**: \n",
    "- Датасет содержит 53902 записи о звонках операторов, 9 строк \n",
    "- Пропуски:\n",
    "   - в столбцах с информацией о внутреннем или внешнем звонке\n",
    "   - об идентификаторе оператора \n",
    "- Названия столбцов записаны в соответствии со стилем \"snake case\"\n",
    "- Некоторые типы данных нужно изменить"
   ]
  },
  {
   "cell_type": "code",
   "execution_count": 5,
   "metadata": {},
   "outputs": [
    {
     "data": {
      "text/html": [
       "<div>\n",
       "<style scoped>\n",
       "    .dataframe tbody tr th:only-of-type {\n",
       "        vertical-align: middle;\n",
       "    }\n",
       "\n",
       "    .dataframe tbody tr th {\n",
       "        vertical-align: top;\n",
       "    }\n",
       "\n",
       "    .dataframe thead th {\n",
       "        text-align: right;\n",
       "    }\n",
       "</style>\n",
       "<table border=\"1\" class=\"dataframe\">\n",
       "  <thead>\n",
       "    <tr style=\"text-align: right;\">\n",
       "      <th></th>\n",
       "      <th>user_id</th>\n",
       "      <th>date</th>\n",
       "      <th>direction</th>\n",
       "      <th>internal</th>\n",
       "      <th>operator_id</th>\n",
       "      <th>is_missed_call</th>\n",
       "      <th>calls_count</th>\n",
       "      <th>call_duration</th>\n",
       "      <th>total_call_duration</th>\n",
       "    </tr>\n",
       "  </thead>\n",
       "  <tbody>\n",
       "    <tr>\n",
       "      <th>0</th>\n",
       "      <td>166377</td>\n",
       "      <td>2019-08-04 00:00:00+03:00</td>\n",
       "      <td>in</td>\n",
       "      <td>False</td>\n",
       "      <td>NaN</td>\n",
       "      <td>True</td>\n",
       "      <td>2</td>\n",
       "      <td>0</td>\n",
       "      <td>4</td>\n",
       "    </tr>\n",
       "    <tr>\n",
       "      <th>1</th>\n",
       "      <td>166377</td>\n",
       "      <td>2019-08-05 00:00:00+03:00</td>\n",
       "      <td>out</td>\n",
       "      <td>True</td>\n",
       "      <td>880022.0</td>\n",
       "      <td>True</td>\n",
       "      <td>3</td>\n",
       "      <td>0</td>\n",
       "      <td>5</td>\n",
       "    </tr>\n",
       "    <tr>\n",
       "      <th>2</th>\n",
       "      <td>166377</td>\n",
       "      <td>2019-08-05 00:00:00+03:00</td>\n",
       "      <td>out</td>\n",
       "      <td>True</td>\n",
       "      <td>880020.0</td>\n",
       "      <td>True</td>\n",
       "      <td>1</td>\n",
       "      <td>0</td>\n",
       "      <td>1</td>\n",
       "    </tr>\n",
       "    <tr>\n",
       "      <th>3</th>\n",
       "      <td>166377</td>\n",
       "      <td>2019-08-05 00:00:00+03:00</td>\n",
       "      <td>out</td>\n",
       "      <td>True</td>\n",
       "      <td>880020.0</td>\n",
       "      <td>False</td>\n",
       "      <td>1</td>\n",
       "      <td>10</td>\n",
       "      <td>18</td>\n",
       "    </tr>\n",
       "    <tr>\n",
       "      <th>4</th>\n",
       "      <td>166377</td>\n",
       "      <td>2019-08-05 00:00:00+03:00</td>\n",
       "      <td>out</td>\n",
       "      <td>False</td>\n",
       "      <td>880022.0</td>\n",
       "      <td>True</td>\n",
       "      <td>3</td>\n",
       "      <td>0</td>\n",
       "      <td>25</td>\n",
       "    </tr>\n",
       "  </tbody>\n",
       "</table>\n",
       "</div>"
      ],
      "text/plain": [
       "   user_id                       date direction internal  operator_id  \\\n",
       "0   166377  2019-08-04 00:00:00+03:00        in    False          NaN   \n",
       "1   166377  2019-08-05 00:00:00+03:00       out     True     880022.0   \n",
       "2   166377  2019-08-05 00:00:00+03:00       out     True     880020.0   \n",
       "3   166377  2019-08-05 00:00:00+03:00       out     True     880020.0   \n",
       "4   166377  2019-08-05 00:00:00+03:00       out    False     880022.0   \n",
       "\n",
       "   is_missed_call  calls_count  call_duration  total_call_duration  \n",
       "0            True            2              0                    4  \n",
       "1            True            3              0                    5  \n",
       "2            True            1              0                    1  \n",
       "3           False            1             10                   18  \n",
       "4            True            3              0                   25  "
      ]
     },
     "execution_count": 5,
     "metadata": {},
     "output_type": "execute_result"
    }
   ],
   "source": [
    "# посмотрим как выглядит наша таблица\n",
    "dataset.head()"
   ]
  },
  {
   "cell_type": "markdown",
   "metadata": {},
   "source": [
    "<a id=\"2\"></a>\n",
    "### Предобработка данных"
   ]
  },
  {
   "cell_type": "markdown",
   "metadata": {},
   "source": [
    "<a id=\"2.1\"></a>\n",
    "<span style=\"color:brown\"> 2.1 Сначала посмотрим на **пропуски**</span>"
   ]
  },
  {
   "cell_type": "code",
   "execution_count": 6,
   "metadata": {},
   "outputs": [
    {
     "data": {
      "text/html": [
       "<style  type=\"text/css\" >\n",
       "#T_d1fe5_row0_col0{\n",
       "            background-color:  #b40426;\n",
       "            color:  #f1f1f1;\n",
       "        }#T_d1fe5_row1_col0{\n",
       "            background-color:  #3e51c5;\n",
       "            color:  #f1f1f1;\n",
       "        }#T_d1fe5_row2_col0,#T_d1fe5_row3_col0,#T_d1fe5_row4_col0,#T_d1fe5_row5_col0,#T_d1fe5_row6_col0,#T_d1fe5_row7_col0,#T_d1fe5_row8_col0{\n",
       "            background-color:  #3b4cc0;\n",
       "            color:  #f1f1f1;\n",
       "        }</style><table id=\"T_d1fe5_\" ><thead>    <tr>        <th class=\"blank level0\" ></th>        <th class=\"col_heading level0 col0\" >0</th>    </tr></thead><tbody>\n",
       "                <tr>\n",
       "                        <th id=\"T_d1fe5_level0_row0\" class=\"row_heading level0 row0\" >operator_id</th>\n",
       "                        <td id=\"T_d1fe5_row0_col0\" class=\"data row0 col0\" >15.160000</td>\n",
       "            </tr>\n",
       "            <tr>\n",
       "                        <th id=\"T_d1fe5_level0_row1\" class=\"row_heading level0 row1\" >internal</th>\n",
       "                        <td id=\"T_d1fe5_row1_col0\" class=\"data row1 col0\" >0.220000</td>\n",
       "            </tr>\n",
       "            <tr>\n",
       "                        <th id=\"T_d1fe5_level0_row2\" class=\"row_heading level0 row2\" >user_id</th>\n",
       "                        <td id=\"T_d1fe5_row2_col0\" class=\"data row2 col0\" >0.000000</td>\n",
       "            </tr>\n",
       "            <tr>\n",
       "                        <th id=\"T_d1fe5_level0_row3\" class=\"row_heading level0 row3\" >date</th>\n",
       "                        <td id=\"T_d1fe5_row3_col0\" class=\"data row3 col0\" >0.000000</td>\n",
       "            </tr>\n",
       "            <tr>\n",
       "                        <th id=\"T_d1fe5_level0_row4\" class=\"row_heading level0 row4\" >direction</th>\n",
       "                        <td id=\"T_d1fe5_row4_col0\" class=\"data row4 col0\" >0.000000</td>\n",
       "            </tr>\n",
       "            <tr>\n",
       "                        <th id=\"T_d1fe5_level0_row5\" class=\"row_heading level0 row5\" >is_missed_call</th>\n",
       "                        <td id=\"T_d1fe5_row5_col0\" class=\"data row5 col0\" >0.000000</td>\n",
       "            </tr>\n",
       "            <tr>\n",
       "                        <th id=\"T_d1fe5_level0_row6\" class=\"row_heading level0 row6\" >calls_count</th>\n",
       "                        <td id=\"T_d1fe5_row6_col0\" class=\"data row6 col0\" >0.000000</td>\n",
       "            </tr>\n",
       "            <tr>\n",
       "                        <th id=\"T_d1fe5_level0_row7\" class=\"row_heading level0 row7\" >call_duration</th>\n",
       "                        <td id=\"T_d1fe5_row7_col0\" class=\"data row7 col0\" >0.000000</td>\n",
       "            </tr>\n",
       "            <tr>\n",
       "                        <th id=\"T_d1fe5_level0_row8\" class=\"row_heading level0 row8\" >total_call_duration</th>\n",
       "                        <td id=\"T_d1fe5_row8_col0\" class=\"data row8 col0\" >0.000000</td>\n",
       "            </tr>\n",
       "    </tbody></table>"
      ],
      "text/plain": [
       "<pandas.io.formats.style.Styler at 0x7f3fe003bd60>"
      ]
     },
     "execution_count": 6,
     "metadata": {},
     "output_type": "execute_result"
    }
   ],
   "source": [
    "# посмотрим на долю пропусков, решим что с ними делать\n",
    "pd.DataFrame(round(dataset.isna().mean().sort_values(ascending=False)*100,2)).style.background_gradient('coolwarm')"
   ]
  },
  {
   "cell_type": "markdown",
   "metadata": {},
   "source": [
    "**Вывод:**\n",
    "- по данным **operator_id - идентификатор оператора** 15,16% пропусков. Это приличное количество, просто так не удалить. \"Заглушки\" также ставить не будем, так как это, практически 1/7 часть данных, которая может пригодиться в исследовании\n",
    "- а вот пропуски в столбце **internal - наличие внутренних звонков** можно удалить, их 0,22% всего."
   ]
  },
  {
   "cell_type": "code",
   "execution_count": 7,
   "metadata": {},
   "outputs": [],
   "source": [
    "# удалим строки с пропусками в internal\n",
    "dataset= dataset.dropna(subset= ['internal']) "
   ]
  },
  {
   "cell_type": "markdown",
   "metadata": {},
   "source": [
    "Что делать со значениями **operator_id - идентификатор оператора**. Чтобы понять, нужно посмотреть, в каих случаях пропусков больше всего, то есть, имеется какая-либо зависимость или закономерность в пропусках. Для этого возьмем все данные по звонкам: исходящим/входящим('direction'), внутренним('internal'), пропущенным('is_missed_call')"
   ]
  },
  {
   "cell_type": "code",
   "execution_count": 8,
   "metadata": {},
   "outputs": [
    {
     "name": "stdout",
     "output_type": "stream",
     "text": [
      "in     7917\n",
      "out     198\n",
      "Name: direction, dtype: int64 \n",
      "\n",
      "False    7760\n",
      "True      355\n",
      "Name: internal, dtype: int64 \n",
      "\n",
      "True     7993\n",
      "False     122\n",
      "Name: is_missed_call, dtype: int64 \n",
      "\n"
     ]
    }
   ],
   "source": [
    "# напишем цикл\n",
    "for i in ['direction', 'internal', 'is_missed_call']:\n",
    "    print(dataset[dataset['operator_id'].isna()][i].value_counts(), '\\n')"
   ]
  },
  {
   "cell_type": "markdown",
   "metadata": {},
   "source": [
    "**Вывод:** Больше всего пропусков в случае внешних входящих вызовов. Это нормальная ситуация в Колл-Центрах, особенно, если КЦ перегружен. В остальных случаях, когда оператор не определен, ситуация нормальная. Поэтому принимаем решение, что пропуски заменим на целочисленное значение, с которым возможно работать дальше, замена на \"0\". "
   ]
  },
  {
   "cell_type": "code",
   "execution_count": 9,
   "metadata": {},
   "outputs": [],
   "source": [
    "# замена пропусков на 0\n",
    "dataset['operator_id']= dataset['operator_id'].fillna(0)"
   ]
  },
  {
   "cell_type": "markdown",
   "metadata": {},
   "source": [
    "<span style=\"color:brown\">2.2 Посмотрим что с **дубликатами**</span>"
   ]
  },
  {
   "cell_type": "code",
   "execution_count": 10,
   "metadata": {},
   "outputs": [
    {
     "name": "stdout",
     "output_type": "stream",
     "text": [
      "Количество строк-дубликатов: 4893\n"
     ]
    }
   ],
   "source": [
    "# какое количество строк-дубликатов в наших данных\n",
    "print('Количество строк-дубликатов:', dataset.duplicated().sum())"
   ]
  },
  {
   "cell_type": "markdown",
   "metadata": {},
   "source": [
    "4893 от 53902 - это менее 10%, если мы их удалим, на результате исследования это не скажется, выборка достаточно хорошая для аналитики"
   ]
  },
  {
   "cell_type": "code",
   "execution_count": 11,
   "metadata": {},
   "outputs": [],
   "source": [
    "# удалим дубликаты\n",
    "dataset.drop_duplicates(inplace= True)"
   ]
  },
  {
   "cell_type": "code",
   "execution_count": 12,
   "metadata": {},
   "outputs": [
    {
     "data": {
      "text/html": [
       "<div>\n",
       "<style scoped>\n",
       "    .dataframe tbody tr th:only-of-type {\n",
       "        vertical-align: middle;\n",
       "    }\n",
       "\n",
       "    .dataframe tbody tr th {\n",
       "        vertical-align: top;\n",
       "    }\n",
       "\n",
       "    .dataframe thead th {\n",
       "        text-align: right;\n",
       "    }\n",
       "</style>\n",
       "<table border=\"1\" class=\"dataframe\">\n",
       "  <thead>\n",
       "    <tr style=\"text-align: right;\">\n",
       "      <th></th>\n",
       "      <th>user_id</th>\n",
       "      <th>date</th>\n",
       "      <th>direction</th>\n",
       "      <th>internal</th>\n",
       "      <th>operator_id</th>\n",
       "      <th>is_missed_call</th>\n",
       "      <th>calls_count</th>\n",
       "      <th>call_duration</th>\n",
       "      <th>total_call_duration</th>\n",
       "    </tr>\n",
       "  </thead>\n",
       "  <tbody>\n",
       "    <tr>\n",
       "      <th>0</th>\n",
       "      <td>166377</td>\n",
       "      <td>2019-08-04 00:00:00+03:00</td>\n",
       "      <td>in</td>\n",
       "      <td>False</td>\n",
       "      <td>0.0</td>\n",
       "      <td>True</td>\n",
       "      <td>2</td>\n",
       "      <td>0</td>\n",
       "      <td>4</td>\n",
       "    </tr>\n",
       "    <tr>\n",
       "      <th>1</th>\n",
       "      <td>166377</td>\n",
       "      <td>2019-08-05 00:00:00+03:00</td>\n",
       "      <td>out</td>\n",
       "      <td>True</td>\n",
       "      <td>880022.0</td>\n",
       "      <td>True</td>\n",
       "      <td>3</td>\n",
       "      <td>0</td>\n",
       "      <td>5</td>\n",
       "    </tr>\n",
       "    <tr>\n",
       "      <th>2</th>\n",
       "      <td>166377</td>\n",
       "      <td>2019-08-05 00:00:00+03:00</td>\n",
       "      <td>out</td>\n",
       "      <td>True</td>\n",
       "      <td>880020.0</td>\n",
       "      <td>True</td>\n",
       "      <td>1</td>\n",
       "      <td>0</td>\n",
       "      <td>1</td>\n",
       "    </tr>\n",
       "    <tr>\n",
       "      <th>3</th>\n",
       "      <td>166377</td>\n",
       "      <td>2019-08-05 00:00:00+03:00</td>\n",
       "      <td>out</td>\n",
       "      <td>True</td>\n",
       "      <td>880020.0</td>\n",
       "      <td>False</td>\n",
       "      <td>1</td>\n",
       "      <td>10</td>\n",
       "      <td>18</td>\n",
       "    </tr>\n",
       "    <tr>\n",
       "      <th>4</th>\n",
       "      <td>166377</td>\n",
       "      <td>2019-08-05 00:00:00+03:00</td>\n",
       "      <td>out</td>\n",
       "      <td>False</td>\n",
       "      <td>880022.0</td>\n",
       "      <td>True</td>\n",
       "      <td>3</td>\n",
       "      <td>0</td>\n",
       "      <td>25</td>\n",
       "    </tr>\n",
       "  </tbody>\n",
       "</table>\n",
       "</div>"
      ],
      "text/plain": [
       "   user_id                       date direction internal  operator_id  \\\n",
       "0   166377  2019-08-04 00:00:00+03:00        in    False          0.0   \n",
       "1   166377  2019-08-05 00:00:00+03:00       out     True     880022.0   \n",
       "2   166377  2019-08-05 00:00:00+03:00       out     True     880020.0   \n",
       "3   166377  2019-08-05 00:00:00+03:00       out     True     880020.0   \n",
       "4   166377  2019-08-05 00:00:00+03:00       out    False     880022.0   \n",
       "\n",
       "   is_missed_call  calls_count  call_duration  total_call_duration  \n",
       "0            True            2              0                    4  \n",
       "1            True            3              0                    5  \n",
       "2            True            1              0                    1  \n",
       "3           False            1             10                   18  \n",
       "4            True            3              0                   25  "
      ]
     },
     "execution_count": 12,
     "metadata": {},
     "output_type": "execute_result"
    }
   ],
   "source": [
    "# посмотрим что унас получилось\n",
    "dataset.head()"
   ]
  },
  {
   "cell_type": "code",
   "execution_count": 13,
   "metadata": {},
   "outputs": [
    {
     "name": "stdout",
     "output_type": "stream",
     "text": [
      "Количество строк-дубликатов: 0\n"
     ]
    }
   ],
   "source": [
    "# снова перепроверим на дубликаты, чтобы убедиться в корректности данных\n",
    "print('Количество строк-дубликатов:', dataset.duplicated().sum())"
   ]
  },
  {
   "cell_type": "markdown",
   "metadata": {},
   "source": [
    "<span style=\"color:brown\">2.3 Поработаем с **типом данных**</span>"
   ]
  },
  {
   "cell_type": "markdown",
   "metadata": {},
   "source": [
    "Вспомним какая информация в датасэте"
   ]
  },
  {
   "cell_type": "code",
   "execution_count": 14,
   "metadata": {},
   "outputs": [
    {
     "name": "stdout",
     "output_type": "stream",
     "text": [
      "<class 'pandas.core.frame.DataFrame'>\n",
      "Int64Index: 48892 entries, 0 to 53901\n",
      "Data columns (total 9 columns):\n",
      " #   Column               Non-Null Count  Dtype  \n",
      "---  ------               --------------  -----  \n",
      " 0   user_id              48892 non-null  int64  \n",
      " 1   date                 48892 non-null  object \n",
      " 2   direction            48892 non-null  object \n",
      " 3   internal             48892 non-null  object \n",
      " 4   operator_id          48892 non-null  float64\n",
      " 5   is_missed_call       48892 non-null  bool   \n",
      " 6   calls_count          48892 non-null  int64  \n",
      " 7   call_duration        48892 non-null  int64  \n",
      " 8   total_call_duration  48892 non-null  int64  \n",
      "dtypes: bool(1), float64(1), int64(4), object(3)\n",
      "memory usage: 3.4+ MB\n"
     ]
    }
   ],
   "source": [
    "dataset.info()"
   ]
  },
  {
   "cell_type": "markdown",
   "metadata": {},
   "source": [
    "<span style=\"color:brown\">Столбец **date** имеет тип **object**, приведем к типу **date** и оставим там только дату, время исключим</span>"
   ]
  },
  {
   "cell_type": "code",
   "execution_count": 15,
   "metadata": {},
   "outputs": [],
   "source": [
    "# убираем время приводим к формату datetime\n",
    "dataset['date']= pd.to_datetime(dataset['date']).dt.date\n",
    "dataset['date']= pd.to_datetime(dataset['date'], format= '%Y-%m-%d')"
   ]
  },
  {
   "cell_type": "markdown",
   "metadata": {},
   "source": [
    "<span style=\"color:brown\">После того, как  поменяли значения в данных **operator_id** на \"0\" смело можно поменять тип данных на целочисленный, а значения в столбце **internal** заменим на булевый, подобно **is_missed_call**</span>"
   ]
  },
  {
   "cell_type": "code",
   "execution_count": 16,
   "metadata": {},
   "outputs": [],
   "source": [
    "dataset= dataset.astype({'internal': 'bool',\n",
    "                         'operator_id': 'int64'})"
   ]
  },
  {
   "cell_type": "code",
   "execution_count": 17,
   "metadata": {},
   "outputs": [
    {
     "name": "stdout",
     "output_type": "stream",
     "text": [
      "<class 'pandas.core.frame.DataFrame'>\n",
      "Int64Index: 48892 entries, 0 to 53901\n",
      "Data columns (total 9 columns):\n",
      " #   Column               Non-Null Count  Dtype         \n",
      "---  ------               --------------  -----         \n",
      " 0   user_id              48892 non-null  int64         \n",
      " 1   date                 48892 non-null  datetime64[ns]\n",
      " 2   direction            48892 non-null  object        \n",
      " 3   internal             48892 non-null  bool          \n",
      " 4   operator_id          48892 non-null  int64         \n",
      " 5   is_missed_call       48892 non-null  bool          \n",
      " 6   calls_count          48892 non-null  int64         \n",
      " 7   call_duration        48892 non-null  int64         \n",
      " 8   total_call_duration  48892 non-null  int64         \n",
      "dtypes: bool(2), datetime64[ns](1), int64(5), object(1)\n",
      "memory usage: 3.1+ MB\n"
     ]
    }
   ],
   "source": [
    "# посмотрим как выглядит тип данных после наших замен\n",
    "dataset.info()"
   ]
  },
  {
   "cell_type": "markdown",
   "metadata": {},
   "source": [
    "**Вывод:**\n",
    "- Удалили строки с пропусками в **internal** -0,22%\n",
    "- Заменили 15,16% пропусков в **operator_id** \n",
    "- Удалили 9% строк-дубликатов\n",
    "- Изменили тип данных в **date** и **'operator_id**\n",
    "\n",
    "С такими данными можно приступать к следующему этапу - исследовательскому анализу."
   ]
  },
  {
   "cell_type": "markdown",
   "metadata": {},
   "source": [
    "###  Исследовательский анализ данных"
   ]
  },
  {
   "cell_type": "markdown",
   "metadata": {},
   "source": [
    "<span style=\"color:brown\">3.1 Определим общее количество клиентов и период анализа: минимальную и максимальную даты наблюдения, то есть за какой период данными мы располагаем</span>"
   ]
  },
  {
   "cell_type": "code",
   "execution_count": 18,
   "metadata": {},
   "outputs": [
    {
     "name": "stdout",
     "output_type": "stream",
     "text": [
      "Период наблюдения: с 2019-08-02 00:00:00 по 2019-11-28 00:00:00\n"
     ]
    }
   ],
   "source": [
    "# максимальная и минимальная даты\n",
    "print('Период наблюдения: с {} по {}'.format(dataset['date'].min(), dataset['date'].max()))"
   ]
  },
  {
   "cell_type": "markdown",
   "metadata": {},
   "source": [
    "**Итак**, период наблюдения со 2 августа по 28 ноября 2019, то есть, практически полных **4 месяца**.\n",
    "\n",
    "<span style=\"color:brown\">Теперь посмотрим на общее **количество клиентов** , а также определим среднее количество оператов у каждого из КЦ</span>"
   ]
  },
  {
   "cell_type": "code",
   "execution_count": 19,
   "metadata": {},
   "outputs": [
    {
     "name": "stdout",
     "output_type": "stream",
     "text": [
      "Количество клиентов у провайдера: 307\n"
     ]
    }
   ],
   "source": [
    "print('Количество клиентов у провайдера:', dataset['user_id'].nunique())"
   ]
  },
  {
   "cell_type": "code",
   "execution_count": 20,
   "metadata": {},
   "outputs": [
    {
     "name": "stdout",
     "output_type": "stream",
     "text": [
      "Количество операторов: 1093\n"
     ]
    }
   ],
   "source": [
    "print('Количество операторов:', dataset['operator_id'].nunique())"
   ]
  },
  {
   "cell_type": "markdown",
   "metadata": {},
   "source": [
    "**Итак**, получается, что в среднем, у каждого клиента (КЦ) по **3 оператора**.\n",
    "- **Информация к размышлению:**\n",
    "  - Период наблюдения 4 месяца\n",
    "  - Количество звонков в данных 48892\n",
    "  - Количество операторов 1093\n",
    "  - То есть, 48892/4/1093= 11,18 звонков месяц на операторов??? Норма в день должна быть в 2 раза больше).\n",
    "- Уже на этом моменте можно было бы остановить исследование, так как выборка мала относительно периода исследования, и по полученным расчетам неэффективность видна сразу.\n",
    "- **НО!** не всё так однозначно, будем исследовать те данные которые у нас есть, может, наша гипотеза неверна."
   ]
  },
  {
   "cell_type": "markdown",
   "metadata": {},
   "source": [
    "Так как все Колл-центры, как мы выяснили на этапе постановки задачи, предоставляют одну услугу(один бизнес), скорее всего, работают в одной и той же CRM, и это не сетевая программа, поэтому необходимо посмотреть на **уникальность id оператора**. То есть, идентификатор действительно принадлежит только одному оператору отдельного КЦ, или есть пересечения, то есть такой же номер у другого клиента (КЦ)."
   ]
  },
  {
   "cell_type": "code",
   "execution_count": 21,
   "metadata": {},
   "outputs": [
    {
     "data": {
      "text/plain": [
       "operator_id\n",
       "925104      1\n",
       "937888      1\n",
       "937898      1\n",
       "937900      1\n",
       "937902      1\n",
       "         ... \n",
       "912296      1\n",
       "912252      1\n",
       "912010      1\n",
       "913780      1\n",
       "0         305\n",
       "Name: user_id, Length: 1093, dtype: int64"
      ]
     },
     "execution_count": 21,
     "metadata": {},
     "output_type": "execute_result"
    }
   ],
   "source": [
    "dataset.groupby('operator_id')['user_id'].nunique().sort_values()"
   ]
  },
  {
   "cell_type": "markdown",
   "metadata": {},
   "source": [
    "**Итак**, всё в порядке, уникальный идентификатор уникален во всём датасете. Но есть нулевой(неопределенный) оператор у 305 из 307 клиентов. \n",
    "\n",
    "Теперь, для того, чтобы посчитать сколько операторов работает в каждом колл-центре, разделим операторов на 2 группы: \n",
    "- для этого сформируем отдельную таблицу, без неопределённых(нулевых) операторов, так как в противном случае они посчитаются как один оператор."
   ]
  },
  {
   "cell_type": "code",
   "execution_count": 22,
   "metadata": {},
   "outputs": [],
   "source": [
    "# таблица без нeулевых операторов\n",
    "dataset_nzero = dataset.query('operator_id != 0')"
   ]
  },
  {
   "cell_type": "code",
   "execution_count": 23,
   "metadata": {},
   "outputs": [
    {
     "data": {
      "text/plain": [
       "1     107\n",
       "2      63\n",
       "3      34\n",
       "4      26\n",
       "5      17\n",
       "6      10\n",
       "7       7\n",
       "8       5\n",
       "15      3\n",
       "16      2\n",
       "9       2\n",
       "11      2\n",
       "27      2\n",
       "30      1\n",
       "48      1\n",
       "21      1\n",
       "28      1\n",
       "12      1\n",
       "18      1\n",
       "17      1\n",
       "14      1\n",
       "10      1\n",
       "50      1\n",
       "Name: operator_id, dtype: int64"
      ]
     },
     "execution_count": 23,
     "metadata": {},
     "output_type": "execute_result"
    }
   ],
   "source": [
    "# количество колл-центров с разным количеством сотрудников\n",
    "dataset_nzero.groupby('user_id')['operator_id'].nunique().value_counts()"
   ]
  },
  {
   "cell_type": "markdown",
   "metadata": {},
   "source": [
    "**Итак:** \n",
    "- Есть 14 крупных клиентов, в штате которых от 11 до 50 операторов\n",
    "- Есть также Колл-центры со штатом от 2-ух до 9-ти\n",
    "- Почти треть клиентов(КЦ) с 1 оператором в штате \n",
    "\n",
    "Выделим нашу таблицу в отдельную переменную и добавим новые столбцы, нам может понадобиться эта анформация в дальнейшем исследовании."
   ]
  },
  {
   "cell_type": "code",
   "execution_count": 24,
   "metadata": {},
   "outputs": [],
   "source": [
    "# количество операторов у колл-центров\n",
    "count_operators= dataset_nzero.groupby('user_id')['operator_id'].nunique()\n",
    "count_operators= count_operators.reset_index()\n",
    "count_operators.columns= ['user_id', 'n_operators']"
   ]
  },
  {
   "cell_type": "markdown",
   "metadata": {},
   "source": [
    "<span style=\"color:brown\">3.2 Показатели эффективности работы контактного центра могут быть количественными и качественными. Количественные могут рассчитываться как для центра в целом, так и для отдельных операторов. А вот качественными, в основном, оценивается эффективность работы оператора</span> "
   ]
  },
  {
   "cell_type": "markdown",
   "metadata": {},
   "source": [
    "3.2.1 количественные показатели(количество звонков и их длительность, как с учетом так и без учета времени ожидания). Выделим их в отдельную переменную и посмотрим на основные статистические данные"
   ]
  },
  {
   "cell_type": "code",
   "execution_count": 25,
   "metadata": {},
   "outputs": [],
   "source": [
    "# количественные переменные \n",
    "quantit_variables= ['calls_count', 'call_duration', 'total_call_duration']"
   ]
  },
  {
   "cell_type": "code",
   "execution_count": 26,
   "metadata": {},
   "outputs": [
    {
     "data": {
      "text/html": [
       "<div>\n",
       "<style scoped>\n",
       "    .dataframe tbody tr th:only-of-type {\n",
       "        vertical-align: middle;\n",
       "    }\n",
       "\n",
       "    .dataframe tbody tr th {\n",
       "        vertical-align: top;\n",
       "    }\n",
       "\n",
       "    .dataframe thead th {\n",
       "        text-align: right;\n",
       "    }\n",
       "</style>\n",
       "<table border=\"1\" class=\"dataframe\">\n",
       "  <thead>\n",
       "    <tr style=\"text-align: right;\">\n",
       "      <th></th>\n",
       "      <th>calls_count</th>\n",
       "      <th>call_duration</th>\n",
       "      <th>total_call_duration</th>\n",
       "    </tr>\n",
       "  </thead>\n",
       "  <tbody>\n",
       "    <tr>\n",
       "      <th>count</th>\n",
       "      <td>48892.000000</td>\n",
       "      <td>48892.000000</td>\n",
       "      <td>48892.000000</td>\n",
       "    </tr>\n",
       "    <tr>\n",
       "      <th>mean</th>\n",
       "      <td>16.495214</td>\n",
       "      <td>868.088788</td>\n",
       "      <td>1158.976458</td>\n",
       "    </tr>\n",
       "    <tr>\n",
       "      <th>std</th>\n",
       "      <td>63.671633</td>\n",
       "      <td>3779.549967</td>\n",
       "      <td>4456.180933</td>\n",
       "    </tr>\n",
       "    <tr>\n",
       "      <th>min</th>\n",
       "      <td>1.000000</td>\n",
       "      <td>0.000000</td>\n",
       "      <td>0.000000</td>\n",
       "    </tr>\n",
       "    <tr>\n",
       "      <th>25%</th>\n",
       "      <td>1.000000</td>\n",
       "      <td>0.000000</td>\n",
       "      <td>46.000000</td>\n",
       "    </tr>\n",
       "    <tr>\n",
       "      <th>50%</th>\n",
       "      <td>4.000000</td>\n",
       "      <td>37.000000</td>\n",
       "      <td>210.000000</td>\n",
       "    </tr>\n",
       "    <tr>\n",
       "      <th>75%</th>\n",
       "      <td>12.000000</td>\n",
       "      <td>573.000000</td>\n",
       "      <td>902.000000</td>\n",
       "    </tr>\n",
       "    <tr>\n",
       "      <th>max</th>\n",
       "      <td>4817.000000</td>\n",
       "      <td>144395.000000</td>\n",
       "      <td>166155.000000</td>\n",
       "    </tr>\n",
       "  </tbody>\n",
       "</table>\n",
       "</div>"
      ],
      "text/plain": [
       "        calls_count  call_duration  total_call_duration\n",
       "count  48892.000000   48892.000000         48892.000000\n",
       "mean      16.495214     868.088788          1158.976458\n",
       "std       63.671633    3779.549967          4456.180933\n",
       "min        1.000000       0.000000             0.000000\n",
       "25%        1.000000       0.000000            46.000000\n",
       "50%        4.000000      37.000000           210.000000\n",
       "75%       12.000000     573.000000           902.000000\n",
       "max     4817.000000  144395.000000        166155.000000"
      ]
     },
     "execution_count": 26,
     "metadata": {},
     "output_type": "execute_result"
    }
   ],
   "source": [
    "dataset[quantit_variables].describe()"
   ]
  },
  {
   "cell_type": "markdown",
   "metadata": {},
   "source": [
    "**Итак:** Что сразу бросается в глаза:\n",
    "- Очень большое различие между средними значениями и медианными(почти в 4 раза), и это понятно, так как распределение не является нормальным.\n",
    "- 50% количества звонков - 4, 75% - это 12 звонков на оператора в день.\n",
    "- есть аномальные значения количества и продолжительности звонков: \n",
    "  - 4817 вызовов в день значит, что оператор, в среднем, как минимум сделал 10 звонков в минуту, понятно, что это некорректное значение.\n",
    "- и как следствие аномальная продолжительность разговоров, 166155 секунд - это почти 46 часов разговора, что тоже за гранью разумного.\n",
    "- есть звонки, которые не состоялись, их продолжительность \"0\", но продолжительность с временем ожидания 46 секунд\n",
    "\n",
    "Причин может быть несколько:\n",
    "1. Это технический сбой при сборе данных\n",
    "2. Либо, даже если звонок был принят при дозвоне, он был сброшен(так часто бывает при рекламных обзвонах), длительность разговора 3-5 секунд, но он защитан как полноценный, причем, посекундной тарификации нет, длительность 1 минута.\n"
   ]
  },
  {
   "cell_type": "code",
   "execution_count": 27,
   "metadata": {},
   "outputs": [
    {
     "data": {
      "image/png": "[encoded data removed]",
      "text/plain": [
       "<Figure size 720x360 with 1 Axes>"
      ]
     },
     "metadata": {
      "needs_background": "light"
     },
     "output_type": "display_data"
    }
   ],
   "source": [
    "# визуализирум наши предположения, построим boxplot  и посмотрим на выбросы\n",
    "plt.figure(figsize=(10, 5))\n",
    "dataset[quantit_variables].boxplot()\n",
    "plt.title('Распределение количества и длительности звонков')\n",
    "plt.ylabel('Количество')\n",
    "plt.show()"
   ]
  },
  {
   "cell_type": "markdown",
   "metadata": {},
   "source": [
    "Для того, чтобы не потерять много данных, удалим записи, где значения в ячейке больше значения **97 перцентиля** соответствующего столбца, принебрежем 3-мя процентами%."
   ]
  },
  {
   "cell_type": "code",
   "execution_count": 28,
   "metadata": {},
   "outputs": [],
   "source": [
    "# удаление выбросов\n",
    "for i in quantit_variables:\n",
    "    dataset= dataset[dataset[i] <= dataset[i].quantile(.97)]"
   ]
  },
  {
   "cell_type": "markdown",
   "metadata": {},
   "source": [
    "Добавим в наш датафрейм еще одну переменную, среднее время ожидания: **avg_waiting_time** и обнулим в нем значения у пропущенных вызовов, так как звонок не был принят, зазговор не состоялся. Применим функцию для данного условия"
   ]
  },
  {
   "cell_type": "code",
   "execution_count": 29,
   "metadata": {},
   "outputs": [],
   "source": [
    "def dell_missed_calls(row):\n",
    "    if row['is_missed_call'] == True:\n",
    "        return 0\n",
    "    else:\n",
    "        return (row['total_call_duration'] - row['call_duration']) / row['calls_count']"
   ]
  },
  {
   "cell_type": "code",
   "execution_count": 30,
   "metadata": {},
   "outputs": [],
   "source": [
    "# добавляем новый столбец ко всему дата\n",
    "dataset['avg_waiting_time'] = dataset.apply(dell_missed_calls, axis=1)"
   ]
  },
  {
   "cell_type": "code",
   "execution_count": 31,
   "metadata": {},
   "outputs": [],
   "source": [
    "# и также добавим его в список к нашим количественным переменным, теперь их 4\n",
    "quantit_variables.append('avg_waiting_time')"
   ]
  },
  {
   "cell_type": "markdown",
   "metadata": {},
   "source": [
    "Теперь посмотрим на результат после удаления аномалий и добавления новых переменных, напишем цикл для построения 4-ёх гистограмм для каждой количественной переменной"
   ]
  },
  {
   "cell_type": "code",
   "execution_count": 32,
   "metadata": {},
   "outputs": [
    {
     "data": {
      "image/png": "[encoded data removed]",
      "text/plain": [
       "<Figure size 720x360 with 1 Axes>"
      ]
     },
     "metadata": {
      "needs_background": "light"
     },
     "output_type": "display_data"
    },
    {
     "data": {
      "image/png": "[encoded data removed]",
      "text/plain": [
       "<Figure size 720x360 with 1 Axes>"
      ]
     },
     "metadata": {
      "needs_background": "light"
     },
     "output_type": "display_data"
    },
    {
     "data": {
      "image/png": "[encoded data removed]",
      "text/plain": [
       "<Figure size 720x360 with 1 Axes>"
      ]
     },
     "metadata": {
      "needs_background": "light"
     },
     "output_type": "display_data"
    },
    {
     "data": {
      "image/png": "[encoded data removed]",
      "text/plain": [
       "<Figure size 720x360 with 1 Axes>"
      ]
     },
     "metadata": {
      "needs_background": "light"
     },
     "output_type": "display_data"
    }
   ],
   "source": [
    "# построение гистограмм\n",
    "for i in quantit_variables:\n",
    "    plt.figure(figsize=(10, 5))\n",
    "    dataset[i].hist(bins= 30)\n",
    "    plt.title(f'Распределение {i}')\n",
    "    plt.xlabel('Значение параметра')\n",
    "    plt.ylabel('Количество')\n",
    "    plt.show()"
   ]
  },
  {
   "cell_type": "markdown",
   "metadata": {},
   "source": [
    "**Вывод:** \n",
    "- По очищенным данным видно, что для всех параметров характерны наличие небольших значений: до 2-5 звонков за день, длительность звонка до 250 секунд.\n",
    "- Среднее время ожидания имеет тоже адекватную величину, до 20 секунд.\n",
    "\n",
    "Количественные данные готовы к анализу"
   ]
  },
  {
   "cell_type": "markdown",
   "metadata": {},
   "source": [
    "<span style=\"color:brown\">3.2.2 Качественные показатели(направление звонка, внутренний или внешний, пропущенный вызов)</span>"
   ]
  },
  {
   "cell_type": "markdown",
   "metadata": {},
   "source": [
    "Посмотрим сколько в данных входящих/исходящих, внутренних, пропущенных/принятых вызовов, также выделим их в отдельный список по аналогии с количественными переменными"
   ]
  },
  {
   "cell_type": "code",
   "execution_count": 33,
   "metadata": {},
   "outputs": [],
   "source": [
    "qualit_variables= ['direction', 'internal', 'is_missed_call']"
   ]
  },
  {
   "cell_type": "code",
   "execution_count": 35,
   "metadata": {},
   "outputs": [
    {
     "name": "stdout",
     "output_type": "stream",
     "text": [
      "Столбец direction:\n",
      "out    25599\n",
      "in     19030\n",
      "Name: direction, dtype: int64 \n",
      "\n",
      "Столбец internal:\n",
      "False    38979\n",
      "True      5650\n",
      "Name: internal, dtype: int64 \n",
      "\n",
      "Столбец is_missed_call:\n",
      "False    23932\n",
      "True     20697\n",
      "Name: is_missed_call, dtype: int64 \n",
      "\n"
     ]
    }
   ],
   "source": [
    "# Напимшем цикл, который перебирет нам все данные из списка по каждому типу вызовов\n",
    "for i in qualit_variables:\n",
    "    print('Столбец ' + i + ':')\n",
    "    print(dataset[i].value_counts(), '\\n')"
   ]
  },
  {
   "cell_type": "markdown",
   "metadata": {},
   "source": [
    "**Итак:** какая видна закономерность?\n",
    "- В направлении: больше исходящих вызовов, чем входящих\n",
    "- Внутренних звонков немного, в 6 раз меньше внешних\n",
    "- Пропущенных почти поровну: исходящих и входящих(внешние и внутренние)"
   ]
  },
  {
   "cell_type": "markdown",
   "metadata": {},
   "source": [
    "Стоит заметить, что начальная таблица агрегирована, и каждая строка соответствует не одному вызову, а количеству вызовов определённого типа. Поэтому рассмотрим для каждого вида вызова не только количество записей, но и количество таких звонков (то есть сумму количества звонков в записях)"
   ]
  },
  {
   "cell_type": "markdown",
   "metadata": {},
   "source": [
    "Нам нужно посмотреть на распределение звонков всех видов(исходящий/входящий, внутренний) и типов(пропущенный/принятый), лучше вего визуализировать, поэтому сначала мы **создадим таблицу, по которой впоследствии построим диаграмму распределения**"
   ]
  },
  {
   "cell_type": "code",
   "execution_count": 36,
   "metadata": {},
   "outputs": [],
   "source": [
    "# сводная таблица звонков всех видов и типов\n",
    "total_calls_count= (\n",
    "    dataset.groupby(qualit_variables)\n",
    "    .agg({'operator_id':'count',\n",
    "         'calls_count': 'sum'})\n",
    "    .sort_values(by='calls_count', ascending= False)\n",
    "    .reset_index()\n",
    ")"
   ]
  },
  {
   "cell_type": "code",
   "execution_count": 37,
   "metadata": {},
   "outputs": [],
   "source": [
    "# создадим функцию, которая по условию расставит соответствующие типы для каждого вида звонка\n",
    "def get_name(row):\n",
    "    name = ''\n",
    "    \n",
    "    if row['direction'] == 'out':\n",
    "        name = name + 'исходящий'\n",
    "    else:\n",
    "        name += 'входящий'\n",
    "        \n",
    "    if row['internal'] == True:\n",
    "        name += ' внутренний'\n",
    "    else:\n",
    "        name += ' внешний'\n",
    "        \n",
    "    if row['is_missed_call'] == True:\n",
    "        name += ' пропущенный'\n",
    "    else:\n",
    "        name += ' принятый'\n",
    "        \n",
    "    return name"
   ]
  },
  {
   "cell_type": "code",
   "execution_count": 38,
   "metadata": {
    "scrolled": true
   },
   "outputs": [
    {
     "data": {
      "text/html": [
       "<div>\n",
       "<style scoped>\n",
       "    .dataframe tbody tr th:only-of-type {\n",
       "        vertical-align: middle;\n",
       "    }\n",
       "\n",
       "    .dataframe tbody tr th {\n",
       "        vertical-align: top;\n",
       "    }\n",
       "\n",
       "    .dataframe thead th {\n",
       "        text-align: right;\n",
       "    }\n",
       "</style>\n",
       "<table border=\"1\" class=\"dataframe\">\n",
       "  <thead>\n",
       "    <tr style=\"text-align: right;\">\n",
       "      <th></th>\n",
       "      <th>direction</th>\n",
       "      <th>internal</th>\n",
       "      <th>is_missed_call</th>\n",
       "      <th>operator_id</th>\n",
       "      <th>calls_count</th>\n",
       "      <th>type</th>\n",
       "    </tr>\n",
       "  </thead>\n",
       "  <tbody>\n",
       "    <tr>\n",
       "      <th>0</th>\n",
       "      <td>out</td>\n",
       "      <td>False</td>\n",
       "      <td>True</td>\n",
       "      <td>10594</td>\n",
       "      <td>139219</td>\n",
       "      <td>исходящий внешний пропущенный</td>\n",
       "    </tr>\n",
       "    <tr>\n",
       "      <th>1</th>\n",
       "      <td>out</td>\n",
       "      <td>False</td>\n",
       "      <td>False</td>\n",
       "      <td>10026</td>\n",
       "      <td>96826</td>\n",
       "      <td>исходящий внешний принятый</td>\n",
       "    </tr>\n",
       "    <tr>\n",
       "      <th>2</th>\n",
       "      <td>in</td>\n",
       "      <td>False</td>\n",
       "      <td>False</td>\n",
       "      <td>10978</td>\n",
       "      <td>57886</td>\n",
       "      <td>входящий внешний принятый</td>\n",
       "    </tr>\n",
       "    <tr>\n",
       "      <th>3</th>\n",
       "      <td>in</td>\n",
       "      <td>False</td>\n",
       "      <td>True</td>\n",
       "      <td>7381</td>\n",
       "      <td>46112</td>\n",
       "      <td>входящий внешний пропущенный</td>\n",
       "    </tr>\n",
       "    <tr>\n",
       "      <th>4</th>\n",
       "      <td>out</td>\n",
       "      <td>True</td>\n",
       "      <td>False</td>\n",
       "      <td>2557</td>\n",
       "      <td>7942</td>\n",
       "      <td>исходящий внутренний принятый</td>\n",
       "    </tr>\n",
       "    <tr>\n",
       "      <th>5</th>\n",
       "      <td>out</td>\n",
       "      <td>True</td>\n",
       "      <td>True</td>\n",
       "      <td>2422</td>\n",
       "      <td>5071</td>\n",
       "      <td>исходящий внутренний пропущенный</td>\n",
       "    </tr>\n",
       "    <tr>\n",
       "      <th>6</th>\n",
       "      <td>in</td>\n",
       "      <td>True</td>\n",
       "      <td>True</td>\n",
       "      <td>300</td>\n",
       "      <td>944</td>\n",
       "      <td>входящий внутренний пропущенный</td>\n",
       "    </tr>\n",
       "    <tr>\n",
       "      <th>7</th>\n",
       "      <td>in</td>\n",
       "      <td>True</td>\n",
       "      <td>False</td>\n",
       "      <td>371</td>\n",
       "      <td>677</td>\n",
       "      <td>входящий внутренний принятый</td>\n",
       "    </tr>\n",
       "  </tbody>\n",
       "</table>\n",
       "</div>"
      ],
      "text/plain": [
       "  direction  internal  is_missed_call  operator_id  calls_count  \\\n",
       "0       out     False            True        10594       139219   \n",
       "1       out     False           False        10026        96826   \n",
       "2        in     False           False        10978        57886   \n",
       "3        in     False            True         7381        46112   \n",
       "4       out      True           False         2557         7942   \n",
       "5       out      True            True         2422         5071   \n",
       "6        in      True            True          300          944   \n",
       "7        in      True           False          371          677   \n",
       "\n",
       "                               type  \n",
       "0     исходящий внешний пропущенный  \n",
       "1        исходящий внешний принятый  \n",
       "2         входящий внешний принятый  \n",
       "3      входящий внешний пропущенный  \n",
       "4     исходящий внутренний принятый  \n",
       "5  исходящий внутренний пропущенный  \n",
       "6   входящий внутренний пропущенный  \n",
       "7      входящий внутренний принятый  "
      ]
     },
     "execution_count": 38,
     "metadata": {},
     "output_type": "execute_result"
    }
   ],
   "source": [
    "#  создадим дополнительный столбец с типом звонка\n",
    "total_calls_count['type'] = total_calls_count.apply(get_name, axis=1)\n",
    "total_calls_count"
   ]
  },
  {
   "cell_type": "markdown",
   "metadata": {},
   "source": [
    "Теперь визулизируем. Построим столбчатую диаграмму количественных значений"
   ]
  },
  {
   "cell_type": "code",
   "execution_count": 39,
   "metadata": {},
   "outputs": [
    {
     "data": {
      "image/png": "[encoded data removed]",
      "text/plain": [
       "<Figure size 720x360 with 1 Axes>"
      ]
     },
     "metadata": {
      "needs_background": "light"
     },
     "output_type": "display_data"
    }
   ],
   "source": [
    "total_calls_count.sort_values(by='calls_count', ascending=True).plot(x='type', y='calls_count', kind='barh', title='Количество вызовов разных видов и типов', legend=False, figsize=(10,5), grid=True)\n",
    "plt.xlabel('Количество вызовов')\n",
    "plt.ylabel('Категория вызова')\n",
    "plt.show()"
   ]
  },
  {
   "cell_type": "markdown",
   "metadata": {},
   "source": [
    "**Итак,** сразу выделились лидеры и аутсайдеры. Но для анализа лучше всего апелировать долями. Пострим круговую диаграмму распределения данных"
   ]
  },
  {
   "cell_type": "code",
   "execution_count": 40,
   "metadata": {},
   "outputs": [
    {
     "data": {
      "image/png": "[encoded data removed]",
      "text/plain": [
       "<Figure size 720x360 with 1 Axes>"
      ]
     },
     "metadata": {},
     "output_type": "display_data"
    }
   ],
   "source": [
    "plt.figure(figsize= (10, 5))\n",
    "plt.pie(total_calls_count.loc[:5]['calls_count'], \n",
    "        labels= total_calls_count.loc[:5]['type'], \n",
    "        autopct= '%1.1f%%')\n",
    "plt.title('Долевое распределение вызовов')\n",
    "plt.show()"
   ]
  },
  {
   "cell_type": "markdown",
   "metadata": {},
   "source": [
    "**Вывод:**\n",
    "- Самая большая доля вызовов - **исходящие внешние звонки, около 67%**, **39,4%** - это пропущенные. Сейчас у многих мобильных операторов популярна услуга \"Защита от спама\", поэтому такое количество непринятых не удивительно. \n",
    "- **Входящих внешних принятых больше**(17,8%), чем пропущенных(15,7%), но ненамного. Это говорит о том, что либо операторы помимо своих должностных обязанностей занимаются посторонними делами, либо КЦ перегружен из-за нехватки штата, как минимум в 2 раза.\n",
    "- **Внутренних** звонков мало, всего **3,6%**, но **принятых больше**, чем пропущенных, и это уже хорошо.\n"
   ]
  },
  {
   "cell_type": "markdown",
   "metadata": {},
   "source": [
    "<span style=\"color:brown\">3.3 Проведем категоризацию операторов: на операторов исходящих и входящих вызовов</span>"
   ]
  },
  {
   "cell_type": "markdown",
   "metadata": {},
   "source": [
    "Из условия мы знаем, что у нас есть колл-центры, которые специализируются на обзвонах, то есть совершают больше исходящих вызовов. И есть КЦ, которые больше принимают звонки, и есть такие, у которых примерно равное количество вызовов и тех и других. Понятно, что и требования к эффективности будут различны. Поэтому разделим КЦ по категориям.\n",
    "\n",
    "Кроме того, нам нужна какая-то средняя величина, с которой в дальнейшем мы будем проводить сравнения, определять критерии эффективности, поэтому добавим новый столбец: \"среднее время ожидания вызова\"- **'avg_call'** для каждой записи. "
   ]
  },
  {
   "cell_type": "code",
   "execution_count": 41,
   "metadata": {
    "scrolled": true
   },
   "outputs": [
    {
     "data": {
      "text/html": [
       "<div>\n",
       "<style scoped>\n",
       "    .dataframe tbody tr th:only-of-type {\n",
       "        vertical-align: middle;\n",
       "    }\n",
       "\n",
       "    .dataframe tbody tr th {\n",
       "        vertical-align: top;\n",
       "    }\n",
       "\n",
       "    .dataframe thead th {\n",
       "        text-align: right;\n",
       "    }\n",
       "</style>\n",
       "<table border=\"1\" class=\"dataframe\">\n",
       "  <thead>\n",
       "    <tr style=\"text-align: right;\">\n",
       "      <th></th>\n",
       "      <th>user_id</th>\n",
       "      <th>date</th>\n",
       "      <th>direction</th>\n",
       "      <th>internal</th>\n",
       "      <th>operator_id</th>\n",
       "      <th>is_missed_call</th>\n",
       "      <th>calls_count</th>\n",
       "      <th>call_duration</th>\n",
       "      <th>total_call_duration</th>\n",
       "      <th>avg_waiting_time</th>\n",
       "      <th>avg_call</th>\n",
       "    </tr>\n",
       "  </thead>\n",
       "  <tbody>\n",
       "    <tr>\n",
       "      <th>0</th>\n",
       "      <td>166377</td>\n",
       "      <td>2019-08-04</td>\n",
       "      <td>in</td>\n",
       "      <td>False</td>\n",
       "      <td>0</td>\n",
       "      <td>True</td>\n",
       "      <td>2</td>\n",
       "      <td>0</td>\n",
       "      <td>4</td>\n",
       "      <td>0.0</td>\n",
       "      <td>2.000000</td>\n",
       "    </tr>\n",
       "    <tr>\n",
       "      <th>1</th>\n",
       "      <td>166377</td>\n",
       "      <td>2019-08-05</td>\n",
       "      <td>out</td>\n",
       "      <td>True</td>\n",
       "      <td>880022</td>\n",
       "      <td>True</td>\n",
       "      <td>3</td>\n",
       "      <td>0</td>\n",
       "      <td>5</td>\n",
       "      <td>0.0</td>\n",
       "      <td>1.666667</td>\n",
       "    </tr>\n",
       "    <tr>\n",
       "      <th>2</th>\n",
       "      <td>166377</td>\n",
       "      <td>2019-08-05</td>\n",
       "      <td>out</td>\n",
       "      <td>True</td>\n",
       "      <td>880020</td>\n",
       "      <td>True</td>\n",
       "      <td>1</td>\n",
       "      <td>0</td>\n",
       "      <td>1</td>\n",
       "      <td>0.0</td>\n",
       "      <td>1.000000</td>\n",
       "    </tr>\n",
       "    <tr>\n",
       "      <th>3</th>\n",
       "      <td>166377</td>\n",
       "      <td>2019-08-05</td>\n",
       "      <td>out</td>\n",
       "      <td>True</td>\n",
       "      <td>880020</td>\n",
       "      <td>False</td>\n",
       "      <td>1</td>\n",
       "      <td>10</td>\n",
       "      <td>18</td>\n",
       "      <td>8.0</td>\n",
       "      <td>8.000000</td>\n",
       "    </tr>\n",
       "    <tr>\n",
       "      <th>4</th>\n",
       "      <td>166377</td>\n",
       "      <td>2019-08-05</td>\n",
       "      <td>out</td>\n",
       "      <td>False</td>\n",
       "      <td>880022</td>\n",
       "      <td>True</td>\n",
       "      <td>3</td>\n",
       "      <td>0</td>\n",
       "      <td>25</td>\n",
       "      <td>0.0</td>\n",
       "      <td>8.333333</td>\n",
       "    </tr>\n",
       "  </tbody>\n",
       "</table>\n",
       "</div>"
      ],
      "text/plain": [
       "   user_id       date direction  internal  operator_id  is_missed_call  \\\n",
       "0   166377 2019-08-04        in     False            0            True   \n",
       "1   166377 2019-08-05       out      True       880022            True   \n",
       "2   166377 2019-08-05       out      True       880020            True   \n",
       "3   166377 2019-08-05       out      True       880020           False   \n",
       "4   166377 2019-08-05       out     False       880022            True   \n",
       "\n",
       "   calls_count  call_duration  total_call_duration  avg_waiting_time  avg_call  \n",
       "0            2              0                    4               0.0  2.000000  \n",
       "1            3              0                    5               0.0  1.666667  \n",
       "2            1              0                    1               0.0  1.000000  \n",
       "3            1             10                   18               8.0  8.000000  \n",
       "4            3              0                   25               0.0  8.333333  "
      ]
     },
     "execution_count": 41,
     "metadata": {},
     "output_type": "execute_result"
    }
   ],
   "source": [
    "# добавим столбец \n",
    "dataset['avg_call']= (dataset['total_call_duration']- dataset['call_duration'])/ dataset['calls_count'] \n",
    "dataset.head()"
   ]
  },
  {
   "cell_type": "markdown",
   "metadata": {},
   "source": [
    "Теперь проведем **категоризацию КЦ**, уточним, это не операторы, поэтому здесь будем использовать **'user_id'** - Идентификатор клиентского аккаунта в сервисе \"Нупозвони\".\n",
    "\n",
    "Задача исследования определить неэффективных операторов на основании определенных метрик, но оператор работает не сам по себе, а в КЦ, котрые специализируются на разных типах обработки звонков. Поэтому, проведя категоризацию КЦ, мы поймем для каких операторов какие метрики в расчете эффективности являются наиболее важными. И, к тому же, посмотрим на эффективность всего Колл-Центра, потому как рекомендации мы будем давать не опеарторам, а руководителям этих центров."
   ]
  },
  {
   "cell_type": "code",
   "execution_count": 42,
   "metadata": {},
   "outputs": [
    {
     "data": {
      "text/html": [
       "<div>\n",
       "<style scoped>\n",
       "    .dataframe tbody tr th:only-of-type {\n",
       "        vertical-align: middle;\n",
       "    }\n",
       "\n",
       "    .dataframe tbody tr th {\n",
       "        vertical-align: top;\n",
       "    }\n",
       "\n",
       "    .dataframe thead th {\n",
       "        text-align: right;\n",
       "    }\n",
       "</style>\n",
       "<table border=\"1\" class=\"dataframe\">\n",
       "  <thead>\n",
       "    <tr style=\"text-align: right;\">\n",
       "      <th></th>\n",
       "      <th>user_id</th>\n",
       "      <th>in</th>\n",
       "      <th>out</th>\n",
       "    </tr>\n",
       "  </thead>\n",
       "  <tbody>\n",
       "    <tr>\n",
       "      <th>0</th>\n",
       "      <td>166377</td>\n",
       "      <td>102.0</td>\n",
       "      <td>2897.0</td>\n",
       "    </tr>\n",
       "    <tr>\n",
       "      <th>1</th>\n",
       "      <td>166391</td>\n",
       "      <td>6.0</td>\n",
       "      <td>0.0</td>\n",
       "    </tr>\n",
       "    <tr>\n",
       "      <th>2</th>\n",
       "      <td>166392</td>\n",
       "      <td>102.0</td>\n",
       "      <td>0.0</td>\n",
       "    </tr>\n",
       "    <tr>\n",
       "      <th>3</th>\n",
       "      <td>166399</td>\n",
       "      <td>13.0</td>\n",
       "      <td>0.0</td>\n",
       "    </tr>\n",
       "    <tr>\n",
       "      <th>4</th>\n",
       "      <td>166405</td>\n",
       "      <td>1063.0</td>\n",
       "      <td>1689.0</td>\n",
       "    </tr>\n",
       "    <tr>\n",
       "      <th>5</th>\n",
       "      <td>166406</td>\n",
       "      <td>161.0</td>\n",
       "      <td>1113.0</td>\n",
       "    </tr>\n",
       "    <tr>\n",
       "      <th>6</th>\n",
       "      <td>166407</td>\n",
       "      <td>82.0</td>\n",
       "      <td>538.0</td>\n",
       "    </tr>\n",
       "    <tr>\n",
       "      <th>7</th>\n",
       "      <td>166428</td>\n",
       "      <td>123.0</td>\n",
       "      <td>0.0</td>\n",
       "    </tr>\n",
       "    <tr>\n",
       "      <th>8</th>\n",
       "      <td>166481</td>\n",
       "      <td>1.0</td>\n",
       "      <td>0.0</td>\n",
       "    </tr>\n",
       "    <tr>\n",
       "      <th>9</th>\n",
       "      <td>166482</td>\n",
       "      <td>47.0</td>\n",
       "      <td>0.0</td>\n",
       "    </tr>\n",
       "  </tbody>\n",
       "</table>\n",
       "</div>"
      ],
      "text/plain": [
       "   user_id      in     out\n",
       "0   166377   102.0  2897.0\n",
       "1   166391     6.0     0.0\n",
       "2   166392   102.0     0.0\n",
       "3   166399    13.0     0.0\n",
       "4   166405  1063.0  1689.0\n",
       "5   166406   161.0  1113.0\n",
       "6   166407    82.0   538.0\n",
       "7   166428   123.0     0.0\n",
       "8   166481     1.0     0.0\n",
       "9   166482    47.0     0.0"
      ]
     },
     "execution_count": 42,
     "metadata": {},
     "output_type": "execute_result"
    }
   ],
   "source": [
    "dataset_dir = dataset.query('call_duration != 0').pivot_table(index = ['user_id'], columns =['direction'], values = ['calls_count'], aggfunc = (sum)).fillna(0).reset_index()\n",
    "dataset_dir.columns = ['user_id', 'in', 'out']\n",
    "dataset_dir.head(10)"
   ]
  },
  {
   "cell_type": "markdown",
   "metadata": {},
   "source": [
    "**Итак,** есть таблица, в которой собраны все КЦ с количеством исходящих и входящих вызовов"
   ]
  },
  {
   "cell_type": "code",
   "execution_count": 43,
   "metadata": {},
   "outputs": [],
   "source": [
    "# теперь напишем функцию для Ящика с усами и посмотрим на данные для входящих и исходящих вызовов\n",
    "def mybox(dataset,title):\n",
    "    q75, q25= np.percentile(dataset, [75,25])\n",
    "    iqr= q75 - q25\n",
    "    min= q25 - (q25+ 1.5*iqr)\n",
    "    max= q75 + 1.5*iqr\n",
    "    print('Граница нижнего уса:', min)\n",
    "    print('Граница верхнего уса:', max)\n",
    "    print(dataset.describe())\n",
    "    fig= plt.figure(figsize= (10, 5)) \n",
    "    plt.ylim(0, max*1.2)\n",
    "    plt.boxplot(dataset, sym='k+', notch =1)\n",
    "    plt.title(f'График \"ящик с усами\"для {title}')\n",
    "    plt.show()"
   ]
  },
  {
   "cell_type": "code",
   "execution_count": 44,
   "metadata": {},
   "outputs": [
    {
     "name": "stdout",
     "output_type": "stream",
     "text": [
      "Граница нижнего уса: -225.0\n",
      "Граница верхнего уса: 383.0\n",
      "count     287.000000\n",
      "mean      205.439024\n",
      "std       486.908431\n",
      "min         0.000000\n",
      "25%         8.000000\n",
      "50%        38.000000\n",
      "75%       158.000000\n",
      "max      5097.000000\n",
      "Name: in, dtype: float64\n"
     ]
    },
    {
     "data": {
      "image/png": "[encoded data removed]",
      "text/plain": [
       "<Figure size 720x360 with 1 Axes>"
      ]
     },
     "metadata": {
      "needs_background": "light"
     },
     "output_type": "display_data"
    }
   ],
   "source": [
    "mybox(dataset_dir['in'], 'количества входящих вызовов')"
   ]
  },
  {
   "cell_type": "code",
   "execution_count": 45,
   "metadata": {},
   "outputs": [
    {
     "name": "stdout",
     "output_type": "stream",
     "text": [
      "Граница нижнего уса: -540.0\n",
      "Граница верхнего уса: 900.0\n",
      "count     287.000000\n",
      "mean      365.257840\n",
      "std       783.731537\n",
      "min         0.000000\n",
      "25%         0.000000\n",
      "50%        44.000000\n",
      "75%       360.000000\n",
      "max      6683.000000\n",
      "Name: out, dtype: float64\n"
     ]
    },
    {
     "data": {
      "image/png": "[encoded data removed]",
      "text/plain": [
       "<Figure size 720x360 with 1 Axes>"
      ]
     },
     "metadata": {
      "needs_background": "light"
     },
     "output_type": "display_data"
    }
   ],
   "source": [
    "mybox(dataset_dir['out'], 'кол-ва исходящих вызовов')"
   ]
  },
  {
   "cell_type": "markdown",
   "metadata": {},
   "source": [
    "**Итак:** \n",
    "- среднее значение входящих вызовов 205, исходящих 365\n",
    "- 75% Колл-цетров(то есть большинство) совершают 360 исходящих и принимают 158 входящих звонков. Что, практически, совпадает со средними значениями.\n",
    "\n",
    "Но много это или мало, непонятно, надо посмотреть на долевое распределение"
   ]
  },
  {
   "cell_type": "code",
   "execution_count": 46,
   "metadata": {},
   "outputs": [
    {
     "data": {
      "text/html": [
       "<div>\n",
       "<style scoped>\n",
       "    .dataframe tbody tr th:only-of-type {\n",
       "        vertical-align: middle;\n",
       "    }\n",
       "\n",
       "    .dataframe tbody tr th {\n",
       "        vertical-align: top;\n",
       "    }\n",
       "\n",
       "    .dataframe thead th {\n",
       "        text-align: right;\n",
       "    }\n",
       "</style>\n",
       "<table border=\"1\" class=\"dataframe\">\n",
       "  <thead>\n",
       "    <tr style=\"text-align: right;\">\n",
       "      <th></th>\n",
       "      <th>user_id</th>\n",
       "      <th>in</th>\n",
       "      <th>out</th>\n",
       "      <th>percentile</th>\n",
       "    </tr>\n",
       "  </thead>\n",
       "  <tbody>\n",
       "    <tr>\n",
       "      <th>0</th>\n",
       "      <td>166377</td>\n",
       "      <td>102.0</td>\n",
       "      <td>2897.0</td>\n",
       "      <td>3.401134</td>\n",
       "    </tr>\n",
       "    <tr>\n",
       "      <th>1</th>\n",
       "      <td>166391</td>\n",
       "      <td>6.0</td>\n",
       "      <td>0.0</td>\n",
       "      <td>100.000000</td>\n",
       "    </tr>\n",
       "    <tr>\n",
       "      <th>2</th>\n",
       "      <td>166392</td>\n",
       "      <td>102.0</td>\n",
       "      <td>0.0</td>\n",
       "      <td>100.000000</td>\n",
       "    </tr>\n",
       "    <tr>\n",
       "      <th>3</th>\n",
       "      <td>166399</td>\n",
       "      <td>13.0</td>\n",
       "      <td>0.0</td>\n",
       "      <td>100.000000</td>\n",
       "    </tr>\n",
       "    <tr>\n",
       "      <th>4</th>\n",
       "      <td>166405</td>\n",
       "      <td>1063.0</td>\n",
       "      <td>1689.0</td>\n",
       "      <td>38.626453</td>\n",
       "    </tr>\n",
       "    <tr>\n",
       "      <th>...</th>\n",
       "      <td>...</td>\n",
       "      <td>...</td>\n",
       "      <td>...</td>\n",
       "      <td>...</td>\n",
       "    </tr>\n",
       "    <tr>\n",
       "      <th>282</th>\n",
       "      <td>168583</td>\n",
       "      <td>22.0</td>\n",
       "      <td>0.0</td>\n",
       "      <td>100.000000</td>\n",
       "    </tr>\n",
       "    <tr>\n",
       "      <th>283</th>\n",
       "      <td>168598</td>\n",
       "      <td>21.0</td>\n",
       "      <td>0.0</td>\n",
       "      <td>100.000000</td>\n",
       "    </tr>\n",
       "    <tr>\n",
       "      <th>284</th>\n",
       "      <td>168601</td>\n",
       "      <td>79.0</td>\n",
       "      <td>223.0</td>\n",
       "      <td>26.158940</td>\n",
       "    </tr>\n",
       "    <tr>\n",
       "      <th>285</th>\n",
       "      <td>168603</td>\n",
       "      <td>0.0</td>\n",
       "      <td>10.0</td>\n",
       "      <td>0.000000</td>\n",
       "    </tr>\n",
       "    <tr>\n",
       "      <th>286</th>\n",
       "      <td>168606</td>\n",
       "      <td>2.0</td>\n",
       "      <td>12.0</td>\n",
       "      <td>14.285714</td>\n",
       "    </tr>\n",
       "  </tbody>\n",
       "</table>\n",
       "<p>287 rows × 4 columns</p>\n",
       "</div>"
      ],
      "text/plain": [
       "     user_id      in     out  percentile\n",
       "0     166377   102.0  2897.0    3.401134\n",
       "1     166391     6.0     0.0  100.000000\n",
       "2     166392   102.0     0.0  100.000000\n",
       "3     166399    13.0     0.0  100.000000\n",
       "4     166405  1063.0  1689.0   38.626453\n",
       "..       ...     ...     ...         ...\n",
       "282   168583    22.0     0.0  100.000000\n",
       "283   168598    21.0     0.0  100.000000\n",
       "284   168601    79.0   223.0   26.158940\n",
       "285   168603     0.0    10.0    0.000000\n",
       "286   168606     2.0    12.0   14.285714\n",
       "\n",
       "[287 rows x 4 columns]"
      ]
     },
     "execution_count": 46,
     "metadata": {},
     "output_type": "execute_result"
    }
   ],
   "source": [
    "# посчитаем долю от общих звонков и добавим к нашей таблице\n",
    "dataset_dir['percentile'] = dataset_dir['in']/(dataset_dir['in']+ dataset_dir['out'])*100\n",
    "dataset_dir"
   ]
  },
  {
   "cell_type": "markdown",
   "metadata": {},
   "source": [
    "Теперь нам нужно прописать условие для того, чтобы определить специфику КЦ, на чем он работает, на исходящих или входящих звонках. Присвоим **in** или **out** идентификатору клиентского аккаунта **user_id** через функцию. Условие такое, если строка содержит направление **'in'** и процент в ней больше или рвно 49,99, то это категория \"'in'\", и тоже  условие с \"'out'\", только там порог 50,01. Понятно, что делить по 50% нельзя, так как программа запутается и не сможет нам корректно расставить данные."
   ]
  },
  {
   "cell_type": "code",
   "execution_count": 47,
   "metadata": {},
   "outputs": [],
   "source": [
    "def group_dir(row):\n",
    "    if (row['in'] !=0) & (row['percentile'] >= 49.99):\n",
    "        return 'in'\n",
    "    elif (row['out'] != 0) & (row['percentile'] <= 50.01):\n",
    "         return 'out'\n",
    "    else:\n",
    "        return 'проверить'"
   ]
  },
  {
   "cell_type": "code",
   "execution_count": 48,
   "metadata": {},
   "outputs": [
    {
     "data": {
      "text/plain": [
       "in     150\n",
       "out    137\n",
       "Name: priority_group, dtype: int64"
      ]
     },
     "execution_count": 48,
     "metadata": {},
     "output_type": "execute_result"
    }
   ],
   "source": [
    "dataset_dir['priority_group'] = dataset_dir.apply(group_dir, axis =1)\n",
    "dataset_dir['priority_group'].value_counts()"
   ]
  },
  {
   "cell_type": "markdown",
   "metadata": {},
   "source": [
    "**Итак:** \n",
    "- КЦ, которые специализируются на обзвонах на исходящих **130**клиентов, \n",
    "- **137 КЦ** специализируются на входящих звонках"
   ]
  },
  {
   "cell_type": "code",
   "execution_count": 49,
   "metadata": {},
   "outputs": [
    {
     "data": {
      "text/html": [
       "<div>\n",
       "<style scoped>\n",
       "    .dataframe tbody tr th:only-of-type {\n",
       "        vertical-align: middle;\n",
       "    }\n",
       "\n",
       "    .dataframe tbody tr th {\n",
       "        vertical-align: top;\n",
       "    }\n",
       "\n",
       "    .dataframe thead th {\n",
       "        text-align: right;\n",
       "    }\n",
       "</style>\n",
       "<table border=\"1\" class=\"dataframe\">\n",
       "  <thead>\n",
       "    <tr style=\"text-align: right;\">\n",
       "      <th></th>\n",
       "      <th>user_id</th>\n",
       "      <th>priority_group</th>\n",
       "    </tr>\n",
       "  </thead>\n",
       "  <tbody>\n",
       "    <tr>\n",
       "      <th>0</th>\n",
       "      <td>166377</td>\n",
       "      <td>out</td>\n",
       "    </tr>\n",
       "    <tr>\n",
       "      <th>1</th>\n",
       "      <td>166391</td>\n",
       "      <td>in</td>\n",
       "    </tr>\n",
       "    <tr>\n",
       "      <th>2</th>\n",
       "      <td>166392</td>\n",
       "      <td>in</td>\n",
       "    </tr>\n",
       "    <tr>\n",
       "      <th>3</th>\n",
       "      <td>166399</td>\n",
       "      <td>in</td>\n",
       "    </tr>\n",
       "    <tr>\n",
       "      <th>4</th>\n",
       "      <td>166405</td>\n",
       "      <td>out</td>\n",
       "    </tr>\n",
       "    <tr>\n",
       "      <th>...</th>\n",
       "      <td>...</td>\n",
       "      <td>...</td>\n",
       "    </tr>\n",
       "    <tr>\n",
       "      <th>282</th>\n",
       "      <td>168583</td>\n",
       "      <td>in</td>\n",
       "    </tr>\n",
       "    <tr>\n",
       "      <th>283</th>\n",
       "      <td>168598</td>\n",
       "      <td>in</td>\n",
       "    </tr>\n",
       "    <tr>\n",
       "      <th>284</th>\n",
       "      <td>168601</td>\n",
       "      <td>out</td>\n",
       "    </tr>\n",
       "    <tr>\n",
       "      <th>285</th>\n",
       "      <td>168603</td>\n",
       "      <td>out</td>\n",
       "    </tr>\n",
       "    <tr>\n",
       "      <th>286</th>\n",
       "      <td>168606</td>\n",
       "      <td>out</td>\n",
       "    </tr>\n",
       "  </tbody>\n",
       "</table>\n",
       "<p>287 rows × 2 columns</p>\n",
       "</div>"
      ],
      "text/plain": [
       "     user_id priority_group\n",
       "0     166377            out\n",
       "1     166391             in\n",
       "2     166392             in\n",
       "3     166399             in\n",
       "4     166405            out\n",
       "..       ...            ...\n",
       "282   168583             in\n",
       "283   168598             in\n",
       "284   168601            out\n",
       "285   168603            out\n",
       "286   168606            out\n",
       "\n",
       "[287 rows x 2 columns]"
      ]
     },
     "execution_count": 49,
     "metadata": {},
     "output_type": "execute_result"
    }
   ],
   "source": [
    "# присвоим in или out идентификатору клиентского аккаунта user_id \n",
    "dataset_dir_new = dataset_dir[['user_id', 'priority_group']]\n",
    "dataset_dir_new"
   ]
  },
  {
   "cell_type": "markdown",
   "metadata": {},
   "source": [
    "Теперь осталось добавить эти данные к основной таблице, с которой мы будем работать далее"
   ]
  },
  {
   "cell_type": "code",
   "execution_count": 50,
   "metadata": {},
   "outputs": [
    {
     "data": {
      "text/html": [
       "<div>\n",
       "<style scoped>\n",
       "    .dataframe tbody tr th:only-of-type {\n",
       "        vertical-align: middle;\n",
       "    }\n",
       "\n",
       "    .dataframe tbody tr th {\n",
       "        vertical-align: top;\n",
       "    }\n",
       "\n",
       "    .dataframe thead th {\n",
       "        text-align: right;\n",
       "    }\n",
       "</style>\n",
       "<table border=\"1\" class=\"dataframe\">\n",
       "  <thead>\n",
       "    <tr style=\"text-align: right;\">\n",
       "      <th></th>\n",
       "      <th>user_id</th>\n",
       "      <th>date</th>\n",
       "      <th>direction</th>\n",
       "      <th>internal</th>\n",
       "      <th>operator_id</th>\n",
       "      <th>is_missed_call</th>\n",
       "      <th>calls_count</th>\n",
       "      <th>call_duration</th>\n",
       "      <th>total_call_duration</th>\n",
       "      <th>avg_waiting_time</th>\n",
       "      <th>avg_call</th>\n",
       "      <th>priority_group</th>\n",
       "    </tr>\n",
       "  </thead>\n",
       "  <tbody>\n",
       "    <tr>\n",
       "      <th>0</th>\n",
       "      <td>166377</td>\n",
       "      <td>2019-08-04</td>\n",
       "      <td>in</td>\n",
       "      <td>False</td>\n",
       "      <td>0</td>\n",
       "      <td>True</td>\n",
       "      <td>2</td>\n",
       "      <td>0</td>\n",
       "      <td>4</td>\n",
       "      <td>0.0</td>\n",
       "      <td>2.000000</td>\n",
       "      <td>out</td>\n",
       "    </tr>\n",
       "    <tr>\n",
       "      <th>1</th>\n",
       "      <td>166377</td>\n",
       "      <td>2019-08-05</td>\n",
       "      <td>out</td>\n",
       "      <td>True</td>\n",
       "      <td>880022</td>\n",
       "      <td>True</td>\n",
       "      <td>3</td>\n",
       "      <td>0</td>\n",
       "      <td>5</td>\n",
       "      <td>0.0</td>\n",
       "      <td>1.666667</td>\n",
       "      <td>out</td>\n",
       "    </tr>\n",
       "    <tr>\n",
       "      <th>2</th>\n",
       "      <td>166377</td>\n",
       "      <td>2019-08-05</td>\n",
       "      <td>out</td>\n",
       "      <td>True</td>\n",
       "      <td>880020</td>\n",
       "      <td>True</td>\n",
       "      <td>1</td>\n",
       "      <td>0</td>\n",
       "      <td>1</td>\n",
       "      <td>0.0</td>\n",
       "      <td>1.000000</td>\n",
       "      <td>out</td>\n",
       "    </tr>\n",
       "    <tr>\n",
       "      <th>3</th>\n",
       "      <td>166377</td>\n",
       "      <td>2019-08-05</td>\n",
       "      <td>out</td>\n",
       "      <td>True</td>\n",
       "      <td>880020</td>\n",
       "      <td>False</td>\n",
       "      <td>1</td>\n",
       "      <td>10</td>\n",
       "      <td>18</td>\n",
       "      <td>8.0</td>\n",
       "      <td>8.000000</td>\n",
       "      <td>out</td>\n",
       "    </tr>\n",
       "    <tr>\n",
       "      <th>4</th>\n",
       "      <td>166377</td>\n",
       "      <td>2019-08-05</td>\n",
       "      <td>out</td>\n",
       "      <td>False</td>\n",
       "      <td>880022</td>\n",
       "      <td>True</td>\n",
       "      <td>3</td>\n",
       "      <td>0</td>\n",
       "      <td>25</td>\n",
       "      <td>0.0</td>\n",
       "      <td>8.333333</td>\n",
       "      <td>out</td>\n",
       "    </tr>\n",
       "  </tbody>\n",
       "</table>\n",
       "</div>"
      ],
      "text/plain": [
       "   user_id       date direction  internal  operator_id  is_missed_call  \\\n",
       "0   166377 2019-08-04        in     False            0            True   \n",
       "1   166377 2019-08-05       out      True       880022            True   \n",
       "2   166377 2019-08-05       out      True       880020            True   \n",
       "3   166377 2019-08-05       out      True       880020           False   \n",
       "4   166377 2019-08-05       out     False       880022            True   \n",
       "\n",
       "   calls_count  call_duration  total_call_duration  avg_waiting_time  \\\n",
       "0            2              0                    4               0.0   \n",
       "1            3              0                    5               0.0   \n",
       "2            1              0                    1               0.0   \n",
       "3            1             10                   18               8.0   \n",
       "4            3              0                   25               0.0   \n",
       "\n",
       "   avg_call priority_group  \n",
       "0  2.000000            out  \n",
       "1  1.666667            out  \n",
       "2  1.000000            out  \n",
       "3  8.000000            out  \n",
       "4  8.333333            out  "
      ]
     },
     "execution_count": 50,
     "metadata": {},
     "output_type": "execute_result"
    }
   ],
   "source": [
    "dataset= dataset.merge(dataset_dir_new, on = 'user_id')\n",
    "dataset.head()"
   ]
  },
  {
   "cell_type": "markdown",
   "metadata": {},
   "source": [
    "**Итак,** Произвели категоризацию Клиентов(КЦ), теперь приступим к самим метрикам, на основании которых будем определять эффективность."
   ]
  },
  {
   "cell_type": "markdown",
   "metadata": {},
   "source": [
    "<span style=\"color:brown\">3.4. Определение эффективности по 3-ём признакам:</span>\n",
    "\n",
    "Для каждой категории операторов определим их эффективность по 3 признакам:\n",
    "\n",
    "- 3.4.1 долгое ожидания ответа при входящих внешних вызовах. Построим гисторграмму разброса и установим границы эффективности\n",
    "- 3.4.2 много пропущенных входящих вызовов. Построим гистограмму разброса и установим границы эффективности\n",
    "- 3.4.3 мало исходящих вывозов. Для Колл-центров, которые специализируются на исходящих вызовах построим гистограмму разброса и установим рамки эффективности.\n",
    "\n",
    "Определим границы эфективности:\n",
    "\n",
    "- Для операторов исходящих звоноков:\n",
    "  - средняя продолжительность разговора не менее 25 секунд\n",
    "  - количество звонков не менее 30 на оператора в день\n",
    "- Для операторов входящих звоноков:\n",
    "  - время ожидания ответа внешних звонков не более 20 секунд\n",
    "  - время ожидания ответа при внутренних звонках не более 20 секунд\n",
    "  - Доля пропущенных вызовов(внешних) до 5%\n",
    "  - Доля пропущенных(внутренние) до 5%"
   ]
  },
  {
   "cell_type": "markdown",
   "metadata": {},
   "source": [
    "<span style=\"color:brown\">3.4.1 Оценим по среднему времени ожидания вызова **avg_call**, построим \"Ящик с усами\"</span>"
   ]
  },
  {
   "cell_type": "code",
   "execution_count": 51,
   "metadata": {},
   "outputs": [
    {
     "name": "stdout",
     "output_type": "stream",
     "text": [
      "Граница нижнего уса: -15.326450892857144\n",
      "Граница верхнего уса: 33.32645089285714\n",
      "count    24210.000000\n",
      "mean        14.340639\n",
      "std         10.562538\n",
      "min          0.000000\n",
      "25%          7.782366\n",
      "50%         12.452273\n",
      "75%         18.000000\n",
      "max        261.000000\n",
      "Name: avg_call, dtype: float64\n"
     ]
    },
    {
     "data": {
      "image/png": "[encoded data removed]",
      "text/plain": [
       "<Figure size 720x360 with 1 Axes>"
      ]
     },
     "metadata": {
      "needs_background": "light"
     },
     "output_type": "display_data"
    }
   ],
   "source": [
    "mybox(dataset.query('call_duration !=0').avg_call, 'среднего ожидания вызова')"
   ]
  },
  {
   "cell_type": "markdown",
   "metadata": {},
   "source": [
    "**Итак:** Как мы определили \"На старте\" проекта время ожидания внутренних и внешних звонков не более 20 секунд - данный показатель в основной своей массе у нас подходит, среднее значение 14 секунд. Данная метрика подойдет для колл-центров из категории \"in\", принимающих звонки."
   ]
  },
  {
   "cell_type": "markdown",
   "metadata": {},
   "source": [
    "<span style=\"color:brown\">3.4.2 Посмотрим на следующую метрику: количество(долю) пропущенных звонков как внешних так и внутренних из тех КЦ, которые работают на прием звонков</span>"
   ]
  },
  {
   "cell_type": "code",
   "execution_count": 52,
   "metadata": {},
   "outputs": [
    {
     "name": "stdout",
     "output_type": "stream",
     "text": [
      "Граница нижнего уса: -7.5\n",
      "Граница верхнего уса: 13.5\n",
      "count    5212.000000\n",
      "mean        7.017652\n",
      "std        12.409568\n",
      "min         1.000000\n",
      "25%         1.000000\n",
      "50%         2.000000\n",
      "75%         6.000000\n",
      "max        84.000000\n",
      "Name: calls_count, dtype: float64\n"
     ]
    },
    {
     "data": {
      "image/png": "[encoded data removed]",
      "text/plain": [
       "<Figure size 720x360 with 1 Axes>"
      ]
     },
     "metadata": {
      "needs_background": "light"
     },
     "output_type": "display_data"
    }
   ],
   "source": [
    "mybox(dataset.query('priority_group == \"in\" and is_missed_call == True')['calls_count'], 'пропущенных вызовов')"
   ]
  },
  {
   "cell_type": "markdown",
   "metadata": {},
   "source": [
    "**Итак,** в среднем, количество пропущенных **6** вызовов, **75%** Колл-центров пропускают 7 вызовов"
   ]
  },
  {
   "cell_type": "markdown",
   "metadata": {},
   "source": [
    "Сформируем сводную таблицу, где для каждого колл-центра посчитаем количество пропущенных входящих звонков. Визуализируем наши данные, построим гистограмму распределения"
   ]
  },
  {
   "cell_type": "code",
   "execution_count": 53,
   "metadata": {},
   "outputs": [],
   "source": [
    "missed_calls_Nan= dataset[(dataset['priority_group']== 'in') & (dataset['is_missed_call'] == True)]"
   ]
  },
  {
   "cell_type": "code",
   "execution_count": 54,
   "metadata": {},
   "outputs": [
    {
     "data": {
      "text/html": [
       "<div>\n",
       "<style scoped>\n",
       "    .dataframe tbody tr th:only-of-type {\n",
       "        vertical-align: middle;\n",
       "    }\n",
       "\n",
       "    .dataframe tbody tr th {\n",
       "        vertical-align: top;\n",
       "    }\n",
       "\n",
       "    .dataframe thead th {\n",
       "        text-align: right;\n",
       "    }\n",
       "</style>\n",
       "<table border=\"1\" class=\"dataframe\">\n",
       "  <thead>\n",
       "    <tr style=\"text-align: right;\">\n",
       "      <th></th>\n",
       "      <th>user_id</th>\n",
       "      <th>calls_count</th>\n",
       "    </tr>\n",
       "  </thead>\n",
       "  <tbody>\n",
       "    <tr>\n",
       "      <th>131</th>\n",
       "      <td>168252</td>\n",
       "      <td>5640</td>\n",
       "    </tr>\n",
       "    <tr>\n",
       "      <th>8</th>\n",
       "      <td>166582</td>\n",
       "      <td>4128</td>\n",
       "    </tr>\n",
       "    <tr>\n",
       "      <th>42</th>\n",
       "      <td>167071</td>\n",
       "      <td>1948</td>\n",
       "    </tr>\n",
       "    <tr>\n",
       "      <th>73</th>\n",
       "      <td>167521</td>\n",
       "      <td>1943</td>\n",
       "    </tr>\n",
       "    <tr>\n",
       "      <th>98</th>\n",
       "      <td>167888</td>\n",
       "      <td>1669</td>\n",
       "    </tr>\n",
       "    <tr>\n",
       "      <th>68</th>\n",
       "      <td>167445</td>\n",
       "      <td>1525</td>\n",
       "    </tr>\n",
       "    <tr>\n",
       "      <th>124</th>\n",
       "      <td>168154</td>\n",
       "      <td>1382</td>\n",
       "    </tr>\n",
       "    <tr>\n",
       "      <th>82</th>\n",
       "      <td>167653</td>\n",
       "      <td>1356</td>\n",
       "    </tr>\n",
       "    <tr>\n",
       "      <th>92</th>\n",
       "      <td>167827</td>\n",
       "      <td>1342</td>\n",
       "    </tr>\n",
       "    <tr>\n",
       "      <th>38</th>\n",
       "      <td>167016</td>\n",
       "      <td>1074</td>\n",
       "    </tr>\n",
       "  </tbody>\n",
       "</table>\n",
       "</div>"
      ],
      "text/plain": [
       "     user_id  calls_count\n",
       "131   168252         5640\n",
       "8     166582         4128\n",
       "42    167071         1948\n",
       "73    167521         1943\n",
       "98    167888         1669\n",
       "68    167445         1525\n",
       "124   168154         1382\n",
       "82    167653         1356\n",
       "92    167827         1342\n",
       "38    167016         1074"
      ]
     },
     "execution_count": 54,
     "metadata": {},
     "output_type": "execute_result"
    }
   ],
   "source": [
    "missed = missed_calls_Nan.groupby('user_id', as_index= False).agg({'calls_count':'sum'}).sort_values(by='calls_count', ascending=False)\n",
    "missed.head(10)"
   ]
  },
  {
   "cell_type": "code",
   "execution_count": 55,
   "metadata": {},
   "outputs": [
    {
     "data": {
      "text/plain": [
       "count     148.000000\n",
       "mean      247.135135\n",
       "std       663.635121\n",
       "min         1.000000\n",
       "25%        14.000000\n",
       "50%        42.000000\n",
       "75%       133.250000\n",
       "max      5640.000000\n",
       "Name: calls_count, dtype: float64"
      ]
     },
     "execution_count": 55,
     "metadata": {},
     "output_type": "execute_result"
    }
   ],
   "source": [
    "# посмотрим на статистические значения\n",
    "missed['calls_count'].describe()"
   ]
  },
  {
   "cell_type": "code",
   "execution_count": 56,
   "metadata": {},
   "outputs": [
    {
     "data": {
      "image/png": "[encoded data removed]",
      "text/plain": [
       "<Figure size 1080x432 with 1 Axes>"
      ]
     },
     "metadata": {
      "needs_background": "light"
     },
     "output_type": "display_data"
    }
   ],
   "source": [
    "missed['calls_count'].hist(bins= 20, figsize=(15,6))\n",
    "plt.title('Распределение количества пропущенных входящих вызовов\\n')\n",
    "plt.xlabel('Количество пропущенный вызовов')\n",
    "plt.ylabel('Количество колл-центров')\n",
    "plt.show()"
   ]
  },
  {
   "cell_type": "markdown",
   "metadata": {},
   "source": [
    "**Итак,** на гистограмме видно, что большое количество КЦ имеют небольшое количество пропущенных вызовов. Также есть колл-центры, у которых за весь период может насчитываться более 6000 пропущенных звонков. Процент пропущенных не должен привышать **5%**, такой порог для колл-центров мы установили в самом начале."
   ]
  },
  {
   "cell_type": "code",
   "execution_count": 57,
   "metadata": {},
   "outputs": [],
   "source": [
    "# добавим этот параметр отдельным столбцом к нашей таблице, он нам пригодится как эталон при проверке эффективности \n",
    "dataset['miss_limit'] = round(dataset['calls_count'] * 0.05)"
   ]
  },
  {
   "cell_type": "markdown",
   "metadata": {},
   "source": [
    "<span style=\"color:brown\">3.4.3  Мало исходящих вывозов — в случае тех колл-центров, что специализируются на обзвонах, категория \"out\". На гисторграмме разброса увидим выбросы и установим рамки эффективности</span>"
   ]
  },
  {
   "cell_type": "code",
   "execution_count": 58,
   "metadata": {},
   "outputs": [
    {
     "name": "stdout",
     "output_type": "stream",
     "text": [
      "Граница нижнего уса: -12.0\n",
      "Граница верхнего уса: 21.0\n",
      "count    17381.000000\n",
      "mean         7.207123\n",
      "std          8.982800\n",
      "min          1.000000\n",
      "25%          1.000000\n",
      "50%          4.000000\n",
      "75%          9.000000\n",
      "max         83.000000\n",
      "Name: calls_count, dtype: float64\n"
     ]
    },
    {
     "data": {
      "image/png": "[encoded data removed]",
      "text/plain": [
       "<Figure size 720x360 with 1 Axes>"
      ]
     },
     "metadata": {
      "needs_background": "light"
     },
     "output_type": "display_data"
    }
   ],
   "source": [
    "mybox(dataset.query('priority_group == \"out\" and is_missed_call == False')['calls_count'], 'количества исходящих вызовов')"
   ]
  },
  {
   "cell_type": "markdown",
   "metadata": {},
   "source": [
    "**Итак,** среднее количество исходящих вызовов 5, основная масса КЦ, 75% совершает 7 звонков. Есть и максимальное 42, но скорее всего, это большие КЦ. Мы определили метрику эффективности, как 20 звонков в день на оператора."
   ]
  },
  {
   "cell_type": "markdown",
   "metadata": {},
   "source": [
    "Как будем проводить комплексную оценку эффективности: \n",
    "- Провели категоризацию КЦ\n",
    "- Для каждой категории КЦ выделили основные показатели (не)эффективности. \n",
    "\n",
    "Теперь проведем оценку по принципу \"скоринга\" для каждой группы.\n",
    "Определим условия низкой эффективности:\n",
    "1. **Мало исходящих вывозов** — только для тех колл-центров, что специализируются на обзвонах.\n",
    "- Здесь установим следующие ограничения:(учитываться будут только состоявшие звонки)\n",
    "  - от 0 до 9 вызовов значение \"1\"\n",
    "  - от 10-20 вызовов значение \"0.5\" \n",
    "  - более 20 вызовов значение \"0\". \n",
    "2. **Долгое ожидания ответа** при входящих внешних вызовах. Из условия, это 20 сек. \n",
    "- Здесь установим следующие ограничения:\n",
    "  - от 0 до 10 сек значение \"0\"\n",
    "  - от 11 до 20 сек значение \"0.5\"\n",
    "  - более 20 сек значение \"1\"\n",
    "3. **Много пропущенных** входящих вызовов. \n",
    "- Здесь установим следующие ограничения:\n",
    "  - если кол-во пропущенных больше количества допустимого лимита **'miss_limit'**(мы его посчитали ранее)значение \"1\"\n",
    "  - если кол-во пропущенных меньше **'miss_limit'** значение \"0\".\n",
    "  \n",
    "Затем мы соберем все эти метрики в оду переменную, и в случае, если суммарный скоринг больше \"1\", то - это неэффективный КЦ, оператор. Всё просто!"
   ]
  },
  {
   "cell_type": "code",
   "execution_count": 59,
   "metadata": {},
   "outputs": [],
   "source": [
    "# оценка операторов, которые специализируются на исходящих обзвонах\n",
    "def out_score(row):\n",
    "    if row['direction']== \"out\" and row['is_missed_call']== False and 0<= row['calls_count'] <= 10:\n",
    "        return 1\n",
    "    elif row['direction']== \"out\" and row['is_missed_call']== False and 9< row['calls_count'] <= 20:\n",
    "        return 0.5\n",
    "    elif row['direction']== \"out\" and row['is_missed_call']== False and 21< row['calls_count']:\n",
    "        return 0\n",
    "    else:\n",
    "        return 0"
   ]
  },
  {
   "cell_type": "code",
   "execution_count": 60,
   "metadata": {},
   "outputs": [],
   "source": [
    "dataset['out_score']= dataset.apply(out_score, axis = 1)"
   ]
  },
  {
   "cell_type": "code",
   "execution_count": 61,
   "metadata": {},
   "outputs": [],
   "source": [
    "# оценка операторов по продолжительности ожидания ответа\n",
    "def avg_score(row):\n",
    "    if row['direction']== \"in\" and 0<= row['avg_call'] <= 10:\n",
    "        return 0\n",
    "    elif row['direction']== \"in\" and 11<= row['avg_call'] <= 20:\n",
    "        return 0.5\n",
    "    elif row['direction']== \"in\" and 21<= row['avg_call']:\n",
    "        return 1\n",
    "    else:\n",
    "        return 0"
   ]
  },
  {
   "cell_type": "code",
   "execution_count": 62,
   "metadata": {},
   "outputs": [],
   "source": [
    "dataset['avg_score'] = dataset.apply(avg_score, axis = 1)"
   ]
  },
  {
   "cell_type": "code",
   "execution_count": 63,
   "metadata": {},
   "outputs": [],
   "source": [
    "# оценка операторов по пропущенным вызовам \n",
    "def miss_score(row):\n",
    "    if row['direction']== \"in\" and row['is_missed_call']== True and  row['calls_count']< row['miss_limit']:\n",
    "        return 1\n",
    "    else:\n",
    "        return 0"
   ]
  },
  {
   "cell_type": "code",
   "execution_count": 64,
   "metadata": {},
   "outputs": [],
   "source": [
    "dataset['miss_score']= dataset.apply(miss_score, axis = 1)"
   ]
  },
  {
   "cell_type": "code",
   "execution_count": 65,
   "metadata": {},
   "outputs": [],
   "source": [
    "dataset['total_score']= dataset['miss_score']+ dataset['avg_score']+ dataset['out_score']"
   ]
  },
  {
   "cell_type": "code",
   "execution_count": 66,
   "metadata": {},
   "outputs": [
    {
     "data": {
      "text/html": [
       "<div>\n",
       "<style scoped>\n",
       "    .dataframe tbody tr th:only-of-type {\n",
       "        vertical-align: middle;\n",
       "    }\n",
       "\n",
       "    .dataframe tbody tr th {\n",
       "        vertical-align: top;\n",
       "    }\n",
       "\n",
       "    .dataframe thead th {\n",
       "        text-align: right;\n",
       "    }\n",
       "</style>\n",
       "<table border=\"1\" class=\"dataframe\">\n",
       "  <thead>\n",
       "    <tr style=\"text-align: right;\">\n",
       "      <th></th>\n",
       "      <th>user_id</th>\n",
       "      <th>date</th>\n",
       "      <th>direction</th>\n",
       "      <th>internal</th>\n",
       "      <th>operator_id</th>\n",
       "      <th>is_missed_call</th>\n",
       "      <th>calls_count</th>\n",
       "      <th>call_duration</th>\n",
       "      <th>total_call_duration</th>\n",
       "      <th>avg_waiting_time</th>\n",
       "      <th>avg_call</th>\n",
       "      <th>priority_group</th>\n",
       "      <th>miss_limit</th>\n",
       "      <th>out_score</th>\n",
       "      <th>avg_score</th>\n",
       "      <th>miss_score</th>\n",
       "      <th>total_score</th>\n",
       "    </tr>\n",
       "  </thead>\n",
       "  <tbody>\n",
       "    <tr>\n",
       "      <th>0</th>\n",
       "      <td>166377</td>\n",
       "      <td>2019-08-04</td>\n",
       "      <td>in</td>\n",
       "      <td>False</td>\n",
       "      <td>0</td>\n",
       "      <td>True</td>\n",
       "      <td>2</td>\n",
       "      <td>0</td>\n",
       "      <td>4</td>\n",
       "      <td>0.0</td>\n",
       "      <td>2.000000</td>\n",
       "      <td>out</td>\n",
       "      <td>0.0</td>\n",
       "      <td>0.0</td>\n",
       "      <td>0.0</td>\n",
       "      <td>0</td>\n",
       "      <td>0.0</td>\n",
       "    </tr>\n",
       "    <tr>\n",
       "      <th>1</th>\n",
       "      <td>166377</td>\n",
       "      <td>2019-08-05</td>\n",
       "      <td>out</td>\n",
       "      <td>True</td>\n",
       "      <td>880022</td>\n",
       "      <td>True</td>\n",
       "      <td>3</td>\n",
       "      <td>0</td>\n",
       "      <td>5</td>\n",
       "      <td>0.0</td>\n",
       "      <td>1.666667</td>\n",
       "      <td>out</td>\n",
       "      <td>0.0</td>\n",
       "      <td>0.0</td>\n",
       "      <td>0.0</td>\n",
       "      <td>0</td>\n",
       "      <td>0.0</td>\n",
       "    </tr>\n",
       "    <tr>\n",
       "      <th>2</th>\n",
       "      <td>166377</td>\n",
       "      <td>2019-08-05</td>\n",
       "      <td>out</td>\n",
       "      <td>True</td>\n",
       "      <td>880020</td>\n",
       "      <td>True</td>\n",
       "      <td>1</td>\n",
       "      <td>0</td>\n",
       "      <td>1</td>\n",
       "      <td>0.0</td>\n",
       "      <td>1.000000</td>\n",
       "      <td>out</td>\n",
       "      <td>0.0</td>\n",
       "      <td>0.0</td>\n",
       "      <td>0.0</td>\n",
       "      <td>0</td>\n",
       "      <td>0.0</td>\n",
       "    </tr>\n",
       "    <tr>\n",
       "      <th>3</th>\n",
       "      <td>166377</td>\n",
       "      <td>2019-08-05</td>\n",
       "      <td>out</td>\n",
       "      <td>True</td>\n",
       "      <td>880020</td>\n",
       "      <td>False</td>\n",
       "      <td>1</td>\n",
       "      <td>10</td>\n",
       "      <td>18</td>\n",
       "      <td>8.0</td>\n",
       "      <td>8.000000</td>\n",
       "      <td>out</td>\n",
       "      <td>0.0</td>\n",
       "      <td>1.0</td>\n",
       "      <td>0.0</td>\n",
       "      <td>0</td>\n",
       "      <td>1.0</td>\n",
       "    </tr>\n",
       "    <tr>\n",
       "      <th>4</th>\n",
       "      <td>166377</td>\n",
       "      <td>2019-08-05</td>\n",
       "      <td>out</td>\n",
       "      <td>False</td>\n",
       "      <td>880022</td>\n",
       "      <td>True</td>\n",
       "      <td>3</td>\n",
       "      <td>0</td>\n",
       "      <td>25</td>\n",
       "      <td>0.0</td>\n",
       "      <td>8.333333</td>\n",
       "      <td>out</td>\n",
       "      <td>0.0</td>\n",
       "      <td>0.0</td>\n",
       "      <td>0.0</td>\n",
       "      <td>0</td>\n",
       "      <td>0.0</td>\n",
       "    </tr>\n",
       "  </tbody>\n",
       "</table>\n",
       "</div>"
      ],
      "text/plain": [
       "   user_id       date direction  internal  operator_id  is_missed_call  \\\n",
       "0   166377 2019-08-04        in     False            0            True   \n",
       "1   166377 2019-08-05       out      True       880022            True   \n",
       "2   166377 2019-08-05       out      True       880020            True   \n",
       "3   166377 2019-08-05       out      True       880020           False   \n",
       "4   166377 2019-08-05       out     False       880022            True   \n",
       "\n",
       "   calls_count  call_duration  total_call_duration  avg_waiting_time  \\\n",
       "0            2              0                    4               0.0   \n",
       "1            3              0                    5               0.0   \n",
       "2            1              0                    1               0.0   \n",
       "3            1             10                   18               8.0   \n",
       "4            3              0                   25               0.0   \n",
       "\n",
       "   avg_call priority_group  miss_limit  out_score  avg_score  miss_score  \\\n",
       "0  2.000000            out         0.0        0.0        0.0           0   \n",
       "1  1.666667            out         0.0        0.0        0.0           0   \n",
       "2  1.000000            out         0.0        0.0        0.0           0   \n",
       "3  8.000000            out         0.0        1.0        0.0           0   \n",
       "4  8.333333            out         0.0        0.0        0.0           0   \n",
       "\n",
       "   total_score  \n",
       "0          0.0  \n",
       "1          0.0  \n",
       "2          0.0  \n",
       "3          1.0  \n",
       "4          0.0  "
      ]
     },
     "execution_count": 66,
     "metadata": {},
     "output_type": "execute_result"
    }
   ],
   "source": [
    "dataset.head()"
   ]
  },
  {
   "cell_type": "code",
   "execution_count": 67,
   "metadata": {},
   "outputs": [
    {
     "data": {
      "image/png": "[encoded data removed]",
      "text/plain": [
       "<Figure size 720x360 with 1 Axes>"
      ]
     },
     "metadata": {
      "needs_background": "light"
     },
     "output_type": "display_data"
    }
   ],
   "source": [
    "# визуализируем наш скоринг, посторим гистограмму распределения\n",
    "plt.figure(figsize=(10, 5))\n",
    "ax = sns.histplot(dataset, x='total_score', hue='direction', kde= False, multiple= 'dodge')\n",
    "ax.axes.set_title(\"Распределение скоринга неэффективности\")\n",
    "ax.set_xlabel(\"Скоринг\")\n",
    "ax.set_ylabel(\"Количество значений\")\n",
    "plt.show()"
   ]
  },
  {
   "cell_type": "markdown",
   "metadata": {},
   "source": [
    "**Итак,**\n",
    "- Скоринг \"0\" - эффективный по всем признакам\n",
    "- Скоринг \"0.5\" - по двум признакам неэффективен\n",
    "- Скоринг \"1\" - неэффективен по всем признакам"
   ]
  },
  {
   "cell_type": "markdown",
   "metadata": {},
   "source": [
    "<span style=\"color:brown\">3.5 Определить операторов, у которых больше всего доля пропущенных звонков и превышена норма ожидания вызова неэффективными</span>"
   ]
  },
  {
   "cell_type": "code",
   "execution_count": 68,
   "metadata": {},
   "outputs": [],
   "source": [
    "# определим неэффективных операторов\n",
    "ineffective_operator= dataset.query('total_score >= 1').reset_index(drop=True)"
   ]
  },
  {
   "cell_type": "code",
   "execution_count": 69,
   "metadata": {},
   "outputs": [
    {
     "data": {
      "text/html": [
       "<div>\n",
       "<style scoped>\n",
       "    .dataframe tbody tr th:only-of-type {\n",
       "        vertical-align: middle;\n",
       "    }\n",
       "\n",
       "    .dataframe tbody tr th {\n",
       "        vertical-align: top;\n",
       "    }\n",
       "\n",
       "    .dataframe thead th {\n",
       "        text-align: right;\n",
       "    }\n",
       "</style>\n",
       "<table border=\"1\" class=\"dataframe\">\n",
       "  <thead>\n",
       "    <tr style=\"text-align: right;\">\n",
       "      <th></th>\n",
       "      <th></th>\n",
       "      <th>total_score</th>\n",
       "    </tr>\n",
       "    <tr>\n",
       "      <th>user_id</th>\n",
       "      <th>operator_id</th>\n",
       "      <th></th>\n",
       "    </tr>\n",
       "  </thead>\n",
       "  <tbody>\n",
       "    <tr>\n",
       "      <th rowspan=\"6\" valign=\"top\">166377</th>\n",
       "      <th>0</th>\n",
       "      <td>1.0</td>\n",
       "    </tr>\n",
       "    <tr>\n",
       "      <th>880020</th>\n",
       "      <td>1.0</td>\n",
       "    </tr>\n",
       "    <tr>\n",
       "      <th>880022</th>\n",
       "      <td>1.0</td>\n",
       "    </tr>\n",
       "    <tr>\n",
       "      <th>880026</th>\n",
       "      <td>1.0</td>\n",
       "    </tr>\n",
       "    <tr>\n",
       "      <th>880028</th>\n",
       "      <td>1.0</td>\n",
       "    </tr>\n",
       "    <tr>\n",
       "      <th>881278</th>\n",
       "      <td>1.0</td>\n",
       "    </tr>\n",
       "    <tr>\n",
       "      <th rowspan=\"3\" valign=\"top\">166391</th>\n",
       "      <th>0</th>\n",
       "      <td>1.0</td>\n",
       "    </tr>\n",
       "    <tr>\n",
       "      <th>882476</th>\n",
       "      <td>1.0</td>\n",
       "    </tr>\n",
       "    <tr>\n",
       "      <th>882478</th>\n",
       "      <td>1.0</td>\n",
       "    </tr>\n",
       "    <tr>\n",
       "      <th>166392</th>\n",
       "      <th>0</th>\n",
       "      <td>1.0</td>\n",
       "    </tr>\n",
       "  </tbody>\n",
       "</table>\n",
       "</div>"
      ],
      "text/plain": [
       "                     total_score\n",
       "user_id operator_id             \n",
       "166377  0                    1.0\n",
       "        880020               1.0\n",
       "        880022               1.0\n",
       "        880026               1.0\n",
       "        880028               1.0\n",
       "        881278               1.0\n",
       "166391  0                    1.0\n",
       "        882476               1.0\n",
       "        882478               1.0\n",
       "166392  0                    1.0"
      ]
     },
     "execution_count": 69,
     "metadata": {},
     "output_type": "execute_result"
    }
   ],
   "source": [
    "#составим список неэффективных операторов и колл-центров\n",
    "list_ineffective=  pd.pivot_table(ineffective_operator, values=['total_score'], index=['user_id', 'operator_id'])\n",
    "list_ineffective.head(10)"
   ]
  },
  {
   "cell_type": "markdown",
   "metadata": {},
   "source": [
    "Теперь сгруппируем по идентификатору КЦ"
   ]
  },
  {
   "cell_type": "code",
   "execution_count": 70,
   "metadata": {},
   "outputs": [
    {
     "data": {
      "text/html": [
       "<div>\n",
       "<style scoped>\n",
       "    .dataframe tbody tr th:only-of-type {\n",
       "        vertical-align: middle;\n",
       "    }\n",
       "\n",
       "    .dataframe tbody tr th {\n",
       "        vertical-align: top;\n",
       "    }\n",
       "\n",
       "    .dataframe thead th {\n",
       "        text-align: right;\n",
       "    }\n",
       "</style>\n",
       "<table border=\"1\" class=\"dataframe\">\n",
       "  <thead>\n",
       "    <tr style=\"text-align: right;\">\n",
       "      <th></th>\n",
       "      <th>sum_count</th>\n",
       "    </tr>\n",
       "    <tr>\n",
       "      <th>user_id</th>\n",
       "      <th></th>\n",
       "    </tr>\n",
       "  </thead>\n",
       "  <tbody>\n",
       "    <tr>\n",
       "      <th>168187</th>\n",
       "      <td>40.0</td>\n",
       "    </tr>\n",
       "    <tr>\n",
       "      <th>167497</th>\n",
       "      <td>31.0</td>\n",
       "    </tr>\n",
       "    <tr>\n",
       "      <th>168062</th>\n",
       "      <td>28.0</td>\n",
       "    </tr>\n",
       "    <tr>\n",
       "      <th>168252</th>\n",
       "      <td>26.0</td>\n",
       "    </tr>\n",
       "    <tr>\n",
       "      <th>166658</th>\n",
       "      <td>18.0</td>\n",
       "    </tr>\n",
       "    <tr>\n",
       "      <th>167626</th>\n",
       "      <td>18.0</td>\n",
       "    </tr>\n",
       "    <tr>\n",
       "      <th>166680</th>\n",
       "      <td>17.0</td>\n",
       "    </tr>\n",
       "    <tr>\n",
       "      <th>166520</th>\n",
       "      <td>17.0</td>\n",
       "    </tr>\n",
       "    <tr>\n",
       "      <th>168091</th>\n",
       "      <td>16.0</td>\n",
       "    </tr>\n",
       "    <tr>\n",
       "      <th>166916</th>\n",
       "      <td>15.0</td>\n",
       "    </tr>\n",
       "  </tbody>\n",
       "</table>\n",
       "</div>"
      ],
      "text/plain": [
       "         sum_count\n",
       "user_id           \n",
       "168187        40.0\n",
       "167497        31.0\n",
       "168062        28.0\n",
       "168252        26.0\n",
       "166658        18.0\n",
       "167626        18.0\n",
       "166680        17.0\n",
       "166520        17.0\n",
       "168091        16.0\n",
       "166916        15.0"
      ]
     },
     "execution_count": 70,
     "metadata": {},
     "output_type": "execute_result"
    }
   ],
   "source": [
    "list_group = list_ineffective.groupby('user_id').sum().sort_values(by = 'total_score', ascending= False)\n",
    "list_group.columns = ['sum_count']\n",
    "list_group.head(10)"
   ]
  },
  {
   "cell_type": "code",
   "execution_count": 71,
   "metadata": {},
   "outputs": [
    {
     "data": {
      "image/png": "[encoded data removed]",
      "text/plain": [
       "<Figure size 720x360 with 1 Axes>"
      ]
     },
     "metadata": {
      "needs_background": "light"
     },
     "output_type": "display_data"
    }
   ],
   "source": [
    "plt.figure(figsize=(10, 5))\n",
    "ax = sns.histplot(ineffective_operator, x='total_score', hue='direction', kde=False, multiple='dodge')\n",
    "ax.axes.set_title(\"Скоринг по исходящим и входящим для неэффективных операторов \")\n",
    "ax.set_xlabel(\"Скоринг\")\n",
    "ax.set_ylabel(\"Количество значений\")\n",
    "plt.show()"
   ]
  },
  {
   "cell_type": "markdown",
   "metadata": {},
   "source": [
    "**Итак,** Как видно из графика ситуация в КЦ, специализирующихся на обзвонах ситуация хуже, чем у принимающих КЦ"
   ]
  },
  {
   "cell_type": "markdown",
   "metadata": {},
   "source": [
    "**Подведем итоги анализа:**"
   ]
  },
  {
   "cell_type": "code",
   "execution_count": 72,
   "metadata": {},
   "outputs": [
    {
     "name": "stdout",
     "output_type": "stream",
     "text": [
      "Количество колл-центров в которых есть неэффективные операторы\n",
      "По всем признакам : 267\n",
      "Всего колл-центров: 287\n",
      "Доля неэффективных: 93.03 %\n"
     ]
    }
   ],
   "source": [
    "print('Количество колл-центров в которых есть неэффективные операторы')\n",
    "print('По всем признакам :', len(ineffective_operator['user_id'].unique()))\n",
    "print('Всего колл-центров:', len(dataset['user_id'].unique()))\n",
    "print('Доля неэффективных:', round((len(ineffective_operator['user_id'].unique())/len(dataset['user_id'].unique())*100), 2), '%')\n"
   ]
  },
  {
   "cell_type": "code",
   "execution_count": 73,
   "metadata": {},
   "outputs": [
    {
     "name": "stdout",
     "output_type": "stream",
     "text": [
      "Количество  неэффективные операторов:\n",
      "По всем признакам : 882\n",
      "Всего операторов: 1089\n",
      "Доля неэффективных: 80.99 %\n"
     ]
    }
   ],
   "source": [
    "print('Количество  неэффективные операторов:')\n",
    "print('По всем признакам :', len(ineffective_operator['operator_id'].unique()))\n",
    "print('Всего операторов:', len(dataset['operator_id'].unique()))\n",
    "print('Доля неэффективных:', round((len(ineffective_operator['operator_id'].unique())/len(dataset['operator_id'].unique())*100), 2), '%')"
   ]
  },
  {
   "cell_type": "code",
   "execution_count": 74,
   "metadata": {},
   "outputs": [],
   "source": [
    "# операторы входящих вызовов\n",
    "operator_in = ineffective_operator[(ineffective_operator['priority_group'] == 'in')]"
   ]
  },
  {
   "cell_type": "code",
   "execution_count": 75,
   "metadata": {},
   "outputs": [
    {
     "name": "stdout",
     "output_type": "stream",
     "text": [
      "Количество  неэффективных операторов специализирующихся на входящих звонках:\n",
      "По всем признакам : 270\n",
      "Всего неэффективных операторов: 882\n",
      "Доля от неэффективных: 30.61 %\n"
     ]
    }
   ],
   "source": [
    "print('Количество  неэффективных операторов специализирующихся на входящих звонках:')\n",
    "print('По всем признакам :', len(operator_in['operator_id'].unique()))\n",
    "print('Всего неэффективных операторов:', len(ineffective_operator['operator_id'].unique()))\n",
    "print('Доля от неэффективных:', round((len(operator_in['operator_id'].unique()) / len(ineffective_operator['operator_id'].unique())*100), 2), '%')"
   ]
  },
  {
   "cell_type": "code",
   "execution_count": 76,
   "metadata": {},
   "outputs": [],
   "source": [
    "# операторы исходящих вызовов (на обзвоне)\n",
    "operator_out = ineffective_operator[(ineffective_operator['priority_group'] == 'out')]"
   ]
  },
  {
   "cell_type": "code",
   "execution_count": 77,
   "metadata": {},
   "outputs": [
    {
     "name": "stdout",
     "output_type": "stream",
     "text": [
      "Количество  неэффективных операторов специализирующихся на исходящих звонках :\n",
      "По всем признакам : 613\n",
      "Всего неэффективных операторов: 882\n",
      "Доля от неэффективных: 69.5 %\n"
     ]
    }
   ],
   "source": [
    "print('Количество  неэффективных операторов специализирующихся на исходящих звонках :')\n",
    "print('По всем признакам :', len(operator_out['operator_id'].unique()))\n",
    "print('Всего неэффективных операторов:', len(ineffective_operator['operator_id'].unique()))\n",
    "print('Доля от неэффективных:', round((len(operator_out['operator_id'].unique()) / len(ineffective_operator['operator_id'].unique())*100), 2), '%')"
   ]
  },
  {
   "cell_type": "markdown",
   "metadata": {},
   "source": [
    "**Вывод:**\n",
    "- 93% колл-центров признаны неэффективными по всем показателям. \n",
    "- 82,35% - это доля неэффективных операторов в Этих КЦ\n",
    "- Доля неэффективных операторов на входящих почти в 2 раза меньше, чем на исходящих.\n",
    "\n",
    "Причин может быть несколько:\n",
    "1. Неверно определен штат операторов, перегружены КЦ\n",
    "2. Низкий уровень обучения: незнание продукта, неумение удержать клиента, отработать возражение\n",
    "3. Неверная мотивация, низкая з/п: сотрудники не заинтересованы в выполнении своих КПЭ\n",
    "4. Не продающие скрипты, особенно в КЦ на обзвоне\n",
    "5. Неправильно сформированы графики работы операторов, КЦ"
   ]
  },
  {
   "cell_type": "markdown",
   "metadata": {},
   "source": [
    "### Статистический анализ, проверка гипотез."
   ]
  },
  {
   "cell_type": "markdown",
   "metadata": {},
   "source": [
    "Мы проводили анализ эффективности КЦ по нескольким факторам, в том числе, по количеству пропущенных вызовов, определили, что они есть в каждом Колл-центре и их количество, в основной массе, до 30. Но вспомним, что у нас есть не только внешние, но и внутренние звонки(между операторами). Этот момент не анализировали. Поэтому, выдвинем гипотезу на этот счет и проверим её.\n",
    "\n",
    "Кроме того, Проверим гипотезу, что среднее время ожидания ответа на входящий принятый внутренний звонок отличается от среднего времени ожидания ответа на принятый входящий внешний звонок, этот момент также не был подвержен анализу."
   ]
  },
  {
   "cell_type": "markdown",
   "metadata": {},
   "source": [
    "1. **Гипотеза №1** Проверим гипотезу, что входящие внешние звонки пропускаются так же часто, как и внутренние\n",
    "\n",
    "- **Гипотеза H0:** Средняя доля входящих пропущенных внешних и внутренних вызовов одинакова.\n",
    "- **Гипотеза H1:** Средняя доля входящих пропущенных внешних и внутренних вызовов различна."
   ]
  },
  {
   "cell_type": "code",
   "execution_count": 78,
   "metadata": {},
   "outputs": [
    {
     "name": "stdout",
     "output_type": "stream",
     "text": [
      "[299, 7274]\n",
      "[670, 18252]\n",
      "p-значение 0.013\n",
      "Отвергаем нулевую гипотезу: между долями есть значимая разница\n",
      "\n"
     ]
    }
   ],
   "source": [
    "# объявим критический уровень статистической значимости, если p-value окажется меньше него - отвергнем нулевую гипотезу\n",
    "alpha = .05\n",
    "\n",
    "# внутренние пропущенные вызовы\n",
    "missed_internal= (dataset.query('direction == \\'in\\' and internal == True and is_missed_call == True')['calls_count'])\n",
    "\n",
    "# внешние пропушщенные вызовы\n",
    "missed_external= (dataset.query('direction == \\'in\\' and internal == False and is_missed_call == True')['calls_count'])\n",
    "\n",
    "success = [missed_internal.count(), missed_external.count()]\n",
    "print(success)\n",
    "\n",
    "# соберем входящие внутренние и внешние\n",
    "experience= [dataset.query('direction == \\'in\\' and internal == True')['calls_count'].count(), \n",
    "          dataset.query('direction == \\'in\\' and internal == False')['calls_count'].count()]\n",
    "print(experience)\n",
    "\n",
    "# пропорции успехов\n",
    "p1 = success[0]/experience[0]\n",
    "p2 = success[1]/experience[1]\n",
    "\n",
    "# пропорция успехов в комбинированном датасете:\n",
    "p_combined = (success[0] + success[1]) / (experience[0] + experience[1])\n",
    "\n",
    "# разница пропорций в датасетах\n",
    "difference = p1 - p2 \n",
    "\n",
    "# считаем статистику в ст.отклонениях стандартного нормального распределения\n",
    "z_value = difference / mth.sqrt(p_combined * (1 - p_combined) * (1 / experience[0] + 1 / experience[1]))\n",
    "\n",
    "# задаем стандартное нормальное распределение (среднее 0, ст.отклонение 1)\n",
    "distr = st.norm(0, 1)\n",
    "\n",
    "\n",
    "p_value = (1 - distr.cdf(abs(z_value))) * 2\n",
    "print('p-значение', \"{0:.3f}\".format(p_value))\n",
    "    \n",
    "if p_value < alpha:\n",
    "    print('Отвергаем нулевую гипотезу: между долями есть значимая разница\\n')\n",
    "else:\n",
    "    print('Не получилось отвергнуть нулевую гипотезу, нет оснований считать доли разными\\n') "
   ]
  },
  {
   "cell_type": "code",
   "execution_count": 79,
   "metadata": {},
   "outputs": [
    {
     "name": "stdout",
     "output_type": "stream",
     "text": [
      "Средняя доля пропущенных внутренних звонков: 0.58 \n",
      "Средняя доля пропущенных внешних звонков: 0.44\n"
     ]
    }
   ],
   "source": [
    "print('Средняя доля пропущенных внутренних звонков:',  \n",
    "      \"{0:.2f}\".format(missed_internal.sum()/ dataset.query('direction == \\'in\\' and internal == True')['calls_count'].sum()),\n",
    "     '\\nСредняя доля пропущенных внешних звонков:', \n",
    "      \"{0:.2f}\".format(missed_external.sum()/ dataset.query('direction == \\'in\\' and internal == False')['calls_count'].sum()))"
   ]
  },
  {
   "cell_type": "markdown",
   "metadata": {},
   "source": [
    "**Вывод:** \n",
    "- p_value = 0,013, что меньше объявленного уровня статистической значимости alpha = .05. Поэтому мы отвергаем нулевую гипотезу. Если бы уровень значимости выбрали другой, например, alpha = .01, то разница долей не была бы статистически значимой и мы бы приняли первую гипотезу. Но глядя на цифры так не скажешь, разница почти в 25%."
   ]
  },
  {
   "cell_type": "markdown",
   "metadata": {},
   "source": [
    "2. **Гипотеза №2** \n",
    "- Проверим гипотезу, что среднее время ожидания ответа на входящий принятый внутренний звонок отличается от среднего времени ожидания ответа на принятый входящий внешний звонок\n",
    "\n",
    "- **Гипотеза H0:** среднее время ожидания ответа на принятый входящий внутренний и среднее время ожидания ответа на принятый входящий внешний звонок одинаково\n",
    "- **Гипотеза H1:** среднее время ожидания ответа на принятый входящий внутренний и среднее время ожидания ответа на принятый входящий внешний звонок различно"
   ]
  },
  {
   "cell_type": "code",
   "execution_count": 80,
   "metadata": {},
   "outputs": [
    {
     "name": "stdout",
     "output_type": "stream",
     "text": [
      "p-значение: 3.2745462415303225e-05\n",
      "Отвергаем нулевую гипотезу\n"
     ]
    }
   ],
   "source": [
    "# проведём t-тест для сравнения средних двух выборок входящих и исходящих вызовов\n",
    "results = st.ttest_ind(\n",
    "    dataset.query('direction == \"in\" and is_missed_call == False and internal == True')['avg_call'], \n",
    "    dataset.query('direction == \"in\" and is_missed_call == False and internal == False')['avg_call'], equal_var = False)\n",
    "print('p-значение:', results.pvalue)\n",
    "\n",
    "if (results.pvalue< alpha):\n",
    "    print(\"Отвергаем нулевую гипотезу\")\n",
    "else:\n",
    "    print(\"Не получилось отвергнуть нулевую гипотезу\")"
   ]
  },
  {
   "cell_type": "code",
   "execution_count": 81,
   "metadata": {},
   "outputs": [
    {
     "data": {
      "text/plain": [
       "13.836854931531482"
      ]
     },
     "execution_count": 81,
     "metadata": {},
     "output_type": "execute_result"
    }
   ],
   "source": [
    "# среднее время ожидания ответа на принятый входящий внутренний\n",
    "dataset.query('direction == \"in\" and is_missed_call == False and internal == True')['avg_call'].mean()"
   ]
  },
  {
   "cell_type": "code",
   "execution_count": 82,
   "metadata": {},
   "outputs": [
    {
     "data": {
      "text/plain": [
       "16.5451713625792"
      ]
     },
     "execution_count": 82,
     "metadata": {},
     "output_type": "execute_result"
    }
   ],
   "source": [
    "# среднее время ожидания ответа на принятый входящий вызов клиента\n",
    "dataset.query('direction == \"in\" and is_missed_call == False and internal == False')['avg_call'].mean()"
   ]
  },
  {
   "cell_type": "code",
   "execution_count": 83,
   "metadata": {},
   "outputs": [
    {
     "name": "stdout",
     "output_type": "stream",
     "text": [
      "Среднее время ожидания ответа на принятый входящий вызов между операторами: 13.84 \n",
      "Среднее время ожидания ответа на принятый входящий вызов клиента: 16.55\n"
     ]
    }
   ],
   "source": [
    "print('Среднее время ожидания ответа на принятый входящий вызов между операторами:', \"{0:.2f}\".format(dataset.query('direction == \"in\" and is_missed_call == False and internal == True')['avg_call'].mean()),\n",
    "     '\\nСреднее время ожидания ответа на принятый входящий вызов клиента:', \"{0:.2f}\".format(dataset.query('direction == \"in\" and is_missed_call == False and internal == False')['avg_call'].mean()))"
   ]
  },
  {
   "cell_type": "markdown",
   "metadata": {},
   "source": [
    "**Вывод:** \n",
    "- По результатам проверки мы отвергаем нулевую гипотезу. Разница статистически значима, хотя абсолютные значения не имеют большого разрыва."
   ]
  },
  {
   "cell_type": "markdown",
   "metadata": {},
   "source": [
    " ###  Общиий Вывод\n",
    " **Цель нашего исследования** состояла в проверке эффективности операторов с целью дальнейшего внедрения в систему дополнительного функционала. При условии:\n",
    "- Клиенты провайдера — колл-центры, которые:\n",
    "  - распределяют входящие вызовы на операторов\n",
    "  - совершают исходящие вызовы силами операторов\n",
    "\n",
    "**Стояла задача:** определить самых неэффективных операторов по следующим признакам низкой эффективности:\n",
    "- много пропущенных входящих вызовов,\n",
    "- долгое ожидания ответа при входящих внешних вызовах,\n",
    "- мало исходящих вывозов — в случае тех колл-центров, что специализируются на обзвонах, а не обработке входящих звонков.\n",
    "\n",
    "**Для этого мы проделали следующие действия:**\n",
    "1. **Ознакомились** с имеющимися данными по звонкам за период с с 2 августа по 28 ноября 2019, то есть, практически полных 4 месяца..\n",
    "2. **Обработали** данные:\n",
    "- Удалили строки с пропусками в **internal** -0,2%\n",
    "- Заменили 15,2% пропусков в **operator_id** \n",
    "- Удалили 9% строк-дубликатов\n",
    "- Изменили тип данных в **date** и **'operator_id**\n",
    "3. **Провели исследовательский анализ** данных по признакам неэффективности:\n",
    "- Количество колл-центров, в которых есть неэффективные операторы\n",
    "  - По всем признакам : 267\n",
    "  - Всего колл-центров: 287\n",
    "  - Доля неэффективных: 93.03 %\n",
    "- Количество  неэффективные операторов:\n",
    "  - По всем признакам : 882\n",
    "  - Всего операторов: 1089\n",
    "  - Доля неэффективных: 80.99 %\n",
    "- Количество  неэффективных операторов специализирующихся на входящих звонках:\n",
    "  - По всем признакам : 270\n",
    "  - Всего неэффективных операторов: 882\n",
    "  - Доля от неэффективных: 30.61 %\n",
    "- Количество  неэффективных операторов специализирующихся на исходящих звонках :\n",
    "  - По всем признакам : 613\n",
    "  - Всего неэффективных операторов: 882\n",
    "  - Доля от неэффективных: 69.5 %\n",
    "- 93% колл-центров признаны неэффективными по всем показателям.\n",
    "- 82,35% - это доля неэффективных операторов в Этих КЦ\n",
    "- Доля неэффективных операторов входящих вызовов почти в 2 раза меньше, чем исходящих.\n",
    "\n",
    "4. При **статистическом анализе** были проверены 2 гипотезы:\n",
    "- Гипотеза №1 Входящие внешние звонки пропускаются так же часто, как и внутренние, которая была отвергнута. Внутренние звонки пропускаются чаще, чем внешние, их доля 58%\n",
    "- Гипотеза №2 Среднее время ожидания ответа на входящий принятый внутренний звонок отличается от среднего времени ожидания ответа на принятый входящий внешний звонок, которая также была отвергнута. Внутренние звонки быстрее принимаются чем внешние, почти за 13 секунд.\n",
    "\n",
    "5. Были выдвинуты предположения о такой низкой эффективности операторов, и как следствие Колл-центров.\n",
    "   1. Неверно определен штат операторов, перегружены КЦ\n",
    "   2. Низкий уровень обучения: незнание продукта, неумение удержать клиента, отработать возражение\n",
    "   3. Неверная мотивация, низкая з/п: сотрудники не заинтересованы в выполнении своих КПЭ\n",
    "   4. Не продающие скрипты, особенно в КЦ на обзвоне\n",
    "   5. Неправильно сформированы графики работы операторов, КЦ\n",
    "\n",
    "**Рекомендации для КЦ**\n",
    "1. Нужно пересчитать нагрузку, и проверить достаточность штата, заполнить его при необходимости\n",
    "2. Провести тестирование сотрудников на знание продукта, \"точек касания\" клиента.\n",
    "3. Пересмотреть систему мотивации, выделить фокусно те направления, которые важны для бизнеса, и могут быть монетизированы для операторов.\n",
    "4. Посмотреть на \"Лучшие практики продаж\", скорректировать скрипты\n",
    "5. Пересмотреть графики операторов, не пересекаются ли в один день только неэффективные, или наоборот.\n",
    "\n",
    "**Рекомендации для Сервиса \"Нупозвони\"**\n",
    "- На системной основе мониторить эффективность КЦ, давать обратную связь, выстроить систему контроля, а также ввести систему мотивации/демотивации. Метод \"кнута и пряника\" работает во всех сферах жизни, и не только в бизнесе."
   ]
  },
  {
   "cell_type": "markdown",
   "metadata": {},
   "source": [
    "### Подготовка презентации и Дашборда"
   ]
  },
  {
   "cell_type": "code",
   "execution_count": 84,
   "metadata": {},
   "outputs": [],
   "source": [
    "# выгрузим наш датасет\n",
    "dataset.to_csv('data.csv', index = False)"
   ]
  }
 ],
 "metadata": {
  "ExecuteTimeLog": [
   {
    "duration": 1498,
    "start_time": "2023-06-10T14:43:31.253Z"
   },
   {
    "duration": 131,
    "start_time": "2023-06-10T14:54:34.677Z"
   },
   {
    "duration": 221,
    "start_time": "2023-06-10T14:54:35.345Z"
   },
   {
    "duration": 200,
    "start_time": "2023-06-10T14:59:29.825Z"
   },
   {
    "duration": 25,
    "start_time": "2023-06-10T14:59:45.344Z"
   },
   {
    "duration": 21,
    "start_time": "2023-06-10T15:00:23.858Z"
   },
   {
    "duration": 3,
    "start_time": "2023-06-10T15:07:15.264Z"
   },
   {
    "duration": 16,
    "start_time": "2023-06-10T15:07:45.736Z"
   },
   {
    "duration": 3,
    "start_time": "2023-06-10T15:13:14.688Z"
   },
   {
    "duration": 12,
    "start_time": "2023-06-10T15:14:04.326Z"
   },
   {
    "duration": 9,
    "start_time": "2023-06-10T15:14:17.999Z"
   },
   {
    "duration": 11,
    "start_time": "2023-06-10T15:14:24.667Z"
   },
   {
    "duration": 64,
    "start_time": "2023-06-10T15:24:09.212Z"
   },
   {
    "duration": 13,
    "start_time": "2023-06-10T15:24:36.858Z"
   },
   {
    "duration": 13,
    "start_time": "2023-06-10T15:25:00.300Z"
   },
   {
    "duration": 1498,
    "start_time": "2023-06-11T14:12:59.655Z"
   },
   {
    "duration": 126,
    "start_time": "2023-06-11T14:13:01.155Z"
   },
   {
    "duration": 755,
    "start_time": "2023-06-11T14:13:01.283Z"
   },
   {
    "duration": 26,
    "start_time": "2023-06-11T14:13:02.040Z"
   },
   {
    "duration": 12,
    "start_time": "2023-06-11T14:13:02.753Z"
   },
   {
    "duration": 14,
    "start_time": "2023-06-11T14:13:03.897Z"
   },
   {
    "duration": 8,
    "start_time": "2023-06-11T14:13:04.504Z"
   },
   {
    "duration": 82,
    "start_time": "2023-06-11T14:13:05.873Z"
   },
   {
    "duration": 13,
    "start_time": "2023-06-11T14:37:27.362Z"
   },
   {
    "duration": 19,
    "start_time": "2023-06-11T14:43:19.291Z"
   },
   {
    "duration": 4,
    "start_time": "2023-06-11T14:48:01.685Z"
   },
   {
    "duration": 20,
    "start_time": "2023-06-11T14:54:54.993Z"
   },
   {
    "duration": 32,
    "start_time": "2023-06-11T15:00:40.059Z"
   },
   {
    "duration": 15,
    "start_time": "2023-06-11T15:00:56.390Z"
   },
   {
    "duration": 24,
    "start_time": "2023-06-11T15:01:06.722Z"
   },
   {
    "duration": 16,
    "start_time": "2023-06-11T15:02:21.385Z"
   },
   {
    "duration": 20,
    "start_time": "2023-06-11T15:04:39.014Z"
   },
   {
    "duration": 17,
    "start_time": "2023-06-11T15:04:41.077Z"
   },
   {
    "duration": 16,
    "start_time": "2023-06-11T15:07:01.307Z"
   },
   {
    "duration": 103,
    "start_time": "2023-06-11T15:09:26.443Z"
   },
   {
    "duration": 34,
    "start_time": "2023-06-11T15:09:44.033Z"
   },
   {
    "duration": 32,
    "start_time": "2023-06-11T15:11:12.858Z"
   },
   {
    "duration": 26,
    "start_time": "2023-06-11T15:15:16.174Z"
   },
   {
    "duration": 10,
    "start_time": "2023-06-11T15:15:42.438Z"
   },
   {
    "duration": 17,
    "start_time": "2023-06-11T15:15:50.623Z"
   },
   {
    "duration": 3,
    "start_time": "2023-06-11T15:24:52.719Z"
   },
   {
    "duration": 103,
    "start_time": "2023-06-11T15:24:53.577Z"
   },
   {
    "duration": 328,
    "start_time": "2023-06-11T15:24:54.329Z"
   },
   {
    "duration": 19,
    "start_time": "2023-06-11T15:24:55.017Z"
   },
   {
    "duration": 12,
    "start_time": "2023-06-11T15:24:56.474Z"
   },
   {
    "duration": 11,
    "start_time": "2023-06-11T15:24:58.191Z"
   },
   {
    "duration": 7,
    "start_time": "2023-06-11T15:24:59.012Z"
   },
   {
    "duration": 21,
    "start_time": "2023-06-11T15:25:01.510Z"
   },
   {
    "duration": 21,
    "start_time": "2023-06-11T15:25:11.915Z"
   },
   {
    "duration": 11,
    "start_time": "2023-06-11T15:25:43.114Z"
   },
   {
    "duration": 14,
    "start_time": "2023-06-11T15:25:44.488Z"
   },
   {
    "duration": 4,
    "start_time": "2023-06-11T15:25:46.428Z"
   },
   {
    "duration": 19,
    "start_time": "2023-06-11T15:25:47.856Z"
   },
   {
    "duration": 19,
    "start_time": "2023-06-11T15:25:49.774Z"
   },
   {
    "duration": 10,
    "start_time": "2023-06-11T15:25:51.310Z"
   },
   {
    "duration": 17,
    "start_time": "2023-06-11T15:25:52.483Z"
   },
   {
    "duration": 22,
    "start_time": "2023-06-11T15:25:56.120Z"
   },
   {
    "duration": 33,
    "start_time": "2023-06-11T15:25:58.410Z"
   },
   {
    "duration": 8,
    "start_time": "2023-06-11T15:26:00.521Z"
   },
   {
    "duration": 13,
    "start_time": "2023-06-11T15:26:01.391Z"
   },
   {
    "duration": 1767,
    "start_time": "2023-06-13T08:14:45.175Z"
   },
   {
    "duration": 82,
    "start_time": "2023-06-13T08:14:46.944Z"
   },
   {
    "duration": 240,
    "start_time": "2023-06-13T08:14:47.027Z"
   },
   {
    "duration": 22,
    "start_time": "2023-06-13T08:14:47.269Z"
   },
   {
    "duration": 13,
    "start_time": "2023-06-13T08:14:48.775Z"
   },
   {
    "duration": 13,
    "start_time": "2023-06-13T08:14:54.781Z"
   },
   {
    "duration": 7,
    "start_time": "2023-06-13T08:14:55.380Z"
   },
   {
    "duration": 58,
    "start_time": "2023-06-13T08:14:57.584Z"
   },
   {
    "duration": 11,
    "start_time": "2023-06-13T08:14:59.476Z"
   },
   {
    "duration": 15,
    "start_time": "2023-06-13T08:15:00.631Z"
   },
   {
    "duration": 3,
    "start_time": "2023-06-13T08:15:02.044Z"
   },
   {
    "duration": 20,
    "start_time": "2023-06-13T08:15:03.172Z"
   },
   {
    "duration": 21,
    "start_time": "2023-06-13T08:15:04.975Z"
   },
   {
    "duration": 10,
    "start_time": "2023-06-13T08:15:05.717Z"
   },
   {
    "duration": 18,
    "start_time": "2023-06-13T08:15:06.911Z"
   },
   {
    "duration": 15,
    "start_time": "2023-06-13T08:15:09.346Z"
   },
   {
    "duration": 32,
    "start_time": "2023-06-13T08:15:10.878Z"
   },
   {
    "duration": 10,
    "start_time": "2023-06-13T08:15:12.321Z"
   },
   {
    "duration": 14,
    "start_time": "2023-06-13T08:15:12.975Z"
   },
   {
    "duration": 101,
    "start_time": "2023-06-13T08:19:40.574Z"
   },
   {
    "duration": 4,
    "start_time": "2023-06-13T08:20:17.042Z"
   },
   {
    "duration": 10,
    "start_time": "2023-06-13T08:25:50.377Z"
   },
   {
    "duration": 5,
    "start_time": "2023-06-13T08:26:02.440Z"
   },
   {
    "duration": 5,
    "start_time": "2023-06-13T08:27:22.274Z"
   },
   {
    "duration": 9,
    "start_time": "2023-06-13T08:39:05.694Z"
   },
   {
    "duration": 10,
    "start_time": "2023-06-13T08:50:23.007Z"
   },
   {
    "duration": 11,
    "start_time": "2023-06-13T08:52:16.550Z"
   },
   {
    "duration": 10,
    "start_time": "2023-06-13T09:04:47.810Z"
   },
   {
    "duration": 9,
    "start_time": "2023-06-13T09:38:48.742Z"
   },
   {
    "duration": 2,
    "start_time": "2023-06-13T09:38:55.418Z"
   },
   {
    "duration": 24,
    "start_time": "2023-06-13T09:38:56.066Z"
   },
   {
    "duration": 292,
    "start_time": "2023-06-13T10:05:07.513Z"
   },
   {
    "duration": 10,
    "start_time": "2023-06-13T10:12:00.590Z"
   },
   {
    "duration": 22,
    "start_time": "2023-06-13T10:13:51.752Z"
   },
   {
    "duration": 4,
    "start_time": "2023-06-13T10:14:17.514Z"
   },
   {
    "duration": 5,
    "start_time": "2023-06-13T10:14:20.290Z"
   },
   {
    "duration": 5,
    "start_time": "2023-06-13T10:14:21.051Z"
   },
   {
    "duration": 12,
    "start_time": "2023-06-13T10:14:22.861Z"
   },
   {
    "duration": 7,
    "start_time": "2023-06-13T10:14:24.547Z"
   },
   {
    "duration": 8,
    "start_time": "2023-06-13T10:14:25.944Z"
   },
   {
    "duration": 8,
    "start_time": "2023-06-13T10:14:32.808Z"
   },
   {
    "duration": 3,
    "start_time": "2023-06-13T10:14:40.035Z"
   },
   {
    "duration": 23,
    "start_time": "2023-06-13T10:14:49.232Z"
   },
   {
    "duration": 9,
    "start_time": "2023-06-13T10:25:29.914Z"
   },
   {
    "duration": 5,
    "start_time": "2023-06-13T10:33:17.646Z"
   },
   {
    "duration": 3,
    "start_time": "2023-06-13T10:36:32.010Z"
   },
   {
    "duration": 4376,
    "start_time": "2023-06-13T10:39:33.071Z"
   },
   {
    "duration": 3638,
    "start_time": "2023-06-13T10:39:51.264Z"
   },
   {
    "duration": 2321,
    "start_time": "2023-06-13T10:40:19.640Z"
   },
   {
    "duration": 0,
    "start_time": "2023-06-13T10:40:21.963Z"
   },
   {
    "duration": 0,
    "start_time": "2023-06-13T10:40:21.966Z"
   },
   {
    "duration": 3,
    "start_time": "2023-06-13T10:40:22.788Z"
   },
   {
    "duration": 3648,
    "start_time": "2023-06-13T10:41:01.082Z"
   },
   {
    "duration": 7,
    "start_time": "2023-06-13T10:42:05.409Z"
   },
   {
    "duration": 3,
    "start_time": "2023-06-13T10:42:08.040Z"
   },
   {
    "duration": 20,
    "start_time": "2023-06-13T10:42:08.814Z"
   },
   {
    "duration": 1320,
    "start_time": "2023-06-13T10:42:26.719Z"
   },
   {
    "duration": 51,
    "start_time": "2023-06-13T10:42:28.041Z"
   },
   {
    "duration": 253,
    "start_time": "2023-06-13T10:42:28.094Z"
   },
   {
    "duration": 21,
    "start_time": "2023-06-13T10:42:28.349Z"
   },
   {
    "duration": 25,
    "start_time": "2023-06-13T10:42:28.373Z"
   },
   {
    "duration": 32,
    "start_time": "2023-06-13T10:42:28.400Z"
   },
   {
    "duration": 26,
    "start_time": "2023-06-13T10:42:28.434Z"
   },
   {
    "duration": 71,
    "start_time": "2023-06-13T10:42:28.461Z"
   },
   {
    "duration": 11,
    "start_time": "2023-06-13T10:42:28.534Z"
   },
   {
    "duration": 31,
    "start_time": "2023-06-13T10:42:28.547Z"
   },
   {
    "duration": 5,
    "start_time": "2023-06-13T10:42:28.580Z"
   },
   {
    "duration": 71,
    "start_time": "2023-06-13T10:42:28.587Z"
   },
   {
    "duration": 33,
    "start_time": "2023-06-13T10:42:28.662Z"
   },
   {
    "duration": 11,
    "start_time": "2023-06-13T10:42:28.699Z"
   },
   {
    "duration": 49,
    "start_time": "2023-06-13T10:42:28.714Z"
   },
   {
    "duration": 26,
    "start_time": "2023-06-13T10:42:28.766Z"
   },
   {
    "duration": 37,
    "start_time": "2023-06-13T10:42:28.794Z"
   },
   {
    "duration": 34,
    "start_time": "2023-06-13T10:42:28.833Z"
   },
   {
    "duration": 24,
    "start_time": "2023-06-13T10:42:28.869Z"
   },
   {
    "duration": 5,
    "start_time": "2023-06-13T10:42:28.896Z"
   },
   {
    "duration": 12,
    "start_time": "2023-06-13T10:42:28.903Z"
   },
   {
    "duration": 39,
    "start_time": "2023-06-13T10:42:28.917Z"
   },
   {
    "duration": 25,
    "start_time": "2023-06-13T10:42:28.958Z"
   },
   {
    "duration": 19,
    "start_time": "2023-06-13T10:42:28.985Z"
   },
   {
    "duration": 17,
    "start_time": "2023-06-13T10:42:29.006Z"
   },
   {
    "duration": 27,
    "start_time": "2023-06-13T10:42:29.024Z"
   },
   {
    "duration": 3,
    "start_time": "2023-06-13T10:42:29.054Z"
   },
   {
    "duration": 43,
    "start_time": "2023-06-13T10:42:29.059Z"
   },
   {
    "duration": 267,
    "start_time": "2023-06-13T10:42:29.103Z"
   },
   {
    "duration": 14,
    "start_time": "2023-06-13T10:42:29.372Z"
   },
   {
    "duration": 11,
    "start_time": "2023-06-13T10:42:29.387Z"
   },
   {
    "duration": 542,
    "start_time": "2023-06-13T10:42:29.400Z"
   },
   {
    "duration": 5,
    "start_time": "2023-06-13T10:42:29.944Z"
   },
   {
    "duration": 941,
    "start_time": "2023-06-13T10:42:29.951Z"
   },
   {
    "duration": 16,
    "start_time": "2023-06-13T10:42:50.814Z"
   },
   {
    "duration": 4,
    "start_time": "2023-06-13T10:42:52.396Z"
   },
   {
    "duration": 468,
    "start_time": "2023-06-13T10:42:53.794Z"
   },
   {
    "duration": 2,
    "start_time": "2023-06-13T10:42:54.803Z"
   },
   {
    "duration": 1047,
    "start_time": "2023-06-13T10:42:58.419Z"
   },
   {
    "duration": 26,
    "start_time": "2023-06-13T10:46:55.900Z"
   },
   {
    "duration": 4,
    "start_time": "2023-06-13T10:46:57.486Z"
   },
   {
    "duration": 425,
    "start_time": "2023-06-13T10:46:58.269Z"
   },
   {
    "duration": 3,
    "start_time": "2023-06-13T10:46:59.013Z"
   },
   {
    "duration": 1239,
    "start_time": "2023-06-13T10:47:02.386Z"
   },
   {
    "duration": 1410,
    "start_time": "2023-06-13T10:47:53.180Z"
   },
   {
    "duration": 1375,
    "start_time": "2023-06-13T10:50:38.610Z"
   },
   {
    "duration": 74,
    "start_time": "2023-06-13T10:50:39.988Z"
   },
   {
    "duration": 296,
    "start_time": "2023-06-13T10:50:40.064Z"
   },
   {
    "duration": 30,
    "start_time": "2023-06-13T10:50:40.363Z"
   },
   {
    "duration": 33,
    "start_time": "2023-06-13T10:50:40.396Z"
   },
   {
    "duration": 26,
    "start_time": "2023-06-13T10:50:40.431Z"
   },
   {
    "duration": 18,
    "start_time": "2023-06-13T10:50:40.459Z"
   },
   {
    "duration": 88,
    "start_time": "2023-06-13T10:50:40.478Z"
   },
   {
    "duration": 17,
    "start_time": "2023-06-13T10:50:40.570Z"
   },
   {
    "duration": 50,
    "start_time": "2023-06-13T10:50:40.591Z"
   },
   {
    "duration": 4,
    "start_time": "2023-06-13T10:50:40.643Z"
   },
   {
    "duration": 31,
    "start_time": "2023-06-13T10:50:40.648Z"
   },
   {
    "duration": 50,
    "start_time": "2023-06-13T10:50:40.681Z"
   },
   {
    "duration": 13,
    "start_time": "2023-06-13T10:50:40.733Z"
   },
   {
    "duration": 87,
    "start_time": "2023-06-13T10:50:40.748Z"
   },
   {
    "duration": 23,
    "start_time": "2023-06-13T10:50:40.837Z"
   },
   {
    "duration": 58,
    "start_time": "2023-06-13T10:50:40.862Z"
   },
   {
    "duration": 12,
    "start_time": "2023-06-13T10:50:40.922Z"
   },
   {
    "duration": 21,
    "start_time": "2023-06-13T10:50:40.936Z"
   },
   {
    "duration": 9,
    "start_time": "2023-06-13T10:50:40.959Z"
   },
   {
    "duration": 19,
    "start_time": "2023-06-13T10:50:40.970Z"
   },
   {
    "duration": 24,
    "start_time": "2023-06-13T10:50:40.991Z"
   },
   {
    "duration": 16,
    "start_time": "2023-06-13T10:50:41.017Z"
   },
   {
    "duration": 11,
    "start_time": "2023-06-13T10:50:41.035Z"
   },
   {
    "duration": 11,
    "start_time": "2023-06-13T10:50:41.048Z"
   },
   {
    "duration": 33,
    "start_time": "2023-06-13T10:50:41.061Z"
   },
   {
    "duration": 14,
    "start_time": "2023-06-13T10:50:41.096Z"
   },
   {
    "duration": 33,
    "start_time": "2023-06-13T10:50:41.114Z"
   },
   {
    "duration": 296,
    "start_time": "2023-06-13T10:50:41.148Z"
   },
   {
    "duration": 23,
    "start_time": "2023-06-13T10:50:41.446Z"
   },
   {
    "duration": 20,
    "start_time": "2023-06-13T10:50:41.471Z"
   },
   {
    "duration": 774,
    "start_time": "2023-06-13T10:50:41.494Z"
   },
   {
    "duration": 7,
    "start_time": "2023-06-13T10:50:42.270Z"
   },
   {
    "duration": 989,
    "start_time": "2023-06-13T10:50:42.279Z"
   },
   {
    "duration": 20,
    "start_time": "2023-06-13T10:52:57.558Z"
   },
   {
    "duration": 3,
    "start_time": "2023-06-13T10:52:59.389Z"
   },
   {
    "duration": 481,
    "start_time": "2023-06-13T10:53:00.460Z"
   },
   {
    "duration": 3,
    "start_time": "2023-06-13T10:53:01.371Z"
   },
   {
    "duration": 1127,
    "start_time": "2023-06-13T10:53:04.198Z"
   },
   {
    "duration": 101,
    "start_time": "2023-06-13T12:04:57.805Z"
   },
   {
    "duration": 3,
    "start_time": "2023-06-13T12:05:03.350Z"
   },
   {
    "duration": 10,
    "start_time": "2023-06-13T12:05:03.856Z"
   },
   {
    "duration": 14,
    "start_time": "2023-06-13T12:34:31.115Z"
   },
   {
    "duration": 12,
    "start_time": "2023-06-13T12:38:52.791Z"
   },
   {
    "duration": 5,
    "start_time": "2023-06-13T12:38:53.427Z"
   },
   {
    "duration": 15,
    "start_time": "2023-06-13T12:38:54.044Z"
   },
   {
    "duration": 20,
    "start_time": "2023-06-13T12:40:24.654Z"
   },
   {
    "duration": 2720,
    "start_time": "2023-06-13T12:41:44.503Z"
   },
   {
    "duration": 2014,
    "start_time": "2023-06-13T12:44:50.087Z"
   },
   {
    "duration": 296,
    "start_time": "2023-06-13T12:45:42.243Z"
   },
   {
    "duration": 168,
    "start_time": "2023-06-13T12:47:14.987Z"
   },
   {
    "duration": 212,
    "start_time": "2023-06-13T12:51:45.507Z"
   },
   {
    "duration": 211,
    "start_time": "2023-06-13T12:52:11.592Z"
   },
   {
    "duration": 1581,
    "start_time": "2023-06-14T06:20:11.014Z"
   },
   {
    "duration": 87,
    "start_time": "2023-06-14T06:20:12.597Z"
   },
   {
    "duration": 309,
    "start_time": "2023-06-14T06:20:12.685Z"
   },
   {
    "duration": 21,
    "start_time": "2023-06-14T06:20:12.996Z"
   },
   {
    "duration": 12,
    "start_time": "2023-06-14T06:20:13.019Z"
   },
   {
    "duration": 45,
    "start_time": "2023-06-14T06:20:13.042Z"
   },
   {
    "duration": 9,
    "start_time": "2023-06-14T06:20:13.089Z"
   },
   {
    "duration": 91,
    "start_time": "2023-06-14T06:20:13.100Z"
   },
   {
    "duration": 13,
    "start_time": "2023-06-14T06:20:13.193Z"
   },
   {
    "duration": 18,
    "start_time": "2023-06-14T06:20:13.210Z"
   },
   {
    "duration": 6,
    "start_time": "2023-06-14T06:20:13.242Z"
   },
   {
    "duration": 46,
    "start_time": "2023-06-14T06:20:13.250Z"
   },
   {
    "duration": 19,
    "start_time": "2023-06-14T06:20:13.298Z"
   },
   {
    "duration": 11,
    "start_time": "2023-06-14T06:20:13.319Z"
   },
   {
    "duration": 31,
    "start_time": "2023-06-14T06:20:13.332Z"
   },
   {
    "duration": 22,
    "start_time": "2023-06-14T06:20:13.367Z"
   },
   {
    "duration": 34,
    "start_time": "2023-06-14T06:20:13.391Z"
   },
   {
    "duration": 24,
    "start_time": "2023-06-14T06:20:13.427Z"
   },
   {
    "duration": 34,
    "start_time": "2023-06-14T06:20:13.455Z"
   },
   {
    "duration": 10,
    "start_time": "2023-06-14T06:20:13.491Z"
   },
   {
    "duration": 8,
    "start_time": "2023-06-14T06:20:13.503Z"
   },
   {
    "duration": 7,
    "start_time": "2023-06-14T06:20:13.512Z"
   },
   {
    "duration": 14,
    "start_time": "2023-06-14T06:20:13.521Z"
   },
   {
    "duration": 13,
    "start_time": "2023-06-14T06:20:13.537Z"
   },
   {
    "duration": 41,
    "start_time": "2023-06-14T06:20:13.551Z"
   },
   {
    "duration": 10,
    "start_time": "2023-06-14T06:20:13.593Z"
   },
   {
    "duration": 8,
    "start_time": "2023-06-14T06:20:13.605Z"
   },
   {
    "duration": 30,
    "start_time": "2023-06-14T06:20:13.616Z"
   },
   {
    "duration": 272,
    "start_time": "2023-06-14T06:20:13.649Z"
   },
   {
    "duration": 25,
    "start_time": "2023-06-14T06:20:13.923Z"
   },
   {
    "duration": 7,
    "start_time": "2023-06-14T06:20:13.949Z"
   },
   {
    "duration": 598,
    "start_time": "2023-06-14T06:20:13.957Z"
   },
   {
    "duration": 3,
    "start_time": "2023-06-14T06:20:14.562Z"
   },
   {
    "duration": 865,
    "start_time": "2023-06-14T06:20:14.567Z"
   },
   {
    "duration": 3,
    "start_time": "2023-06-14T06:20:15.434Z"
   },
   {
    "duration": 42,
    "start_time": "2023-06-14T06:20:15.442Z"
   },
   {
    "duration": 13,
    "start_time": "2023-06-14T06:20:15.486Z"
   },
   {
    "duration": 4,
    "start_time": "2023-06-14T06:20:15.501Z"
   },
   {
    "duration": 30,
    "start_time": "2023-06-14T06:20:15.507Z"
   },
   {
    "duration": 254,
    "start_time": "2023-06-14T06:20:15.538Z"
   },
   {
    "duration": 187,
    "start_time": "2023-06-14T06:20:15.794Z"
   },
   {
    "duration": 22,
    "start_time": "2023-06-14T06:29:20.433Z"
   },
   {
    "duration": 41,
    "start_time": "2023-06-14T06:43:12.125Z"
   },
   {
    "duration": 40,
    "start_time": "2023-06-14T06:43:25.066Z"
   },
   {
    "duration": 35,
    "start_time": "2023-06-14T06:43:33.601Z"
   },
   {
    "duration": 4,
    "start_time": "2023-06-14T06:46:03.860Z"
   },
   {
    "duration": 13,
    "start_time": "2023-06-14T06:46:28.516Z"
   },
   {
    "duration": 13,
    "start_time": "2023-06-14T06:46:34.858Z"
   },
   {
    "duration": 11,
    "start_time": "2023-06-14T06:46:47.906Z"
   },
   {
    "duration": 15,
    "start_time": "2023-06-14T06:47:09.921Z"
   },
   {
    "duration": 5,
    "start_time": "2023-06-14T06:51:37.848Z"
   },
   {
    "duration": 33,
    "start_time": "2023-06-14T06:52:48.756Z"
   },
   {
    "duration": 5,
    "start_time": "2023-06-14T07:33:10.689Z"
   },
   {
    "duration": 5,
    "start_time": "2023-06-14T07:33:14.269Z"
   },
   {
    "duration": 128,
    "start_time": "2023-06-14T07:33:55.963Z"
   },
   {
    "duration": 14,
    "start_time": "2023-06-14T07:34:02.523Z"
   },
   {
    "duration": 17,
    "start_time": "2023-06-14T07:34:10.915Z"
   },
   {
    "duration": 4,
    "start_time": "2023-06-14T07:34:12.415Z"
   },
   {
    "duration": 32,
    "start_time": "2023-06-14T07:34:13.477Z"
   },
   {
    "duration": 1630,
    "start_time": "2023-06-14T07:34:56.864Z"
   },
   {
    "duration": 214,
    "start_time": "2023-06-14T07:34:58.499Z"
   },
   {
    "duration": 391,
    "start_time": "2023-06-14T07:34:58.716Z"
   },
   {
    "duration": 44,
    "start_time": "2023-06-14T07:34:59.110Z"
   },
   {
    "duration": 17,
    "start_time": "2023-06-14T07:34:59.160Z"
   },
   {
    "duration": 32,
    "start_time": "2023-06-14T07:34:59.180Z"
   },
   {
    "duration": 32,
    "start_time": "2023-06-14T07:34:59.215Z"
   },
   {
    "duration": 149,
    "start_time": "2023-06-14T07:34:59.249Z"
   },
   {
    "duration": 18,
    "start_time": "2023-06-14T07:34:59.401Z"
   },
   {
    "duration": 51,
    "start_time": "2023-06-14T07:34:59.422Z"
   },
   {
    "duration": 19,
    "start_time": "2023-06-14T07:34:59.476Z"
   },
   {
    "duration": 42,
    "start_time": "2023-06-14T07:34:59.497Z"
   },
   {
    "duration": 32,
    "start_time": "2023-06-14T07:34:59.541Z"
   },
   {
    "duration": 15,
    "start_time": "2023-06-14T07:34:59.578Z"
   },
   {
    "duration": 53,
    "start_time": "2023-06-14T07:34:59.595Z"
   },
   {
    "duration": 25,
    "start_time": "2023-06-14T07:34:59.652Z"
   },
   {
    "duration": 43,
    "start_time": "2023-06-14T07:34:59.680Z"
   },
   {
    "duration": 24,
    "start_time": "2023-06-14T07:34:59.725Z"
   },
   {
    "duration": 48,
    "start_time": "2023-06-14T07:34:59.751Z"
   },
   {
    "duration": 11,
    "start_time": "2023-06-14T07:34:59.802Z"
   },
   {
    "duration": 7,
    "start_time": "2023-06-14T07:34:59.815Z"
   },
   {
    "duration": 14,
    "start_time": "2023-06-14T07:34:59.824Z"
   },
   {
    "duration": 38,
    "start_time": "2023-06-14T07:34:59.840Z"
   },
   {
    "duration": 15,
    "start_time": "2023-06-14T07:34:59.880Z"
   },
   {
    "duration": 19,
    "start_time": "2023-06-14T07:34:59.897Z"
   },
   {
    "duration": 10,
    "start_time": "2023-06-14T07:34:59.918Z"
   },
   {
    "duration": 36,
    "start_time": "2023-06-14T07:34:59.930Z"
   },
   {
    "duration": 33,
    "start_time": "2023-06-14T07:34:59.968Z"
   },
   {
    "duration": 384,
    "start_time": "2023-06-14T07:35:00.003Z"
   },
   {
    "duration": 27,
    "start_time": "2023-06-14T07:35:00.390Z"
   },
   {
    "duration": 87,
    "start_time": "2023-06-14T07:35:00.420Z"
   },
   {
    "duration": 856,
    "start_time": "2023-06-14T07:35:00.511Z"
   },
   {
    "duration": 3,
    "start_time": "2023-06-14T07:35:01.369Z"
   },
   {
    "duration": 1345,
    "start_time": "2023-06-14T07:35:01.387Z"
   },
   {
    "duration": 5,
    "start_time": "2023-06-14T07:35:02.743Z"
   },
   {
    "duration": 67,
    "start_time": "2023-06-14T07:35:02.749Z"
   },
   {
    "duration": 82,
    "start_time": "2023-06-14T07:35:02.819Z"
   },
   {
    "duration": 21,
    "start_time": "2023-06-14T07:35:02.903Z"
   },
   {
    "duration": 75,
    "start_time": "2023-06-14T07:35:02.928Z"
   },
   {
    "duration": 316,
    "start_time": "2023-06-14T07:35:03.006Z"
   },
   {
    "duration": 241,
    "start_time": "2023-06-14T07:35:03.330Z"
   },
   {
    "duration": 29,
    "start_time": "2023-06-14T07:35:03.576Z"
   },
   {
    "duration": 83,
    "start_time": "2023-06-14T07:35:03.608Z"
   },
   {
    "duration": 25,
    "start_time": "2023-06-14T07:35:03.693Z"
   },
   {
    "duration": 68,
    "start_time": "2023-06-14T07:35:03.720Z"
   },
   {
    "duration": 38,
    "start_time": "2023-06-14T07:35:03.791Z"
   },
   {
    "duration": 103,
    "start_time": "2023-06-14T07:35:03.832Z"
   },
   {
    "duration": 24,
    "start_time": "2023-06-14T07:35:11.707Z"
   },
   {
    "duration": 23,
    "start_time": "2023-06-14T07:35:12.926Z"
   },
   {
    "duration": 26,
    "start_time": "2023-06-14T07:35:15.932Z"
   },
   {
    "duration": 38,
    "start_time": "2023-06-14T07:35:24.424Z"
   },
   {
    "duration": 14,
    "start_time": "2023-06-14T07:35:27.043Z"
   },
   {
    "duration": 13,
    "start_time": "2023-06-14T07:35:28.963Z"
   },
   {
    "duration": 27,
    "start_time": "2023-06-14T07:35:37.532Z"
   },
   {
    "duration": 67,
    "start_time": "2023-06-14T07:35:38.278Z"
   },
   {
    "duration": 11,
    "start_time": "2023-06-14T07:35:41.126Z"
   },
   {
    "duration": 19,
    "start_time": "2023-06-14T07:35:42.977Z"
   },
   {
    "duration": 4,
    "start_time": "2023-06-14T07:35:45.788Z"
   },
   {
    "duration": 22,
    "start_time": "2023-06-14T07:57:40.193Z"
   },
   {
    "duration": 28,
    "start_time": "2023-06-14T07:57:47.432Z"
   },
   {
    "duration": 24,
    "start_time": "2023-06-14T07:58:24.804Z"
   },
   {
    "duration": 31,
    "start_time": "2023-06-14T07:58:30.617Z"
   },
   {
    "duration": 233,
    "start_time": "2023-06-14T08:04:08.748Z"
   },
   {
    "duration": 8,
    "start_time": "2023-06-14T08:04:13.129Z"
   },
   {
    "duration": 132,
    "start_time": "2023-06-14T08:04:13.891Z"
   },
   {
    "duration": 139,
    "start_time": "2023-06-14T08:04:45.036Z"
   },
   {
    "duration": 163,
    "start_time": "2023-06-14T08:06:26.135Z"
   },
   {
    "duration": 6,
    "start_time": "2023-06-14T08:12:21.117Z"
   },
   {
    "duration": 19,
    "start_time": "2023-06-14T08:14:00.396Z"
   },
   {
    "duration": 14,
    "start_time": "2023-06-14T08:14:04.596Z"
   },
   {
    "duration": 148,
    "start_time": "2023-06-14T08:14:05.197Z"
   },
   {
    "duration": 6,
    "start_time": "2023-06-14T08:14:20.216Z"
   },
   {
    "duration": 180,
    "start_time": "2023-06-14T08:14:21.619Z"
   },
   {
    "duration": 12,
    "start_time": "2023-06-14T08:14:40.676Z"
   },
   {
    "duration": 170,
    "start_time": "2023-06-14T08:14:41.994Z"
   },
   {
    "duration": 282,
    "start_time": "2023-06-14T08:14:58.384Z"
   },
   {
    "duration": 30,
    "start_time": "2023-06-14T08:19:05.289Z"
   },
   {
    "duration": 4,
    "start_time": "2023-06-14T08:25:13.908Z"
   },
   {
    "duration": 46,
    "start_time": "2023-06-14T08:27:08.523Z"
   },
   {
    "duration": 16,
    "start_time": "2023-06-14T08:30:53.915Z"
   },
   {
    "duration": 10,
    "start_time": "2023-06-14T08:31:14.923Z"
   },
   {
    "duration": 20,
    "start_time": "2023-06-14T08:31:21.784Z"
   },
   {
    "duration": 29,
    "start_time": "2023-06-14T08:33:09.648Z"
   },
   {
    "duration": 39,
    "start_time": "2023-06-14T08:33:27.997Z"
   },
   {
    "duration": 252,
    "start_time": "2023-06-14T08:40:43.084Z"
   },
   {
    "duration": 41,
    "start_time": "2023-06-14T08:40:57.577Z"
   },
   {
    "duration": 60,
    "start_time": "2023-06-14T08:41:03.099Z"
   },
   {
    "duration": 40,
    "start_time": "2023-06-14T08:41:53.519Z"
   },
   {
    "duration": 244,
    "start_time": "2023-06-14T08:43:29.873Z"
   },
   {
    "duration": 241,
    "start_time": "2023-06-14T08:43:44.670Z"
   },
   {
    "duration": 52,
    "start_time": "2023-06-14T08:47:07.277Z"
   },
   {
    "duration": 82,
    "start_time": "2023-06-14T08:47:09.013Z"
   },
   {
    "duration": 18,
    "start_time": "2023-06-14T08:47:09.976Z"
   },
   {
    "duration": 287,
    "start_time": "2023-06-14T08:47:10.740Z"
   },
   {
    "duration": 219,
    "start_time": "2023-06-14T08:47:12.908Z"
   },
   {
    "duration": 33,
    "start_time": "2023-06-14T08:47:14.997Z"
   },
   {
    "duration": 14,
    "start_time": "2023-06-14T08:47:16.724Z"
   },
   {
    "duration": 28,
    "start_time": "2023-06-14T08:47:17.643Z"
   },
   {
    "duration": 33,
    "start_time": "2023-06-14T08:47:19.532Z"
   },
   {
    "duration": 103,
    "start_time": "2023-06-14T08:47:24.934Z"
   },
   {
    "duration": 215,
    "start_time": "2023-06-14T08:47:30.088Z"
   },
   {
    "duration": 2002,
    "start_time": "2023-06-14T08:54:36.237Z"
   },
   {
    "duration": 319,
    "start_time": "2023-06-14T08:54:38.260Z"
   },
   {
    "duration": 616,
    "start_time": "2023-06-14T08:54:38.588Z"
   },
   {
    "duration": 36,
    "start_time": "2023-06-14T08:54:39.210Z"
   },
   {
    "duration": 28,
    "start_time": "2023-06-14T08:54:39.252Z"
   },
   {
    "duration": 24,
    "start_time": "2023-06-14T08:54:39.282Z"
   },
   {
    "duration": 61,
    "start_time": "2023-06-14T08:54:39.314Z"
   },
   {
    "duration": 210,
    "start_time": "2023-06-14T08:54:39.382Z"
   },
   {
    "duration": 14,
    "start_time": "2023-06-14T08:54:39.594Z"
   },
   {
    "duration": 106,
    "start_time": "2023-06-14T08:54:39.611Z"
   },
   {
    "duration": 68,
    "start_time": "2023-06-14T08:54:39.719Z"
   },
   {
    "duration": 167,
    "start_time": "2023-06-14T08:54:39.796Z"
   },
   {
    "duration": 158,
    "start_time": "2023-06-14T08:54:39.965Z"
   },
   {
    "duration": 102,
    "start_time": "2023-06-14T08:54:40.125Z"
   },
   {
    "duration": 110,
    "start_time": "2023-06-14T08:54:40.229Z"
   },
   {
    "duration": 60,
    "start_time": "2023-06-14T08:54:40.341Z"
   },
   {
    "duration": 105,
    "start_time": "2023-06-14T08:54:40.403Z"
   },
   {
    "duration": 64,
    "start_time": "2023-06-14T08:54:40.522Z"
   },
   {
    "duration": 90,
    "start_time": "2023-06-14T08:54:40.593Z"
   },
   {
    "duration": 37,
    "start_time": "2023-06-14T08:54:40.692Z"
   },
   {
    "duration": 140,
    "start_time": "2023-06-14T08:54:40.733Z"
   },
   {
    "duration": 50,
    "start_time": "2023-06-14T08:54:40.883Z"
   },
   {
    "duration": 103,
    "start_time": "2023-06-14T08:54:40.935Z"
   },
   {
    "duration": 76,
    "start_time": "2023-06-14T08:54:41.039Z"
   },
   {
    "duration": 37,
    "start_time": "2023-06-14T08:54:41.118Z"
   },
   {
    "duration": 141,
    "start_time": "2023-06-14T08:54:41.157Z"
   },
   {
    "duration": 26,
    "start_time": "2023-06-14T08:54:41.313Z"
   },
   {
    "duration": 118,
    "start_time": "2023-06-14T08:54:41.361Z"
   },
   {
    "duration": 485,
    "start_time": "2023-06-14T08:54:41.484Z"
   },
   {
    "duration": 37,
    "start_time": "2023-06-14T08:54:41.970Z"
   },
   {
    "duration": 122,
    "start_time": "2023-06-14T08:54:42.009Z"
   },
   {
    "duration": 1058,
    "start_time": "2023-06-14T08:54:42.133Z"
   },
   {
    "duration": 6,
    "start_time": "2023-06-14T08:54:43.193Z"
   },
   {
    "duration": 1241,
    "start_time": "2023-06-14T08:54:43.200Z"
   },
   {
    "duration": 7,
    "start_time": "2023-06-14T08:54:44.447Z"
   },
   {
    "duration": 98,
    "start_time": "2023-06-14T08:54:44.459Z"
   },
   {
    "duration": 102,
    "start_time": "2023-06-14T08:54:44.568Z"
   },
   {
    "duration": 75,
    "start_time": "2023-06-14T08:54:44.686Z"
   },
   {
    "duration": 136,
    "start_time": "2023-06-14T08:54:44.771Z"
   },
   {
    "duration": 347,
    "start_time": "2023-06-14T08:54:44.913Z"
   },
   {
    "duration": 284,
    "start_time": "2023-06-14T08:54:45.268Z"
   },
   {
    "duration": 29,
    "start_time": "2023-06-14T08:54:45.558Z"
   },
   {
    "duration": 91,
    "start_time": "2023-06-14T08:54:45.592Z"
   },
   {
    "duration": 40,
    "start_time": "2023-06-14T08:54:45.688Z"
   },
   {
    "duration": 294,
    "start_time": "2023-06-14T08:54:45.731Z"
   },
   {
    "duration": 330,
    "start_time": "2023-06-14T08:54:46.031Z"
   },
   {
    "duration": 31,
    "start_time": "2023-06-14T08:54:46.368Z"
   },
   {
    "duration": 109,
    "start_time": "2023-06-14T08:54:46.410Z"
   },
   {
    "duration": 112,
    "start_time": "2023-06-14T08:54:46.524Z"
   },
   {
    "duration": 103,
    "start_time": "2023-06-14T08:54:46.637Z"
   },
   {
    "duration": 84,
    "start_time": "2023-06-14T08:54:46.748Z"
   },
   {
    "duration": 293,
    "start_time": "2023-06-14T08:54:46.834Z"
   },
   {
    "duration": 67,
    "start_time": "2023-06-14T08:54:47.129Z"
   },
   {
    "duration": 137,
    "start_time": "2023-06-14T08:54:47.199Z"
   },
   {
    "duration": 57,
    "start_time": "2023-06-14T08:54:47.338Z"
   },
   {
    "duration": 39,
    "start_time": "2023-06-14T08:54:47.400Z"
   },
   {
    "duration": 160,
    "start_time": "2023-06-14T08:54:47.441Z"
   },
   {
    "duration": 77,
    "start_time": "2023-06-14T08:55:11.438Z"
   },
   {
    "duration": 9,
    "start_time": "2023-06-14T08:55:13.504Z"
   },
   {
    "duration": 35,
    "start_time": "2023-06-14T08:55:14.376Z"
   },
   {
    "duration": 11,
    "start_time": "2023-06-14T08:55:16.420Z"
   },
   {
    "duration": 67,
    "start_time": "2023-06-14T08:55:18.098Z"
   },
   {
    "duration": 220,
    "start_time": "2023-06-14T09:15:58.011Z"
   },
   {
    "duration": 50,
    "start_time": "2023-06-14T09:17:11.315Z"
   },
   {
    "duration": 72,
    "start_time": "2023-06-14T09:17:45.875Z"
   },
   {
    "duration": 75,
    "start_time": "2023-06-14T09:17:50.420Z"
   },
   {
    "duration": 220,
    "start_time": "2023-06-14T09:17:58.972Z"
   },
   {
    "duration": 251,
    "start_time": "2023-06-14T09:18:02.465Z"
   },
   {
    "duration": 221,
    "start_time": "2023-06-14T09:18:40.176Z"
   },
   {
    "duration": 4234,
    "start_time": "2023-06-14T09:29:09.290Z"
   },
   {
    "duration": 7,
    "start_time": "2023-06-14T09:29:42.219Z"
   },
   {
    "duration": 30,
    "start_time": "2023-06-14T09:30:37.130Z"
   },
   {
    "duration": 26,
    "start_time": "2023-06-14T09:34:50.446Z"
   },
   {
    "duration": 9,
    "start_time": "2023-06-14T09:36:01.226Z"
   },
   {
    "duration": 568,
    "start_time": "2023-06-14T09:37:49.030Z"
   },
   {
    "duration": 386,
    "start_time": "2023-06-14T09:38:20.870Z"
   },
   {
    "duration": 420,
    "start_time": "2023-06-14T09:38:27.074Z"
   },
   {
    "duration": 348,
    "start_time": "2023-06-14T09:38:34.241Z"
   },
   {
    "duration": 296,
    "start_time": "2023-06-14T09:38:45.301Z"
   },
   {
    "duration": 297,
    "start_time": "2023-06-14T09:38:52.209Z"
   },
   {
    "duration": 258,
    "start_time": "2023-06-14T09:39:10.996Z"
   },
   {
    "duration": 265,
    "start_time": "2023-06-14T09:39:16.163Z"
   },
   {
    "duration": 403,
    "start_time": "2023-06-14T09:39:25.940Z"
   },
   {
    "duration": 253,
    "start_time": "2023-06-14T09:39:34.318Z"
   },
   {
    "duration": 12,
    "start_time": "2023-06-14T09:57:33.048Z"
   },
   {
    "duration": 43,
    "start_time": "2023-06-14T09:58:12.043Z"
   },
   {
    "duration": 45,
    "start_time": "2023-06-14T09:58:24.018Z"
   },
   {
    "duration": 12,
    "start_time": "2023-06-14T09:58:36.467Z"
   },
   {
    "duration": 166,
    "start_time": "2023-06-14T10:14:18.773Z"
   },
   {
    "duration": 161,
    "start_time": "2023-06-14T10:15:07.332Z"
   },
   {
    "duration": 1445,
    "start_time": "2023-06-14T11:55:42.131Z"
   },
   {
    "duration": 110,
    "start_time": "2023-06-14T11:55:43.578Z"
   },
   {
    "duration": 214,
    "start_time": "2023-06-14T11:55:43.690Z"
   },
   {
    "duration": 24,
    "start_time": "2023-06-14T11:55:43.907Z"
   },
   {
    "duration": 12,
    "start_time": "2023-06-14T11:55:43.933Z"
   },
   {
    "duration": 14,
    "start_time": "2023-06-14T11:55:43.972Z"
   },
   {
    "duration": 13,
    "start_time": "2023-06-14T11:55:43.988Z"
   },
   {
    "duration": 77,
    "start_time": "2023-06-14T11:55:44.003Z"
   },
   {
    "duration": 12,
    "start_time": "2023-06-14T11:55:44.082Z"
   },
   {
    "duration": 13,
    "start_time": "2023-06-14T11:55:44.097Z"
   },
   {
    "duration": 4,
    "start_time": "2023-06-14T11:55:44.112Z"
   },
   {
    "duration": 24,
    "start_time": "2023-06-14T11:55:44.117Z"
   },
   {
    "duration": 21,
    "start_time": "2023-06-14T11:55:44.171Z"
   },
   {
    "duration": 11,
    "start_time": "2023-06-14T11:55:44.194Z"
   },
   {
    "duration": 41,
    "start_time": "2023-06-14T11:55:44.207Z"
   },
   {
    "duration": 16,
    "start_time": "2023-06-14T11:55:44.250Z"
   },
   {
    "duration": 34,
    "start_time": "2023-06-14T11:55:44.272Z"
   },
   {
    "duration": 9,
    "start_time": "2023-06-14T11:55:44.307Z"
   },
   {
    "duration": 13,
    "start_time": "2023-06-14T11:55:44.318Z"
   },
   {
    "duration": 8,
    "start_time": "2023-06-14T11:55:44.332Z"
   },
   {
    "duration": 32,
    "start_time": "2023-06-14T11:55:44.342Z"
   },
   {
    "duration": 4,
    "start_time": "2023-06-14T11:55:44.376Z"
   },
   {
    "duration": 12,
    "start_time": "2023-06-14T11:55:44.382Z"
   },
   {
    "duration": 7,
    "start_time": "2023-06-14T11:55:44.395Z"
   },
   {
    "duration": 17,
    "start_time": "2023-06-14T11:55:44.404Z"
   },
   {
    "duration": 7,
    "start_time": "2023-06-14T11:55:44.423Z"
   },
   {
    "duration": 3,
    "start_time": "2023-06-14T11:55:44.431Z"
   },
   {
    "duration": 56,
    "start_time": "2023-06-14T11:55:44.438Z"
   },
   {
    "duration": 289,
    "start_time": "2023-06-14T11:55:44.495Z"
   },
   {
    "duration": 15,
    "start_time": "2023-06-14T11:55:44.786Z"
   },
   {
    "duration": 3,
    "start_time": "2023-06-14T11:55:44.803Z"
   },
   {
    "duration": 564,
    "start_time": "2023-06-14T11:55:44.808Z"
   },
   {
    "duration": 2,
    "start_time": "2023-06-14T11:55:45.374Z"
   },
   {
    "duration": 789,
    "start_time": "2023-06-14T11:55:45.378Z"
   },
   {
    "duration": 2,
    "start_time": "2023-06-14T11:55:46.171Z"
   },
   {
    "duration": 25,
    "start_time": "2023-06-14T11:55:46.175Z"
   },
   {
    "duration": 17,
    "start_time": "2023-06-14T11:55:46.201Z"
   },
   {
    "duration": 4,
    "start_time": "2023-06-14T11:55:46.220Z"
   },
   {
    "duration": 15,
    "start_time": "2023-06-14T11:55:46.225Z"
   },
   {
    "duration": 195,
    "start_time": "2023-06-14T11:55:46.241Z"
   },
   {
    "duration": 178,
    "start_time": "2023-06-14T11:55:46.438Z"
   },
   {
    "duration": 16,
    "start_time": "2023-06-14T11:55:46.618Z"
   },
   {
    "duration": 48,
    "start_time": "2023-06-14T11:55:46.636Z"
   },
   {
    "duration": 5,
    "start_time": "2023-06-14T11:55:46.686Z"
   },
   {
    "duration": 138,
    "start_time": "2023-06-14T11:55:46.692Z"
   },
   {
    "duration": 134,
    "start_time": "2023-06-14T11:55:46.832Z"
   },
   {
    "duration": 15,
    "start_time": "2023-06-14T11:55:46.972Z"
   },
   {
    "duration": 14,
    "start_time": "2023-06-14T11:55:46.989Z"
   },
   {
    "duration": 20,
    "start_time": "2023-06-14T11:55:47.005Z"
   },
   {
    "duration": 28,
    "start_time": "2023-06-14T11:55:47.027Z"
   },
   {
    "duration": 29,
    "start_time": "2023-06-14T11:55:47.057Z"
   },
   {
    "duration": 145,
    "start_time": "2023-06-14T11:55:47.088Z"
   },
   {
    "duration": 138,
    "start_time": "2023-06-14T11:55:47.235Z"
   },
   {
    "duration": 9,
    "start_time": "2023-06-14T11:55:47.375Z"
   },
   {
    "duration": 27,
    "start_time": "2023-06-14T11:55:47.386Z"
   },
   {
    "duration": 8,
    "start_time": "2023-06-14T11:55:47.415Z"
   },
   {
    "duration": 237,
    "start_time": "2023-06-14T11:55:47.424Z"
   },
   {
    "duration": 11,
    "start_time": "2023-06-14T11:55:47.662Z"
   },
   {
    "duration": 128,
    "start_time": "2023-06-14T11:55:47.675Z"
   },
   {
    "duration": 5,
    "start_time": "2023-06-14T11:55:47.804Z"
   },
   {
    "duration": 39,
    "start_time": "2023-06-14T11:55:47.810Z"
   },
   {
    "duration": 26,
    "start_time": "2023-06-14T11:55:47.851Z"
   },
   {
    "duration": 30,
    "start_time": "2023-06-14T11:55:47.879Z"
   },
   {
    "duration": 14,
    "start_time": "2023-06-14T11:55:47.910Z"
   },
   {
    "duration": 32,
    "start_time": "2023-06-14T11:55:47.926Z"
   },
   {
    "duration": 19,
    "start_time": "2023-06-14T11:56:14.836Z"
   },
   {
    "duration": 4,
    "start_time": "2023-06-14T11:56:17.226Z"
   },
   {
    "duration": 610,
    "start_time": "2023-06-14T11:56:18.028Z"
   },
   {
    "duration": 3,
    "start_time": "2023-06-14T11:56:18.765Z"
   },
   {
    "duration": 957,
    "start_time": "2023-06-14T11:56:20.701Z"
   },
   {
    "duration": 3,
    "start_time": "2023-06-14T11:58:24.957Z"
   },
   {
    "duration": 13,
    "start_time": "2023-06-14T11:58:26.137Z"
   },
   {
    "duration": 14,
    "start_time": "2023-06-14T11:58:33.345Z"
   },
   {
    "duration": 4,
    "start_time": "2023-06-14T11:58:35.132Z"
   },
   {
    "duration": 11,
    "start_time": "2023-06-14T11:58:35.967Z"
   },
   {
    "duration": 199,
    "start_time": "2023-06-14T11:58:38.075Z"
   },
   {
    "duration": 242,
    "start_time": "2023-06-14T11:58:41.129Z"
   },
   {
    "duration": 16,
    "start_time": "2023-06-14T12:00:04.209Z"
   },
   {
    "duration": 25,
    "start_time": "2023-06-14T12:00:11.516Z"
   },
   {
    "duration": 5,
    "start_time": "2023-06-14T12:00:13.776Z"
   },
   {
    "duration": 117,
    "start_time": "2023-06-14T12:00:14.845Z"
   },
   {
    "duration": 139,
    "start_time": "2023-06-14T12:00:33.793Z"
   },
   {
    "duration": 18,
    "start_time": "2023-06-14T12:00:36.885Z"
   },
   {
    "duration": 4,
    "start_time": "2023-06-14T12:00:40.573Z"
   },
   {
    "duration": 11,
    "start_time": "2023-06-14T12:00:41.669Z"
   },
   {
    "duration": 11,
    "start_time": "2023-06-14T12:01:04.091Z"
   },
   {
    "duration": 25,
    "start_time": "2023-06-14T12:01:06.484Z"
   },
   {
    "duration": 128,
    "start_time": "2023-06-14T12:01:09.694Z"
   },
   {
    "duration": 128,
    "start_time": "2023-06-14T12:01:27.692Z"
   },
   {
    "duration": 102,
    "start_time": "2023-06-14T12:01:41.502Z"
   },
   {
    "duration": 3,
    "start_time": "2023-06-14T12:02:07.676Z"
   },
   {
    "duration": 9,
    "start_time": "2023-06-14T12:02:08.611Z"
   },
   {
    "duration": 10,
    "start_time": "2023-06-14T12:02:23.382Z"
   },
   {
    "duration": 26,
    "start_time": "2023-06-14T12:02:25.675Z"
   },
   {
    "duration": 110,
    "start_time": "2023-06-14T12:02:27.985Z"
   },
   {
    "duration": 101,
    "start_time": "2023-06-14T12:02:31.489Z"
   },
   {
    "duration": 8,
    "start_time": "2023-06-14T12:02:40.979Z"
   },
   {
    "duration": 12,
    "start_time": "2023-06-14T12:02:42.120Z"
   },
   {
    "duration": 7,
    "start_time": "2023-06-14T12:02:43.643Z"
   },
   {
    "duration": 173,
    "start_time": "2023-06-14T12:02:45.429Z"
   },
   {
    "duration": 1223,
    "start_time": "2023-06-14T12:03:15.937Z"
   },
   {
    "duration": 82,
    "start_time": "2023-06-14T12:03:17.162Z"
   },
   {
    "duration": 179,
    "start_time": "2023-06-14T12:03:17.247Z"
   },
   {
    "duration": 20,
    "start_time": "2023-06-14T12:03:17.428Z"
   },
   {
    "duration": 26,
    "start_time": "2023-06-14T12:03:17.450Z"
   },
   {
    "duration": 22,
    "start_time": "2023-06-14T12:03:17.478Z"
   },
   {
    "duration": 60,
    "start_time": "2023-06-14T12:03:17.501Z"
   },
   {
    "duration": 76,
    "start_time": "2023-06-14T12:03:17.563Z"
   },
   {
    "duration": 10,
    "start_time": "2023-06-14T12:03:17.641Z"
   },
   {
    "duration": 72,
    "start_time": "2023-06-14T12:03:17.653Z"
   },
   {
    "duration": 13,
    "start_time": "2023-06-14T12:03:17.727Z"
   },
   {
    "duration": 94,
    "start_time": "2023-06-14T12:03:17.742Z"
   },
   {
    "duration": 104,
    "start_time": "2023-06-14T12:03:17.838Z"
   },
   {
    "duration": 34,
    "start_time": "2023-06-14T12:03:17.944Z"
   },
   {
    "duration": 69,
    "start_time": "2023-06-14T12:03:17.980Z"
   },
   {
    "duration": 45,
    "start_time": "2023-06-14T12:03:18.051Z"
   },
   {
    "duration": 49,
    "start_time": "2023-06-14T12:03:18.098Z"
   },
   {
    "duration": 11,
    "start_time": "2023-06-14T12:03:18.149Z"
   },
   {
    "duration": 33,
    "start_time": "2023-06-14T12:03:18.162Z"
   },
   {
    "duration": 15,
    "start_time": "2023-06-14T12:03:18.196Z"
   },
   {
    "duration": 48,
    "start_time": "2023-06-14T12:03:18.212Z"
   },
   {
    "duration": 21,
    "start_time": "2023-06-14T12:03:18.262Z"
   },
   {
    "duration": 48,
    "start_time": "2023-06-14T12:03:18.285Z"
   },
   {
    "duration": 29,
    "start_time": "2023-06-14T12:03:18.335Z"
   },
   {
    "duration": 48,
    "start_time": "2023-06-14T12:03:18.366Z"
   },
   {
    "duration": 24,
    "start_time": "2023-06-14T12:03:18.416Z"
   },
   {
    "duration": 26,
    "start_time": "2023-06-14T12:03:18.442Z"
   },
   {
    "duration": 39,
    "start_time": "2023-06-14T12:03:18.471Z"
   },
   {
    "duration": 253,
    "start_time": "2023-06-14T12:03:18.512Z"
   },
   {
    "duration": 14,
    "start_time": "2023-06-14T12:03:18.767Z"
   },
   {
    "duration": 16,
    "start_time": "2023-06-14T12:03:18.783Z"
   },
   {
    "duration": 500,
    "start_time": "2023-06-14T12:03:18.800Z"
   },
   {
    "duration": 3,
    "start_time": "2023-06-14T12:03:19.302Z"
   },
   {
    "duration": 707,
    "start_time": "2023-06-14T12:03:19.306Z"
   },
   {
    "duration": 3,
    "start_time": "2023-06-14T12:03:20.015Z"
   },
   {
    "duration": 31,
    "start_time": "2023-06-14T12:03:20.019Z"
   },
   {
    "duration": 30,
    "start_time": "2023-06-14T12:03:20.052Z"
   },
   {
    "duration": 19,
    "start_time": "2023-06-14T12:03:20.084Z"
   },
   {
    "duration": 20,
    "start_time": "2023-06-14T12:03:20.105Z"
   },
   {
    "duration": 191,
    "start_time": "2023-06-14T12:03:20.127Z"
   },
   {
    "duration": 157,
    "start_time": "2023-06-14T12:03:20.319Z"
   },
   {
    "duration": 17,
    "start_time": "2023-06-14T12:03:20.479Z"
   },
   {
    "duration": 46,
    "start_time": "2023-06-14T12:03:20.497Z"
   },
   {
    "duration": 9,
    "start_time": "2023-06-14T12:03:20.545Z"
   },
   {
    "duration": 131,
    "start_time": "2023-06-14T12:03:20.556Z"
   },
   {
    "duration": 116,
    "start_time": "2023-06-14T12:03:20.688Z"
   },
   {
    "duration": 13,
    "start_time": "2023-06-14T12:03:20.806Z"
   },
   {
    "duration": 30,
    "start_time": "2023-06-14T12:03:20.821Z"
   },
   {
    "duration": 25,
    "start_time": "2023-06-14T12:03:20.853Z"
   },
   {
    "duration": 32,
    "start_time": "2023-06-14T12:03:20.880Z"
   },
   {
    "duration": 46,
    "start_time": "2023-06-14T12:03:20.913Z"
   },
   {
    "duration": 111,
    "start_time": "2023-06-14T12:03:20.961Z"
   },
   {
    "duration": 127,
    "start_time": "2023-06-14T12:03:21.074Z"
   },
   {
    "duration": 9,
    "start_time": "2023-06-14T12:03:21.203Z"
   },
   {
    "duration": 25,
    "start_time": "2023-06-14T12:03:21.213Z"
   },
   {
    "duration": 87,
    "start_time": "2023-06-14T12:03:21.240Z"
   },
   {
    "duration": 202,
    "start_time": "2023-06-14T12:03:21.328Z"
   },
   {
    "duration": 4,
    "start_time": "2023-06-14T12:03:21.532Z"
   },
   {
    "duration": 119,
    "start_time": "2023-06-14T12:03:21.537Z"
   },
   {
    "duration": 4,
    "start_time": "2023-06-14T12:03:21.658Z"
   },
   {
    "duration": 30,
    "start_time": "2023-06-14T12:03:21.671Z"
   },
   {
    "duration": 8,
    "start_time": "2023-06-14T12:03:21.703Z"
   },
   {
    "duration": 28,
    "start_time": "2023-06-14T12:03:21.713Z"
   },
   {
    "duration": 18,
    "start_time": "2023-06-14T12:03:21.742Z"
   },
   {
    "duration": 31,
    "start_time": "2023-06-14T12:03:21.762Z"
   },
   {
    "duration": 4,
    "start_time": "2023-06-14T12:03:33.616Z"
   },
   {
    "duration": 86,
    "start_time": "2023-06-14T12:03:34.675Z"
   },
   {
    "duration": 120,
    "start_time": "2023-06-14T12:03:35.760Z"
   },
   {
    "duration": 17,
    "start_time": "2023-06-14T12:03:36.876Z"
   },
   {
    "duration": 11,
    "start_time": "2023-06-14T12:03:38.938Z"
   },
   {
    "duration": 11,
    "start_time": "2023-06-14T12:03:41.204Z"
   },
   {
    "duration": 7,
    "start_time": "2023-06-14T12:03:42.459Z"
   },
   {
    "duration": 18,
    "start_time": "2023-06-14T12:03:45.992Z"
   },
   {
    "duration": 10,
    "start_time": "2023-06-14T12:03:47.975Z"
   },
   {
    "duration": 14,
    "start_time": "2023-06-14T12:03:50.342Z"
   },
   {
    "duration": 4,
    "start_time": "2023-06-14T12:03:57.458Z"
   },
   {
    "duration": 19,
    "start_time": "2023-06-14T12:03:59.251Z"
   },
   {
    "duration": 21,
    "start_time": "2023-06-14T12:04:01.119Z"
   },
   {
    "duration": 10,
    "start_time": "2023-06-14T12:04:02.073Z"
   },
   {
    "duration": 19,
    "start_time": "2023-06-14T12:04:02.902Z"
   },
   {
    "duration": 14,
    "start_time": "2023-06-14T12:04:05.944Z"
   },
   {
    "duration": 29,
    "start_time": "2023-06-14T12:04:08.314Z"
   },
   {
    "duration": 9,
    "start_time": "2023-06-14T12:04:10.293Z"
   },
   {
    "duration": 12,
    "start_time": "2023-06-14T12:04:11.181Z"
   },
   {
    "duration": 4,
    "start_time": "2023-06-14T12:04:14.912Z"
   },
   {
    "duration": 5,
    "start_time": "2023-06-14T12:04:16.871Z"
   },
   {
    "duration": 5,
    "start_time": "2023-06-14T12:04:17.753Z"
   },
   {
    "duration": 9,
    "start_time": "2023-06-14T12:04:19.640Z"
   },
   {
    "duration": 7,
    "start_time": "2023-06-14T12:04:21.729Z"
   },
   {
    "duration": 9,
    "start_time": "2023-06-14T12:04:22.805Z"
   },
   {
    "duration": 7,
    "start_time": "2023-06-14T12:04:24.896Z"
   },
   {
    "duration": 3,
    "start_time": "2023-06-14T12:04:27.822Z"
   },
   {
    "duration": 106,
    "start_time": "2023-06-14T12:04:28.788Z"
   },
   {
    "duration": 223,
    "start_time": "2023-06-14T12:04:31.019Z"
   },
   {
    "duration": 13,
    "start_time": "2023-06-14T12:04:33.460Z"
   },
   {
    "duration": 4,
    "start_time": "2023-06-14T12:04:35.748Z"
   },
   {
    "duration": 503,
    "start_time": "2023-06-14T12:04:38.880Z"
   },
   {
    "duration": 3,
    "start_time": "2023-06-14T12:04:39.996Z"
   },
   {
    "duration": 601,
    "start_time": "2023-06-14T12:04:42.489Z"
   },
   {
    "duration": 2,
    "start_time": "2023-06-14T12:05:01.884Z"
   },
   {
    "duration": 11,
    "start_time": "2023-06-14T12:05:02.839Z"
   },
   {
    "duration": 14,
    "start_time": "2023-06-14T12:05:05.740Z"
   },
   {
    "duration": 4,
    "start_time": "2023-06-14T12:05:06.751Z"
   },
   {
    "duration": 10,
    "start_time": "2023-06-14T12:05:07.747Z"
   },
   {
    "duration": 182,
    "start_time": "2023-06-14T12:05:10.892Z"
   },
   {
    "duration": 237,
    "start_time": "2023-06-14T12:05:21.109Z"
   },
   {
    "duration": 137,
    "start_time": "2023-06-14T12:05:29.546Z"
   },
   {
    "duration": 11,
    "start_time": "2023-06-14T12:05:54.081Z"
   },
   {
    "duration": 178,
    "start_time": "2023-06-14T12:05:56.407Z"
   },
   {
    "duration": 132,
    "start_time": "2023-06-14T12:05:59.524Z"
   },
   {
    "duration": 13,
    "start_time": "2023-06-14T12:08:11.793Z"
   },
   {
    "duration": 26,
    "start_time": "2023-06-14T12:08:14.086Z"
   },
   {
    "duration": 4,
    "start_time": "2023-06-14T12:08:15.482Z"
   },
   {
    "duration": 96,
    "start_time": "2023-06-14T12:08:16.653Z"
   },
   {
    "duration": 93,
    "start_time": "2023-06-14T12:08:22.048Z"
   },
   {
    "duration": 13,
    "start_time": "2023-06-14T12:08:24.917Z"
   },
   {
    "duration": 4,
    "start_time": "2023-06-14T12:08:31.281Z"
   },
   {
    "duration": 10,
    "start_time": "2023-06-14T12:08:32.560Z"
   },
   {
    "duration": 10,
    "start_time": "2023-06-14T12:08:52.802Z"
   },
   {
    "duration": 21,
    "start_time": "2023-06-14T12:08:54.756Z"
   },
   {
    "duration": 114,
    "start_time": "2023-06-14T12:08:56.662Z"
   },
   {
    "duration": 104,
    "start_time": "2023-06-14T12:09:23.345Z"
   },
   {
    "duration": 7,
    "start_time": "2023-06-14T12:09:33.616Z"
   },
   {
    "duration": 12,
    "start_time": "2023-06-14T12:09:41.702Z"
   },
   {
    "duration": 9,
    "start_time": "2023-06-14T12:09:42.842Z"
   },
   {
    "duration": 163,
    "start_time": "2023-06-14T12:09:43.981Z"
   },
   {
    "duration": 5,
    "start_time": "2023-06-14T12:10:05.781Z"
   },
   {
    "duration": 99,
    "start_time": "2023-06-14T12:10:08.579Z"
   },
   {
    "duration": 1582,
    "start_time": "2023-06-14T12:28:25.907Z"
   },
   {
    "duration": 5,
    "start_time": "2023-06-14T12:28:31.109Z"
   },
   {
    "duration": 755,
    "start_time": "2023-06-14T12:28:32.381Z"
   },
   {
    "duration": 3,
    "start_time": "2023-06-14T12:28:33.385Z"
   },
   {
    "duration": 1514,
    "start_time": "2023-06-14T12:28:34.536Z"
   },
   {
    "duration": 0,
    "start_time": "2023-06-14T12:28:36.053Z"
   },
   {
    "duration": 11,
    "start_time": "2023-06-14T12:28:36.488Z"
   },
   {
    "duration": 1591,
    "start_time": "2023-06-14T12:28:37.526Z"
   },
   {
    "duration": 4,
    "start_time": "2023-06-14T12:28:50.378Z"
   },
   {
    "duration": 748,
    "start_time": "2023-06-14T12:28:51.738Z"
   },
   {
    "duration": 3,
    "start_time": "2023-06-14T12:28:54.285Z"
   },
   {
    "duration": 1747,
    "start_time": "2023-06-14T12:28:56.381Z"
   },
   {
    "duration": 3,
    "start_time": "2023-06-14T12:28:58.399Z"
   },
   {
    "duration": 537,
    "start_time": "2023-06-14T12:29:00.008Z"
   },
   {
    "duration": 1706,
    "start_time": "2023-06-14T12:29:01.194Z"
   },
   {
    "duration": 3969,
    "start_time": "2023-06-14T12:30:01.257Z"
   },
   {
    "duration": 0,
    "start_time": "2023-06-14T12:30:05.228Z"
   },
   {
    "duration": 0,
    "start_time": "2023-06-14T12:30:05.229Z"
   },
   {
    "duration": 1528,
    "start_time": "2023-06-14T12:30:09.029Z"
   },
   {
    "duration": 5,
    "start_time": "2023-06-14T12:30:27.085Z"
   },
   {
    "duration": 755,
    "start_time": "2023-06-14T12:30:28.301Z"
   },
   {
    "duration": 3,
    "start_time": "2023-06-14T12:30:29.564Z"
   },
   {
    "duration": 1890,
    "start_time": "2023-06-14T12:30:30.885Z"
   },
   {
    "duration": 5,
    "start_time": "2023-06-14T12:32:20.755Z"
   },
   {
    "duration": 729,
    "start_time": "2023-06-14T12:32:21.810Z"
   },
   {
    "duration": 4,
    "start_time": "2023-06-14T12:32:22.894Z"
   },
   {
    "duration": 1480,
    "start_time": "2023-06-14T12:32:23.878Z"
   },
   {
    "duration": 3,
    "start_time": "2023-06-14T12:32:25.827Z"
   },
   {
    "duration": 503,
    "start_time": "2023-06-14T12:32:27.249Z"
   },
   {
    "duration": 1525,
    "start_time": "2023-06-14T12:32:28.339Z"
   },
   {
    "duration": 1169,
    "start_time": "2023-06-14T12:33:23.682Z"
   },
   {
    "duration": 96,
    "start_time": "2023-06-14T12:33:24.853Z"
   },
   {
    "duration": 197,
    "start_time": "2023-06-14T12:33:24.951Z"
   },
   {
    "duration": 19,
    "start_time": "2023-06-14T12:33:25.150Z"
   },
   {
    "duration": 10,
    "start_time": "2023-06-14T12:33:25.171Z"
   },
   {
    "duration": 21,
    "start_time": "2023-06-14T12:33:25.182Z"
   },
   {
    "duration": 8,
    "start_time": "2023-06-14T12:33:25.205Z"
   },
   {
    "duration": 71,
    "start_time": "2023-06-14T12:33:25.214Z"
   },
   {
    "duration": 10,
    "start_time": "2023-06-14T12:33:25.287Z"
   },
   {
    "duration": 19,
    "start_time": "2023-06-14T12:33:25.299Z"
   },
   {
    "duration": 4,
    "start_time": "2023-06-14T12:33:25.320Z"
   },
   {
    "duration": 49,
    "start_time": "2023-06-14T12:33:25.325Z"
   },
   {
    "duration": 18,
    "start_time": "2023-06-14T12:33:25.376Z"
   },
   {
    "duration": 11,
    "start_time": "2023-06-14T12:33:25.397Z"
   },
   {
    "duration": 22,
    "start_time": "2023-06-14T12:33:25.409Z"
   },
   {
    "duration": 38,
    "start_time": "2023-06-14T12:33:25.433Z"
   },
   {
    "duration": 50,
    "start_time": "2023-06-14T12:33:25.473Z"
   },
   {
    "duration": 8,
    "start_time": "2023-06-14T12:33:25.524Z"
   },
   {
    "duration": 28,
    "start_time": "2023-06-14T12:33:25.534Z"
   },
   {
    "duration": 23,
    "start_time": "2023-06-14T12:33:25.563Z"
   },
   {
    "duration": 20,
    "start_time": "2023-06-14T12:33:25.587Z"
   },
   {
    "duration": 41,
    "start_time": "2023-06-14T12:33:25.608Z"
   },
   {
    "duration": 34,
    "start_time": "2023-06-14T12:33:25.651Z"
   },
   {
    "duration": 6,
    "start_time": "2023-06-14T12:33:25.687Z"
   },
   {
    "duration": 15,
    "start_time": "2023-06-14T12:33:25.694Z"
   },
   {
    "duration": 13,
    "start_time": "2023-06-14T12:33:25.711Z"
   },
   {
    "duration": 13,
    "start_time": "2023-06-14T12:33:25.726Z"
   },
   {
    "duration": 38,
    "start_time": "2023-06-14T12:33:25.740Z"
   },
   {
    "duration": 241,
    "start_time": "2023-06-14T12:33:25.780Z"
   },
   {
    "duration": 15,
    "start_time": "2023-06-14T12:33:26.023Z"
   },
   {
    "duration": 3,
    "start_time": "2023-06-14T12:33:26.039Z"
   },
   {
    "duration": 541,
    "start_time": "2023-06-14T12:33:26.044Z"
   },
   {
    "duration": 3,
    "start_time": "2023-06-14T12:33:26.586Z"
   },
   {
    "duration": 730,
    "start_time": "2023-06-14T12:33:26.590Z"
   },
   {
    "duration": 3,
    "start_time": "2023-06-14T12:33:27.322Z"
   },
   {
    "duration": 29,
    "start_time": "2023-06-14T12:33:27.326Z"
   },
   {
    "duration": 30,
    "start_time": "2023-06-14T12:33:27.357Z"
   },
   {
    "duration": 9,
    "start_time": "2023-06-14T12:33:27.389Z"
   },
   {
    "duration": 20,
    "start_time": "2023-06-14T12:33:27.399Z"
   },
   {
    "duration": 199,
    "start_time": "2023-06-14T12:33:27.421Z"
   },
   {
    "duration": 141,
    "start_time": "2023-06-14T12:33:27.623Z"
   },
   {
    "duration": 17,
    "start_time": "2023-06-14T12:33:27.765Z"
   },
   {
    "duration": 35,
    "start_time": "2023-06-14T12:33:27.784Z"
   },
   {
    "duration": 5,
    "start_time": "2023-06-14T12:33:27.821Z"
   },
   {
    "duration": 103,
    "start_time": "2023-06-14T12:33:27.827Z"
   },
   {
    "duration": 105,
    "start_time": "2023-06-14T12:33:27.932Z"
   },
   {
    "duration": 15,
    "start_time": "2023-06-14T12:33:28.038Z"
   },
   {
    "duration": 18,
    "start_time": "2023-06-14T12:33:28.055Z"
   },
   {
    "duration": 34,
    "start_time": "2023-06-14T12:33:28.075Z"
   },
   {
    "duration": 29,
    "start_time": "2023-06-14T12:33:28.111Z"
   },
   {
    "duration": 26,
    "start_time": "2023-06-14T12:33:28.142Z"
   },
   {
    "duration": 121,
    "start_time": "2023-06-14T12:33:28.171Z"
   },
   {
    "duration": 116,
    "start_time": "2023-06-14T12:33:28.294Z"
   },
   {
    "duration": 7,
    "start_time": "2023-06-14T12:33:28.412Z"
   },
   {
    "duration": 30,
    "start_time": "2023-06-14T12:33:28.420Z"
   },
   {
    "duration": 16,
    "start_time": "2023-06-14T12:33:28.452Z"
   },
   {
    "duration": 176,
    "start_time": "2023-06-14T12:33:28.469Z"
   },
   {
    "duration": 5,
    "start_time": "2023-06-14T12:33:28.647Z"
   },
   {
    "duration": 120,
    "start_time": "2023-06-14T12:33:28.653Z"
   },
   {
    "duration": 4,
    "start_time": "2023-06-14T12:33:28.774Z"
   },
   {
    "duration": 788,
    "start_time": "2023-06-14T12:33:28.780Z"
   },
   {
    "duration": 4,
    "start_time": "2023-06-14T12:33:29.572Z"
   },
   {
    "duration": 1911,
    "start_time": "2023-06-14T12:33:29.577Z"
   },
   {
    "duration": 0,
    "start_time": "2023-06-14T12:33:31.489Z"
   },
   {
    "duration": 0,
    "start_time": "2023-06-14T12:33:31.490Z"
   },
   {
    "duration": 0,
    "start_time": "2023-06-14T12:33:31.491Z"
   },
   {
    "duration": 0,
    "start_time": "2023-06-14T12:33:31.492Z"
   },
   {
    "duration": 0,
    "start_time": "2023-06-14T12:33:31.493Z"
   },
   {
    "duration": 0,
    "start_time": "2023-06-14T12:33:31.494Z"
   },
   {
    "duration": 0,
    "start_time": "2023-06-14T12:33:31.495Z"
   },
   {
    "duration": 0,
    "start_time": "2023-06-14T12:33:31.496Z"
   },
   {
    "duration": 4,
    "start_time": "2023-06-14T12:33:41.443Z"
   },
   {
    "duration": 807,
    "start_time": "2023-06-14T12:33:43.709Z"
   },
   {
    "duration": 4,
    "start_time": "2023-06-14T12:33:44.716Z"
   },
   {
    "duration": 1624,
    "start_time": "2023-06-14T12:33:50.928Z"
   },
   {
    "duration": 4,
    "start_time": "2023-06-14T12:35:30.892Z"
   },
   {
    "duration": 673,
    "start_time": "2023-06-14T12:35:34.991Z"
   },
   {
    "duration": 3,
    "start_time": "2023-06-14T12:35:42.587Z"
   },
   {
    "duration": 424,
    "start_time": "2023-06-14T12:35:43.422Z"
   },
   {
    "duration": 22,
    "start_time": "2023-06-14T12:35:44.195Z"
   },
   {
    "duration": 4,
    "start_time": "2023-06-14T12:40:00.100Z"
   },
   {
    "duration": 513,
    "start_time": "2023-06-14T12:40:00.889Z"
   },
   {
    "duration": 3,
    "start_time": "2023-06-14T12:40:02.021Z"
   },
   {
    "duration": 422,
    "start_time": "2023-06-14T12:40:10.793Z"
   },
   {
    "duration": 4,
    "start_time": "2023-06-14T12:43:32.001Z"
   },
   {
    "duration": 734,
    "start_time": "2023-06-14T12:43:32.902Z"
   },
   {
    "duration": 4,
    "start_time": "2023-06-14T12:43:33.728Z"
   },
   {
    "duration": 592,
    "start_time": "2023-06-14T12:43:34.505Z"
   },
   {
    "duration": 3,
    "start_time": "2023-06-14T12:43:35.420Z"
   },
   {
    "duration": 521,
    "start_time": "2023-06-14T12:43:36.305Z"
   },
   {
    "duration": 5,
    "start_time": "2023-06-14T12:43:37.057Z"
   },
   {
    "duration": 4,
    "start_time": "2023-06-14T12:43:55.005Z"
   },
   {
    "duration": 716,
    "start_time": "2023-06-14T12:43:56.434Z"
   },
   {
    "duration": 5,
    "start_time": "2023-06-14T12:43:58.191Z"
   },
   {
    "duration": 668,
    "start_time": "2023-06-14T12:43:59.304Z"
   },
   {
    "duration": 3,
    "start_time": "2023-06-14T12:44:00.315Z"
   },
   {
    "duration": 420,
    "start_time": "2023-06-14T12:44:01.757Z"
   },
   {
    "duration": 4,
    "start_time": "2023-06-14T12:44:02.540Z"
   },
   {
    "duration": 15,
    "start_time": "2023-06-14T12:44:34.038Z"
   },
   {
    "duration": 4,
    "start_time": "2023-06-14T13:00:34.572Z"
   },
   {
    "duration": 722,
    "start_time": "2023-06-14T13:00:35.406Z"
   },
   {
    "duration": 3,
    "start_time": "2023-06-14T13:00:36.181Z"
   },
   {
    "duration": 610,
    "start_time": "2023-06-14T13:00:36.993Z"
   },
   {
    "duration": 3,
    "start_time": "2023-06-14T13:00:37.796Z"
   },
   {
    "duration": 480,
    "start_time": "2023-06-14T13:00:38.546Z"
   },
   {
    "duration": 5,
    "start_time": "2023-06-14T13:00:39.304Z"
   },
   {
    "duration": 15,
    "start_time": "2023-06-14T13:00:40.756Z"
   },
   {
    "duration": 2,
    "start_time": "2023-06-14T13:03:13.412Z"
   },
   {
    "duration": 305,
    "start_time": "2023-06-14T13:04:05.985Z"
   },
   {
    "duration": 249,
    "start_time": "2023-06-14T13:04:18.332Z"
   },
   {
    "duration": 9,
    "start_time": "2023-06-14T13:13:36.222Z"
   },
   {
    "duration": 8,
    "start_time": "2023-06-14T13:13:39.589Z"
   },
   {
    "duration": 10,
    "start_time": "2023-06-14T13:13:40.127Z"
   },
   {
    "duration": 15,
    "start_time": "2023-06-14T13:13:56.305Z"
   },
   {
    "duration": 10,
    "start_time": "2023-06-14T13:16:24.215Z"
   },
   {
    "duration": 180,
    "start_time": "2023-06-14T13:20:27.981Z"
   },
   {
    "duration": 185,
    "start_time": "2023-06-14T13:21:06.257Z"
   },
   {
    "duration": 215,
    "start_time": "2023-06-14T13:21:17.906Z"
   },
   {
    "duration": 21,
    "start_time": "2023-06-14T13:31:50.654Z"
   },
   {
    "duration": 6,
    "start_time": "2023-06-14T13:36:06.507Z"
   },
   {
    "duration": 11,
    "start_time": "2023-06-14T13:45:37.205Z"
   },
   {
    "duration": 6,
    "start_time": "2023-06-14T13:45:53.940Z"
   },
   {
    "duration": 92,
    "start_time": "2023-06-14T13:47:43.102Z"
   },
   {
    "duration": 88,
    "start_time": "2023-06-14T13:47:57.443Z"
   },
   {
    "duration": 6,
    "start_time": "2023-06-14T13:49:22.220Z"
   },
   {
    "duration": 6,
    "start_time": "2023-06-14T14:00:03.585Z"
   },
   {
    "duration": 7,
    "start_time": "2023-06-14T14:00:38.811Z"
   },
   {
    "duration": 6,
    "start_time": "2023-06-14T14:00:53.597Z"
   },
   {
    "duration": 7,
    "start_time": "2023-06-14T14:05:54.919Z"
   },
   {
    "duration": 8,
    "start_time": "2023-06-14T14:06:06.825Z"
   },
   {
    "duration": 195,
    "start_time": "2023-06-14T14:06:16.156Z"
   },
   {
    "duration": 7,
    "start_time": "2023-06-14T14:06:17.457Z"
   },
   {
    "duration": 5,
    "start_time": "2023-06-14T14:06:45.814Z"
   },
   {
    "duration": 6,
    "start_time": "2023-06-14T14:06:48.694Z"
   },
   {
    "duration": 4,
    "start_time": "2023-06-14T14:08:09.598Z"
   },
   {
    "duration": 8,
    "start_time": "2023-06-14T14:11:43.895Z"
   },
   {
    "duration": 6,
    "start_time": "2023-06-14T14:15:41.380Z"
   },
   {
    "duration": 6,
    "start_time": "2023-06-14T14:16:19.939Z"
   },
   {
    "duration": 12,
    "start_time": "2023-06-14T14:18:47.538Z"
   },
   {
    "duration": 1929,
    "start_time": "2023-06-14T14:18:55.028Z"
   },
   {
    "duration": 0,
    "start_time": "2023-06-14T14:18:56.960Z"
   },
   {
    "duration": 6,
    "start_time": "2023-06-14T14:20:12.780Z"
   },
   {
    "duration": 6,
    "start_time": "2023-06-14T14:20:15.463Z"
   },
   {
    "duration": 7,
    "start_time": "2023-06-14T14:21:02.142Z"
   },
   {
    "duration": 6,
    "start_time": "2023-06-14T14:21:38.499Z"
   },
   {
    "duration": 13,
    "start_time": "2023-06-14T14:26:19.295Z"
   },
   {
    "duration": 6,
    "start_time": "2023-06-14T14:26:24.958Z"
   },
   {
    "duration": 8,
    "start_time": "2023-06-14T14:26:27.096Z"
   },
   {
    "duration": 4,
    "start_time": "2023-06-14T14:30:14.129Z"
   },
   {
    "duration": 68,
    "start_time": "2023-06-15T09:05:50.372Z"
   },
   {
    "duration": 1470,
    "start_time": "2023-06-15T09:06:21.723Z"
   },
   {
    "duration": 96,
    "start_time": "2023-06-15T09:06:23.195Z"
   },
   {
    "duration": 198,
    "start_time": "2023-06-15T09:06:23.293Z"
   },
   {
    "duration": 33,
    "start_time": "2023-06-15T09:06:23.493Z"
   },
   {
    "duration": 12,
    "start_time": "2023-06-15T09:06:23.528Z"
   },
   {
    "duration": 21,
    "start_time": "2023-06-15T09:06:23.553Z"
   },
   {
    "duration": 13,
    "start_time": "2023-06-15T09:06:23.576Z"
   },
   {
    "duration": 80,
    "start_time": "2023-06-15T09:06:23.590Z"
   },
   {
    "duration": 11,
    "start_time": "2023-06-15T09:06:23.672Z"
   },
   {
    "duration": 12,
    "start_time": "2023-06-15T09:06:23.685Z"
   },
   {
    "duration": 4,
    "start_time": "2023-06-15T09:06:23.699Z"
   },
   {
    "duration": 26,
    "start_time": "2023-06-15T09:06:23.704Z"
   },
   {
    "duration": 46,
    "start_time": "2023-06-15T09:06:23.731Z"
   },
   {
    "duration": 13,
    "start_time": "2023-06-15T09:06:23.779Z"
   },
   {
    "duration": 29,
    "start_time": "2023-06-15T09:06:23.794Z"
   },
   {
    "duration": 36,
    "start_time": "2023-06-15T09:06:23.825Z"
   },
   {
    "duration": 42,
    "start_time": "2023-06-15T09:06:23.863Z"
   },
   {
    "duration": 9,
    "start_time": "2023-06-15T09:06:23.907Z"
   },
   {
    "duration": 13,
    "start_time": "2023-06-15T09:06:23.918Z"
   },
   {
    "duration": 37,
    "start_time": "2023-06-15T09:06:23.932Z"
   },
   {
    "duration": 17,
    "start_time": "2023-06-15T09:06:23.971Z"
   },
   {
    "duration": 18,
    "start_time": "2023-06-15T09:06:23.990Z"
   },
   {
    "duration": 23,
    "start_time": "2023-06-15T09:06:24.009Z"
   },
   {
    "duration": 15,
    "start_time": "2023-06-15T09:06:24.033Z"
   },
   {
    "duration": 32,
    "start_time": "2023-06-15T09:06:24.050Z"
   },
   {
    "duration": 17,
    "start_time": "2023-06-15T09:06:24.084Z"
   },
   {
    "duration": 15,
    "start_time": "2023-06-15T09:06:24.103Z"
   },
   {
    "duration": 46,
    "start_time": "2023-06-15T09:06:24.123Z"
   },
   {
    "duration": 295,
    "start_time": "2023-06-15T09:06:24.171Z"
   },
   {
    "duration": 18,
    "start_time": "2023-06-15T09:06:24.467Z"
   },
   {
    "duration": 25,
    "start_time": "2023-06-15T09:06:24.488Z"
   },
   {
    "duration": 622,
    "start_time": "2023-06-15T09:06:24.515Z"
   },
   {
    "duration": 3,
    "start_time": "2023-06-15T09:06:25.139Z"
   },
   {
    "duration": 822,
    "start_time": "2023-06-15T09:06:25.151Z"
   },
   {
    "duration": 2,
    "start_time": "2023-06-15T09:06:25.975Z"
   },
   {
    "duration": 15,
    "start_time": "2023-06-15T09:06:25.979Z"
   },
   {
    "duration": 16,
    "start_time": "2023-06-15T09:06:25.996Z"
   },
   {
    "duration": 4,
    "start_time": "2023-06-15T09:06:26.014Z"
   },
   {
    "duration": 44,
    "start_time": "2023-06-15T09:06:26.019Z"
   },
   {
    "duration": 211,
    "start_time": "2023-06-15T09:06:26.070Z"
   },
   {
    "duration": 165,
    "start_time": "2023-06-15T09:06:26.283Z"
   },
   {
    "duration": 21,
    "start_time": "2023-06-15T09:06:26.452Z"
   },
   {
    "duration": 47,
    "start_time": "2023-06-15T09:06:26.475Z"
   },
   {
    "duration": 5,
    "start_time": "2023-06-15T09:06:26.524Z"
   },
   {
    "duration": 136,
    "start_time": "2023-06-15T09:06:26.531Z"
   },
   {
    "duration": 143,
    "start_time": "2023-06-15T09:06:26.668Z"
   },
   {
    "duration": 15,
    "start_time": "2023-06-15T09:06:26.813Z"
   },
   {
    "duration": 6,
    "start_time": "2023-06-15T09:06:26.830Z"
   },
   {
    "duration": 13,
    "start_time": "2023-06-15T09:06:26.860Z"
   },
   {
    "duration": 30,
    "start_time": "2023-06-15T09:06:26.875Z"
   },
   {
    "duration": 26,
    "start_time": "2023-06-15T09:06:26.907Z"
   },
   {
    "duration": 137,
    "start_time": "2023-06-15T09:06:26.935Z"
   },
   {
    "duration": 127,
    "start_time": "2023-06-15T09:06:27.074Z"
   },
   {
    "duration": 7,
    "start_time": "2023-06-15T09:06:27.203Z"
   },
   {
    "duration": 14,
    "start_time": "2023-06-15T09:06:27.212Z"
   },
   {
    "duration": 30,
    "start_time": "2023-06-15T09:06:27.227Z"
   },
   {
    "duration": 215,
    "start_time": "2023-06-15T09:06:27.261Z"
   },
   {
    "duration": 4,
    "start_time": "2023-06-15T09:06:27.478Z"
   },
   {
    "duration": 134,
    "start_time": "2023-06-15T09:06:27.484Z"
   },
   {
    "duration": 5,
    "start_time": "2023-06-15T09:06:27.620Z"
   },
   {
    "duration": 978,
    "start_time": "2023-06-15T09:06:27.627Z"
   },
   {
    "duration": 5,
    "start_time": "2023-06-15T09:06:28.608Z"
   },
   {
    "duration": 778,
    "start_time": "2023-06-15T09:06:28.615Z"
   },
   {
    "duration": 4,
    "start_time": "2023-06-15T09:06:29.395Z"
   },
   {
    "duration": 606,
    "start_time": "2023-06-15T09:06:29.401Z"
   },
   {
    "duration": 6,
    "start_time": "2023-06-15T09:06:30.009Z"
   },
   {
    "duration": 192,
    "start_time": "2023-06-15T09:06:30.017Z"
   },
   {
    "duration": 338,
    "start_time": "2023-06-15T09:06:30.211Z"
   },
   {
    "duration": 23,
    "start_time": "2023-06-15T09:06:30.550Z"
   },
   {
    "duration": 22,
    "start_time": "2023-06-15T09:06:30.575Z"
   },
   {
    "duration": 10,
    "start_time": "2023-06-15T09:06:30.599Z"
   },
   {
    "duration": 238,
    "start_time": "2023-06-15T09:06:30.611Z"
   },
   {
    "duration": 17,
    "start_time": "2023-06-15T09:06:30.850Z"
   },
   {
    "duration": 51,
    "start_time": "2023-06-15T09:06:30.871Z"
   },
   {
    "duration": 41,
    "start_time": "2023-06-15T09:06:30.924Z"
   },
   {
    "duration": 24,
    "start_time": "2023-06-15T09:06:30.969Z"
   },
   {
    "duration": 19,
    "start_time": "2023-06-15T09:06:30.995Z"
   },
   {
    "duration": 32,
    "start_time": "2023-06-15T09:06:31.016Z"
   },
   {
    "duration": 72,
    "start_time": "2023-06-15T09:06:31.050Z"
   },
   {
    "duration": 43,
    "start_time": "2023-06-15T09:07:12.431Z"
   },
   {
    "duration": 19,
    "start_time": "2023-06-15T09:09:06.198Z"
   },
   {
    "duration": 30,
    "start_time": "2023-06-15T09:09:40.372Z"
   },
   {
    "duration": 14,
    "start_time": "2023-06-15T09:09:42.317Z"
   },
   {
    "duration": 30,
    "start_time": "2023-06-15T09:09:53.294Z"
   },
   {
    "duration": 35,
    "start_time": "2023-06-15T09:10:04.233Z"
   },
   {
    "duration": 16,
    "start_time": "2023-06-15T09:39:36.478Z"
   },
   {
    "duration": 24,
    "start_time": "2023-06-15T09:41:18.610Z"
   },
   {
    "duration": 4,
    "start_time": "2023-06-15T09:41:53.307Z"
   },
   {
    "duration": 44,
    "start_time": "2023-06-15T09:44:00.262Z"
   },
   {
    "duration": 1185,
    "start_time": "2023-06-15T09:57:30.800Z"
   },
   {
    "duration": 1092,
    "start_time": "2023-06-15T10:09:41.025Z"
   },
   {
    "duration": 1109,
    "start_time": "2023-06-15T10:14:59.714Z"
   },
   {
    "duration": 997,
    "start_time": "2023-06-15T10:18:20.401Z"
   },
   {
    "duration": 1273,
    "start_time": "2023-06-15T10:21:08.025Z"
   },
   {
    "duration": 7,
    "start_time": "2023-06-15T10:21:09.305Z"
   },
   {
    "duration": 1183,
    "start_time": "2023-06-15T10:21:10.618Z"
   },
   {
    "duration": 1720,
    "start_time": "2023-06-15T10:24:56.303Z"
   },
   {
    "duration": 201,
    "start_time": "2023-06-15T10:24:58.025Z"
   },
   {
    "duration": 1097,
    "start_time": "2023-06-15T10:24:58.228Z"
   },
   {
    "duration": 58,
    "start_time": "2023-06-15T10:24:59.327Z"
   },
   {
    "duration": 42,
    "start_time": "2023-06-15T10:24:59.395Z"
   },
   {
    "duration": 93,
    "start_time": "2023-06-15T10:24:59.441Z"
   },
   {
    "duration": 54,
    "start_time": "2023-06-15T10:24:59.537Z"
   },
   {
    "duration": 133,
    "start_time": "2023-06-15T10:24:59.593Z"
   },
   {
    "duration": 13,
    "start_time": "2023-06-15T10:24:59.728Z"
   },
   {
    "duration": 96,
    "start_time": "2023-06-15T10:24:59.742Z"
   },
   {
    "duration": 4,
    "start_time": "2023-06-15T10:24:59.840Z"
   },
   {
    "duration": 92,
    "start_time": "2023-06-15T10:24:59.846Z"
   },
   {
    "duration": 52,
    "start_time": "2023-06-15T10:24:59.941Z"
   },
   {
    "duration": 33,
    "start_time": "2023-06-15T10:25:00.003Z"
   },
   {
    "duration": 167,
    "start_time": "2023-06-15T10:25:00.062Z"
   },
   {
    "duration": 117,
    "start_time": "2023-06-15T10:25:00.232Z"
   },
   {
    "duration": 269,
    "start_time": "2023-06-15T10:25:00.352Z"
   },
   {
    "duration": 106,
    "start_time": "2023-06-15T10:25:00.623Z"
   },
   {
    "duration": 115,
    "start_time": "2023-06-15T10:25:00.731Z"
   },
   {
    "duration": 90,
    "start_time": "2023-06-15T10:25:00.848Z"
   },
   {
    "duration": 97,
    "start_time": "2023-06-15T10:25:00.940Z"
   },
   {
    "duration": 108,
    "start_time": "2023-06-15T10:25:01.039Z"
   },
   {
    "duration": 108,
    "start_time": "2023-06-15T10:25:01.149Z"
   },
   {
    "duration": 185,
    "start_time": "2023-06-15T10:25:01.259Z"
   },
   {
    "duration": 378,
    "start_time": "2023-06-15T10:25:01.446Z"
   },
   {
    "duration": 113,
    "start_time": "2023-06-15T10:25:01.826Z"
   },
   {
    "duration": 105,
    "start_time": "2023-06-15T10:25:01.941Z"
   },
   {
    "duration": 179,
    "start_time": "2023-06-15T10:25:02.048Z"
   },
   {
    "duration": 582,
    "start_time": "2023-06-15T10:25:02.229Z"
   },
   {
    "duration": 17,
    "start_time": "2023-06-15T10:25:02.814Z"
   },
   {
    "duration": 162,
    "start_time": "2023-06-15T10:25:02.833Z"
   },
   {
    "duration": 845,
    "start_time": "2023-06-15T10:25:02.998Z"
   },
   {
    "duration": 3,
    "start_time": "2023-06-15T10:25:03.845Z"
   },
   {
    "duration": 1042,
    "start_time": "2023-06-15T10:25:03.859Z"
   },
   {
    "duration": 3,
    "start_time": "2023-06-15T10:25:04.904Z"
   },
   {
    "duration": 50,
    "start_time": "2023-06-15T10:25:04.908Z"
   },
   {
    "duration": 31,
    "start_time": "2023-06-15T10:25:04.972Z"
   },
   {
    "duration": 25,
    "start_time": "2023-06-15T10:25:05.005Z"
   },
   {
    "duration": 81,
    "start_time": "2023-06-15T10:25:05.033Z"
   },
   {
    "duration": 312,
    "start_time": "2023-06-15T10:25:05.116Z"
   },
   {
    "duration": 212,
    "start_time": "2023-06-15T10:25:05.434Z"
   },
   {
    "duration": 21,
    "start_time": "2023-06-15T10:25:05.651Z"
   },
   {
    "duration": 76,
    "start_time": "2023-06-15T10:25:05.674Z"
   },
   {
    "duration": 15,
    "start_time": "2023-06-15T10:25:05.760Z"
   },
   {
    "duration": 220,
    "start_time": "2023-06-15T10:25:05.785Z"
   },
   {
    "duration": 169,
    "start_time": "2023-06-15T10:25:06.006Z"
   },
   {
    "duration": 26,
    "start_time": "2023-06-15T10:25:06.181Z"
   },
   {
    "duration": 110,
    "start_time": "2023-06-15T10:25:06.209Z"
   },
   {
    "duration": 100,
    "start_time": "2023-06-15T10:25:06.321Z"
   },
   {
    "duration": 18,
    "start_time": "2023-06-15T10:25:06.423Z"
   },
   {
    "duration": 131,
    "start_time": "2023-06-15T10:25:06.443Z"
   },
   {
    "duration": 225,
    "start_time": "2023-06-15T10:25:06.576Z"
   },
   {
    "duration": 180,
    "start_time": "2023-06-15T10:25:06.803Z"
   },
   {
    "duration": 10,
    "start_time": "2023-06-15T10:25:06.985Z"
   },
   {
    "duration": 15,
    "start_time": "2023-06-15T10:25:06.997Z"
   },
   {
    "duration": 25,
    "start_time": "2023-06-15T10:25:07.015Z"
   },
   {
    "duration": 307,
    "start_time": "2023-06-15T10:25:07.042Z"
   },
   {
    "duration": 7,
    "start_time": "2023-06-15T10:25:07.353Z"
   },
   {
    "duration": 219,
    "start_time": "2023-06-15T10:25:07.362Z"
   },
   {
    "duration": 12,
    "start_time": "2023-06-15T10:25:07.586Z"
   },
   {
    "duration": 1246,
    "start_time": "2023-06-15T10:25:07.604Z"
   },
   {
    "duration": 29,
    "start_time": "2023-06-15T10:25:08.858Z"
   },
   {
    "duration": 1010,
    "start_time": "2023-06-15T10:25:08.894Z"
   },
   {
    "duration": 4,
    "start_time": "2023-06-15T10:25:09.914Z"
   },
   {
    "duration": 739,
    "start_time": "2023-06-15T10:25:09.920Z"
   },
   {
    "duration": 8,
    "start_time": "2023-06-15T10:25:10.684Z"
   },
   {
    "duration": 41,
    "start_time": "2023-06-15T10:25:10.696Z"
   },
   {
    "duration": 406,
    "start_time": "2023-06-15T10:25:10.739Z"
   },
   {
    "duration": 14,
    "start_time": "2023-06-15T10:25:11.147Z"
   },
   {
    "duration": 64,
    "start_time": "2023-06-15T10:25:11.163Z"
   },
   {
    "duration": 12,
    "start_time": "2023-06-15T10:25:11.229Z"
   },
   {
    "duration": 273,
    "start_time": "2023-06-15T10:25:11.243Z"
   },
   {
    "duration": 8,
    "start_time": "2023-06-15T10:25:11.518Z"
   },
   {
    "duration": 29,
    "start_time": "2023-06-15T10:25:11.528Z"
   },
   {
    "duration": 46,
    "start_time": "2023-06-15T10:25:11.566Z"
   },
   {
    "duration": 10,
    "start_time": "2023-06-15T10:25:11.614Z"
   },
   {
    "duration": 64,
    "start_time": "2023-06-15T10:25:11.626Z"
   },
   {
    "duration": 44,
    "start_time": "2023-06-15T10:25:11.696Z"
   },
   {
    "duration": 59,
    "start_time": "2023-06-15T10:25:11.742Z"
   },
   {
    "duration": 21,
    "start_time": "2023-06-15T10:25:11.807Z"
   },
   {
    "duration": 13,
    "start_time": "2023-06-15T10:25:11.830Z"
   },
   {
    "duration": 77,
    "start_time": "2023-06-15T10:25:11.845Z"
   },
   {
    "duration": 5,
    "start_time": "2023-06-15T10:25:11.923Z"
   },
   {
    "duration": 17,
    "start_time": "2023-06-15T10:25:11.929Z"
   },
   {
    "duration": 1086,
    "start_time": "2023-06-15T10:25:11.948Z"
   },
   {
    "duration": 3,
    "start_time": "2023-06-15T10:25:13.036Z"
   },
   {
    "duration": 9,
    "start_time": "2023-06-15T10:25:21.592Z"
   },
   {
    "duration": 125,
    "start_time": "2023-06-15T10:25:22.604Z"
   },
   {
    "duration": 556,
    "start_time": "2023-06-15T10:25:23.806Z"
   },
   {
    "duration": 21,
    "start_time": "2023-06-15T10:25:27.809Z"
   },
   {
    "duration": 17,
    "start_time": "2023-06-15T10:25:35.327Z"
   },
   {
    "duration": 14,
    "start_time": "2023-06-15T10:25:37.407Z"
   },
   {
    "duration": 16,
    "start_time": "2023-06-15T10:25:38.072Z"
   },
   {
    "duration": 21,
    "start_time": "2023-06-15T10:25:39.898Z"
   },
   {
    "duration": 778,
    "start_time": "2023-06-15T10:25:58.237Z"
   },
   {
    "duration": 589,
    "start_time": "2023-06-15T10:26:27.022Z"
   },
   {
    "duration": 3,
    "start_time": "2023-06-15T10:29:12.502Z"
   },
   {
    "duration": 511,
    "start_time": "2023-06-15T10:29:13.808Z"
   },
   {
    "duration": 171,
    "start_time": "2023-06-15T10:29:39.012Z"
   },
   {
    "duration": 396,
    "start_time": "2023-06-15T10:29:40.575Z"
   },
   {
    "duration": 38,
    "start_time": "2023-06-15T10:29:42.538Z"
   },
   {
    "duration": 30,
    "start_time": "2023-06-15T10:29:48.381Z"
   },
   {
    "duration": 14,
    "start_time": "2023-06-15T10:29:50.101Z"
   },
   {
    "duration": 247,
    "start_time": "2023-06-15T10:30:44.278Z"
   },
   {
    "duration": 414,
    "start_time": "2023-06-15T10:30:45.437Z"
   },
   {
    "duration": 18,
    "start_time": "2023-06-15T10:30:46.508Z"
   },
   {
    "duration": 20,
    "start_time": "2023-06-15T10:30:49.545Z"
   },
   {
    "duration": 22,
    "start_time": "2023-06-15T10:31:04.120Z"
   },
   {
    "duration": 13,
    "start_time": "2023-06-15T10:31:05.802Z"
   },
   {
    "duration": 21,
    "start_time": "2023-06-15T10:31:07.292Z"
   },
   {
    "duration": 7,
    "start_time": "2023-06-15T10:31:08.700Z"
   },
   {
    "duration": 3,
    "start_time": "2023-06-15T10:31:45.627Z"
   },
   {
    "duration": 599,
    "start_time": "2023-06-15T10:31:46.317Z"
   },
   {
    "duration": 594,
    "start_time": "2023-06-15T10:32:34.538Z"
   },
   {
    "duration": 31,
    "start_time": "2023-06-15T10:41:05.304Z"
   },
   {
    "duration": 4,
    "start_time": "2023-06-15T10:51:29.907Z"
   },
   {
    "duration": 2,
    "start_time": "2023-06-15T10:51:30.977Z"
   },
   {
    "duration": 397,
    "start_time": "2023-06-15T10:51:31.894Z"
   },
   {
    "duration": 27,
    "start_time": "2023-06-15T10:51:32.826Z"
   },
   {
    "duration": 12,
    "start_time": "2023-06-15T10:51:41.905Z"
   },
   {
    "duration": 18,
    "start_time": "2023-06-15T10:51:44.732Z"
   },
   {
    "duration": 3,
    "start_time": "2023-06-15T10:55:33.835Z"
   },
   {
    "duration": 265,
    "start_time": "2023-06-15T10:55:34.647Z"
   },
   {
    "duration": 29,
    "start_time": "2023-06-15T10:55:45.276Z"
   },
   {
    "duration": 14,
    "start_time": "2023-06-15T10:58:27.821Z"
   },
   {
    "duration": 19,
    "start_time": "2023-06-15T11:00:00.605Z"
   },
   {
    "duration": 14,
    "start_time": "2023-06-15T11:00:30.414Z"
   },
   {
    "duration": 40,
    "start_time": "2023-06-15T11:10:49.618Z"
   },
   {
    "duration": 40,
    "start_time": "2023-06-15T11:12:32.294Z"
   },
   {
    "duration": 19,
    "start_time": "2023-06-15T11:12:34.597Z"
   },
   {
    "duration": 32,
    "start_time": "2023-06-15T11:12:36.950Z"
   },
   {
    "duration": 42,
    "start_time": "2023-06-15T11:12:44.642Z"
   },
   {
    "duration": 34,
    "start_time": "2023-06-15T11:19:43.343Z"
   },
   {
    "duration": 64,
    "start_time": "2023-06-15T11:24:36.726Z"
   },
   {
    "duration": 12,
    "start_time": "2023-06-15T11:42:19.202Z"
   },
   {
    "duration": 12,
    "start_time": "2023-06-15T11:48:41.805Z"
   },
   {
    "duration": 24,
    "start_time": "2023-06-15T11:49:20.956Z"
   },
   {
    "duration": 16,
    "start_time": "2023-06-15T11:55:28.277Z"
   },
   {
    "duration": 7,
    "start_time": "2023-06-15T11:55:35.871Z"
   },
   {
    "duration": 48,
    "start_time": "2023-06-15T11:55:38.629Z"
   },
   {
    "duration": 298,
    "start_time": "2023-06-15T12:01:42.532Z"
   },
   {
    "duration": 27,
    "start_time": "2023-06-15T12:06:16.523Z"
   },
   {
    "duration": 2,
    "start_time": "2023-06-15T12:08:45.145Z"
   },
   {
    "duration": 2975,
    "start_time": "2023-06-15T12:10:32.584Z"
   },
   {
    "duration": 8,
    "start_time": "2023-06-15T12:11:04.325Z"
   },
   {
    "duration": 2,
    "start_time": "2023-06-15T12:11:06.127Z"
   },
   {
    "duration": 29,
    "start_time": "2023-06-15T12:11:07.174Z"
   },
   {
    "duration": 269,
    "start_time": "2023-06-15T12:11:09.798Z"
   },
   {
    "duration": 19,
    "start_time": "2023-06-15T12:11:16.411Z"
   },
   {
    "duration": 5,
    "start_time": "2023-06-15T12:11:18.429Z"
   },
   {
    "duration": 638,
    "start_time": "2023-06-15T12:11:19.494Z"
   },
   {
    "duration": 7,
    "start_time": "2023-06-15T12:11:20.981Z"
   },
   {
    "duration": 986,
    "start_time": "2023-06-15T12:11:23.194Z"
   },
   {
    "duration": 14,
    "start_time": "2023-06-15T12:15:02.923Z"
   },
   {
    "duration": 28,
    "start_time": "2023-06-15T12:18:08.648Z"
   },
   {
    "duration": 5,
    "start_time": "2023-06-15T12:18:09.338Z"
   },
   {
    "duration": 17,
    "start_time": "2023-06-15T12:18:11.620Z"
   },
   {
    "duration": 4,
    "start_time": "2023-06-15T12:20:16.409Z"
   },
   {
    "duration": 15,
    "start_time": "2023-06-15T12:20:17.075Z"
   },
   {
    "duration": 11,
    "start_time": "2023-06-15T12:20:25.600Z"
   },
   {
    "duration": 165,
    "start_time": "2023-06-15T12:24:28.542Z"
   },
   {
    "duration": 171,
    "start_time": "2023-06-15T12:24:40.136Z"
   },
   {
    "duration": 205,
    "start_time": "2023-06-15T12:24:44.922Z"
   },
   {
    "duration": 166,
    "start_time": "2023-06-15T12:24:53.110Z"
   },
   {
    "duration": 171,
    "start_time": "2023-06-15T12:25:11.739Z"
   },
   {
    "duration": 144,
    "start_time": "2023-06-15T12:25:22.207Z"
   },
   {
    "duration": 154,
    "start_time": "2023-06-15T12:25:29.031Z"
   },
   {
    "duration": 18,
    "start_time": "2023-06-15T12:43:44.321Z"
   },
   {
    "duration": 15,
    "start_time": "2023-06-15T12:43:48.430Z"
   },
   {
    "duration": 28,
    "start_time": "2023-06-15T12:44:09.681Z"
   },
   {
    "duration": 8,
    "start_time": "2023-06-15T12:47:56.358Z"
   },
   {
    "duration": 19,
    "start_time": "2023-06-15T13:04:02.480Z"
   },
   {
    "duration": 5,
    "start_time": "2023-06-15T13:13:09.478Z"
   },
   {
    "duration": 17,
    "start_time": "2023-06-15T13:13:10.179Z"
   },
   {
    "duration": 13,
    "start_time": "2023-06-15T13:13:12.486Z"
   },
   {
    "duration": 10,
    "start_time": "2023-06-15T13:17:11.270Z"
   },
   {
    "duration": 20,
    "start_time": "2023-06-15T13:17:14.644Z"
   },
   {
    "duration": 20,
    "start_time": "2023-06-15T13:19:20.468Z"
   },
   {
    "duration": 25,
    "start_time": "2023-06-15T13:19:29.311Z"
   },
   {
    "duration": 156,
    "start_time": "2023-06-15T13:30:12.282Z"
   },
   {
    "duration": 164,
    "start_time": "2023-06-15T13:34:32.481Z"
   },
   {
    "duration": 16,
    "start_time": "2023-06-15T13:41:09.760Z"
   },
   {
    "duration": 12,
    "start_time": "2023-06-15T13:41:10.501Z"
   },
   {
    "duration": 8,
    "start_time": "2023-06-15T13:41:11.710Z"
   },
   {
    "duration": 212,
    "start_time": "2023-06-15T13:41:13.378Z"
   },
   {
    "duration": 5,
    "start_time": "2023-06-15T13:42:43.706Z"
   },
   {
    "duration": 126,
    "start_time": "2023-06-15T13:46:12.713Z"
   },
   {
    "duration": 244,
    "start_time": "2023-06-15T13:55:12.811Z"
   },
   {
    "duration": 202,
    "start_time": "2023-06-15T13:56:33.433Z"
   },
   {
    "duration": 4,
    "start_time": "2023-06-15T13:56:42.141Z"
   },
   {
    "duration": 136,
    "start_time": "2023-06-15T13:56:46.546Z"
   },
   {
    "duration": 126,
    "start_time": "2023-06-15T13:59:42.121Z"
   },
   {
    "duration": 4,
    "start_time": "2023-06-15T14:23:23.849Z"
   },
   {
    "duration": 641,
    "start_time": "2023-06-15T14:23:26.046Z"
   },
   {
    "duration": 4,
    "start_time": "2023-06-15T14:23:26.689Z"
   },
   {
    "duration": 5,
    "start_time": "2023-06-15T14:26:27.641Z"
   },
   {
    "duration": 4,
    "start_time": "2023-06-15T14:27:02.136Z"
   },
   {
    "duration": 4,
    "start_time": "2023-06-15T14:27:14.825Z"
   },
   {
    "duration": 3,
    "start_time": "2023-06-15T14:28:16.815Z"
   },
   {
    "duration": 543,
    "start_time": "2023-06-15T14:28:18.363Z"
   },
   {
    "duration": 408,
    "start_time": "2023-06-15T14:28:34.320Z"
   },
   {
    "duration": 3,
    "start_time": "2023-06-15T14:29:21.805Z"
   },
   {
    "duration": 745,
    "start_time": "2023-06-15T14:29:22.630Z"
   },
   {
    "duration": 3,
    "start_time": "2023-06-15T14:29:23.445Z"
   },
   {
    "duration": 577,
    "start_time": "2023-06-15T14:29:24.238Z"
   },
   {
    "duration": 3,
    "start_time": "2023-06-15T14:29:39.529Z"
   },
   {
    "duration": 617,
    "start_time": "2023-06-15T14:29:40.426Z"
   },
   {
    "duration": 3,
    "start_time": "2023-06-15T14:29:42.843Z"
   },
   {
    "duration": 498,
    "start_time": "2023-06-15T14:29:44.446Z"
   },
   {
    "duration": 5,
    "start_time": "2023-06-15T14:29:49.237Z"
   },
   {
    "duration": 21,
    "start_time": "2023-06-15T14:29:50.324Z"
   },
   {
    "duration": 277,
    "start_time": "2023-06-15T14:29:53.139Z"
   },
   {
    "duration": 263,
    "start_time": "2023-06-15T14:32:02.024Z"
   },
   {
    "duration": 290,
    "start_time": "2023-06-15T14:33:19.054Z"
   },
   {
    "duration": 1352,
    "start_time": "2023-06-15T16:17:48.115Z"
   },
   {
    "duration": 4,
    "start_time": "2023-06-15T16:17:49.469Z"
   },
   {
    "duration": 454,
    "start_time": "2023-06-15T16:17:49.475Z"
   },
   {
    "duration": 22,
    "start_time": "2023-06-15T16:17:49.931Z"
   },
   {
    "duration": 13,
    "start_time": "2023-06-15T16:17:49.967Z"
   },
   {
    "duration": 58,
    "start_time": "2023-06-15T16:17:49.981Z"
   },
   {
    "duration": 19,
    "start_time": "2023-06-15T16:17:50.041Z"
   },
   {
    "duration": 22,
    "start_time": "2023-06-15T16:17:50.062Z"
   },
   {
    "duration": 4,
    "start_time": "2023-06-15T16:17:50.086Z"
   },
   {
    "duration": 30,
    "start_time": "2023-06-15T16:17:50.091Z"
   },
   {
    "duration": 37,
    "start_time": "2023-06-15T16:17:50.122Z"
   },
   {
    "duration": 12,
    "start_time": "2023-06-15T16:17:50.164Z"
   },
   {
    "duration": 24,
    "start_time": "2023-06-15T16:17:50.178Z"
   },
   {
    "duration": 18,
    "start_time": "2023-06-15T16:17:50.206Z"
   },
   {
    "duration": 53,
    "start_time": "2023-06-15T16:17:50.226Z"
   },
   {
    "duration": 10,
    "start_time": "2023-06-15T16:17:50.280Z"
   },
   {
    "duration": 13,
    "start_time": "2023-06-15T16:17:50.292Z"
   },
   {
    "duration": 9,
    "start_time": "2023-06-15T16:17:50.307Z"
   },
   {
    "duration": 12,
    "start_time": "2023-06-15T16:17:50.318Z"
   },
   {
    "duration": 13,
    "start_time": "2023-06-15T16:17:50.331Z"
   },
   {
    "duration": 15,
    "start_time": "2023-06-15T16:17:50.358Z"
   },
   {
    "duration": 14,
    "start_time": "2023-06-15T16:17:50.376Z"
   },
   {
    "duration": 14,
    "start_time": "2023-06-15T16:17:50.392Z"
   },
   {
    "duration": 9,
    "start_time": "2023-06-15T16:17:50.408Z"
   },
   {
    "duration": 10,
    "start_time": "2023-06-15T16:17:50.420Z"
   },
   {
    "duration": 44,
    "start_time": "2023-06-15T16:17:50.432Z"
   },
   {
    "duration": 290,
    "start_time": "2023-06-15T16:17:50.478Z"
   },
   {
    "duration": 15,
    "start_time": "2023-06-15T16:17:50.770Z"
   },
   {
    "duration": 3,
    "start_time": "2023-06-15T16:17:50.786Z"
   },
   {
    "duration": 565,
    "start_time": "2023-06-15T16:17:50.790Z"
   },
   {
    "duration": 12,
    "start_time": "2023-06-15T16:17:51.356Z"
   },
   {
    "duration": 779,
    "start_time": "2023-06-15T16:17:51.370Z"
   },
   {
    "duration": 12,
    "start_time": "2023-06-15T16:17:52.154Z"
   },
   {
    "duration": 25,
    "start_time": "2023-06-15T16:17:52.167Z"
   },
   {
    "duration": 14,
    "start_time": "2023-06-15T16:17:52.193Z"
   },
   {
    "duration": 4,
    "start_time": "2023-06-15T16:17:52.208Z"
   },
   {
    "duration": 17,
    "start_time": "2023-06-15T16:17:52.214Z"
   },
   {
    "duration": 187,
    "start_time": "2023-06-15T16:17:52.233Z"
   },
   {
    "duration": 145,
    "start_time": "2023-06-15T16:17:52.422Z"
   },
   {
    "duration": 14,
    "start_time": "2023-06-15T16:17:52.568Z"
   },
   {
    "duration": 29,
    "start_time": "2023-06-15T16:17:52.586Z"
   },
   {
    "duration": 4,
    "start_time": "2023-06-15T16:17:52.617Z"
   },
   {
    "duration": 111,
    "start_time": "2023-06-15T16:17:52.622Z"
   },
   {
    "duration": 122,
    "start_time": "2023-06-15T16:17:52.735Z"
   },
   {
    "duration": 17,
    "start_time": "2023-06-15T16:17:52.858Z"
   },
   {
    "duration": 10,
    "start_time": "2023-06-15T16:17:52.878Z"
   },
   {
    "duration": 17,
    "start_time": "2023-06-15T16:17:52.890Z"
   },
   {
    "duration": 16,
    "start_time": "2023-06-15T16:17:52.909Z"
   },
   {
    "duration": 40,
    "start_time": "2023-06-15T16:17:52.927Z"
   },
   {
    "duration": 123,
    "start_time": "2023-06-15T16:17:52.969Z"
   },
   {
    "duration": 122,
    "start_time": "2023-06-15T16:17:53.094Z"
   },
   {
    "duration": 8,
    "start_time": "2023-06-15T16:17:53.218Z"
   },
   {
    "duration": 38,
    "start_time": "2023-06-15T16:17:53.227Z"
   },
   {
    "duration": 8,
    "start_time": "2023-06-15T16:17:53.266Z"
   },
   {
    "duration": 186,
    "start_time": "2023-06-15T16:17:53.275Z"
   },
   {
    "duration": 7,
    "start_time": "2023-06-15T16:17:53.464Z"
   },
   {
    "duration": 145,
    "start_time": "2023-06-15T16:17:53.472Z"
   },
   {
    "duration": 4,
    "start_time": "2023-06-15T16:17:53.618Z"
   },
   {
    "duration": 825,
    "start_time": "2023-06-15T16:17:53.623Z"
   },
   {
    "duration": 14,
    "start_time": "2023-06-15T16:17:54.450Z"
   },
   {
    "duration": 652,
    "start_time": "2023-06-15T16:17:54.465Z"
   },
   {
    "duration": 4,
    "start_time": "2023-06-15T16:17:55.118Z"
   },
   {
    "duration": 572,
    "start_time": "2023-06-15T16:17:55.123Z"
   },
   {
    "duration": 4,
    "start_time": "2023-06-15T16:17:55.697Z"
   },
   {
    "duration": 22,
    "start_time": "2023-06-15T16:17:55.703Z"
   },
   {
    "duration": 293,
    "start_time": "2023-06-15T16:17:55.726Z"
   },
   {
    "duration": 11,
    "start_time": "2023-06-15T16:17:56.020Z"
   },
   {
    "duration": 28,
    "start_time": "2023-06-15T16:17:56.033Z"
   },
   {
    "duration": 11,
    "start_time": "2023-06-15T16:17:56.062Z"
   },
   {
    "duration": 208,
    "start_time": "2023-06-15T16:17:56.074Z"
   },
   {
    "duration": 6,
    "start_time": "2023-06-15T16:17:56.283Z"
   },
   {
    "duration": 11,
    "start_time": "2023-06-15T16:17:56.291Z"
   },
   {
    "duration": 12,
    "start_time": "2023-06-15T16:17:56.304Z"
   },
   {
    "duration": 18,
    "start_time": "2023-06-15T16:17:56.318Z"
   },
   {
    "duration": 7,
    "start_time": "2023-06-15T16:17:56.337Z"
   },
   {
    "duration": 23,
    "start_time": "2023-06-15T16:17:56.345Z"
   },
   {
    "duration": 29,
    "start_time": "2023-06-15T16:17:56.369Z"
   },
   {
    "duration": 12,
    "start_time": "2023-06-15T16:17:56.400Z"
   },
   {
    "duration": 8,
    "start_time": "2023-06-15T16:17:56.414Z"
   },
   {
    "duration": 15,
    "start_time": "2023-06-15T16:17:56.423Z"
   },
   {
    "duration": 15,
    "start_time": "2023-06-15T16:17:56.453Z"
   },
   {
    "duration": 19,
    "start_time": "2023-06-15T16:17:56.469Z"
   },
   {
    "duration": 673,
    "start_time": "2023-06-15T16:17:56.489Z"
   },
   {
    "duration": 13,
    "start_time": "2023-06-15T16:18:47.272Z"
   },
   {
    "duration": 14,
    "start_time": "2023-06-15T16:19:07.234Z"
   },
   {
    "duration": 90,
    "start_time": "2023-06-15T16:22:47.730Z"
   },
   {
    "duration": 14,
    "start_time": "2023-06-15T16:23:18.918Z"
   },
   {
    "duration": 16,
    "start_time": "2023-06-15T16:25:26.347Z"
   },
   {
    "duration": 12,
    "start_time": "2023-06-15T16:26:07.430Z"
   },
   {
    "duration": 26,
    "start_time": "2023-06-15T16:27:22.616Z"
   },
   {
    "duration": 4,
    "start_time": "2023-06-15T16:36:30.903Z"
   },
   {
    "duration": 4,
    "start_time": "2023-06-15T16:36:50.407Z"
   },
   {
    "duration": 861,
    "start_time": "2023-06-15T16:36:51.054Z"
   },
   {
    "duration": 4,
    "start_time": "2023-06-15T16:36:51.917Z"
   },
   {
    "duration": 637,
    "start_time": "2023-06-15T16:36:52.452Z"
   },
   {
    "duration": 3,
    "start_time": "2023-06-15T16:36:53.102Z"
   },
   {
    "duration": 584,
    "start_time": "2023-06-15T16:36:53.655Z"
   },
   {
    "duration": 7,
    "start_time": "2023-06-15T16:36:54.355Z"
   },
   {
    "duration": 28,
    "start_time": "2023-06-15T16:36:55.460Z"
   },
   {
    "duration": 289,
    "start_time": "2023-06-15T16:36:56.715Z"
   },
   {
    "duration": 8,
    "start_time": "2023-06-15T16:42:04.318Z"
   },
   {
    "duration": 16,
    "start_time": "2023-06-15T16:42:05.107Z"
   },
   {
    "duration": 109,
    "start_time": "2023-06-15T16:43:42.669Z"
   },
   {
    "duration": 7,
    "start_time": "2023-06-15T16:43:45.734Z"
   },
   {
    "duration": 17,
    "start_time": "2023-06-15T16:43:46.415Z"
   },
   {
    "duration": 8,
    "start_time": "2023-06-15T16:43:53.857Z"
   },
   {
    "duration": 17,
    "start_time": "2023-06-15T16:43:54.548Z"
   },
   {
    "duration": 18,
    "start_time": "2023-06-15T16:44:02.871Z"
   },
   {
    "duration": 7,
    "start_time": "2023-06-15T16:44:07.265Z"
   },
   {
    "duration": 19,
    "start_time": "2023-06-15T16:44:07.932Z"
   },
   {
    "duration": 7,
    "start_time": "2023-06-15T16:44:33.412Z"
   },
   {
    "duration": 17,
    "start_time": "2023-06-15T16:44:34.317Z"
   },
   {
    "duration": 16,
    "start_time": "2023-06-15T16:44:42.541Z"
   },
   {
    "duration": 293,
    "start_time": "2023-06-15T16:44:43.447Z"
   },
   {
    "duration": 7,
    "start_time": "2023-06-15T16:44:46.651Z"
   },
   {
    "duration": 17,
    "start_time": "2023-06-15T16:44:48.214Z"
   },
   {
    "duration": 9,
    "start_time": "2023-06-15T16:46:44.512Z"
   },
   {
    "duration": 20,
    "start_time": "2023-06-15T16:47:28.272Z"
   },
   {
    "duration": 11,
    "start_time": "2023-06-15T16:48:33.135Z"
   },
   {
    "duration": 220,
    "start_time": "2023-06-15T16:49:04.757Z"
   },
   {
    "duration": 173,
    "start_time": "2023-06-15T16:50:03.238Z"
   },
   {
    "duration": 9,
    "start_time": "2023-06-15T16:57:26.670Z"
   },
   {
    "duration": 8,
    "start_time": "2023-06-15T16:57:44.042Z"
   },
   {
    "duration": 9,
    "start_time": "2023-06-15T16:58:16.610Z"
   },
   {
    "duration": 8,
    "start_time": "2023-06-15T16:58:29.926Z"
   },
   {
    "duration": 8,
    "start_time": "2023-06-15T16:58:46.104Z"
   },
   {
    "duration": 10,
    "start_time": "2023-06-15T16:59:23.276Z"
   },
   {
    "duration": 15,
    "start_time": "2023-06-15T17:12:02.519Z"
   },
   {
    "duration": 20,
    "start_time": "2023-06-15T17:12:06.826Z"
   },
   {
    "duration": 23,
    "start_time": "2023-06-15T17:12:49.734Z"
   },
   {
    "duration": 21,
    "start_time": "2023-06-15T17:12:59.614Z"
   },
   {
    "duration": 23,
    "start_time": "2023-06-15T17:13:14.520Z"
   },
   {
    "duration": 15,
    "start_time": "2023-06-15T17:16:15.940Z"
   },
   {
    "duration": 18,
    "start_time": "2023-06-15T17:16:26.740Z"
   },
   {
    "duration": 11,
    "start_time": "2023-06-15T17:17:20.531Z"
   },
   {
    "duration": 21,
    "start_time": "2023-06-15T17:19:22.146Z"
   },
   {
    "duration": 16,
    "start_time": "2023-06-15T17:25:48.615Z"
   },
   {
    "duration": 29,
    "start_time": "2023-06-15T17:26:00.235Z"
   },
   {
    "duration": 19,
    "start_time": "2023-06-15T17:26:01.129Z"
   },
   {
    "duration": 12,
    "start_time": "2023-06-15T17:26:02.072Z"
   },
   {
    "duration": 18,
    "start_time": "2023-06-15T17:26:03.446Z"
   },
   {
    "duration": 6,
    "start_time": "2023-06-15T17:54:02.284Z"
   },
   {
    "duration": 28,
    "start_time": "2023-06-15T18:06:28.738Z"
   },
   {
    "duration": 15,
    "start_time": "2023-06-15T18:06:29.542Z"
   },
   {
    "duration": 1258,
    "start_time": "2023-06-15T18:41:44.048Z"
   },
   {
    "duration": 3,
    "start_time": "2023-06-15T18:41:45.308Z"
   },
   {
    "duration": 334,
    "start_time": "2023-06-15T18:41:45.313Z"
   },
   {
    "duration": 22,
    "start_time": "2023-06-15T18:41:45.650Z"
   },
   {
    "duration": 15,
    "start_time": "2023-06-15T18:41:45.674Z"
   },
   {
    "duration": 81,
    "start_time": "2023-06-15T18:41:45.691Z"
   },
   {
    "duration": 12,
    "start_time": "2023-06-15T18:41:45.774Z"
   },
   {
    "duration": 27,
    "start_time": "2023-06-15T18:41:45.788Z"
   },
   {
    "duration": 4,
    "start_time": "2023-06-15T18:41:45.816Z"
   },
   {
    "duration": 38,
    "start_time": "2023-06-15T18:41:45.823Z"
   },
   {
    "duration": 21,
    "start_time": "2023-06-15T18:41:45.862Z"
   },
   {
    "duration": 11,
    "start_time": "2023-06-15T18:41:45.885Z"
   },
   {
    "duration": 36,
    "start_time": "2023-06-15T18:41:45.898Z"
   },
   {
    "duration": 25,
    "start_time": "2023-06-15T18:41:45.936Z"
   },
   {
    "duration": 36,
    "start_time": "2023-06-15T18:41:45.963Z"
   },
   {
    "duration": 10,
    "start_time": "2023-06-15T18:41:46.001Z"
   },
   {
    "duration": 17,
    "start_time": "2023-06-15T18:41:46.013Z"
   },
   {
    "duration": 23,
    "start_time": "2023-06-15T18:41:46.032Z"
   },
   {
    "duration": 19,
    "start_time": "2023-06-15T18:41:46.057Z"
   },
   {
    "duration": 13,
    "start_time": "2023-06-15T18:41:46.078Z"
   },
   {
    "duration": 20,
    "start_time": "2023-06-15T18:41:46.093Z"
   },
   {
    "duration": 10,
    "start_time": "2023-06-15T18:41:46.115Z"
   },
   {
    "duration": 27,
    "start_time": "2023-06-15T18:41:46.127Z"
   },
   {
    "duration": 11,
    "start_time": "2023-06-15T18:41:46.155Z"
   },
   {
    "duration": 7,
    "start_time": "2023-06-15T18:41:46.167Z"
   },
   {
    "duration": 31,
    "start_time": "2023-06-15T18:41:46.176Z"
   },
   {
    "duration": 263,
    "start_time": "2023-06-15T18:41:46.208Z"
   },
   {
    "duration": 16,
    "start_time": "2023-06-15T18:41:46.475Z"
   },
   {
    "duration": 13,
    "start_time": "2023-06-15T18:41:46.492Z"
   },
   {
    "duration": 558,
    "start_time": "2023-06-15T18:41:46.507Z"
   },
   {
    "duration": 3,
    "start_time": "2023-06-15T18:41:47.066Z"
   },
   {
    "duration": 766,
    "start_time": "2023-06-15T18:41:47.070Z"
   },
   {
    "duration": 2,
    "start_time": "2023-06-15T18:41:47.838Z"
   },
   {
    "duration": 35,
    "start_time": "2023-06-15T18:41:47.852Z"
   },
   {
    "duration": 15,
    "start_time": "2023-06-15T18:41:47.889Z"
   },
   {
    "duration": 5,
    "start_time": "2023-06-15T18:41:47.905Z"
   },
   {
    "duration": 21,
    "start_time": "2023-06-15T18:41:47.911Z"
   },
   {
    "duration": 209,
    "start_time": "2023-06-15T18:41:47.934Z"
   },
   {
    "duration": 146,
    "start_time": "2023-06-15T18:41:48.145Z"
   },
   {
    "duration": 25,
    "start_time": "2023-06-15T18:41:48.292Z"
   },
   {
    "duration": 33,
    "start_time": "2023-06-15T18:41:48.320Z"
   },
   {
    "duration": 5,
    "start_time": "2023-06-15T18:41:48.356Z"
   },
   {
    "duration": 140,
    "start_time": "2023-06-15T18:41:48.363Z"
   },
   {
    "duration": 134,
    "start_time": "2023-06-15T18:41:48.506Z"
   },
   {
    "duration": 14,
    "start_time": "2023-06-15T18:41:48.651Z"
   },
   {
    "duration": 3,
    "start_time": "2023-06-15T18:41:48.667Z"
   },
   {
    "duration": 15,
    "start_time": "2023-06-15T18:41:48.672Z"
   },
   {
    "duration": 10,
    "start_time": "2023-06-15T18:41:48.689Z"
   },
   {
    "duration": 30,
    "start_time": "2023-06-15T18:41:48.701Z"
   },
   {
    "duration": 126,
    "start_time": "2023-06-15T18:41:48.751Z"
   },
   {
    "duration": 129,
    "start_time": "2023-06-15T18:41:48.879Z"
   },
   {
    "duration": 8,
    "start_time": "2023-06-15T18:41:49.011Z"
   },
   {
    "duration": 33,
    "start_time": "2023-06-15T18:41:49.020Z"
   },
   {
    "duration": 8,
    "start_time": "2023-06-15T18:41:49.055Z"
   },
   {
    "duration": 215,
    "start_time": "2023-06-15T18:41:49.065Z"
   },
   {
    "duration": 5,
    "start_time": "2023-06-15T18:41:49.282Z"
   },
   {
    "duration": 238,
    "start_time": "2023-06-15T18:41:49.289Z"
   },
   {
    "duration": 4,
    "start_time": "2023-06-15T18:41:49.529Z"
   },
   {
    "duration": 771,
    "start_time": "2023-06-15T18:41:49.535Z"
   },
   {
    "duration": 4,
    "start_time": "2023-06-15T18:41:50.308Z"
   },
   {
    "duration": 738,
    "start_time": "2023-06-15T18:41:50.314Z"
   },
   {
    "duration": 3,
    "start_time": "2023-06-15T18:41:51.054Z"
   },
   {
    "duration": 502,
    "start_time": "2023-06-15T18:41:51.058Z"
   },
   {
    "duration": 5,
    "start_time": "2023-06-15T18:41:51.562Z"
   },
   {
    "duration": 30,
    "start_time": "2023-06-15T18:41:51.568Z"
   },
   {
    "duration": 298,
    "start_time": "2023-06-15T18:41:51.600Z"
   },
   {
    "duration": 11,
    "start_time": "2023-06-15T18:41:51.900Z"
   },
   {
    "duration": 18,
    "start_time": "2023-06-15T18:41:51.913Z"
   },
   {
    "duration": 27,
    "start_time": "2023-06-15T18:41:51.933Z"
   },
   {
    "duration": 230,
    "start_time": "2023-06-15T18:41:51.961Z"
   },
   {
    "duration": 6,
    "start_time": "2023-06-15T18:41:52.193Z"
   },
   {
    "duration": 24,
    "start_time": "2023-06-15T18:41:52.201Z"
   },
   {
    "duration": 106,
    "start_time": "2023-06-15T18:41:52.227Z"
   },
   {
    "duration": 0,
    "start_time": "2023-06-15T18:41:52.334Z"
   },
   {
    "duration": 0,
    "start_time": "2023-06-15T18:41:52.335Z"
   },
   {
    "duration": 0,
    "start_time": "2023-06-15T18:41:52.336Z"
   },
   {
    "duration": 0,
    "start_time": "2023-06-15T18:41:52.338Z"
   },
   {
    "duration": 0,
    "start_time": "2023-06-15T18:41:52.339Z"
   },
   {
    "duration": 0,
    "start_time": "2023-06-15T18:41:52.340Z"
   },
   {
    "duration": 0,
    "start_time": "2023-06-15T18:41:52.341Z"
   },
   {
    "duration": 0,
    "start_time": "2023-06-15T18:41:52.352Z"
   },
   {
    "duration": 0,
    "start_time": "2023-06-15T18:41:52.353Z"
   },
   {
    "duration": 0,
    "start_time": "2023-06-15T18:41:52.354Z"
   },
   {
    "duration": 6,
    "start_time": "2023-06-15T19:44:52.002Z"
   },
   {
    "duration": 13,
    "start_time": "2023-06-15T19:44:54.611Z"
   },
   {
    "duration": 7,
    "start_time": "2023-06-15T19:45:08.185Z"
   },
   {
    "duration": 5,
    "start_time": "2023-06-15T19:45:09.303Z"
   },
   {
    "duration": 20,
    "start_time": "2023-06-15T19:45:10.247Z"
   },
   {
    "duration": 4,
    "start_time": "2023-06-15T19:45:13.530Z"
   },
   {
    "duration": 5,
    "start_time": "2023-06-15T19:47:38.502Z"
   },
   {
    "duration": 6,
    "start_time": "2023-06-15T19:47:39.124Z"
   },
   {
    "duration": 4,
    "start_time": "2023-06-15T19:47:40.234Z"
   },
   {
    "duration": 8,
    "start_time": "2023-06-15T19:47:41.096Z"
   },
   {
    "duration": 1455,
    "start_time": "2023-06-17T09:54:51.911Z"
   },
   {
    "duration": 4,
    "start_time": "2023-06-17T09:54:53.368Z"
   },
   {
    "duration": 243,
    "start_time": "2023-06-17T09:54:53.374Z"
   },
   {
    "duration": 21,
    "start_time": "2023-06-17T09:54:53.619Z"
   },
   {
    "duration": 16,
    "start_time": "2023-06-17T09:54:53.642Z"
   },
   {
    "duration": 68,
    "start_time": "2023-06-17T09:54:53.659Z"
   },
   {
    "duration": 11,
    "start_time": "2023-06-17T09:54:53.729Z"
   },
   {
    "duration": 25,
    "start_time": "2023-06-17T09:54:53.742Z"
   },
   {
    "duration": 4,
    "start_time": "2023-06-17T09:54:53.769Z"
   },
   {
    "duration": 40,
    "start_time": "2023-06-17T09:54:53.776Z"
   },
   {
    "duration": 20,
    "start_time": "2023-06-17T09:54:53.818Z"
   },
   {
    "duration": 17,
    "start_time": "2023-06-17T09:54:53.840Z"
   },
   {
    "duration": 28,
    "start_time": "2023-06-17T09:54:53.859Z"
   },
   {
    "duration": 24,
    "start_time": "2023-06-17T09:54:53.890Z"
   },
   {
    "duration": 52,
    "start_time": "2023-06-17T09:54:53.916Z"
   },
   {
    "duration": 12,
    "start_time": "2023-06-17T09:54:53.970Z"
   },
   {
    "duration": 48,
    "start_time": "2023-06-17T09:54:53.984Z"
   },
   {
    "duration": 14,
    "start_time": "2023-06-17T09:54:54.034Z"
   },
   {
    "duration": 5,
    "start_time": "2023-06-17T09:54:54.050Z"
   },
   {
    "duration": 7,
    "start_time": "2023-06-17T09:54:54.057Z"
   },
   {
    "duration": 11,
    "start_time": "2023-06-17T09:54:54.065Z"
   },
   {
    "duration": 7,
    "start_time": "2023-06-17T09:54:54.078Z"
   },
   {
    "duration": 43,
    "start_time": "2023-06-17T09:54:54.087Z"
   },
   {
    "duration": 9,
    "start_time": "2023-06-17T09:54:54.132Z"
   },
   {
    "duration": 10,
    "start_time": "2023-06-17T09:54:54.143Z"
   },
   {
    "duration": 51,
    "start_time": "2023-06-17T09:54:54.155Z"
   },
   {
    "duration": 245,
    "start_time": "2023-06-17T09:54:54.208Z"
   },
   {
    "duration": 14,
    "start_time": "2023-06-17T09:54:54.457Z"
   },
   {
    "duration": 4,
    "start_time": "2023-06-17T09:54:54.473Z"
   },
   {
    "duration": 543,
    "start_time": "2023-06-17T09:54:54.478Z"
   },
   {
    "duration": 2,
    "start_time": "2023-06-17T09:54:55.023Z"
   },
   {
    "duration": 784,
    "start_time": "2023-06-17T09:54:55.027Z"
   },
   {
    "duration": 3,
    "start_time": "2023-06-17T09:54:55.812Z"
   },
   {
    "duration": 27,
    "start_time": "2023-06-17T09:54:55.817Z"
   },
   {
    "duration": 22,
    "start_time": "2023-06-17T09:54:55.846Z"
   },
   {
    "duration": 20,
    "start_time": "2023-06-17T09:54:55.870Z"
   },
   {
    "duration": 4,
    "start_time": "2023-06-17T09:54:55.892Z"
   },
   {
    "duration": 21,
    "start_time": "2023-06-17T09:54:55.898Z"
   },
   {
    "duration": 212,
    "start_time": "2023-06-17T09:54:55.921Z"
   },
   {
    "duration": 139,
    "start_time": "2023-06-17T09:54:56.135Z"
   },
   {
    "duration": 14,
    "start_time": "2023-06-17T09:54:56.276Z"
   },
   {
    "duration": 34,
    "start_time": "2023-06-17T09:54:56.291Z"
   },
   {
    "duration": 5,
    "start_time": "2023-06-17T09:54:56.328Z"
   },
   {
    "duration": 108,
    "start_time": "2023-06-17T09:54:56.357Z"
   },
   {
    "duration": 112,
    "start_time": "2023-06-17T09:54:56.466Z"
   },
   {
    "duration": 15,
    "start_time": "2023-06-17T09:54:56.581Z"
   },
   {
    "duration": 5,
    "start_time": "2023-06-17T09:54:56.598Z"
   },
   {
    "duration": 19,
    "start_time": "2023-06-17T09:54:56.604Z"
   },
   {
    "duration": 38,
    "start_time": "2023-06-17T09:54:56.625Z"
   },
   {
    "duration": 26,
    "start_time": "2023-06-17T09:54:56.665Z"
   },
   {
    "duration": 151,
    "start_time": "2023-06-17T09:54:56.694Z"
   },
   {
    "duration": 138,
    "start_time": "2023-06-17T09:54:56.847Z"
   },
   {
    "duration": 8,
    "start_time": "2023-06-17T09:54:56.987Z"
   },
   {
    "duration": 12,
    "start_time": "2023-06-17T09:54:56.997Z"
   },
   {
    "duration": 8,
    "start_time": "2023-06-17T09:54:57.011Z"
   },
   {
    "duration": 215,
    "start_time": "2023-06-17T09:54:57.021Z"
   },
   {
    "duration": 5,
    "start_time": "2023-06-17T09:54:57.238Z"
   },
   {
    "duration": 223,
    "start_time": "2023-06-17T09:54:57.257Z"
   },
   {
    "duration": 4,
    "start_time": "2023-06-17T09:54:57.482Z"
   },
   {
    "duration": 806,
    "start_time": "2023-06-17T09:54:57.487Z"
   },
   {
    "duration": 3,
    "start_time": "2023-06-17T09:54:58.295Z"
   },
   {
    "duration": 907,
    "start_time": "2023-06-17T09:54:58.300Z"
   },
   {
    "duration": 3,
    "start_time": "2023-06-17T09:54:59.209Z"
   },
   {
    "duration": 500,
    "start_time": "2023-06-17T09:54:59.213Z"
   },
   {
    "duration": 6,
    "start_time": "2023-06-17T09:54:59.714Z"
   },
   {
    "duration": 17,
    "start_time": "2023-06-17T09:54:59.722Z"
   },
   {
    "duration": 281,
    "start_time": "2023-06-17T09:54:59.756Z"
   },
   {
    "duration": 20,
    "start_time": "2023-06-17T09:55:00.039Z"
   },
   {
    "duration": 39,
    "start_time": "2023-06-17T09:55:00.060Z"
   },
   {
    "duration": 12,
    "start_time": "2023-06-17T09:55:00.101Z"
   },
   {
    "duration": 183,
    "start_time": "2023-06-17T09:55:00.115Z"
   },
   {
    "duration": 7,
    "start_time": "2023-06-17T09:55:00.300Z"
   },
   {
    "duration": 28,
    "start_time": "2023-06-17T09:55:00.308Z"
   },
   {
    "duration": 21,
    "start_time": "2023-06-17T09:55:00.338Z"
   },
   {
    "duration": 19,
    "start_time": "2023-06-17T09:55:00.361Z"
   },
   {
    "duration": 27,
    "start_time": "2023-06-17T09:55:00.382Z"
   },
   {
    "duration": 21,
    "start_time": "2023-06-17T09:55:00.411Z"
   },
   {
    "duration": 37,
    "start_time": "2023-06-17T09:55:00.434Z"
   },
   {
    "duration": 38,
    "start_time": "2023-06-17T09:55:00.474Z"
   },
   {
    "duration": 29,
    "start_time": "2023-06-17T09:55:00.514Z"
   },
   {
    "duration": 11,
    "start_time": "2023-06-17T09:55:00.545Z"
   },
   {
    "duration": 22,
    "start_time": "2023-06-17T09:55:00.561Z"
   },
   {
    "duration": 67,
    "start_time": "2023-06-17T09:55:00.585Z"
   },
   {
    "duration": 754,
    "start_time": "2023-06-17T09:55:00.654Z"
   }
  ],
  "kernelspec": {
   "display_name": "Python 3 (ipykernel)",
   "language": "python",
   "name": "python3"
  },
  "language_info": {
   "codemirror_mode": {
    "name": "ipython",
    "version": 3
   },
   "file_extension": ".py",
   "mimetype": "text/x-python",
   "name": "python",
   "nbconvert_exporter": "python",
   "pygments_lexer": "ipython3",
   "version": "3.9.13"
  },
  "toc": {
   "base_numbering": 1,
   "nav_menu": {},
   "number_sections": true,
   "sideBar": true,
   "skip_h1_title": true,
   "title_cell": "Table of Contents",
   "title_sidebar": "Contents",
   "toc_cell": false,
   "toc_position": {
    "height": "calc(100% - 180px)",
    "left": "10px",
    "top": "150px",
    "width": "336px"
   },
   "toc_section_display": true,
   "toc_window_display": true
  }
 },
 "nbformat": 4,
 "nbformat_minor": 2
}
