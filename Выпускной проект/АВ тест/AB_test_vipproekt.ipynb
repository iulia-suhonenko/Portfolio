{
 "cells": [
  {
   "cell_type": "markdown",
   "metadata": {},
   "source": [
    "# <span style=\"color:blue\">Проект по А/B-тестированию к выпускному проекту</span> "
   ]
  },
  {
   "cell_type": "markdown",
   "metadata": {},
   "source": [
    "<span style=\"color:green\">**ОПИСАНИЕ ПРОЕКТА**</span> \n",
    "\n",
    "В нашем распоряжении есть датасет с действиями пользователей, техническое задание и несколько вспомогательных датасетов.\n",
    "\n",
    "**Цель:**: Дать оценку проведения A/B теста:\n",
    "- Оценить корректность проведения теста\n",
    "- Проанализировать результаты теста\n",
    "\n",
    "Чтобы оценить корректность проведения теста, необходимо проверить:\n",
    "- что нет пересечений с конкурирующим тестом и нет пользователей, участвующих в двух группах теста одновременно\n",
    "- равномерность распределения пользователей по тестовым группам и правильность их формирования\n",
    "\n",
    "1. **Загрузка и обработка данных:**\n",
    "- 1.1 Обработка и  преобразование типов данных\n",
    "- 1.2 Обработка пропусков и дубликатов\n",
    "2. **Оценка корректности проведения теста. Внимание на:**\n",
    "- 2.1 Соответствие данных требованиям технического задания. \n",
    "- 2.2 Время проведения теста. Убедимся, что оно не совпадает с маркетинговыми и другими активностями.\n",
    "- 2.3 Аудиторию теста. \n",
    "- Проверим, что нет пересечений с конкурирующим тестом и нет пользователей, участвующих в двух группах теста одновременно.\n",
    "- Проверим равномерность распределения пользователей по тестовым группам и правильность их формирования.\n",
    "3. **Исследовательский анализ данных.** Определить:\n",
    "- 3.1 Каково распределение количества событий на пользователя в выборках\n",
    "- 3.2 Как число событий в выборках распределено по дням\n",
    "- 3.3 Как меняется конверсия в воронке в выборках на разных этапах\n",
    "- 3.4 Какие особенности данных нужно учесть, прежде чем приступать к A/B-тестированию?\n",
    "4. **Проведение оценки результатов A/B-тестирования:**\n",
    "- 4.1 Общее заключение по результатам A/B-тестирования\n",
    "- 4.2 Проверка статистической разницы долей z-критерием\n",
    "5. **Общие выводы** по этапу исследовательского анализа данных и по проведённой оценке результатов A/B-тестирования. "
   ]
  },
  {
   "cell_type": "markdown",
   "metadata": {},
   "source": [
    "<span style=\"color:green\">**Техническое задание**</span> \n",
    "- **Название теста:** recommender_system_test;\n",
    "- **Группы: А** (контрольная), **B** (новая платёжная воронка);\n",
    "- **Дата запуска:** 2020-12-07;\n",
    "- **Дата остановки** набора **новых** пользователей: 2020-12-21;\n",
    "- **Дата остановки:** 2021-01-04;\n",
    "- **Аудитория:** 15% новых пользователей из региона EU;\n",
    "- **Назначение теста:** тестирование изменений, связанных с внедрением улучшенной рекомендательной системы;\n",
    "- Ожидаемое **количество участников** теста: 6000.\n",
    "- **Ожидаемый эффект:** за 14 дней с момента регистрации в системе пользователи покажут улучшение каждой метрики не менее, чем на 10%:\n",
    "- **конверсии в просмотр** карточек товаров — событие product_page\n",
    "- **просмотры корзины** — product_cart\n",
    "- **покупки** — purchase.\n",
    "\n",
    "Необходимо загрузить данные теста, проверить корректность его проведения и проанализировать полученные результаты."
   ]
  },
  {
   "cell_type": "markdown",
   "metadata": {},
   "source": [
    "<span style=\"color:green\">**Описание данных**</span> \n",
    "\n",
    "- **ab_project_marketing_events.csv** — календарь маркетинговых событий на 2020 год\n",
    "  - **name** — название маркетингового события;\n",
    "  - **regions** — регионы, в которых будет проводиться рекламная кампания;\n",
    "  - **start_dt** — дата начала кампании;\n",
    "  - **finish_dt** — дата завершения кампании.\n",
    "  \n",
    "- **final_ab_new_users.csv** — пользователи, зарегистрировавшиеся с 7 по 21 декабря 2020 года\n",
    "  - **user_id** — идентификатор пользователя;\n",
    "  - **first_date** — дата регистрации;\n",
    "  - **region** — регион пользователя;\n",
    "  - **device** — устройство, с которого происходила регистрация.\n",
    "  \n",
    "- **final_ab_events.csv** — действия новых пользователей в период с 7 декабря 2020 по 4 января 2021 года\n",
    "  - **user_id** — идентификатор пользователя;\n",
    "  - **event_dt** — дата и время события;\n",
    "  - **event_name** — тип события;\n",
    "  - **details** — дополнительные данные о событии. Например, для покупок, purchase, в этом поле хранится стоимость покупки в долларах.\n",
    "  \n",
    "- **final_ab_participants.csv** — таблица участников тестов\n",
    "  - **user_id** — идентификатор пользователя;\n",
    "  - **ab_test** — название теста;\n",
    "  - **group** — группа пользователя."
   ]
  },
  {
   "cell_type": "markdown",
   "metadata": {},
   "source": [
    "### Загрузка и предобработка данных"
   ]
  },
  {
   "cell_type": "code",
   "execution_count": 1,
   "metadata": {},
   "outputs": [],
   "source": [
    "# импортируем все нужные для работы библиотеки\n",
    "import pandas as pd\n",
    "import numpy as np\n",
    "\n",
    "import math as mth\n",
    "import seaborn as sns\n",
    "import matplotlib.pyplot as plt\n",
    "import datetime as dt\n",
    "import plotly.express as px\n",
    "from plotly import graph_objects as go\n",
    "\n",
    "from scipy import stats as st\n",
    "\n",
    "import warnings\n",
    "warnings.simplefilter(action= 'ignore', category= FutureWarning)"
   ]
  },
  {
   "cell_type": "code",
   "execution_count": 2,
   "metadata": {},
   "outputs": [],
   "source": [
    "# настроим изображение таблиц так, чтобы все столбцвы были всегда видны\n",
    "pd.set_option('display.max_columns', None)\n",
    "\n",
    "#и установим ширину ячеек\n",
    "pd.set_option(\"max_colwidth\", 999)"
   ]
  },
  {
   "cell_type": "code",
   "execution_count": 3,
   "metadata": {},
   "outputs": [],
   "source": [
    "# пропишем пути к датасэтам\n",
    "marketing_events= pd.read_csv('https://code.s3.yandex.net/datasets/ab_project_marketing_events.csv')\n",
    "new_users= pd.read_csv('https://code.s3.yandex.net/datasets/final_ab_new_users.csv')\n",
    "events= pd.read_csv('https://code.s3.yandex.net/datasets/final_ab_events.csv')\n",
    "participants= pd.read_csv('https://code.s3.yandex.net/datasets/final_ab_participants.csv')"
   ]
  },
  {
   "cell_type": "code",
   "execution_count": 4,
   "metadata": {
    "scrolled": false
   },
   "outputs": [
    {
     "name": "stdout",
     "output_type": "stream",
     "text": [
      "\n",
      "<class 'pandas.core.frame.DataFrame'>\n",
      "RangeIndex: 14 entries, 0 to 13\n",
      "Data columns (total 4 columns):\n",
      " #   Column     Non-Null Count  Dtype \n",
      "---  ------     --------------  ----- \n",
      " 0   name       14 non-null     object\n",
      " 1   regions    14 non-null     object\n",
      " 2   start_dt   14 non-null     object\n",
      " 3   finish_dt  14 non-null     object\n",
      "dtypes: object(4)\n",
      "memory usage: 576.0+ bytes\n"
     ]
    },
    {
     "data": {
      "text/plain": [
       "None"
      ]
     },
     "metadata": {},
     "output_type": "display_data"
    },
    {
     "data": {
      "text/html": [
       "<div>\n",
       "<style scoped>\n",
       "    .dataframe tbody tr th:only-of-type {\n",
       "        vertical-align: middle;\n",
       "    }\n",
       "\n",
       "    .dataframe tbody tr th {\n",
       "        vertical-align: top;\n",
       "    }\n",
       "\n",
       "    .dataframe thead th {\n",
       "        text-align: right;\n",
       "    }\n",
       "</style>\n",
       "<table border=\"1\" class=\"dataframe\">\n",
       "  <thead>\n",
       "    <tr style=\"text-align: right;\">\n",
       "      <th></th>\n",
       "      <th>name</th>\n",
       "      <th>regions</th>\n",
       "      <th>start_dt</th>\n",
       "      <th>finish_dt</th>\n",
       "    </tr>\n",
       "  </thead>\n",
       "  <tbody>\n",
       "    <tr>\n",
       "      <th>0</th>\n",
       "      <td>Christmas&amp;New Year Promo</td>\n",
       "      <td>EU, N.America</td>\n",
       "      <td>2020-12-25</td>\n",
       "      <td>2021-01-03</td>\n",
       "    </tr>\n",
       "    <tr>\n",
       "      <th>1</th>\n",
       "      <td>St. Valentine's Day Giveaway</td>\n",
       "      <td>EU, CIS, APAC, N.America</td>\n",
       "      <td>2020-02-14</td>\n",
       "      <td>2020-02-16</td>\n",
       "    </tr>\n",
       "    <tr>\n",
       "      <th>2</th>\n",
       "      <td>St. Patric's Day Promo</td>\n",
       "      <td>EU, N.America</td>\n",
       "      <td>2020-03-17</td>\n",
       "      <td>2020-03-19</td>\n",
       "    </tr>\n",
       "    <tr>\n",
       "      <th>3</th>\n",
       "      <td>Easter Promo</td>\n",
       "      <td>EU, CIS, APAC, N.America</td>\n",
       "      <td>2020-04-12</td>\n",
       "      <td>2020-04-19</td>\n",
       "    </tr>\n",
       "    <tr>\n",
       "      <th>4</th>\n",
       "      <td>4th of July Promo</td>\n",
       "      <td>N.America</td>\n",
       "      <td>2020-07-04</td>\n",
       "      <td>2020-07-11</td>\n",
       "    </tr>\n",
       "  </tbody>\n",
       "</table>\n",
       "</div>"
      ],
      "text/plain": [
       "                           name                   regions    start_dt  \\\n",
       "0      Christmas&New Year Promo             EU, N.America  2020-12-25   \n",
       "1  St. Valentine's Day Giveaway  EU, CIS, APAC, N.America  2020-02-14   \n",
       "2        St. Patric's Day Promo             EU, N.America  2020-03-17   \n",
       "3                  Easter Promo  EU, CIS, APAC, N.America  2020-04-12   \n",
       "4             4th of July Promo                 N.America  2020-07-04   \n",
       "\n",
       "    finish_dt  \n",
       "0  2021-01-03  \n",
       "1  2020-02-16  \n",
       "2  2020-03-19  \n",
       "3  2020-04-19  \n",
       "4  2020-07-11  "
      ]
     },
     "metadata": {},
     "output_type": "display_data"
    },
    {
     "name": "stdout",
     "output_type": "stream",
     "text": [
      "\n",
      "\n",
      "<class 'pandas.core.frame.DataFrame'>\n",
      "RangeIndex: 61733 entries, 0 to 61732\n",
      "Data columns (total 4 columns):\n",
      " #   Column      Non-Null Count  Dtype \n",
      "---  ------      --------------  ----- \n",
      " 0   user_id     61733 non-null  object\n",
      " 1   first_date  61733 non-null  object\n",
      " 2   region      61733 non-null  object\n",
      " 3   device      61733 non-null  object\n",
      "dtypes: object(4)\n",
      "memory usage: 1.9+ MB\n"
     ]
    },
    {
     "data": {
      "text/plain": [
       "None"
      ]
     },
     "metadata": {},
     "output_type": "display_data"
    },
    {
     "data": {
      "text/html": [
       "<div>\n",
       "<style scoped>\n",
       "    .dataframe tbody tr th:only-of-type {\n",
       "        vertical-align: middle;\n",
       "    }\n",
       "\n",
       "    .dataframe tbody tr th {\n",
       "        vertical-align: top;\n",
       "    }\n",
       "\n",
       "    .dataframe thead th {\n",
       "        text-align: right;\n",
       "    }\n",
       "</style>\n",
       "<table border=\"1\" class=\"dataframe\">\n",
       "  <thead>\n",
       "    <tr style=\"text-align: right;\">\n",
       "      <th></th>\n",
       "      <th>user_id</th>\n",
       "      <th>first_date</th>\n",
       "      <th>region</th>\n",
       "      <th>device</th>\n",
       "    </tr>\n",
       "  </thead>\n",
       "  <tbody>\n",
       "    <tr>\n",
       "      <th>0</th>\n",
       "      <td>D72A72121175D8BE</td>\n",
       "      <td>2020-12-07</td>\n",
       "      <td>EU</td>\n",
       "      <td>PC</td>\n",
       "    </tr>\n",
       "    <tr>\n",
       "      <th>1</th>\n",
       "      <td>F1C668619DFE6E65</td>\n",
       "      <td>2020-12-07</td>\n",
       "      <td>N.America</td>\n",
       "      <td>Android</td>\n",
       "    </tr>\n",
       "    <tr>\n",
       "      <th>2</th>\n",
       "      <td>2E1BF1D4C37EA01F</td>\n",
       "      <td>2020-12-07</td>\n",
       "      <td>EU</td>\n",
       "      <td>PC</td>\n",
       "    </tr>\n",
       "    <tr>\n",
       "      <th>3</th>\n",
       "      <td>50734A22C0C63768</td>\n",
       "      <td>2020-12-07</td>\n",
       "      <td>EU</td>\n",
       "      <td>iPhone</td>\n",
       "    </tr>\n",
       "    <tr>\n",
       "      <th>4</th>\n",
       "      <td>E1BDDCE0DAFA2679</td>\n",
       "      <td>2020-12-07</td>\n",
       "      <td>N.America</td>\n",
       "      <td>iPhone</td>\n",
       "    </tr>\n",
       "  </tbody>\n",
       "</table>\n",
       "</div>"
      ],
      "text/plain": [
       "            user_id  first_date     region   device\n",
       "0  D72A72121175D8BE  2020-12-07         EU       PC\n",
       "1  F1C668619DFE6E65  2020-12-07  N.America  Android\n",
       "2  2E1BF1D4C37EA01F  2020-12-07         EU       PC\n",
       "3  50734A22C0C63768  2020-12-07         EU   iPhone\n",
       "4  E1BDDCE0DAFA2679  2020-12-07  N.America   iPhone"
      ]
     },
     "metadata": {},
     "output_type": "display_data"
    },
    {
     "name": "stdout",
     "output_type": "stream",
     "text": [
      "\n",
      "\n",
      "<class 'pandas.core.frame.DataFrame'>\n",
      "RangeIndex: 440317 entries, 0 to 440316\n",
      "Data columns (total 4 columns):\n",
      " #   Column      Non-Null Count   Dtype  \n",
      "---  ------      --------------   -----  \n",
      " 0   user_id     440317 non-null  object \n",
      " 1   event_dt    440317 non-null  object \n",
      " 2   event_name  440317 non-null  object \n",
      " 3   details     62740 non-null   float64\n",
      "dtypes: float64(1), object(3)\n",
      "memory usage: 13.4+ MB\n"
     ]
    },
    {
     "data": {
      "text/plain": [
       "None"
      ]
     },
     "metadata": {},
     "output_type": "display_data"
    },
    {
     "data": {
      "text/html": [
       "<div>\n",
       "<style scoped>\n",
       "    .dataframe tbody tr th:only-of-type {\n",
       "        vertical-align: middle;\n",
       "    }\n",
       "\n",
       "    .dataframe tbody tr th {\n",
       "        vertical-align: top;\n",
       "    }\n",
       "\n",
       "    .dataframe thead th {\n",
       "        text-align: right;\n",
       "    }\n",
       "</style>\n",
       "<table border=\"1\" class=\"dataframe\">\n",
       "  <thead>\n",
       "    <tr style=\"text-align: right;\">\n",
       "      <th></th>\n",
       "      <th>user_id</th>\n",
       "      <th>event_dt</th>\n",
       "      <th>event_name</th>\n",
       "      <th>details</th>\n",
       "    </tr>\n",
       "  </thead>\n",
       "  <tbody>\n",
       "    <tr>\n",
       "      <th>0</th>\n",
       "      <td>E1BDDCE0DAFA2679</td>\n",
       "      <td>2020-12-07 20:22:03</td>\n",
       "      <td>purchase</td>\n",
       "      <td>99.99</td>\n",
       "    </tr>\n",
       "    <tr>\n",
       "      <th>1</th>\n",
       "      <td>7B6452F081F49504</td>\n",
       "      <td>2020-12-07 09:22:53</td>\n",
       "      <td>purchase</td>\n",
       "      <td>9.99</td>\n",
       "    </tr>\n",
       "    <tr>\n",
       "      <th>2</th>\n",
       "      <td>9CD9F34546DF254C</td>\n",
       "      <td>2020-12-07 12:59:29</td>\n",
       "      <td>purchase</td>\n",
       "      <td>4.99</td>\n",
       "    </tr>\n",
       "    <tr>\n",
       "      <th>3</th>\n",
       "      <td>96F27A054B191457</td>\n",
       "      <td>2020-12-07 04:02:40</td>\n",
       "      <td>purchase</td>\n",
       "      <td>4.99</td>\n",
       "    </tr>\n",
       "    <tr>\n",
       "      <th>4</th>\n",
       "      <td>1FD7660FDF94CA1F</td>\n",
       "      <td>2020-12-07 10:15:09</td>\n",
       "      <td>purchase</td>\n",
       "      <td>4.99</td>\n",
       "    </tr>\n",
       "  </tbody>\n",
       "</table>\n",
       "</div>"
      ],
      "text/plain": [
       "            user_id             event_dt event_name  details\n",
       "0  E1BDDCE0DAFA2679  2020-12-07 20:22:03   purchase    99.99\n",
       "1  7B6452F081F49504  2020-12-07 09:22:53   purchase     9.99\n",
       "2  9CD9F34546DF254C  2020-12-07 12:59:29   purchase     4.99\n",
       "3  96F27A054B191457  2020-12-07 04:02:40   purchase     4.99\n",
       "4  1FD7660FDF94CA1F  2020-12-07 10:15:09   purchase     4.99"
      ]
     },
     "metadata": {},
     "output_type": "display_data"
    },
    {
     "name": "stdout",
     "output_type": "stream",
     "text": [
      "\n",
      "\n",
      "<class 'pandas.core.frame.DataFrame'>\n",
      "RangeIndex: 18268 entries, 0 to 18267\n",
      "Data columns (total 3 columns):\n",
      " #   Column   Non-Null Count  Dtype \n",
      "---  ------   --------------  ----- \n",
      " 0   user_id  18268 non-null  object\n",
      " 1   group    18268 non-null  object\n",
      " 2   ab_test  18268 non-null  object\n",
      "dtypes: object(3)\n",
      "memory usage: 428.3+ KB\n"
     ]
    },
    {
     "data": {
      "text/plain": [
       "None"
      ]
     },
     "metadata": {},
     "output_type": "display_data"
    },
    {
     "data": {
      "text/html": [
       "<div>\n",
       "<style scoped>\n",
       "    .dataframe tbody tr th:only-of-type {\n",
       "        vertical-align: middle;\n",
       "    }\n",
       "\n",
       "    .dataframe tbody tr th {\n",
       "        vertical-align: top;\n",
       "    }\n",
       "\n",
       "    .dataframe thead th {\n",
       "        text-align: right;\n",
       "    }\n",
       "</style>\n",
       "<table border=\"1\" class=\"dataframe\">\n",
       "  <thead>\n",
       "    <tr style=\"text-align: right;\">\n",
       "      <th></th>\n",
       "      <th>user_id</th>\n",
       "      <th>group</th>\n",
       "      <th>ab_test</th>\n",
       "    </tr>\n",
       "  </thead>\n",
       "  <tbody>\n",
       "    <tr>\n",
       "      <th>0</th>\n",
       "      <td>D1ABA3E2887B6A73</td>\n",
       "      <td>A</td>\n",
       "      <td>recommender_system_test</td>\n",
       "    </tr>\n",
       "    <tr>\n",
       "      <th>1</th>\n",
       "      <td>A7A3664BD6242119</td>\n",
       "      <td>A</td>\n",
       "      <td>recommender_system_test</td>\n",
       "    </tr>\n",
       "    <tr>\n",
       "      <th>2</th>\n",
       "      <td>DABC14FDDFADD29E</td>\n",
       "      <td>A</td>\n",
       "      <td>recommender_system_test</td>\n",
       "    </tr>\n",
       "    <tr>\n",
       "      <th>3</th>\n",
       "      <td>04988C5DF189632E</td>\n",
       "      <td>A</td>\n",
       "      <td>recommender_system_test</td>\n",
       "    </tr>\n",
       "    <tr>\n",
       "      <th>4</th>\n",
       "      <td>482F14783456D21B</td>\n",
       "      <td>B</td>\n",
       "      <td>recommender_system_test</td>\n",
       "    </tr>\n",
       "  </tbody>\n",
       "</table>\n",
       "</div>"
      ],
      "text/plain": [
       "            user_id group                  ab_test\n",
       "0  D1ABA3E2887B6A73     A  recommender_system_test\n",
       "1  A7A3664BD6242119     A  recommender_system_test\n",
       "2  DABC14FDDFADD29E     A  recommender_system_test\n",
       "3  04988C5DF189632E     A  recommender_system_test\n",
       "4  482F14783456D21B     B  recommender_system_test"
      ]
     },
     "metadata": {},
     "output_type": "display_data"
    },
    {
     "name": "stdout",
     "output_type": "stream",
     "text": [
      "\n"
     ]
    }
   ],
   "source": [
    "# Напишем функцию вывода основных данных по датасетам и пропустим через цикл\n",
    "for df in [marketing_events, new_users, events, participants]:\n",
    "    print()\n",
    "    display(df.info())\n",
    "    display(df.head())\n",
    "    print()"
   ]
  },
  {
   "cell_type": "markdown",
   "metadata": {},
   "source": [
    "<span style=\"color:brown\">**1.1 Обработка и преобразование типов данных**</span>\n",
    "- Названия колонок всех таблиц соотвествуют стилю \"snake case\"\n",
    "- Данные в столбцах с датой и временем необходимо привести к корректному типу:\n",
    "  - в таблице **marketing_events** столбцы **'start_dt' и 'finish_dt'**\n",
    "  - в таблице **new_users** столбец **'first_date'**\n",
    "  - в таблице **events** столбец **'event_dt'**\n",
    "- В таблице **marketing_events** столбец с регионами называется **regions**, а в таблице **new_users - region**."
   ]
  },
  {
   "cell_type": "code",
   "execution_count": 5,
   "metadata": {},
   "outputs": [],
   "source": [
    "# приведем данные к корректному типу данных в столбцах с датой и временем\n",
    "marketing_events['start_dt']= pd.to_datetime(marketing_events['start_dt'])\n",
    "marketing_events['finish_dt']= pd.to_datetime(marketing_events['start_dt'])\n",
    "new_users['first_date']= pd.to_datetime(new_users['first_date'])\n",
    "events['event_dt']= pd.to_datetime(events['event_dt'], format= '%Y-%m-%d %H:%M:%S')"
   ]
  },
  {
   "cell_type": "code",
   "execution_count": 6,
   "metadata": {},
   "outputs": [
    {
     "name": "stdout",
     "output_type": "stream",
     "text": [
      "\n",
      "<class 'pandas.core.frame.DataFrame'>\n",
      "RangeIndex: 14 entries, 0 to 13\n",
      "Data columns (total 4 columns):\n",
      " #   Column     Non-Null Count  Dtype         \n",
      "---  ------     --------------  -----         \n",
      " 0   name       14 non-null     object        \n",
      " 1   regions    14 non-null     object        \n",
      " 2   start_dt   14 non-null     datetime64[ns]\n",
      " 3   finish_dt  14 non-null     datetime64[ns]\n",
      "dtypes: datetime64[ns](2), object(2)\n",
      "memory usage: 576.0+ bytes\n"
     ]
    },
    {
     "data": {
      "text/plain": [
       "None"
      ]
     },
     "metadata": {},
     "output_type": "display_data"
    },
    {
     "name": "stdout",
     "output_type": "stream",
     "text": [
      "\n",
      "<class 'pandas.core.frame.DataFrame'>\n",
      "RangeIndex: 61733 entries, 0 to 61732\n",
      "Data columns (total 4 columns):\n",
      " #   Column      Non-Null Count  Dtype         \n",
      "---  ------      --------------  -----         \n",
      " 0   user_id     61733 non-null  object        \n",
      " 1   first_date  61733 non-null  datetime64[ns]\n",
      " 2   region      61733 non-null  object        \n",
      " 3   device      61733 non-null  object        \n",
      "dtypes: datetime64[ns](1), object(3)\n",
      "memory usage: 1.9+ MB\n"
     ]
    },
    {
     "data": {
      "text/plain": [
       "None"
      ]
     },
     "metadata": {},
     "output_type": "display_data"
    },
    {
     "name": "stdout",
     "output_type": "stream",
     "text": [
      "\n",
      "<class 'pandas.core.frame.DataFrame'>\n",
      "RangeIndex: 440317 entries, 0 to 440316\n",
      "Data columns (total 4 columns):\n",
      " #   Column      Non-Null Count   Dtype         \n",
      "---  ------      --------------   -----         \n",
      " 0   user_id     440317 non-null  object        \n",
      " 1   event_dt    440317 non-null  datetime64[ns]\n",
      " 2   event_name  440317 non-null  object        \n",
      " 3   details     62740 non-null   float64       \n",
      "dtypes: datetime64[ns](1), float64(1), object(2)\n",
      "memory usage: 13.4+ MB\n"
     ]
    },
    {
     "data": {
      "text/plain": [
       "None"
      ]
     },
     "metadata": {},
     "output_type": "display_data"
    }
   ],
   "source": [
    "# проверим\n",
    "for df in [marketing_events, new_users, events]:\n",
    "    print()\n",
    "    display(df.info())"
   ]
  },
  {
   "cell_type": "markdown",
   "metadata": {},
   "source": [
    "**Итак,** теперь все типы данных корректны. Осталось проработать пропуски и дубликаты"
   ]
  },
  {
   "cell_type": "markdown",
   "metadata": {},
   "source": [
    "<span style=\"color:brown\">**1.2 Обработка пропусков и дубликатов**</span>"
   ]
  },
  {
   "cell_type": "code",
   "execution_count": 7,
   "metadata": {},
   "outputs": [
    {
     "name": "stdout",
     "output_type": "stream",
     "text": [
      "--------------------------------------------------\n",
      "\n",
      " Найдено дубликатов в датасете: 0\n",
      " Количество пропущенных значений: 0 строк\n",
      "--------------------------------------------------\n",
      "\n",
      " Найдено дубликатов в датасете: 0\n",
      " Количество пропущенных значений: 0 строк\n",
      "--------------------------------------------------\n",
      "\n",
      " Найдено дубликатов в датасете: 0\n",
      " Количество пропущенных значений: 377577 строк\n",
      "--------------------------------------------------\n",
      "\n",
      " Найдено дубликатов в датасете: 0\n",
      " Количество пропущенных значений: 0 строк\n"
     ]
    }
   ],
   "source": [
    "# Напишем функцию вывода основных данных по датасетам и пропустим через цикл\n",
    "for df in [marketing_events, new_users, events, participants]:\n",
    "    print('-'*50)\n",
    "    print('\\n Найдено дубликатов в датасете: {}\\n'.format(df.duplicated().sum()), \n",
    "          \"Количество пропущенных значений: {} строк\".format(df.isnull().sum().sum())) "
   ]
  },
  {
   "cell_type": "markdown",
   "metadata": {},
   "source": [
    "**Итак,** дубликатов нет ни в одной таблице. Пропуски только в датасэте **events**, посмотрим, каких данных не хватает\n"
   ]
  },
  {
   "cell_type": "code",
   "execution_count": 8,
   "metadata": {},
   "outputs": [
    {
     "name": "stdout",
     "output_type": "stream",
     "text": [
      "<class 'pandas.core.frame.DataFrame'>\n",
      "RangeIndex: 440317 entries, 0 to 440316\n",
      "Data columns (total 4 columns):\n",
      " #   Column      Non-Null Count   Dtype         \n",
      "---  ------      --------------   -----         \n",
      " 0   user_id     440317 non-null  object        \n",
      " 1   event_dt    440317 non-null  datetime64[ns]\n",
      " 2   event_name  440317 non-null  object        \n",
      " 3   details     62740 non-null   float64       \n",
      "dtypes: datetime64[ns](1), float64(1), object(2)\n",
      "memory usage: 13.4+ MB\n"
     ]
    }
   ],
   "source": [
    "events.info()"
   ]
  },
  {
   "cell_type": "markdown",
   "metadata": {},
   "source": [
    "**Итак,** Пропуски в столбце **details**, в котором хранятся дополнительные данные о событии. Например, для покупок, **purchase**, в этом поле хранится стоимость покупки в долларах."
   ]
  },
  {
   "cell_type": "code",
   "execution_count": 9,
   "metadata": {},
   "outputs": [
    {
     "data": {
      "text/plain": [
       "login           189552\n",
       "product_page    125563\n",
       "purchase         62740\n",
       "product_cart     62462\n",
       "Name: event_name, dtype: int64"
      ]
     },
     "execution_count": 9,
     "metadata": {},
     "output_type": "execute_result"
    }
   ],
   "source": [
    "# посмотрим на типы событий в столбце 'event_name', так мы сможем понять есть ли связь типа purchase и пропусков\n",
    "events['event_name'].value_counts()"
   ]
  },
  {
   "cell_type": "markdown",
   "metadata": {},
   "source": [
    "**Итак,** Мы видим полное соответствие количества пропусков и количества событий без учета покупки **purchase**\n",
    "- 377577(количество пропусков)= 189552+ 125563+ 62462\n",
    "\n",
    "Оставляем пропуски как есть, ничего менять не нужно, данные отсутствуют потому что, не было дополнительной информации о событии"
   ]
  },
  {
   "cell_type": "markdown",
   "metadata": {},
   "source": [
    "### Оценка корректности проведения теста "
   ]
  },
  {
   "cell_type": "markdown",
   "metadata": {},
   "source": [
    "<span style=\"color:brown\">2.1 Соответствие данных требованиям технического задания</span>"
   ]
  },
  {
   "cell_type": "code",
   "execution_count": 10,
   "metadata": {},
   "outputs": [
    {
     "data": {
      "text/html": [
       "<div>\n",
       "<style scoped>\n",
       "    .dataframe tbody tr th:only-of-type {\n",
       "        vertical-align: middle;\n",
       "    }\n",
       "\n",
       "    .dataframe tbody tr th {\n",
       "        vertical-align: top;\n",
       "    }\n",
       "\n",
       "    .dataframe thead th {\n",
       "        text-align: right;\n",
       "    }\n",
       "</style>\n",
       "<table border=\"1\" class=\"dataframe\">\n",
       "  <thead>\n",
       "    <tr style=\"text-align: right;\">\n",
       "      <th></th>\n",
       "      <th>user_id</th>\n",
       "      <th>group</th>\n",
       "      <th>ab_test</th>\n",
       "    </tr>\n",
       "  </thead>\n",
       "  <tbody>\n",
       "    <tr>\n",
       "      <th>0</th>\n",
       "      <td>D1ABA3E2887B6A73</td>\n",
       "      <td>A</td>\n",
       "      <td>recommender_system_test</td>\n",
       "    </tr>\n",
       "    <tr>\n",
       "      <th>1</th>\n",
       "      <td>A7A3664BD6242119</td>\n",
       "      <td>A</td>\n",
       "      <td>recommender_system_test</td>\n",
       "    </tr>\n",
       "    <tr>\n",
       "      <th>2</th>\n",
       "      <td>DABC14FDDFADD29E</td>\n",
       "      <td>A</td>\n",
       "      <td>recommender_system_test</td>\n",
       "    </tr>\n",
       "    <tr>\n",
       "      <th>3</th>\n",
       "      <td>04988C5DF189632E</td>\n",
       "      <td>A</td>\n",
       "      <td>recommender_system_test</td>\n",
       "    </tr>\n",
       "    <tr>\n",
       "      <th>4</th>\n",
       "      <td>482F14783456D21B</td>\n",
       "      <td>B</td>\n",
       "      <td>recommender_system_test</td>\n",
       "    </tr>\n",
       "  </tbody>\n",
       "</table>\n",
       "</div>"
      ],
      "text/plain": [
       "            user_id group                  ab_test\n",
       "0  D1ABA3E2887B6A73     A  recommender_system_test\n",
       "1  A7A3664BD6242119     A  recommender_system_test\n",
       "2  DABC14FDDFADD29E     A  recommender_system_test\n",
       "3  04988C5DF189632E     A  recommender_system_test\n",
       "4  482F14783456D21B     B  recommender_system_test"
      ]
     },
     "execution_count": 10,
     "metadata": {},
     "output_type": "execute_result"
    }
   ],
   "source": [
    "# посмотрим на таблицу с данными участников тестов\n",
    "participants.head()"
   ]
  },
  {
   "cell_type": "markdown",
   "metadata": {},
   "source": [
    "**Итак,** \n",
    "- Название теста: **recommender_system_test** - корректное, информация по участникам этого теста есть\n",
    "- Группы: **А** — контрольная, **B** — новая платёжная воронка. Других групп нет в тесте"
   ]
  },
  {
   "cell_type": "markdown",
   "metadata": {},
   "source": [
    "<span style=\"color:brown\">2.2 Время проведения теста. Убедимся, что оно не совпадает с маркетинговыми и другими активностями</span>"
   ]
  },
  {
   "cell_type": "code",
   "execution_count": 11,
   "metadata": {},
   "outputs": [
    {
     "data": {
      "text/html": [
       "<div>\n",
       "<style scoped>\n",
       "    .dataframe tbody tr th:only-of-type {\n",
       "        vertical-align: middle;\n",
       "    }\n",
       "\n",
       "    .dataframe tbody tr th {\n",
       "        vertical-align: top;\n",
       "    }\n",
       "\n",
       "    .dataframe thead th {\n",
       "        text-align: right;\n",
       "    }\n",
       "</style>\n",
       "<table border=\"1\" class=\"dataframe\">\n",
       "  <thead>\n",
       "    <tr style=\"text-align: right;\">\n",
       "      <th></th>\n",
       "      <th>name</th>\n",
       "      <th>regions</th>\n",
       "      <th>start_dt</th>\n",
       "      <th>finish_dt</th>\n",
       "    </tr>\n",
       "  </thead>\n",
       "  <tbody>\n",
       "    <tr>\n",
       "      <th>6</th>\n",
       "      <td>Chinese New Year Promo</td>\n",
       "      <td>APAC</td>\n",
       "      <td>2020-01-25</td>\n",
       "      <td>2020-01-25</td>\n",
       "    </tr>\n",
       "    <tr>\n",
       "      <th>1</th>\n",
       "      <td>St. Valentine's Day Giveaway</td>\n",
       "      <td>EU, CIS, APAC, N.America</td>\n",
       "      <td>2020-02-14</td>\n",
       "      <td>2020-02-14</td>\n",
       "    </tr>\n",
       "    <tr>\n",
       "      <th>8</th>\n",
       "      <td>International Women's Day Promo</td>\n",
       "      <td>EU, CIS, APAC</td>\n",
       "      <td>2020-03-08</td>\n",
       "      <td>2020-03-08</td>\n",
       "    </tr>\n",
       "    <tr>\n",
       "      <th>2</th>\n",
       "      <td>St. Patric's Day Promo</td>\n",
       "      <td>EU, N.America</td>\n",
       "      <td>2020-03-17</td>\n",
       "      <td>2020-03-17</td>\n",
       "    </tr>\n",
       "    <tr>\n",
       "      <th>3</th>\n",
       "      <td>Easter Promo</td>\n",
       "      <td>EU, CIS, APAC, N.America</td>\n",
       "      <td>2020-04-12</td>\n",
       "      <td>2020-04-12</td>\n",
       "    </tr>\n",
       "    <tr>\n",
       "      <th>7</th>\n",
       "      <td>Labor day (May 1st) Ads Campaign</td>\n",
       "      <td>EU, CIS, APAC</td>\n",
       "      <td>2020-05-01</td>\n",
       "      <td>2020-05-01</td>\n",
       "    </tr>\n",
       "    <tr>\n",
       "      <th>9</th>\n",
       "      <td>Victory Day CIS (May 9th) Event</td>\n",
       "      <td>CIS</td>\n",
       "      <td>2020-05-09</td>\n",
       "      <td>2020-05-09</td>\n",
       "    </tr>\n",
       "    <tr>\n",
       "      <th>11</th>\n",
       "      <td>Dragon Boat Festival Giveaway</td>\n",
       "      <td>APAC</td>\n",
       "      <td>2020-06-25</td>\n",
       "      <td>2020-06-25</td>\n",
       "    </tr>\n",
       "    <tr>\n",
       "      <th>4</th>\n",
       "      <td>4th of July Promo</td>\n",
       "      <td>N.America</td>\n",
       "      <td>2020-07-04</td>\n",
       "      <td>2020-07-04</td>\n",
       "    </tr>\n",
       "    <tr>\n",
       "      <th>13</th>\n",
       "      <td>Chinese Moon Festival</td>\n",
       "      <td>APAC</td>\n",
       "      <td>2020-10-01</td>\n",
       "      <td>2020-10-01</td>\n",
       "    </tr>\n",
       "    <tr>\n",
       "      <th>12</th>\n",
       "      <td>Single's Day Gift Promo</td>\n",
       "      <td>APAC</td>\n",
       "      <td>2020-11-11</td>\n",
       "      <td>2020-11-11</td>\n",
       "    </tr>\n",
       "    <tr>\n",
       "      <th>5</th>\n",
       "      <td>Black Friday Ads Campaign</td>\n",
       "      <td>EU, CIS, APAC, N.America</td>\n",
       "      <td>2020-11-26</td>\n",
       "      <td>2020-11-26</td>\n",
       "    </tr>\n",
       "    <tr>\n",
       "      <th>0</th>\n",
       "      <td>Christmas&amp;New Year Promo</td>\n",
       "      <td>EU, N.America</td>\n",
       "      <td>2020-12-25</td>\n",
       "      <td>2020-12-25</td>\n",
       "    </tr>\n",
       "    <tr>\n",
       "      <th>10</th>\n",
       "      <td>CIS New Year Gift Lottery</td>\n",
       "      <td>CIS</td>\n",
       "      <td>2020-12-30</td>\n",
       "      <td>2020-12-30</td>\n",
       "    </tr>\n",
       "  </tbody>\n",
       "</table>\n",
       "</div>"
      ],
      "text/plain": [
       "                                name                   regions   start_dt  \\\n",
       "6             Chinese New Year Promo                      APAC 2020-01-25   \n",
       "1       St. Valentine's Day Giveaway  EU, CIS, APAC, N.America 2020-02-14   \n",
       "8    International Women's Day Promo             EU, CIS, APAC 2020-03-08   \n",
       "2             St. Patric's Day Promo             EU, N.America 2020-03-17   \n",
       "3                       Easter Promo  EU, CIS, APAC, N.America 2020-04-12   \n",
       "7   Labor day (May 1st) Ads Campaign             EU, CIS, APAC 2020-05-01   \n",
       "9    Victory Day CIS (May 9th) Event                       CIS 2020-05-09   \n",
       "11     Dragon Boat Festival Giveaway                      APAC 2020-06-25   \n",
       "4                  4th of July Promo                 N.America 2020-07-04   \n",
       "13             Chinese Moon Festival                      APAC 2020-10-01   \n",
       "12           Single's Day Gift Promo                      APAC 2020-11-11   \n",
       "5          Black Friday Ads Campaign  EU, CIS, APAC, N.America 2020-11-26   \n",
       "0           Christmas&New Year Promo             EU, N.America 2020-12-25   \n",
       "10         CIS New Year Gift Lottery                       CIS 2020-12-30   \n",
       "\n",
       "    finish_dt  \n",
       "6  2020-01-25  \n",
       "1  2020-02-14  \n",
       "8  2020-03-08  \n",
       "2  2020-03-17  \n",
       "3  2020-04-12  \n",
       "7  2020-05-01  \n",
       "9  2020-05-09  \n",
       "11 2020-06-25  \n",
       "4  2020-07-04  \n",
       "13 2020-10-01  \n",
       "12 2020-11-11  \n",
       "5  2020-11-26  \n",
       "0  2020-12-25  \n",
       "10 2020-12-30  "
      ]
     },
     "execution_count": 11,
     "metadata": {},
     "output_type": "execute_result"
    }
   ],
   "source": [
    "# посмотрим календарь маркетинговых событий на 2020 год в порядке времени их проведения  \n",
    "marketing_events.sort_values(by= 'start_dt', ascending= True)"
   ]
  },
  {
   "cell_type": "markdown",
   "metadata": {},
   "source": [
    "Согласно **условию ТЗ** период исследования: **с 07.12.2020 по 04.01.2021** года, поэтому проверим наличие маркетинговых мероприятий именнов этот временной промежуток"
   ]
  },
  {
   "cell_type": "code",
   "execution_count": 12,
   "metadata": {},
   "outputs": [
    {
     "data": {
      "text/html": [
       "<div>\n",
       "<style scoped>\n",
       "    .dataframe tbody tr th:only-of-type {\n",
       "        vertical-align: middle;\n",
       "    }\n",
       "\n",
       "    .dataframe tbody tr th {\n",
       "        vertical-align: top;\n",
       "    }\n",
       "\n",
       "    .dataframe thead th {\n",
       "        text-align: right;\n",
       "    }\n",
       "</style>\n",
       "<table border=\"1\" class=\"dataframe\">\n",
       "  <thead>\n",
       "    <tr style=\"text-align: right;\">\n",
       "      <th></th>\n",
       "      <th>name</th>\n",
       "      <th>regions</th>\n",
       "      <th>start_dt</th>\n",
       "      <th>finish_dt</th>\n",
       "    </tr>\n",
       "  </thead>\n",
       "  <tbody>\n",
       "    <tr>\n",
       "      <th>0</th>\n",
       "      <td>Christmas&amp;New Year Promo</td>\n",
       "      <td>EU, N.America</td>\n",
       "      <td>2020-12-25</td>\n",
       "      <td>2020-12-25</td>\n",
       "    </tr>\n",
       "    <tr>\n",
       "      <th>10</th>\n",
       "      <td>CIS New Year Gift Lottery</td>\n",
       "      <td>CIS</td>\n",
       "      <td>2020-12-30</td>\n",
       "      <td>2020-12-30</td>\n",
       "    </tr>\n",
       "  </tbody>\n",
       "</table>\n",
       "</div>"
      ],
      "text/plain": [
       "                         name        regions   start_dt  finish_dt\n",
       "0    Christmas&New Year Promo  EU, N.America 2020-12-25 2020-12-25\n",
       "10  CIS New Year Gift Lottery            CIS 2020-12-30 2020-12-30"
      ]
     },
     "execution_count": 12,
     "metadata": {},
     "output_type": "execute_result"
    }
   ],
   "source": [
    "# создадим новую таблицу пл интересующему временному диапазону\n",
    "marketing_events_new= marketing_events[(marketing_events['start_dt'] <= \"2021-01-04\") & \n",
    "                                          (marketing_events['finish_dt'] >= \"2020-12-07\")]\n",
    "marketing_events_new"
   ]
  },
  {
   "cell_type": "markdown",
   "metadata": {},
   "source": [
    "**Итак,** согласно условию ТЗ дата отановки должна быть 04.01.2021, но эксперимент закончился на 4 дня раньше, 30.12.2020."
   ]
  },
  {
   "cell_type": "code",
   "execution_count": 13,
   "metadata": {},
   "outputs": [
    {
     "name": "stdout",
     "output_type": "stream",
     "text": [
      "Период наблюдения: 23 days 23:36:00\n"
     ]
    }
   ],
   "source": [
    "print(f\"Период наблюдения: {events['event_dt'].max()- events['event_dt'].min()}\")"
   ]
  },
  {
   "cell_type": "markdown",
   "metadata": {},
   "source": [
    "**Вывод:** В период исследования проводилось две однодневных маркетинговых акции:\n",
    "\n",
    "- Первая: 25.12.20 в Европе и Северной Америке\n",
    "- Вторая: 30.12.20 в СНГ\n",
    "\n",
    "Эти акции прововдились в канун Рождества и Нового года, поэтому точно окажут влияние на поведение клиентов в это период с пролонгированым действием на начало следующего года."
   ]
  },
  {
   "cell_type": "markdown",
   "metadata": {},
   "source": [
    "<span style=\"color:brown\">2.3 Аудитория теста</span>"
   ]
  },
  {
   "cell_type": "markdown",
   "metadata": {},
   "source": [
    "- Проверим, что нет пересечений с конкурирующим тестом и нет пользователей, участвующих в двух группах теста одновременно.\n",
    "- Проверим равномерность распределения пользователей по тестовым группам и правильность их формирования."
   ]
  },
  {
   "cell_type": "code",
   "execution_count": 14,
   "metadata": {},
   "outputs": [
    {
     "data": {
      "text/html": [
       "<div>\n",
       "<style scoped>\n",
       "    .dataframe tbody tr th:only-of-type {\n",
       "        vertical-align: middle;\n",
       "    }\n",
       "\n",
       "    .dataframe tbody tr th {\n",
       "        vertical-align: top;\n",
       "    }\n",
       "\n",
       "    .dataframe thead th {\n",
       "        text-align: right;\n",
       "    }\n",
       "</style>\n",
       "<table border=\"1\" class=\"dataframe\">\n",
       "  <thead>\n",
       "    <tr style=\"text-align: right;\">\n",
       "      <th></th>\n",
       "      <th>user_id</th>\n",
       "      <th>group</th>\n",
       "    </tr>\n",
       "    <tr>\n",
       "      <th>ab_test</th>\n",
       "      <th></th>\n",
       "      <th></th>\n",
       "    </tr>\n",
       "  </thead>\n",
       "  <tbody>\n",
       "    <tr>\n",
       "      <th>interface_eu_test</th>\n",
       "      <td>11567</td>\n",
       "      <td>2</td>\n",
       "    </tr>\n",
       "    <tr>\n",
       "      <th>recommender_system_test</th>\n",
       "      <td>6701</td>\n",
       "      <td>2</td>\n",
       "    </tr>\n",
       "  </tbody>\n",
       "</table>\n",
       "</div>"
      ],
      "text/plain": [
       "                         user_id  group\n",
       "ab_test                                \n",
       "interface_eu_test          11567      2\n",
       "recommender_system_test     6701      2"
      ]
     },
     "execution_count": 14,
     "metadata": {},
     "output_type": "execute_result"
    }
   ],
   "source": [
    "# посмотрим сколько всего было тестов и участников\n",
    "participants.groupby('ab_test').nunique()"
   ]
  },
  {
   "cell_type": "markdown",
   "metadata": {},
   "source": [
    "**Итак,** проводилось 2 теста. Мы располагаем данными только по тесту **recommender_system_test**, про второй нам ничего не известно. По названию, можно предположить, что участвовал регион EU и, предположительно, связан с тестированием какого-то интерфейса."
   ]
  },
  {
   "cell_type": "code",
   "execution_count": 15,
   "metadata": {},
   "outputs": [
    {
     "data": {
      "text/plain": [
       "ab_test\n",
       "1          15064\n",
       "2           1602\n",
       "dtype: int64"
      ]
     },
     "execution_count": 15,
     "metadata": {},
     "output_type": "execute_result"
    }
   ],
   "source": [
    "# количество пользователей, которые состоят в одной или двух группах\n",
    "participants.groupby('user_id').agg({'ab_test':'nunique'}).value_counts()"
   ]
  },
  {
   "cell_type": "markdown",
   "metadata": {},
   "source": [
    "**Итак,** \n",
    "- 1602 уникальных пользователя приняли участие сразу в 2-ух тестах. Логично, что \"двойников\" нужно было бы исключить. \n",
    "- **НО!!!** нам неизвестно, в какие даты проходили эти тесты, возможно, и в разные, то есть не одновременно с нашим. \n",
    "- Допустим, что даже если и в одно время с нашим тестом, значит под него попали обе наши тестовые выборки, следовательно, влияние на ход экспериментов был равнозначным. \n",
    "- Поэтому, **удалять** этих пользователей мы **не будем**. \n",
    "- Оставим данные только для нашего теста, исключим участников второго теста"
   ]
  },
  {
   "cell_type": "code",
   "execution_count": 16,
   "metadata": {},
   "outputs": [
    {
     "data": {
      "text/html": [
       "<div>\n",
       "<style scoped>\n",
       "    .dataframe tbody tr th:only-of-type {\n",
       "        vertical-align: middle;\n",
       "    }\n",
       "\n",
       "    .dataframe tbody tr th {\n",
       "        vertical-align: top;\n",
       "    }\n",
       "\n",
       "    .dataframe thead th {\n",
       "        text-align: right;\n",
       "    }\n",
       "</style>\n",
       "<table border=\"1\" class=\"dataframe\">\n",
       "  <thead>\n",
       "    <tr style=\"text-align: right;\">\n",
       "      <th></th>\n",
       "      <th>user_id</th>\n",
       "      <th>group</th>\n",
       "      <th>ab_test</th>\n",
       "    </tr>\n",
       "  </thead>\n",
       "  <tbody>\n",
       "    <tr>\n",
       "      <th>0</th>\n",
       "      <td>D1ABA3E2887B6A73</td>\n",
       "      <td>A</td>\n",
       "      <td>recommender_system_test</td>\n",
       "    </tr>\n",
       "    <tr>\n",
       "      <th>1</th>\n",
       "      <td>A7A3664BD6242119</td>\n",
       "      <td>A</td>\n",
       "      <td>recommender_system_test</td>\n",
       "    </tr>\n",
       "    <tr>\n",
       "      <th>2</th>\n",
       "      <td>DABC14FDDFADD29E</td>\n",
       "      <td>A</td>\n",
       "      <td>recommender_system_test</td>\n",
       "    </tr>\n",
       "    <tr>\n",
       "      <th>3</th>\n",
       "      <td>04988C5DF189632E</td>\n",
       "      <td>A</td>\n",
       "      <td>recommender_system_test</td>\n",
       "    </tr>\n",
       "    <tr>\n",
       "      <th>4</th>\n",
       "      <td>482F14783456D21B</td>\n",
       "      <td>B</td>\n",
       "      <td>recommender_system_test</td>\n",
       "    </tr>\n",
       "    <tr>\n",
       "      <th>...</th>\n",
       "      <td>...</td>\n",
       "      <td>...</td>\n",
       "      <td>...</td>\n",
       "    </tr>\n",
       "    <tr>\n",
       "      <th>6696</th>\n",
       "      <td>053FB26D6D49EDDC</td>\n",
       "      <td>A</td>\n",
       "      <td>recommender_system_test</td>\n",
       "    </tr>\n",
       "    <tr>\n",
       "      <th>6697</th>\n",
       "      <td>9D263B8EF15CF188</td>\n",
       "      <td>B</td>\n",
       "      <td>recommender_system_test</td>\n",
       "    </tr>\n",
       "    <tr>\n",
       "      <th>6698</th>\n",
       "      <td>F2FBBA33F37DEC46</td>\n",
       "      <td>A</td>\n",
       "      <td>recommender_system_test</td>\n",
       "    </tr>\n",
       "    <tr>\n",
       "      <th>6699</th>\n",
       "      <td>29C92313A98B1176</td>\n",
       "      <td>B</td>\n",
       "      <td>recommender_system_test</td>\n",
       "    </tr>\n",
       "    <tr>\n",
       "      <th>6700</th>\n",
       "      <td>6715343AFBA285AE</td>\n",
       "      <td>B</td>\n",
       "      <td>recommender_system_test</td>\n",
       "    </tr>\n",
       "  </tbody>\n",
       "</table>\n",
       "<p>6701 rows × 3 columns</p>\n",
       "</div>"
      ],
      "text/plain": [
       "               user_id group                  ab_test\n",
       "0     D1ABA3E2887B6A73     A  recommender_system_test\n",
       "1     A7A3664BD6242119     A  recommender_system_test\n",
       "2     DABC14FDDFADD29E     A  recommender_system_test\n",
       "3     04988C5DF189632E     A  recommender_system_test\n",
       "4     482F14783456D21B     B  recommender_system_test\n",
       "...                ...   ...                      ...\n",
       "6696  053FB26D6D49EDDC     A  recommender_system_test\n",
       "6697  9D263B8EF15CF188     B  recommender_system_test\n",
       "6698  F2FBBA33F37DEC46     A  recommender_system_test\n",
       "6699  29C92313A98B1176     B  recommender_system_test\n",
       "6700  6715343AFBA285AE     B  recommender_system_test\n",
       "\n",
       "[6701 rows x 3 columns]"
      ]
     },
     "execution_count": 16,
     "metadata": {},
     "output_type": "execute_result"
    }
   ],
   "source": [
    "# сформируем новую таблицу с recommender_system_test\n",
    "participants_new= participants.loc[participants['ab_test'] == \"recommender_system_test\"]\n",
    "participants_new"
   ]
  },
  {
   "cell_type": "markdown",
   "metadata": {},
   "source": [
    "<font color='4682B4'> Петр, хороший комментарий! Я согласна, расскажу почему я всё-таки пошла по этому пути!\n",
    "\n",
    "Изначально, в первой итерации, я удалила этих пользователей, процент небольшой и я не стала сомневаться. Но вот дальше получились цифры, которые меня заставили посомневаться.🤔\n",
    "Во-первых, участников, действительно, стало меньше, чуть более 5000 (точную цифру не помню), и процент из EU тоже получился около 12, вместо заявленных 15. \n",
    "\n",
    "Я рассудила следующим образом: \"Ну, ОК. Лучше меньше, да лучше\" (качественее выборка). А вот когда я дошла до воронки и посмотрела на результаты гипотезы, мне не понравилось, что на всех этапах гипотеза была отвергнута. И результат теста оказался провальным. Поэтому стала думать, и пришла к такому выводу:\n",
    "    \n",
    "Обычная математика: если взять, например число 2 от 5, то это 40%, а если 2 от 10-ти, то это 20%. \n",
    "Так как я удалила этих Дублёров, соотношение в воронке сразу стало статистически значимым на каждом шаге.\n",
    "И я подумала о том, что может пойти по другому пути - не удалять по причинам, указанным выше в комментарии. Оказалось, что результат теста такой же, но воронка изменилась. Статистически значимой оказалась разница только на этапе перехода на экран продукта. И приняла решение оставить этот вариант, он показался мне более интересным в плане анализа)\n",
    "Вот так я прошла 2 итерации проекта.\n",
    "\n",
    "</font>"
   ]
  },
  {
   "cell_type": "markdown",
   "metadata": {},
   "source": [
    "**Итак,** одно из условий ТЗ - Ожидаемое количество участников теста: 6000. У нас их больше, то есть и это условие корректно."
   ]
  },
  {
   "cell_type": "code",
   "execution_count": 17,
   "metadata": {},
   "outputs": [
    {
     "data": {
      "text/html": [
       "<div>\n",
       "<style scoped>\n",
       "    .dataframe tbody tr th:only-of-type {\n",
       "        vertical-align: middle;\n",
       "    }\n",
       "\n",
       "    .dataframe tbody tr th {\n",
       "        vertical-align: top;\n",
       "    }\n",
       "\n",
       "    .dataframe thead th {\n",
       "        text-align: right;\n",
       "    }\n",
       "</style>\n",
       "<table border=\"1\" class=\"dataframe\">\n",
       "  <thead>\n",
       "    <tr style=\"text-align: right;\">\n",
       "      <th></th>\n",
       "      <th>user_id</th>\n",
       "      <th>first_date</th>\n",
       "      <th>region</th>\n",
       "      <th>device</th>\n",
       "    </tr>\n",
       "  </thead>\n",
       "  <tbody>\n",
       "    <tr>\n",
       "      <th>0</th>\n",
       "      <td>D72A72121175D8BE</td>\n",
       "      <td>2020-12-07</td>\n",
       "      <td>EU</td>\n",
       "      <td>PC</td>\n",
       "    </tr>\n",
       "    <tr>\n",
       "      <th>1</th>\n",
       "      <td>F1C668619DFE6E65</td>\n",
       "      <td>2020-12-07</td>\n",
       "      <td>N.America</td>\n",
       "      <td>Android</td>\n",
       "    </tr>\n",
       "    <tr>\n",
       "      <th>2</th>\n",
       "      <td>2E1BF1D4C37EA01F</td>\n",
       "      <td>2020-12-07</td>\n",
       "      <td>EU</td>\n",
       "      <td>PC</td>\n",
       "    </tr>\n",
       "    <tr>\n",
       "      <th>3</th>\n",
       "      <td>50734A22C0C63768</td>\n",
       "      <td>2020-12-07</td>\n",
       "      <td>EU</td>\n",
       "      <td>iPhone</td>\n",
       "    </tr>\n",
       "    <tr>\n",
       "      <th>4</th>\n",
       "      <td>E1BDDCE0DAFA2679</td>\n",
       "      <td>2020-12-07</td>\n",
       "      <td>N.America</td>\n",
       "      <td>iPhone</td>\n",
       "    </tr>\n",
       "  </tbody>\n",
       "</table>\n",
       "</div>"
      ],
      "text/plain": [
       "            user_id first_date     region   device\n",
       "0  D72A72121175D8BE 2020-12-07         EU       PC\n",
       "1  F1C668619DFE6E65 2020-12-07  N.America  Android\n",
       "2  2E1BF1D4C37EA01F 2020-12-07         EU       PC\n",
       "3  50734A22C0C63768 2020-12-07         EU   iPhone\n",
       "4  E1BDDCE0DAFA2679 2020-12-07  N.America   iPhone"
      ]
     },
     "execution_count": 17,
     "metadata": {},
     "output_type": "execute_result"
    }
   ],
   "source": [
    "# посмотрим на таблицу с пользователями, зарегистрировавшимися в ИМ в период с 7 по 21 декабря 2020 года\n",
    "new_users.head()"
   ]
  },
  {
   "cell_type": "markdown",
   "metadata": {},
   "source": [
    "Теперь нам нужно привести в соответствие данные, объединив таблицы по пользователям"
   ]
  },
  {
   "cell_type": "code",
   "execution_count": 18,
   "metadata": {},
   "outputs": [
    {
     "data": {
      "text/html": [
       "<div>\n",
       "<style scoped>\n",
       "    .dataframe tbody tr th:only-of-type {\n",
       "        vertical-align: middle;\n",
       "    }\n",
       "\n",
       "    .dataframe tbody tr th {\n",
       "        vertical-align: top;\n",
       "    }\n",
       "\n",
       "    .dataframe thead th {\n",
       "        text-align: right;\n",
       "    }\n",
       "</style>\n",
       "<table border=\"1\" class=\"dataframe\">\n",
       "  <thead>\n",
       "    <tr style=\"text-align: right;\">\n",
       "      <th></th>\n",
       "      <th>user_id</th>\n",
       "      <th>group</th>\n",
       "      <th>ab_test</th>\n",
       "      <th>first_date</th>\n",
       "      <th>region</th>\n",
       "      <th>device</th>\n",
       "    </tr>\n",
       "  </thead>\n",
       "  <tbody>\n",
       "    <tr>\n",
       "      <th>0</th>\n",
       "      <td>D1ABA3E2887B6A73</td>\n",
       "      <td>A</td>\n",
       "      <td>recommender_system_test</td>\n",
       "      <td>2020-12-07</td>\n",
       "      <td>EU</td>\n",
       "      <td>PC</td>\n",
       "    </tr>\n",
       "    <tr>\n",
       "      <th>1</th>\n",
       "      <td>A7A3664BD6242119</td>\n",
       "      <td>A</td>\n",
       "      <td>recommender_system_test</td>\n",
       "      <td>2020-12-20</td>\n",
       "      <td>EU</td>\n",
       "      <td>iPhone</td>\n",
       "    </tr>\n",
       "    <tr>\n",
       "      <th>2</th>\n",
       "      <td>DABC14FDDFADD29E</td>\n",
       "      <td>A</td>\n",
       "      <td>recommender_system_test</td>\n",
       "      <td>2020-12-08</td>\n",
       "      <td>EU</td>\n",
       "      <td>Mac</td>\n",
       "    </tr>\n",
       "    <tr>\n",
       "      <th>3</th>\n",
       "      <td>04988C5DF189632E</td>\n",
       "      <td>A</td>\n",
       "      <td>recommender_system_test</td>\n",
       "      <td>2020-12-14</td>\n",
       "      <td>EU</td>\n",
       "      <td>iPhone</td>\n",
       "    </tr>\n",
       "    <tr>\n",
       "      <th>4</th>\n",
       "      <td>482F14783456D21B</td>\n",
       "      <td>B</td>\n",
       "      <td>recommender_system_test</td>\n",
       "      <td>2020-12-14</td>\n",
       "      <td>EU</td>\n",
       "      <td>PC</td>\n",
       "    </tr>\n",
       "  </tbody>\n",
       "</table>\n",
       "</div>"
      ],
      "text/plain": [
       "            user_id group                  ab_test first_date region  device\n",
       "0  D1ABA3E2887B6A73     A  recommender_system_test 2020-12-07     EU      PC\n",
       "1  A7A3664BD6242119     A  recommender_system_test 2020-12-20     EU  iPhone\n",
       "2  DABC14FDDFADD29E     A  recommender_system_test 2020-12-08     EU     Mac\n",
       "3  04988C5DF189632E     A  recommender_system_test 2020-12-14     EU  iPhone\n",
       "4  482F14783456D21B     B  recommender_system_test 2020-12-14     EU      PC"
      ]
     },
     "execution_count": 18,
     "metadata": {},
     "output_type": "execute_result"
    }
   ],
   "source": [
    "# объединим таблицы participants_new и new_users_correct по столбцу user_id\n",
    "participants_users= pd.merge(participants_new, new_users, on = 'user_id')\n",
    "participants_users.head()"
   ]
  },
  {
   "cell_type": "markdown",
   "metadata": {},
   "source": [
    "Проверим следующее условие ТЗ - Аудитория: 15% новых пользователей из региона EU. Для это посмотрим откуда, из какого региона участники нашего эксперимента"
   ]
  },
  {
   "cell_type": "code",
   "execution_count": 19,
   "metadata": {},
   "outputs": [
    {
     "data": {
      "text/plain": [
       "EU           6351\n",
       "N.America     223\n",
       "APAC           72\n",
       "CIS            55\n",
       "Name: region, dtype: int64"
      ]
     },
     "execution_count": 19,
     "metadata": {},
     "output_type": "execute_result"
    }
   ],
   "source": [
    "# количество пользователей в разных регионах \n",
    "participants_users[participants_users['user_id'].isin(participants['user_id'])]['region'].value_counts()"
   ]
  },
  {
   "cell_type": "markdown",
   "metadata": {},
   "source": [
    "**Итак,** \n",
    "- В тесте участвуют люди не только их региона EU. Исключим этих пользователей, чтобы тест соответствовал ТЗ. \n",
    "- Останется 6351 пользователь из региона **EU** ."
   ]
  },
  {
   "cell_type": "code",
   "execution_count": 20,
   "metadata": {},
   "outputs": [],
   "source": [
    "# пользователи из региона EU\n",
    "eu_users= new_users.query('region == \"EU\"')"
   ]
  },
  {
   "cell_type": "code",
   "execution_count": 21,
   "metadata": {},
   "outputs": [
    {
     "name": "stdout",
     "output_type": "stream",
     "text": [
      "Количество пользователей из региона EU: 6351\n",
      "Доля новых пользователей из региона EU: 14.5 %\n"
     ]
    }
   ],
   "source": [
    "# доля пользователей, участвующих в тесте\n",
    "print('Количество пользователей из региона EU:', len(participants_users.query('region == \"EU\"')))\n",
    "print('Доля новых пользователей из региона EU:', round(((participants_users['user_id'].count()/ eu_users['user_id'].count())*100),1), '%')"
   ]
  },
  {
   "cell_type": "markdown",
   "metadata": {},
   "source": [
    "**Итак,** с этим требованием ТЗ тоже всё в порядке, почти **15%** (0,5% погрешность ) новых пользователей **из региона EU**"
   ]
  },
  {
   "cell_type": "code",
   "execution_count": 22,
   "metadata": {},
   "outputs": [
    {
     "name": "stdout",
     "output_type": "stream",
     "text": [
      "Даты прведения эксперимента: 2020-12-07 00:00:00 по 2020-12-21 00:00:00\n",
      "Временной промежуток эксперимента: 14 days 00:00:00\n"
     ]
    }
   ],
   "source": [
    "# посмотрим на период данных нашего теста, соответствует ли и он ТЗ\n",
    "print(f\"Даты прведения эксперимента: {participants_users['first_date'].min()} по {participants_users['first_date'].max()}\")\n",
    "print(f\"Временной промежуток эксперимента: {participants_users['first_date'].max() - participants_users['first_date'].min()}\")"
   ]
  },
  {
   "cell_type": "code",
   "execution_count": 23,
   "metadata": {},
   "outputs": [
    {
     "data": {
      "text/html": [
       "<div>\n",
       "<style scoped>\n",
       "    .dataframe tbody tr th:only-of-type {\n",
       "        vertical-align: middle;\n",
       "    }\n",
       "\n",
       "    .dataframe tbody tr th {\n",
       "        vertical-align: top;\n",
       "    }\n",
       "\n",
       "    .dataframe thead th {\n",
       "        text-align: right;\n",
       "    }\n",
       "</style>\n",
       "<table border=\"1\" class=\"dataframe\">\n",
       "  <thead>\n",
       "    <tr style=\"text-align: right;\">\n",
       "      <th></th>\n",
       "      <th>test_group</th>\n",
       "      <th>users</th>\n",
       "      <th>%_of_all_users</th>\n",
       "    </tr>\n",
       "  </thead>\n",
       "  <tbody>\n",
       "    <tr>\n",
       "      <th>0</th>\n",
       "      <td>A</td>\n",
       "      <td>3824</td>\n",
       "      <td>0.57</td>\n",
       "    </tr>\n",
       "    <tr>\n",
       "      <th>1</th>\n",
       "      <td>B</td>\n",
       "      <td>2877</td>\n",
       "      <td>0.43</td>\n",
       "    </tr>\n",
       "  </tbody>\n",
       "</table>\n",
       "</div>"
      ],
      "text/plain": [
       "  test_group  users  %_of_all_users\n",
       "0          A   3824            0.57\n",
       "1          B   2877            0.43"
      ]
     },
     "execution_count": 23,
     "metadata": {},
     "output_type": "execute_result"
    }
   ],
   "source": [
    "# посмотрим на распределение участников групп эксперимента\n",
    "participants_group = participants_users.groupby('group') \\\n",
    ".agg({'user_id': 'nunique'}).reset_index()\n",
    "participants_group.columns = ['test_group', 'users']\n",
    "participants_group['%_of_all_users'] = (participants_group['users']/participants_group['users'].sum()).round(2)\n",
    "participants_group"
   ]
  },
  {
   "cell_type": "markdown",
   "metadata": {},
   "source": [
    "**Итак,** распределение по группам неравномерное, разница почти в 20%."
   ]
  },
  {
   "cell_type": "markdown",
   "metadata": {},
   "source": [
    "**Вывод:**\n",
    "- Мы проверили данные на соответствие ТЗ и выяснили, что:\n",
    "- **Соответствует ТЗ**\n",
    "1. Название теста: recommender_system_test \n",
    "2. Группы: А — контрольная, B — новая платёжная воронка. Других групп нет в тесте \n",
    "3. Дата запуска: 2020-12-07 \n",
    "4. Дата остановки набора новых пользователей: 2020-12-21 \n",
    "5. Доля новых пользователей из региона EU без погрешности в 0,5% составляет 15%\n",
    "6. В эксперименте принимают участие 6701 пользователей при ожидаемых 6000 \n",
    "\n",
    "- **Не соответствует ТЗ**\n",
    "1. Дата остановки: 2021-01-04. Тест остановлен 30 Декабря 2020, данные за оставшиеся 5 дней не собирались или были утеряны.\n",
    "2. Есть пользователи - \"двойники\", 1602 посетителя участвовали сразу в 2-ух тестовых группах\n",
    "9. Распределение участников по тестовым группам неравномерное. В контрольной группе \"А\" 57% пользователей, в группе \"В\" соотвественно, 43%.  \n",
    "\n",
    "Можно приступать к исследованию"
   ]
  },
  {
   "cell_type": "markdown",
   "metadata": {},
   "source": [
    "### Исследовательский анализ данных"
   ]
  },
  {
   "cell_type": "markdown",
   "metadata": {},
   "source": [
    "<span style=\"color:brown\">3.1 Каково распределение количества событий на пользователя в выборках</span>"
   ]
  },
  {
   "cell_type": "code",
   "execution_count": 24,
   "metadata": {},
   "outputs": [
    {
     "data": {
      "text/html": [
       "<div>\n",
       "<style scoped>\n",
       "    .dataframe tbody tr th:only-of-type {\n",
       "        vertical-align: middle;\n",
       "    }\n",
       "\n",
       "    .dataframe tbody tr th {\n",
       "        vertical-align: top;\n",
       "    }\n",
       "\n",
       "    .dataframe thead th {\n",
       "        text-align: right;\n",
       "    }\n",
       "</style>\n",
       "<table border=\"1\" class=\"dataframe\">\n",
       "  <thead>\n",
       "    <tr style=\"text-align: right;\">\n",
       "      <th></th>\n",
       "      <th>user_id</th>\n",
       "      <th>event_dt</th>\n",
       "      <th>event_name</th>\n",
       "      <th>details</th>\n",
       "    </tr>\n",
       "  </thead>\n",
       "  <tbody>\n",
       "    <tr>\n",
       "      <th>0</th>\n",
       "      <td>E1BDDCE0DAFA2679</td>\n",
       "      <td>2020-12-07 20:22:03</td>\n",
       "      <td>purchase</td>\n",
       "      <td>99.99</td>\n",
       "    </tr>\n",
       "    <tr>\n",
       "      <th>1</th>\n",
       "      <td>7B6452F081F49504</td>\n",
       "      <td>2020-12-07 09:22:53</td>\n",
       "      <td>purchase</td>\n",
       "      <td>9.99</td>\n",
       "    </tr>\n",
       "    <tr>\n",
       "      <th>2</th>\n",
       "      <td>9CD9F34546DF254C</td>\n",
       "      <td>2020-12-07 12:59:29</td>\n",
       "      <td>purchase</td>\n",
       "      <td>4.99</td>\n",
       "    </tr>\n",
       "    <tr>\n",
       "      <th>3</th>\n",
       "      <td>96F27A054B191457</td>\n",
       "      <td>2020-12-07 04:02:40</td>\n",
       "      <td>purchase</td>\n",
       "      <td>4.99</td>\n",
       "    </tr>\n",
       "    <tr>\n",
       "      <th>4</th>\n",
       "      <td>1FD7660FDF94CA1F</td>\n",
       "      <td>2020-12-07 10:15:09</td>\n",
       "      <td>purchase</td>\n",
       "      <td>4.99</td>\n",
       "    </tr>\n",
       "  </tbody>\n",
       "</table>\n",
       "</div>"
      ],
      "text/plain": [
       "            user_id            event_dt event_name  details\n",
       "0  E1BDDCE0DAFA2679 2020-12-07 20:22:03   purchase    99.99\n",
       "1  7B6452F081F49504 2020-12-07 09:22:53   purchase     9.99\n",
       "2  9CD9F34546DF254C 2020-12-07 12:59:29   purchase     4.99\n",
       "3  96F27A054B191457 2020-12-07 04:02:40   purchase     4.99\n",
       "4  1FD7660FDF94CA1F 2020-12-07 10:15:09   purchase     4.99"
      ]
     },
     "execution_count": 24,
     "metadata": {},
     "output_type": "execute_result"
    }
   ],
   "source": [
    "# нас интресует таблица с данными о событиях events\n",
    "events.head()"
   ]
  },
  {
   "cell_type": "code",
   "execution_count": 25,
   "metadata": {},
   "outputs": [
    {
     "data": {
      "text/html": [
       "<div>\n",
       "<style scoped>\n",
       "    .dataframe tbody tr th:only-of-type {\n",
       "        vertical-align: middle;\n",
       "    }\n",
       "\n",
       "    .dataframe tbody tr th {\n",
       "        vertical-align: top;\n",
       "    }\n",
       "\n",
       "    .dataframe thead th {\n",
       "        text-align: right;\n",
       "    }\n",
       "</style>\n",
       "<table border=\"1\" class=\"dataframe\">\n",
       "  <thead>\n",
       "    <tr style=\"text-align: right;\">\n",
       "      <th></th>\n",
       "      <th>user_id</th>\n",
       "      <th>group</th>\n",
       "      <th>ab_test</th>\n",
       "      <th>first_date</th>\n",
       "      <th>region</th>\n",
       "      <th>device</th>\n",
       "    </tr>\n",
       "  </thead>\n",
       "  <tbody>\n",
       "    <tr>\n",
       "      <th>0</th>\n",
       "      <td>D1ABA3E2887B6A73</td>\n",
       "      <td>A</td>\n",
       "      <td>recommender_system_test</td>\n",
       "      <td>2020-12-07</td>\n",
       "      <td>EU</td>\n",
       "      <td>PC</td>\n",
       "    </tr>\n",
       "    <tr>\n",
       "      <th>1</th>\n",
       "      <td>A7A3664BD6242119</td>\n",
       "      <td>A</td>\n",
       "      <td>recommender_system_test</td>\n",
       "      <td>2020-12-20</td>\n",
       "      <td>EU</td>\n",
       "      <td>iPhone</td>\n",
       "    </tr>\n",
       "    <tr>\n",
       "      <th>2</th>\n",
       "      <td>DABC14FDDFADD29E</td>\n",
       "      <td>A</td>\n",
       "      <td>recommender_system_test</td>\n",
       "      <td>2020-12-08</td>\n",
       "      <td>EU</td>\n",
       "      <td>Mac</td>\n",
       "    </tr>\n",
       "  </tbody>\n",
       "</table>\n",
       "</div>"
      ],
      "text/plain": [
       "            user_id group                  ab_test first_date region  device\n",
       "0  D1ABA3E2887B6A73     A  recommender_system_test 2020-12-07     EU      PC\n",
       "1  A7A3664BD6242119     A  recommender_system_test 2020-12-20     EU  iPhone\n",
       "2  DABC14FDDFADD29E     A  recommender_system_test 2020-12-08     EU     Mac"
      ]
     },
     "execution_count": 25,
     "metadata": {},
     "output_type": "execute_result"
    }
   ],
   "source": [
    "# есть ранее сформированная нами таблица participants_users\n",
    "participants_users.head(3)"
   ]
  },
  {
   "cell_type": "markdown",
   "metadata": {},
   "source": [
    "В таблице есть:\n",
    "- дата регистрации\n",
    "- девайс(устройство, с которого прошла регистрация пользователя).\n",
    "- По этим ддвум метрикам можно посмотреть распределение участников, есть ли какая-то зависимость/зокномерность"
   ]
  },
  {
   "cell_type": "code",
   "execution_count": 26,
   "metadata": {},
   "outputs": [
    {
     "data": {
      "image/png": "[encoded data removed]",
      "text/plain": [
       "<Figure size 720x360 with 1 Axes>"
      ]
     },
     "metadata": {
      "needs_background": "light"
     },
     "output_type": "display_data"
    }
   ],
   "source": [
    "# распределение участников по дате регистрации\n",
    "participants_users.pivot_table(index='first_date', \n",
    "                     columns='group', \n",
    "                     values='user_id', \n",
    "                     aggfunc='nunique').plot(kind='bar', figsize=(10, 5))\n",
    "plt.grid()\n",
    "plt.xticks(rotation=90)\n",
    "plt.title('Соотношение участников групп по дате регистрации')\n",
    "plt.xlabel('Дата регистрации')\n",
    "plt.ylabel('Количество пользователей')\n",
    "plt.legend(title=' Группа ', framealpha= 1)\n",
    "plt.show()"
   ]
  },
  {
   "cell_type": "markdown",
   "metadata": {},
   "source": [
    "Из графика видно, что относительная разница **между группами А и В** приблизительно одинакова. Исключение только 10 декабря,  пользователей из группы \"В\" в этот день зарегистрировалось больше."
   ]
  },
  {
   "cell_type": "code",
   "execution_count": 27,
   "metadata": {},
   "outputs": [
    {
     "data": {
      "image/png": "[encoded data removed]",
      "text/plain": [
       "<Figure size 720x360 with 1 Axes>"
      ]
     },
     "metadata": {
      "needs_background": "light"
     },
     "output_type": "display_data"
    }
   ],
   "source": [
    "# посмотрим на распределение участников по устройствам\n",
    "participants_users.pivot_table(index='device', \n",
    "                     columns='group', \n",
    "                     values='user_id', \n",
    "                     aggfunc='nunique').plot(kind='bar', figsize=(10, 5))\n",
    "plt.grid()\n",
    "plt.xticks(rotation=0)\n",
    "plt.title('Соотношение участников групп по устройствам')\n",
    "plt.xlabel('Устройство')\n",
    "plt.ylabel('Количество пользователей')\n",
    "plt.legend(title=' Группа ', framealpha= 1)\n",
    "plt.show()"
   ]
  },
  {
   "cell_type": "markdown",
   "metadata": {},
   "source": [
    "Относительная разницу между группами также приблизительно одинакова между пользователями разных **устройств**.\n",
    "\n",
    "Эта информация гоаорит о том, что группы,хоть и различны, по количеству участников, но соотношение между группами по эти двум метрикам равнозначное. На дальнейший ход исследования эти метрики не повлияют, но проверить было интересно!!!\n",
    "\n",
    "Далее посмотрим на рспрелделение событий по дням и пользователям."
   ]
  },
  {
   "cell_type": "markdown",
   "metadata": {},
   "source": [
    "<span style=\"color:brown\">3.2 Как число событий в выборках распределено по дням</span>"
   ]
  },
  {
   "cell_type": "markdown",
   "metadata": {},
   "source": [
    "Теперь нужно соотнести сбытия с пользователями, объединим эти 2 таблицы снова по **user_id** и посмотрим распределение количества событий по дням"
   ]
  },
  {
   "cell_type": "code",
   "execution_count": 28,
   "metadata": {},
   "outputs": [
    {
     "data": {
      "text/html": [
       "<div>\n",
       "<style scoped>\n",
       "    .dataframe tbody tr th:only-of-type {\n",
       "        vertical-align: middle;\n",
       "    }\n",
       "\n",
       "    .dataframe tbody tr th {\n",
       "        vertical-align: top;\n",
       "    }\n",
       "\n",
       "    .dataframe thead th {\n",
       "        text-align: right;\n",
       "    }\n",
       "</style>\n",
       "<table border=\"1\" class=\"dataframe\">\n",
       "  <thead>\n",
       "    <tr style=\"text-align: right;\">\n",
       "      <th></th>\n",
       "      <th>user_id</th>\n",
       "      <th>group</th>\n",
       "      <th>ab_test</th>\n",
       "      <th>first_date</th>\n",
       "      <th>region</th>\n",
       "      <th>device</th>\n",
       "      <th>event_dt</th>\n",
       "      <th>event_name</th>\n",
       "      <th>details</th>\n",
       "    </tr>\n",
       "  </thead>\n",
       "  <tbody>\n",
       "    <tr>\n",
       "      <th>0</th>\n",
       "      <td>D1ABA3E2887B6A73</td>\n",
       "      <td>A</td>\n",
       "      <td>recommender_system_test</td>\n",
       "      <td>2020-12-07</td>\n",
       "      <td>EU</td>\n",
       "      <td>PC</td>\n",
       "      <td>2020-12-07 14:43:27</td>\n",
       "      <td>purchase</td>\n",
       "      <td>99.99</td>\n",
       "    </tr>\n",
       "    <tr>\n",
       "      <th>1</th>\n",
       "      <td>D1ABA3E2887B6A73</td>\n",
       "      <td>A</td>\n",
       "      <td>recommender_system_test</td>\n",
       "      <td>2020-12-07</td>\n",
       "      <td>EU</td>\n",
       "      <td>PC</td>\n",
       "      <td>2020-12-25 00:04:56</td>\n",
       "      <td>purchase</td>\n",
       "      <td>4.99</td>\n",
       "    </tr>\n",
       "    <tr>\n",
       "      <th>2</th>\n",
       "      <td>D1ABA3E2887B6A73</td>\n",
       "      <td>A</td>\n",
       "      <td>recommender_system_test</td>\n",
       "      <td>2020-12-07</td>\n",
       "      <td>EU</td>\n",
       "      <td>PC</td>\n",
       "      <td>2020-12-07 14:43:29</td>\n",
       "      <td>product_cart</td>\n",
       "      <td>NaN</td>\n",
       "    </tr>\n",
       "    <tr>\n",
       "      <th>3</th>\n",
       "      <td>D1ABA3E2887B6A73</td>\n",
       "      <td>A</td>\n",
       "      <td>recommender_system_test</td>\n",
       "      <td>2020-12-07</td>\n",
       "      <td>EU</td>\n",
       "      <td>PC</td>\n",
       "      <td>2020-12-25 00:04:57</td>\n",
       "      <td>product_cart</td>\n",
       "      <td>NaN</td>\n",
       "    </tr>\n",
       "    <tr>\n",
       "      <th>4</th>\n",
       "      <td>D1ABA3E2887B6A73</td>\n",
       "      <td>A</td>\n",
       "      <td>recommender_system_test</td>\n",
       "      <td>2020-12-07</td>\n",
       "      <td>EU</td>\n",
       "      <td>PC</td>\n",
       "      <td>2020-12-07 14:43:27</td>\n",
       "      <td>product_page</td>\n",
       "      <td>NaN</td>\n",
       "    </tr>\n",
       "  </tbody>\n",
       "</table>\n",
       "</div>"
      ],
      "text/plain": [
       "            user_id group                  ab_test first_date region device  \\\n",
       "0  D1ABA3E2887B6A73     A  recommender_system_test 2020-12-07     EU     PC   \n",
       "1  D1ABA3E2887B6A73     A  recommender_system_test 2020-12-07     EU     PC   \n",
       "2  D1ABA3E2887B6A73     A  recommender_system_test 2020-12-07     EU     PC   \n",
       "3  D1ABA3E2887B6A73     A  recommender_system_test 2020-12-07     EU     PC   \n",
       "4  D1ABA3E2887B6A73     A  recommender_system_test 2020-12-07     EU     PC   \n",
       "\n",
       "             event_dt    event_name  details  \n",
       "0 2020-12-07 14:43:27      purchase    99.99  \n",
       "1 2020-12-25 00:04:56      purchase     4.99  \n",
       "2 2020-12-07 14:43:29  product_cart      NaN  \n",
       "3 2020-12-25 00:04:57  product_cart      NaN  \n",
       "4 2020-12-07 14:43:27  product_page      NaN  "
      ]
     },
     "execution_count": 28,
     "metadata": {},
     "output_type": "execute_result"
    }
   ],
   "source": [
    "# объединяем participants_users и events(данные о всех событиях)\n",
    "participants_users_events = pd.merge(participants_users, events, on = 'user_id', how='left')\n",
    "participants_users_events.head()"
   ]
  },
  {
   "cell_type": "code",
   "execution_count": 29,
   "metadata": {},
   "outputs": [
    {
     "data": {
      "image/png": "[encoded data removed]",
      "text/plain": [
       "<Figure size 720x360 with 1 Axes>"
      ]
     },
     "metadata": {
      "needs_background": "light"
     },
     "output_type": "display_data"
    }
   ],
   "source": [
    "# визуализируем, построим график количества всех событий всех пользователей по дням\n",
    "plt.figure(figsize= (10, 5))\n",
    "plt.hist(participants_users_events['event_dt'], color='tan', bins = 30)\n",
    "plt.xlabel('Дата', fontsize= 12)\n",
    "plt.ylabel('Количество событий', fontsize=12)\n",
    "plt.title('Распределение количества событий пользователей по дням', fontsize= 15)\n",
    "plt.grid()\n",
    "plt.show()"
   ]
  },
  {
   "cell_type": "markdown",
   "metadata": {},
   "source": [
    "**Итак,** \n",
    "- Из графика видно, что \"старт\" начался ориентировочно с 550 пользователей \n",
    "- **14-12-2020** резкий всплеск активности\n",
    "- \"пик\" приходится на дату **22-12-2020**\n",
    "- и в конце эксперимента(ориентирв) резкое \"падение\" значений\n",
    "\n",
    "Посмотрим сколько записей в последний день наблюдения **30-12-2020**"
   ]
  },
  {
   "cell_type": "code",
   "execution_count": 30,
   "metadata": {},
   "outputs": [
    {
     "data": {
      "text/html": [
       "<div>\n",
       "<style scoped>\n",
       "    .dataframe tbody tr th:only-of-type {\n",
       "        vertical-align: middle;\n",
       "    }\n",
       "\n",
       "    .dataframe tbody tr th {\n",
       "        vertical-align: top;\n",
       "    }\n",
       "\n",
       "    .dataframe thead th {\n",
       "        text-align: right;\n",
       "    }\n",
       "</style>\n",
       "<table border=\"1\" class=\"dataframe\">\n",
       "  <thead>\n",
       "    <tr style=\"text-align: right;\">\n",
       "      <th></th>\n",
       "      <th>user_id</th>\n",
       "      <th>group</th>\n",
       "      <th>ab_test</th>\n",
       "      <th>first_date</th>\n",
       "      <th>region</th>\n",
       "      <th>device</th>\n",
       "      <th>event_dt</th>\n",
       "      <th>event_name</th>\n",
       "      <th>details</th>\n",
       "    </tr>\n",
       "  </thead>\n",
       "  <tbody>\n",
       "    <tr>\n",
       "      <th>4391</th>\n",
       "      <td>75845C83258FBF73</td>\n",
       "      <td>B</td>\n",
       "      <td>recommender_system_test</td>\n",
       "      <td>2020-12-07</td>\n",
       "      <td>EU</td>\n",
       "      <td>Android</td>\n",
       "      <td>2020-12-30 06:42:52</td>\n",
       "      <td>product_cart</td>\n",
       "      <td>NaN</td>\n",
       "    </tr>\n",
       "    <tr>\n",
       "      <th>4395</th>\n",
       "      <td>75845C83258FBF73</td>\n",
       "      <td>B</td>\n",
       "      <td>recommender_system_test</td>\n",
       "      <td>2020-12-07</td>\n",
       "      <td>EU</td>\n",
       "      <td>Android</td>\n",
       "      <td>2020-12-30 06:42:52</td>\n",
       "      <td>login</td>\n",
       "      <td>NaN</td>\n",
       "    </tr>\n",
       "    <tr>\n",
       "      <th>25493</th>\n",
       "      <td>DD4352CDCF8C3D57</td>\n",
       "      <td>B</td>\n",
       "      <td>recommender_system_test</td>\n",
       "      <td>2020-12-07</td>\n",
       "      <td>EU</td>\n",
       "      <td>Android</td>\n",
       "      <td>2020-12-30 12:42:57</td>\n",
       "      <td>product_page</td>\n",
       "      <td>NaN</td>\n",
       "    </tr>\n",
       "    <tr>\n",
       "      <th>25499</th>\n",
       "      <td>DD4352CDCF8C3D57</td>\n",
       "      <td>B</td>\n",
       "      <td>recommender_system_test</td>\n",
       "      <td>2020-12-07</td>\n",
       "      <td>EU</td>\n",
       "      <td>Android</td>\n",
       "      <td>2020-12-30 12:42:56</td>\n",
       "      <td>login</td>\n",
       "      <td>NaN</td>\n",
       "    </tr>\n",
       "  </tbody>\n",
       "</table>\n",
       "</div>"
      ],
      "text/plain": [
       "                user_id group                  ab_test first_date region  \\\n",
       "4391   75845C83258FBF73     B  recommender_system_test 2020-12-07     EU   \n",
       "4395   75845C83258FBF73     B  recommender_system_test 2020-12-07     EU   \n",
       "25493  DD4352CDCF8C3D57     B  recommender_system_test 2020-12-07     EU   \n",
       "25499  DD4352CDCF8C3D57     B  recommender_system_test 2020-12-07     EU   \n",
       "\n",
       "        device            event_dt    event_name  details  \n",
       "4391   Android 2020-12-30 06:42:52  product_cart      NaN  \n",
       "4395   Android 2020-12-30 06:42:52         login      NaN  \n",
       "25493  Android 2020-12-30 12:42:57  product_page      NaN  \n",
       "25499  Android 2020-12-30 12:42:56         login      NaN  "
      ]
     },
     "execution_count": 30,
     "metadata": {},
     "output_type": "execute_result"
    }
   ],
   "source": [
    "participants_users_events.query('event_dt >= \"2020-12-30\"')"
   ]
  },
  {
   "cell_type": "markdown",
   "metadata": {},
   "source": [
    "Как мы и предполагали: **30-12-2020 всего 4 события**, что делает результаты сравнения с другими днями нерелевантными. Удалим их."
   ]
  },
  {
   "cell_type": "code",
   "execution_count": 31,
   "metadata": {},
   "outputs": [],
   "source": [
    "# перезапишем датасет исключив аномальную дату\n",
    "participants_users_events = participants_users_events.query('event_dt < \"2020-12-30\"')"
   ]
  },
  {
   "cell_type": "code",
   "execution_count": 32,
   "metadata": {},
   "outputs": [
    {
     "data": {
      "text/html": [
       "<div>\n",
       "<style scoped>\n",
       "    .dataframe tbody tr th:only-of-type {\n",
       "        vertical-align: middle;\n",
       "    }\n",
       "\n",
       "    .dataframe tbody tr th {\n",
       "        vertical-align: top;\n",
       "    }\n",
       "\n",
       "    .dataframe thead th {\n",
       "        text-align: right;\n",
       "    }\n",
       "</style>\n",
       "<table border=\"1\" class=\"dataframe\">\n",
       "  <thead>\n",
       "    <tr style=\"text-align: right;\">\n",
       "      <th></th>\n",
       "      <th>user_id</th>\n",
       "      <th>group</th>\n",
       "      <th>event_name</th>\n",
       "    </tr>\n",
       "  </thead>\n",
       "  <tbody>\n",
       "    <tr>\n",
       "      <th>233</th>\n",
       "      <td>1198061F6AF34B7B</td>\n",
       "      <td>B</td>\n",
       "      <td>28</td>\n",
       "    </tr>\n",
       "    <tr>\n",
       "      <th>229</th>\n",
       "      <td>115EBC1CA027854A</td>\n",
       "      <td>B</td>\n",
       "      <td>27</td>\n",
       "    </tr>\n",
       "    <tr>\n",
       "      <th>404</th>\n",
       "      <td>1BFEE479308EFF44</td>\n",
       "      <td>A</td>\n",
       "      <td>24</td>\n",
       "    </tr>\n",
       "    <tr>\n",
       "      <th>2984</th>\n",
       "      <td>CED71698585A2E46</td>\n",
       "      <td>A</td>\n",
       "      <td>24</td>\n",
       "    </tr>\n",
       "    <tr>\n",
       "      <th>2660</th>\n",
       "      <td>B8EF6F0325A9979F</td>\n",
       "      <td>A</td>\n",
       "      <td>21</td>\n",
       "    </tr>\n",
       "    <tr>\n",
       "      <th>...</th>\n",
       "      <td>...</td>\n",
       "      <td>...</td>\n",
       "      <td>...</td>\n",
       "    </tr>\n",
       "    <tr>\n",
       "      <th>3614</th>\n",
       "      <td>FC2DA0D7EF375B27</td>\n",
       "      <td>B</td>\n",
       "      <td>1</td>\n",
       "    </tr>\n",
       "    <tr>\n",
       "      <th>3481</th>\n",
       "      <td>F26444BA1B35C213</td>\n",
       "      <td>B</td>\n",
       "      <td>1</td>\n",
       "    </tr>\n",
       "    <tr>\n",
       "      <th>2977</th>\n",
       "      <td>CE48F47093B03425</td>\n",
       "      <td>A</td>\n",
       "      <td>1</td>\n",
       "    </tr>\n",
       "    <tr>\n",
       "      <th>2848</th>\n",
       "      <td>C5C355D72A66F9FB</td>\n",
       "      <td>A</td>\n",
       "      <td>1</td>\n",
       "    </tr>\n",
       "    <tr>\n",
       "      <th>342</th>\n",
       "      <td>181181D6E7BA82B4</td>\n",
       "      <td>B</td>\n",
       "      <td>1</td>\n",
       "    </tr>\n",
       "  </tbody>\n",
       "</table>\n",
       "<p>3675 rows × 3 columns</p>\n",
       "</div>"
      ],
      "text/plain": [
       "               user_id group  event_name\n",
       "233   1198061F6AF34B7B     B          28\n",
       "229   115EBC1CA027854A     B          27\n",
       "404   1BFEE479308EFF44     A          24\n",
       "2984  CED71698585A2E46     A          24\n",
       "2660  B8EF6F0325A9979F     A          21\n",
       "...                ...   ...         ...\n",
       "3614  FC2DA0D7EF375B27     B           1\n",
       "3481  F26444BA1B35C213     B           1\n",
       "2977  CE48F47093B03425     A           1\n",
       "2848  C5C355D72A66F9FB     A           1\n",
       "342   181181D6E7BA82B4     B           1\n",
       "\n",
       "[3675 rows x 3 columns]"
      ]
     },
     "execution_count": 32,
     "metadata": {},
     "output_type": "execute_result"
    }
   ],
   "source": [
    "# количество событий на пользователя\n",
    "events_by_users = participants_users_events.groupby(['user_id','group'])['event_name'].count().reset_index()\n",
    "events_by_users.sort_values(by='event_name', ascending=False)"
   ]
  },
  {
   "cell_type": "code",
   "execution_count": 33,
   "metadata": {},
   "outputs": [
    {
     "data": {
      "image/png": "[encoded data removed]",
      "text/plain": [
       "<Figure size 720x360 with 1 Axes>"
      ]
     },
     "metadata": {
      "needs_background": "light"
     },
     "output_type": "display_data"
    }
   ],
   "source": [
    "# построим график распределения количества событий по пользователям\n",
    "plt.figure(figsize=(10, 5))\n",
    "plt.hist(events_by_users.query('group == \"A\"')['event_name'], label='Группа A', color='royalblue')\n",
    "plt.hist(events_by_users.query('group == \"B\"')['event_name'], label='Группа B', alpha= 0.7, color='orange')\n",
    "plt.xlabel('Кол-во событий на одного пользователя', fontsize= 12)\n",
    "plt.ylabel('Кол-во пользователей', fontsize= 12)\n",
    "plt.title('Распределение количества событий по пользователям в группах', fontsize= 15)\n",
    "plt.legend(loc= 'best', fontsize= 15)\n",
    "plt.grid()\n",
    "plt.show()"
   ]
  },
  {
   "cell_type": "markdown",
   "metadata": {},
   "source": [
    "Пользователи контрольной группы \"А\" оказались более активными в сравнении с пользователями группы \"В\""
   ]
  },
  {
   "cell_type": "markdown",
   "metadata": {},
   "source": [
    "Посмотрим как вели себя пользователи тестовых групп в **разбивке по дням**"
   ]
  },
  {
   "cell_type": "code",
   "execution_count": 34,
   "metadata": {},
   "outputs": [
    {
     "data": {
      "image/png": "[encoded data removed]",
      "text/plain": [
       "<Figure size 720x360 with 1 Axes>"
      ]
     },
     "metadata": {
      "needs_background": "light"
     },
     "output_type": "display_data"
    }
   ],
   "source": [
    "# построим график распределения количества событий в группах по дням\n",
    "plt.figure(figsize= (10, 5))\n",
    "plt.hist(participants_users_events.query('group == \"A\"')['event_dt'], label= 'Группа A', color= 'royalblue', bins= 23)\n",
    "plt.hist(participants_users_events.query('group == \"B\"')['event_dt'], label= 'Группа B', alpha= 0.7, color= 'orange', bins= 23)\n",
    "plt.xlabel('Дата', fontsize= 12)\n",
    "plt.ylabel('Количество событий', fontsize= 12)\n",
    "plt.title('Распределение количества событий в группах по дням', fontsize=15)\n",
    "plt.legend(loc= 'best', fontsize= 15)\n",
    "plt.grid()\n",
    "plt.show()"
   ]
  },
  {
   "cell_type": "code",
   "execution_count": 42,
   "metadata": {
    "scrolled": true
   },
   "outputs": [
    {
     "name": "stdout",
     "output_type": "stream",
     "text": [
      "В среднем пользователь совершает 7 действий\n",
      "В среднем пользователь группы \"А\" совершает 7 действий\n",
      "В среднем пользователь группы \"В\" совершает 6 действий\n"
     ]
    }
   ],
   "source": [
    "users_A= participants_users_events.query('group == \"A\"')\n",
    "users_B= participants_users_events.query('group == \"B\"')\n",
    "print('В среднем пользователь совершает {:.0f} действий'.format(participants_users_events.groupby('user_id')['event_name'].count().mean()))\n",
    "print('В среднем пользователь группы \"А\" совершает {:.0f} действий'.format(users_A.groupby('user_id')['event_name'].count().mean()))\n",
    "print('В среднем пользователь группы \"В\" совершает {:.0f} действий'.format(users_B.groupby('user_id')['event_name'].count().mean()))\n"
   ]
  },
  {
   "cell_type": "markdown",
   "metadata": {},
   "source": [
    "**Итак,** \n",
    "- Пользователи контрольной группы \"А\" оказались в среднем совершают на 1 действие больше.\n",
    "- Участники группы \"В\" ведут себя \"спокойно\", без всплесков и провалов на протяжении всего экперимента, особой активности пользователей не наблюдается."
   ]
  },
  {
   "cell_type": "markdown",
   "metadata": {},
   "source": [
    "<span style=\"color:brown\">3.3 Как меняется конверсия в воронке в выборках на разных этапах</span>"
   ]
  },
  {
   "cell_type": "code",
   "execution_count": 43,
   "metadata": {},
   "outputs": [
    {
     "data": {
      "text/plain": [
       "group\n",
       "A    2747\n",
       "B     928\n",
       "Name: user_id, dtype: int64"
      ]
     },
     "execution_count": 43,
     "metadata": {},
     "output_type": "execute_result"
    }
   ],
   "source": [
    "# сформируем таблицу для построения воронки и посмотрим количество событий в разных группах\n",
    "funnel= participants_users_events.groupby('group')['user_id'].nunique()\n",
    "funnel"
   ]
  },
  {
   "cell_type": "markdown",
   "metadata": {},
   "source": [
    "Что мы видим:\n",
    "- Число участников в контрольной и экспериментальной группах сильно отличается, разница почти в 70%, что ставит под сомнение результаты еще до проведения теста. Всопмним, что по условию ТЗ нам нужно не менее 6000 участников. посмотримм на конверсию каждого этапа в воронке"
   ]
  },
  {
   "cell_type": "code",
   "execution_count": 44,
   "metadata": {},
   "outputs": [
    {
     "data": {
      "text/html": [
       "<div>\n",
       "<style scoped>\n",
       "    .dataframe tbody tr th:only-of-type {\n",
       "        vertical-align: middle;\n",
       "    }\n",
       "\n",
       "    .dataframe tbody tr th {\n",
       "        vertical-align: top;\n",
       "    }\n",
       "\n",
       "    .dataframe thead th {\n",
       "        text-align: right;\n",
       "    }\n",
       "</style>\n",
       "<table border=\"1\" class=\"dataframe\">\n",
       "  <thead>\n",
       "    <tr style=\"text-align: right;\">\n",
       "      <th>group</th>\n",
       "      <th>event_name</th>\n",
       "      <th>A</th>\n",
       "      <th>B</th>\n",
       "      <th>share_A</th>\n",
       "      <th>share_B</th>\n",
       "    </tr>\n",
       "  </thead>\n",
       "  <tbody>\n",
       "    <tr>\n",
       "      <th>0</th>\n",
       "      <td>login</td>\n",
       "      <td>2747</td>\n",
       "      <td>928</td>\n",
       "      <td>100.0</td>\n",
       "      <td>100.0</td>\n",
       "    </tr>\n",
       "    <tr>\n",
       "      <th>1</th>\n",
       "      <td>product_page</td>\n",
       "      <td>1780</td>\n",
       "      <td>523</td>\n",
       "      <td>64.8</td>\n",
       "      <td>56.4</td>\n",
       "    </tr>\n",
       "    <tr>\n",
       "      <th>2</th>\n",
       "      <td>product_cart</td>\n",
       "      <td>824</td>\n",
       "      <td>255</td>\n",
       "      <td>30.0</td>\n",
       "      <td>27.5</td>\n",
       "    </tr>\n",
       "    <tr>\n",
       "      <th>3</th>\n",
       "      <td>purchase</td>\n",
       "      <td>872</td>\n",
       "      <td>256</td>\n",
       "      <td>31.7</td>\n",
       "      <td>27.6</td>\n",
       "    </tr>\n",
       "  </tbody>\n",
       "</table>\n",
       "</div>"
      ],
      "text/plain": [
       "group    event_name     A    B  share_A  share_B\n",
       "0             login  2747  928    100.0    100.0\n",
       "1      product_page  1780  523     64.8     56.4\n",
       "2      product_cart   824  255     30.0     27.5\n",
       "3          purchase   872  256     31.7     27.6"
      ]
     },
     "execution_count": 44,
     "metadata": {},
     "output_type": "execute_result"
    }
   ],
   "source": [
    "# создадим таблицу с количеством и долей пользователей из каждой группы с разбивкой по шагам воронки\n",
    "\n",
    "df_test= (participants_users_events.pivot_table(\n",
    "    index= 'event_name', \n",
    "    columns= 'group', \n",
    "    values= 'user_id',\n",
    "    aggfunc= 'nunique')\n",
    "    .sort_values(by= 'A', ascending= False)\n",
    "    .reindex(['login', 'product_page', 'product_cart', 'purchase'])\n",
    "    .reset_index(drop= False)\n",
    "    )\n",
    "df_test['share_A']= (df_test['A']/ funnel['A']* 100).round(1)\n",
    "df_test['share_B']= (df_test['B']/ funnel['B']* 100).round(1)\n",
    "\n",
    "df_test"
   ]
  },
  {
   "cell_type": "code",
   "execution_count": 46,
   "metadata": {},
   "outputs": [
    {
     "data": {
      "application/vnd.plotly.v1+json": {
       "config": {
        "plotlyServerURL": "https://plot.ly"
       },
       "data": [
        {
         "marker": {
          "color": "royalblue",
          "line": {
           "color": "grey",
           "width": 1
          }
         },
         "name": "A",
         "textinfo": "value+percent initial+percent previous",
         "type": "funnel",
         "x": [
          2747,
          1780,
          824,
          872
         ],
         "y": [
          "login",
          "product_page",
          "product_cart",
          "purchase"
         ]
        },
        {
         "marker": {
          "color": "orange",
          "line": {
           "color": "grey",
           "width": 1
          }
         },
         "name": "B",
         "textinfo": "value+percent initial+percent previous",
         "type": "funnel",
         "x": [
          928,
          523,
          255,
          256
         ],
         "y": [
          "login",
          "product_page",
          "product_cart",
          "purchase"
         ]
        }
       ],
       "layout": {
        "template": {
         "data": {
          "bar": [
           {
            "error_x": {
             "color": "#2a3f5f"
            },
            "error_y": {
             "color": "#2a3f5f"
            },
            "marker": {
             "line": {
              "color": "#E5ECF6",
              "width": 0.5
             },
             "pattern": {
              "fillmode": "overlay",
              "size": 10,
              "solidity": 0.2
             }
            },
            "type": "bar"
           }
          ],
          "barpolar": [
           {
            "marker": {
             "line": {
              "color": "#E5ECF6",
              "width": 0.5
             },
             "pattern": {
              "fillmode": "overlay",
              "size": 10,
              "solidity": 0.2
             }
            },
            "type": "barpolar"
           }
          ],
          "carpet": [
           {
            "aaxis": {
             "endlinecolor": "#2a3f5f",
             "gridcolor": "white",
             "linecolor": "white",
             "minorgridcolor": "white",
             "startlinecolor": "#2a3f5f"
            },
            "baxis": {
             "endlinecolor": "#2a3f5f",
             "gridcolor": "white",
             "linecolor": "white",
             "minorgridcolor": "white",
             "startlinecolor": "#2a3f5f"
            },
            "type": "carpet"
           }
          ],
          "choropleth": [
           {
            "colorbar": {
             "outlinewidth": 0,
             "ticks": ""
            },
            "type": "choropleth"
           }
          ],
          "contour": [
           {
            "colorbar": {
             "outlinewidth": 0,
             "ticks": ""
            },
            "colorscale": [
             [
              0,
              "#0d0887"
             ],
             [
              0.1111111111111111,
              "#46039f"
             ],
             [
              0.2222222222222222,
              "#7201a8"
             ],
             [
              0.3333333333333333,
              "#9c179e"
             ],
             [
              0.4444444444444444,
              "#bd3786"
             ],
             [
              0.5555555555555556,
              "#d8576b"
             ],
             [
              0.6666666666666666,
              "#ed7953"
             ],
             [
              0.7777777777777778,
              "#fb9f3a"
             ],
             [
              0.8888888888888888,
              "#fdca26"
             ],
             [
              1,
              "#f0f921"
             ]
            ],
            "type": "contour"
           }
          ],
          "contourcarpet": [
           {
            "colorbar": {
             "outlinewidth": 0,
             "ticks": ""
            },
            "type": "contourcarpet"
           }
          ],
          "heatmap": [
           {
            "colorbar": {
             "outlinewidth": 0,
             "ticks": ""
            },
            "colorscale": [
             [
              0,
              "#0d0887"
             ],
             [
              0.1111111111111111,
              "#46039f"
             ],
             [
              0.2222222222222222,
              "#7201a8"
             ],
             [
              0.3333333333333333,
              "#9c179e"
             ],
             [
              0.4444444444444444,
              "#bd3786"
             ],
             [
              0.5555555555555556,
              "#d8576b"
             ],
             [
              0.6666666666666666,
              "#ed7953"
             ],
             [
              0.7777777777777778,
              "#fb9f3a"
             ],
             [
              0.8888888888888888,
              "#fdca26"
             ],
             [
              1,
              "#f0f921"
             ]
            ],
            "type": "heatmap"
           }
          ],
          "heatmapgl": [
           {
            "colorbar": {
             "outlinewidth": 0,
             "ticks": ""
            },
            "colorscale": [
             [
              0,
              "#0d0887"
             ],
             [
              0.1111111111111111,
              "#46039f"
             ],
             [
              0.2222222222222222,
              "#7201a8"
             ],
             [
              0.3333333333333333,
              "#9c179e"
             ],
             [
              0.4444444444444444,
              "#bd3786"
             ],
             [
              0.5555555555555556,
              "#d8576b"
             ],
             [
              0.6666666666666666,
              "#ed7953"
             ],
             [
              0.7777777777777778,
              "#fb9f3a"
             ],
             [
              0.8888888888888888,
              "#fdca26"
             ],
             [
              1,
              "#f0f921"
             ]
            ],
            "type": "heatmapgl"
           }
          ],
          "histogram": [
           {
            "marker": {
             "pattern": {
              "fillmode": "overlay",
              "size": 10,
              "solidity": 0.2
             }
            },
            "type": "histogram"
           }
          ],
          "histogram2d": [
           {
            "colorbar": {
             "outlinewidth": 0,
             "ticks": ""
            },
            "colorscale": [
             [
              0,
              "#0d0887"
             ],
             [
              0.1111111111111111,
              "#46039f"
             ],
             [
              0.2222222222222222,
              "#7201a8"
             ],
             [
              0.3333333333333333,
              "#9c179e"
             ],
             [
              0.4444444444444444,
              "#bd3786"
             ],
             [
              0.5555555555555556,
              "#d8576b"
             ],
             [
              0.6666666666666666,
              "#ed7953"
             ],
             [
              0.7777777777777778,
              "#fb9f3a"
             ],
             [
              0.8888888888888888,
              "#fdca26"
             ],
             [
              1,
              "#f0f921"
             ]
            ],
            "type": "histogram2d"
           }
          ],
          "histogram2dcontour": [
           {
            "colorbar": {
             "outlinewidth": 0,
             "ticks": ""
            },
            "colorscale": [
             [
              0,
              "#0d0887"
             ],
             [
              0.1111111111111111,
              "#46039f"
             ],
             [
              0.2222222222222222,
              "#7201a8"
             ],
             [
              0.3333333333333333,
              "#9c179e"
             ],
             [
              0.4444444444444444,
              "#bd3786"
             ],
             [
              0.5555555555555556,
              "#d8576b"
             ],
             [
              0.6666666666666666,
              "#ed7953"
             ],
             [
              0.7777777777777778,
              "#fb9f3a"
             ],
             [
              0.8888888888888888,
              "#fdca26"
             ],
             [
              1,
              "#f0f921"
             ]
            ],
            "type": "histogram2dcontour"
           }
          ],
          "mesh3d": [
           {
            "colorbar": {
             "outlinewidth": 0,
             "ticks": ""
            },
            "type": "mesh3d"
           }
          ],
          "parcoords": [
           {
            "line": {
             "colorbar": {
              "outlinewidth": 0,
              "ticks": ""
             }
            },
            "type": "parcoords"
           }
          ],
          "pie": [
           {
            "automargin": true,
            "type": "pie"
           }
          ],
          "scatter": [
           {
            "marker": {
             "colorbar": {
              "outlinewidth": 0,
              "ticks": ""
             }
            },
            "type": "scatter"
           }
          ],
          "scatter3d": [
           {
            "line": {
             "colorbar": {
              "outlinewidth": 0,
              "ticks": ""
             }
            },
            "marker": {
             "colorbar": {
              "outlinewidth": 0,
              "ticks": ""
             }
            },
            "type": "scatter3d"
           }
          ],
          "scattercarpet": [
           {
            "marker": {
             "colorbar": {
              "outlinewidth": 0,
              "ticks": ""
             }
            },
            "type": "scattercarpet"
           }
          ],
          "scattergeo": [
           {
            "marker": {
             "colorbar": {
              "outlinewidth": 0,
              "ticks": ""
             }
            },
            "type": "scattergeo"
           }
          ],
          "scattergl": [
           {
            "marker": {
             "colorbar": {
              "outlinewidth": 0,
              "ticks": ""
             }
            },
            "type": "scattergl"
           }
          ],
          "scattermapbox": [
           {
            "marker": {
             "colorbar": {
              "outlinewidth": 0,
              "ticks": ""
             }
            },
            "type": "scattermapbox"
           }
          ],
          "scatterpolar": [
           {
            "marker": {
             "colorbar": {
              "outlinewidth": 0,
              "ticks": ""
             }
            },
            "type": "scatterpolar"
           }
          ],
          "scatterpolargl": [
           {
            "marker": {
             "colorbar": {
              "outlinewidth": 0,
              "ticks": ""
             }
            },
            "type": "scatterpolargl"
           }
          ],
          "scatterternary": [
           {
            "marker": {
             "colorbar": {
              "outlinewidth": 0,
              "ticks": ""
             }
            },
            "type": "scatterternary"
           }
          ],
          "surface": [
           {
            "colorbar": {
             "outlinewidth": 0,
             "ticks": ""
            },
            "colorscale": [
             [
              0,
              "#0d0887"
             ],
             [
              0.1111111111111111,
              "#46039f"
             ],
             [
              0.2222222222222222,
              "#7201a8"
             ],
             [
              0.3333333333333333,
              "#9c179e"
             ],
             [
              0.4444444444444444,
              "#bd3786"
             ],
             [
              0.5555555555555556,
              "#d8576b"
             ],
             [
              0.6666666666666666,
              "#ed7953"
             ],
             [
              0.7777777777777778,
              "#fb9f3a"
             ],
             [
              0.8888888888888888,
              "#fdca26"
             ],
             [
              1,
              "#f0f921"
             ]
            ],
            "type": "surface"
           }
          ],
          "table": [
           {
            "cells": {
             "fill": {
              "color": "#EBF0F8"
             },
             "line": {
              "color": "white"
             }
            },
            "header": {
             "fill": {
              "color": "#C8D4E3"
             },
             "line": {
              "color": "white"
             }
            },
            "type": "table"
           }
          ]
         },
         "layout": {
          "annotationdefaults": {
           "arrowcolor": "#2a3f5f",
           "arrowhead": 0,
           "arrowwidth": 1
          },
          "autotypenumbers": "strict",
          "coloraxis": {
           "colorbar": {
            "outlinewidth": 0,
            "ticks": ""
           }
          },
          "colorscale": {
           "diverging": [
            [
             0,
             "#8e0152"
            ],
            [
             0.1,
             "#c51b7d"
            ],
            [
             0.2,
             "#de77ae"
            ],
            [
             0.3,
             "#f1b6da"
            ],
            [
             0.4,
             "#fde0ef"
            ],
            [
             0.5,
             "#f7f7f7"
            ],
            [
             0.6,
             "#e6f5d0"
            ],
            [
             0.7,
             "#b8e186"
            ],
            [
             0.8,
             "#7fbc41"
            ],
            [
             0.9,
             "#4d9221"
            ],
            [
             1,
             "#276419"
            ]
           ],
           "sequential": [
            [
             0,
             "#0d0887"
            ],
            [
             0.1111111111111111,
             "#46039f"
            ],
            [
             0.2222222222222222,
             "#7201a8"
            ],
            [
             0.3333333333333333,
             "#9c179e"
            ],
            [
             0.4444444444444444,
             "#bd3786"
            ],
            [
             0.5555555555555556,
             "#d8576b"
            ],
            [
             0.6666666666666666,
             "#ed7953"
            ],
            [
             0.7777777777777778,
             "#fb9f3a"
            ],
            [
             0.8888888888888888,
             "#fdca26"
            ],
            [
             1,
             "#f0f921"
            ]
           ],
           "sequentialminus": [
            [
             0,
             "#0d0887"
            ],
            [
             0.1111111111111111,
             "#46039f"
            ],
            [
             0.2222222222222222,
             "#7201a8"
            ],
            [
             0.3333333333333333,
             "#9c179e"
            ],
            [
             0.4444444444444444,
             "#bd3786"
            ],
            [
             0.5555555555555556,
             "#d8576b"
            ],
            [
             0.6666666666666666,
             "#ed7953"
            ],
            [
             0.7777777777777778,
             "#fb9f3a"
            ],
            [
             0.8888888888888888,
             "#fdca26"
            ],
            [
             1,
             "#f0f921"
            ]
           ]
          },
          "colorway": [
           "#636efa",
           "#EF553B",
           "#00cc96",
           "#ab63fa",
           "#FFA15A",
           "#19d3f3",
           "#FF6692",
           "#B6E880",
           "#FF97FF",
           "#FECB52"
          ],
          "font": {
           "color": "#2a3f5f"
          },
          "geo": {
           "bgcolor": "white",
           "lakecolor": "white",
           "landcolor": "#E5ECF6",
           "showlakes": true,
           "showland": true,
           "subunitcolor": "white"
          },
          "hoverlabel": {
           "align": "left"
          },
          "hovermode": "closest",
          "mapbox": {
           "style": "light"
          },
          "paper_bgcolor": "white",
          "plot_bgcolor": "#E5ECF6",
          "polar": {
           "angularaxis": {
            "gridcolor": "white",
            "linecolor": "white",
            "ticks": ""
           },
           "bgcolor": "#E5ECF6",
           "radialaxis": {
            "gridcolor": "white",
            "linecolor": "white",
            "ticks": ""
           }
          },
          "scene": {
           "xaxis": {
            "backgroundcolor": "#E5ECF6",
            "gridcolor": "white",
            "gridwidth": 2,
            "linecolor": "white",
            "showbackground": true,
            "ticks": "",
            "zerolinecolor": "white"
           },
           "yaxis": {
            "backgroundcolor": "#E5ECF6",
            "gridcolor": "white",
            "gridwidth": 2,
            "linecolor": "white",
            "showbackground": true,
            "ticks": "",
            "zerolinecolor": "white"
           },
           "zaxis": {
            "backgroundcolor": "#E5ECF6",
            "gridcolor": "white",
            "gridwidth": 2,
            "linecolor": "white",
            "showbackground": true,
            "ticks": "",
            "zerolinecolor": "white"
           }
          },
          "shapedefaults": {
           "line": {
            "color": "#2a3f5f"
           }
          },
          "ternary": {
           "aaxis": {
            "gridcolor": "white",
            "linecolor": "white",
            "ticks": ""
           },
           "baxis": {
            "gridcolor": "white",
            "linecolor": "white",
            "ticks": ""
           },
           "bgcolor": "#E5ECF6",
           "caxis": {
            "gridcolor": "white",
            "linecolor": "white",
            "ticks": ""
           }
          },
          "title": {
           "x": 0.05
          },
          "xaxis": {
           "automargin": true,
           "gridcolor": "white",
           "linecolor": "white",
           "ticks": "",
           "title": {
            "standoff": 15
           },
           "zerolinecolor": "white",
           "zerolinewidth": 2
          },
          "yaxis": {
           "automargin": true,
           "gridcolor": "white",
           "linecolor": "white",
           "ticks": "",
           "title": {
            "standoff": 15
           },
           "zerolinecolor": "white",
           "zerolinewidth": 2
          }
         }
        }
       }
      },
      "text/html": [
       "<div>                            <div id=\"603ca318-1ede-457e-bd87-b2cc507f329c\" class=\"plotly-graph-div\" style=\"height:525px; width:100%;\"></div>            <script type=\"text/javascript\">                require([\"plotly\"], function(Plotly) {                    window.PLOTLYENV=window.PLOTLYENV || {};                                    if (document.getElementById(\"603ca318-1ede-457e-bd87-b2cc507f329c\")) {                    Plotly.newPlot(                        \"603ca318-1ede-457e-bd87-b2cc507f329c\",                        [{\"marker\":{\"color\":\"royalblue\",\"line\":{\"color\":\"grey\",\"width\":1}},\"name\":\"A\",\"textinfo\":\"value+percent initial+percent previous\",\"x\":[2747,1780,824,872],\"y\":[\"login\",\"product_page\",\"product_cart\",\"purchase\"],\"type\":\"funnel\"},{\"marker\":{\"color\":\"orange\",\"line\":{\"color\":\"grey\",\"width\":1}},\"name\":\"B\",\"textinfo\":\"value+percent initial+percent previous\",\"x\":[928,523,255,256],\"y\":[\"login\",\"product_page\",\"product_cart\",\"purchase\"],\"type\":\"funnel\"}],                        {\"template\":{\"data\":{\"bar\":[{\"error_x\":{\"color\":\"#2a3f5f\"},\"error_y\":{\"color\":\"#2a3f5f\"},\"marker\":{\"line\":{\"color\":\"#E5ECF6\",\"width\":0.5},\"pattern\":{\"fillmode\":\"overlay\",\"size\":10,\"solidity\":0.2}},\"type\":\"bar\"}],\"barpolar\":[{\"marker\":{\"line\":{\"color\":\"#E5ECF6\",\"width\":0.5},\"pattern\":{\"fillmode\":\"overlay\",\"size\":10,\"solidity\":0.2}},\"type\":\"barpolar\"}],\"carpet\":[{\"aaxis\":{\"endlinecolor\":\"#2a3f5f\",\"gridcolor\":\"white\",\"linecolor\":\"white\",\"minorgridcolor\":\"white\",\"startlinecolor\":\"#2a3f5f\"},\"baxis\":{\"endlinecolor\":\"#2a3f5f\",\"gridcolor\":\"white\",\"linecolor\":\"white\",\"minorgridcolor\":\"white\",\"startlinecolor\":\"#2a3f5f\"},\"type\":\"carpet\"}],\"choropleth\":[{\"colorbar\":{\"outlinewidth\":0,\"ticks\":\"\"},\"type\":\"choropleth\"}],\"contour\":[{\"colorbar\":{\"outlinewidth\":0,\"ticks\":\"\"},\"colorscale\":[[0.0,\"#0d0887\"],[0.1111111111111111,\"#46039f\"],[0.2222222222222222,\"#7201a8\"],[0.3333333333333333,\"#9c179e\"],[0.4444444444444444,\"#bd3786\"],[0.5555555555555556,\"#d8576b\"],[0.6666666666666666,\"#ed7953\"],[0.7777777777777778,\"#fb9f3a\"],[0.8888888888888888,\"#fdca26\"],[1.0,\"#f0f921\"]],\"type\":\"contour\"}],\"contourcarpet\":[{\"colorbar\":{\"outlinewidth\":0,\"ticks\":\"\"},\"type\":\"contourcarpet\"}],\"heatmap\":[{\"colorbar\":{\"outlinewidth\":0,\"ticks\":\"\"},\"colorscale\":[[0.0,\"#0d0887\"],[0.1111111111111111,\"#46039f\"],[0.2222222222222222,\"#7201a8\"],[0.3333333333333333,\"#9c179e\"],[0.4444444444444444,\"#bd3786\"],[0.5555555555555556,\"#d8576b\"],[0.6666666666666666,\"#ed7953\"],[0.7777777777777778,\"#fb9f3a\"],[0.8888888888888888,\"#fdca26\"],[1.0,\"#f0f921\"]],\"type\":\"heatmap\"}],\"heatmapgl\":[{\"colorbar\":{\"outlinewidth\":0,\"ticks\":\"\"},\"colorscale\":[[0.0,\"#0d0887\"],[0.1111111111111111,\"#46039f\"],[0.2222222222222222,\"#7201a8\"],[0.3333333333333333,\"#9c179e\"],[0.4444444444444444,\"#bd3786\"],[0.5555555555555556,\"#d8576b\"],[0.6666666666666666,\"#ed7953\"],[0.7777777777777778,\"#fb9f3a\"],[0.8888888888888888,\"#fdca26\"],[1.0,\"#f0f921\"]],\"type\":\"heatmapgl\"}],\"histogram\":[{\"marker\":{\"pattern\":{\"fillmode\":\"overlay\",\"size\":10,\"solidity\":0.2}},\"type\":\"histogram\"}],\"histogram2d\":[{\"colorbar\":{\"outlinewidth\":0,\"ticks\":\"\"},\"colorscale\":[[0.0,\"#0d0887\"],[0.1111111111111111,\"#46039f\"],[0.2222222222222222,\"#7201a8\"],[0.3333333333333333,\"#9c179e\"],[0.4444444444444444,\"#bd3786\"],[0.5555555555555556,\"#d8576b\"],[0.6666666666666666,\"#ed7953\"],[0.7777777777777778,\"#fb9f3a\"],[0.8888888888888888,\"#fdca26\"],[1.0,\"#f0f921\"]],\"type\":\"histogram2d\"}],\"histogram2dcontour\":[{\"colorbar\":{\"outlinewidth\":0,\"ticks\":\"\"},\"colorscale\":[[0.0,\"#0d0887\"],[0.1111111111111111,\"#46039f\"],[0.2222222222222222,\"#7201a8\"],[0.3333333333333333,\"#9c179e\"],[0.4444444444444444,\"#bd3786\"],[0.5555555555555556,\"#d8576b\"],[0.6666666666666666,\"#ed7953\"],[0.7777777777777778,\"#fb9f3a\"],[0.8888888888888888,\"#fdca26\"],[1.0,\"#f0f921\"]],\"type\":\"histogram2dcontour\"}],\"mesh3d\":[{\"colorbar\":{\"outlinewidth\":0,\"ticks\":\"\"},\"type\":\"mesh3d\"}],\"parcoords\":[{\"line\":{\"colorbar\":{\"outlinewidth\":0,\"ticks\":\"\"}},\"type\":\"parcoords\"}],\"pie\":[{\"automargin\":true,\"type\":\"pie\"}],\"scatter\":[{\"marker\":{\"colorbar\":{\"outlinewidth\":0,\"ticks\":\"\"}},\"type\":\"scatter\"}],\"scatter3d\":[{\"line\":{\"colorbar\":{\"outlinewidth\":0,\"ticks\":\"\"}},\"marker\":{\"colorbar\":{\"outlinewidth\":0,\"ticks\":\"\"}},\"type\":\"scatter3d\"}],\"scattercarpet\":[{\"marker\":{\"colorbar\":{\"outlinewidth\":0,\"ticks\":\"\"}},\"type\":\"scattercarpet\"}],\"scattergeo\":[{\"marker\":{\"colorbar\":{\"outlinewidth\":0,\"ticks\":\"\"}},\"type\":\"scattergeo\"}],\"scattergl\":[{\"marker\":{\"colorbar\":{\"outlinewidth\":0,\"ticks\":\"\"}},\"type\":\"scattergl\"}],\"scattermapbox\":[{\"marker\":{\"colorbar\":{\"outlinewidth\":0,\"ticks\":\"\"}},\"type\":\"scattermapbox\"}],\"scatterpolar\":[{\"marker\":{\"colorbar\":{\"outlinewidth\":0,\"ticks\":\"\"}},\"type\":\"scatterpolar\"}],\"scatterpolargl\":[{\"marker\":{\"colorbar\":{\"outlinewidth\":0,\"ticks\":\"\"}},\"type\":\"scatterpolargl\"}],\"scatterternary\":[{\"marker\":{\"colorbar\":{\"outlinewidth\":0,\"ticks\":\"\"}},\"type\":\"scatterternary\"}],\"surface\":[{\"colorbar\":{\"outlinewidth\":0,\"ticks\":\"\"},\"colorscale\":[[0.0,\"#0d0887\"],[0.1111111111111111,\"#46039f\"],[0.2222222222222222,\"#7201a8\"],[0.3333333333333333,\"#9c179e\"],[0.4444444444444444,\"#bd3786\"],[0.5555555555555556,\"#d8576b\"],[0.6666666666666666,\"#ed7953\"],[0.7777777777777778,\"#fb9f3a\"],[0.8888888888888888,\"#fdca26\"],[1.0,\"#f0f921\"]],\"type\":\"surface\"}],\"table\":[{\"cells\":{\"fill\":{\"color\":\"#EBF0F8\"},\"line\":{\"color\":\"white\"}},\"header\":{\"fill\":{\"color\":\"#C8D4E3\"},\"line\":{\"color\":\"white\"}},\"type\":\"table\"}]},\"layout\":{\"annotationdefaults\":{\"arrowcolor\":\"#2a3f5f\",\"arrowhead\":0,\"arrowwidth\":1},\"autotypenumbers\":\"strict\",\"coloraxis\":{\"colorbar\":{\"outlinewidth\":0,\"ticks\":\"\"}},\"colorscale\":{\"diverging\":[[0,\"#8e0152\"],[0.1,\"#c51b7d\"],[0.2,\"#de77ae\"],[0.3,\"#f1b6da\"],[0.4,\"#fde0ef\"],[0.5,\"#f7f7f7\"],[0.6,\"#e6f5d0\"],[0.7,\"#b8e186\"],[0.8,\"#7fbc41\"],[0.9,\"#4d9221\"],[1,\"#276419\"]],\"sequential\":[[0.0,\"#0d0887\"],[0.1111111111111111,\"#46039f\"],[0.2222222222222222,\"#7201a8\"],[0.3333333333333333,\"#9c179e\"],[0.4444444444444444,\"#bd3786\"],[0.5555555555555556,\"#d8576b\"],[0.6666666666666666,\"#ed7953\"],[0.7777777777777778,\"#fb9f3a\"],[0.8888888888888888,\"#fdca26\"],[1.0,\"#f0f921\"]],\"sequentialminus\":[[0.0,\"#0d0887\"],[0.1111111111111111,\"#46039f\"],[0.2222222222222222,\"#7201a8\"],[0.3333333333333333,\"#9c179e\"],[0.4444444444444444,\"#bd3786\"],[0.5555555555555556,\"#d8576b\"],[0.6666666666666666,\"#ed7953\"],[0.7777777777777778,\"#fb9f3a\"],[0.8888888888888888,\"#fdca26\"],[1.0,\"#f0f921\"]]},\"colorway\":[\"#636efa\",\"#EF553B\",\"#00cc96\",\"#ab63fa\",\"#FFA15A\",\"#19d3f3\",\"#FF6692\",\"#B6E880\",\"#FF97FF\",\"#FECB52\"],\"font\":{\"color\":\"#2a3f5f\"},\"geo\":{\"bgcolor\":\"white\",\"lakecolor\":\"white\",\"landcolor\":\"#E5ECF6\",\"showlakes\":true,\"showland\":true,\"subunitcolor\":\"white\"},\"hoverlabel\":{\"align\":\"left\"},\"hovermode\":\"closest\",\"mapbox\":{\"style\":\"light\"},\"paper_bgcolor\":\"white\",\"plot_bgcolor\":\"#E5ECF6\",\"polar\":{\"angularaxis\":{\"gridcolor\":\"white\",\"linecolor\":\"white\",\"ticks\":\"\"},\"bgcolor\":\"#E5ECF6\",\"radialaxis\":{\"gridcolor\":\"white\",\"linecolor\":\"white\",\"ticks\":\"\"}},\"scene\":{\"xaxis\":{\"backgroundcolor\":\"#E5ECF6\",\"gridcolor\":\"white\",\"gridwidth\":2,\"linecolor\":\"white\",\"showbackground\":true,\"ticks\":\"\",\"zerolinecolor\":\"white\"},\"yaxis\":{\"backgroundcolor\":\"#E5ECF6\",\"gridcolor\":\"white\",\"gridwidth\":2,\"linecolor\":\"white\",\"showbackground\":true,\"ticks\":\"\",\"zerolinecolor\":\"white\"},\"zaxis\":{\"backgroundcolor\":\"#E5ECF6\",\"gridcolor\":\"white\",\"gridwidth\":2,\"linecolor\":\"white\",\"showbackground\":true,\"ticks\":\"\",\"zerolinecolor\":\"white\"}},\"shapedefaults\":{\"line\":{\"color\":\"#2a3f5f\"}},\"ternary\":{\"aaxis\":{\"gridcolor\":\"white\",\"linecolor\":\"white\",\"ticks\":\"\"},\"baxis\":{\"gridcolor\":\"white\",\"linecolor\":\"white\",\"ticks\":\"\"},\"bgcolor\":\"#E5ECF6\",\"caxis\":{\"gridcolor\":\"white\",\"linecolor\":\"white\",\"ticks\":\"\"}},\"title\":{\"x\":0.05},\"xaxis\":{\"automargin\":true,\"gridcolor\":\"white\",\"linecolor\":\"white\",\"ticks\":\"\",\"title\":{\"standoff\":15},\"zerolinecolor\":\"white\",\"zerolinewidth\":2},\"yaxis\":{\"automargin\":true,\"gridcolor\":\"white\",\"linecolor\":\"white\",\"ticks\":\"\",\"title\":{\"standoff\":15},\"zerolinecolor\":\"white\",\"zerolinewidth\":2}}}},                        {\"responsive\": true}                    ).then(function(){\n",
       "                            \n",
       "var gd = document.getElementById('603ca318-1ede-457e-bd87-b2cc507f329c');\n",
       "var x = new MutationObserver(function (mutations, observer) {{\n",
       "        var display = window.getComputedStyle(gd).display;\n",
       "        if (!display || display === 'none') {{\n",
       "            console.log([gd, 'removed!']);\n",
       "            Plotly.purge(gd);\n",
       "            observer.disconnect();\n",
       "        }}\n",
       "}});\n",
       "\n",
       "// Listen for the removal of the full notebook cells\n",
       "var notebookContainer = gd.closest('#notebook-container');\n",
       "if (notebookContainer) {{\n",
       "    x.observe(notebookContainer, {childList: true});\n",
       "}}\n",
       "\n",
       "// Listen for the clearing of the current output cell\n",
       "var outputEl = gd.closest('.output');\n",
       "if (outputEl) {{\n",
       "    x.observe(outputEl, {childList: true});\n",
       "}}\n",
       "\n",
       "                        })                };                });            </script>        </div>"
      ]
     },
     "metadata": {},
     "output_type": "display_data"
    }
   ],
   "source": [
    "# визуализирум нашу воронку\n",
    "fig= go.Figure()\n",
    "\n",
    "fig.add_trace(go.Funnel(\n",
    "    name= 'A',\n",
    "    y= df_test['event_name'],\n",
    "    x= df_test['A'],\n",
    "    textinfo= \"value+percent initial+percent previous\",\n",
    "    marker= {\"color\": \"royalblue\",\n",
    "                \"line\": {\"color\": 'grey', \"width\": 1}}))\n",
    "\n",
    "\n",
    "fig.add_trace(go.Funnel(\n",
    "    name= 'B',\n",
    "    y= df_test['event_name'],\n",
    "    x= df_test['B'],\n",
    "    textinfo= \"value+percent initial+percent previous\",\n",
    "    marker= {\"color\": \"orange\",\n",
    "                \"line\": {\"color\": 'grey', \"width\": 1}}))\n",
    "\n",
    "fig.show()"
   ]
  },
  {
   "cell_type": "markdown",
   "metadata": {},
   "source": [
    "**Вывод:** \n",
    "- Судя по воронке пользователи **группы \"А\"** конвертируются лучше с этапа скачивания приложения и на каждом последующем шаге. \n",
    "- **Группа \"В\"** конвертируется лучше только с момента просмотра карточки в просмотр корзины.\n",
    "\n",
    "- Самая низкая конверсия на этапе **перехода на экран продукта**:\n",
    "  - 65% в группе \"А\"\n",
    "  - 56% в группе \"В\" \n",
    "  \n",
    "- На этапе **Покупка** показатель конверсии:\n",
    "  - 46% в группе \"А\"\n",
    "  - 49% в группе \"В\" \n",
    "\n",
    "- а этапе **Положить в корзину** конверсия:\n",
    "  - 106% в группе \"А\"\n",
    "  - 100% в группе \"В\" \n",
    "\n",
    "- Такая **нетипичная картина** на последнем шаге возникла из-за того, что на сайте есть возможность оплатить покупку не заходя на страницу \"Положить в корзину\".\n",
    "\n",
    "- До самого важного этапа \"Покупка\" в каждой группе дошла примерно треть пользователей:\n",
    "  - 32% в группе \"А\"\n",
    "  - 28% в группе \"В\""
   ]
  },
  {
   "cell_type": "markdown",
   "metadata": {},
   "source": [
    "<span style=\"color:brown\">3.4 Какие особенности данных нужно учесть, прежде чем приступать к A/B-тестированию</span>"
   ]
  },
  {
   "cell_type": "markdown",
   "metadata": {},
   "source": [
    "1. Крайняя дата по событиям: **29-12-2020** (мы исключили дату 30-12-2020, как аномальную).\n",
    "2. Как следствие, **14 дней** от крайней даты - это 15-12-2020. Следовательно, пользователи, которые залогинились с 16-12-2020 не будут удовлетворять условию ТЗ, так как не успеют \"прожить\" 2 недели.\n",
    "3. Обнаружен всплеск активности контрольной **группы \"А\"** в период с 14-12-2020 с пиковыми значениями 22-12-2020 числа. С 23-12-2020 наблюдается спад активности, почти на 25% и плавным снижением до конца эсперимента.\n",
    "4. В **группе \"В\"** подобного поведения не наблюдалось.\n",
    "5. **Воронка** событий не типична.\n",
    "6. Пользователи в группах **распределены неравномерно**, разница больше, чем вполовину, что не соответствует требованиям проведения А/B-тестов.\n",
    "7. Количество участников меньше 6000, также не соответствует ТЗ.\n",
    "\n",
    "По воронке можно увидеть различия в количестве событий авторизации и просмотра продуктовой корзины. Проверим гипотезу о равенстве долей с помощью z-test."
   ]
  },
  {
   "cell_type": "markdown",
   "metadata": {},
   "source": [
    "### Проведение оценки результатов A/B-тестирования"
   ]
  },
  {
   "cell_type": "markdown",
   "metadata": {},
   "source": [
    "<span style=\"color:brown\">4.1 Общее заключение по результатам A/B - тестирования</span>"
   ]
  },
  {
   "cell_type": "markdown",
   "metadata": {},
   "source": [
    "Проведенный А/В тест можно назвать \"провальным\", так как основные условия ТЗ не были соблюдены:\n",
    "\n",
    "- Дата остановки 2020-12-30 вместо 2021-01-04, при этом данные за 30.12.2020 неполные.\n",
    "- Итоговое количество пучастников теста составило 3675, вместо ожидаемых 6000.\n",
    "- Не был получен ожидаемый эффект: \"за 14 дней с момента регистрации в системе пользователи покажут улучшение каждой метрики не менее, чем на 10%\".\n",
    "- Группа \"В\" показала результаты хуже, чем в группе \"А\""
   ]
  },
  {
   "cell_type": "markdown",
   "metadata": {},
   "source": [
    "<span style=\"color:brown\">4.2 Проверка статистической разницы долей z-критерием</span>"
   ]
  },
  {
   "cell_type": "code",
   "execution_count": 47,
   "metadata": {},
   "outputs": [
    {
     "data": {
      "text/html": [
       "<div>\n",
       "<style scoped>\n",
       "    .dataframe tbody tr th:only-of-type {\n",
       "        vertical-align: middle;\n",
       "    }\n",
       "\n",
       "    .dataframe tbody tr th {\n",
       "        vertical-align: top;\n",
       "    }\n",
       "\n",
       "    .dataframe thead th {\n",
       "        text-align: right;\n",
       "    }\n",
       "</style>\n",
       "<table border=\"1\" class=\"dataframe\">\n",
       "  <thead>\n",
       "    <tr style=\"text-align: right;\">\n",
       "      <th>group</th>\n",
       "      <th>event_name</th>\n",
       "      <th>A</th>\n",
       "      <th>B</th>\n",
       "      <th>share_A</th>\n",
       "      <th>share_B</th>\n",
       "    </tr>\n",
       "  </thead>\n",
       "  <tbody>\n",
       "    <tr>\n",
       "      <th>0</th>\n",
       "      <td>login</td>\n",
       "      <td>2747</td>\n",
       "      <td>928</td>\n",
       "      <td>100.0</td>\n",
       "      <td>100.0</td>\n",
       "    </tr>\n",
       "    <tr>\n",
       "      <th>1</th>\n",
       "      <td>product_page</td>\n",
       "      <td>1780</td>\n",
       "      <td>523</td>\n",
       "      <td>64.8</td>\n",
       "      <td>56.4</td>\n",
       "    </tr>\n",
       "    <tr>\n",
       "      <th>2</th>\n",
       "      <td>product_cart</td>\n",
       "      <td>824</td>\n",
       "      <td>255</td>\n",
       "      <td>30.0</td>\n",
       "      <td>27.5</td>\n",
       "    </tr>\n",
       "    <tr>\n",
       "      <th>3</th>\n",
       "      <td>purchase</td>\n",
       "      <td>872</td>\n",
       "      <td>256</td>\n",
       "      <td>31.7</td>\n",
       "      <td>27.6</td>\n",
       "    </tr>\n",
       "  </tbody>\n",
       "</table>\n",
       "</div>"
      ],
      "text/plain": [
       "group    event_name     A    B  share_A  share_B\n",
       "0             login  2747  928    100.0    100.0\n",
       "1      product_page  1780  523     64.8     56.4\n",
       "2      product_cart   824  255     30.0     27.5\n",
       "3          purchase   872  256     31.7     27.6"
      ]
     },
     "execution_count": 47,
     "metadata": {},
     "output_type": "execute_result"
    }
   ],
   "source": [
    "# посмотрим на таблицу с количеством пользователей из каждой группы с разбивкой по шагам воронки\n",
    "df_test"
   ]
  },
  {
   "cell_type": "code",
   "execution_count": 50,
   "metadata": {},
   "outputs": [],
   "source": [
    "# поправка Бонферрони \n",
    "alpha= .05/ 3\n",
    "\n",
    "# функция проверки гипотезы на равенство долей \n",
    "def stat_difference(group1, group2, alpha_value):\n",
    "    alpha= alpha_value\n",
    "    event_name= df_test['event_name']\n",
    "    \n",
    "    for i in range(1,len(group1)):\n",
    "        \n",
    "        successes= np.array([group1[i], group2[i]])\n",
    "        trials= np.array([group1[0], group2[0]])\n",
    "       \n",
    "        # пропорция успехов в 1 группе\n",
    "        p1= successes[0]/ trials[0]  \n",
    "        # пропорция успехов во 2 группе\n",
    "        p2= successes[1]/ trials[1]  \n",
    "        \n",
    "        \n",
    "        # пропорция успехов в комбинированном датасете\n",
    "        p_combined= (successes[0]+ successes[1])/ (trials[0]+ trials[1]) \n",
    "        # разница пропорций в датасетах\n",
    "        difference= p1 - p2  \n",
    "        \n",
    "        # считаем статистику в ст.отклонениях стандартного нормального распределения\n",
    "        z_value= difference/ mth.sqrt(p_combined* (1 - p_combined)* (1/trials[0]+ 1/ trials[1]))\n",
    "        \n",
    "        # задаем стандартное нормальное распределение (среднее 0, ст.отклонение 1)\n",
    "        distr= st.norm(0, 1)  \n",
    "        p_value= (1- distr.cdf(abs(z_value)))* 2\n",
    "        \n",
    "        # введем поправку Бонферрони, поделим альфа на число гипотез для всех проверок\n",
    "        bonferroni_alpha= alpha/ 3\n",
    "    \n",
    "        print('Для события \"{}\" '.format(event_name[i]), end= '')\n",
    "        print('(P-value =', p_value.round(3),'):')\n",
    "        if (p_value< bonferroni_alpha):\n",
    "            print('Отвергаем нулевую гипотезу о равенстве данных в группах')\n",
    "        else:\n",
    "            print('Не получилось отвергнуть нулевую гипотезу о равенстве данных в группах') \n",
    "            \n",
    "        print('')"
   ]
  },
  {
   "cell_type": "code",
   "execution_count": 51,
   "metadata": {},
   "outputs": [
    {
     "name": "stdout",
     "output_type": "stream",
     "text": [
      "Для события \"product_page\" (P-value = 0.0 ):\n",
      "Отвергаем нулевую гипотезу о равенстве данных в группах\n",
      "\n",
      "Для события \"product_cart\" (P-value = 0.145 ):\n",
      "Не получилось отвергнуть нулевую гипотезу о равенстве данных в группах\n",
      "\n",
      "Для события \"purchase\" (P-value = 0.018 ):\n",
      "Не получилось отвергнуть нулевую гипотезу о равенстве данных в группах\n",
      "\n"
     ]
    }
   ],
   "source": [
    "stat_difference(df_test['A'], df_test['B'], 0.05/3)"
   ]
  },
  {
   "cell_type": "markdown",
   "metadata": {},
   "source": [
    "**Итак,** статистически значимая разницы выявлена только для события \"product_page\" воронки продаж в группах \"А\" и \"В\". На остальных этапах воронки статразницы нет. Это было видно еще из самой воронки, но мы подтвердили это тестом."
   ]
  },
  {
   "cell_type": "markdown",
   "metadata": {},
   "source": [
    "### Общие выводы"
   ]
  },
  {
   "cell_type": "markdown",
   "metadata": {},
   "source": [
    "**Общее заключение о корректности проведения теста**.\n",
    "\n",
    "1. Мы проверили данные на **соответствие ТЗ** и выяснили, что:\n",
    "\n",
    "- Название теста: recommender_system_test - **соответствует ТЗ**\n",
    "- Группы: А — контрольная, B — новая платёжная воронка. Других групп нет в тесте - **соответствует ТЗ**\n",
    "- Дата запуска: 2020-12-07 - **соответствует ТЗ**\n",
    "- Дата остановки набора новых пользователей: 2020-12-21 - **соответствует ТЗ**\n",
    "- Дата остановки: 2021-01-04 - **не соответствует ТЗ**. Тест остановлен 30 Декабря 2020, данные за оставшиеся 5 дней не собирались или были утеряны.\n",
    "- Доля новых пользователей из региона EU без погрешности в 0,5% составляет 15%-  **соответствует ТЗ**\n",
    "- В эксперименте принимают участие 6701 пользователей при ожидаемых 6000 - **соответствует ТЗ**\n",
    "- 1602 пользователя участвовали сразу в 2-ух тестовых группах\n",
    "- Распределение участников по тестовым группам неравномерное. В контрольной группе \"А\" 57% пользователей, в группе \"В\" соотвественно, 43%.  \n",
    "\n",
    "2. Выводы по проведённой **оценке результатов A/B-тестирования**: Проведенный А/В тест можно назвать \"провальным\", так как основные условия ТЗ не были соблюдены:\n",
    "\n",
    "- Дата остановки 2020-12-30 вместо 2021-01-04, при этом данные за 30.12.2020 неполные.\n",
    "- Итоговое количество пучастников теста составило 3675, вместо ожидаемых 6000.\n",
    "- Не был получен ожидаемый эффект: \"за 14 дней с момента регистрации в системе пользователи покажут улучшение каждой метрики не менее, чем на 10%\". Группа \"В\" показала результаты хуже, чем в группе \"А\"\n",
    "\n",
    "3. Обнаружена **статистически значимая** разницы для события **\"product_page\"** воронки продаж в группах \"А\" и \"В\". Коэффициент конверсии группы \"В\" ниже, чем в контрольной группе \"А\" на 9%.\n",
    "\n",
    "**Итог:** \n",
    "- Тест проводился на данных не соответствующих ТЗ, поэтому результаты нельзя считать достоверными. Мы можем только предполагать какие причины на это повлияли: либо корректность проведение самого теста, или же всё-таки изменения на сайте.\n",
    "\n",
    "**Рекомендации:** провести А/В тест еще раз, но на условиях, которые удовлетворяют ТЗ.\n",
    "\n",
    "- количество пользователей в двух группах должно разниться на 0.5-1%\n",
    "- остановка теста должна произойти в согласованное время\n",
    "- количество участников эксперимента должно быть не менее установленного\n",
    "- в период проведения теста не должно быть никаких посторонних активностей"
   ]
  }
 ],
 "metadata": {
  "ExecuteTimeLog": [
   {
    "duration": 1365,
    "start_time": "2023-06-18T12:56:30.852Z"
   },
   {
    "duration": 3,
    "start_time": "2023-06-18T12:58:25.288Z"
   },
   {
    "duration": 2042,
    "start_time": "2023-06-18T13:00:00.691Z"
   },
   {
    "duration": 1098,
    "start_time": "2023-06-18T13:00:04.722Z"
   },
   {
    "duration": 114,
    "start_time": "2023-06-18T13:05:13.544Z"
   },
   {
    "duration": 97,
    "start_time": "2023-06-18T13:39:27.453Z"
   },
   {
    "duration": 80,
    "start_time": "2023-06-18T13:39:29.673Z"
   },
   {
    "duration": 213,
    "start_time": "2023-06-18T14:23:46.489Z"
   },
   {
    "duration": 227,
    "start_time": "2023-06-18T14:23:54.650Z"
   },
   {
    "duration": 211,
    "start_time": "2023-06-18T14:23:59.297Z"
   },
   {
    "duration": 204,
    "start_time": "2023-06-18T14:24:09.277Z"
   },
   {
    "duration": 49,
    "start_time": "2023-06-18T14:30:13.330Z"
   },
   {
    "duration": 60,
    "start_time": "2023-06-18T14:31:24.637Z"
   },
   {
    "duration": 35,
    "start_time": "2023-06-18T14:37:11.845Z"
   },
   {
    "duration": 41,
    "start_time": "2023-06-18T14:57:45.041Z"
   },
   {
    "duration": 36,
    "start_time": "2023-06-18T14:57:46.513Z"
   },
   {
    "duration": 22,
    "start_time": "2023-06-18T15:01:25.902Z"
   },
   {
    "duration": 72,
    "start_time": "2023-06-18T15:01:26.536Z"
   },
   {
    "duration": 7,
    "start_time": "2023-06-18T15:03:23.649Z"
   },
   {
    "duration": 19,
    "start_time": "2023-06-18T15:07:23.908Z"
   },
   {
    "duration": 63,
    "start_time": "2023-06-18T15:07:24.520Z"
   },
   {
    "duration": 218,
    "start_time": "2023-06-18T15:07:26.137Z"
   },
   {
    "duration": 42,
    "start_time": "2023-06-18T15:07:27.346Z"
   },
   {
    "duration": 39,
    "start_time": "2023-06-18T15:07:28.590Z"
   },
   {
    "duration": 7,
    "start_time": "2023-06-18T15:07:31.766Z"
   },
   {
    "duration": 47,
    "start_time": "2023-06-19T07:31:37.746Z"
   },
   {
    "duration": 8,
    "start_time": "2023-06-19T07:31:47.834Z"
   },
   {
    "duration": 7,
    "start_time": "2023-06-19T07:31:50.831Z"
   },
   {
    "duration": 8,
    "start_time": "2023-06-19T07:33:58.563Z"
   },
   {
    "duration": 1645,
    "start_time": "2023-06-19T07:34:13.788Z"
   },
   {
    "duration": 4,
    "start_time": "2023-06-19T07:34:15.435Z"
   },
   {
    "duration": 1355,
    "start_time": "2023-06-19T07:34:15.440Z"
   },
   {
    "duration": 128,
    "start_time": "2023-06-19T07:34:16.798Z"
   },
   {
    "duration": 128,
    "start_time": "2023-06-19T07:34:16.928Z"
   },
   {
    "duration": 84,
    "start_time": "2023-06-19T07:34:17.058Z"
   },
   {
    "duration": 277,
    "start_time": "2023-06-19T07:34:17.144Z"
   },
   {
    "duration": 40,
    "start_time": "2023-06-19T07:34:17.423Z"
   },
   {
    "duration": 66,
    "start_time": "2023-06-19T07:34:17.465Z"
   },
   {
    "duration": 21,
    "start_time": "2023-06-19T07:34:17.534Z"
   },
   {
    "duration": 19,
    "start_time": "2023-06-19T07:34:17.557Z"
   },
   {
    "duration": 4,
    "start_time": "2023-06-19T07:34:26.224Z"
   },
   {
    "duration": 3,
    "start_time": "2023-06-19T07:34:27.015Z"
   },
   {
    "duration": 1267,
    "start_time": "2023-06-19T07:34:27.720Z"
   },
   {
    "duration": 126,
    "start_time": "2023-06-19T07:34:28.989Z"
   },
   {
    "duration": 104,
    "start_time": "2023-06-19T07:34:30.659Z"
   },
   {
    "duration": 79,
    "start_time": "2023-06-19T07:34:31.285Z"
   },
   {
    "duration": 287,
    "start_time": "2023-06-19T07:34:33.360Z"
   },
   {
    "duration": 69,
    "start_time": "2023-06-19T07:34:34.885Z"
   },
   {
    "duration": 32,
    "start_time": "2023-06-19T07:34:37.099Z"
   },
   {
    "duration": 7,
    "start_time": "2023-06-19T07:34:40.976Z"
   },
   {
    "duration": 12,
    "start_time": "2023-06-19T07:34:45.609Z"
   },
   {
    "duration": 10,
    "start_time": "2023-06-19T07:42:16.372Z"
   },
   {
    "duration": 11,
    "start_time": "2023-06-19T07:47:36.499Z"
   },
   {
    "duration": 13,
    "start_time": "2023-06-19T07:47:37.912Z"
   },
   {
    "duration": 7,
    "start_time": "2023-06-19T07:51:35.117Z"
   },
   {
    "duration": 16,
    "start_time": "2023-06-19T08:05:56.427Z"
   },
   {
    "duration": 38,
    "start_time": "2023-06-19T08:36:24.955Z"
   },
   {
    "duration": 36,
    "start_time": "2023-06-19T08:52:23.106Z"
   },
   {
    "duration": 13,
    "start_time": "2023-06-19T08:52:24.853Z"
   },
   {
    "duration": 11,
    "start_time": "2023-06-19T08:52:35.039Z"
   },
   {
    "duration": 12,
    "start_time": "2023-06-19T08:59:43.603Z"
   },
   {
    "duration": 12,
    "start_time": "2023-06-19T09:00:07.031Z"
   },
   {
    "duration": 112,
    "start_time": "2023-06-19T09:12:47.094Z"
   },
   {
    "duration": 11,
    "start_time": "2023-06-19T09:12:54.194Z"
   },
   {
    "duration": 1075,
    "start_time": "2023-06-19T09:13:03.853Z"
   },
   {
    "duration": 1030,
    "start_time": "2023-06-19T09:13:07.853Z"
   },
   {
    "duration": 1105,
    "start_time": "2023-06-19T09:13:20.854Z"
   },
   {
    "duration": 27,
    "start_time": "2023-06-19T09:15:39.629Z"
   },
   {
    "duration": 15,
    "start_time": "2023-06-19T09:20:40.131Z"
   },
   {
    "duration": 1365,
    "start_time": "2023-06-19T09:21:28.732Z"
   },
   {
    "duration": 3,
    "start_time": "2023-06-19T09:21:30.099Z"
   },
   {
    "duration": 1590,
    "start_time": "2023-06-19T09:21:30.104Z"
   },
   {
    "duration": 138,
    "start_time": "2023-06-19T09:21:31.696Z"
   },
   {
    "duration": 142,
    "start_time": "2023-06-19T09:21:31.836Z"
   },
   {
    "duration": 152,
    "start_time": "2023-06-19T09:21:31.979Z"
   },
   {
    "duration": 297,
    "start_time": "2023-06-19T09:21:32.133Z"
   },
   {
    "duration": 53,
    "start_time": "2023-06-19T09:21:32.432Z"
   },
   {
    "duration": 58,
    "start_time": "2023-06-19T09:21:32.487Z"
   },
   {
    "duration": 25,
    "start_time": "2023-06-19T09:21:32.547Z"
   },
   {
    "duration": 58,
    "start_time": "2023-06-19T09:21:32.573Z"
   },
   {
    "duration": 26,
    "start_time": "2023-06-19T09:21:32.636Z"
   },
   {
    "duration": 37,
    "start_time": "2023-06-19T09:21:32.663Z"
   },
   {
    "duration": 58,
    "start_time": "2023-06-19T09:21:32.703Z"
   },
   {
    "duration": 46,
    "start_time": "2023-06-19T09:21:32.763Z"
   },
   {
    "duration": 25,
    "start_time": "2023-06-19T09:21:32.811Z"
   },
   {
    "duration": 25,
    "start_time": "2023-06-19T09:21:32.839Z"
   },
   {
    "duration": 11,
    "start_time": "2023-06-19T09:21:46.177Z"
   },
   {
    "duration": 16,
    "start_time": "2023-06-19T09:21:48.174Z"
   },
   {
    "duration": 12,
    "start_time": "2023-06-19T09:22:32.265Z"
   },
   {
    "duration": 9,
    "start_time": "2023-06-19T09:28:21.027Z"
   },
   {
    "duration": 36,
    "start_time": "2023-06-19T09:34:00.144Z"
   },
   {
    "duration": 105,
    "start_time": "2023-06-19T09:34:47.240Z"
   },
   {
    "duration": 9,
    "start_time": "2023-06-19T09:35:14.228Z"
   },
   {
    "duration": 8,
    "start_time": "2023-06-19T09:36:56.094Z"
   },
   {
    "duration": 12,
    "start_time": "2023-06-19T09:37:11.416Z"
   },
   {
    "duration": 9,
    "start_time": "2023-06-19T09:38:19.037Z"
   },
   {
    "duration": 11,
    "start_time": "2023-06-19T09:38:22.337Z"
   },
   {
    "duration": 12,
    "start_time": "2023-06-19T09:40:05.748Z"
   },
   {
    "duration": 10,
    "start_time": "2023-06-19T09:40:24.753Z"
   },
   {
    "duration": 7,
    "start_time": "2023-06-19T09:40:56.555Z"
   },
   {
    "duration": 6,
    "start_time": "2023-06-19T09:45:59.282Z"
   },
   {
    "duration": 6,
    "start_time": "2023-06-19T09:46:06.134Z"
   },
   {
    "duration": 6,
    "start_time": "2023-06-19T09:46:23.502Z"
   },
   {
    "duration": 6,
    "start_time": "2023-06-19T09:46:29.199Z"
   },
   {
    "duration": 11,
    "start_time": "2023-06-19T09:47:14.227Z"
   },
   {
    "duration": 7,
    "start_time": "2023-06-19T09:47:14.898Z"
   },
   {
    "duration": 10,
    "start_time": "2023-06-19T09:48:16.227Z"
   },
   {
    "duration": 9,
    "start_time": "2023-06-19T09:49:15.952Z"
   },
   {
    "duration": 10,
    "start_time": "2023-06-19T09:49:16.628Z"
   },
   {
    "duration": 12,
    "start_time": "2023-06-19T09:51:38.156Z"
   },
   {
    "duration": 15,
    "start_time": "2023-06-19T09:52:01.920Z"
   },
   {
    "duration": 5,
    "start_time": "2023-06-19T09:53:58.251Z"
   },
   {
    "duration": 5,
    "start_time": "2023-06-19T09:56:21.892Z"
   },
   {
    "duration": 13,
    "start_time": "2023-06-19T09:56:36.411Z"
   },
   {
    "duration": 5,
    "start_time": "2023-06-19T10:02:13.430Z"
   },
   {
    "duration": 14,
    "start_time": "2023-06-19T10:02:14.250Z"
   },
   {
    "duration": 74,
    "start_time": "2023-06-19T12:26:57.280Z"
   },
   {
    "duration": 2497,
    "start_time": "2023-06-19T12:27:12.467Z"
   },
   {
    "duration": 4,
    "start_time": "2023-06-19T12:27:14.968Z"
   },
   {
    "duration": 1652,
    "start_time": "2023-06-19T12:27:14.974Z"
   },
   {
    "duration": 181,
    "start_time": "2023-06-19T12:27:16.628Z"
   },
   {
    "duration": 164,
    "start_time": "2023-06-19T12:27:16.814Z"
   },
   {
    "duration": 126,
    "start_time": "2023-06-19T12:27:16.981Z"
   },
   {
    "duration": 363,
    "start_time": "2023-06-19T12:27:17.109Z"
   },
   {
    "duration": 46,
    "start_time": "2023-06-19T12:27:17.473Z"
   },
   {
    "duration": 56,
    "start_time": "2023-06-19T12:27:17.521Z"
   },
   {
    "duration": 17,
    "start_time": "2023-06-19T12:27:17.581Z"
   },
   {
    "duration": 14,
    "start_time": "2023-06-19T12:27:17.600Z"
   },
   {
    "duration": 15,
    "start_time": "2023-06-19T12:27:17.617Z"
   },
   {
    "duration": 24,
    "start_time": "2023-06-19T12:27:17.634Z"
   },
   {
    "duration": 43,
    "start_time": "2023-06-19T12:27:17.661Z"
   },
   {
    "duration": 39,
    "start_time": "2023-06-19T12:27:17.706Z"
   },
   {
    "duration": 34,
    "start_time": "2023-06-19T12:27:17.747Z"
   },
   {
    "duration": 43,
    "start_time": "2023-06-19T12:27:17.783Z"
   },
   {
    "duration": 89,
    "start_time": "2023-06-19T12:27:17.828Z"
   },
   {
    "duration": 12,
    "start_time": "2023-06-19T12:27:17.919Z"
   },
   {
    "duration": 53,
    "start_time": "2023-06-19T12:27:17.933Z"
   },
   {
    "duration": 42,
    "start_time": "2023-06-19T12:27:17.989Z"
   },
   {
    "duration": 8,
    "start_time": "2023-06-19T12:27:18.034Z"
   },
   {
    "duration": 50,
    "start_time": "2023-06-19T12:27:18.044Z"
   },
   {
    "duration": 13,
    "start_time": "2023-06-19T12:27:18.096Z"
   },
   {
    "duration": 13,
    "start_time": "2023-06-19T12:27:22.695Z"
   },
   {
    "duration": 20,
    "start_time": "2023-06-19T12:30:23.422Z"
   },
   {
    "duration": 255,
    "start_time": "2023-06-19T12:32:28.444Z"
   },
   {
    "duration": 398,
    "start_time": "2023-06-19T12:38:06.995Z"
   },
   {
    "duration": 195,
    "start_time": "2023-06-19T12:40:53.044Z"
   },
   {
    "duration": 24,
    "start_time": "2023-06-19T12:43:27.255Z"
   },
   {
    "duration": 483,
    "start_time": "2023-06-19T12:43:28.012Z"
   },
   {
    "duration": 257,
    "start_time": "2023-06-19T12:43:30.487Z"
   },
   {
    "duration": 225,
    "start_time": "2023-06-19T12:47:53.080Z"
   },
   {
    "duration": 192,
    "start_time": "2023-06-19T12:49:55.057Z"
   },
   {
    "duration": 326,
    "start_time": "2023-06-19T12:49:55.859Z"
   },
   {
    "duration": 244,
    "start_time": "2023-06-19T12:49:57.091Z"
   },
   {
    "duration": 367,
    "start_time": "2023-06-19T12:52:45.967Z"
   },
   {
    "duration": 342,
    "start_time": "2023-06-19T12:52:46.672Z"
   },
   {
    "duration": 35,
    "start_time": "2023-06-19T12:56:25.024Z"
   },
   {
    "duration": 10,
    "start_time": "2023-06-19T12:58:10.932Z"
   },
   {
    "duration": 164,
    "start_time": "2023-06-19T12:58:12.348Z"
   },
   {
    "duration": 400,
    "start_time": "2023-06-19T12:58:16.130Z"
   },
   {
    "duration": 288,
    "start_time": "2023-06-19T12:58:17.449Z"
   },
   {
    "duration": 24,
    "start_time": "2023-06-19T12:58:18.590Z"
   },
   {
    "duration": 12,
    "start_time": "2023-06-19T13:02:53.621Z"
   },
   {
    "duration": 3288,
    "start_time": "2023-06-19T13:03:32.626Z"
   },
   {
    "duration": 16,
    "start_time": "2023-06-19T13:05:10.443Z"
   },
   {
    "duration": 25,
    "start_time": "2023-06-19T13:05:14.994Z"
   },
   {
    "duration": 22,
    "start_time": "2023-06-19T13:05:44.600Z"
   },
   {
    "duration": 14,
    "start_time": "2023-06-19T13:07:40.279Z"
   },
   {
    "duration": 17,
    "start_time": "2023-06-19T13:07:41.145Z"
   },
   {
    "duration": 380,
    "start_time": "2023-06-19T13:07:43.227Z"
   },
   {
    "duration": 255,
    "start_time": "2023-06-19T13:07:44.479Z"
   },
   {
    "duration": 271,
    "start_time": "2023-06-19T13:09:07.786Z"
   },
   {
    "duration": 31,
    "start_time": "2023-06-19T13:09:09.079Z"
   },
   {
    "duration": 38,
    "start_time": "2023-06-19T13:09:10.382Z"
   },
   {
    "duration": 23,
    "start_time": "2023-06-19T13:09:39.083Z"
   },
   {
    "duration": 20,
    "start_time": "2023-06-19T13:09:41.537Z"
   },
   {
    "duration": 761,
    "start_time": "2023-06-19T13:10:00.300Z"
   },
   {
    "duration": 303,
    "start_time": "2023-06-19T13:10:19.885Z"
   },
   {
    "duration": 357,
    "start_time": "2023-06-19T13:10:32.179Z"
   },
   {
    "duration": 266,
    "start_time": "2023-06-19T13:14:12.736Z"
   },
   {
    "duration": 311,
    "start_time": "2023-06-19T13:14:18.520Z"
   },
   {
    "duration": 243,
    "start_time": "2023-06-19T13:15:14.306Z"
   },
   {
    "duration": 322,
    "start_time": "2023-06-19T13:15:19.976Z"
   },
   {
    "duration": 306,
    "start_time": "2023-06-19T13:15:26.618Z"
   },
   {
    "duration": 321,
    "start_time": "2023-06-19T13:15:52.387Z"
   },
   {
    "duration": 310,
    "start_time": "2023-06-19T13:16:15.790Z"
   },
   {
    "duration": 413,
    "start_time": "2023-06-19T13:16:26.598Z"
   },
   {
    "duration": 308,
    "start_time": "2023-06-19T13:16:56.625Z"
   },
   {
    "duration": 26,
    "start_time": "2023-06-19T13:20:02.481Z"
   },
   {
    "duration": 9,
    "start_time": "2023-06-19T13:25:26.118Z"
   },
   {
    "duration": 19,
    "start_time": "2023-06-19T13:32:28.870Z"
   },
   {
    "duration": 9,
    "start_time": "2023-06-19T13:32:32.382Z"
   },
   {
    "duration": 12,
    "start_time": "2023-06-19T13:32:41.491Z"
   },
   {
    "duration": 1648,
    "start_time": "2023-06-19T13:32:53.039Z"
   },
   {
    "duration": 4,
    "start_time": "2023-06-19T13:32:54.690Z"
   },
   {
    "duration": 1642,
    "start_time": "2023-06-19T13:32:54.696Z"
   },
   {
    "duration": 165,
    "start_time": "2023-06-19T13:32:56.340Z"
   },
   {
    "duration": 167,
    "start_time": "2023-06-19T13:32:56.507Z"
   },
   {
    "duration": 105,
    "start_time": "2023-06-19T13:32:56.677Z"
   },
   {
    "duration": 354,
    "start_time": "2023-06-19T13:32:56.783Z"
   },
   {
    "duration": 60,
    "start_time": "2023-06-19T13:32:57.139Z"
   },
   {
    "duration": 56,
    "start_time": "2023-06-19T13:32:57.201Z"
   },
   {
    "duration": 9,
    "start_time": "2023-06-19T13:32:57.260Z"
   },
   {
    "duration": 40,
    "start_time": "2023-06-19T13:32:57.271Z"
   },
   {
    "duration": 20,
    "start_time": "2023-06-19T13:32:57.314Z"
   },
   {
    "duration": 13,
    "start_time": "2023-06-19T13:32:57.336Z"
   },
   {
    "duration": 21,
    "start_time": "2023-06-19T13:32:57.352Z"
   },
   {
    "duration": 49,
    "start_time": "2023-06-19T13:32:57.375Z"
   },
   {
    "duration": 15,
    "start_time": "2023-06-19T13:32:57.426Z"
   },
   {
    "duration": 17,
    "start_time": "2023-06-19T13:32:57.443Z"
   },
   {
    "duration": 103,
    "start_time": "2023-06-19T13:32:57.462Z"
   },
   {
    "duration": 26,
    "start_time": "2023-06-19T13:32:57.567Z"
   },
   {
    "duration": 13,
    "start_time": "2023-06-19T13:32:57.595Z"
   },
   {
    "duration": 11,
    "start_time": "2023-06-19T13:32:57.610Z"
   },
   {
    "duration": 12,
    "start_time": "2023-06-19T13:32:57.622Z"
   },
   {
    "duration": 28,
    "start_time": "2023-06-19T13:32:57.636Z"
   },
   {
    "duration": 34,
    "start_time": "2023-06-19T13:32:57.666Z"
   },
   {
    "duration": 16,
    "start_time": "2023-06-19T13:32:57.702Z"
   },
   {
    "duration": 403,
    "start_time": "2023-06-19T13:32:57.720Z"
   },
   {
    "duration": 246,
    "start_time": "2023-06-19T13:32:58.125Z"
   },
   {
    "duration": 222,
    "start_time": "2023-06-19T13:32:58.375Z"
   },
   {
    "duration": 22,
    "start_time": "2023-06-19T13:32:58.600Z"
   },
   {
    "duration": 466,
    "start_time": "2023-06-19T13:32:58.625Z"
   },
   {
    "duration": 20,
    "start_time": "2023-06-19T13:32:59.093Z"
   },
   {
    "duration": 9,
    "start_time": "2023-06-19T13:32:59.114Z"
   },
   {
    "duration": 12,
    "start_time": "2023-06-19T13:33:06.878Z"
   },
   {
    "duration": 195,
    "start_time": "2023-06-19T13:37:51.221Z"
   },
   {
    "duration": 33,
    "start_time": "2023-06-19T13:38:25.010Z"
   },
   {
    "duration": 201,
    "start_time": "2023-06-19T13:39:25.714Z"
   },
   {
    "duration": 28,
    "start_time": "2023-06-19T13:39:40.646Z"
   },
   {
    "duration": 207,
    "start_time": "2023-06-19T13:39:41.602Z"
   },
   {
    "duration": 10,
    "start_time": "2023-06-19T13:39:54.993Z"
   },
   {
    "duration": 26,
    "start_time": "2023-06-19T13:40:00.917Z"
   },
   {
    "duration": 291,
    "start_time": "2023-06-19T13:40:14.836Z"
   },
   {
    "duration": 24,
    "start_time": "2023-06-19T13:41:51.628Z"
   },
   {
    "duration": 305,
    "start_time": "2023-06-19T13:42:00.425Z"
   },
   {
    "duration": 376,
    "start_time": "2023-06-19T13:42:30.619Z"
   },
   {
    "duration": 383,
    "start_time": "2023-06-19T13:45:39.979Z"
   },
   {
    "duration": 410,
    "start_time": "2023-06-19T13:45:52.795Z"
   },
   {
    "duration": 360,
    "start_time": "2023-06-19T13:46:06.776Z"
   },
   {
    "duration": 335,
    "start_time": "2023-06-19T13:46:25.431Z"
   },
   {
    "duration": 365,
    "start_time": "2023-06-19T13:46:41.093Z"
   },
   {
    "duration": 35,
    "start_time": "2023-06-19T13:48:42.796Z"
   },
   {
    "duration": 28,
    "start_time": "2023-06-19T13:51:42.927Z"
   },
   {
    "duration": 140,
    "start_time": "2023-06-19T14:03:57.774Z"
   },
   {
    "duration": 243,
    "start_time": "2023-06-19T14:03:58.767Z"
   },
   {
    "duration": 21,
    "start_time": "2023-06-19T14:04:00.803Z"
   },
   {
    "duration": 11,
    "start_time": "2023-06-19T14:04:02.979Z"
   },
   {
    "duration": 25,
    "start_time": "2023-06-19T14:05:20.535Z"
   },
   {
    "duration": 9,
    "start_time": "2023-06-19T14:05:25.803Z"
   },
   {
    "duration": 20,
    "start_time": "2023-06-19T14:05:26.526Z"
   },
   {
    "duration": 1902,
    "start_time": "2023-06-19T14:05:29.579Z"
   },
   {
    "duration": 301,
    "start_time": "2023-06-19T14:07:21.032Z"
   },
   {
    "duration": 25,
    "start_time": "2023-06-19T14:07:25.486Z"
   },
   {
    "duration": 246,
    "start_time": "2023-06-19T14:08:08.537Z"
   },
   {
    "duration": 234,
    "start_time": "2023-06-19T14:08:14.304Z"
   },
   {
    "duration": 230,
    "start_time": "2023-06-19T14:08:26.687Z"
   },
   {
    "duration": 224,
    "start_time": "2023-06-19T14:08:33.400Z"
   },
   {
    "duration": 218,
    "start_time": "2023-06-19T14:08:48.776Z"
   },
   {
    "duration": 225,
    "start_time": "2023-06-19T14:08:56.782Z"
   },
   {
    "duration": 215,
    "start_time": "2023-06-19T14:09:08.282Z"
   },
   {
    "duration": 225,
    "start_time": "2023-06-19T14:09:12.886Z"
   },
   {
    "duration": 1324,
    "start_time": "2023-06-20T06:16:08.215Z"
   },
   {
    "duration": 3,
    "start_time": "2023-06-20T06:16:09.541Z"
   },
   {
    "duration": 1260,
    "start_time": "2023-06-20T06:16:09.545Z"
   },
   {
    "duration": 126,
    "start_time": "2023-06-20T06:16:10.808Z"
   },
   {
    "duration": 133,
    "start_time": "2023-06-20T06:16:10.935Z"
   },
   {
    "duration": 79,
    "start_time": "2023-06-20T06:16:11.069Z"
   },
   {
    "duration": 276,
    "start_time": "2023-06-20T06:16:11.150Z"
   },
   {
    "duration": 53,
    "start_time": "2023-06-20T06:16:11.428Z"
   },
   {
    "duration": 37,
    "start_time": "2023-06-20T06:16:11.482Z"
   },
   {
    "duration": 9,
    "start_time": "2023-06-20T06:16:11.521Z"
   },
   {
    "duration": 19,
    "start_time": "2023-06-20T06:16:11.532Z"
   },
   {
    "duration": 35,
    "start_time": "2023-06-20T06:16:11.553Z"
   },
   {
    "duration": 10,
    "start_time": "2023-06-20T06:16:11.590Z"
   },
   {
    "duration": 25,
    "start_time": "2023-06-20T06:16:11.602Z"
   },
   {
    "duration": 49,
    "start_time": "2023-06-20T06:16:11.629Z"
   },
   {
    "duration": 23,
    "start_time": "2023-06-20T06:16:11.680Z"
   },
   {
    "duration": 22,
    "start_time": "2023-06-20T06:16:11.705Z"
   },
   {
    "duration": 50,
    "start_time": "2023-06-20T06:16:11.729Z"
   },
   {
    "duration": 10,
    "start_time": "2023-06-20T06:16:11.783Z"
   },
   {
    "duration": 14,
    "start_time": "2023-06-20T06:16:11.795Z"
   },
   {
    "duration": 12,
    "start_time": "2023-06-20T06:16:11.811Z"
   },
   {
    "duration": 5,
    "start_time": "2023-06-20T06:16:11.825Z"
   },
   {
    "duration": 17,
    "start_time": "2023-06-20T06:16:11.832Z"
   },
   {
    "duration": 13,
    "start_time": "2023-06-20T06:16:11.877Z"
   },
   {
    "duration": 20,
    "start_time": "2023-06-20T06:16:11.892Z"
   },
   {
    "duration": 385,
    "start_time": "2023-06-20T06:16:11.915Z"
   },
   {
    "duration": 201,
    "start_time": "2023-06-20T06:16:12.301Z"
   },
   {
    "duration": 131,
    "start_time": "2023-06-20T06:16:12.505Z"
   },
   {
    "duration": 269,
    "start_time": "2023-06-20T06:16:12.638Z"
   },
   {
    "duration": 16,
    "start_time": "2023-06-20T06:16:12.909Z"
   },
   {
    "duration": 8,
    "start_time": "2023-06-20T06:16:12.927Z"
   },
   {
    "duration": 42,
    "start_time": "2023-06-20T06:16:12.937Z"
   },
   {
    "duration": 272,
    "start_time": "2023-06-20T06:16:12.981Z"
   },
   {
    "duration": 32,
    "start_time": "2023-06-20T06:16:13.255Z"
   },
   {
    "duration": 195,
    "start_time": "2023-06-20T06:16:25.854Z"
   },
   {
    "duration": 263,
    "start_time": "2023-06-20T06:20:42.235Z"
   },
   {
    "duration": 222,
    "start_time": "2023-06-20T06:22:00.492Z"
   },
   {
    "duration": 209,
    "start_time": "2023-06-20T06:24:45.866Z"
   },
   {
    "duration": 212,
    "start_time": "2023-06-20T06:25:14.789Z"
   },
   {
    "duration": 211,
    "start_time": "2023-06-20T06:25:19.000Z"
   },
   {
    "duration": 242,
    "start_time": "2023-06-20T06:26:24.174Z"
   },
   {
    "duration": 196,
    "start_time": "2023-06-20T06:26:40.765Z"
   },
   {
    "duration": 265,
    "start_time": "2023-06-20T06:27:47.240Z"
   },
   {
    "duration": 314,
    "start_time": "2023-06-20T06:28:00.297Z"
   },
   {
    "duration": 171,
    "start_time": "2023-06-20T06:28:15.312Z"
   },
   {
    "duration": 170,
    "start_time": "2023-06-20T06:28:24.735Z"
   },
   {
    "duration": 360,
    "start_time": "2023-06-20T06:28:45.437Z"
   },
   {
    "duration": 196,
    "start_time": "2023-06-20T06:29:01.496Z"
   },
   {
    "duration": 235,
    "start_time": "2023-06-20T06:29:33.075Z"
   },
   {
    "duration": 11,
    "start_time": "2023-06-20T06:29:38.679Z"
   },
   {
    "duration": 6,
    "start_time": "2023-06-20T06:29:40.088Z"
   },
   {
    "duration": 19,
    "start_time": "2023-06-20T06:29:41.027Z"
   },
   {
    "duration": 214,
    "start_time": "2023-06-20T06:29:42.068Z"
   },
   {
    "duration": 260,
    "start_time": "2023-06-20T06:29:43.456Z"
   },
   {
    "duration": 220,
    "start_time": "2023-06-20T06:30:24.431Z"
   },
   {
    "duration": 203,
    "start_time": "2023-06-20T06:30:54.195Z"
   },
   {
    "duration": 216,
    "start_time": "2023-06-20T06:30:58.579Z"
   },
   {
    "duration": 1266,
    "start_time": "2023-06-20T06:31:10.751Z"
   },
   {
    "duration": 3,
    "start_time": "2023-06-20T06:31:12.021Z"
   },
   {
    "duration": 1205,
    "start_time": "2023-06-20T06:31:12.025Z"
   },
   {
    "duration": 112,
    "start_time": "2023-06-20T06:31:13.232Z"
   },
   {
    "duration": 117,
    "start_time": "2023-06-20T06:31:13.345Z"
   },
   {
    "duration": 73,
    "start_time": "2023-06-20T06:31:13.463Z"
   },
   {
    "duration": 268,
    "start_time": "2023-06-20T06:31:13.538Z"
   },
   {
    "duration": 48,
    "start_time": "2023-06-20T06:31:13.808Z"
   },
   {
    "duration": 61,
    "start_time": "2023-06-20T06:31:13.858Z"
   },
   {
    "duration": 9,
    "start_time": "2023-06-20T06:31:13.921Z"
   },
   {
    "duration": 22,
    "start_time": "2023-06-20T06:31:13.931Z"
   },
   {
    "duration": 12,
    "start_time": "2023-06-20T06:31:13.954Z"
   },
   {
    "duration": 24,
    "start_time": "2023-06-20T06:31:13.968Z"
   },
   {
    "duration": 36,
    "start_time": "2023-06-20T06:31:13.994Z"
   },
   {
    "duration": 26,
    "start_time": "2023-06-20T06:31:14.032Z"
   },
   {
    "duration": 10,
    "start_time": "2023-06-20T06:31:14.060Z"
   },
   {
    "duration": 14,
    "start_time": "2023-06-20T06:31:14.072Z"
   },
   {
    "duration": 44,
    "start_time": "2023-06-20T06:31:14.087Z"
   },
   {
    "duration": 9,
    "start_time": "2023-06-20T06:31:14.132Z"
   },
   {
    "duration": 12,
    "start_time": "2023-06-20T06:31:14.142Z"
   },
   {
    "duration": 9,
    "start_time": "2023-06-20T06:31:14.156Z"
   },
   {
    "duration": 10,
    "start_time": "2023-06-20T06:31:14.167Z"
   },
   {
    "duration": 30,
    "start_time": "2023-06-20T06:31:14.179Z"
   },
   {
    "duration": 8,
    "start_time": "2023-06-20T06:31:14.211Z"
   },
   {
    "duration": 21,
    "start_time": "2023-06-20T06:31:14.220Z"
   },
   {
    "duration": 294,
    "start_time": "2023-06-20T06:31:14.243Z"
   },
   {
    "duration": 182,
    "start_time": "2023-06-20T06:31:14.538Z"
   },
   {
    "duration": 141,
    "start_time": "2023-06-20T06:31:14.723Z"
   },
   {
    "duration": 271,
    "start_time": "2023-06-20T06:31:14.866Z"
   },
   {
    "duration": 16,
    "start_time": "2023-06-20T06:31:15.138Z"
   },
   {
    "duration": 19,
    "start_time": "2023-06-20T06:31:15.156Z"
   },
   {
    "duration": 38,
    "start_time": "2023-06-20T06:31:15.177Z"
   },
   {
    "duration": 206,
    "start_time": "2023-06-20T06:31:15.217Z"
   },
   {
    "duration": 254,
    "start_time": "2023-06-20T06:31:15.425Z"
   },
   {
    "duration": 23,
    "start_time": "2023-06-20T06:31:15.680Z"
   },
   {
    "duration": 274,
    "start_time": "2023-06-20T06:32:17.115Z"
   },
   {
    "duration": 233,
    "start_time": "2023-06-20T06:32:46.229Z"
   },
   {
    "duration": 202,
    "start_time": "2023-06-20T06:33:33.299Z"
   },
   {
    "duration": 210,
    "start_time": "2023-06-20T06:34:17.061Z"
   },
   {
    "duration": 202,
    "start_time": "2023-06-20T06:34:33.340Z"
   },
   {
    "duration": 238,
    "start_time": "2023-06-20T06:35:05.995Z"
   },
   {
    "duration": 136,
    "start_time": "2023-06-20T06:35:10.459Z"
   },
   {
    "duration": 20,
    "start_time": "2023-06-20T06:35:34.208Z"
   },
   {
    "duration": 21,
    "start_time": "2023-06-20T06:35:40.444Z"
   },
   {
    "duration": 128,
    "start_time": "2023-06-20T06:35:41.859Z"
   },
   {
    "duration": 262,
    "start_time": "2023-06-20T06:36:26.386Z"
   },
   {
    "duration": 189,
    "start_time": "2023-06-20T06:37:42.941Z"
   },
   {
    "duration": 215,
    "start_time": "2023-06-20T06:37:55.009Z"
   },
   {
    "duration": 348,
    "start_time": "2023-06-20T06:38:08.958Z"
   },
   {
    "duration": 195,
    "start_time": "2023-06-20T06:38:17.103Z"
   },
   {
    "duration": 193,
    "start_time": "2023-06-20T06:38:33.296Z"
   },
   {
    "duration": 190,
    "start_time": "2023-06-20T06:39:33.185Z"
   },
   {
    "duration": 116,
    "start_time": "2023-06-20T06:41:14.989Z"
   },
   {
    "duration": 12,
    "start_time": "2023-06-20T06:41:27.702Z"
   },
   {
    "duration": 254,
    "start_time": "2023-06-20T06:42:08.727Z"
   },
   {
    "duration": 246,
    "start_time": "2023-06-20T06:42:17.548Z"
   },
   {
    "duration": 25,
    "start_time": "2023-06-20T06:42:31.898Z"
   },
   {
    "duration": 197,
    "start_time": "2023-06-20T06:44:42.312Z"
   },
   {
    "duration": 9,
    "start_time": "2023-06-20T06:44:45.049Z"
   },
   {
    "duration": 118,
    "start_time": "2023-06-20T06:44:52.317Z"
   },
   {
    "duration": 189,
    "start_time": "2023-06-20T06:44:53.262Z"
   },
   {
    "duration": 17,
    "start_time": "2023-06-20T06:44:55.074Z"
   },
   {
    "duration": 8,
    "start_time": "2023-06-20T06:44:57.308Z"
   },
   {
    "duration": 20,
    "start_time": "2023-06-20T06:44:58.075Z"
   },
   {
    "duration": 202,
    "start_time": "2023-06-20T06:44:58.881Z"
   },
   {
    "duration": 77,
    "start_time": "2023-06-20T06:45:00.806Z"
   },
   {
    "duration": 390,
    "start_time": "2023-06-20T06:45:01.648Z"
   },
   {
    "duration": 32,
    "start_time": "2023-06-20T06:45:03.180Z"
   },
   {
    "duration": 9,
    "start_time": "2023-06-20T06:48:55.220Z"
   },
   {
    "duration": 11,
    "start_time": "2023-06-20T06:49:06.257Z"
   },
   {
    "duration": 19,
    "start_time": "2023-06-20T06:49:29.159Z"
   },
   {
    "duration": 11,
    "start_time": "2023-06-20T06:52:35.870Z"
   },
   {
    "duration": 10,
    "start_time": "2023-06-20T06:52:39.098Z"
   },
   {
    "duration": 9,
    "start_time": "2023-06-20T06:52:47.410Z"
   },
   {
    "duration": 28,
    "start_time": "2023-06-20T06:56:01.941Z"
   },
   {
    "duration": 9,
    "start_time": "2023-06-20T06:56:15.463Z"
   },
   {
    "duration": 29,
    "start_time": "2023-06-20T06:56:17.003Z"
   },
   {
    "duration": 27,
    "start_time": "2023-06-20T06:57:24.015Z"
   },
   {
    "duration": 29,
    "start_time": "2023-06-20T06:57:40.619Z"
   },
   {
    "duration": 26,
    "start_time": "2023-06-20T06:57:53.962Z"
   },
   {
    "duration": 172,
    "start_time": "2023-06-20T06:58:25.500Z"
   },
   {
    "duration": 12,
    "start_time": "2023-06-20T06:59:15.663Z"
   },
   {
    "duration": 40,
    "start_time": "2023-06-20T07:00:06.512Z"
   },
   {
    "duration": 11,
    "start_time": "2023-06-20T07:02:12.524Z"
   },
   {
    "duration": 13,
    "start_time": "2023-06-20T07:02:32.279Z"
   },
   {
    "duration": 88,
    "start_time": "2023-06-20T07:23:59.292Z"
   },
   {
    "duration": 9,
    "start_time": "2023-06-20T07:45:07.639Z"
   },
   {
    "duration": 6,
    "start_time": "2023-06-20T07:50:32.063Z"
   },
   {
    "duration": 20,
    "start_time": "2023-06-20T07:51:09.121Z"
   },
   {
    "duration": 10,
    "start_time": "2023-06-20T07:51:48.440Z"
   },
   {
    "duration": 9,
    "start_time": "2023-06-20T07:51:53.492Z"
   },
   {
    "duration": 15,
    "start_time": "2023-06-20T07:51:54.195Z"
   },
   {
    "duration": 9,
    "start_time": "2023-06-20T07:52:16.989Z"
   },
   {
    "duration": 8,
    "start_time": "2023-06-20T07:52:17.768Z"
   },
   {
    "duration": 6,
    "start_time": "2023-06-20T07:57:24.718Z"
   },
   {
    "duration": 13,
    "start_time": "2023-06-20T07:57:25.453Z"
   },
   {
    "duration": 6,
    "start_time": "2023-06-20T07:57:39.103Z"
   },
   {
    "duration": 11,
    "start_time": "2023-06-20T07:57:39.853Z"
   },
   {
    "duration": 6,
    "start_time": "2023-06-20T07:57:57.609Z"
   },
   {
    "duration": 9,
    "start_time": "2023-06-20T07:57:58.285Z"
   },
   {
    "duration": 297,
    "start_time": "2023-06-20T08:06:31.944Z"
   },
   {
    "duration": 8,
    "start_time": "2023-06-20T08:11:16.531Z"
   },
   {
    "duration": 1283,
    "start_time": "2023-06-20T08:17:00.372Z"
   },
   {
    "duration": 4,
    "start_time": "2023-06-20T08:17:01.657Z"
   },
   {
    "duration": 1284,
    "start_time": "2023-06-20T08:17:01.662Z"
   },
   {
    "duration": 135,
    "start_time": "2023-06-20T08:17:02.948Z"
   },
   {
    "duration": 143,
    "start_time": "2023-06-20T08:17:03.084Z"
   },
   {
    "duration": 92,
    "start_time": "2023-06-20T08:17:03.229Z"
   },
   {
    "duration": 294,
    "start_time": "2023-06-20T08:17:03.323Z"
   },
   {
    "duration": 56,
    "start_time": "2023-06-20T08:17:03.619Z"
   },
   {
    "duration": 38,
    "start_time": "2023-06-20T08:17:03.677Z"
   },
   {
    "duration": 16,
    "start_time": "2023-06-20T08:17:03.718Z"
   },
   {
    "duration": 19,
    "start_time": "2023-06-20T08:17:03.736Z"
   },
   {
    "duration": 32,
    "start_time": "2023-06-20T08:17:03.757Z"
   },
   {
    "duration": 20,
    "start_time": "2023-06-20T08:17:03.791Z"
   },
   {
    "duration": 22,
    "start_time": "2023-06-20T08:17:03.813Z"
   },
   {
    "duration": 45,
    "start_time": "2023-06-20T08:17:03.838Z"
   },
   {
    "duration": 11,
    "start_time": "2023-06-20T08:17:03.885Z"
   },
   {
    "duration": 16,
    "start_time": "2023-06-20T08:17:03.898Z"
   },
   {
    "duration": 56,
    "start_time": "2023-06-20T08:17:03.916Z"
   },
   {
    "duration": 11,
    "start_time": "2023-06-20T08:17:03.974Z"
   },
   {
    "duration": 12,
    "start_time": "2023-06-20T08:17:03.987Z"
   },
   {
    "duration": 22,
    "start_time": "2023-06-20T08:17:04.000Z"
   },
   {
    "duration": 13,
    "start_time": "2023-06-20T08:17:04.024Z"
   },
   {
    "duration": 20,
    "start_time": "2023-06-20T08:17:04.038Z"
   },
   {
    "duration": 17,
    "start_time": "2023-06-20T08:17:04.060Z"
   },
   {
    "duration": 17,
    "start_time": "2023-06-20T08:17:04.079Z"
   },
   {
    "duration": 316,
    "start_time": "2023-06-20T08:17:04.098Z"
   },
   {
    "duration": 204,
    "start_time": "2023-06-20T08:17:04.416Z"
   },
   {
    "duration": 148,
    "start_time": "2023-06-20T08:17:04.623Z"
   },
   {
    "duration": 282,
    "start_time": "2023-06-20T08:17:04.772Z"
   },
   {
    "duration": 30,
    "start_time": "2023-06-20T08:17:05.056Z"
   },
   {
    "duration": 8,
    "start_time": "2023-06-20T08:17:05.087Z"
   },
   {
    "duration": 33,
    "start_time": "2023-06-20T08:17:05.096Z"
   },
   {
    "duration": 234,
    "start_time": "2023-06-20T08:17:05.130Z"
   },
   {
    "duration": 319,
    "start_time": "2023-06-20T08:17:05.366Z"
   },
   {
    "duration": 28,
    "start_time": "2023-06-20T08:17:05.687Z"
   },
   {
    "duration": 11,
    "start_time": "2023-06-20T08:17:05.716Z"
   },
   {
    "duration": 167,
    "start_time": "2023-06-20T08:17:05.729Z"
   },
   {
    "duration": 158,
    "start_time": "2023-06-20T08:17:05.898Z"
   },
   {
    "duration": 9,
    "start_time": "2023-06-20T08:17:06.058Z"
   },
   {
    "duration": 28,
    "start_time": "2023-06-20T08:17:06.076Z"
   },
   {
    "duration": 75,
    "start_time": "2023-06-20T08:17:06.106Z"
   },
   {
    "duration": 4,
    "start_time": "2023-06-20T08:17:21.035Z"
   },
   {
    "duration": 4,
    "start_time": "2023-06-20T08:17:22.725Z"
   },
   {
    "duration": 1087,
    "start_time": "2023-06-20T08:17:24.100Z"
   },
   {
    "duration": 142,
    "start_time": "2023-06-20T08:17:25.190Z"
   },
   {
    "duration": 120,
    "start_time": "2023-06-20T08:17:28.260Z"
   },
   {
    "duration": 85,
    "start_time": "2023-06-20T08:17:29.126Z"
   },
   {
    "duration": 310,
    "start_time": "2023-06-20T08:17:32.307Z"
   },
   {
    "duration": 75,
    "start_time": "2023-06-20T08:17:34.351Z"
   },
   {
    "duration": 40,
    "start_time": "2023-06-20T08:17:36.130Z"
   },
   {
    "duration": 8,
    "start_time": "2023-06-20T08:17:39.769Z"
   },
   {
    "duration": 8,
    "start_time": "2023-06-20T08:19:03.261Z"
   },
   {
    "duration": 14,
    "start_time": "2023-06-20T08:19:44.304Z"
   },
   {
    "duration": 10,
    "start_time": "2023-06-20T08:19:56.917Z"
   },
   {
    "duration": 6,
    "start_time": "2023-06-20T08:20:12.155Z"
   },
   {
    "duration": 22,
    "start_time": "2023-06-20T08:23:57.359Z"
   },
   {
    "duration": 39,
    "start_time": "2023-06-20T08:24:34.409Z"
   },
   {
    "duration": 13,
    "start_time": "2023-06-20T08:29:16.896Z"
   },
   {
    "duration": 9,
    "start_time": "2023-06-20T08:29:28.524Z"
   },
   {
    "duration": 9,
    "start_time": "2023-06-20T08:31:27.353Z"
   },
   {
    "duration": 36,
    "start_time": "2023-06-20T08:31:53.437Z"
   },
   {
    "duration": 12,
    "start_time": "2023-06-20T08:31:56.016Z"
   },
   {
    "duration": 11,
    "start_time": "2023-06-20T08:33:11.609Z"
   },
   {
    "duration": 10,
    "start_time": "2023-06-20T08:33:19.679Z"
   },
   {
    "duration": 10,
    "start_time": "2023-06-20T08:34:18.707Z"
   },
   {
    "duration": 13,
    "start_time": "2023-06-20T08:34:20.646Z"
   },
   {
    "duration": 11,
    "start_time": "2023-06-20T08:34:26.356Z"
   },
   {
    "duration": 292,
    "start_time": "2023-06-20T08:36:50.090Z"
   },
   {
    "duration": 76,
    "start_time": "2023-06-20T08:36:55.855Z"
   },
   {
    "duration": 5,
    "start_time": "2023-06-20T08:37:42.175Z"
   },
   {
    "duration": 15,
    "start_time": "2023-06-20T08:37:48.822Z"
   },
   {
    "duration": 6,
    "start_time": "2023-06-20T08:38:40.776Z"
   },
   {
    "duration": 20,
    "start_time": "2023-06-20T08:38:41.537Z"
   },
   {
    "duration": 10,
    "start_time": "2023-06-20T08:38:56.261Z"
   },
   {
    "duration": 12,
    "start_time": "2023-06-20T08:40:14.543Z"
   },
   {
    "duration": 221,
    "start_time": "2023-06-20T08:48:26.147Z"
   },
   {
    "duration": 213,
    "start_time": "2023-06-20T08:58:33.921Z"
   },
   {
    "duration": 153,
    "start_time": "2023-06-20T08:58:36.897Z"
   },
   {
    "duration": 221,
    "start_time": "2023-06-20T08:58:37.788Z"
   },
   {
    "duration": 195,
    "start_time": "2023-06-20T08:59:36.871Z"
   },
   {
    "duration": 21,
    "start_time": "2023-06-20T09:04:08.998Z"
   },
   {
    "duration": 15,
    "start_time": "2023-06-20T09:04:14.984Z"
   },
   {
    "duration": 14,
    "start_time": "2023-06-20T09:04:35.173Z"
   },
   {
    "duration": 8,
    "start_time": "2023-06-20T09:05:02.677Z"
   },
   {
    "duration": 22,
    "start_time": "2023-06-20T09:05:03.511Z"
   },
   {
    "duration": 191,
    "start_time": "2023-06-20T09:05:04.299Z"
   },
   {
    "duration": 261,
    "start_time": "2023-06-20T09:09:26.945Z"
   },
   {
    "duration": 24,
    "start_time": "2023-06-20T09:09:32.645Z"
   },
   {
    "duration": 24,
    "start_time": "2023-06-20T09:09:53.424Z"
   },
   {
    "duration": 27,
    "start_time": "2023-06-20T09:10:01.045Z"
   },
   {
    "duration": 269,
    "start_time": "2023-06-20T09:19:40.706Z"
   },
   {
    "duration": 27,
    "start_time": "2023-06-20T09:19:41.675Z"
   },
   {
    "duration": 10,
    "start_time": "2023-06-20T09:19:44.123Z"
   },
   {
    "duration": 28,
    "start_time": "2023-06-20T09:20:35.802Z"
   },
   {
    "duration": 13,
    "start_time": "2023-06-20T09:21:29.028Z"
   },
   {
    "duration": 54,
    "start_time": "2023-06-20T10:38:14.103Z"
   },
   {
    "duration": 7,
    "start_time": "2023-06-20T10:38:17.426Z"
   },
   {
    "duration": 8,
    "start_time": "2023-06-20T10:38:31.770Z"
   },
   {
    "duration": 1542,
    "start_time": "2023-06-20T10:38:43.263Z"
   },
   {
    "duration": 17,
    "start_time": "2023-06-20T10:38:44.808Z"
   },
   {
    "duration": 1225,
    "start_time": "2023-06-20T10:38:44.827Z"
   },
   {
    "duration": 179,
    "start_time": "2023-06-20T10:38:46.054Z"
   },
   {
    "duration": 148,
    "start_time": "2023-06-20T10:38:46.236Z"
   },
   {
    "duration": 95,
    "start_time": "2023-06-20T10:38:46.385Z"
   },
   {
    "duration": 332,
    "start_time": "2023-06-20T10:38:46.481Z"
   },
   {
    "duration": 72,
    "start_time": "2023-06-20T10:38:46.814Z"
   },
   {
    "duration": 109,
    "start_time": "2023-06-20T10:38:46.888Z"
   },
   {
    "duration": 79,
    "start_time": "2023-06-20T10:38:47.000Z"
   },
   {
    "duration": 55,
    "start_time": "2023-06-20T10:38:47.082Z"
   },
   {
    "duration": 44,
    "start_time": "2023-06-20T10:38:47.138Z"
   },
   {
    "duration": 27,
    "start_time": "2023-06-20T10:38:47.184Z"
   },
   {
    "duration": 25,
    "start_time": "2023-06-20T10:38:47.218Z"
   },
   {
    "duration": 47,
    "start_time": "2023-06-20T10:38:47.244Z"
   },
   {
    "duration": 12,
    "start_time": "2023-06-20T10:38:47.292Z"
   },
   {
    "duration": 21,
    "start_time": "2023-06-20T10:38:47.307Z"
   },
   {
    "duration": 81,
    "start_time": "2023-06-20T10:38:47.329Z"
   },
   {
    "duration": 19,
    "start_time": "2023-06-20T10:38:47.412Z"
   },
   {
    "duration": 143,
    "start_time": "2023-06-20T10:38:47.433Z"
   },
   {
    "duration": 161,
    "start_time": "2023-06-20T10:38:47.578Z"
   },
   {
    "duration": 34,
    "start_time": "2023-06-20T10:38:47.743Z"
   },
   {
    "duration": 25,
    "start_time": "2023-06-20T10:38:47.779Z"
   },
   {
    "duration": 20,
    "start_time": "2023-06-20T10:38:47.806Z"
   },
   {
    "duration": 19,
    "start_time": "2023-06-20T10:38:47.828Z"
   },
   {
    "duration": 420,
    "start_time": "2023-06-20T10:38:47.849Z"
   },
   {
    "duration": 228,
    "start_time": "2023-06-20T10:38:48.271Z"
   },
   {
    "duration": 150,
    "start_time": "2023-06-20T10:38:48.504Z"
   },
   {
    "duration": 327,
    "start_time": "2023-06-20T10:38:48.657Z"
   },
   {
    "duration": 29,
    "start_time": "2023-06-20T10:38:48.986Z"
   },
   {
    "duration": 192,
    "start_time": "2023-06-20T10:38:49.017Z"
   },
   {
    "duration": 250,
    "start_time": "2023-06-20T10:38:49.211Z"
   },
   {
    "duration": 425,
    "start_time": "2023-06-20T10:38:49.463Z"
   },
   {
    "duration": 369,
    "start_time": "2023-06-20T10:38:49.891Z"
   },
   {
    "duration": 28,
    "start_time": "2023-06-20T10:38:50.262Z"
   },
   {
    "duration": 26,
    "start_time": "2023-06-20T10:38:50.292Z"
   },
   {
    "duration": 121,
    "start_time": "2023-06-20T10:38:50.320Z"
   },
   {
    "duration": 232,
    "start_time": "2023-06-20T10:38:50.443Z"
   },
   {
    "duration": 9,
    "start_time": "2023-06-20T10:38:50.676Z"
   },
   {
    "duration": 40,
    "start_time": "2023-06-20T10:38:50.687Z"
   },
   {
    "duration": 25,
    "start_time": "2023-06-20T10:38:50.730Z"
   },
   {
    "duration": 24,
    "start_time": "2023-06-20T10:39:05.272Z"
   },
   {
    "duration": 10,
    "start_time": "2023-06-20T10:39:07.831Z"
   },
   {
    "duration": 34,
    "start_time": "2023-06-20T10:39:47.628Z"
   },
   {
    "duration": 12,
    "start_time": "2023-06-20T10:39:53.435Z"
   },
   {
    "duration": 19,
    "start_time": "2023-06-20T10:47:34.428Z"
   },
   {
    "duration": 11,
    "start_time": "2023-06-20T11:14:55.969Z"
   },
   {
    "duration": 9,
    "start_time": "2023-06-20T11:16:24.705Z"
   },
   {
    "duration": 16,
    "start_time": "2023-06-20T11:16:26.331Z"
   },
   {
    "duration": 6,
    "start_time": "2023-06-20T11:16:42.464Z"
   },
   {
    "duration": 13,
    "start_time": "2023-06-20T11:16:43.944Z"
   }
  ],
  "kernelspec": {
   "display_name": "Python 3 (ipykernel)",
   "language": "python",
   "name": "python3"
  },
  "language_info": {
   "codemirror_mode": {
    "name": "ipython",
    "version": 3
   },
   "file_extension": ".py",
   "mimetype": "text/x-python",
   "name": "python",
   "nbconvert_exporter": "python",
   "pygments_lexer": "ipython3",
   "version": "3.9.13"
  },
  "toc": {
   "base_numbering": 1,
   "nav_menu": {},
   "number_sections": true,
   "sideBar": true,
   "skip_h1_title": true,
   "title_cell": "Table of Contents",
   "title_sidebar": "Contents",
   "toc_cell": false,
   "toc_position": {
    "height": "calc(100% - 180px)",
    "left": "10px",
    "top": "150px",
    "width": "294.237px"
   },
   "toc_section_display": true,
   "toc_window_display": true
  }
 },
 "nbformat": 4,
 "nbformat_minor": 2
}
